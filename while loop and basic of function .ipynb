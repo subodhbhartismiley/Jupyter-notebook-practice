{
 "cells": [
  {
   "cell_type": "code",
   "execution_count": null,
   "id": "ca5da6f5",
   "metadata": {},
   "outputs": [],
   "source": [
    "a = 1 \n",
    "b = 10\n",
    "\n",
    "while a <=b :\n",
    "    \n",
    "    a = a +1\n",
    "    print(a)"
   ]
  },
  {
   "cell_type": "code",
   "execution_count": null,
   "id": "4867e9b0",
   "metadata": {},
   "outputs": [],
   "source": [
    "a = 1\n",
    "b = 10 \n",
    "while a <=b :\n",
    "    print(a)\n",
    "    a = a +2\n",
    "else :\n",
    "    print(\"print this else block\")"
   ]
  },
  {
   "cell_type": "code",
   "execution_count": null,
   "id": "3a6a91e2",
   "metadata": {},
   "outputs": [],
   "source": [
    "a = 1 \n",
    "b = 10 \n",
    "while a <10 :\n",
    "    print(a)\n",
    "    if a == 5:\n",
    "        break\n",
    "    a = a +1\n",
    "else :\n",
    "    print(\"print this \")"
   ]
  },
  {
   "cell_type": "code",
   "execution_count": null,
   "id": "c656bb34",
   "metadata": {},
   "outputs": [],
   "source": [
    "a = 1 \n",
    "b = 10 \n",
    "while a < b :\n",
    "    print(a)\n",
    "    if a == 3:\n",
    "        continue\n",
    "    a = a +1"
   ]
  },
  {
   "cell_type": "code",
   "execution_count": null,
   "id": "b5412f8f",
   "metadata": {},
   "outputs": [],
   "source": [
    "a = 1 \n",
    "b = 10 \n",
    "while a < b :\n",
    "    \n",
    "    a = a +1\n",
    "    if a == 3:\n",
    "        pass\n",
    "    print(a)"
   ]
  },
  {
   "cell_type": "code",
   "execution_count": null,
   "id": "926fdc9f",
   "metadata": {},
   "outputs": [],
   "source": [
    "l= [1,2,3,4,65,56]\n",
    "len(l)"
   ]
  },
  {
   "cell_type": "code",
   "execution_count": null,
   "id": "fbf4ef62",
   "metadata": {},
   "outputs": [],
   "source": [
    "for i in l :\n",
    "    print(i)"
   ]
  },
  {
   "cell_type": "code",
   "execution_count": null,
   "id": "9839f443",
   "metadata": {},
   "outputs": [],
   "source": [
    "a = 0\n",
    "while a < len(l):\n",
    "    print(l[a])\n",
    "    a= a +1    "
   ]
  },
  {
   "cell_type": "code",
   "execution_count": null,
   "id": "b0f5e62d",
   "metadata": {},
   "outputs": [],
   "source": [
    "t = (3,4,5,6,7,8,9)"
   ]
  },
  {
   "cell_type": "code",
   "execution_count": null,
   "id": "9a616c77",
   "metadata": {},
   "outputs": [],
   "source": [
    "t"
   ]
  },
  {
   "cell_type": "code",
   "execution_count": null,
   "id": "3d72b024",
   "metadata": {},
   "outputs": [],
   "source": [
    "a = 0 \n",
    "while a < len(t):\n",
    "    if t[a] == 6 or t[a] == 7 :\n",
    "        print(a)\n",
    "    a = a +1"
   ]
  },
  {
   "cell_type": "code",
   "execution_count": null,
   "id": "a9149c07",
   "metadata": {},
   "outputs": [],
   "source": [
    "a=0\n",
    "while a < len(t):\n",
    "    if t[a]==6 or t[a]==7:\n",
    "        print (a)\n",
    "    a = a-1\n"
   ]
  },
  {
   "cell_type": "code",
   "execution_count": null,
   "id": "5002e36b",
   "metadata": {},
   "outputs": [],
   "source": [
    "i = 0\n",
    "while  len(t) > i:\n",
    "    if t[i] == 6 or t[i] == 7:\n",
    "        print (\"index of \" + str(t[i]) + \" is \" +str(i))\n",
    "    i-=1\n"
   ]
  },
  {
   "cell_type": "code",
   "execution_count": null,
   "id": "40d43c36",
   "metadata": {},
   "outputs": [],
   "source": [
    "l=(3,4,5,6,7,8,9)\n",
    "i=0\n",
    "while i< len(l):\n",
    "    if(l[i]==6) or l[i]==7:\n",
    "        print(i)\n",
    "    if i == -len(l):\n",
    "        break\n",
    "    i-=1\n",
    "    #i = i-1\n"
   ]
  },
  {
   "cell_type": "code",
   "execution_count": null,
   "id": "669feeb5",
   "metadata": {},
   "outputs": [],
   "source": [
    "a=-1\n",
    "while a>=-len(t):\n",
    "    if t[a]==6 or t[a]==7 :\n",
    "        print('index of ',t[a], ' is ',a)\n",
    "    a=a-1\n"
   ]
  },
  {
   "cell_type": "code",
   "execution_count": null,
   "id": "33d8d422",
   "metadata": {},
   "outputs": [],
   "source": [
    "t = (6,4,5,6,7,8,6)"
   ]
  },
  {
   "cell_type": "code",
   "execution_count": null,
   "id": "595ea311",
   "metadata": {},
   "outputs": [],
   "source": [
    "d = {'k1' :\"sudh\" , \"k2\" :[1,2,3,4] , \"k3\" : (2,3,4,5)}"
   ]
  },
  {
   "cell_type": "code",
   "execution_count": null,
   "id": "0e0c9ccb",
   "metadata": {},
   "outputs": [],
   "source": [
    "d"
   ]
  },
  {
   "cell_type": "code",
   "execution_count": null,
   "id": "1e4e38d3",
   "metadata": {},
   "outputs": [],
   "source": [
    "a = 0 \n",
    "b = list(d.keys())\n",
    "while a < len(d):\n",
    "    print(d[b[a]])\n",
    "    \n",
    "    a = a+1\n",
    "    \n",
    "    "
   ]
  },
  {
   "cell_type": "code",
   "execution_count": null,
   "id": "ddd1a433",
   "metadata": {},
   "outputs": [],
   "source": [
    "b = list(d.keys())"
   ]
  },
  {
   "cell_type": "code",
   "execution_count": null,
   "id": "1c9a14a3",
   "metadata": {},
   "outputs": [],
   "source": [
    "b"
   ]
  },
  {
   "cell_type": "code",
   "execution_count": null,
   "id": "5f560469",
   "metadata": {},
   "outputs": [],
   "source": [
    "len()\n",
    "range()\n",
    "print\n",
    "keys\n",
    "values\n",
    "items\n",
    "append\n",
    "pop\n",
    "insert\n",
    "extend\n"
   ]
  },
  {
   "cell_type": "code",
   "execution_count": null,
   "id": "4954e85d",
   "metadata": {},
   "outputs": [],
   "source": [
    "#Function"
   ]
  },
  {
   "cell_type": "code",
   "execution_count": 43,
   "id": "4b59adad",
   "metadata": {},
   "outputs": [],
   "source": [
    "def test():\n",
    "    print(\"this is my first function\")"
   ]
  },
  {
   "cell_type": "code",
   "execution_count": 44,
   "id": "f9368e10",
   "metadata": {},
   "outputs": [
    {
     "name": "stdout",
     "output_type": "stream",
     "text": [
      "this is my first function\n"
     ]
    },
    {
     "data": {
      "text/plain": [
       "'None sudh'"
      ]
     },
     "execution_count": 44,
     "metadata": {},
     "output_type": "execute_result"
    }
   ],
   "source": [
    "str(test()) + \" sudh\""
   ]
  },
  {
   "cell_type": "code",
   "execution_count": 45,
   "id": "d0ab769f",
   "metadata": {},
   "outputs": [
    {
     "name": "stdout",
     "output_type": "stream",
     "text": [
      "this is my first function\n"
     ]
    },
    {
     "data": {
      "text/plain": [
       "NoneType"
      ]
     },
     "execution_count": 45,
     "metadata": {},
     "output_type": "execute_result"
    }
   ],
   "source": [
    "type(test())"
   ]
  },
  {
   "cell_type": "code",
   "execution_count": 53,
   "id": "bd527ed1",
   "metadata": {},
   "outputs": [],
   "source": [
    "def test1():\n",
    "    return \"this is my first fun\""
   ]
  },
  {
   "cell_type": "code",
   "execution_count": 54,
   "id": "1cfaf286",
   "metadata": {},
   "outputs": [
    {
     "data": {
      "text/plain": [
       "'this is my first fun sudh'"
      ]
     },
     "execution_count": 54,
     "metadata": {},
     "output_type": "execute_result"
    }
   ],
   "source": [
    "test1() + \" sudh\""
   ]
  },
  {
   "cell_type": "code",
   "execution_count": 55,
   "id": "78cb8e19",
   "metadata": {},
   "outputs": [],
   "source": [
    "def test2():\n",
    "    pass"
   ]
  },
  {
   "cell_type": "code",
   "execution_count": 56,
   "id": "7b18f2c2",
   "metadata": {},
   "outputs": [],
   "source": [
    "def test3() : \n",
    "    return 1,3 ,5 , [1,2,3,4,54,5]"
   ]
  },
  {
   "cell_type": "code",
   "execution_count": 73,
   "id": "709c4525",
   "metadata": {},
   "outputs": [],
   "source": [
    "a = test3()"
   ]
  },
  {
   "cell_type": "code",
   "execution_count": 74,
   "id": "8fcb9e47",
   "metadata": {},
   "outputs": [
    {
     "data": {
      "text/plain": [
       "(1, 3, 5, [1, 2, 3, 4, 54, 5])"
      ]
     },
     "execution_count": 74,
     "metadata": {},
     "output_type": "execute_result"
    }
   ],
   "source": [
    "a"
   ]
  },
  {
   "cell_type": "code",
   "execution_count": 71,
   "id": "2849f54c",
   "metadata": {},
   "outputs": [],
   "source": [
    "a = 10 \n",
    "b = 20\n",
    "c = 30"
   ]
  },
  {
   "cell_type": "code",
   "execution_count": 75,
   "id": "5bb47664",
   "metadata": {},
   "outputs": [],
   "source": [
    "a , b , _ , t =a"
   ]
  },
  {
   "cell_type": "code",
   "execution_count": 76,
   "id": "53bba7de",
   "metadata": {},
   "outputs": [
    {
     "data": {
      "text/plain": [
       "1"
      ]
     },
     "execution_count": 76,
     "metadata": {},
     "output_type": "execute_result"
    }
   ],
   "source": [
    "a"
   ]
  },
  {
   "cell_type": "code",
   "execution_count": 77,
   "id": "f485996c",
   "metadata": {},
   "outputs": [
    {
     "data": {
      "text/plain": [
       "3"
      ]
     },
     "execution_count": 77,
     "metadata": {},
     "output_type": "execute_result"
    }
   ],
   "source": [
    "b"
   ]
  },
  {
   "cell_type": "code",
   "execution_count": 78,
   "id": "52021d88",
   "metadata": {},
   "outputs": [
    {
     "data": {
      "text/plain": [
       "[1, 2, 3, 4, 54, 5]"
      ]
     },
     "execution_count": 78,
     "metadata": {},
     "output_type": "execute_result"
    }
   ],
   "source": [
    "t"
   ]
  },
  {
   "cell_type": "code",
   "execution_count": 79,
   "id": "3fb68959",
   "metadata": {},
   "outputs": [
    {
     "data": {
      "text/plain": [
       "5"
      ]
     },
     "execution_count": 79,
     "metadata": {},
     "output_type": "execute_result"
    }
   ],
   "source": [
    "_"
   ]
  },
  {
   "cell_type": "code",
   "execution_count": 85,
   "id": "6228154d",
   "metadata": {},
   "outputs": [],
   "source": [
    "a , b , _ ,_,_,_,_,_, t =( 23,45,56, 657,676,76,7,67,6)"
   ]
  },
  {
   "cell_type": "code",
   "execution_count": 87,
   "id": "be56cbbe",
   "metadata": {},
   "outputs": [
    {
     "data": {
      "text/plain": [
       "67"
      ]
     },
     "execution_count": 87,
     "metadata": {},
     "output_type": "execute_result"
    }
   ],
   "source": [
    "_           #takes recent value out of many"
   ]
  },
  {
   "cell_type": "code",
   "execution_count": 88,
   "id": "1c0eeb47",
   "metadata": {},
   "outputs": [],
   "source": [
    "a,b,c,d = test3()"
   ]
  },
  {
   "cell_type": "code",
   "execution_count": 89,
   "id": "492cc628",
   "metadata": {},
   "outputs": [
    {
     "data": {
      "text/plain": [
       "1"
      ]
     },
     "execution_count": 89,
     "metadata": {},
     "output_type": "execute_result"
    }
   ],
   "source": [
    "a"
   ]
  },
  {
   "cell_type": "code",
   "execution_count": 90,
   "id": "fc420ae5",
   "metadata": {},
   "outputs": [
    {
     "data": {
      "text/plain": [
       "3"
      ]
     },
     "execution_count": 90,
     "metadata": {},
     "output_type": "execute_result"
    }
   ],
   "source": [
    "b"
   ]
  },
  {
   "cell_type": "code",
   "execution_count": 91,
   "id": "6cbc18e3",
   "metadata": {},
   "outputs": [
    {
     "data": {
      "text/plain": [
       "5"
      ]
     },
     "execution_count": 91,
     "metadata": {},
     "output_type": "execute_result"
    }
   ],
   "source": [
    "c"
   ]
  },
  {
   "cell_type": "code",
   "execution_count": 92,
   "id": "c9a75ebd",
   "metadata": {},
   "outputs": [
    {
     "data": {
      "text/plain": [
       "[1, 2, 3, 4, 54, 5]"
      ]
     },
     "execution_count": 92,
     "metadata": {},
     "output_type": "execute_result"
    }
   ],
   "source": [
    "d"
   ]
  },
  {
   "cell_type": "code",
   "execution_count": 93,
   "id": "901a2e60",
   "metadata": {},
   "outputs": [],
   "source": [
    "def test4() : \n",
    "    a = 4*5\n",
    "    b = 6+4\n",
    "    return a , b"
   ]
  },
  {
   "cell_type": "code",
   "execution_count": 94,
   "id": "ec5d4ca9",
   "metadata": {},
   "outputs": [],
   "source": [
    "g = test4()"
   ]
  },
  {
   "cell_type": "code",
   "execution_count": 95,
   "id": "4d3dab97",
   "metadata": {},
   "outputs": [
    {
     "data": {
      "text/plain": [
       "(20, 10)"
      ]
     },
     "execution_count": 95,
     "metadata": {},
     "output_type": "execute_result"
    }
   ],
   "source": [
    "g"
   ]
  },
  {
   "cell_type": "code",
   "execution_count": 96,
   "id": "b37d399c",
   "metadata": {},
   "outputs": [],
   "source": [
    "j,k = test4()"
   ]
  },
  {
   "cell_type": "code",
   "execution_count": 97,
   "id": "3d70c304",
   "metadata": {},
   "outputs": [
    {
     "data": {
      "text/plain": [
       "20"
      ]
     },
     "execution_count": 97,
     "metadata": {},
     "output_type": "execute_result"
    }
   ],
   "source": [
    "j"
   ]
  },
  {
   "cell_type": "code",
   "execution_count": 98,
   "id": "2a7f78d3",
   "metadata": {},
   "outputs": [
    {
     "data": {
      "text/plain": [
       "10"
      ]
     },
     "execution_count": 98,
     "metadata": {},
     "output_type": "execute_result"
    }
   ],
   "source": [
    "k"
   ]
  },
  {
   "cell_type": "code",
   "execution_count": 99,
   "id": "5e807f08",
   "metadata": {},
   "outputs": [],
   "source": [
    "_ , m = test4()"
   ]
  },
  {
   "cell_type": "code",
   "execution_count": 100,
   "id": "7cc84866",
   "metadata": {},
   "outputs": [
    {
     "data": {
      "text/plain": [
       "10"
      ]
     },
     "execution_count": 100,
     "metadata": {},
     "output_type": "execute_result"
    }
   ],
   "source": [
    "m"
   ]
  },
  {
   "cell_type": "code",
   "execution_count": 101,
   "id": "3dda7e7c",
   "metadata": {},
   "outputs": [
    {
     "data": {
      "text/plain": [
       "20"
      ]
     },
     "execution_count": 101,
     "metadata": {},
     "output_type": "execute_result"
    }
   ],
   "source": [
    "_"
   ]
  },
  {
   "cell_type": "code",
   "execution_count": 102,
   "id": "f667c7d7",
   "metadata": {},
   "outputs": [
    {
     "data": {
      "text/plain": [
       "(1, 3, 5, [1, 2, 3, 4, 54, 5])"
      ]
     },
     "execution_count": 102,
     "metadata": {},
     "output_type": "execute_result"
    }
   ],
   "source": [
    "test3()"
   ]
  },
  {
   "cell_type": "code",
   "execution_count": 103,
   "id": "21fab201",
   "metadata": {},
   "outputs": [],
   "source": [
    "_ ,_ , _ , g = test3()"
   ]
  },
  {
   "cell_type": "code",
   "execution_count": 104,
   "id": "a414ced0",
   "metadata": {},
   "outputs": [
    {
     "data": {
      "text/plain": [
       "[1, 2, 3, 4, 54, 5]"
      ]
     },
     "execution_count": 104,
     "metadata": {},
     "output_type": "execute_result"
    }
   ],
   "source": [
    "g"
   ]
  },
  {
   "cell_type": "code",
   "execution_count": 108,
   "id": "cbd5bdac",
   "metadata": {},
   "outputs": [
    {
     "name": "stdout",
     "output_type": "stream",
     "text": [
      "1\n",
      "3\n",
      "5\n",
      "7\n",
      "9\n",
      "print this else block\n"
     ]
    }
   ],
   "source": [
    "a = 1\n",
    "b = 10 \n",
    "while a <=b :\n",
    "    print(a)\n",
    "    a = a +2\n",
    "else :\n",
    "    print(\"print this else block\")"
   ]
  },
  {
   "cell_type": "code",
   "execution_count": 109,
   "id": "ab47f358",
   "metadata": {},
   "outputs": [],
   "source": [
    "def test5() : \n",
    "    a  = 1\n",
    "    b = 10 \n",
    "    while a <=b :\n",
    "        print(a)\n",
    "        a = a +2\n",
    "    else :\n",
    "        print(\"print this else block\")\n",
    "    "
   ]
  },
  {
   "cell_type": "code",
   "execution_count": 110,
   "id": "dc3ada61",
   "metadata": {},
   "outputs": [
    {
     "name": "stdout",
     "output_type": "stream",
     "text": [
      "1\n",
      "3\n",
      "5\n",
      "7\n",
      "9\n",
      "print this else block\n"
     ]
    }
   ],
   "source": [
    "test5()"
   ]
  },
  {
   "cell_type": "code",
   "execution_count": 111,
   "id": "024f29e5",
   "metadata": {},
   "outputs": [
    {
     "name": "stdout",
     "output_type": "stream",
     "text": [
      "1\n",
      "3\n",
      "5\n",
      "7\n",
      "9\n",
      "print this else block\n"
     ]
    }
   ],
   "source": [
    "test5()"
   ]
  },
  {
   "cell_type": "code",
   "execution_count": 112,
   "id": "02556f4f",
   "metadata": {},
   "outputs": [
    {
     "name": "stdout",
     "output_type": "stream",
     "text": [
      "1\n",
      "3\n",
      "5\n",
      "7\n",
      "9\n",
      "print this else block\n"
     ]
    }
   ],
   "source": [
    "test5()"
   ]
  },
  {
   "cell_type": "code",
   "execution_count": 113,
   "id": "81e349b4",
   "metadata": {},
   "outputs": [
    {
     "name": "stdout",
     "output_type": "stream",
     "text": [
      "1\n",
      "3\n",
      "5\n",
      "7\n",
      "9\n",
      "print this else block\n"
     ]
    }
   ],
   "source": [
    "test5()"
   ]
  },
  {
   "cell_type": "code",
   "execution_count": 114,
   "id": "19c27ab4",
   "metadata": {},
   "outputs": [],
   "source": [
    "def test5(a,b) : \n",
    "    l = []\n",
    "    while a <=b :\n",
    "        #print(a)\n",
    "        l.append(a)\n",
    "        a = a +2\n",
    "    \n",
    "    else :\n",
    "        print( \"print this else block\")\n",
    "    return l\n",
    "    "
   ]
  },
  {
   "cell_type": "code",
   "execution_count": 115,
   "id": "cdf28017",
   "metadata": {},
   "outputs": [
    {
     "name": "stdout",
     "output_type": "stream",
     "text": [
      "print this else block\n"
     ]
    },
    {
     "data": {
      "text/plain": [
       "[1, 3, 5, 7, 9]"
      ]
     },
     "execution_count": 115,
     "metadata": {},
     "output_type": "execute_result"
    }
   ],
   "source": [
    "test5(1,10)"
   ]
  },
  {
   "cell_type": "code",
   "execution_count": 116,
   "id": "7066ffd2",
   "metadata": {},
   "outputs": [
    {
     "name": "stdout",
     "output_type": "stream",
     "text": [
      "print this else block\n"
     ]
    },
    {
     "data": {
      "text/plain": [
       "list"
      ]
     },
     "execution_count": 116,
     "metadata": {},
     "output_type": "execute_result"
    }
   ],
   "source": [
    "type(test5(30,2))"
   ]
  },
  {
   "cell_type": "code",
   "execution_count": 117,
   "id": "ca7970d8",
   "metadata": {},
   "outputs": [],
   "source": [
    "l = [4,5,6,67,7,8,8,9,9,9, [3,4,5,6,7,7] , \"sudh\"]"
   ]
  },
  {
   "cell_type": "code",
   "execution_count": 118,
   "id": "6485e937",
   "metadata": {},
   "outputs": [],
   "source": [
    "l1 = []\n",
    "for i in l :\n",
    "    if type(i) == int:\n",
    "        l1.append(i)"
   ]
  },
  {
   "cell_type": "code",
   "execution_count": 119,
   "id": "3fb0b6fc",
   "metadata": {},
   "outputs": [
    {
     "data": {
      "text/plain": [
       "[4, 5, 6, 67, 7, 8, 8, 9, 9, 9]"
      ]
     },
     "execution_count": 119,
     "metadata": {},
     "output_type": "execute_result"
    }
   ],
   "source": [
    "l1"
   ]
  },
  {
   "cell_type": "code",
   "execution_count": 122,
   "id": "614d67d7",
   "metadata": {},
   "outputs": [],
   "source": [
    "def test7() : \n",
    "    l1 = []\n",
    "    for i in l :\n",
    "        if type(i) == int:\n",
    "            l1.append(i)\n",
    "    return l1\n",
    "    "
   ]
  },
  {
   "cell_type": "code",
   "execution_count": 123,
   "id": "415859ef",
   "metadata": {},
   "outputs": [
    {
     "data": {
      "text/plain": [
       "[4, 5, 6, 67, 7, 8, 8, 9, 9, 9]"
      ]
     },
     "execution_count": 123,
     "metadata": {},
     "output_type": "execute_result"
    }
   ],
   "source": [
    "test7()"
   ]
  },
  {
   "cell_type": "code",
   "execution_count": 128,
   "id": "a161cd85",
   "metadata": {},
   "outputs": [],
   "source": [
    "l3 = [345,45,5,[5,6,5],\"sudh\",(4,6,6)]"
   ]
  },
  {
   "cell_type": "code",
   "execution_count": 129,
   "id": "081f0bcc",
   "metadata": {},
   "outputs": [],
   "source": [
    "def test7(l) : \n",
    "    l1 = []\n",
    "    for i in l :\n",
    "        if type(i) == int:\n",
    "            l1.append(i)\n",
    "    return l1\n",
    "    "
   ]
  },
  {
   "cell_type": "code",
   "execution_count": 130,
   "id": "d8fd990a",
   "metadata": {},
   "outputs": [
    {
     "data": {
      "text/plain": [
       "[345, 45, 5]"
      ]
     },
     "execution_count": 130,
     "metadata": {},
     "output_type": "execute_result"
    }
   ],
   "source": [
    "test7(l3)"
   ]
  },
  {
   "cell_type": "code",
   "execution_count": 133,
   "id": "befb05f0",
   "metadata": {},
   "outputs": [
    {
     "name": "stdout",
     "output_type": "stream",
     "text": [
      "index of  7  is  -2\n",
      "index of  6  is  -4\n"
     ]
    }
   ],
   "source": [
    "t = (3,4,5,6,67,7,87,)\n",
    "a=-1\n",
    "while a>=-len(t):\n",
    "    if t[a]==6 or t[a]==7 :\n",
    "        print('index of ',t[a], ' is ',a)\n",
    "    a=a-1"
   ]
  },
  {
   "cell_type": "code",
   "execution_count": 134,
   "id": "e0a34bd4",
   "metadata": {},
   "outputs": [],
   "source": [
    "def test8(t):\n",
    "    a=-1\n",
    "    while a>=-len(t):\n",
    "        if t[a]==6 or t[a]==7 :\n",
    "            print('index of ',t[a], ' is ',a)\n",
    "        a=a-1\n",
    "    "
   ]
  },
  {
   "cell_type": "code",
   "execution_count": 135,
   "id": "e827b597",
   "metadata": {},
   "outputs": [
    {
     "name": "stdout",
     "output_type": "stream",
     "text": [
      "index of  7  is  -2\n",
      "index of  6  is  -4\n"
     ]
    }
   ],
   "source": [
    "test8(t)"
   ]
  },
  {
   "cell_type": "code",
   "execution_count": 136,
   "id": "bc639147",
   "metadata": {},
   "outputs": [
    {
     "name": "stdout",
     "output_type": "stream",
     "text": [
      "index of  7  is  -2\n",
      "index of  7  is  -3\n",
      "index of  7  is  -4\n",
      "index of  6  is  -5\n",
      "index of  6  is  -6\n"
     ]
    }
   ],
   "source": [
    "test8((3,4,4,6,6,7,7,7,88))"
   ]
  },
  {
   "cell_type": "code",
   "execution_count": null,
   "id": "d10e484b",
   "metadata": {},
   "outputs": [],
   "source": [
    "Your First Challenge : \n",
    "    \n",
    "you have to submit it by next saturday 4th june 2022  : \n",
    "    shivan@ineuron.ai ,sudhanshu@ineuron.ai\n",
    "    \n",
    "q1 : Try to print this by using while loop \n",
    "* \n",
    "* * \n",
    "* * * \n",
    "* * * * \n",
    "* * * * * \n",
    "* * * * * * \n",
    "* * * * * * * \n",
    "* * * * * * * * \n",
    "* * * * * * * * * \n",
    "\n",
    "q2 : try to print below by using while loop : \n",
    "        \n",
    "A\n",
    "B H \n",
    "C I N\n",
    "D J o S\n",
    "E K p T W\n",
    "F L Q U X z\n",
    "G M R V Y \n",
    "\n",
    "q3 : Try to print all the number divisible by 3 in between a range of 40 - 400\n",
    "    \n",
    "q4 : Try to filter out all the vowels form below text by using while loop : \n",
    " \"\"\"Python is a high-level, interpreted, general-purpose programming language. Its design philosophy emphasizes code readability with the use of significant indentation.[32]\n",
    "\n",
    "Python is dynamically-typed and garbage-collected. It supports multiple programming paradigms, including structured (particularly procedural), object-oriented and functional programming. It is often described as a \"batteries included\" language due to its comprehensive standard library.[33][34]\n",
    "\n",
    "Guido van Rossum began working on Python in the late 1980s as a successor to the ABC programming language and first released it in 1991 as Python 0.9.0.[35] Python 2.0 was released in 2000 and introduced new features such as list comprehensions, cycle-detecting garbage collection, reference counting, and Unicode support. Python 3.0, released in 2008, was a major revision that is not completely backward-compatible with earlier versions. Python 2 was discontinued with version 2.7.18 in 2020.[36]\n",
    "\n",
    "Python consistently ranks as one of the most popular programming languagesc\"\"\" \n",
    "\n",
    "\n",
    "q5 : Try to generate all the even number between 1- 1000\n",
    "\n",
    "q6 : Define a function for all the above problem statememnt  . \n",
    "    \n",
    "q7 : write a code to get a time of your system \n",
    "\n",
    "q8 : Write a code to fetch date form your system \n",
    "\n",
    "q9 : Write a code to send a mail to your friend \n",
    "\n",
    "q10 : write a code to trigger alarm for you at scheduled time \n",
    "\n",
    "q11 : write a code to check ip address of your system \n",
    "\n",
    "q12 : Write a code to check a perticular installation in your system\n",
    "\n",
    "q13 : Write a code to convert any text in to voice \n",
    "\n",
    "q14 : you have to write a fun which will take string and return a len of \n",
    "it without using a inbuilt fun len\n",
    "\n",
    "q15 :write a fun which will be able to print an index of all premitive element which you will pass \n",
    "\n",
    "q16 : Write a fun which will take input as a dict and give me out as a list of all the values \n",
    "even in case of 2 level nesting it should work . \n",
    "\n",
    "q17 : write a function whihc will take multiple list as a input and give me concatnation of all the element as \n",
    "and output\n",
    "\n",
    "q18 : Write a function which will whould return list of all the file name from a directory . \n",
    "\n",
    "q19 : write a function whihc will be able to read a image file and show it to you .\n",
    "    \n",
    "q20 : write a function by which you will be able to append two PDF files . \n",
    "    \n",
    "q21 : write a function which can help you to filter only word file from a directory . \n",
    "    \n",
    "q22 : write a function which can read video file and play for you . \n",
    "    \n",
    "q23 : write a function which will be able to shutdonw your system . \n",
    "\n",
    "q24 : Write a function which will whould return list of all the file name from a directory . \n",
    "\n",
    "q25 : write a function whihc will be able to access your mail . \n",
    "        "
   ]
  },
  {
   "cell_type": "code",
   "execution_count": 137,
   "id": "3a49496f",
   "metadata": {},
   "outputs": [
    {
     "name": "stdout",
     "output_type": "stream",
     "text": [
      "1\n",
      "2\n",
      "3\n",
      "4\n",
      "2\n",
      "3\n",
      "4\n",
      "5\n",
      "6\n",
      "3\n",
      "4\n",
      "5\n",
      "6\n",
      "7\n",
      "45\n",
      "4\n",
      "5\n",
      "23\n",
      "3\n",
      "6\n",
      "7\n",
      "8\n"
     ]
    }
   ],
   "source": [
    "l = [[1,2,3,4], (2,3,4,5,6), (3,4,5,6,7), set([23,4,5,45,4,4,5,45,45,4,5]), {'k1' : \"sudh\", \"k2\" : \"ineuron\", \"k3\" : \"kumar\", 3:6, 7:8}, [\"ineuron\", \"data science\"]]\n",
    "for i in l :\n",
    "    if type(i) == set or type(i) == list or type(i) == str or  type(i) == tuple :\n",
    "        for j in i :\n",
    "            if type(j) == int :\n",
    "                print(j)\n",
    "    if type(i) == dict :\n",
    "        for j in i.items() : \n",
    "            for k in j :\n",
    "                if type(k) == int :\n",
    "                    print(k)\n"
   ]
  },
  {
   "cell_type": "code",
   "execution_count": null,
   "id": "3f616f2b",
   "metadata": {},
   "outputs": [],
   "source": [
    "a = -1\n",
    "while a >= -len(t) :\n",
    "         print(a)\n",
    "         a = a -1\n"
   ]
  },
  {
   "cell_type": "code",
   "execution_count": null,
   "id": "35accc25",
   "metadata": {},
   "outputs": [],
   "source": [
    "t"
   ]
  },
  {
   "cell_type": "code",
   "execution_count": null,
   "id": "ac01cf42",
   "metadata": {},
   "outputs": [],
   "source": [
    "l=[[1,2,3,4],(2,3,4,5,6),(3,4,5,6,7),set([23,4,5,45,4,4,45,45,4,5]), \n",
    "   {\"k1\":\"sudh\",\"k2\":\"ineuron\",\"k3\":\"kumar\",3:6,7:8},[\"neuron\",\"datascience\"]]\n",
    "l2 = 0 \n",
    "for i in range(0,len(l)):\n",
    "    if type(l[i])==list:\n",
    "        for j in range(0,len(l[i])):\n",
    "            if type(l[i][j])==int:\n",
    "                l2=l2+l[i][j]\n",
    "    if type(l[i])==tuple:\n",
    "            for j in range(0,len(l[i])):\n",
    "                if type(l[i][j])==int:\n",
    "                    l2=l2+l[i][j]\n",
    "    if type(l[i])==set:\n",
    "        l1=list(l[i])\n",
    "        for j in range(0,len(l1)):\n",
    "            l2=l2+l1[j]\n",
    "    print(l2)"
   ]
  },
  {
   "cell_type": "code",
   "execution_count": null,
   "id": "a04cbb9e",
   "metadata": {},
   "outputs": [],
   "source": [
    "l =  [1,2,3,4,5,6,7,[1,2,3,4]]"
   ]
  },
  {
   "cell_type": "code",
   "execution_count": null,
   "id": "97297a0a",
   "metadata": {},
   "outputs": [],
   "source": [
    "def test7():\n",
    "    l1=[]\n",
    "    for i in l :\n",
    "        if type(i) == int:\n",
    "            l1.append(i)\n",
    "    return l1\n",
    "\n"
   ]
  },
  {
   "cell_type": "code",
   "execution_count": null,
   "id": "31a434d6",
   "metadata": {},
   "outputs": [],
   "source": [
    "test7()"
   ]
  },
  {
   "cell_type": "code",
   "execution_count": null,
   "id": "cb17a238",
   "metadata": {},
   "outputs": [],
   "source": [
    "c=[1, 2, 3, 4, 2, 3, 4, 5, 6, 3, 4, 5, 6, 7, 45, 4, 5, 23, 'ineuron', 'data science', 'k1', 'sudh', 'k2', 'ineuron', 'k3', 'kumar', 3, 6, 7, 8]\n",
    "l13=[]\n",
    "for i in range(len(c)):\n",
    "    if type(c[i]) == str:\n",
    "        if c[i].isalnum() == True:\n",
    "            l13.append(c[i])\n",
    "l13\n"
   ]
  },
  {
   "cell_type": "code",
   "execution_count": null,
   "id": "a94db432",
   "metadata": {},
   "outputs": [],
   "source": [
    "l = [[1, 2, 3, 4], (2, 3, 4, 5, 6), (3, 4, 5, 6, 7), {5, 4, 45, 23}, {'k1': 'sudh', 'k2': 'ineuron', 'k3': 'kumar', 3: 6, 7: 8}, ['ineuron', 'data science']]\n",
    "\n",
    "l11=[]\n",
    "for i in range(len(l)):\n",
    "    if type(l[i])==dict:\n",
    "        for k,v in l[i].items():\n",
    "            if type(k) == int:\n",
    "                l11.append(k)\n",
    "l11\n"
   ]
  },
  {
   "cell_type": "code",
   "execution_count": null,
   "id": "a21b60ff",
   "metadata": {},
   "outputs": [],
   "source": [
    "d = {'k1': 'sudh', 'k2': 'ineuron', 'k3': 'kumar', 3: 6, 7: 8}"
   ]
  },
  {
   "cell_type": "code",
   "execution_count": null,
   "id": "9ef51f4f",
   "metadata": {},
   "outputs": [],
   "source": [
    "d.items()"
   ]
  },
  {
   "cell_type": "code",
   "execution_count": null,
   "id": "c5fc5b32",
   "metadata": {},
   "outputs": [],
   "source": [
    "a  , b = ('k1', 'sudh')"
   ]
  },
  {
   "cell_type": "code",
   "execution_count": null,
   "id": "8a19ddc8",
   "metadata": {},
   "outputs": [],
   "source": [
    "a"
   ]
  },
  {
   "cell_type": "code",
   "execution_count": null,
   "id": "ac42ffca",
   "metadata": {},
   "outputs": [],
   "source": [
    "b "
   ]
  },
  {
   "cell_type": "code",
   "execution_count": null,
   "id": "04ea1f9c",
   "metadata": {},
   "outputs": [],
   "source": [
    "len()"
   ]
  },
  {
   "cell_type": "code",
   "execution_count": null,
   "id": "0cd4e1d7",
   "metadata": {},
   "outputs": [],
   "source": [
    "h = {\"k1\" : \"Roni\", \"k2\" : [1,2,3,4] , \"k3\" : (2,3,4,5)}\n",
    "a=0\n",
    "b = list(h.keys())\n",
    "while a < len(h) :\n",
    "    print(h[b[a]])\n",
    "    a = a + 1\n"
   ]
  },
  {
   "cell_type": "code",
   "execution_count": null,
   "id": "08528f90",
   "metadata": {},
   "outputs": [],
   "source": [
    "l = [345,45,5,5,6,5, \"sudh\",(4,5,6)]\n",
    "def test9():\n",
    "    l1 = []\n",
    "    for i in l :\n",
    "        if type(i) == int:\n",
    "            l1.append(i)\n",
    "    return l1\n"
   ]
  },
  {
   "cell_type": "code",
   "execution_count": null,
   "id": "5ef390c3",
   "metadata": {},
   "outputs": [],
   "source": [
    "test9()"
   ]
  },
  {
   "cell_type": "code",
   "execution_count": null,
   "id": "4dc992eb",
   "metadata": {},
   "outputs": [],
   "source": [
    "l=[[1,2,3,4],(2,3,4,5,6),(3,4,5,6,7),set([23,4,5,45,4,4,5,45,45,4,5]),{'k1':\"sudh\",\"k2\":\"ineuron\",\"k3\":\"kumar\",3:6,7:8},\n",
    "   [\"ineuron\",\"data science\"]]\n"
   ]
  },
  {
   "cell_type": "code",
   "execution_count": null,
   "id": "0cf168f5",
   "metadata": {},
   "outputs": [],
   "source": [
    "set([23,4,5,45,4,4,5,45,45,4,5])"
   ]
  },
  {
   "cell_type": "code",
   "execution_count": null,
   "id": "40bf261f",
   "metadata": {},
   "outputs": [],
   "source": [
    "import math\n",
    "\n",
    "n2=5\n",
    "str=\"ineuron\"\n",
    "middle=math.floor(n2/2) if n2%2==0 else math.ceil(n2/2)\n",
    "# first half\n",
    "for l in range(1,n2+1):\n",
    "    if l<=middle:\n",
    "        k=middle-l\n",
    "        for i in range(k):\n",
    "            print(\" \"*len(str),end=\" \")\n",
    "        print((str+\" \"+\" \"*len(str)+\" \")*l)\n",
    "    else: # last half in reverse order\n",
    "        r_spc=l-middle\n",
    "        r= n2-l+1 #(5+1-4,5+1-5)\n",
    "        for r2 in range(r):\n",
    "            print(\" \"*len(str)*r_spc,str,end= \" \")\n",
    "        print(\"\\n\")"
   ]
  },
  {
   "cell_type": "code",
   "execution_count": null,
   "id": "fe148b05",
   "metadata": {},
   "outputs": [],
   "source": [
    "def a():\n",
    "    l1=l\n",
    "    l1.append(20)\n",
    "    print(l,l1)\n",
    "l=[1,2]\n",
    "a()\n"
   ]
  },
  {
   "cell_type": "code",
   "execution_count": null,
   "id": "fe79bed5",
   "metadata": {},
   "outputs": [],
   "source": [
    "l=[1,2,3,4,5,'sudh',234.45]\n",
    "for i in l:\n",
    "    if type(i)==str:\n",
    "        if i=='d':\n",
    "            break\n",
    "        print(i)\n",
    "        \n"
   ]
  },
  {
   "cell_type": "code",
   "execution_count": null,
   "id": "04b7cc2a",
   "metadata": {},
   "outputs": [],
   "source": [
    "# did i made mistake in this code.? why its not break at 'd'  ?       \n",
    "\n",
    "\n",
    "a='sudh'\n",
    "\n",
    "for i in a:\n",
    "    if i=='d':\n",
    "        break\n",
    "    print(i)\n"
   ]
  },
  {
   "cell_type": "code",
   "execution_count": null,
   "id": "41f49c8e",
   "metadata": {},
   "outputs": [],
   "source": [
    "l=[1,2,3,4,5,'sudh',234.45]\n",
    "for i in l:\n",
    "    if type(i)==str:\n",
    "        for j in i :\n",
    "            if i=='d':\n",
    "                break\n",
    "            print(i)"
   ]
  },
  {
   "cell_type": "code",
   "execution_count": null,
   "id": "4d152b14",
   "metadata": {},
   "outputs": [],
   "source": [
    "a='sudh'\n",
    "\n",
    "for i in a:\n",
    "    if i=='d':\n",
    "        break\n",
    "    print(i)\n"
   ]
  },
  {
   "cell_type": "code",
   "execution_count": null,
   "id": "4ec441b3",
   "metadata": {},
   "outputs": [],
   "source": [
    "a=\"*\"\n",
    "i=1\n",
    "while i<5:\n",
    "    print(a)\n",
    "    i+=1\n",
    "    a+=\"*\"\n",
    "while i>0:\n",
    "    print(a[:i])\n",
    "    i-=1\n",
    "    #a-=\"*\"\n",
    "    #a.replace(\"*\", \"\")"
   ]
  },
  {
   "cell_type": "code",
   "execution_count": null,
   "id": "ea287ee4",
   "metadata": {},
   "outputs": [],
   "source": [
    "a=1\n",
    "b=10\n",
    "while a<b:\n",
    "    a+=1\n",
    "    if a==3:\n",
    "        continue #give control to loop immediately\n",
    "    print(a)\n"
   ]
  },
  {
   "cell_type": "code",
   "execution_count": null,
   "id": "bdc596e4",
   "metadata": {},
   "outputs": [],
   "source": [
    "if a dictionary is stored in spam what is the difference between the expression 'cat' and in spam and 'cat' in in spam.keys()?\n",
    "spam={'bar':100}\n"
   ]
  },
  {
   "cell_type": "code",
   "execution_count": null,
   "id": "e2444f7a",
   "metadata": {},
   "outputs": [],
   "source": [
    "n=3\n",
    "for i in range(n):\n",
    " for j in range (n-i):\n",
    "     print('    ',end='')\n",
    " for j in range (i+1):\n",
    "     print(' ineuron ',end='')\n",
    " print()\n",
    "for i in range(n):\n",
    "    for j in range(i+1):\n",
    "        print('    ',end='')\n",
    "    for j in range (n-i):\n",
    "        print(' ineuron ',end='')\n",
    "    print()"
   ]
  },
  {
   "cell_type": "code",
   "execution_count": null,
   "id": "92ff6814",
   "metadata": {},
   "outputs": [],
   "source": [
    "l1=[]\n",
    "for i in l:\n",
    "    if type(i)==list or type(i)==tuple or type(i)==set:\n",
    "        for j in i:\n",
    "              l1.append(str(j))\n",
    "    if type(i)==dict:\n",
    "        for k,v in i.items():\n",
    "                l1.append(str(k))\n",
    "                l1.append(str(v))\n",
    "l1\n",
    "for w in l1:\n",
    "    if w.isalnum():\n",
    "        print(w)\n",
    "\n"
   ]
  },
  {
   "cell_type": "code",
   "execution_count": null,
   "id": "509d9eb8",
   "metadata": {},
   "outputs": [],
   "source": [
    "def test8(t):\n",
    "        a = 0\n",
    "        while a >-len(t):\n",
    "            if t[a] == 6 or t[a] == 7:\n",
    "                return (a+len(t))*-1         \n",
    "            a= a-1"
   ]
  },
  {
   "cell_type": "code",
   "execution_count": null,
   "id": "6038222e",
   "metadata": {},
   "outputs": [],
   "source": [
    "test8((1,5,6,7,8,22,4,455,66,43))\n",
    "\n"
   ]
  },
  {
   "cell_type": "code",
   "execution_count": null,
   "id": "e258890d",
   "metadata": {},
   "outputs": [],
   "source": [
    "l = [4,5,6,67,7,8,8,9,9,9, [3,4,5,6,7,7], 'sudh']\n",
    "\n",
    "def extract(fromList):\n",
    "    \n",
    "    extractedList = []\n",
    "    listLen = len(fromList)\n",
    "\n",
    "    outerLoop = 0\n",
    "    while outerLoop < listLen :\n",
    "        \n",
    "        if type(outerLoop) == int :\n",
    "            extractedList.append(fromList[outerLoop])\n",
    "\n",
    "        elif type(outerLoop) == list or type(outerLoop) == tuple or type(outerLoop) == set :\n",
    "            innerLoop = 0\n",
    "            while innerLoop < outerLoop :\n",
    "            \n",
    "                if type(innerLoop) == int :\n",
    "                    extractedList.append(fromList[innerLoop])\n",
    "                innerLoop += 1\n",
    "        else :\n",
    "            pass\n",
    "        \n",
    "        outerLoop += 1\n",
    "        \n",
    "    else :\n",
    "#         print(\"Else Block\")\n",
    "#         print(extractedList)\n",
    "        return extractedList\n",
    "\n",
    "listL = extract(l)\n",
    "print(listL)\n"
   ]
  },
  {
   "cell_type": "code",
   "execution_count": null,
   "id": "abfadadd",
   "metadata": {},
   "outputs": [],
   "source": [
    "t = (3,4,5,6,7,8,9)\n",
    "a = 0\n",
    "while a < len(t):\n",
    "    \n",
    "    if t[a] == 6 or t[a] == 7:\n",
    "        print(a)\n",
    "    a= a+1"
   ]
  },
  {
   "cell_type": "code",
   "execution_count": null,
   "id": "9a80729f",
   "metadata": {},
   "outputs": [],
   "source": [
    "len(t)"
   ]
  },
  {
   "cell_type": "code",
   "execution_count": null,
   "id": "2fe113e3",
   "metadata": {},
   "outputs": [],
   "source": [
    "s = \"ineuron\" \n",
    "for i in range(len(s)-1,-1,-1):  # ask about this\n",
    "    print(i,s[i])\n"
   ]
  },
  {
   "cell_type": "code",
   "execution_count": null,
   "id": "a9cbfcee",
   "metadata": {},
   "outputs": [],
   "source": [
    "a=1\n",
    "b=10\n",
    "while a<10:\n",
    "    print(a)\n",
    "    if a==5:\n",
    "        break\n",
    "    a=a+1\n",
    "else:\n",
    "    print(\"jjjj\")\n"
   ]
  },
  {
   "cell_type": "code",
   "execution_count": null,
   "id": "7914a2ea",
   "metadata": {},
   "outputs": [],
   "source": [
    "a=1\n",
    "b=10\n",
    "while a<10:\n",
    "    print(a)\n",
    "    if a==5:\n",
    "        break\n",
    "    a=a+1\n",
    "else:\n",
    "    print(\"jjjj\")\n"
   ]
  },
  {
   "cell_type": "code",
   "execution_count": null,
   "id": "a4b00bae",
   "metadata": {},
   "outputs": [],
   "source": [
    "l = [[1,2,3,4],(2,3,4,5,6),(3,4,5,6,7),set([23,4,5,45,4,4,5,45,45,4,5]),{'k1':'sudh','k2':'ineuron','k3':'kumar',3:6,7:8},['ineuron','data science']]\n",
    "\n",
    "for i in l:\n",
    "    m = 1\n",
    "    if type(i) == tuple or type(i) == list or type(i) == set :\n",
    "        for j in i:\n",
    "            if type(j) == int:\n",
    "                m *= j\n",
    "        print('Multipilcation of',type(i),'is',m)\n",
    "    if type(i) == dict:\n",
    "        for k,v in i.items():\n",
    "            if type(k) == int and type(v) == int:\n",
    "                m = m * k\n",
    "                m = m * v\n",
    "        print('Multipilcation of',type(i),'is',m)           \n"
   ]
  },
  {
   "cell_type": "code",
   "execution_count": null,
   "id": "add8c47a",
   "metadata": {},
   "outputs": [],
   "source": []
  }
 ],
 "metadata": {
  "kernelspec": {
   "display_name": "Python 3 (ipykernel)",
   "language": "python",
   "name": "python3"
  },
  "language_info": {
   "codemirror_mode": {
    "name": "ipython",
    "version": 3
   },
   "file_extension": ".py",
   "mimetype": "text/x-python",
   "name": "python",
   "nbconvert_exporter": "python",
   "pygments_lexer": "ipython3",
   "version": "3.9.12"
  }
 },
 "nbformat": 4,
 "nbformat_minor": 5
}
