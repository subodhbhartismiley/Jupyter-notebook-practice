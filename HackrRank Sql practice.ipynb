{
 "cells": [
  {
   "cell_type": "markdown",
   "id": "31a4af55",
   "metadata": {},
   "source": [
    "## HackerRank run on MySQL"
   ]
  },
  {
   "cell_type": "code",
   "execution_count": null,
   "id": "55632cd8",
   "metadata": {},
   "outputs": [],
   "source": [
    "/* \n",
    "this is sql comment\n",
    "\n",
    "    Enter your query here and follow these instructions:\n",
    "    1. Please append a semicolon \";\" at the end of the query and enter your query in a single line to avoid error.\n",
    "    2. The AS keyword causes errors, so follow this convention: \"Select t.Field From table1 t\" instead of \"select t.Field From table1 AS t\"\n",
    "    3. Type your code immediately after comment. Don't leave any blank line.\n",
    "*/\n",
    "#Query a count of the number of cities in CITY having a Population larger than .\n",
    "select count(*) from CITY where population>100000;"
   ]
  },
  {
   "cell_type": "code",
   "execution_count": null,
   "id": "8317bc6b",
   "metadata": {},
   "outputs": [],
   "source": [
    "# Query the total population of all cities in CITY where District is California.\n",
    "select sum(population) from city\n",
    "where district ='California';"
   ]
  },
  {
   "cell_type": "code",
   "execution_count": null,
   "id": "52fa8847",
   "metadata": {},
   "outputs": [],
   "source": [
    "# Query the average population of all cities in CITY where District is California.\n",
    "select avg(population) from city\n",
    "where district ='California';"
   ]
  },
  {
   "cell_type": "code",
   "execution_count": null,
   "id": "671480ab",
   "metadata": {},
   "outputs": [],
   "source": [
    "# Query the average population for all cities in CITY, rounded down to the nearest integer.\n",
    "select floor(avg(population)) from city;"
   ]
  },
  {
   "cell_type": "code",
   "execution_count": null,
   "id": "f9f11e1f",
   "metadata": {},
   "outputs": [],
   "source": [
    "# Query the sum of the populations for all Japanese cities in CITY. The COUNTRYCODE for Japan is JPN.\n",
    "select sum(population) from city where countrycode='JPN';"
   ]
  },
  {
   "cell_type": "code",
   "execution_count": null,
   "id": "8e2f4138",
   "metadata": {},
   "outputs": [],
   "source": [
    "# Query the difference between the maximum and minimum populations in CITY.\n",
    "select max(population)-min(population) from city;"
   ]
  },
  {
   "cell_type": "code",
   "execution_count": null,
   "id": "4da518d3",
   "metadata": {},
   "outputs": [],
   "source": [
    "# \n",
    "/* \n",
    "Samantha was tasked with calculating the average monthly salaries for all employees in the EMPLOYEES table, \n",
    "but did not realize her keyboard's 0 key was broken until after completing the calculation. \n",
    "She wants your help finding the difference between her miscalculation (using salaries with any zeros removed), \n",
    "and the actual average salary.\n",
    "Write a query calculating the amount of error (i.e.actual-miscslculated average monthly salaries), and round it up to the next integer.\n",
    "*/\n",
    "SELECT ceil(AVG(Salary)-AVG(REPLACE(Salary,'0',''))) \n",
    "FROM EMPLOYEES;"
   ]
  },
  {
   "cell_type": "code",
   "execution_count": null,
   "id": "a0f80f76",
   "metadata": {},
   "outputs": [],
   "source": [
    "# Top Earners\n",
    "/*\n",
    "We define an employee's total earnings to be their monthly salary*month worked, \n",
    "and the maximum total earnings to be the maximum total earnings for any employee in the Employee table. \n",
    "Write a query to find the maximum total earnings \n",
    "for all employees as well as the total number of employees who have maximum total earnings. \n",
    "Then print these values as 2 space-separated integers.\n",
    "*/\n",
    "select max(months * salary), count(months * salary) \n",
    "from Employee where (months * salary) \n",
    "= (select max(months * salary) from Employee);"
   ]
  },
  {
   "cell_type": "code",
   "execution_count": null,
   "id": "e0c1640a",
   "metadata": {},
   "outputs": [],
   "source": [
    "# Aggregation Weather Observation Station 2\n",
    "/*\n",
    "Query the following two values from the STATION table:\n",
    "The sum of all values in LAT_N rounded to a scale of  decimal places.\n",
    "The sum of all values in LONG_W rounded to a scale of  decimal places.\n",
    "*/\n"
   ]
  },
  {
   "cell_type": "code",
   "execution_count": null,
   "id": "d53a9e47",
   "metadata": {},
   "outputs": [],
   "source": [
    "/*\n",
    "Query the following two values from the STATION table:\n",
    "\n",
    "The sum of all values in LAT_N rounded to a scale of 2 decimal places.\n",
    "The sum of all values in LONG_W rounded to a scale of 2 decimal places.\n",
    "*/\n",
    "SELECT \n",
    "    ROUND(SUM(LAT_N), 2),\n",
    "    ROUND(SUM(LONG_W), 2)\n",
    "FROM STATION;"
   ]
  },
  {
   "cell_type": "code",
   "execution_count": null,
   "id": "1efd1b65",
   "metadata": {},
   "outputs": [],
   "source": [
    "# Weather Observation Station 13\n",
    "/*\n",
    "Query the sum of Northern Latitudes (LAT_N) from STATION having\n",
    "values greater than 137.2345 and less than 38.7880. Truncate your answer to 4 decimal places.\n",
    "*/\n",
    "SELECT ROUND(SUM(LAT_N),4)\n",
    "FROM STATION \n",
    "WHERE LAT_N BETWEEN 38.7880 AND 137.2345;"
   ]
  },
  {
   "cell_type": "code",
   "execution_count": null,
   "id": "cba8af5b",
   "metadata": {},
   "outputs": [],
   "source": [
    "# Weather Observation Station 14\n",
    "/*\n",
    "Query the greatest value of the Northern Latitudes (LAT_N) \n",
    "from STATION that is less than 137.2345. Truncate your answer to 4 decimal places.\n",
    "*/\n",
    "SELECT ROUND(max(LAT_N),4) FROM STATION WHERE LAT_N < 137.2345;"
   ]
  },
  {
   "cell_type": "code",
   "execution_count": null,
   "id": "99dac2a6",
   "metadata": {},
   "outputs": [],
   "source": [
    "# Weather Observation Station 15\n",
    "/*\n",
    "Query the Western Longitude (LONG_W) for the largest Northern \n",
    "Latitude (LAT_N) in STATION that is less than 137.2345. \n",
    "Round your answer to 4 decimal places.\n",
    "*/\n",
    "SELECT ROUND(LONG_W,4)\n",
    "FROM STATION\n",
    "WHERE LAT_N = (\n",
    "    SELECT MAX(LAT_N) \n",
    "FROM STATION WHERE LAT_N < 137.2345\n",
    ");"
   ]
  },
  {
   "cell_type": "code",
   "execution_count": null,
   "id": "67d90394",
   "metadata": {},
   "outputs": [],
   "source": [
    "# Weather Observation Station 16\n",
    "/*\n",
    "Query the smallest Northern Latitude (LAT_N) from STATION that is greater than 38.7780. \n",
    "Round your answer to 4 decimal places.\n",
    "*/\n",
    "Select round(min(lat_n), 4) \n",
    "from station where lat_n > 38.7780;"
   ]
  },
  {
   "cell_type": "code",
   "execution_count": null,
   "id": "cb09ab9e",
   "metadata": {},
   "outputs": [],
   "source": [
    "# Weather Observation Station 17\n",
    "/*\n",
    "Query the Western Longitude (LONG_W)where the smallest Northern\n",
    "Latitude (LAT_N) in STATION is greater than 38.7780. \n",
    "Round your answer to 4 decimal places.\n",
    "*/\n",
    "Select round(LONG_W, 4) \n",
    "from station where lat_n=(\n",
    "select min(lat_n) from station\n",
    "where lat_n > 38.7780\n",
    ");"
   ]
  },
  {
   "cell_type": "code",
   "execution_count": null,
   "id": "fd9de4f0",
   "metadata": {},
   "outputs": [],
   "source": [
    "# Weather Observation Station 18\n",
    "SELECT\n",
    "    ROUND(ABS(MAX(LAT_N)  - MIN(LAT_N))\n",
    "        + ABS(MAX(LONG_W) - MIN(LONG_W)), 4)\n",
    "FROM \n",
    "    STATION;"
   ]
  },
  {
   "cell_type": "code",
   "execution_count": null,
   "id": "d22d930a",
   "metadata": {},
   "outputs": [],
   "source": [
    "# Weather Observation Station 19\n",
    "\n",
    "SELECT\n",
    "    ROUND(SQRT(\n",
    "        POWER(MAX(LAT_N)  - MIN(LAT_N),  2)\n",
    "      + POWER(MAX(LONG_W) - MIN(LONG_W), 2)\n",
    "    ), 4)\n",
    "FROM \n",
    "    STATION;"
   ]
  },
  {
   "cell_type": "code",
   "execution_count": null,
   "id": "b8049974",
   "metadata": {},
   "outputs": [],
   "source": [
    "#Weather Observation Station 20\n",
    "/*\n",
    "A median is defined as a number separating the higher half of a data set from the lower half. Query the median of the Northern Latitudes (LAT_N) \n",
    "from STATION and round your answer to  decimal places.\n",
    "*/\n",
    "Select round(S.LAT_N,4) from station AS S where (select count(Lat_N) from station \n",
    "where Lat_N < S.LAT_N ) = (select count(Lat_N) from station where Lat_N > S.LAT_N);"
   ]
  },
  {
   "cell_type": "code",
   "execution_count": null,
   "id": "16dd3f46",
   "metadata": {},
   "outputs": [],
   "source": [
    "#Average Population of Each Continent\n",
    "/*\n",
    "Given the CITY and COUNTRY tables, query the names of all the \n",
    "continents (COUNTRY.Continent) and their respective average \n",
    "city populations (CITY.Population) rounded down to the nearest integer.\n",
    "\n",
    "Note: CITY.CountryCode and COUNTRY.Code are matching key columns.\n",
    "*/\n",
    "SELECT Country.Continent, FLOOR(AVG(City.Population))\n",
    "FROM Country, City \n",
    "WHERE Country.Code = City.CountryCode \n",
    "GROUP BY Country.Continent ;"
   ]
  },
  {
   "cell_type": "code",
   "execution_count": null,
   "id": "a8cf107b",
   "metadata": {},
   "outputs": [],
   "source": [
    "# Basic Join The Report\n",
    "\n",
    "SELECT IF(GRADES.GRADE>=8, STUDENTS.NAME, NULL),GRADES.GRADE, STUDENTS.MARKS\n",
    "FROM GRADES, STUDENTS\n",
    "WHERE STUDENTS.MARKS BETWEEN GRADES.MIN_MARK AND GRADES.MAX_MARK\n",
    "ORDER BY GRADES.GRADE DESC, STUDENTS.NAME;"
   ]
  },
  {
   "cell_type": "code",
   "execution_count": null,
   "id": "4b7c8da8",
   "metadata": {},
   "outputs": [],
   "source": [
    "# Basic Join Ollivander's Inventory\n",
    "SELECT a.id, \n",
    "   b.age, \n",
    "    a.coins_needed, \n",
    "    a.power \n",
    "FROM wands a \n",
    "   JOIN wands_property b \n",
    "     ON a.code = b.code \n",
    "WHERE  b.is_evil = 0 \n",
    "    AND a.coins_needed = (SELECT Min(a1.coins_needed) \n",
    "    FROM   wands a1 \n",
    "        JOIN wands_property b1 \n",
    "          ON a1.code = b1.code \n",
    "    WHERE  b.age = b1.age \n",
    "        AND a.power = a1.power) \n",
    "ORDER  BY a.power DESC, \n",
    "          b.age DESC;"
   ]
  },
  {
   "cell_type": "code",
   "execution_count": null,
   "id": "b02ade38",
   "metadata": {},
   "outputs": [],
   "source": [
    "# Basic Join Challenges\n",
    "/*\n",
    "Julia asked her students to create some coding challenges. \n",
    "Write a query to print the hacker_id, name, and the total \n",
    "number of challenges created by each student. \n",
    "Sort your results by the total number of challenges in \n",
    "descending order. If more than one student created the same \n",
    "number of challenges, then sort the result by hacker_id. \n",
    "If more than one student created the same number of challenges \n",
    "and the count is less than the maximum number of challenges \n",
    "created, then exclude those students from the result.\n",
    "*/\n",
    "\n",
    "SELECT h.hacker_id, \n",
    "       h.name, \n",
    "       COUNT(c.challenge_id) AS c_count\n",
    "FROM Hackers h\n",
    "JOIN Challenges c ON c.hacker_id = h.hacker_id\n",
    "GROUP BY h.hacker_id, h.name\n",
    "HAVING c_count = \n",
    "    (SELECT COUNT(c2.challenge_id) AS c_max\n",
    "     FROM challenges as c2 \n",
    "     GROUP BY c2.hacker_id \n",
    "     ORDER BY c_max DESC limit 1)\n",
    "OR c_count IN \n",
    "    (SELECT DISTINCT c_compare AS c_unique\n",
    "     FROM (SELECT h2.hacker_id, \n",
    "                  h2.name, \n",
    "                  COUNT(challenge_id) AS c_compare\n",
    "           FROM Hackers h2\n",
    "           JOIN Challenges c ON c.hacker_id = h2.hacker_id\n",
    "           GROUP BY h2.hacker_id, h2.name) counts\n",
    "     GROUP BY c_compare\n",
    "     HAVING COUNT(c_compare) = 1)\n",
    "ORDER BY c_count DESC, h.hacker_id;"
   ]
  },
  {
   "cell_type": "code",
   "execution_count": null,
   "id": "27071df8",
   "metadata": {},
   "outputs": [],
   "source": []
  },
  {
   "cell_type": "code",
   "execution_count": null,
   "id": "f250ad52",
   "metadata": {},
   "outputs": [],
   "source": []
  },
  {
   "cell_type": "code",
   "execution_count": null,
   "id": "789e6b75",
   "metadata": {},
   "outputs": [],
   "source": []
  },
  {
   "cell_type": "code",
   "execution_count": null,
   "id": "d7667287",
   "metadata": {},
   "outputs": [],
   "source": []
  },
  {
   "cell_type": "code",
   "execution_count": null,
   "id": "a444d27c",
   "metadata": {},
   "outputs": [],
   "source": []
  },
  {
   "cell_type": "code",
   "execution_count": null,
   "id": "3f5c50ff",
   "metadata": {},
   "outputs": [],
   "source": []
  },
  {
   "cell_type": "code",
   "execution_count": null,
   "id": "ad63af3d",
   "metadata": {},
   "outputs": [],
   "source": []
  }
 ],
 "metadata": {
  "kernelspec": {
   "display_name": "Python 3 (ipykernel)",
   "language": "python",
   "name": "python3"
  },
  "language_info": {
   "codemirror_mode": {
    "name": "ipython",
    "version": 3
   },
   "file_extension": ".py",
   "mimetype": "text/x-python",
   "name": "python",
   "nbconvert_exporter": "python",
   "pygments_lexer": "ipython3",
   "version": "3.9.12"
  }
 },
 "nbformat": 4,
 "nbformat_minor": 5
}
