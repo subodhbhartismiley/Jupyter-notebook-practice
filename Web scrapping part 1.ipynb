{
 "cells": [
  {
   "cell_type": "markdown",
   "id": "8c026b89",
   "metadata": {},
   "source": [
    "## Web scrapping part 1"
   ]
  },
  {
   "cell_type": "markdown",
   "id": "f02ea759",
   "metadata": {},
   "source": [
    "### Summary\n",
    "In this notebook, we will get to know Beautiful Soup and we will make some examples with HTML to understand how this library works."
   ]
  },
  {
   "cell_type": "markdown",
   "id": "cf901382",
   "metadata": {},
   "source": [
    "### To know more:\n",
    "* Samsung Ocean lectures and courses.\n",
    "* Ryan Mitchell. Web Scraping with Python: Collecting More Data from the Modern Web. Novatec Editora, 2019.\n",
    "\n",
    "### 1) Exploring HTML\n",
    "* For the following examples, we will use the HTML code below.\n",
    "\n",
    "### Oscars 2020\n",
    "The biggest awards show in cinema took place in February. This year's highlights were:\n",
    "\n",
    "* joker\n",
    "* 1917\n",
    "* Once Upon a Time in Hollywood\n",
    "* the irish\n",
    "* See the winners of 3 categories below.\n",
    "\n",
    "### Category: best film\n",
    "* Ford vs Ferrari\n",
    "* the irish\n",
    "* JoJo Rabbit\n",
    "* joker\n",
    "* lovely women\n",
    "* Story of a Marriage\n",
    "* 1917\n",
    "* Once Upon A Time In Hollywood\n",
    "* Parasite [WINNER]\n",
    "\n",
    "### Category: best actor\n",
    "* Antonio Banderas - Pain and Glory\n",
    "* Leonardo DiCaprio - Once Upon A Time In... Hollywood\n",
    "* Adam Driver - Story of a Marriage\n",
    "* Joaquin Phoenix - Joker [WINNER]\n",
    "* Jonathan Price - Two Popes\n",
    "\n",
    "### Category: best actress\n",
    "* Cythia Erivo - Harriet\n",
    "* Scarlett Johansson - Marriage Story\n",
    "* Saoirse Ronan - Little Women\n",
    "* Charlize Theron - Scandal\n",
    "* Renée Zellweger - Judy: Over the Rainbow [WINNER]"
   ]
  },
  {
   "cell_type": "code",
   "execution_count": null,
   "id": "a7f51996",
   "metadata": {},
   "outputs": [],
   "source": []
  },
  {
   "cell_type": "code",
   "execution_count": 3,
   "id": "7822760d",
   "metadata": {},
   "outputs": [],
   "source": [
    "html = \"\"\"\n",
    "<html>\n",
    "    <head>\n",
    "        <title>Indicados e vencedores do Oscar em 2020</title>\n",
    "    </head>\n",
    "    <body>\n",
    "        <h1>Oscar 2020</h1>\n",
    "        <p>A maior premiação do cinema aconteceu em Fevereiro. Os destaques deste ano foram:</p>\n",
    "        <ul class=\"destaques\">\n",
    "            <li>Coringa</li>\n",
    "            <li>1917</li>\n",
    "            <li>Era Uma Vez em Hollywood</li>\n",
    "            <li>O Irlandês</li>\n",
    "        </ul>\n",
    "        <p>Veja abaixo os vencedores de 3 categorias.</p>\n",
    "        <div>\n",
    "            <div class=\"categoria-melhor-filme\">\n",
    "                <h2>Categoria: melhor filme</h2>\n",
    "                <ul>\n",
    "                    <li>Ford vs Ferrari</li>\n",
    "                    <li>O Irlandês</li>\n",
    "                    <li>JoJo Rabbit</li>\n",
    "                    <li>Coringa</li>\n",
    "                    <li>Adoráveis Mulheres</li>\n",
    "                    <li>História de um Casamento</li>\n",
    "                    <li>1917</li>\n",
    "                    <li>Era Uma Vez Em Hollywood</li>\n",
    "                    <li class=\"vencedor\">Parasita <strong>[VENCEDOR]</strong></li>\n",
    "                </ul>\n",
    "            </div>\n",
    "            <br>\n",
    "            <div class=\"categoria-melhor-ator\">\n",
    "                <h2>Categoria: melhor ator</h2>\n",
    "                <ul>\n",
    "                    <li>Antonio Banderas - Dor e Glória</li>\n",
    "                    <li>Leonardo DiCaprio - Era Uma Vez Em... Hollywood</li>\n",
    "                    <li>Adam Driver - História de um Casamento</li>\n",
    "                    <li class=\"vencedor\">Joaquin Phoenix - Coringa <strong>[VENCEDOR]</strong></li>\n",
    "                    <li>Jonathan Price - Dois Papas</li>\n",
    "                </ul>\n",
    "            </div>\n",
    "            <br>\n",
    "            <div class=\"categoria-melhor-atriz\">\n",
    "                <h2>Categoria: melhor atriz</h2>\n",
    "                <ul>\n",
    "                    <li>Cythia Erivo - Harriet</li>\n",
    "                    <li>Scarlett Johansson - História de um Casamento</li>\n",
    "                    <li>Saoirse Ronan - Adoráveis Mulheres</li>\n",
    "                    <li>Charlize Theron - O Escândalo</li>\n",
    "                    <li class=\"vencedor\">Renée Zellweger - Judy: Muito Além do Arco-Íris <strong>[VENCEDOR]</strong></li>\n",
    "                </ul>\n",
    "            </div>\n",
    "        </div>\n",
    "    </body>\n",
    "</html>\n",
    "\"\"\""
   ]
  },
  {
   "cell_type": "markdown",
   "id": "235544cc",
   "metadata": {},
   "source": [
    "## 2) Criando um objeto Beautiful Soup"
   ]
  },
  {
   "cell_type": "code",
   "execution_count": 4,
   "id": "cb0ec98b",
   "metadata": {},
   "outputs": [],
   "source": [
    "from bs4 import BeautifulSoup"
   ]
  },
  {
   "cell_type": "code",
   "execution_count": 5,
   "id": "723e9945",
   "metadata": {},
   "outputs": [],
   "source": [
    "soup = BeautifulSoup(html, 'html.parser')"
   ]
  },
  {
   "cell_type": "code",
   "execution_count": 6,
   "id": "84d57239",
   "metadata": {},
   "outputs": [
    {
     "data": {
      "text/plain": [
       "bs4.BeautifulSoup"
      ]
     },
     "execution_count": 6,
     "metadata": {},
     "output_type": "execute_result"
    }
   ],
   "source": [
    "type(soup)"
   ]
  },
  {
   "cell_type": "code",
   "execution_count": 7,
   "id": "d823a652",
   "metadata": {},
   "outputs": [
    {
     "data": {
      "text/plain": [
       "\n",
       "<html>\n",
       "<head>\n",
       "<title>Indicados e vencedores do Oscar em 2020</title>\n",
       "</head>\n",
       "<body>\n",
       "<h1>Oscar 2020</h1>\n",
       "<p>A maior premiação do cinema aconteceu em Fevereiro. Os destaques deste ano foram:</p>\n",
       "<ul class=\"destaques\">\n",
       "<li>Coringa</li>\n",
       "<li>1917</li>\n",
       "<li>Era Uma Vez em Hollywood</li>\n",
       "<li>O Irlandês</li>\n",
       "</ul>\n",
       "<p>Veja abaixo os vencedores de 3 categorias.</p>\n",
       "<div>\n",
       "<div class=\"categoria-melhor-filme\">\n",
       "<h2>Categoria: melhor filme</h2>\n",
       "<ul>\n",
       "<li>Ford vs Ferrari</li>\n",
       "<li>O Irlandês</li>\n",
       "<li>JoJo Rabbit</li>\n",
       "<li>Coringa</li>\n",
       "<li>Adoráveis Mulheres</li>\n",
       "<li>História de um Casamento</li>\n",
       "<li>1917</li>\n",
       "<li>Era Uma Vez Em Hollywood</li>\n",
       "<li class=\"vencedor\">Parasita <strong>[VENCEDOR]</strong></li>\n",
       "</ul>\n",
       "</div>\n",
       "<br/>\n",
       "<div class=\"categoria-melhor-ator\">\n",
       "<h2>Categoria: melhor ator</h2>\n",
       "<ul>\n",
       "<li>Antonio Banderas - Dor e Glória</li>\n",
       "<li>Leonardo DiCaprio - Era Uma Vez Em... Hollywood</li>\n",
       "<li>Adam Driver - História de um Casamento</li>\n",
       "<li class=\"vencedor\">Joaquin Phoenix - Coringa <strong>[VENCEDOR]</strong></li>\n",
       "<li>Jonathan Price - Dois Papas</li>\n",
       "</ul>\n",
       "</div>\n",
       "<br/>\n",
       "<div class=\"categoria-melhor-atriz\">\n",
       "<h2>Categoria: melhor atriz</h2>\n",
       "<ul>\n",
       "<li>Cythia Erivo - Harriet</li>\n",
       "<li>Scarlett Johansson - História de um Casamento</li>\n",
       "<li>Saoirse Ronan - Adoráveis Mulheres</li>\n",
       "<li>Charlize Theron - O Escândalo</li>\n",
       "<li class=\"vencedor\">Renée Zellweger - Judy: Muito Além do Arco-Íris <strong>[VENCEDOR]</strong></li>\n",
       "</ul>\n",
       "</div>\n",
       "</div>\n",
       "</body>\n",
       "</html>"
      ]
     },
     "execution_count": 7,
     "metadata": {},
     "output_type": "execute_result"
    }
   ],
   "source": [
    "soup"
   ]
  },
  {
   "cell_type": "code",
   "execution_count": 8,
   "id": "f9f2cbe4",
   "metadata": {},
   "outputs": [
    {
     "name": "stdout",
     "output_type": "stream",
     "text": [
      "<html>\n",
      " <head>\n",
      "  <title>\n",
      "   Indicados e vencedores do Oscar em 2020\n",
      "  </title>\n",
      " </head>\n",
      " <body>\n",
      "  <h1>\n",
      "   Oscar 2020\n",
      "  </h1>\n",
      "  <p>\n",
      "   A maior premiação do cinema aconteceu em Fevereiro. Os destaques deste ano foram:\n",
      "  </p>\n",
      "  <ul class=\"destaques\">\n",
      "   <li>\n",
      "    Coringa\n",
      "   </li>\n",
      "   <li>\n",
      "    1917\n",
      "   </li>\n",
      "   <li>\n",
      "    Era Uma Vez em Hollywood\n",
      "   </li>\n",
      "   <li>\n",
      "    O Irlandês\n",
      "   </li>\n",
      "  </ul>\n",
      "  <p>\n",
      "   Veja abaixo os vencedores de 3 categorias.\n",
      "  </p>\n",
      "  <div>\n",
      "   <div class=\"categoria-melhor-filme\">\n",
      "    <h2>\n",
      "     Categoria: melhor filme\n",
      "    </h2>\n",
      "    <ul>\n",
      "     <li>\n",
      "      Ford vs Ferrari\n",
      "     </li>\n",
      "     <li>\n",
      "      O Irlandês\n",
      "     </li>\n",
      "     <li>\n",
      "      JoJo Rabbit\n",
      "     </li>\n",
      "     <li>\n",
      "      Coringa\n",
      "     </li>\n",
      "     <li>\n",
      "      Adoráveis Mulheres\n",
      "     </li>\n",
      "     <li>\n",
      "      História de um Casamento\n",
      "     </li>\n",
      "     <li>\n",
      "      1917\n",
      "     </li>\n",
      "     <li>\n",
      "      Era Uma Vez Em Hollywood\n",
      "     </li>\n",
      "     <li class=\"vencedor\">\n",
      "      Parasita\n",
      "      <strong>\n",
      "       [VENCEDOR]\n",
      "      </strong>\n",
      "     </li>\n",
      "    </ul>\n",
      "   </div>\n",
      "   <br/>\n",
      "   <div class=\"categoria-melhor-ator\">\n",
      "    <h2>\n",
      "     Categoria: melhor ator\n",
      "    </h2>\n",
      "    <ul>\n",
      "     <li>\n",
      "      Antonio Banderas - Dor e Glória\n",
      "     </li>\n",
      "     <li>\n",
      "      Leonardo DiCaprio - Era Uma Vez Em... Hollywood\n",
      "     </li>\n",
      "     <li>\n",
      "      Adam Driver - História de um Casamento\n",
      "     </li>\n",
      "     <li class=\"vencedor\">\n",
      "      Joaquin Phoenix - Coringa\n",
      "      <strong>\n",
      "       [VENCEDOR]\n",
      "      </strong>\n",
      "     </li>\n",
      "     <li>\n",
      "      Jonathan Price - Dois Papas\n",
      "     </li>\n",
      "    </ul>\n",
      "   </div>\n",
      "   <br/>\n",
      "   <div class=\"categoria-melhor-atriz\">\n",
      "    <h2>\n",
      "     Categoria: melhor atriz\n",
      "    </h2>\n",
      "    <ul>\n",
      "     <li>\n",
      "      Cythia Erivo - Harriet\n",
      "     </li>\n",
      "     <li>\n",
      "      Scarlett Johansson - História de um Casamento\n",
      "     </li>\n",
      "     <li>\n",
      "      Saoirse Ronan - Adoráveis Mulheres\n",
      "     </li>\n",
      "     <li>\n",
      "      Charlize Theron - O Escândalo\n",
      "     </li>\n",
      "     <li class=\"vencedor\">\n",
      "      Renée Zellweger - Judy: Muito Além do Arco-Íris\n",
      "      <strong>\n",
      "       [VENCEDOR]\n",
      "      </strong>\n",
      "     </li>\n",
      "    </ul>\n",
      "   </div>\n",
      "  </div>\n",
      " </body>\n",
      "</html>\n",
      "\n"
     ]
    }
   ],
   "source": [
    "print(soup.prettify())"
   ]
  },
  {
   "cell_type": "markdown",
   "id": "633c9a0e",
   "metadata": {},
   "source": [
    "## 3) Learning to extract data from tags in HTML\n",
    "#### 3.1) Starting at the beginning: how to extract the page title?"
   ]
  },
  {
   "cell_type": "code",
   "execution_count": 9,
   "id": "250f625f",
   "metadata": {},
   "outputs": [
    {
     "data": {
      "text/plain": [
       "<title>Indicados e vencedores do Oscar em 2020</title>"
      ]
     },
     "execution_count": 9,
     "metadata": {},
     "output_type": "execute_result"
    }
   ],
   "source": [
    "soup.html.head.title"
   ]
  },
  {
   "cell_type": "code",
   "execution_count": 10,
   "id": "231f3b7d",
   "metadata": {},
   "outputs": [
    {
     "data": {
      "text/plain": [
       "<title>Indicados e vencedores do Oscar em 2020</title>"
      ]
     },
     "execution_count": 10,
     "metadata": {},
     "output_type": "execute_result"
    }
   ],
   "source": [
    "soup.title"
   ]
  },
  {
   "cell_type": "code",
   "execution_count": 11,
   "id": "b6e3e3f6",
   "metadata": {},
   "outputs": [
    {
     "data": {
      "text/plain": [
       "'Indicados e vencedores do Oscar em 2020'"
      ]
     },
     "execution_count": 11,
     "metadata": {},
     "output_type": "execute_result"
    }
   ],
   "source": [
    "soup.title.get_text()"
   ]
  },
  {
   "cell_type": "markdown",
   "id": "70bb59ff",
   "metadata": {},
   "source": [
    "#### 3.2) What if I want to extract the title from the highest hierarchy in the body of the page?"
   ]
  },
  {
   "cell_type": "code",
   "execution_count": 12,
   "id": "0f109ac3",
   "metadata": {},
   "outputs": [
    {
     "data": {
      "text/plain": [
       "<h1>Oscar 2020</h1>"
      ]
     },
     "execution_count": 12,
     "metadata": {},
     "output_type": "execute_result"
    }
   ],
   "source": [
    "soup.html.body.h1"
   ]
  },
  {
   "cell_type": "code",
   "execution_count": 13,
   "id": "e33f310a",
   "metadata": {},
   "outputs": [
    {
     "data": {
      "text/plain": [
       "<h1>Oscar 2020</h1>"
      ]
     },
     "execution_count": 13,
     "metadata": {},
     "output_type": "execute_result"
    }
   ],
   "source": [
    "soup.h1"
   ]
  },
  {
   "cell_type": "code",
   "execution_count": 14,
   "id": "3de22e49",
   "metadata": {},
   "outputs": [
    {
     "data": {
      "text/plain": [
       "'Oscar 2020'"
      ]
     },
     "execution_count": 14,
     "metadata": {},
     "output_type": "execute_result"
    }
   ],
   "source": [
    "soup.h1.get_text()"
   ]
  },
  {
   "cell_type": "markdown",
   "id": "1bc0e3d1",
   "metadata": {},
   "source": [
    "#### Quiz 1: With which of the commands below do I NOT collect the text \"Category: best film\"?\n",
    "a) soup.body.div.div.h2.get_text()\n",
    "\n",
    "b) soup.div.div.h2.get_text()\n",
    "\n",
    "c) soup.div.ul.h2.get_text()\n",
    "\n",
    "d) soup.h2.get_text()\n",
    "#### 3.3) Collecting the text \"The biggest awards show in cinema took place in February. This year's highlights were:\""
   ]
  },
  {
   "cell_type": "code",
   "execution_count": 15,
   "id": "6609e46a",
   "metadata": {},
   "outputs": [
    {
     "data": {
      "text/plain": [
       "'A maior premiação do cinema aconteceu em Fevereiro. Os destaques deste ano foram:'"
      ]
     },
     "execution_count": 15,
     "metadata": {},
     "output_type": "execute_result"
    }
   ],
   "source": [
    "soup.p.get_text()"
   ]
  },
  {
   "cell_type": "markdown",
   "id": "20d57434",
   "metadata": {},
   "source": [
    "#### But... What if I want to collect the text \"See below for the winners of 3 categories.\"?\n",
    "#### 3.4) The find() method"
   ]
  },
  {
   "cell_type": "code",
   "execution_count": 16,
   "id": "98203008",
   "metadata": {},
   "outputs": [
    {
     "data": {
      "text/plain": [
       "<p>A maior premiação do cinema aconteceu em Fevereiro. Os destaques deste ano foram:</p>"
      ]
     },
     "execution_count": 16,
     "metadata": {},
     "output_type": "execute_result"
    }
   ],
   "source": [
    "soup.find(\"p\")"
   ]
  },
  {
   "cell_type": "code",
   "execution_count": 17,
   "id": "4647ed93",
   "metadata": {},
   "outputs": [
    {
     "data": {
      "text/plain": [
       "'A maior premiação do cinema aconteceu em Fevereiro. Os destaques deste ano foram:'"
      ]
     },
     "execution_count": 17,
     "metadata": {},
     "output_type": "execute_result"
    }
   ],
   "source": [
    "soup.find(\"p\").get_text()"
   ]
  },
  {
   "cell_type": "markdown",
   "id": "b69fb0ce",
   "metadata": {},
   "source": [
    "#### 3.5) Or find_all() method"
   ]
  },
  {
   "cell_type": "code",
   "execution_count": 18,
   "id": "796d7126",
   "metadata": {},
   "outputs": [
    {
     "data": {
      "text/plain": [
       "[<p>A maior premiação do cinema aconteceu em Fevereiro. Os destaques deste ano foram:</p>,\n",
       " <p>Veja abaixo os vencedores de 3 categorias.</p>]"
      ]
     },
     "execution_count": 18,
     "metadata": {},
     "output_type": "execute_result"
    }
   ],
   "source": [
    "soup.find_all(\"p\")"
   ]
  },
  {
   "cell_type": "code",
   "execution_count": 19,
   "id": "792e8ef9",
   "metadata": {},
   "outputs": [
    {
     "data": {
      "text/plain": [
       "<p>Veja abaixo os vencedores de 3 categorias.</p>"
      ]
     },
     "execution_count": 19,
     "metadata": {},
     "output_type": "execute_result"
    }
   ],
   "source": [
    "soup.find_all(\"p\")[1]"
   ]
  },
  {
   "cell_type": "code",
   "execution_count": 20,
   "id": "846f1eef",
   "metadata": {},
   "outputs": [
    {
     "data": {
      "text/plain": [
       "'Veja abaixo os vencedores de 3 categorias.'"
      ]
     },
     "execution_count": 20,
     "metadata": {},
     "output_type": "execute_result"
    }
   ],
   "source": [
    "soup.find_all(\"p\")[1].get_text()"
   ]
  },
  {
   "cell_type": "code",
   "execution_count": 21,
   "id": "b7ac338f",
   "metadata": {},
   "outputs": [
    {
     "data": {
      "text/plain": [
       "[<h2>Categoria: melhor filme</h2>,\n",
       " <h2>Categoria: melhor ator</h2>,\n",
       " <h2>Categoria: melhor atriz</h2>]"
      ]
     },
     "execution_count": 21,
     "metadata": {},
     "output_type": "execute_result"
    }
   ],
   "source": [
    "soup.find_all(\"h2\")"
   ]
  },
  {
   "cell_type": "markdown",
   "id": "603c747d",
   "metadata": {},
   "source": [
    "#### 3.6) Collecting the highlights list"
   ]
  },
  {
   "cell_type": "code",
   "execution_count": 22,
   "id": "6aad4691",
   "metadata": {},
   "outputs": [
    {
     "data": {
      "text/plain": [
       "[<li>Coringa</li>,\n",
       " <li>1917</li>,\n",
       " <li>Era Uma Vez em Hollywood</li>,\n",
       " <li>O Irlandês</li>]"
      ]
     },
     "execution_count": 22,
     "metadata": {},
     "output_type": "execute_result"
    }
   ],
   "source": [
    "soup.ul.find_all(\"li\")"
   ]
  },
  {
   "cell_type": "code",
   "execution_count": 23,
   "id": "c87d8377",
   "metadata": {},
   "outputs": [
    {
     "name": "stdout",
     "output_type": "stream",
     "text": [
      "Lista de destaques:\n",
      "Coringa\n",
      "1917\n",
      "Era Uma Vez em Hollywood\n",
      "O Irlandês\n"
     ]
    }
   ],
   "source": [
    "print(\"Lista de destaques:\")\n",
    "\n",
    "for filme in soup.ul.find_all(\"li\"):\n",
    "    print(filme.get_text())"
   ]
  },
  {
   "cell_type": "markdown",
   "id": "56b70f99",
   "metadata": {},
   "source": [
    "#### Mini-challenge 1: Collect all movies in the best movie category"
   ]
  },
  {
   "cell_type": "code",
   "execution_count": 24,
   "id": "4d291027",
   "metadata": {},
   "outputs": [],
   "source": [
    "# Enter your answer here"
   ]
  },
  {
   "cell_type": "markdown",
   "id": "c38014dc",
   "metadata": {},
   "source": [
    "#### 3.7) The find_all() method can be equivalent to the find() method"
   ]
  },
  {
   "cell_type": "code",
   "execution_count": 25,
   "id": "c9fafbb9",
   "metadata": {},
   "outputs": [
    {
     "data": {
      "text/plain": [
       "[<p>A maior premiação do cinema aconteceu em Fevereiro. Os destaques deste ano foram:</p>]"
      ]
     },
     "execution_count": 25,
     "metadata": {},
     "output_type": "execute_result"
    }
   ],
   "source": [
    "soup.find_all('p', limit = 1)"
   ]
  },
  {
   "cell_type": "code",
   "execution_count": 26,
   "id": "e4d4b4c1",
   "metadata": {},
   "outputs": [
    {
     "data": {
      "text/plain": [
       "<p>A maior premiação do cinema aconteceu em Fevereiro. Os destaques deste ano foram:</p>"
      ]
     },
     "execution_count": 26,
     "metadata": {},
     "output_type": "execute_result"
    }
   ],
   "source": [
    "soup.find_all('p')[0]"
   ]
  },
  {
   "cell_type": "markdown",
   "id": "095139a7",
   "metadata": {},
   "source": [
    "#### 3.8) I can also pass a list of tags to find_all()"
   ]
  },
  {
   "cell_type": "code",
   "execution_count": 27,
   "id": "cb1a6b61",
   "metadata": {},
   "outputs": [
    {
     "data": {
      "text/plain": [
       "[<li>Coringa</li>,\n",
       " <li>1917</li>,\n",
       " <li>Era Uma Vez em Hollywood</li>,\n",
       " <li>O Irlandês</li>,\n",
       " <h2>Categoria: melhor filme</h2>,\n",
       " <li>Ford vs Ferrari</li>,\n",
       " <li>O Irlandês</li>,\n",
       " <li>JoJo Rabbit</li>,\n",
       " <li>Coringa</li>,\n",
       " <li>Adoráveis Mulheres</li>,\n",
       " <li>História de um Casamento</li>,\n",
       " <li>1917</li>,\n",
       " <li>Era Uma Vez Em Hollywood</li>,\n",
       " <li class=\"vencedor\">Parasita <strong>[VENCEDOR]</strong></li>,\n",
       " <h2>Categoria: melhor ator</h2>,\n",
       " <li>Antonio Banderas - Dor e Glória</li>,\n",
       " <li>Leonardo DiCaprio - Era Uma Vez Em... Hollywood</li>,\n",
       " <li>Adam Driver - História de um Casamento</li>,\n",
       " <li class=\"vencedor\">Joaquin Phoenix - Coringa <strong>[VENCEDOR]</strong></li>,\n",
       " <li>Jonathan Price - Dois Papas</li>,\n",
       " <h2>Categoria: melhor atriz</h2>,\n",
       " <li>Cythia Erivo - Harriet</li>,\n",
       " <li>Scarlett Johansson - História de um Casamento</li>,\n",
       " <li>Saoirse Ronan - Adoráveis Mulheres</li>,\n",
       " <li>Charlize Theron - O Escândalo</li>,\n",
       " <li class=\"vencedor\">Renée Zellweger - Judy: Muito Além do Arco-Íris <strong>[VENCEDOR]</strong></li>]"
      ]
     },
     "execution_count": 27,
     "metadata": {},
     "output_type": "execute_result"
    }
   ],
   "source": [
    "soup.find_all([\"h2\", \"li\"])"
   ]
  },
  {
   "cell_type": "markdown",
   "id": "94dc38ce",
   "metadata": {},
   "source": [
    "#### 3.9) Posso buscar por tags com um conteúdo específico?"
   ]
  },
  {
   "cell_type": "code",
   "execution_count": 28,
   "id": "384d3343",
   "metadata": {},
   "outputs": [
    {
     "data": {
      "text/plain": [
       "[<li>Coringa</li>, <li>Coringa</li>]"
      ]
     },
     "execution_count": 28,
     "metadata": {},
     "output_type": "execute_result"
    }
   ],
   "source": [
    "soup.find_all(\"li\", text=\"Coringa\")"
   ]
  },
  {
   "cell_type": "code",
   "execution_count": 29,
   "id": "7a788503",
   "metadata": {},
   "outputs": [
    {
     "data": {
      "text/plain": [
       "[<li>1917</li>, <li>1917</li>]"
      ]
     },
     "execution_count": 29,
     "metadata": {},
     "output_type": "execute_result"
    }
   ],
   "source": [
    "soup.find_all(\"li\", text=\"1917\")"
   ]
  },
  {
   "cell_type": "code",
   "execution_count": 30,
   "id": "ae71b6bb",
   "metadata": {},
   "outputs": [
    {
     "data": {
      "text/plain": [
       "[<li>O Irlandês</li>, <li>O Irlandês</li>]"
      ]
     },
     "execution_count": 30,
     "metadata": {},
     "output_type": "execute_result"
    }
   ],
   "source": [
    "soup.find_all(\"li\", text=\"O Irlandês\")"
   ]
  },
  {
   "cell_type": "code",
   "execution_count": 31,
   "id": "67569db4",
   "metadata": {},
   "outputs": [],
   "source": [
    "import re"
   ]
  },
  {
   "cell_type": "code",
   "execution_count": 32,
   "id": "5775ca11",
   "metadata": {},
   "outputs": [
    {
     "data": {
      "text/plain": [
       "[<h2>Categoria: melhor filme</h2>,\n",
       " <h2>Categoria: melhor ator</h2>,\n",
       " <h2>Categoria: melhor atriz</h2>]"
      ]
     },
     "execution_count": 32,
     "metadata": {},
     "output_type": "execute_result"
    }
   ],
   "source": [
    "soup.find_all(\"h2\", text=re.compile(\"^Categoria\"))"
   ]
  },
  {
   "cell_type": "markdown",
   "id": "2572ad38",
   "metadata": {},
   "source": [
    "#### 3.10) Collecting through attributes"
   ]
  },
  {
   "cell_type": "code",
   "execution_count": 33,
   "id": "251e78c4",
   "metadata": {},
   "outputs": [
    {
     "data": {
      "text/plain": [
       "[<ul class=\"destaques\">\n",
       " <li>Coringa</li>\n",
       " <li>1917</li>\n",
       " <li>Era Uma Vez em Hollywood</li>\n",
       " <li>O Irlandês</li>\n",
       " </ul>]"
      ]
     },
     "execution_count": 33,
     "metadata": {},
     "output_type": "execute_result"
    }
   ],
   "source": [
    "soup.find_all(\"ul\", {\"class\": \"destaques\"})"
   ]
  },
  {
   "cell_type": "code",
   "execution_count": 34,
   "id": "c82aa262",
   "metadata": {},
   "outputs": [
    {
     "name": "stdout",
     "output_type": "stream",
     "text": [
      "\n",
      "Coringa\n",
      "1917\n",
      "Era Uma Vez em Hollywood\n",
      "O Irlandês\n",
      "\n"
     ]
    }
   ],
   "source": [
    "for item in soup.find_all(\"ul\", {\"class\": \"destaques\"}):\n",
    "    print(item.get_text())"
   ]
  },
  {
   "cell_type": "code",
   "execution_count": 35,
   "id": "8fe37d91",
   "metadata": {},
   "outputs": [
    {
     "data": {
      "text/plain": [
       "[<li class=\"vencedor\">Parasita <strong>[VENCEDOR]</strong></li>,\n",
       " <li class=\"vencedor\">Joaquin Phoenix - Coringa <strong>[VENCEDOR]</strong></li>,\n",
       " <li class=\"vencedor\">Renée Zellweger - Judy: Muito Além do Arco-Íris <strong>[VENCEDOR]</strong></li>]"
      ]
     },
     "execution_count": 35,
     "metadata": {},
     "output_type": "execute_result"
    }
   ],
   "source": [
    "soup.find_all(\"li\", {\"class\": \"vencedor\"})"
   ]
  },
  {
   "cell_type": "code",
   "execution_count": 36,
   "id": "b5db9c6b",
   "metadata": {},
   "outputs": [
    {
     "name": "stdout",
     "output_type": "stream",
     "text": [
      "Parasita [VENCEDOR]\n",
      "Joaquin Phoenix - Coringa [VENCEDOR]\n",
      "Renée Zellweger - Judy: Muito Além do Arco-Íris [VENCEDOR]\n"
     ]
    }
   ],
   "source": [
    "for item in soup.find_all(\"li\", {\"class\": \"vencedor\"}):\n",
    "    print(item.get_text())"
   ]
  },
  {
   "cell_type": "code",
   "execution_count": 37,
   "id": "436b7c99",
   "metadata": {},
   "outputs": [
    {
     "name": "stdout",
     "output_type": "stream",
     "text": [
      "Parasita\n",
      "Joaquin Phoenix - Coringa\n",
      "Renée Zellweger - Judy: Muito Além do Arco-Íris\n"
     ]
    }
   ],
   "source": [
    "for item in soup.find_all(\"li\", {\"class\": \"vencedor\"}):\n",
    "    print(item.get_text().replace(\" [VENCEDOR]\", \"\"))"
   ]
  },
  {
   "cell_type": "markdown",
   "id": "4cc8212d",
   "metadata": {},
   "source": [
    "#### 3.11) Parents, siblings, next and previous: another way to traverse the HTML\n",
    "* When the tags we need to search don't have attributes that differentiate them (like classes, for example), we can traverse the HTML in other ways.\n",
    "#### parents"
   ]
  },
  {
   "cell_type": "code",
   "execution_count": 38,
   "id": "4b8bfb37",
   "metadata": {},
   "outputs": [
    {
     "data": {
      "text/plain": [
       "'Parasita [VENCEDOR]'"
      ]
     },
     "execution_count": 38,
     "metadata": {},
     "output_type": "execute_result"
    }
   ],
   "source": [
    "soup.find(\"li\", {\"class\": \"vencedor\"}).get_text()"
   ]
  },
  {
   "cell_type": "code",
   "execution_count": 39,
   "id": "4866e2ba",
   "metadata": {},
   "outputs": [
    {
     "data": {
      "text/plain": [
       "<ul>\n",
       "<li>Ford vs Ferrari</li>\n",
       "<li>O Irlandês</li>\n",
       "<li>JoJo Rabbit</li>\n",
       "<li>Coringa</li>\n",
       "<li>Adoráveis Mulheres</li>\n",
       "<li>História de um Casamento</li>\n",
       "<li>1917</li>\n",
       "<li>Era Uma Vez Em Hollywood</li>\n",
       "<li class=\"vencedor\">Parasita <strong>[VENCEDOR]</strong></li>\n",
       "</ul>"
      ]
     },
     "execution_count": 39,
     "metadata": {},
     "output_type": "execute_result"
    }
   ],
   "source": [
    "soup.find(\"li\", {\"class\": \"vencedor\"}).find_parent()"
   ]
  },
  {
   "cell_type": "code",
   "execution_count": 40,
   "id": "7f9f597e",
   "metadata": {},
   "outputs": [
    {
     "data": {
      "text/plain": [
       "<div class=\"categoria-melhor-filme\">\n",
       "<h2>Categoria: melhor filme</h2>\n",
       "<ul>\n",
       "<li>Ford vs Ferrari</li>\n",
       "<li>O Irlandês</li>\n",
       "<li>JoJo Rabbit</li>\n",
       "<li>Coringa</li>\n",
       "<li>Adoráveis Mulheres</li>\n",
       "<li>História de um Casamento</li>\n",
       "<li>1917</li>\n",
       "<li>Era Uma Vez Em Hollywood</li>\n",
       "<li class=\"vencedor\">Parasita <strong>[VENCEDOR]</strong></li>\n",
       "</ul>\n",
       "</div>"
      ]
     },
     "execution_count": 40,
     "metadata": {},
     "output_type": "execute_result"
    }
   ],
   "source": [
    "soup.find(\"li\", {\"class\": \"vencedor\"}).find_parent('div')"
   ]
  },
  {
   "cell_type": "code",
   "execution_count": 41,
   "id": "b8381ce9",
   "metadata": {},
   "outputs": [
    {
     "data": {
      "text/plain": [
       "'Categoria: melhor filme'"
      ]
     },
     "execution_count": 41,
     "metadata": {},
     "output_type": "execute_result"
    }
   ],
   "source": [
    "soup.find(\"li\", {\"class\": \"vencedor\"}).find_parent('div').find('h2').get_text()"
   ]
  },
  {
   "cell_type": "markdown",
   "id": "b8c6487a",
   "metadata": {},
   "source": [
    "#### Siblings"
   ]
  },
  {
   "cell_type": "code",
   "execution_count": 42,
   "id": "894fa47e",
   "metadata": {},
   "outputs": [
    {
     "data": {
      "text/plain": [
       "'Categoria: melhor filme'"
      ]
     },
     "execution_count": 42,
     "metadata": {},
     "output_type": "execute_result"
    }
   ],
   "source": [
    "soup.find('h2').get_text()"
   ]
  },
  {
   "cell_type": "code",
   "execution_count": 43,
   "id": "90455cee",
   "metadata": {},
   "outputs": [
    {
     "data": {
      "text/plain": [
       "<ul>\n",
       "<li>Ford vs Ferrari</li>\n",
       "<li>O Irlandês</li>\n",
       "<li>JoJo Rabbit</li>\n",
       "<li>Coringa</li>\n",
       "<li>Adoráveis Mulheres</li>\n",
       "<li>História de um Casamento</li>\n",
       "<li>1917</li>\n",
       "<li>Era Uma Vez Em Hollywood</li>\n",
       "<li class=\"vencedor\">Parasita <strong>[VENCEDOR]</strong></li>\n",
       "</ul>"
      ]
     },
     "execution_count": 43,
     "metadata": {},
     "output_type": "execute_result"
    }
   ],
   "source": [
    "soup.find('h2').find_next_sibling()"
   ]
  },
  {
   "cell_type": "code",
   "execution_count": 44,
   "id": "fa4048ee",
   "metadata": {},
   "outputs": [
    {
     "data": {
      "text/plain": [
       "[<br/>,\n",
       " <div class=\"categoria-melhor-ator\">\n",
       " <h2>Categoria: melhor ator</h2>\n",
       " <ul>\n",
       " <li>Antonio Banderas - Dor e Glória</li>\n",
       " <li>Leonardo DiCaprio - Era Uma Vez Em... Hollywood</li>\n",
       " <li>Adam Driver - História de um Casamento</li>\n",
       " <li class=\"vencedor\">Joaquin Phoenix - Coringa <strong>[VENCEDOR]</strong></li>\n",
       " <li>Jonathan Price - Dois Papas</li>\n",
       " </ul>\n",
       " </div>,\n",
       " <br/>,\n",
       " <div class=\"categoria-melhor-atriz\">\n",
       " <h2>Categoria: melhor atriz</h2>\n",
       " <ul>\n",
       " <li>Cythia Erivo - Harriet</li>\n",
       " <li>Scarlett Johansson - História de um Casamento</li>\n",
       " <li>Saoirse Ronan - Adoráveis Mulheres</li>\n",
       " <li>Charlize Theron - O Escândalo</li>\n",
       " <li class=\"vencedor\">Renée Zellweger - Judy: Muito Além do Arco-Íris <strong>[VENCEDOR]</strong></li>\n",
       " </ul>\n",
       " </div>]"
      ]
     },
     "execution_count": 44,
     "metadata": {},
     "output_type": "execute_result"
    }
   ],
   "source": [
    "soup.find('div', {'class': 'categoria-melhor-filme'}).find_next_siblings()"
   ]
  },
  {
   "cell_type": "code",
   "execution_count": 45,
   "id": "af46b90a",
   "metadata": {},
   "outputs": [
    {
     "data": {
      "text/plain": [
       "'Era Uma Vez Em Hollywood'"
      ]
     },
     "execution_count": 45,
     "metadata": {},
     "output_type": "execute_result"
    }
   ],
   "source": [
    "soup.find('li', {'class': 'vencedor'}).find_previous_sibling().get_text()"
   ]
  },
  {
   "cell_type": "code",
   "execution_count": 46,
   "id": "5ea39b6d",
   "metadata": {},
   "outputs": [
    {
     "data": {
      "text/plain": [
       "[<br/>,\n",
       " <div class=\"categoria-melhor-ator\">\n",
       " <h2>Categoria: melhor ator</h2>\n",
       " <ul>\n",
       " <li>Antonio Banderas - Dor e Glória</li>\n",
       " <li>Leonardo DiCaprio - Era Uma Vez Em... Hollywood</li>\n",
       " <li>Adam Driver - História de um Casamento</li>\n",
       " <li class=\"vencedor\">Joaquin Phoenix - Coringa <strong>[VENCEDOR]</strong></li>\n",
       " <li>Jonathan Price - Dois Papas</li>\n",
       " </ul>\n",
       " </div>,\n",
       " <br/>,\n",
       " <div class=\"categoria-melhor-filme\">\n",
       " <h2>Categoria: melhor filme</h2>\n",
       " <ul>\n",
       " <li>Ford vs Ferrari</li>\n",
       " <li>O Irlandês</li>\n",
       " <li>JoJo Rabbit</li>\n",
       " <li>Coringa</li>\n",
       " <li>Adoráveis Mulheres</li>\n",
       " <li>História de um Casamento</li>\n",
       " <li>1917</li>\n",
       " <li>Era Uma Vez Em Hollywood</li>\n",
       " <li class=\"vencedor\">Parasita <strong>[VENCEDOR]</strong></li>\n",
       " </ul>\n",
       " </div>]"
      ]
     },
     "execution_count": 46,
     "metadata": {},
     "output_type": "execute_result"
    }
   ],
   "source": [
    "soup.find('div', {'class': 'categoria-melhor-atriz'}).find_previous_siblings()"
   ]
  },
  {
   "cell_type": "markdown",
   "id": "6ea2a3d4",
   "metadata": {},
   "source": [
    "#### Next e Previous"
   ]
  },
  {
   "cell_type": "code",
   "execution_count": 47,
   "id": "de189553",
   "metadata": {},
   "outputs": [
    {
     "data": {
      "text/plain": [
       "'Joaquin Phoenix - Coringa [VENCEDOR]'"
      ]
     },
     "execution_count": 47,
     "metadata": {},
     "output_type": "execute_result"
    }
   ],
   "source": [
    "soup.find('div', {'class': 'categoria-melhor-ator'}).find('li', {'class': 'vencedor'}).get_text()"
   ]
  },
  {
   "cell_type": "code",
   "execution_count": 48,
   "id": "5266cddc",
   "metadata": {},
   "outputs": [
    {
     "data": {
      "text/plain": [
       "'Jonathan Price - Dois Papas'"
      ]
     },
     "execution_count": 48,
     "metadata": {},
     "output_type": "execute_result"
    }
   ],
   "source": [
    "soup.find('div', {'class': 'categoria-melhor-ator'}).find('li', {'class': 'vencedor'}).find_next('li').get_text()"
   ]
  },
  {
   "cell_type": "code",
   "execution_count": 49,
   "id": "7a7fb6be",
   "metadata": {},
   "outputs": [
    {
     "data": {
      "text/plain": [
       "'Adam Driver - História de um Casamento'"
      ]
     },
     "execution_count": 49,
     "metadata": {},
     "output_type": "execute_result"
    }
   ],
   "source": [
    "soup.find('div', {'class': 'categoria-melhor-ator'}).find('li', {'class': 'vencedor'}).find_previous('li').get_text()"
   ]
  },
  {
   "cell_type": "code",
   "execution_count": 50,
   "id": "19c667ba",
   "metadata": {},
   "outputs": [
    {
     "data": {
      "text/plain": [
       "[<li>Jonathan Price - Dois Papas</li>,\n",
       " <li>Cythia Erivo - Harriet</li>,\n",
       " <li>Scarlett Johansson - História de um Casamento</li>,\n",
       " <li>Saoirse Ronan - Adoráveis Mulheres</li>,\n",
       " <li>Charlize Theron - O Escândalo</li>,\n",
       " <li class=\"vencedor\">Renée Zellweger - Judy: Muito Além do Arco-Íris <strong>[VENCEDOR]</strong></li>]"
      ]
     },
     "execution_count": 50,
     "metadata": {},
     "output_type": "execute_result"
    }
   ],
   "source": [
    "soup.find('div', {'class': 'categoria-melhor-ator'}).find('li', {'class': 'vencedor'}).find_all_next('li')"
   ]
  },
  {
   "cell_type": "code",
   "execution_count": 51,
   "id": "e548c355",
   "metadata": {},
   "outputs": [
    {
     "data": {
      "text/plain": [
       "[<li>Adam Driver - História de um Casamento</li>,\n",
       " <li>Leonardo DiCaprio - Era Uma Vez Em... Hollywood</li>,\n",
       " <li>Antonio Banderas - Dor e Glória</li>,\n",
       " <li class=\"vencedor\">Parasita <strong>[VENCEDOR]</strong></li>,\n",
       " <li>Era Uma Vez Em Hollywood</li>,\n",
       " <li>1917</li>,\n",
       " <li>História de um Casamento</li>,\n",
       " <li>Adoráveis Mulheres</li>,\n",
       " <li>Coringa</li>,\n",
       " <li>JoJo Rabbit</li>,\n",
       " <li>O Irlandês</li>,\n",
       " <li>Ford vs Ferrari</li>,\n",
       " <li>O Irlandês</li>,\n",
       " <li>Era Uma Vez em Hollywood</li>,\n",
       " <li>1917</li>,\n",
       " <li>Coringa</li>]"
      ]
     },
     "execution_count": 51,
     "metadata": {},
     "output_type": "execute_result"
    }
   ],
   "source": [
    "soup.find('div', {'class': 'categoria-melhor-ator'}).find('li', {'class': 'vencedor'}).find_all_previous('li')"
   ]
  },
  {
   "cell_type": "markdown",
   "id": "5a5df431",
   "metadata": {},
   "source": [
    "#### Mini-Challenge 2: Collect all the movies that haven't won their categories"
   ]
  },
  {
   "cell_type": "code",
   "execution_count": 52,
   "id": "d2d30a62",
   "metadata": {},
   "outputs": [],
   "source": [
    "# Enter your answer here"
   ]
  },
  {
   "cell_type": "markdown",
   "id": "3c8de77a",
   "metadata": {},
   "source": [
    "### 4) Working with Dictionaries and DataFrames"
   ]
  },
  {
   "cell_type": "code",
   "execution_count": 53,
   "id": "b60bdc7d",
   "metadata": {},
   "outputs": [],
   "source": [
    "import pandas as pd"
   ]
  },
  {
   "cell_type": "code",
   "execution_count": 54,
   "id": "c74679ad",
   "metadata": {},
   "outputs": [
    {
     "data": {
      "text/plain": [
       "[<h2>Categoria: melhor filme</h2>,\n",
       " <h2>Categoria: melhor ator</h2>,\n",
       " <h2>Categoria: melhor atriz</h2>]"
      ]
     },
     "execution_count": 54,
     "metadata": {},
     "output_type": "execute_result"
    }
   ],
   "source": [
    "soup.find_all(\"h2\", text=re.compile(\"^Categoria\"))"
   ]
  },
  {
   "cell_type": "code",
   "execution_count": 55,
   "id": "a10333f4",
   "metadata": {},
   "outputs": [],
   "source": [
    "categorias = soup.find_all(\"h2\", text=re.compile(\"^Categoria\"))"
   ]
  },
  {
   "cell_type": "code",
   "execution_count": 56,
   "id": "1a2ce0c0",
   "metadata": {},
   "outputs": [
    {
     "data": {
      "text/plain": [
       "[<li class=\"vencedor\">Parasita <strong>[VENCEDOR]</strong></li>,\n",
       " <li class=\"vencedor\">Joaquin Phoenix - Coringa <strong>[VENCEDOR]</strong></li>,\n",
       " <li class=\"vencedor\">Renée Zellweger - Judy: Muito Além do Arco-Íris <strong>[VENCEDOR]</strong></li>]"
      ]
     },
     "execution_count": 56,
     "metadata": {},
     "output_type": "execute_result"
    }
   ],
   "source": [
    "soup.find_all(\"li\", {\"class\": \"vencedor\"})"
   ]
  },
  {
   "cell_type": "code",
   "execution_count": 58,
   "id": "baa0cd99",
   "metadata": {},
   "outputs": [],
   "source": [
    "vencedores = soup.find_all(\"li\", {\"class\": \"vencedor\"})"
   ]
  },
  {
   "cell_type": "code",
   "execution_count": 59,
   "id": "4f3b64d0",
   "metadata": {},
   "outputs": [],
   "source": [
    "vencedores_categorias = {}"
   ]
  },
  {
   "cell_type": "code",
   "execution_count": 60,
   "id": "e9f20206",
   "metadata": {},
   "outputs": [],
   "source": [
    "for cat, ven in zip(categorias, vencedores):\n",
    "    categoria = cat.get_text().replace(\"Categoria: \", \"\")\n",
    "    vencedor = ven.get_text().replace(\" [VENCEDOR]\", \"\")\n",
    "    \n",
    "    vencedores_categorias.update({categoria: [vencedor]})"
   ]
  },
  {
   "cell_type": "code",
   "execution_count": 61,
   "id": "f02411d5",
   "metadata": {},
   "outputs": [
    {
     "data": {
      "text/plain": [
       "{'melhor filme': ['Parasita'],\n",
       " 'melhor ator': ['Joaquin Phoenix - Coringa'],\n",
       " 'melhor atriz': ['Renée Zellweger - Judy: Muito Além do Arco-Íris']}"
      ]
     },
     "execution_count": 61,
     "metadata": {},
     "output_type": "execute_result"
    }
   ],
   "source": [
    "vencedores_categorias"
   ]
  },
  {
   "cell_type": "code",
   "execution_count": 62,
   "id": "66094755",
   "metadata": {},
   "outputs": [],
   "source": [
    "vencedores_categorias_df = pd.DataFrame.from_dict(vencedores_categorias, orient=\"index\", columns=[\"Vencedores\"])"
   ]
  },
  {
   "cell_type": "code",
   "execution_count": 63,
   "id": "45403e2b",
   "metadata": {},
   "outputs": [
    {
     "data": {
      "text/html": [
       "<div>\n",
       "<style scoped>\n",
       "    .dataframe tbody tr th:only-of-type {\n",
       "        vertical-align: middle;\n",
       "    }\n",
       "\n",
       "    .dataframe tbody tr th {\n",
       "        vertical-align: top;\n",
       "    }\n",
       "\n",
       "    .dataframe thead th {\n",
       "        text-align: right;\n",
       "    }\n",
       "</style>\n",
       "<table border=\"1\" class=\"dataframe\">\n",
       "  <thead>\n",
       "    <tr style=\"text-align: right;\">\n",
       "      <th></th>\n",
       "      <th>Vencedores</th>\n",
       "    </tr>\n",
       "  </thead>\n",
       "  <tbody>\n",
       "    <tr>\n",
       "      <th>melhor filme</th>\n",
       "      <td>Parasita</td>\n",
       "    </tr>\n",
       "    <tr>\n",
       "      <th>melhor ator</th>\n",
       "      <td>Joaquin Phoenix - Coringa</td>\n",
       "    </tr>\n",
       "    <tr>\n",
       "      <th>melhor atriz</th>\n",
       "      <td>Renée Zellweger - Judy: Muito Além do Arco-Íris</td>\n",
       "    </tr>\n",
       "  </tbody>\n",
       "</table>\n",
       "</div>"
      ],
      "text/plain": [
       "                                                   Vencedores\n",
       "melhor filme                                         Parasita\n",
       "melhor ator                         Joaquin Phoenix - Coringa\n",
       "melhor atriz  Renée Zellweger - Judy: Muito Além do Arco-Íris"
      ]
     },
     "execution_count": 63,
     "metadata": {},
     "output_type": "execute_result"
    }
   ],
   "source": [
    "vencedores_categorias_df"
   ]
  },
  {
   "cell_type": "markdown",
   "id": "a91f8b0d",
   "metadata": {},
   "source": [
    "### 5) Collecting data from the web"
   ]
  },
  {
   "cell_type": "code",
   "execution_count": 64,
   "id": "019b486e",
   "metadata": {},
   "outputs": [],
   "source": [
    "from urllib.request import urlopen"
   ]
  },
  {
   "cell_type": "code",
   "execution_count": 65,
   "id": "f63a0c17",
   "metadata": {},
   "outputs": [],
   "source": [
    "url = 'https://ocean-web-scraping.herokuapp.com/'"
   ]
  },
  {
   "cell_type": "code",
   "execution_count": 66,
   "id": "789cee9e",
   "metadata": {},
   "outputs": [],
   "source": [
    "response = urlopen(url)"
   ]
  },
  {
   "cell_type": "code",
   "execution_count": 67,
   "id": "ac6e8bc0",
   "metadata": {},
   "outputs": [],
   "source": [
    "html_ocean_ws = response.read()"
   ]
  },
  {
   "cell_type": "code",
   "execution_count": 68,
   "id": "54b2284a",
   "metadata": {},
   "outputs": [
    {
     "data": {
      "text/plain": [
       "b'<!DOCTYPE html>\\n<html lang=\"pt-br\">\\n\\t<head>\\n\\t\\t<meta charset=\"UTF-8\">\\n\\t\\t<meta name=\"viewport\" content=\"width=device-width\">\\n\\n\\t\\t<title>Oceano de Alugu\\xc3\\xa9is</title>\\n\\t\\t\\n\\t\\t<link rel=\"stylesheet\" href=\"reset.css\">\\n\\t\\t<link rel=\"stylesheet\" href=\"style.css\">\\n\\t\\t<link href=\"https://fonts.googleapis.com/css?family=Montserrat&display=swap\" rel=\"stylesheet\">\\n\\t</head>\\n\\n\\t<body>\\n\\t\\t<header>\\n\\t\\t\\t<div>\\n\\t\\t\\t\\t<img src=\"imagens/oceano-logo.png\">\\n\\t\\t\\t\\t<h1>Oceano de Alugu\\xc3\\xa9is</h1>\\n\\t\\t\\t\\t<nav>\\n\\t\\t\\t\\t\\t<ul>\\n\\t\\t\\t\\t\\t\\t<li><a href=\"results&page=1.html\">Resultados</a></li>\\n\\t\\t\\t\\t\\t\\t<li><a href=\"corretoras.html\">Corretoras</a></li>\\n\\t\\t\\t\\t\\t\\t<li><a href=\"sobre.html\">Sobre</a></li>\\n\\t\\t\\t\\t\\t</ul>\\n\\t\\t\\t\\t</nav>\\n\\t\\t\\t</div>\\n\\t\\t</header>\\n\\n\\t\\t<main>\\n\\t\\t\\t<div class=\"ad-card-list\">\\n\\t\\t\\t\\t<p>21 resultados obtidos - P\\xc3\\xa1gina 1</p>\\n\\n\\t\\t\\t\\t<div class=\"ad-card\">\\n\\t\\t\\t\\t\\t<img src=\"imagens/apto-01.jpg\" class=\"apto-img\">\\n\\t\\t\\t\\t\\t\\n\\t\\t\\t\\t\\t<div class=\"ad-card-info\">\\n\\t\\t\\t\\t\\t\\t<h2>Lindo apartamento para alugar</h2>\\n\\n\\t\\t\\t\\t\\t\\t<ul class=\"features\">\\n\\t\\t\\t\\t\\t\\t\\t<li><img src=\"imagens/area.png\"> 100 m\\xc2\\xb2</li>\\n\\t\\t\\t\\t\\t\\t\\t<li><img src=\"imagens/bedrooms.png\"> 3 quarto(s)</li>\\n\\t\\t\\t\\t\\t\\t\\t<li><img src=\"imagens/toilet.png\"> 2 banheiro(s)</li>\\n\\t\\t\\t\\t\\t\\t\\t<li><img src=\"imagens/parking.png\"> 2 vaga(s)</li>\\n\\t\\t\\t\\t\\t\\t</ul>\\n\\n\\t\\t\\t\\t\\t\\t<ul class=\"resources\">\\n\\t\\t\\t\\t\\t\\t\\t<li>Mobiliado</li>\\n\\t\\t\\t\\t\\t\\t\\t<li>Portaria 24h</li>\\n\\t\\t\\t\\t\\t\\t\\t<li>Elevador</li>\\n\\t\\t\\t\\t\\t\\t\\t<li>Piscina</li>\\n\\t\\t\\t\\t\\t\\t\\t<li>Churrasqueira</li>\\n\\t\\t\\t\\t\\t\\t\\t<li>Sal\\xc3\\xa3o de Festas</li>\\n\\t\\t\\t\\t\\t\\t\\t<li>Academia</li>\\n\\t\\t\\t\\t\\t\\t\\t<li>Playground</li>\\n\\t\\t\\t\\t\\t\\t\\t<li>Quadra poliesportiva</li>\\n\\t\\t\\t\\t\\t\\t\\t<li>Sal\\xc3\\xa3o de jogos</li>\\n\\t\\t\\t\\t\\t\\t\\t<li>Aceita animais</li>\\n\\t\\t\\t\\t\\t\\t</ul>\\n\\n\\t\\t\\t\\t\\t\\t<p>Localiza\\xc3\\xa7\\xc3\\xa3o: Oceano Pac\\xc3\\xadfico</p>\\n\\t\\t\\t\\t\\t</div>\\n\\n\\t\\t\\t\\t\\t<div class=\"ad-card-price\">\\n\\t\\t\\t\\t\\t\\t<p>Aluguel: R$ 4.000,00</p>\\n\\t\\t\\t\\t\\t\\t<p>Condom\\xc3\\xadnio: 500,00</p>\\n\\t\\t\\t\\t\\t\\t<p>IPTU: R$ 100,00</p>\\n\\t\\t\\t\\t\\t\\t<p>Corretora: Tubar\\xc3\\xa3o</p>\\n\\t\\t\\t\\t\\t</div>\\n\\t\\t\\t\\t</div>\\n\\n\\t\\t\\t\\t<div class=\"ad-card\">\\n\\t\\t\\t\\t\\t<img src=\"imagens/apto-02.jpg\" class=\"apto-img\">\\n\\t\\t\\t\\t\\t\\n\\t\\t\\t\\t\\t<div class=\"ad-card-info\">\\n\\t\\t\\t\\t\\t\\t<h2>\\xc3\\x93timo lugar para morar</h2>\\n\\n\\t\\t\\t\\t\\t\\t<ul class=\"features\">\\n\\t\\t\\t\\t\\t\\t\\t<li><img src=\"imagens/area.png\"> 60 m\\xc2\\xb2</li>\\n\\t\\t\\t\\t\\t\\t\\t<li><img src=\"imagens/bedrooms.png\"> 2 quarto(s)</li>\\n\\t\\t\\t\\t\\t\\t\\t<li><img src=\"imagens/toilet.png\"> 2 banheiro(s)</li>\\n\\t\\t\\t\\t\\t\\t\\t<li><img src=\"imagens/parking.png\"> 1 vaga(s)</li>\\n\\t\\t\\t\\t\\t\\t</ul>\\n\\n\\t\\t\\t\\t\\t\\t<ul class=\"resources\">\\n\\t\\t\\t\\t\\t\\t\\t<li>Mobiliado</li>\\n\\t\\t\\t\\t\\t\\t\\t<li>Portaria 24h</li>\\n\\t\\t\\t\\t\\t\\t\\t<li>Sal\\xc3\\xa3o de Festas</li>\\n\\t\\t\\t\\t\\t\\t\\t<li>Quadra poliesportiva</li>\\n\\t\\t\\t\\t\\t\\t</ul>\\n\\n\\t\\t\\t\\t\\t\\t<p>Localiza\\xc3\\xa7\\xc3\\xa3o: Oceano \\xc3\\x8dndico</p>\\n\\t\\t\\t\\t\\t</div>\\n\\n\\t\\t\\t\\t\\t<div class=\"ad-card-price\">\\n\\t\\t\\t\\t\\t\\t<p>Aluguel: R$ 2.000,00</p>\\n\\t\\t\\t\\t\\t\\t<p>Condom\\xc3\\xadnio: 200,00</p>\\n\\t\\t\\t\\t\\t\\t<p>IPTU: R$ 50,00</p>\\n\\t\\t\\t\\t\\t\\t<p>Corretora: Carangueijo</p>\\n\\t\\t\\t\\t\\t</div>\\n\\t\\t\\t\\t</div>\\n\\n\\t\\t\\t\\t<div class=\"ad-card\">\\n\\t\\t\\t\\t\\t<img src=\"imagens/apto-03.jpg\" class=\"apto-img\">\\n\\t\\t\\t\\t\\t\\n\\t\\t\\t\\t\\t<div class=\"ad-card-info\">\\n\\t\\t\\t\\t\\t\\t<h2>Bel\\xc3\\xadssimo apartamento mobiliado</h2>\\n\\n\\t\\t\\t\\t\\t\\t<ul class=\"features\">\\n\\t\\t\\t\\t\\t\\t\\t<li><img src=\"imagens/area.png\"> 50 m\\xc2\\xb2</li>\\n\\t\\t\\t\\t\\t\\t\\t<li><img src=\"imagens/bedrooms.png\"> 1 quarto(s)</li>\\n\\t\\t\\t\\t\\t\\t\\t<li><img src=\"imagens/toilet.png\"> 1 banheiro(s)</li>\\n\\t\\t\\t\\t\\t\\t\\t<li><img src=\"imagens/parking.png\"> 1 vaga(s)</li>\\n\\t\\t\\t\\t\\t\\t</ul>\\n\\n\\t\\t\\t\\t\\t\\t<ul class=\"resources\">\\n\\t\\t\\t\\t\\t\\t\\t<li>Mobiliado</li>\\n\\t\\t\\t\\t\\t\\t</ul>\\n\\n\\t\\t\\t\\t\\t\\t<p>Localiza\\xc3\\xa7\\xc3\\xa3o: Mar de Java</p>\\n\\t\\t\\t\\t\\t</div>\\n\\n\\t\\t\\t\\t\\t<div class=\"ad-card-price\">\\n\\t\\t\\t\\t\\t\\t<p>Aluguel: R$ 1.300,00</p>\\n\\t\\t\\t\\t\\t\\t<p>Condom\\xc3\\xadnio: 200,00</p>\\n\\t\\t\\t\\t\\t\\t<p>IPTU: R$ 50,00</p>\\n\\t\\t\\t\\t\\t\\t<p>Corretora: Baleia Azul</p>\\n\\t\\t\\t\\t\\t</div>\\n\\t\\t\\t\\t</div>\\n\\n\\t\\t\\t\\t<div class=\"ad-card\">\\n\\t\\t\\t\\t\\t<img src=\"imagens/apto-04.jpg\" class=\"apto-img\">\\n\\t\\t\\t\\t\\t\\n\\t\\t\\t\\t\\t<div class=\"ad-card-info\">\\n\\t\\t\\t\\t\\t\\t<h2>Um cantinho todo seu</h2>\\n\\n\\t\\t\\t\\t\\t\\t<ul class=\"features\">\\n\\t\\t\\t\\t\\t\\t\\t<li><img src=\"imagens/area.png\"> 60 m\\xc2\\xb2</li>\\n\\t\\t\\t\\t\\t\\t\\t<li><img src=\"imagens/bedrooms.png\"> 2 quarto(s)</li>\\n\\t\\t\\t\\t\\t\\t\\t<li><img src=\"imagens/toilet.png\"> 2 banheiro(s)</li>\\n\\t\\t\\t\\t\\t\\t\\t<li><img src=\"imagens/parking.png\"> 1 vaga(s)</li>\\n\\t\\t\\t\\t\\t\\t</ul>\\n\\n\\t\\t\\t\\t\\t\\t<ul class=\"resources\">\\n\\t\\t\\t\\t\\t\\t\\t<li>Mobiliado</li>\\n\\t\\t\\t\\t\\t\\t\\t<li>Portaria 24h</li>\\n\\t\\t\\t\\t\\t\\t</ul>\\n\\n\\t\\t\\t\\t\\t\\t<p>Localiza\\xc3\\xa7\\xc3\\xa3o: Oceano \\xc3\\x8dndico</p>\\n\\t\\t\\t\\t\\t</div>\\n\\n\\t\\t\\t\\t\\t<div class=\"ad-card-price\">\\n\\t\\t\\t\\t\\t\\t<p>Aluguel: R$ 1.800,00</p>\\n\\t\\t\\t\\t\\t\\t<p>Condom\\xc3\\xadnio: 100,00</p>\\n\\t\\t\\t\\t\\t\\t<p>IPTU: R$ 20,00</p>\\n\\t\\t\\t\\t\\t\\t<p>Corretora: Baleia Azul</p>\\n\\t\\t\\t\\t\\t</div>\\n\\t\\t\\t\\t</div>\\n\\n\\t\\t\\t\\t<div class=\"ad-card\">\\n\\t\\t\\t\\t\\t<img src=\"imagens/apto-05.jpg\" class=\"apto-img\">\\n\\t\\t\\t\\t\\t\\n\\t\\t\\t\\t\\t<div class=\"ad-card-info\">\\n\\t\\t\\t\\t\\t\\t<h2>Alugue j\\xc3\\xa1! \\xc3\\x93tima oportunidade</h2>\\n\\n\\t\\t\\t\\t\\t\\t<ul class=\"features\">\\n\\t\\t\\t\\t\\t\\t\\t<li><img src=\"imagens/area.png\"> 120 m\\xc2\\xb2</li>\\n\\t\\t\\t\\t\\t\\t\\t<li><img src=\"imagens/bedrooms.png\"> 4 quarto(s)</li>\\n\\t\\t\\t\\t\\t\\t\\t<li><img src=\"imagens/toilet.png\"> 3 banheiro(s)</li>\\n\\t\\t\\t\\t\\t\\t\\t<li><img src=\"imagens/parking.png\"> 2 vaga(s)</li>\\n\\t\\t\\t\\t\\t\\t</ul>\\n\\n\\t\\t\\t\\t\\t\\t<ul class=\"resources\">\\n\\t\\t\\t\\t\\t\\t\\t<li>Mobiliado</li>\\n\\t\\t\\t\\t\\t\\t\\t<li>Portaria 24h</li>\\n\\t\\t\\t\\t\\t\\t\\t<li>Elevador</li>\\n\\t\\t\\t\\t\\t\\t\\t<li>Piscina</li>\\n\\t\\t\\t\\t\\t\\t\\t<li>Churrasqueira</li>\\n\\t\\t\\t\\t\\t\\t\\t<li>Sal\\xc3\\xa3o de Festas</li>\\n\\t\\t\\t\\t\\t\\t\\t<li>Academia</li>\\n\\t\\t\\t\\t\\t\\t\\t<li>Playground</li>\\n\\t\\t\\t\\t\\t\\t\\t<li>Quadra poliesportiva</li>\\n\\t\\t\\t\\t\\t\\t\\t<li>Sal\\xc3\\xa3o de jogos</li>\\n\\t\\t\\t\\t\\t\\t\\t<li>Aceita animais</li>\\n\\t\\t\\t\\t\\t\\t</ul>\\n\\n\\t\\t\\t\\t\\t\\t<p>Localiza\\xc3\\xa7\\xc3\\xa3o: Oceano Pac\\xc3\\xadfico</p>\\n\\t\\t\\t\\t\\t</div>\\n\\n\\t\\t\\t\\t\\t<div class=\"ad-card-price\">\\n\\t\\t\\t\\t\\t\\t<p>Aluguel: R$ 3.800,00</p>\\n\\t\\t\\t\\t\\t\\t<p>Condom\\xc3\\xadnio: 500,00</p>\\n\\t\\t\\t\\t\\t\\t<p>IPTU: R$ 200,00</p>\\n\\t\\t\\t\\t\\t\\t<p>Corretora: Tubar\\xc3\\xa3o</p>\\n\\t\\t\\t\\t\\t</div>\\n\\t\\t\\t\\t</div>\\n\\t\\t\\t</div>\\n\\n\\t\\t\\t<div class=\"pagination\">\\n  \\t\\t\\t\\t<a class=\"inactive\" href=\"#\">&laquo;</a>\\n  \\t\\t\\t\\t<a class=\"active\" href=\"#\">1</a>\\n  \\t\\t\\t\\t<a href=\"results&page=2.html\">2</a>\\n  \\t\\t\\t\\t<a href=\"results&page=3.html\">3</a>\\n\\t\\t\\t\\t<a href=\"results&page=2.html\">&raquo;</a>\\n\\t\\t\\t</div>\\n\\t\\t</main>\\n\\n\\t\\t<footer>\\n\\t\\t\\t<img src=\"imagens/oceano-logo-cinza.png\">\\n\\t\\t\\t<p>Site criado com &#10084; para o curso de Web Scraping do Ocean.</p>\\n\\t\\t</footer>\\n\\t</body>\\n</html>'"
      ]
     },
     "execution_count": 68,
     "metadata": {},
     "output_type": "execute_result"
    }
   ],
   "source": [
    "html_ocean_ws\n"
   ]
  },
  {
   "cell_type": "code",
   "execution_count": 69,
   "id": "4fc66cde",
   "metadata": {},
   "outputs": [],
   "source": [
    "soup_ocean_ws = BeautifulSoup(html_ocean_ws, 'html.parser')"
   ]
  },
  {
   "cell_type": "code",
   "execution_count": 70,
   "id": "48d2298d",
   "metadata": {},
   "outputs": [
    {
     "data": {
      "text/plain": [
       "<!DOCTYPE html>\n",
       "\n",
       "<html lang=\"pt-br\">\n",
       "<head>\n",
       "<meta charset=\"utf-8\"/>\n",
       "<meta content=\"width=device-width\" name=\"viewport\"/>\n",
       "<title>Oceano de Aluguéis</title>\n",
       "<link href=\"reset.css\" rel=\"stylesheet\"/>\n",
       "<link href=\"style.css\" rel=\"stylesheet\"/>\n",
       "<link href=\"https://fonts.googleapis.com/css?family=Montserrat&amp;display=swap\" rel=\"stylesheet\"/>\n",
       "</head>\n",
       "<body>\n",
       "<header>\n",
       "<div>\n",
       "<img src=\"imagens/oceano-logo.png\"/>\n",
       "<h1>Oceano de Aluguéis</h1>\n",
       "<nav>\n",
       "<ul>\n",
       "<li><a href=\"results&amp;page=1.html\">Resultados</a></li>\n",
       "<li><a href=\"corretoras.html\">Corretoras</a></li>\n",
       "<li><a href=\"sobre.html\">Sobre</a></li>\n",
       "</ul>\n",
       "</nav>\n",
       "</div>\n",
       "</header>\n",
       "<main>\n",
       "<div class=\"ad-card-list\">\n",
       "<p>21 resultados obtidos - Página 1</p>\n",
       "<div class=\"ad-card\">\n",
       "<img class=\"apto-img\" src=\"imagens/apto-01.jpg\"/>\n",
       "<div class=\"ad-card-info\">\n",
       "<h2>Lindo apartamento para alugar</h2>\n",
       "<ul class=\"features\">\n",
       "<li><img src=\"imagens/area.png\"/> 100 m²</li>\n",
       "<li><img src=\"imagens/bedrooms.png\"/> 3 quarto(s)</li>\n",
       "<li><img src=\"imagens/toilet.png\"/> 2 banheiro(s)</li>\n",
       "<li><img src=\"imagens/parking.png\"/> 2 vaga(s)</li>\n",
       "</ul>\n",
       "<ul class=\"resources\">\n",
       "<li>Mobiliado</li>\n",
       "<li>Portaria 24h</li>\n",
       "<li>Elevador</li>\n",
       "<li>Piscina</li>\n",
       "<li>Churrasqueira</li>\n",
       "<li>Salão de Festas</li>\n",
       "<li>Academia</li>\n",
       "<li>Playground</li>\n",
       "<li>Quadra poliesportiva</li>\n",
       "<li>Salão de jogos</li>\n",
       "<li>Aceita animais</li>\n",
       "</ul>\n",
       "<p>Localização: Oceano Pacífico</p>\n",
       "</div>\n",
       "<div class=\"ad-card-price\">\n",
       "<p>Aluguel: R$ 4.000,00</p>\n",
       "<p>Condomínio: 500,00</p>\n",
       "<p>IPTU: R$ 100,00</p>\n",
       "<p>Corretora: Tubarão</p>\n",
       "</div>\n",
       "</div>\n",
       "<div class=\"ad-card\">\n",
       "<img class=\"apto-img\" src=\"imagens/apto-02.jpg\"/>\n",
       "<div class=\"ad-card-info\">\n",
       "<h2>Ótimo lugar para morar</h2>\n",
       "<ul class=\"features\">\n",
       "<li><img src=\"imagens/area.png\"/> 60 m²</li>\n",
       "<li><img src=\"imagens/bedrooms.png\"/> 2 quarto(s)</li>\n",
       "<li><img src=\"imagens/toilet.png\"/> 2 banheiro(s)</li>\n",
       "<li><img src=\"imagens/parking.png\"/> 1 vaga(s)</li>\n",
       "</ul>\n",
       "<ul class=\"resources\">\n",
       "<li>Mobiliado</li>\n",
       "<li>Portaria 24h</li>\n",
       "<li>Salão de Festas</li>\n",
       "<li>Quadra poliesportiva</li>\n",
       "</ul>\n",
       "<p>Localização: Oceano Índico</p>\n",
       "</div>\n",
       "<div class=\"ad-card-price\">\n",
       "<p>Aluguel: R$ 2.000,00</p>\n",
       "<p>Condomínio: 200,00</p>\n",
       "<p>IPTU: R$ 50,00</p>\n",
       "<p>Corretora: Carangueijo</p>\n",
       "</div>\n",
       "</div>\n",
       "<div class=\"ad-card\">\n",
       "<img class=\"apto-img\" src=\"imagens/apto-03.jpg\"/>\n",
       "<div class=\"ad-card-info\">\n",
       "<h2>Belíssimo apartamento mobiliado</h2>\n",
       "<ul class=\"features\">\n",
       "<li><img src=\"imagens/area.png\"/> 50 m²</li>\n",
       "<li><img src=\"imagens/bedrooms.png\"/> 1 quarto(s)</li>\n",
       "<li><img src=\"imagens/toilet.png\"/> 1 banheiro(s)</li>\n",
       "<li><img src=\"imagens/parking.png\"/> 1 vaga(s)</li>\n",
       "</ul>\n",
       "<ul class=\"resources\">\n",
       "<li>Mobiliado</li>\n",
       "</ul>\n",
       "<p>Localização: Mar de Java</p>\n",
       "</div>\n",
       "<div class=\"ad-card-price\">\n",
       "<p>Aluguel: R$ 1.300,00</p>\n",
       "<p>Condomínio: 200,00</p>\n",
       "<p>IPTU: R$ 50,00</p>\n",
       "<p>Corretora: Baleia Azul</p>\n",
       "</div>\n",
       "</div>\n",
       "<div class=\"ad-card\">\n",
       "<img class=\"apto-img\" src=\"imagens/apto-04.jpg\"/>\n",
       "<div class=\"ad-card-info\">\n",
       "<h2>Um cantinho todo seu</h2>\n",
       "<ul class=\"features\">\n",
       "<li><img src=\"imagens/area.png\"/> 60 m²</li>\n",
       "<li><img src=\"imagens/bedrooms.png\"/> 2 quarto(s)</li>\n",
       "<li><img src=\"imagens/toilet.png\"/> 2 banheiro(s)</li>\n",
       "<li><img src=\"imagens/parking.png\"/> 1 vaga(s)</li>\n",
       "</ul>\n",
       "<ul class=\"resources\">\n",
       "<li>Mobiliado</li>\n",
       "<li>Portaria 24h</li>\n",
       "</ul>\n",
       "<p>Localização: Oceano Índico</p>\n",
       "</div>\n",
       "<div class=\"ad-card-price\">\n",
       "<p>Aluguel: R$ 1.800,00</p>\n",
       "<p>Condomínio: 100,00</p>\n",
       "<p>IPTU: R$ 20,00</p>\n",
       "<p>Corretora: Baleia Azul</p>\n",
       "</div>\n",
       "</div>\n",
       "<div class=\"ad-card\">\n",
       "<img class=\"apto-img\" src=\"imagens/apto-05.jpg\"/>\n",
       "<div class=\"ad-card-info\">\n",
       "<h2>Alugue já! Ótima oportunidade</h2>\n",
       "<ul class=\"features\">\n",
       "<li><img src=\"imagens/area.png\"/> 120 m²</li>\n",
       "<li><img src=\"imagens/bedrooms.png\"/> 4 quarto(s)</li>\n",
       "<li><img src=\"imagens/toilet.png\"/> 3 banheiro(s)</li>\n",
       "<li><img src=\"imagens/parking.png\"/> 2 vaga(s)</li>\n",
       "</ul>\n",
       "<ul class=\"resources\">\n",
       "<li>Mobiliado</li>\n",
       "<li>Portaria 24h</li>\n",
       "<li>Elevador</li>\n",
       "<li>Piscina</li>\n",
       "<li>Churrasqueira</li>\n",
       "<li>Salão de Festas</li>\n",
       "<li>Academia</li>\n",
       "<li>Playground</li>\n",
       "<li>Quadra poliesportiva</li>\n",
       "<li>Salão de jogos</li>\n",
       "<li>Aceita animais</li>\n",
       "</ul>\n",
       "<p>Localização: Oceano Pacífico</p>\n",
       "</div>\n",
       "<div class=\"ad-card-price\">\n",
       "<p>Aluguel: R$ 3.800,00</p>\n",
       "<p>Condomínio: 500,00</p>\n",
       "<p>IPTU: R$ 200,00</p>\n",
       "<p>Corretora: Tubarão</p>\n",
       "</div>\n",
       "</div>\n",
       "</div>\n",
       "<div class=\"pagination\">\n",
       "<a class=\"inactive\" href=\"#\">«</a>\n",
       "<a class=\"active\" href=\"#\">1</a>\n",
       "<a href=\"results&amp;page=2.html\">2</a>\n",
       "<a href=\"results&amp;page=3.html\">3</a>\n",
       "<a href=\"results&amp;page=2.html\">»</a>\n",
       "</div>\n",
       "</main>\n",
       "<footer>\n",
       "<img src=\"imagens/oceano-logo-cinza.png\"/>\n",
       "<p>Site criado com ❤ para o curso de Web Scraping do Ocean.</p>\n",
       "</footer>\n",
       "</body>\n",
       "</html>"
      ]
     },
     "execution_count": 70,
     "metadata": {},
     "output_type": "execute_result"
    }
   ],
   "source": [
    "soup_ocean_ws\n"
   ]
  },
  {
   "cell_type": "code",
   "execution_count": 71,
   "id": "e7f1b6ce",
   "metadata": {},
   "outputs": [
    {
     "name": "stdout",
     "output_type": "stream",
     "text": [
      "<!DOCTYPE html>\n",
      "<html lang=\"pt-br\">\n",
      " <head>\n",
      "  <meta charset=\"utf-8\"/>\n",
      "  <meta content=\"width=device-width\" name=\"viewport\"/>\n",
      "  <title>\n",
      "   Oceano de Aluguéis\n",
      "  </title>\n",
      "  <link href=\"reset.css\" rel=\"stylesheet\"/>\n",
      "  <link href=\"style.css\" rel=\"stylesheet\"/>\n",
      "  <link href=\"https://fonts.googleapis.com/css?family=Montserrat&amp;display=swap\" rel=\"stylesheet\"/>\n",
      " </head>\n",
      " <body>\n",
      "  <header>\n",
      "   <div>\n",
      "    <img src=\"imagens/oceano-logo.png\"/>\n",
      "    <h1>\n",
      "     Oceano de Aluguéis\n",
      "    </h1>\n",
      "    <nav>\n",
      "     <ul>\n",
      "      <li>\n",
      "       <a href=\"results&amp;page=1.html\">\n",
      "        Resultados\n",
      "       </a>\n",
      "      </li>\n",
      "      <li>\n",
      "       <a href=\"corretoras.html\">\n",
      "        Corretoras\n",
      "       </a>\n",
      "      </li>\n",
      "      <li>\n",
      "       <a href=\"sobre.html\">\n",
      "        Sobre\n",
      "       </a>\n",
      "      </li>\n",
      "     </ul>\n",
      "    </nav>\n",
      "   </div>\n",
      "  </header>\n",
      "  <main>\n",
      "   <div class=\"ad-card-list\">\n",
      "    <p>\n",
      "     21 resultados obtidos - Página 1\n",
      "    </p>\n",
      "    <div class=\"ad-card\">\n",
      "     <img class=\"apto-img\" src=\"imagens/apto-01.jpg\"/>\n",
      "     <div class=\"ad-card-info\">\n",
      "      <h2>\n",
      "       Lindo apartamento para alugar\n",
      "      </h2>\n",
      "      <ul class=\"features\">\n",
      "       <li>\n",
      "        <img src=\"imagens/area.png\"/>\n",
      "        100 m²\n",
      "       </li>\n",
      "       <li>\n",
      "        <img src=\"imagens/bedrooms.png\"/>\n",
      "        3 quarto(s)\n",
      "       </li>\n",
      "       <li>\n",
      "        <img src=\"imagens/toilet.png\"/>\n",
      "        2 banheiro(s)\n",
      "       </li>\n",
      "       <li>\n",
      "        <img src=\"imagens/parking.png\"/>\n",
      "        2 vaga(s)\n",
      "       </li>\n",
      "      </ul>\n",
      "      <ul class=\"resources\">\n",
      "       <li>\n",
      "        Mobiliado\n",
      "       </li>\n",
      "       <li>\n",
      "        Portaria 24h\n",
      "       </li>\n",
      "       <li>\n",
      "        Elevador\n",
      "       </li>\n",
      "       <li>\n",
      "        Piscina\n",
      "       </li>\n",
      "       <li>\n",
      "        Churrasqueira\n",
      "       </li>\n",
      "       <li>\n",
      "        Salão de Festas\n",
      "       </li>\n",
      "       <li>\n",
      "        Academia\n",
      "       </li>\n",
      "       <li>\n",
      "        Playground\n",
      "       </li>\n",
      "       <li>\n",
      "        Quadra poliesportiva\n",
      "       </li>\n",
      "       <li>\n",
      "        Salão de jogos\n",
      "       </li>\n",
      "       <li>\n",
      "        Aceita animais\n",
      "       </li>\n",
      "      </ul>\n",
      "      <p>\n",
      "       Localização: Oceano Pacífico\n",
      "      </p>\n",
      "     </div>\n",
      "     <div class=\"ad-card-price\">\n",
      "      <p>\n",
      "       Aluguel: R$ 4.000,00\n",
      "      </p>\n",
      "      <p>\n",
      "       Condomínio: 500,00\n",
      "      </p>\n",
      "      <p>\n",
      "       IPTU: R$ 100,00\n",
      "      </p>\n",
      "      <p>\n",
      "       Corretora: Tubarão\n",
      "      </p>\n",
      "     </div>\n",
      "    </div>\n",
      "    <div class=\"ad-card\">\n",
      "     <img class=\"apto-img\" src=\"imagens/apto-02.jpg\"/>\n",
      "     <div class=\"ad-card-info\">\n",
      "      <h2>\n",
      "       Ótimo lugar para morar\n",
      "      </h2>\n",
      "      <ul class=\"features\">\n",
      "       <li>\n",
      "        <img src=\"imagens/area.png\"/>\n",
      "        60 m²\n",
      "       </li>\n",
      "       <li>\n",
      "        <img src=\"imagens/bedrooms.png\"/>\n",
      "        2 quarto(s)\n",
      "       </li>\n",
      "       <li>\n",
      "        <img src=\"imagens/toilet.png\"/>\n",
      "        2 banheiro(s)\n",
      "       </li>\n",
      "       <li>\n",
      "        <img src=\"imagens/parking.png\"/>\n",
      "        1 vaga(s)\n",
      "       </li>\n",
      "      </ul>\n",
      "      <ul class=\"resources\">\n",
      "       <li>\n",
      "        Mobiliado\n",
      "       </li>\n",
      "       <li>\n",
      "        Portaria 24h\n",
      "       </li>\n",
      "       <li>\n",
      "        Salão de Festas\n",
      "       </li>\n",
      "       <li>\n",
      "        Quadra poliesportiva\n",
      "       </li>\n",
      "      </ul>\n",
      "      <p>\n",
      "       Localização: Oceano Índico\n",
      "      </p>\n",
      "     </div>\n",
      "     <div class=\"ad-card-price\">\n",
      "      <p>\n",
      "       Aluguel: R$ 2.000,00\n",
      "      </p>\n",
      "      <p>\n",
      "       Condomínio: 200,00\n",
      "      </p>\n",
      "      <p>\n",
      "       IPTU: R$ 50,00\n",
      "      </p>\n",
      "      <p>\n",
      "       Corretora: Carangueijo\n",
      "      </p>\n",
      "     </div>\n",
      "    </div>\n",
      "    <div class=\"ad-card\">\n",
      "     <img class=\"apto-img\" src=\"imagens/apto-03.jpg\"/>\n",
      "     <div class=\"ad-card-info\">\n",
      "      <h2>\n",
      "       Belíssimo apartamento mobiliado\n",
      "      </h2>\n",
      "      <ul class=\"features\">\n",
      "       <li>\n",
      "        <img src=\"imagens/area.png\"/>\n",
      "        50 m²\n",
      "       </li>\n",
      "       <li>\n",
      "        <img src=\"imagens/bedrooms.png\"/>\n",
      "        1 quarto(s)\n",
      "       </li>\n",
      "       <li>\n",
      "        <img src=\"imagens/toilet.png\"/>\n",
      "        1 banheiro(s)\n",
      "       </li>\n",
      "       <li>\n",
      "        <img src=\"imagens/parking.png\"/>\n",
      "        1 vaga(s)\n",
      "       </li>\n",
      "      </ul>\n",
      "      <ul class=\"resources\">\n",
      "       <li>\n",
      "        Mobiliado\n",
      "       </li>\n",
      "      </ul>\n",
      "      <p>\n",
      "       Localização: Mar de Java\n",
      "      </p>\n",
      "     </div>\n",
      "     <div class=\"ad-card-price\">\n",
      "      <p>\n",
      "       Aluguel: R$ 1.300,00\n",
      "      </p>\n",
      "      <p>\n",
      "       Condomínio: 200,00\n",
      "      </p>\n",
      "      <p>\n",
      "       IPTU: R$ 50,00\n",
      "      </p>\n",
      "      <p>\n",
      "       Corretora: Baleia Azul\n",
      "      </p>\n",
      "     </div>\n",
      "    </div>\n",
      "    <div class=\"ad-card\">\n",
      "     <img class=\"apto-img\" src=\"imagens/apto-04.jpg\"/>\n",
      "     <div class=\"ad-card-info\">\n",
      "      <h2>\n",
      "       Um cantinho todo seu\n",
      "      </h2>\n",
      "      <ul class=\"features\">\n",
      "       <li>\n",
      "        <img src=\"imagens/area.png\"/>\n",
      "        60 m²\n",
      "       </li>\n",
      "       <li>\n",
      "        <img src=\"imagens/bedrooms.png\"/>\n",
      "        2 quarto(s)\n",
      "       </li>\n",
      "       <li>\n",
      "        <img src=\"imagens/toilet.png\"/>\n",
      "        2 banheiro(s)\n",
      "       </li>\n",
      "       <li>\n",
      "        <img src=\"imagens/parking.png\"/>\n",
      "        1 vaga(s)\n",
      "       </li>\n",
      "      </ul>\n",
      "      <ul class=\"resources\">\n",
      "       <li>\n",
      "        Mobiliado\n",
      "       </li>\n",
      "       <li>\n",
      "        Portaria 24h\n",
      "       </li>\n",
      "      </ul>\n",
      "      <p>\n",
      "       Localização: Oceano Índico\n",
      "      </p>\n",
      "     </div>\n",
      "     <div class=\"ad-card-price\">\n",
      "      <p>\n",
      "       Aluguel: R$ 1.800,00\n",
      "      </p>\n",
      "      <p>\n",
      "       Condomínio: 100,00\n",
      "      </p>\n",
      "      <p>\n",
      "       IPTU: R$ 20,00\n",
      "      </p>\n",
      "      <p>\n",
      "       Corretora: Baleia Azul\n",
      "      </p>\n",
      "     </div>\n",
      "    </div>\n",
      "    <div class=\"ad-card\">\n",
      "     <img class=\"apto-img\" src=\"imagens/apto-05.jpg\"/>\n",
      "     <div class=\"ad-card-info\">\n",
      "      <h2>\n",
      "       Alugue já! Ótima oportunidade\n",
      "      </h2>\n",
      "      <ul class=\"features\">\n",
      "       <li>\n",
      "        <img src=\"imagens/area.png\"/>\n",
      "        120 m²\n",
      "       </li>\n",
      "       <li>\n",
      "        <img src=\"imagens/bedrooms.png\"/>\n",
      "        4 quarto(s)\n",
      "       </li>\n",
      "       <li>\n",
      "        <img src=\"imagens/toilet.png\"/>\n",
      "        3 banheiro(s)\n",
      "       </li>\n",
      "       <li>\n",
      "        <img src=\"imagens/parking.png\"/>\n",
      "        2 vaga(s)\n",
      "       </li>\n",
      "      </ul>\n",
      "      <ul class=\"resources\">\n",
      "       <li>\n",
      "        Mobiliado\n",
      "       </li>\n",
      "       <li>\n",
      "        Portaria 24h\n",
      "       </li>\n",
      "       <li>\n",
      "        Elevador\n",
      "       </li>\n",
      "       <li>\n",
      "        Piscina\n",
      "       </li>\n",
      "       <li>\n",
      "        Churrasqueira\n",
      "       </li>\n",
      "       <li>\n",
      "        Salão de Festas\n",
      "       </li>\n",
      "       <li>\n",
      "        Academia\n",
      "       </li>\n",
      "       <li>\n",
      "        Playground\n",
      "       </li>\n",
      "       <li>\n",
      "        Quadra poliesportiva\n",
      "       </li>\n",
      "       <li>\n",
      "        Salão de jogos\n",
      "       </li>\n",
      "       <li>\n",
      "        Aceita animais\n",
      "       </li>\n",
      "      </ul>\n",
      "      <p>\n",
      "       Localização: Oceano Pacífico\n",
      "      </p>\n",
      "     </div>\n",
      "     <div class=\"ad-card-price\">\n",
      "      <p>\n",
      "       Aluguel: R$ 3.800,00\n",
      "      </p>\n",
      "      <p>\n",
      "       Condomínio: 500,00\n",
      "      </p>\n",
      "      <p>\n",
      "       IPTU: R$ 200,00\n",
      "      </p>\n",
      "      <p>\n",
      "       Corretora: Tubarão\n",
      "      </p>\n",
      "     </div>\n",
      "    </div>\n",
      "   </div>\n",
      "   <div class=\"pagination\">\n",
      "    <a class=\"inactive\" href=\"#\">\n",
      "     «\n",
      "    </a>\n",
      "    <a class=\"active\" href=\"#\">\n",
      "     1\n",
      "    </a>\n",
      "    <a href=\"results&amp;page=2.html\">\n",
      "     2\n",
      "    </a>\n",
      "    <a href=\"results&amp;page=3.html\">\n",
      "     3\n",
      "    </a>\n",
      "    <a href=\"results&amp;page=2.html\">\n",
      "     »\n",
      "    </a>\n",
      "   </div>\n",
      "  </main>\n",
      "  <footer>\n",
      "   <img src=\"imagens/oceano-logo-cinza.png\"/>\n",
      "   <p>\n",
      "    Site criado com ❤ para o curso de Web Scraping do Ocean.\n",
      "   </p>\n",
      "  </footer>\n",
      " </body>\n",
      "</html>\n"
     ]
    }
   ],
   "source": [
    "print(soup_ocean_ws.prettify())\n"
   ]
  },
  {
   "cell_type": "markdown",
   "id": "771dfbd6",
   "metadata": {},
   "source": [
    "#### Mini-Challenge 3: Complete the list of challenges from the 'About' page\n",
    "* https://ocean-web-scraping.herokuapp.com/sobre.html"
   ]
  },
  {
   "cell_type": "code",
   "execution_count": null,
   "id": "3cb4288c",
   "metadata": {},
   "outputs": [],
   "source": [
    "# Enter your answer here"
   ]
  }
 ],
 "metadata": {
  "kernelspec": {
   "display_name": "Python 3 (ipykernel)",
   "language": "python",
   "name": "python3"
  },
  "language_info": {
   "codemirror_mode": {
    "name": "ipython",
    "version": 3
   },
   "file_extension": ".py",
   "mimetype": "text/x-python",
   "name": "python",
   "nbconvert_exporter": "python",
   "pygments_lexer": "ipython3",
   "version": "3.9.12"
  }
 },
 "nbformat": 4,
 "nbformat_minor": 5
}
