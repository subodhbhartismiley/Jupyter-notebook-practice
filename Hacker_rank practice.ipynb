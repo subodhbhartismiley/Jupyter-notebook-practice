{
 "cells": [
  {
   "cell_type": "code",
   "execution_count": 7,
   "id": "ce0ad50a",
   "metadata": {},
   "outputs": [
    {
     "name": "stdout",
     "output_type": "stream",
     "text": [
      ";kdljhkbdn\n",
      ";bddhjkkln\n"
     ]
    }
   ],
   "source": [
    "s=input()\n",
    "s=sorted(s)\n",
    "a=\"\"\n",
    "for i in s:\n",
    "    a=a+i\n",
    "print(a)"
   ]
  },
  {
   "cell_type": "code",
   "execution_count": 10,
   "id": "fd092406",
   "metadata": {},
   "outputs": [
    {
     "name": "stdout",
     "output_type": "stream",
     "text": [
      "<class 'list'>\n",
      "[{'name': 'Albert', 'email': 'albert@example.com', 'age': 21}, {'name': 'John', 'email': 'john@example.com', 'age': 23}, {'name': 'Taylor', 'email': 'taylor@example.com', 'age': 25}, {'name': 'Cameron', 'email': 'cameron@example.com', 'age': 27}, {'name': 'Mark', 'email': 'mark@example.com', 'age': 28}]\n"
     ]
    }
   ],
   "source": [
    "# A function that returns the 'year' value:\n",
    "\n",
    "def ageFunc(ele):\n",
    "    return ele['age']\n",
    "\n",
    "#declaring a list of student dictionaries\n",
    "\n",
    "students = [\n",
    "\n",
    "  {'name': 'Mark', 'email':'mark@example.com' ,'age': 28},\n",
    "\n",
    "  {'name': 'John', 'email':'john@example.com' ,'age': 23},\n",
    "\n",
    "  {'name': 'Albert', 'email':'albert@example.com' ,'age': 21},\n",
    "\n",
    "  {'name': 'Cameron', 'email':'cameron@example.com' ,'age': 27},\n",
    "\n",
    "  {'name': 'Taylor', 'email':'taylor@example.com' ,'age': 25}\n",
    "\n",
    "]        \n",
    "\n",
    "#sorting the list\n",
    "\n",
    "students.sort(key=ageFunc)\n",
    "\n",
    "#printing the sorted list\n",
    "print(type(students))\n",
    "print(students)"
   ]
  },
  {
   "cell_type": "code",
   "execution_count": 17,
   "id": "778b68e5",
   "metadata": {},
   "outputs": [
    {
     "name": "stdout",
     "output_type": "stream",
     "text": [
      "The original list is: \n",
      "['Goat', 'Cat', 'Elephant', 'Crocodil', 'Rabbit', 'Rhinoceros']\n",
      "The sorted list is: \n",
      "Cat\n",
      "Goat\n",
      "Rabbit\n",
      "Elephant\n",
      "Crocodil\n",
      "Rhinoceros\n"
     ]
    }
   ],
   "source": [
    "#declaring a function\n",
    "\n",
    "def funcLen(ele):\n",
    "\n",
    "    return len(ele)\n",
    "\n",
    "#declaring a list of animals\n",
    "\n",
    "my_list = ['Goat','Cat','Elephant','Crocodil','Rabbit','Rhinoceros']\n",
    "\n",
    "print(\"The original list is: \")\n",
    "\n",
    "print(my_list)\n",
    "\n",
    "#sorting the list using the funcLen function\n",
    "\n",
    "my_list.sort(key=funcLen)\n",
    "\n",
    "print(\"The sorted list is: \")\n",
    "for i in my_list:\n",
    "    print(i)"
   ]
  },
  {
   "cell_type": "code",
   "execution_count": 70,
   "id": "aab0f464",
   "metadata": {},
   "outputs": [
    {
     "name": "stdout",
     "output_type": "stream",
     "text": [
      "Sorting1234\n",
      "ginortS1324\n"
     ]
    }
   ],
   "source": [
    "s=input()\n",
    "\n",
    "def lowUpDigitcase(x):\n",
    "    x=str(x)\n",
    "    a=[]\n",
    "    b=[]\n",
    "    c=[]\n",
    "    d=[]\n",
    "    e=[]\n",
    "    for ele in x:\n",
    "        if ele.islower():\n",
    "            a.append(ele)\n",
    "        elif ele.isupper():\n",
    "            b.append(ele)\n",
    "        elif ele.isdigit():\n",
    "            c.append(ele)\n",
    "\n",
    "    for i in c:\n",
    "        i=int(i)\n",
    "        if i%2!=0:\n",
    "            d.append(str(i))\n",
    "        else:\n",
    "            e.append(str(i))\n",
    "    a.sort()\n",
    "    b.sort()\n",
    "    c.sort()\n",
    "    d.sort()\n",
    "    e.sort()\n",
    "    return a+b+d+e\n",
    "s=lowUpDigitcase(s)\n",
    "s=list(s)\n",
    "a=\"\"\n",
    "for i in s:\n",
    "    a=a+i\n",
    "print(a)"
   ]
  },
  {
   "cell_type": "code",
   "execution_count": 31,
   "id": "85141bcd",
   "metadata": {},
   "outputs": [],
   "source": [
    "s=\"lhksbnU\""
   ]
  },
  {
   "cell_type": "code",
   "execution_count": 32,
   "id": "eb0c12ed",
   "metadata": {},
   "outputs": [
    {
     "data": {
      "text/plain": [
       "'lhksbnu'"
      ]
     },
     "execution_count": 32,
     "metadata": {},
     "output_type": "execute_result"
    }
   ],
   "source": [
    "s."
   ]
  },
  {
   "cell_type": "code",
   "execution_count": 27,
   "id": "7610fb23",
   "metadata": {},
   "outputs": [],
   "source": [
    "s=list(s)"
   ]
  },
  {
   "cell_type": "code",
   "execution_count": 28,
   "id": "82ef50e8",
   "metadata": {},
   "outputs": [],
   "source": [
    "s=s.sort()"
   ]
  },
  {
   "cell_type": "code",
   "execution_count": 29,
   "id": "90285c4c",
   "metadata": {},
   "outputs": [],
   "source": [
    "s"
   ]
  },
  {
   "cell_type": "code",
   "execution_count": 56,
   "id": "a7775464",
   "metadata": {},
   "outputs": [],
   "source": [
    "l=[\"gf\", \"jhd\"]\n",
    "l2=[67, 90]"
   ]
  },
  {
   "cell_type": "code",
   "execution_count": 57,
   "id": "2e646a2e",
   "metadata": {},
   "outputs": [],
   "source": [
    "l.sort()\n",
    "l2.sort()"
   ]
  },
  {
   "cell_type": "code",
   "execution_count": 58,
   "id": "05e9b77d",
   "metadata": {},
   "outputs": [],
   "source": [
    "l3=l+l2"
   ]
  },
  {
   "cell_type": "code",
   "execution_count": 59,
   "id": "91202222",
   "metadata": {},
   "outputs": [
    {
     "data": {
      "text/plain": [
       "['gf', 'jhd', 67, 90]"
      ]
     },
     "execution_count": 59,
     "metadata": {},
     "output_type": "execute_result"
    }
   ],
   "source": [
    "l3"
   ]
  },
  {
   "cell_type": "code",
   "execution_count": null,
   "id": "0e1873ea",
   "metadata": {},
   "outputs": [],
   "source": [
    "l3."
   ]
  },
  {
   "cell_type": "code",
   "execution_count": 75,
   "id": "69885ebf",
   "metadata": {},
   "outputs": [
    {
     "name": "stdout",
     "output_type": "stream",
     "text": [
      "<zip object at 0x00000232DD5C5C40>\n"
     ]
    }
   ],
   "source": [
    "print (zip([1,2,3,4,5,6],'Hacker'))"
   ]
  },
  {
   "cell_type": "code",
   "execution_count": 78,
   "id": "08d9578c",
   "metadata": {},
   "outputs": [
    {
     "name": "stdout",
     "output_type": "stream",
     "text": [
      "[(1,), (2,), (3,), (4,), (5,), (6,)]\n"
     ]
    }
   ],
   "source": [
    "print ([i for i in zip([1,2,3,4,5,6])])"
   ]
  },
  {
   "cell_type": "code",
   "execution_count": 76,
   "id": "09cd0950",
   "metadata": {},
   "outputs": [
    {
     "name": "stdout",
     "output_type": "stream",
     "text": [
      "[(1, 'H'), (2, 'a'), (3, 'c'), (4, 'k'), (5, 'e'), (6, 'r')]\n"
     ]
    }
   ],
   "source": [
    "print ([i for i in zip([1,2,3,4,5,6],'Hacker')])"
   ]
  },
  {
   "cell_type": "code",
   "execution_count": 7,
   "id": "5ea5de08",
   "metadata": {},
   "outputs": [
    {
     "name": "stdout",
     "output_type": "stream",
     "text": [
      "5 3\n",
      "89 90 78 93 80\n",
      "90 91 85 88 86\n",
      "91 92 83 89 90.5\n",
      "[[89.0, 90.0, 78.0, 93.0, 80.0], [90.0, 91.0, 85.0, 88.0, 86.0], [91.0, 92.0, 83.0, 89.0, 90.5]]\n",
      "90.0\n",
      "91.0\n",
      "82.0\n",
      "90.0\n",
      "85.5\n"
     ]
    }
   ],
   "source": [
    "n, x = map(int, input().split())\n",
    "a=[]\n",
    "for i in range(x):\n",
    "    b=input().split()[:n]\n",
    "    b=[float(j) for j in b]\n",
    "    a=a+[b]\n",
    "\n",
    "#print(a)\n",
    "for i in list(zip(*a)):\n",
    "    print(sum(i)/x)\n",
    "\n",
    "    "
   ]
  },
  {
   "cell_type": "code",
   "execution_count": null,
   "id": "55c7ff1c",
   "metadata": {},
   "outputs": [],
   "source": [
    "5 3\n",
    "89 90 78 93 80\n",
    "90 91 85 88 86  \n",
    "91 92 83 89 90.5"
   ]
  },
  {
   "cell_type": "code",
   "execution_count": null,
   "id": "c4a75f1a",
   "metadata": {},
   "outputs": [],
   "source": []
  },
  {
   "cell_type": "code",
   "execution_count": 12,
   "id": "c1b7ff77",
   "metadata": {},
   "outputs": [
    {
     "name": "stdout",
     "output_type": "stream",
     "text": [
      "5 3\n",
      "10 2 5\n",
      "7 1 0\n",
      "9 9 9\n",
      "1 23 12\n",
      "6 5 9\n",
      "1\n",
      "[(89.0, 90.0, 91.0), (90.0, 91.0, 92.0), (78.0, 85.0, 83.0), (93.0, 88.0, 89.0), (80.0, 86.0, 90.5)]\n",
      "[(78.0, 85.0, 83.0), (80.0, 86.0, 90.5), (93.0, 88.0, 89.0), (89.0, 90.0, 91.0), (90.0, 91.0, 92.0)]\n"
     ]
    }
   ],
   "source": [
    "if __name__ == '__main__':\n",
    "    first_multiple_input = input().rstrip().split()\n",
    "\n",
    "    n = int(first_multiple_input[0])\n",
    "\n",
    "    m = int(first_multiple_input[1])\n",
    "\n",
    "    arr = []\n",
    "\n",
    "    for i in range(n):\n",
    "        arr.append(list(map(int, input().rstrip().split()[:m])))\n",
    "    dict1={}\n",
    "    k = int(input())\n",
    "    l=list(zip(*a))\n",
    "    print(l)\n",
    "    for i in range(len(l)):\n",
    "        dict1[str(i)]=l[i]\n",
    "    def KFunc(ele):\n",
    "        return ele[k]\n",
    "    l.sort(key=KFunc)\n",
    "    print(l)"
   ]
  },
  {
   "cell_type": "code",
   "execution_count": null,
   "id": "f837bf4b",
   "metadata": {},
   "outputs": [],
   "source": [
    "5 3\n",
    "10 2 5\n",
    "7 1 0\n",
    "9 9 9\n",
    "1 23 12\n",
    "6 5 9\n",
    "1"
   ]
  },
  {
   "cell_type": "code",
   "execution_count": null,
   "id": "3807afe6",
   "metadata": {},
   "outputs": [],
   "source": [
    "l.sort()"
   ]
  },
  {
   "cell_type": "code",
   "execution_count": 24,
   "id": "85e0ed4a",
   "metadata": {},
   "outputs": [
    {
     "name": "stdout",
     "output_type": "stream",
     "text": [
      "5 3\n",
      "10 2 5\n",
      "7 1 0\n",
      "9 9 9\n",
      "1 23 12\n",
      "6 5 9\n",
      "1\n",
      "7 1 0 \n",
      "10 2 5 \n",
      "6 5 9 \n",
      "9 9 9 \n",
      "1 23 12 \n"
     ]
    }
   ],
   "source": [
    "if __name__ == '__main__':\n",
    "    first_multiple_input = input().rstrip().split()\n",
    "\n",
    "    n = int(first_multiple_input[0])\n",
    "\n",
    "    m = int(first_multiple_input[1])\n",
    "\n",
    "    arr = []\n",
    "\n",
    "    for i in range(n):\n",
    "        arr.append(list(map(int, input().rstrip().split()[:m])))\n",
    "    dict1={}\n",
    "    k = int(input())\n",
    "    l=list(arr)\n",
    "\n",
    "    def KFunc(ele):\n",
    "        return ele[k]\n",
    "    arr.sort(key=KFunc)\n",
    "    for i in arr:\n",
    "        for j in i:\n",
    "            print(j,end=\" \")\n",
    "        print()"
   ]
  },
  {
   "cell_type": "code",
   "execution_count": null,
   "id": "8ca69f4d",
   "metadata": {},
   "outputs": [],
   "source": [
    "5 3\n",
    "10 2 5\n",
    "7 1 0\n",
    "9 9 9\n",
    "1 23 12\n",
    "6 5 9\n",
    "1"
   ]
  },
  {
   "cell_type": "code",
   "execution_count": 18,
   "id": "d368bf30",
   "metadata": {},
   "outputs": [],
   "source": [
    "i=[23, 1,34]"
   ]
  },
  {
   "cell_type": "code",
   "execution_count": 20,
   "id": "ea004b8b",
   "metadata": {},
   "outputs": [
    {
     "name": "stdout",
     "output_type": "stream",
     "text": [
      "[23, 1, 34]\n"
     ]
    }
   ],
   "source": [
    "print([j for j in i])"
   ]
  },
  {
   "cell_type": "code",
   "execution_count": 3,
   "id": "5d804db8",
   "metadata": {},
   "outputs": [
    {
     "name": "stdout",
     "output_type": "stream",
     "text": [
      "[(1, 1), (1, 2), (1, 3), (2, 1), (2, 2), (2, 3), (3, 1), (3, 2), (3, 3)]\n"
     ]
    }
   ],
   "source": [
    "from itertools import product\n",
    "\n",
    "print (list(product([1,2,3],repeat = 2)))"
   ]
  },
  {
   "cell_type": "code",
   "execution_count": 4,
   "id": "040aa96b",
   "metadata": {},
   "outputs": [
    {
     "name": "stdout",
     "output_type": "stream",
     "text": [
      "[(1, 3, 1, 3), (1, 3, 1, 4), (1, 3, 2, 3), (1, 3, 2, 4), (1, 3, 3, 3), (1, 3, 3, 4), (1, 4, 1, 3), (1, 4, 1, 4), (1, 4, 2, 3), (1, 4, 2, 4), (1, 4, 3, 3), (1, 4, 3, 4), (2, 3, 1, 3), (2, 3, 1, 4), (2, 3, 2, 3), (2, 3, 2, 4), (2, 3, 3, 3), (2, 3, 3, 4), (2, 4, 1, 3), (2, 4, 1, 4), (2, 4, 2, 3), (2, 4, 2, 4), (2, 4, 3, 3), (2, 4, 3, 4), (3, 3, 1, 3), (3, 3, 1, 4), (3, 3, 2, 3), (3, 3, 2, 4), (3, 3, 3, 3), (3, 3, 3, 4), (3, 4, 1, 3), (3, 4, 1, 4), (3, 4, 2, 3), (3, 4, 2, 4), (3, 4, 3, 3), (3, 4, 3, 4)]\n"
     ]
    }
   ],
   "source": [
    "print (list(product([1,2,3],[3,4],repeat = 2)))"
   ]
  },
  {
   "cell_type": "code",
   "execution_count": 30,
   "id": "b2552fa3",
   "metadata": {},
   "outputs": [
    {
     "name": "stdout",
     "output_type": "stream",
     "text": [
      "[([1, 2, 3],), ([3, 4, 5],)]\n"
     ]
    }
   ],
   "source": [
    "A = [[1,2,3],[3,4,5]]\n",
    "print (list(product(A)))"
   ]
  },
  {
   "cell_type": "code",
   "execution_count": 32,
   "id": "2744f3d4",
   "metadata": {},
   "outputs": [
    {
     "name": "stdout",
     "output_type": "stream",
     "text": [
      "[(1, 3), (1, 4), (1, 5), (2, 3), (2, 4), (2, 5), (3, 3), (3, 4), (3, 5)]\n"
     ]
    }
   ],
   "source": [
    "A = [[1,2,3],[3,4,5]]\n",
    "print (list(product(*A)))\n",
    "# result- [(1, 3), (1, 4), (1, 5), (2, 3), (2, 4), (2, 5), (3, 3), (3, 4), (3, 5)]"
   ]
  },
  {
   "cell_type": "code",
   "execution_count": 33,
   "id": "13e21c2b",
   "metadata": {},
   "outputs": [
    {
     "name": "stdout",
     "output_type": "stream",
     "text": [
      "[(1, 3, 7), (1, 3, 8), (1, 4, 7), (1, 4, 8), (1, 5, 7), (1, 5, 8), (2, 3, 7), (2, 3, 8), (2, 4, 7), (2, 4, 8), (2, 5, 7), (2, 5, 8), (3, 3, 7), (3, 3, 8), (3, 4, 7), (3, 4, 8), (3, 5, 7), (3, 5, 8)]\n"
     ]
    }
   ],
   "source": [
    "B = [[1,2,3],[3,4,5],[7,8]]\n",
    "print (list(product(*B)))"
   ]
  },
  {
   "cell_type": "code",
   "execution_count": 37,
   "id": "4dffed3a",
   "metadata": {},
   "outputs": [
    {
     "name": "stdout",
     "output_type": "stream",
     "text": [
      "1 2 3\n",
      "4 5 56\n",
      "a is-  [1, 2, 3]\n",
      "a is-  [56, 4, 5]\n",
      "(1, 56) (1, 4) (1, 5) (2, 56) (2, 4) (2, 5) (3, 56) (3, 4) (3, 5) "
     ]
    }
   ],
   "source": [
    "from itertools import product\n",
    "a=list(map(int,(input().split())))\n",
    "b=list(map(int,(input().split())))\n",
    "a=set(a)\n",
    "b=set(b)\n",
    "a=list(a)\n",
    "b=list(b)\n",
    "print(\"a is- \", a)\n",
    "print(\"a is- \", b)\n",
    "l=list(product(a,b))\n",
    "for i in l:\n",
    "    print (i, end=\" \")\n"
   ]
  },
  {
   "cell_type": "code",
   "execution_count": null,
   "id": "c7d004f3",
   "metadata": {},
   "outputs": [],
   "source": []
  },
  {
   "cell_type": "code",
   "execution_count": 5,
   "id": "82459505",
   "metadata": {},
   "outputs": [
    {
     "name": "stdout",
     "output_type": "stream",
     "text": [
      "Uppers 5\n",
      "E\n",
      "P\n",
      "P\n",
      "R\n",
      "S\n",
      "U\n",
      "EP\n",
      "EP\n",
      "ER\n",
      "ES\n",
      "EU\n",
      "PP\n",
      "PR\n",
      "PR\n",
      "PS\n",
      "PS\n",
      "PU\n",
      "PU\n",
      "RS\n",
      "RU\n",
      "SU\n",
      "EPP\n",
      "EPR\n",
      "EPR\n",
      "EPS\n",
      "EPS\n",
      "EPU\n",
      "EPU\n",
      "ERS\n",
      "ERU\n",
      "ESU\n",
      "PPR\n",
      "PPS\n",
      "PPU\n",
      "PRS\n",
      "PRS\n",
      "PRU\n",
      "PRU\n",
      "PSU\n",
      "PSU\n",
      "RSU\n",
      "EPPR\n",
      "EPPS\n",
      "EPPU\n",
      "EPRS\n",
      "EPRS\n",
      "EPRU\n",
      "EPRU\n",
      "EPSU\n",
      "EPSU\n",
      "ERSU\n",
      "PPRS\n",
      "PPRU\n",
      "PPSU\n",
      "PRSU\n",
      "PRSU\n",
      "EPPRS\n",
      "EPPRU\n",
      "EPPSU\n",
      "EPRSU\n",
      "EPRSU\n",
      "PPRSU\n"
     ]
    }
   ],
   "source": [
    "from itertools import combinations\n",
    "s, k = input().split(\" \")\n",
    "k=int(k)\n",
    "\n",
    "s=s.upper()\n",
    "l1=[]\n",
    "\n",
    "for i in range(len(s)):\n",
    "    l1.append(list(combinations(s, (i+1))))\n",
    "\n",
    "for z in range(k):\n",
    "    l1[z]=list(l1[z])\n",
    "    #l1[z].sort()\n",
    "    for i in range(len(l1[z])): \n",
    "        l1[z][i]=list(l1[z][i])\n",
    "        l1[z][i].sort() \n",
    "for z in range(k):\n",
    "    l1[z].sort()\n",
    "#l1.sort()        \n",
    "for z in range(k):\n",
    "    for i in l1[z]:\n",
    "        for j in i:\n",
    "            print(j, end=\"\")\n",
    "        print()\n"
   ]
  },
  {
   "cell_type": "code",
   "execution_count": 2,
   "id": "968bff67",
   "metadata": {},
   "outputs": [
    {
     "data": {
      "text/plain": [
       "[[['A'], ['G'], ['K'], ['K'], ['K'], ['S']],\n",
       " [['A', 'G'],\n",
       "  ['A', 'K'],\n",
       "  ['A', 'K'],\n",
       "  ['A', 'K'],\n",
       "  ['A', 'S'],\n",
       "  ['G', 'K'],\n",
       "  ['G', 'K'],\n",
       "  ['G', 'K'],\n",
       "  ['G', 'S'],\n",
       "  ['K', 'K'],\n",
       "  ['K', 'K'],\n",
       "  ['K', 'K'],\n",
       "  ['K', 'S'],\n",
       "  ['K', 'S'],\n",
       "  ['K', 'S']],\n",
       " [['A', 'G', 'K'],\n",
       "  ['A', 'G', 'K'],\n",
       "  ['A', 'G', 'K'],\n",
       "  ['A', 'G', 'S'],\n",
       "  ['A', 'K', 'K'],\n",
       "  ['A', 'K', 'K'],\n",
       "  ['A', 'K', 'K'],\n",
       "  ['A', 'K', 'S'],\n",
       "  ['A', 'K', 'S'],\n",
       "  ['A', 'K', 'S'],\n",
       "  ['G', 'K', 'K'],\n",
       "  ['G', 'K', 'K'],\n",
       "  ['G', 'K', 'K'],\n",
       "  ['G', 'K', 'S'],\n",
       "  ['G', 'K', 'S'],\n",
       "  ['G', 'K', 'S'],\n",
       "  ['K', 'K', 'K'],\n",
       "  ['K', 'K', 'S'],\n",
       "  ['K', 'K', 'S'],\n",
       "  ['K', 'K', 'S']]]"
      ]
     },
     "execution_count": 2,
     "metadata": {},
     "output_type": "execute_result"
    }
   ],
   "source": [
    "l1"
   ]
  },
  {
   "cell_type": "code",
   "execution_count": 40,
   "id": "a72ff00d",
   "metadata": {},
   "outputs": [],
   "source": [
    "from itertools import permutations"
   ]
  },
  {
   "cell_type": "code",
   "execution_count": 41,
   "id": "630c03fe",
   "metadata": {},
   "outputs": [
    {
     "name": "stdout",
     "output_type": "stream",
     "text": [
      "<itertools.permutations object at 0x00000228997FFEA0>\n"
     ]
    }
   ],
   "source": [
    "print (permutations(['1','2','3']))\n",
    "# output <itertools.permutations object at 0x02A45210>"
   ]
  },
  {
   "cell_type": "code",
   "execution_count": 43,
   "id": "573215dd",
   "metadata": {},
   "outputs": [
    {
     "name": "stdout",
     "output_type": "stream",
     "text": [
      "[('1', '2', '3'), ('1', '3', '2'), ('2', '1', '3'), ('2', '3', '1'), ('3', '1', '2'), ('3', '2', '1')]\n"
     ]
    }
   ],
   "source": [
    "print (list(permutations(['1','2','3'])))"
   ]
  },
  {
   "cell_type": "code",
   "execution_count": 89,
   "id": "17527dc8",
   "metadata": {},
   "outputs": [
    {
     "name": "stdout",
     "output_type": "stream",
     "text": [
      "[('1', '2'), ('1', '3'), ('1', '4'), ('2', '1'), ('2', '3'), ('2', '4'), ('3', '1'), ('3', '2'), ('3', '4'), ('4', '1'), ('4', '2'), ('4', '3')]\n"
     ]
    }
   ],
   "source": [
    "print (list(permutations(['1','2','3', '4'],2)))"
   ]
  },
  {
   "cell_type": "code",
   "execution_count": 90,
   "id": "614f3dfb",
   "metadata": {},
   "outputs": [
    {
     "name": "stdout",
     "output_type": "stream",
     "text": [
      "[('1', '2'), ('1', '3'), ('1', '4'), ('2', '3'), ('2', '4'), ('3', '4')]\n"
     ]
    }
   ],
   "source": [
    "print (list(combinations(['1','2','3', '4'],2)))"
   ]
  },
  {
   "cell_type": "code",
   "execution_count": 78,
   "id": "1abd5ea1",
   "metadata": {},
   "outputs": [
    {
     "name": "stdout",
     "output_type": "stream",
     "text": [
      "abcd 3\n",
      "ABC\n",
      "ABD\n",
      "ACB\n",
      "ACD\n",
      "ADB\n",
      "ADC\n",
      "BAC\n",
      "BAD\n",
      "BCA\n",
      "BCD\n",
      "BDA\n",
      "BDC\n",
      "CAB\n",
      "CAD\n",
      "CBA\n",
      "CBD\n",
      "CDA\n",
      "CDB\n",
      "DAB\n",
      "DAC\n",
      "DBA\n",
      "DBC\n",
      "DCA\n",
      "DCB\n"
     ]
    }
   ],
   "source": [
    "from itertools import permutations\n",
    "s, k = input().split(\" \")\n",
    "k=int(k)\n",
    "\n",
    "s=s.upper()\n",
    "l1=[]\n",
    "#for i in range(k):\n",
    "l1=list(permutations(s, k))\n",
    "#print(l1, \"L1        :\")\n",
    "\n",
    "for z in range(len(l1)):\n",
    "    l1[z]=list(l1[z])\n",
    "\n",
    "#print(l1, \"L2        :\")\n",
    "\n",
    "l1.sort()        \n",
    "for z in l1:\n",
    "    for i in z:\n",
    "        print(i, end=\"\")\n",
    "    print()\n",
    "#print(l1, \"L3        :\")"
   ]
  },
  {
   "cell_type": "code",
   "execution_count": null,
   "id": "c02d7670",
   "metadata": {},
   "outputs": [],
   "source": []
  },
  {
   "cell_type": "code",
   "execution_count": 79,
   "id": "783dff77",
   "metadata": {},
   "outputs": [
    {
     "name": "stdout",
     "output_type": "stream",
     "text": [
      "[('1', '1'), ('1', '2'), ('1', '3'), ('1', '4'), ('1', '5'), ('2', '2'), ('2', '3'), ('2', '4'), ('2', '5'), ('3', '3'), ('3', '4'), ('3', '5'), ('4', '4'), ('4', '5'), ('5', '5')]\n"
     ]
    }
   ],
   "source": [
    "from itertools import combinations_with_replacement\n",
    "\n",
    "print (list(combinations_with_replacement('12345',2)))"
   ]
  },
  {
   "cell_type": "code",
   "execution_count": 230,
   "id": "929ee6ab",
   "metadata": {},
   "outputs": [
    {
     "name": "stdout",
     "output_type": "stream",
     "text": [
      "[('h', 'a'), ('h', 'c'), ('h', 'k'), ('a', 'c'), ('a', 'k'), ('c', 'k')]\n"
     ]
    }
   ],
   "source": [
    "A = ['h','a','c','k']\n",
    "print (list(combinations(A,2)))"
   ]
  },
  {
   "cell_type": "code",
   "execution_count": 225,
   "id": "f8d95179",
   "metadata": {},
   "outputs": [
    {
     "name": "stdout",
     "output_type": "stream",
     "text": [
      "Hack 2\n",
      "[('H', 'H'), ('H', 'A'), ('H', 'C'), ('H', 'K'), ('A', 'A'), ('A', 'C'), ('A', 'K'), ('C', 'C'), ('C', 'K'), ('K', 'K')] L1        :\n",
      "length 10\n",
      "AA\n",
      "AC\n",
      "AH\n",
      "AK\n",
      "CC\n",
      "CH\n",
      "CK\n",
      "HH\n",
      "HK\n",
      "KK\n"
     ]
    }
   ],
   "source": [
    "from itertools import combinations_with_replacement\n",
    "s, k = input().split(\" \")\n",
    "k=int(k)\n",
    "\n",
    "s=s.upper()\n",
    "l1=[]\n",
    "#for i in range(k):\n",
    "l1=list(combinations_with_replacement(s, k))\n",
    "print(l1, \"L1        :\")\n",
    "print(\"length\", len(l1))\n",
    "for z in range(len(l1)):\n",
    "    l1[z]=list(l1[z])\n",
    "    l1[z].sort() \n",
    "\n",
    "#print(l1, \"L2        :\")\n",
    "\n",
    "l1.sort()        \n",
    "for z in l1:\n",
    "    for i in z:\n",
    "        print(i, end=\"\")\n",
    "    print()\n",
    "#print(l1, \"L3        :\")"
   ]
  },
  {
   "cell_type": "code",
   "execution_count": 228,
   "id": "e781eba0",
   "metadata": {},
   "outputs": [
    {
     "name": "stdout",
     "output_type": "stream",
     "text": [
      "4\n",
      "h a c k\n",
      "2\n",
      "length 6\n",
      "[('h', 'a'), ('h', 'c'), ('h', 'k'), ('a', 'c'), ('a', 'k'), ('c', 'k')]\n",
      "0.5\n"
     ]
    }
   ],
   "source": [
    "from itertools import combinations\n",
    "\n",
    "n = int(input())\n",
    "l=list(input().split()[:n])\n",
    "k = int(input())\n",
    "s=list(combinations(l,k))\n",
    "print(\"length\", len(s))\n",
    "print (list(combinations(l,k)))\n",
    "c=0\n",
    "for i in s:\n",
    "    if 'a' in i:\n",
    "        c=c+1\n",
    "print(round(c/len(s),3))"
   ]
  },
  {
   "cell_type": "code",
   "execution_count": 92,
   "id": "574aa3b9",
   "metadata": {},
   "outputs": [
    {
     "name": "stdout",
     "output_type": "stream",
     "text": [
      "y\n"
     ]
    }
   ],
   "source": [
    "i=('a', 'c')\n",
    "if 'a' in i:\n",
    "#    c=c+1\n",
    "    print(\"y\")"
   ]
  },
  {
   "cell_type": "code",
   "execution_count": 94,
   "id": "6d32973b",
   "metadata": {},
   "outputs": [
    {
     "ename": "NameError",
     "evalue": "name 'data' is not defined",
     "output_type": "error",
     "traceback": [
      "\u001b[1;31m---------------------------------------------------------------------------\u001b[0m",
      "\u001b[1;31mNameError\u001b[0m                                 Traceback (most recent call last)",
      "Input \u001b[1;32mIn [94]\u001b[0m, in \u001b[0;36m<cell line: 3>\u001b[1;34m()\u001b[0m\n\u001b[0;32m      1\u001b[0m groups \u001b[38;5;241m=\u001b[39m []\n\u001b[0;32m      2\u001b[0m uniquekeys \u001b[38;5;241m=\u001b[39m []\n\u001b[1;32m----> 3\u001b[0m data \u001b[38;5;241m=\u001b[39m \u001b[38;5;28msorted\u001b[39m(\u001b[43mdata\u001b[49m, key\u001b[38;5;241m=\u001b[39mkeyfunc)\n\u001b[0;32m      4\u001b[0m \u001b[38;5;28;01mfor\u001b[39;00m k, g \u001b[38;5;129;01min\u001b[39;00m groupby(data, keyfunc):\n\u001b[0;32m      5\u001b[0m     groups\u001b[38;5;241m.\u001b[39mappend(\u001b[38;5;28mlist\u001b[39m(g))      \u001b[38;5;66;03m# Store group iterator as a list\u001b[39;00m\n",
      "\u001b[1;31mNameError\u001b[0m: name 'data' is not defined"
     ]
    }
   ],
   "source": [
    "groups = []\n",
    "uniquekeys = []\n",
    "data = sorted(data, key=keyfunc)\n",
    "for k, g in groupby(data, keyfunc):\n",
    "    groups.append(list(g))      # Store group iterator as a list\n",
    "    uniquekeys.append(k)"
   ]
  },
  {
   "cell_type": "code",
   "execution_count": 144,
   "id": "fafaf20b",
   "metadata": {},
   "outputs": [
    {
     "name": "stdout",
     "output_type": "stream",
     "text": [
      "(1, 3) (2, 3) (3, 1) "
     ]
    }
   ],
   "source": [
    "def groupby1(s):\n",
    "    \n",
    "    t=[]\n",
    "    for i in range(10):\n",
    "        if str(i) in s:\n",
    "            t.append((i, s.count(str(i))))\n",
    "    return t\n",
    "g=groupby1(\"1222311\")\n",
    "for i in g:\n",
    "    print(i, end=\" \")"
   ]
  },
  {
   "cell_type": "code",
   "execution_count": null,
   "id": "90591da3",
   "metadata": {},
   "outputs": [],
   "source": [
    "1222311"
   ]
  },
  {
   "cell_type": "code",
   "execution_count": 103,
   "id": "a3f6feb9",
   "metadata": {},
   "outputs": [],
   "source": [
    "l=[1,2,2,2,2, 3,3, 4,1]"
   ]
  },
  {
   "cell_type": "code",
   "execution_count": 105,
   "id": "7af378cc",
   "metadata": {},
   "outputs": [
    {
     "data": {
      "text/plain": [
       "2"
      ]
     },
     "execution_count": 105,
     "metadata": {},
     "output_type": "execute_result"
    }
   ],
   "source": [
    "l.count(1)"
   ]
  },
  {
   "cell_type": "code",
   "execution_count": null,
   "id": "a57a9192",
   "metadata": {},
   "outputs": [],
   "source": [
    "distict()"
   ]
  },
  {
   "cell_type": "code",
   "execution_count": 146,
   "id": "5790f696",
   "metadata": {},
   "outputs": [
    {
     "ename": "NameError",
     "evalue": "name 'lgroupby1' is not defined",
     "output_type": "error",
     "traceback": [
      "\u001b[1;31m---------------------------------------------------------------------------\u001b[0m",
      "\u001b[1;31mNameError\u001b[0m                                 Traceback (most recent call last)",
      "Input \u001b[1;32mIn [146]\u001b[0m, in \u001b[0;36m<cell line: 8>\u001b[1;34m()\u001b[0m\n\u001b[0;32m      6\u001b[0m             t\u001b[38;5;241m.\u001b[39mappend((i, s\u001b[38;5;241m.\u001b[39mcount(\u001b[38;5;28mstr\u001b[39m(i))))\n\u001b[0;32m      7\u001b[0m     \u001b[38;5;28;01mreturn\u001b[39;00m t\n\u001b[1;32m----> 8\u001b[0m \u001b[43mlgroupby1\u001b[49m(\u001b[38;5;124m\"\u001b[39m\u001b[38;5;124m1222311\u001b[39m\u001b[38;5;124m\"\u001b[39m)\n\u001b[0;32m      9\u001b[0m \u001b[38;5;28;01mfor\u001b[39;00m i \u001b[38;5;129;01min\u001b[39;00m t:\n\u001b[0;32m     10\u001b[0m     \u001b[38;5;28mprint\u001b[39m(i, end\u001b[38;5;241m=\u001b[39m\u001b[38;5;124m\"\u001b[39m\u001b[38;5;124m \u001b[39m\u001b[38;5;124m\"\u001b[39m)\n",
      "\u001b[1;31mNameError\u001b[0m: name 'lgroupby1' is not defined"
     ]
    }
   ],
   "source": [
    "def groupby1(s):\n",
    "    \n",
    "    t=[]\n",
    "    for i in range(10):\n",
    "        if str(i) in s:\n",
    "            t.append((i, s.count(str(i))))\n",
    "    return t\n",
    "for i in t:\n",
    "print()"
   ]
  },
  {
   "cell_type": "code",
   "execution_count": 124,
   "id": "8f08d353",
   "metadata": {},
   "outputs": [
    {
     "data": {
      "text/plain": [
       "[(1, 3), (2, 3), (3, 1)]"
      ]
     },
     "execution_count": 124,
     "metadata": {},
     "output_type": "execute_result"
    }
   ],
   "source": [
    "groupby1(\"1222311\")"
   ]
  },
  {
   "cell_type": "code",
   "execution_count": 112,
   "id": "95e6fcf7",
   "metadata": {},
   "outputs": [],
   "source": [
    "t=(1,2)"
   ]
  },
  {
   "cell_type": "code",
   "execution_count": 114,
   "id": "22498d83",
   "metadata": {},
   "outputs": [
    {
     "data": {
      "text/plain": [
       "1"
      ]
     },
     "execution_count": 114,
     "metadata": {},
     "output_type": "execute_result"
    }
   ],
   "source": [
    "t.count(1)"
   ]
  },
  {
   "cell_type": "code",
   "execution_count": 119,
   "id": "06e6d89b",
   "metadata": {},
   "outputs": [],
   "source": [
    "s=\"1222311\""
   ]
  },
  {
   "cell_type": "code",
   "execution_count": 120,
   "id": "40f85276",
   "metadata": {},
   "outputs": [
    {
     "ename": "TypeError",
     "evalue": "must be str, not int",
     "output_type": "error",
     "traceback": [
      "\u001b[1;31m---------------------------------------------------------------------------\u001b[0m",
      "\u001b[1;31mTypeError\u001b[0m                                 Traceback (most recent call last)",
      "Input \u001b[1;32mIn [120]\u001b[0m, in \u001b[0;36m<cell line: 1>\u001b[1;34m()\u001b[0m\n\u001b[1;32m----> 1\u001b[0m \u001b[43ms\u001b[49m\u001b[38;5;241;43m.\u001b[39;49m\u001b[43mcount\u001b[49m\u001b[43m(\u001b[49m\u001b[38;5;241;43m1\u001b[39;49m\u001b[43m)\u001b[49m\n",
      "\u001b[1;31mTypeError\u001b[0m: must be str, not int"
     ]
    }
   ],
   "source": [
    "s.count(1)"
   ]
  },
  {
   "cell_type": "code",
   "execution_count": 142,
   "id": "0db0e197",
   "metadata": {},
   "outputs": [
    {
     "data": {
      "text/plain": [
       "['2', '2', '2', '3', '1', '1']"
      ]
     },
     "execution_count": 142,
     "metadata": {},
     "output_type": "execute_result"
    }
   ],
   "source": [
    "from itertools import compress\n",
    "list(compress(\"1222311\", range(10)))"
   ]
  },
  {
   "cell_type": "code",
   "execution_count": 145,
   "id": "93fba195",
   "metadata": {},
   "outputs": [
    {
     "name": "stdout",
     "output_type": "stream",
     "text": [
      "['1'] ['1'] ['1'] "
     ]
    }
   ],
   "source": [
    "g=[]\n",
    "for i in range(10):\n",
    "    if str(i) in s:\n",
    "        g.append(list(compress(\"1222311\", str(i))))    \n",
    "#g=groupby1(\"1222311\")\n",
    "for i in g:\n",
    "    print(list(i), end=\" \")"
   ]
  },
  {
   "cell_type": "code",
   "execution_count": 148,
   "id": "c13b0307",
   "metadata": {},
   "outputs": [
    {
     "name": "stdout",
     "output_type": "stream",
     "text": [
      "['1'] ['1'] ['1'] "
     ]
    }
   ],
   "source": [
    "from itertools import compress\n",
    "\n",
    "def groupby1(s):\n",
    "    t=[]\n",
    "    for i in range(10):\n",
    "        if str(i) in s:\n",
    "            compress(data, selectors)\n",
    "            t.append((i, s.count(str(i))))\n",
    "    return t\n",
    "g=[]\n",
    "for i in range(10):\n",
    "    if str(i) in s:\n",
    "        g.append(compress(\"1222311\", str(i)))    \n",
    "#g=groupby1(\"1222311\")\n",
    "for i in g:\n",
    "    print(list(i), end=\" \")"
   ]
  },
  {
   "cell_type": "code",
   "execution_count": 190,
   "id": "5b5fe112",
   "metadata": {},
   "outputs": [
    {
     "name": "stdout",
     "output_type": "stream",
     "text": [
      "(1, 1) (2, 3) (3, 1) (1, 3) "
     ]
    },
    {
     "data": {
      "text/plain": [
       "'\\nfor i in range(5):\\n    for j in range(10):\\n        if j%2==0:\\n            print(\"x\",j)\\n            break\\n    print(\"y\",i)\\n'"
      ]
     },
     "execution_count": 190,
     "metadata": {},
     "output_type": "execute_result"
    }
   ],
   "source": [
    "from itertools import compress\n",
    "\n",
    "def groupby1(s):\n",
    "    x=[]\n",
    "    t=[]\n",
    "    s1=list(s)\n",
    "    \n",
    "    for k in range(len(s1)):\n",
    "        for i in range(10):\n",
    "            c=0\n",
    "            s2=[]\n",
    "            for j in s1:\n",
    "                if str(i) == j:\n",
    "                    c=c+1\n",
    "                    s2.append(str(i))\n",
    "                else: \n",
    "                    break\n",
    "            for z in s2:\n",
    "                s1.remove(z)\n",
    "            if c==0:\n",
    "                pass\n",
    "            else:\n",
    "                t.append((i, c))\n",
    "            #x.append(c)\n",
    "                \n",
    "#t.append((i, s.count(str(i))))\n",
    "    #print(t)\n",
    "    return t\n",
    "g=groupby1(\"12223111\")\n",
    "\n",
    "for i in g:\n",
    "    print(i, end=\" \")\n"
   ]
  },
  {
   "cell_type": "code",
   "execution_count": 178,
   "id": "2b4baea1",
   "metadata": {},
   "outputs": [],
   "source": [
    "s=\"setu\""
   ]
  },
  {
   "cell_type": "code",
   "execution_count": 179,
   "id": "a10b9ac5",
   "metadata": {},
   "outputs": [],
   "source": [
    "s=list(s)"
   ]
  },
  {
   "cell_type": "code",
   "execution_count": 180,
   "id": "679eac1b",
   "metadata": {},
   "outputs": [
    {
     "ename": "ValueError",
     "evalue": "list.remove(x): x not in list",
     "output_type": "error",
     "traceback": [
      "\u001b[1;31m---------------------------------------------------------------------------\u001b[0m",
      "\u001b[1;31mValueError\u001b[0m                                Traceback (most recent call last)",
      "Input \u001b[1;32mIn [180]\u001b[0m, in \u001b[0;36m<cell line: 1>\u001b[1;34m()\u001b[0m\n\u001b[1;32m----> 1\u001b[0m \u001b[43ms\u001b[49m\u001b[38;5;241;43m.\u001b[39;49m\u001b[43mremove\u001b[49m\u001b[43m(\u001b[49m\u001b[43m[\u001b[49m\u001b[43mi\u001b[49m\u001b[43m \u001b[49m\u001b[38;5;28;43;01mfor\u001b[39;49;00m\u001b[43m \u001b[49m\u001b[43mi\u001b[49m\u001b[43m \u001b[49m\u001b[38;5;129;43;01min\u001b[39;49;00m\u001b[43m \u001b[49m\u001b[43m[\u001b[49m\u001b[38;5;124;43m'\u001b[39;49m\u001b[38;5;124;43ms\u001b[39;49m\u001b[38;5;124;43m'\u001b[39;49m\u001b[43m,\u001b[49m\u001b[38;5;124;43m'\u001b[39;49m\u001b[38;5;124;43me\u001b[39;49m\u001b[38;5;124;43m'\u001b[39;49m\u001b[43m]\u001b[49m\u001b[43m]\u001b[49m\u001b[43m)\u001b[49m\n",
      "\u001b[1;31mValueError\u001b[0m: list.remove(x): x not in list"
     ]
    }
   ],
   "source": [
    "s.remove([i for i in ['s','e']])"
   ]
  },
  {
   "cell_type": "code",
   "execution_count": 163,
   "id": "6cf0ce61",
   "metadata": {},
   "outputs": [
    {
     "data": {
      "text/plain": [
       "['e', 't', 'u']"
      ]
     },
     "execution_count": 163,
     "metadata": {},
     "output_type": "execute_result"
    }
   ],
   "source": [
    "s"
   ]
  },
  {
   "cell_type": "code",
   "execution_count": 213,
   "id": "185b3556",
   "metadata": {},
   "outputs": [
    {
     "name": "stdout",
     "output_type": "stream",
     "text": [
      "3 998\n",
      "67828645 425092764 242723908 669696211 501122842 438815206\n",
      "625649397 295060482 262686951 815352670\n",
      "100876777 196900030 523615865\n",
      "[669696211, 815352670, 523615865]\n",
      "722\n"
     ]
    }
   ],
   "source": [
    "import math\n",
    "k, m = input().split(\" \")\n",
    "k=int(k)\n",
    "m=float(m)\n",
    "max1=[]\n",
    "def sq(x):\n",
    "    return math.pow(x, 2)\n",
    "    \n",
    "for i in range(k):\n",
    "    ni = list(map(int, input().split(\" \")))\n",
    "    max1.append(max(ni))\n",
    "print(max1)\n",
    "sum=0.0\n",
    "\n",
    "for i in max1:\n",
    "    sum=sum+(sq(i))\n",
    "s1=int(sum%m)\n",
    "print(s1)"
   ]
  },
  {
   "cell_type": "code",
   "execution_count": null,
   "id": "0e6b25ad",
   "metadata": {},
   "outputs": [],
   "source": [
    "3 1000\n",
    "2 5 4\n",
    "3 7 8 9 \n",
    "5 5 7 8 9 10 \n",
    "\n",
    "3 998\n",
    "67828645 425092764 242723908 669696211 501122842 438815206\n",
    "625649397 295060482 262686951 815352670\n",
    "100876777 196900030 523615865\n",
    "974"
   ]
  },
  {
   "cell_type": "code",
   "execution_count": 202,
   "id": "08059b4e",
   "metadata": {},
   "outputs": [
    {
     "data": {
      "text/plain": [
       "523615865"
      ]
     },
     "execution_count": 202,
     "metadata": {},
     "output_type": "execute_result"
    }
   ],
   "source": [
    "max(100876777, 196900030, 523615865)"
   ]
  },
  {
   "cell_type": "code",
   "execution_count": 209,
   "id": "8c825b88",
   "metadata": {},
   "outputs": [],
   "source": [
    "def sq(x):\n",
    "    return math.pow(x, 2)"
   ]
  },
  {
   "cell_type": "code",
   "execution_count": 210,
   "id": "0ea93cb8",
   "metadata": {},
   "outputs": [
    {
     "data": {
      "text/plain": [
       "100.0"
      ]
     },
     "execution_count": 210,
     "metadata": {},
     "output_type": "execute_result"
    }
   ],
   "source": [
    "sq(10)"
   ]
  },
  {
   "cell_type": "code",
   "execution_count": 206,
   "id": "5fe7812c",
   "metadata": {},
   "outputs": [],
   "source": [
    "sum=5**2 + 9**2 +10**2"
   ]
  },
  {
   "cell_type": "code",
   "execution_count": 214,
   "id": "7d50ca01",
   "metadata": {},
   "outputs": [],
   "source": [
    "sum=669696211**2 + 815352670**2 + 523615865**2"
   ]
  },
  {
   "cell_type": "code",
   "execution_count": 215,
   "id": "0e808028",
   "metadata": {},
   "outputs": [
    {
     "data": {
      "text/plain": [
       "1387466565583583646"
      ]
     },
     "execution_count": 215,
     "metadata": {},
     "output_type": "execute_result"
    }
   ],
   "source": [
    "sum"
   ]
  },
  {
   "cell_type": "code",
   "execution_count": 218,
   "id": "01593ca5",
   "metadata": {},
   "outputs": [],
   "source": [
    "s=sum%998"
   ]
  },
  {
   "cell_type": "code",
   "execution_count": 219,
   "id": "e218afd9",
   "metadata": {},
   "outputs": [
    {
     "data": {
      "text/plain": [
       "624"
      ]
     },
     "execution_count": 219,
     "metadata": {},
     "output_type": "execute_result"
    }
   ],
   "source": [
    "s"
   ]
  },
  {
   "cell_type": "code",
   "execution_count": 220,
   "id": "f10d3c81",
   "metadata": {},
   "outputs": [
    {
     "data": {
      "text/plain": [
       "[1, 2, 3, 4]"
      ]
     },
     "execution_count": 220,
     "metadata": {},
     "output_type": "execute_result"
    }
   ],
   "source": [
    "list(iter([1, 2, 3, 4]))"
   ]
  },
  {
   "cell_type": "code",
   "execution_count": 224,
   "id": "e58594a1",
   "metadata": {},
   "outputs": [
    {
     "data": {
      "text/plain": [
       "[(1, 4), (2, 5), (3, 6)]"
      ]
     },
     "execution_count": 224,
     "metadata": {},
     "output_type": "execute_result"
    }
   ],
   "source": [
    "list(zip([1, 2, 3], [4, 5, 6]))"
   ]
  },
  {
   "cell_type": "code",
   "execution_count": 290,
   "id": "4063603b",
   "metadata": {},
   "outputs": [
    {
     "ename": "SyntaxError",
     "evalue": "invalid syntax (1736056301.py, line 14)",
     "output_type": "error",
     "traceback": [
      "\u001b[1;36m  Input \u001b[1;32mIn [290]\u001b[1;36m\u001b[0m\n\u001b[1;33m    l1=list(product([(**i) for i in m1]))\u001b[0m\n\u001b[1;37m                      ^\u001b[0m\n\u001b[1;31mSyntaxError\u001b[0m\u001b[1;31m:\u001b[0m invalid syntax\n"
     ]
    }
   ],
   "source": [
    "import math\n",
    "k, m = input().split(\" \")\n",
    "k=int(k)\n",
    "m=int(m)\n",
    "m1=[]\n",
    "    \n",
    "for i in range(k):\n",
    "    ni = list(map(int, input().split(\" \")))\n",
    "    m1.append(ni)\n",
    "print(\"length of m1\",len(m1))\n",
    "l2=[i for i in m1]\n",
    "print(\"l2      \", l2)\n",
    "        \n",
    "l1=list(product([i for i in m1]))\n",
    "print(m1)\n",
    "print(l1)\n",
    "sum=0.0\n",
    "sum1=[]\n",
    "for i in l1:\n",
    "    for j in i:\n",
    "        sum=sum+(j*j)\n",
    "    sum1.append(int(sum%m))\n",
    "#s1=int(sum%m)\n",
    "print(\"this is max list\",sum1)"
   ]
  },
  {
   "cell_type": "code",
   "execution_count": null,
   "id": "01f9b1d9",
   "metadata": {},
   "outputs": [],
   "source": [
    "3 998\n",
    "67828645 425092764 242723908 669696211 501122842 438815206\n",
    "625649397 295060482 262686951 815352670\n",
    "100876777 196900030 523615865\n",
    "974"
   ]
  },
  {
   "cell_type": "code",
   "execution_count": 325,
   "id": "14dbafc1",
   "metadata": {},
   "outputs": [],
   "source": [
    "a=[1,2,3,4]\n",
    "b=[5,6,7,8,9]\n",
    "c=[2,11]"
   ]
  },
  {
   "cell_type": "code",
   "execution_count": 333,
   "id": "31fb62fb",
   "metadata": {},
   "outputs": [
    {
     "ename": "TypeError",
     "evalue": "'float' object is not callable",
     "output_type": "error",
     "traceback": [
      "\u001b[1;31m---------------------------------------------------------------------------\u001b[0m",
      "\u001b[1;31mTypeError\u001b[0m                                 Traceback (most recent call last)",
      "Input \u001b[1;32mIn [333]\u001b[0m, in \u001b[0;36m<cell line: 1>\u001b[1;34m()\u001b[0m\n\u001b[1;32m----> 1\u001b[0m l\u001b[38;5;241m=\u001b[39m\u001b[38;5;28;43mlist\u001b[39;49m\u001b[43m(\u001b[49m\u001b[38;5;28;43mmap\u001b[39;49m\u001b[43m(\u001b[49m\u001b[38;5;28;43msum\u001b[39;49m\u001b[43m,\u001b[49m\u001b[43m \u001b[49m\u001b[43m(\u001b[49m\u001b[43ma\u001b[49m\u001b[43m,\u001b[49m\u001b[43mb\u001b[49m\u001b[43m,\u001b[49m\u001b[43mc\u001b[49m\u001b[43m)\u001b[49m\u001b[43m)\u001b[49m\u001b[43m)\u001b[49m\n",
      "\u001b[1;31mTypeError\u001b[0m: 'float' object is not callable"
     ]
    }
   ],
   "source": [
    "l=list(map(sum, (a,b,c)))"
   ]
  },
  {
   "cell_type": "code",
   "execution_count": 332,
   "id": "5a9e063b",
   "metadata": {},
   "outputs": [
    {
     "data": {
      "text/plain": [
       "<map at 0x2289a12f5e0>"
      ]
     },
     "execution_count": 332,
     "metadata": {},
     "output_type": "execute_result"
    }
   ],
   "source": [
    "l"
   ]
  },
  {
   "cell_type": "code",
   "execution_count": 330,
   "id": "4a7377c7",
   "metadata": {},
   "outputs": [
    {
     "ename": "SyntaxError",
     "evalue": "unexpected EOF while parsing (849887269.py, line 1)",
     "output_type": "error",
     "traceback": [
      "\u001b[1;36m  Input \u001b[1;32mIn [330]\u001b[1;36m\u001b[0m\n\u001b[1;33m    print (list(product(map(sum, l)))\u001b[0m\n\u001b[1;37m                                     ^\u001b[0m\n\u001b[1;31mSyntaxError\u001b[0m\u001b[1;31m:\u001b[0m unexpected EOF while parsing\n"
     ]
    }
   ],
   "source": [
    "print (list(product(map(sum, l)))"
   ]
  },
  {
   "cell_type": "code",
   "execution_count": 265,
   "id": "8f5563fe",
   "metadata": {},
   "outputs": [],
   "source": [
    "m1=()"
   ]
  },
  {
   "cell_type": "code",
   "execution_count": 266,
   "id": "903acb53",
   "metadata": {},
   "outputs": [
    {
     "ename": "AttributeError",
     "evalue": "'tuple' object has no attribute 'append'",
     "output_type": "error",
     "traceback": [
      "\u001b[1;31m---------------------------------------------------------------------------\u001b[0m",
      "\u001b[1;31mAttributeError\u001b[0m                            Traceback (most recent call last)",
      "Input \u001b[1;32mIn [266]\u001b[0m, in \u001b[0;36m<cell line: 1>\u001b[1;34m()\u001b[0m\n\u001b[1;32m----> 1\u001b[0m \u001b[43mm1\u001b[49m\u001b[38;5;241;43m.\u001b[39;49m\u001b[43mappend\u001b[49m(\u001b[38;5;241m1\u001b[39m)\n",
      "\u001b[1;31mAttributeError\u001b[0m: 'tuple' object has no attribute 'append'"
     ]
    }
   ],
   "source": [
    "m1.append(1)"
   ]
  },
  {
   "cell_type": "code",
   "execution_count": 347,
   "id": "640d2bcd",
   "metadata": {},
   "outputs": [],
   "source": [
    "l2=[[67828645, 425092764, 242723908, 669696211, 501122842, 438815206], [625649397, 295060482, 262686951, 815352670], [100876777, 196900030, 523615865]]"
   ]
  },
  {
   "cell_type": "code",
   "execution_count": 348,
   "id": "e572b6a8",
   "metadata": {},
   "outputs": [],
   "source": [
    "l3=[[j for j in i] for i in l2]"
   ]
  },
  {
   "cell_type": "code",
   "execution_count": 349,
   "id": "566e902a",
   "metadata": {},
   "outputs": [
    {
     "data": {
      "text/plain": [
       "[[67828645, 425092764, 242723908, 669696211, 501122842, 438815206],\n",
       " [625649397, 295060482, 262686951, 815352670],\n",
       " [100876777, 196900030, 523615865]]"
      ]
     },
     "execution_count": 349,
     "metadata": {},
     "output_type": "execute_result"
    }
   ],
   "source": [
    "l3"
   ]
  },
  {
   "cell_type": "code",
   "execution_count": null,
   "id": "1b720909",
   "metadata": {},
   "outputs": [],
   "source": [
    "l4="
   ]
  },
  {
   "cell_type": "code",
   "execution_count": 371,
   "id": "9bdca755",
   "metadata": {},
   "outputs": [
    {
     "name": "stdout",
     "output_type": "stream",
     "text": [
      "[(1,), (2,), (3,), (4,), (5,)]\n"
     ]
    }
   ],
   "source": [
    "#x=lambda y:for i in range(len(y))\n",
    "print (list(product(s1)))"
   ]
  },
  {
   "cell_type": "code",
   "execution_count": 308,
   "id": "592a1939",
   "metadata": {},
   "outputs": [],
   "source": [
    "x=lambda y: i for i in range(len(y))"
   ]
  },
  {
   "cell_type": "code",
   "execution_count": 310,
   "id": "ec7e8ab5",
   "metadata": {},
   "outputs": [
    {
     "data": {
      "text/plain": [
       "[0, 1, 2]"
      ]
     },
     "execution_count": 310,
     "metadata": {},
     "output_type": "execute_result"
    }
   ],
   "source": [
    "x(l3)"
   ]
  },
  {
   "cell_type": "code",
   "execution_count": 366,
   "id": "3e837185",
   "metadata": {},
   "outputs": [],
   "source": [
    "def ret(y):\n",
    "    s=\"\"\n",
    "    for i in y:\n",
    "        s=s+str(i)\n",
    "    s=[int(i) for i in s]\n",
    "    s=tuple(s)\n",
    "    return s"
   ]
  },
  {
   "cell_type": "code",
   "execution_count": 368,
   "id": "97157390",
   "metadata": {},
   "outputs": [],
   "source": [
    "s1=ret([1,2,3,4, 5])"
   ]
  },
  {
   "cell_type": "code",
   "execution_count": 369,
   "id": "1952c0fa",
   "metadata": {},
   "outputs": [
    {
     "data": {
      "text/plain": [
       "(1, 2, 3, 4, 5)"
      ]
     },
     "execution_count": 369,
     "metadata": {},
     "output_type": "execute_result"
    }
   ],
   "source": [
    "s1"
   ]
  },
  {
   "cell_type": "code",
   "execution_count": 337,
   "id": "93e6390f",
   "metadata": {},
   "outputs": [
    {
     "data": {
      "text/plain": [
       "['(',\n",
       " \"'\",\n",
       " '1',\n",
       " \"'\",\n",
       " ',',\n",
       " ' ',\n",
       " \"'\",\n",
       " '2',\n",
       " \"'\",\n",
       " ',',\n",
       " ' ',\n",
       " \"'\",\n",
       " '3',\n",
       " \"'\",\n",
       " ',',\n",
       " ' ',\n",
       " \"'\",\n",
       " '3',\n",
       " \"'\",\n",
       " ')']"
      ]
     },
     "execution_count": 337,
     "metadata": {},
     "output_type": "execute_result"
    }
   ],
   "source": [
    "s1"
   ]
  },
  {
   "cell_type": "code",
   "execution_count": 401,
   "id": "2f49ef07",
   "metadata": {},
   "outputs": [
    {
     "name": "stdout",
     "output_type": "stream",
     "text": [
      "5 84\n",
      "1 765952241\n",
      "3 289380515 265118103 309882974\n",
      "2 747649220 587740446\n",
      "2 682866882 596381508\n",
      "1 342723101\n",
      "[(765952241, 289380515, 747649220, 682866882, 342723101), (765952241, 289380515, 747649220, 596381508, 342723101), (765952241, 289380515, 587740446, 682866882, 342723101), (765952241, 289380515, 587740446, 596381508, 342723101), (765952241, 265118103, 747649220, 682866882, 342723101), (765952241, 265118103, 747649220, 596381508, 342723101), (765952241, 265118103, 587740446, 682866882, 342723101), (765952241, 265118103, 587740446, 596381508, 342723101), (765952241, 309882974, 747649220, 682866882, 342723101), (765952241, 309882974, 747649220, 596381508, 342723101), (765952241, 309882974, 587740446, 682866882, 342723101), (765952241, 309882974, 587740446, 596381508, 342723101)]\n",
      "sum  1813169576612653831\n",
      "sum  1702533301164605971\n",
      "sum  1599629052310324347\n",
      "sum  1488992776862276487\n",
      "sum  1799716102689307215\n",
      "sum  1689079827241259355\n",
      "sum  1586175578386977731\n",
      "sum  1475539302938929871\n",
      "sum  1825455951726073282\n",
      "sum  1714819676278025422\n",
      "sum  1611915427423743798\n",
      "sum  1501279151975695938\n",
      "83\n"
     ]
    }
   ],
   "source": [
    "k,m = map(int, input().split())\n",
    "#k=int(k)\n",
    "si=[]\n",
    "ni=[]\n",
    "\n",
    "for i in range(k):\n",
    "    s=list(map(int, input().split()))\n",
    "    si.append(s[0])\n",
    "    ni.append(s[1:len(s)])\n",
    "s_l=[]\n",
    "list1=list(product (*ni))   ## Very Important for manupulation of unknown number of for loops as *p\n",
    "print(list1)\n",
    "\n",
    "for i in list1:\n",
    "    sum=0\n",
    "    for j in i:\n",
    "        sum=sum+j*j\n",
    "    print(\"sum \", sum)\n",
    "    s_l.append(int(sum%m))\n",
    "print(max(s_l))\n"
   ]
  },
  {
   "cell_type": "code",
   "execution_count": null,
   "id": "3ba83073",
   "metadata": {},
   "outputs": [],
   "source": [
    "from itertools import product\n",
    "k,m = map(int, input().split())\n",
    "#k=int(k)\n",
    "si=[]\n",
    "ni=[]\n",
    "\n",
    "for i in range(k):\n",
    "    s=list(map(int, input().split()))\n",
    "    si.append(s[0])\n",
    "    ni.append(s[1:len(s)])\n",
    "s_l=[]\n",
    "list1=list(product(*ni))   ## Very Important for manupulation of unknown number of for loops as *p\n",
    "#print(list1)\n",
    "\n",
    "for i in list1:\n",
    "    sum=0\n",
    "    for j in i:\n",
    "        sum=sum+j*j\n",
    "    #print(\"sum \", sum)\n",
    "    s_l.append(int(sum%m))\n",
    "print(max(s_l))\n"
   ]
  },
  {
   "cell_type": "code",
   "execution_count": null,
   "id": "b039d77b",
   "metadata": {},
   "outputs": [],
   "source": [
    "3 1000\n",
    "2 5 4\n",
    "3 7 8 9 \n",
    "5 5 7 8 9 10 \n",
    "\n",
    "5 84\n",
    "1 765952241\n",
    "3 289380515 265118103 309882974\n",
    "2 747649220 587740446\n",
    "2 682866882 596381508\n",
    "1 342723101"
   ]
  },
  {
   "cell_type": "code",
   "execution_count": 405,
   "id": "db51e545",
   "metadata": {},
   "outputs": [
    {
     "data": {
      "text/plain": [
       "0"
      ]
     },
     "execution_count": 405,
     "metadata": {},
     "output_type": "execute_result"
    }
   ],
   "source": [
    "list1"
   ]
  },
  {
   "cell_type": "code",
   "execution_count": 404,
   "id": "6e64ff0c",
   "metadata": {},
   "outputs": [],
   "source": [
    "list1=0"
   ]
  },
  {
   "cell_type": "code",
   "execution_count": 385,
   "id": "9098be82",
   "metadata": {},
   "outputs": [],
   "source": [
    "list2=list(product ([5, 4],[7, 8, 9],[5, 7, 8, 9, 10]))"
   ]
  },
  {
   "cell_type": "code",
   "execution_count": 402,
   "id": "d798f054",
   "metadata": {},
   "outputs": [
    {
     "data": {
      "text/plain": [
       "[(5, 7, 5),\n",
       " (5, 7, 7),\n",
       " (5, 7, 8),\n",
       " (5, 7, 9),\n",
       " (5, 7, 10),\n",
       " (5, 8, 5),\n",
       " (5, 8, 7),\n",
       " (5, 8, 8),\n",
       " (5, 8, 9),\n",
       " (5, 8, 10),\n",
       " (5, 9, 5),\n",
       " (5, 9, 7),\n",
       " (5, 9, 8),\n",
       " (5, 9, 9),\n",
       " (5, 9, 10),\n",
       " (4, 7, 5),\n",
       " (4, 7, 7),\n",
       " (4, 7, 8),\n",
       " (4, 7, 9),\n",
       " (4, 7, 10),\n",
       " (4, 8, 5),\n",
       " (4, 8, 7),\n",
       " (4, 8, 8),\n",
       " (4, 8, 9),\n",
       " (4, 8, 10),\n",
       " (4, 9, 5),\n",
       " (4, 9, 7),\n",
       " (4, 9, 8),\n",
       " (4, 9, 9),\n",
       " (4, 9, 10)]"
      ]
     },
     "execution_count": 402,
     "metadata": {},
     "output_type": "execute_result"
    }
   ],
   "source": [
    "list2"
   ]
  },
  {
   "cell_type": "code",
   "execution_count": 433,
   "id": "20872c05",
   "metadata": {},
   "outputs": [
    {
     "name": "stdout",
     "output_type": "stream",
     "text": [
      "5\n",
      "Harry\n",
      "37.21\n",
      "Berry\n",
      "37.21\n",
      "Tina\n",
      "37.2\n",
      "Akriti\n",
      "41\n",
      "Harsh\n",
      "39\n",
      "[[37.21, 'Harry'], [37.21, 'Berry'], [37.2, 'Tina'], [41.0, 'Akriti'], [39.0, 'Harsh']]\n"
     ]
    }
   ],
   "source": [
    "n=int(input())\n",
    "name=[]\n",
    "score=[]\n",
    "stu=[]\n",
    "\n",
    "for i in range(n):\n",
    "    nam=input()\n",
    "    scor=float(input())\n",
    "    name.append(nam)\n",
    "    score.append(scor)\n",
    "    stu.append([scor, nam])\n",
    "print(stu)\n",
    "for i in stu[1:3]:\n",
    "    print(i[1])"
   ]
  },
  {
   "cell_type": "code",
   "execution_count": null,
   "id": "66b1c649",
   "metadata": {},
   "outputs": [],
   "source": [
    "5\n",
    "Harry\n",
    "37.21\n",
    "Berry\n",
    "37.21\n",
    "Tina\n",
    "37.2\n",
    "Akriti\n",
    "41\n",
    "Harsh\n",
    "39\n",
    "\n",
    "Berry\n",
    "Harry"
   ]
  },
  {
   "cell_type": "code",
   "execution_count": 408,
   "id": "c94da3e6",
   "metadata": {},
   "outputs": [],
   "source": [
    "l=[['Harry', 37.21], ['Berry', 37.21], ['Tina', 37.2], ['Akriti', 41.0], ['Harsh', 39.0]]"
   ]
  },
  {
   "cell_type": "code",
   "execution_count": 437,
   "id": "bbf0d48f",
   "metadata": {},
   "outputs": [],
   "source": [
    "l=stu"
   ]
  },
  {
   "cell_type": "code",
   "execution_count": 438,
   "id": "20f8da93",
   "metadata": {},
   "outputs": [
    {
     "data": {
      "text/plain": [
       "[[37.21, 'Harry'],\n",
       " [37.21, 'Berry'],\n",
       " [37.2, 'Tina'],\n",
       " [41.0, 'Akriti'],\n",
       " [39.0, 'Harsh']]"
      ]
     },
     "execution_count": 438,
     "metadata": {},
     "output_type": "execute_result"
    }
   ],
   "source": [
    "l"
   ]
  },
  {
   "cell_type": "code",
   "execution_count": 439,
   "id": "5b1fc4bc",
   "metadata": {},
   "outputs": [],
   "source": [
    "l.sort()"
   ]
  },
  {
   "cell_type": "code",
   "execution_count": 440,
   "id": "e84804a3",
   "metadata": {},
   "outputs": [
    {
     "data": {
      "text/plain": [
       "[[37.2, 'Tina'],\n",
       " [37.21, 'Berry'],\n",
       " [37.21, 'Harry'],\n",
       " [39.0, 'Harsh'],\n",
       " [41.0, 'Akriti']]"
      ]
     },
     "execution_count": 440,
     "metadata": {},
     "output_type": "execute_result"
    }
   ],
   "source": [
    "l"
   ]
  },
  {
   "cell_type": "code",
   "execution_count": 441,
   "id": "9ae2dfd4",
   "metadata": {},
   "outputs": [
    {
     "name": "stdout",
     "output_type": "stream",
     "text": [
      "Berry\n",
      "Harry\n"
     ]
    }
   ],
   "source": [
    "for i in l[1:3]:\n",
    "    print(i[1])"
   ]
  },
  {
   "cell_type": "code",
   "execution_count": 414,
   "id": "50eb246f",
   "metadata": {},
   "outputs": [
    {
     "ename": "TypeError",
     "evalue": "'<' not supported between instances of 'float' and 'str'",
     "output_type": "error",
     "traceback": [
      "\u001b[1;31m---------------------------------------------------------------------------\u001b[0m",
      "\u001b[1;31mTypeError\u001b[0m                                 Traceback (most recent call last)",
      "Input \u001b[1;32mIn [414]\u001b[0m, in \u001b[0;36m<cell line: 2>\u001b[1;34m()\u001b[0m\n\u001b[0;32m      1\u001b[0m \u001b[38;5;66;03m#for i in l:\u001b[39;00m\n\u001b[1;32m----> 2\u001b[0m m\u001b[38;5;241m=\u001b[39m\u001b[38;5;28;43mmin\u001b[39;49m\u001b[43m(\u001b[49m\u001b[43ml\u001b[49m\u001b[43m[\u001b[49m\u001b[38;5;241;43m1\u001b[39;49m\u001b[43m]\u001b[49m\u001b[43m[\u001b[49m\u001b[38;5;241;43m0\u001b[39;49m\u001b[43m:\u001b[49m\u001b[38;5;28;43mlen\u001b[39;49m\u001b[43m(\u001b[49m\u001b[43ml\u001b[49m\u001b[43m)\u001b[49m\u001b[43m]\u001b[49m\u001b[43m)\u001b[49m\n",
      "\u001b[1;31mTypeError\u001b[0m: '<' not supported between instances of 'float' and 'str'"
     ]
    }
   ],
   "source": [
    "#for i in l:\n",
    "m=min(l[1][0:len(l)])"
   ]
  },
  {
   "cell_type": "code",
   "execution_count": null,
   "id": "48ff9a01",
   "metadata": {},
   "outputs": [],
   "source": [
    "m"
   ]
  },
  {
   "cell_type": "code",
   "execution_count": null,
   "id": "20eb6127",
   "metadata": {},
   "outputs": [],
   "source": []
  },
  {
   "cell_type": "code",
   "execution_count": null,
   "id": "aa91e36f",
   "metadata": {},
   "outputs": [],
   "source": []
  },
  {
   "cell_type": "code",
   "execution_count": null,
   "id": "b4e802d8",
   "metadata": {},
   "outputs": [],
   "source": [
    "4\n",
    "Sona\n",
    "-25.001\n",
    "Mona\n",
    "-25.0001\n",
    "Mini\n",
    "-25.000\n",
    "Rita\n",
    "-25.0\n",
    "\n",
    "Mona"
   ]
  },
  {
   "cell_type": "code",
   "execution_count": 518,
   "id": "5ef342fb",
   "metadata": {},
   "outputs": [
    {
     "name": "stdout",
     "output_type": "stream",
     "text": [
      "5\n",
      "Harry\n",
      "37.21\n",
      "Berry\n",
      "37.21\n",
      "Tina\n",
      "37.2\n",
      "Akriti\n",
      "41\n",
      "Harsh\n",
      "39\n",
      "[[0, 37.2, 'Tina'], [1, 37.21, 'Berry'], [2, 37.21, 'Harry'], [3, 39.0, 'Harsh'], [4, 41.0, 'Akriti']]\n",
      "Tina\n"
     ]
    }
   ],
   "source": [
    "n=int(input())\n",
    "name=[]\n",
    "score=[]\n",
    "stu=[]\n",
    "dict1={}\n",
    "for i in range(n):\n",
    "    nam=input()\n",
    "    scor=float(input())\n",
    "    name.append(nam)\n",
    "    score.append(scor)\n",
    "    stu.append([scor, nam])\n",
    "stu.sort()\n",
    "#print(stu)\n",
    "na=[]\n",
    "c=0\n",
    "for i in range(n):\n",
    "#    print(\"length \",len(stu))\n",
    "    #for j in range(len(stu[i])):\n",
    "    if stu[i][0]==stu[0][0] and stu[i][0]==stu[1][0] and stu[i][0]==stu[2][0]: \n",
    "        c=c+1         \n",
    "        #print(\"first true\",i)\n",
    "    elif stu[i][0]==stu[0][0] and stu[i][0]==stu[1][0]:\n",
    "        c=c+1\n",
    "        #print(\"second true\", i)\n",
    "    elif c+1<n:  \n",
    "        if stu[i][0]==stu[c+1][0]:\n",
    "            na.append([i,stu[i][0], stu[i][1]])\n",
    "            #print(\"3rd true\", i)\n",
    "            c=c+1\n",
    "    elif c==n-1 and stu[i][0]==stu[c][0]:\n",
    "        na.append([i,stu[i][0], stu[c][1]])\n",
    "        #print(\"4rd true\", i)\n",
    "#print(\"value of \",c)\n",
    "#na.sort()\n",
    "stu1=stu\n",
    "print(na)\n",
    "for j in range(len(na)):\n",
    "        \n",
    "    if len(na)>=2 and j<len(na):\n",
    "        if na[j][1]!=na[j+1][1]: \n",
    "            print(na[j][2])\n",
    "            break\n",
    "        elif na[j][1]==na[j+1][1] or na[j-1][1]==na[j][1] and na[j-1][1]!=na[0][1]:\n",
    "                print(na[j][2])\n",
    "                #print()\n",
    "    elif len(na)==1:\n",
    "        print(na[0][2])\n",
    "        break\n",
    "   "
   ]
  },
  {
   "cell_type": "code",
   "execution_count": 478,
   "id": "a49aa4ac",
   "metadata": {},
   "outputs": [],
   "source": [
    "# using naive method\n",
    "# to convert lists to dictionary\n",
    "res = {}\n",
    "for key in test_keys:\n",
    "    for value in test_values:\n",
    "        res[key] = value\n",
    "        test_values.remove(value)\n",
    "        break  "
   ]
  },
  {
   "cell_type": "code",
   "execution_count": 479,
   "id": "440d06ff",
   "metadata": {},
   "outputs": [
    {
     "data": {
      "text/plain": [
       "{-25.0001: 'Mini', -25.0: 'Rita'}"
      ]
     },
     "execution_count": 479,
     "metadata": {},
     "output_type": "execute_result"
    }
   ],
   "source": [
    "res"
   ]
  },
  {
   "cell_type": "code",
   "execution_count": 641,
   "id": "b99eee50",
   "metadata": {},
   "outputs": [
    {
     "name": "stdout",
     "output_type": "stream",
     "text": [
      "6\n",
      "da \n",
      "20\n",
      "sa\n",
      "20\n",
      "jfkj\n",
      "20\n",
      "ab\n",
      "20\n",
      "hgjh\n",
      "10\n",
      "klfj\n",
      "50\n",
      "ab\n",
      "da \n",
      "jfkj\n",
      "sa\n"
     ]
    }
   ],
   "source": [
    "#nested list\n",
    "n=int(input())\n",
    "name=[]\n",
    "score=[]\n",
    "stu=[]\n",
    "for i in range(n):\n",
    "    nam=input()\n",
    "    scor=float(input())\n",
    "    name.append(nam)\n",
    "    score.append(scor)\n",
    "    stu.append([scor, nam])\n",
    "stu.sort()\n",
    "\n",
    "l1=[]\n",
    "for i in range(n):\n",
    "    l1.insert(i, [])\n",
    "j=0\n",
    "c=0\n",
    "j=0\n",
    "\n",
    "for i in range(n):\n",
    "    d=0\n",
    "    while j <  n:\n",
    "        if stu[j][0]==stu[i][0]:\n",
    "            l1[c].insert(d, stu[j])\n",
    "            d=d+1\n",
    "            \n",
    "        elif stu[j][0]!=stu[i][0]:\n",
    "            if l1[c]!=[]:\n",
    "                c=c+1\n",
    "            break\n",
    "        #print(j)\n",
    "        j=j+1\n",
    "if [] in l1:\n",
    "    l1.remove([])\n",
    "\n",
    "x1=l1[1]   # For 2nd minimum grade\n",
    "for i in x1:\n",
    "    print(i[1])\n",
    "#print(l1)"
   ]
  },
  {
   "cell_type": "code",
   "execution_count": 635,
   "id": "fbc1bc87",
   "metadata": {},
   "outputs": [
    {
     "name": "stdout",
     "output_type": "stream",
     "text": [
      "ab\n",
      "av\n",
      "dq\n"
     ]
    }
   ],
   "source": []
  },
  {
   "cell_type": "code",
   "execution_count": 607,
   "id": "dccd8015",
   "metadata": {},
   "outputs": [
    {
     "data": {
      "text/plain": [
       "[[10.0, 'abc'], [20.0, 'ab'], [20.0, 'av'], [30.0, 'cd'], [40.0, 'cdc']]"
      ]
     },
     "execution_count": 607,
     "metadata": {},
     "output_type": "execute_result"
    }
   ],
   "source": [
    "stu"
   ]
  },
  {
   "cell_type": "code",
   "execution_count": 609,
   "id": "8fc7115b",
   "metadata": {},
   "outputs": [
    {
     "data": {
      "text/plain": [
       "[[10.0, 'abc'], [20.0, 'ab'], [20.0, 'av'], [30.0, 'cd'], [40.0, 'cdc']]"
      ]
     },
     "execution_count": 609,
     "metadata": {},
     "output_type": "execute_result"
    }
   ],
   "source": [
    "stu"
   ]
  },
  {
   "cell_type": "code",
   "execution_count": 624,
   "id": "a3513354",
   "metadata": {},
   "outputs": [
    {
     "name": "stdout",
     "output_type": "stream",
     "text": [
      "0\n",
      "1\n",
      "2\n",
      "3\n",
      "4\n",
      "[[[10.0, 'abc']], [[20.0, 'ab'], [20.0, 'av']], [[30.0, 'cd']], [[40.0, 'cdc']], []]\n"
     ]
    },
    {
     "data": {
      "text/plain": [
       "'\\n    if i[0]!=stu[i][0]:\\n        break\\n    elif i[0]==stu[i][0]:\\n        if i[1]!=stu[i][1]\\n'"
      ]
     },
     "execution_count": 624,
     "metadata": {},
     "output_type": "execute_result"
    }
   ],
   "source": [
    "#for i in stu\n",
    "n=5\n",
    "l1=[]\n",
    "for i in range(n):\n",
    "    l1.insert(i, [])\n",
    "j=0\n",
    "c=0\n",
    "j=0\n",
    "\n",
    "for i in range(n):\n",
    "    d=0\n",
    "    while j <  n:\n",
    "        if stu[j][0]==stu[i][0]:\n",
    "            l1[c].insert(d, stu[j])\n",
    "            d=d+1\n",
    "            \n",
    "        elif stu[j][0]!=stu[i][0]:\n",
    "            if l1[c]!=[]:\n",
    "                c=c+1\n",
    "            break\n",
    "        print(j)\n",
    "        j=j+1\n",
    "l1.remove([])\n",
    "print(l1)\n",
    "\"\"\"\n",
    "    if i[0]!=stu[i][0]:\n",
    "        break\n",
    "    elif i[0]==stu[i][0]:\n",
    "        if i[1]!=stu[i][1]\n",
    "\"\"\""
   ]
  },
  {
   "cell_type": "code",
   "execution_count": 618,
   "id": "ceb359c4",
   "metadata": {},
   "outputs": [
    {
     "name": "stdout",
     "output_type": "stream",
     "text": [
      "1\n"
     ]
    }
   ],
   "source": [
    "#print(l1[1][:][:])\n",
    "x=l1[1]\n",
    "print(len(l1[2]))"
   ]
  },
  {
   "cell_type": "code",
   "execution_count": 621,
   "id": "da07c3c3",
   "metadata": {},
   "outputs": [
    {
     "data": {
      "text/plain": [
       "[[[10.0, 'abc']],\n",
       " [[20.0, 'ab'], [20.0, 'av']],\n",
       " [[30.0, 'cd']],\n",
       " [[40.0, 'cdc']],\n",
       " []]"
      ]
     },
     "execution_count": 621,
     "metadata": {},
     "output_type": "execute_result"
    }
   ],
   "source": [
    "l1"
   ]
  },
  {
   "cell_type": "code",
   "execution_count": 625,
   "id": "6951fc1d",
   "metadata": {},
   "outputs": [],
   "source": [
    "l1.remove([])"
   ]
  },
  {
   "cell_type": "code",
   "execution_count": 626,
   "id": "d9786671",
   "metadata": {},
   "outputs": [
    {
     "data": {
      "text/plain": [
       "[[[10.0, 'abc']],\n",
       " [[20.0, 'ab'], [20.0, 'av']],\n",
       " [[30.0, 'cd']],\n",
       " [[40.0, 'cdc']]]"
      ]
     },
     "execution_count": 626,
     "metadata": {},
     "output_type": "execute_result"
    }
   ],
   "source": [
    "l1"
   ]
  },
  {
   "cell_type": "code",
   "execution_count": 575,
   "id": "9e9ebcfd",
   "metadata": {},
   "outputs": [
    {
     "ename": "IndexError",
     "evalue": "list index out of range",
     "output_type": "error",
     "traceback": [
      "\u001b[1;31m---------------------------------------------------------------------------\u001b[0m",
      "\u001b[1;31mIndexError\u001b[0m                                Traceback (most recent call last)",
      "Input \u001b[1;32mIn [575]\u001b[0m, in \u001b[0;36m<cell line: 1>\u001b[1;34m()\u001b[0m\n\u001b[1;32m----> 1\u001b[0m \u001b[43ml1\u001b[49m\u001b[43m[\u001b[49m\u001b[38;5;241;43m2\u001b[39;49m\u001b[43m]\u001b[49m\u001b[43m[\u001b[49m\u001b[38;5;241;43m2\u001b[39;49m\u001b[43m]\u001b[49m[\u001b[38;5;241m1\u001b[39m]\n",
      "\u001b[1;31mIndexError\u001b[0m: list index out of range"
     ]
    }
   ],
   "source": [
    "l1[2][2][1]"
   ]
  },
  {
   "cell_type": "code",
   "execution_count": 531,
   "id": "5f4ca0ca",
   "metadata": {},
   "outputs": [],
   "source": [
    "stu.insert(2,[3,\"abc\"])"
   ]
  },
  {
   "cell_type": "code",
   "execution_count": 532,
   "id": "9f49a889",
   "metadata": {},
   "outputs": [
    {
     "data": {
      "text/plain": [
       "[[20.0, 'jkbd'], [30.0, 'jb'], [3, 'abc'], [30.0, 'sk'], [4, 'abc']]"
      ]
     },
     "execution_count": 532,
     "metadata": {},
     "output_type": "execute_result"
    }
   ],
   "source": [
    "stu"
   ]
  },
  {
   "cell_type": "code",
   "execution_count": null,
   "id": "977869cc",
   "metadata": {},
   "outputs": [],
   "source": []
  },
  {
   "cell_type": "code",
   "execution_count": 547,
   "id": "8aefa23d",
   "metadata": {},
   "outputs": [
    {
     "name": "stdout",
     "output_type": "stream",
     "text": [
      "original dataframe:\n"
     ]
    },
    {
     "data": {
      "text/html": [
       "<div>\n",
       "<style scoped>\n",
       "    .dataframe tbody tr th:only-of-type {\n",
       "        vertical-align: middle;\n",
       "    }\n",
       "\n",
       "    .dataframe tbody tr th {\n",
       "        vertical-align: top;\n",
       "    }\n",
       "\n",
       "    .dataframe thead th {\n",
       "        text-align: right;\n",
       "    }\n",
       "</style>\n",
       "<table border=\"1\" class=\"dataframe\">\n",
       "  <thead>\n",
       "    <tr style=\"text-align: right;\">\n",
       "      <th></th>\n",
       "      <th>Col_1</th>\n",
       "      <th>Col_2</th>\n",
       "    </tr>\n",
       "  </thead>\n",
       "  <tbody>\n",
       "    <tr>\n",
       "      <th>0</th>\n",
       "      <td>a</td>\n",
       "      <td>1</td>\n",
       "    </tr>\n",
       "    <tr>\n",
       "      <th>1</th>\n",
       "      <td>b</td>\n",
       "      <td>2</td>\n",
       "    </tr>\n",
       "    <tr>\n",
       "      <th>2</th>\n",
       "      <td>c</td>\n",
       "      <td>3</td>\n",
       "    </tr>\n",
       "    <tr>\n",
       "      <th>3</th>\n",
       "      <td>b</td>\n",
       "      <td>3</td>\n",
       "    </tr>\n",
       "    <tr>\n",
       "      <th>4</th>\n",
       "      <td>a</td>\n",
       "      <td>2</td>\n",
       "    </tr>\n",
       "    <tr>\n",
       "      <th>5</th>\n",
       "      <td>d</td>\n",
       "      <td>1</td>\n",
       "    </tr>\n",
       "  </tbody>\n",
       "</table>\n",
       "</div>"
      ],
      "text/plain": [
       "  Col_1  Col_2\n",
       "0     a      1\n",
       "1     b      2\n",
       "2     c      3\n",
       "3     b      3\n",
       "4     a      2\n",
       "5     d      1"
      ]
     },
     "metadata": {},
     "output_type": "display_data"
    },
    {
     "name": "stdout",
     "output_type": "stream",
     "text": [
      "groupby Col_1 <pandas.core.groupby.generic.DataFrameGroupBy object at 0x000002289A9977C0>\n",
      "final dataframe:\n"
     ]
    },
    {
     "data": {
      "text/plain": [
       "[('a',\n",
       "    Col_1  Col_2\n",
       "  0     a      1\n",
       "  4     a      2),\n",
       " ('b',\n",
       "    Col_1  Col_2\n",
       "  1     b      2\n",
       "  3     b      3),\n",
       " ('c',\n",
       "    Col_1  Col_2\n",
       "  2     c      3),\n",
       " ('d',\n",
       "    Col_1  Col_2\n",
       "  5     d      1)]"
      ]
     },
     "metadata": {},
     "output_type": "display_data"
    }
   ],
   "source": [
    "# import pandas\n",
    "import pandas as pd\n",
    "\n",
    "# create dataframe\n",
    "df = pd.DataFrame({'Col_1': ['a', 'b', 'c', 'b', 'a', 'd'],'Col_2': [1, 2, 3, 3, 2, 1]})\n",
    "\n",
    "# print original dataframe\n",
    "print(\"original dataframe:\")\n",
    "display(df)\n",
    "\n",
    "\n",
    "# call groupby method.\n",
    "df = df.groupby(\"Col_1\")\n",
    "print(\"groupby Col_1\",df)\n",
    "\n",
    "# call agg method\n",
    "#df = df.agg({\"Col_2\": \"nunique\"}).reset_index()\n",
    "#print(\"agg Col_2\",df)\n",
    "\n",
    "# print dataframe\n",
    "print(\"final dataframe:\")\n",
    "display(list(df))\n"
   ]
  },
  {
   "cell_type": "code",
   "execution_count": null,
   "id": "577f38a7",
   "metadata": {},
   "outputs": [],
   "source": [
    "n=int(input())\n",
    "s=[]\n",
    "s=list(map(int, input().split(\" \")[0:5]))\n",
    "s=set(s)\n",
    "N=int(input())  \n",
    "\n",
    "i=0\n",
    "while i<N:\n",
    "    l1=input().split(\" \")[0:2]\n",
    "    if l1[0].lower()==\"pop\":\n",
    "        s.pop()\n",
    "    elif l1[0].lower()==\"remove\":\n",
    "       s.remove(int(l1[1])) \n",
    "    elif l1[0].lower()==\"discard\":\n",
    "        s.discard(int(l1[1]))\n",
    "\n",
    "    i=i+1\n",
    "print(sum(s))"
   ]
  },
  {
   "cell_type": "code",
   "execution_count": 672,
   "id": "12fe906d",
   "metadata": {},
   "outputs": [
    {
     "name": "stdout",
     "output_type": "stream",
     "text": [
      "9\n",
      "1 2 3 4 5 6 7 8 9\n",
      "10\n",
      "{1, 2, 3, 4, 5, 6, 7, 8, 9}\n",
      "pop\n",
      "remove 9\n",
      "discard 9\n",
      "discard 8\n",
      "remove 7\n",
      "pop\n",
      "discard 6\n",
      "remove 5\n",
      "pop\n",
      "discard 5\n",
      "4\n"
     ]
    }
   ],
   "source": [
    "n=int(input())\n",
    "s=[]\n",
    "s=list(map(int, input().split(\" \")))\n",
    "s=set(s)\n",
    "N=int(input())  \n",
    "\n",
    "i=0\n",
    "#print(s)\n",
    "while i<N:\n",
    "    l1=input().split(\" \")\n",
    "    if l1[0].lower()==\"pop\":\n",
    "        s.pop()\n",
    "    elif l1[0].lower()==\"remove\":\n",
    "        l2=int(l1[1])\n",
    "        s.remove(l2) \n",
    "    elif l1[0].lower()==\"discard\":\n",
    "        l2=int(l1[1])\n",
    "        s.discard(l2)\n",
    "    i=i+1\n",
    "sum=0\n",
    "for i in s:\n",
    "    sum=sum+i\n",
    "print(sum)"
   ]
  },
  {
   "cell_type": "code",
   "execution_count": 651,
   "id": "9d7c942b",
   "metadata": {},
   "outputs": [],
   "source": [
    "s1=list(s)"
   ]
  },
  {
   "cell_type": "code",
   "execution_count": 664,
   "id": "7ed95d45",
   "metadata": {},
   "outputs": [
    {
     "data": {
      "text/plain": [
       "int"
      ]
     },
     "execution_count": 664,
     "metadata": {},
     "output_type": "execute_result"
    }
   ],
   "source": [
    "s2=[2,3,4,5]\n",
    "type(s2[0])"
   ]
  },
  {
   "cell_type": "code",
   "execution_count": 669,
   "id": "04de119a",
   "metadata": {},
   "outputs": [
    {
     "data": {
      "text/plain": [
       "[2, 3, 4, 5]"
      ]
     },
     "execution_count": 669,
     "metadata": {},
     "output_type": "execute_result"
    }
   ],
   "source": [
    "sum=0\n",
    "sum=[sum+i for i in s2]\n",
    "sum"
   ]
  },
  {
   "cell_type": "code",
   "execution_count": 675,
   "id": "fd697637",
   "metadata": {},
   "outputs": [],
   "source": [
    "a=(1,2,3)"
   ]
  },
  {
   "cell_type": "code",
   "execution_count": 679,
   "id": "1ef8dec6",
   "metadata": {},
   "outputs": [
    {
     "name": "stdout",
     "output_type": "stream",
     "text": [
      "1 2 3 4 5 6 7 8 9 10 11 12 23 45 84 78\n",
      "2\n",
      "1 2 3 4 5\n",
      "100 11 12\n",
      "y\n",
      "No\n"
     ]
    }
   ],
   "source": [
    "a=set(map(int, input().split()))\n",
    "n=int(input())\n",
    "ls=[]\n",
    "for i in range(n):\n",
    "    ls.append(set(map(int, input().split())))\n",
    "c=0\n",
    "for i in ls:\n",
    "    if a.issuperset(i):\n",
    "        #print(\"y\")\n",
    "    else:\n",
    "        #print(\"No\")\n",
    "        c=c+1\n",
    "if c==0:\n",
    "    print(\"True\")\n",
    "else:\n",
    "    print(\"False\")"
   ]
  },
  {
   "cell_type": "code",
   "execution_count": 680,
   "id": "2346c96c",
   "metadata": {},
   "outputs": [
    {
     "data": {
      "text/plain": [
       "True"
      ]
     },
     "execution_count": 680,
     "metadata": {},
     "output_type": "execute_result"
    }
   ],
   "source": [
    "a.issuperset(ls[0])"
   ]
  },
  {
   "cell_type": "code",
   "execution_count": null,
   "id": "6d1d4eaa",
   "metadata": {},
   "outputs": [],
   "source": [
    "1 2 3 4 5 6 7 8 9 10 11 12 23 45 84 78\n",
    "2\n",
    "1 2 3 4 5\n",
    "100 11 12"
   ]
  },
  {
   "cell_type": "code",
   "execution_count": 681,
   "id": "5ba731a3",
   "metadata": {},
   "outputs": [
    {
     "name": "stdout",
     "output_type": "stream",
     "text": [
      "4050\n"
     ]
    }
   ],
   "source": [
    "a = '50'\n",
    "b = '40'\n",
    "print(int(b + a))"
   ]
  },
  {
   "cell_type": "code",
   "execution_count": null,
   "id": "7dbd2712",
   "metadata": {},
   "outputs": [],
   "source": [
    "def merge_the_tools(string, k):\n",
    "    # your code goes here\n",
    "    string=list(string)\n",
    "    l1=[]\n",
    "    c=0\n",
    "    d=k\n",
    "    for i in range(int(len(string)/k)):\n",
    "        l1.append(char_set(string[c:d]))\n",
    "        if d+1==len(string):\n",
    "            break\n",
    "        c=d\n",
    "        d=d+k\n",
    "    for i in l1:\n",
    "        #print(\"i \",i)\n",
    "        for j in i:\n",
    "            print(j,end=\"\")\n",
    "        print() \n",
    "    \n",
    "def char_set(s2):\n",
    "    mylist = list(s2)\n",
    "    mylist = list(dict.fromkeys(mylist))\n",
    "    #print(mylist)        \n",
    "    return mylist\n",
    "        \n",
    "if __name__ == '__main__':\n",
    "    string, k = input(), int(input())\n",
    "    merge_the_tools(string, k)"
   ]
  },
  {
   "cell_type": "code",
   "execution_count": null,
   "id": "ec8bd95f",
   "metadata": {},
   "outputs": [],
   "source": [
    "STDIN       Function\n",
    "-----       --------\n",
    "AABCAAADA   s = 'AABCAAADA'\n",
    "3           k = 3"
   ]
  },
  {
   "cell_type": "code",
   "execution_count": 73,
   "id": "936d0bd7",
   "metadata": {},
   "outputs": [
    {
     "ename": "TypeError",
     "evalue": "'str' object cannot be interpreted as an integer",
     "output_type": "error",
     "traceback": [
      "\u001b[1;31m---------------------------------------------------------------------------\u001b[0m",
      "\u001b[1;31mTypeError\u001b[0m                                 Traceback (most recent call last)",
      "Input \u001b[1;32mIn [73]\u001b[0m, in \u001b[0;36m<cell line: 1>\u001b[1;34m()\u001b[0m\n\u001b[1;32m----> 1\u001b[0m \u001b[43mchar_set\u001b[49m\u001b[43m(\u001b[49m\u001b[38;5;124;43m\"\u001b[39;49m\u001b[38;5;124;43mAABCAAADA\u001b[39;49m\u001b[38;5;124;43m\"\u001b[39;49m\u001b[43m)\u001b[49m\n",
      "Input \u001b[1;32mIn [72]\u001b[0m, in \u001b[0;36mchar_set\u001b[1;34m(s2)\u001b[0m\n\u001b[0;32m      8\u001b[0m c\u001b[38;5;241m=\u001b[39mc\u001b[38;5;241m+\u001b[39m\u001b[38;5;241m1\u001b[39m\n\u001b[0;32m      9\u001b[0m \u001b[38;5;28;01mif\u001b[39;00m c\u001b[38;5;241m==\u001b[39m\u001b[38;5;241m2\u001b[39m:\n\u001b[1;32m---> 10\u001b[0m     \u001b[43ms3\u001b[49m\u001b[38;5;241;43m.\u001b[39;49m\u001b[43mpop\u001b[49m\u001b[43m(\u001b[49m\u001b[43ms3\u001b[49m\u001b[43m[\u001b[49m\u001b[43mj\u001b[49m\u001b[43m]\u001b[49m\u001b[43m)\u001b[49m\n\u001b[0;32m     11\u001b[0m     c\u001b[38;5;241m=\u001b[39m\u001b[38;5;241m1\u001b[39m\n\u001b[0;32m     12\u001b[0m     \u001b[38;5;66;03m#print(j, \"element of s3 \", s3)\u001b[39;00m\n",
      "\u001b[1;31mTypeError\u001b[0m: 'str' object cannot be interpreted as an integer"
     ]
    }
   ],
   "source": [
    "char_set(\"AABCAAADA\")"
   ]
  },
  {
   "cell_type": "code",
   "execution_count": 74,
   "id": "d70b795c",
   "metadata": {},
   "outputs": [
    {
     "name": "stdout",
     "output_type": "stream",
     "text": [
      "['a', 'b', 'c']\n"
     ]
    }
   ],
   "source": [
    "mylist = [\"a\", \"b\", \"a\", \"c\", \"c\"]\n",
    "mylist = list(dict.fromkeys(mylist))\n",
    "print(mylist)"
   ]
  },
  {
   "cell_type": "code",
   "execution_count": 38,
   "id": "95390e97",
   "metadata": {},
   "outputs": [
    {
     "data": {
      "text/plain": [
       "['a', 'a', 'a', 'b', 'c', 'd', 'e', 'e', 'e', 'f', 'g', 'h']"
      ]
     },
     "execution_count": 38,
     "metadata": {},
     "output_type": "execute_result"
    }
   ],
   "source": [
    "s2"
   ]
  },
  {
   "cell_type": "code",
   "execution_count": 84,
   "id": "50c4402f",
   "metadata": {},
   "outputs": [
    {
     "name": "stdout",
     "output_type": "stream",
     "text": [
      "AABCAAADAA\n",
      "2\n",
      "A\n",
      "BC\n",
      "A\n",
      "AD\n",
      "A\n"
     ]
    }
   ],
   "source": [
    "def merge_the_tools(string, k):\n",
    "    # your code goes here\n",
    "    string=list(string)\n",
    "    l1=[]\n",
    "    c=0\n",
    "    d=k\n",
    "    for i in range(int(len(string)/k)):\n",
    "        l1.append(char_set(string[c:d]))\n",
    "        c=d\n",
    "        d=d+k\n",
    "    for i in l1:\n",
    "        for j in i:\n",
    "            print(j,end=\"\")\n",
    "        print() \n",
    "    \n",
    "def char_set(s2):\n",
    "    mylist = list(s2)\n",
    "    mylist = list(dict.fromkeys(mylist))\n",
    "    #print(mylist)        \n",
    "    return mylist\n",
    "        \n",
    "if __name__ == '__main__':\n",
    "    string, k = input(), int(input())\n",
    "    merge_the_tools(string, k)"
   ]
  },
  {
   "cell_type": "code",
   "execution_count": 36,
   "id": "a997669f",
   "metadata": {},
   "outputs": [
    {
     "name": "stdout",
     "output_type": "stream",
     "text": [
      "100\n",
      "1\n",
      "89°\n"
     ]
    }
   ],
   "source": [
    "import math\n",
    "\n",
    "ab=float(input())\n",
    "bc=float(input())\n",
    "ac=math.sqrt(ab*ab+bc*bc)\n",
    "\n",
    "#c^2 = a^2 + b^2 - 2(a)(b)(cos beta)\n",
    "\n",
    "#beta = acos( ( a^2 + b^2 - c^2 ) / (2ab) )\n",
    "\n",
    "\"\"\"\n",
    "    # From Cosine law\n",
    "    alpha = math.acos((b2 + c2 - a2) /\n",
    "                         (2 * b * c));\n",
    "    betta = math.acos((a2 + c2 - b2) /\n",
    "                         (2 * a * c));\n",
    "    gamma = math.acos((a2 + b2 - c2) /\n",
    "                         (2 * a * b));\n",
    " \n",
    "\"\"\"\n",
    "\n",
    "#beta = math.acos(abs(ab**2 + bc**2 - ac**2 ) / (2*ab*bc))\n",
    "alpha = math.acos(abs(ab**2 + ac**2 - bc**2 ) / (2*ab*ac))\n",
    "\n",
    "#print(\"ac \", ac)\n",
    "#beta_angle=beta*180/math.pi\n",
    "alpha_angle=alpha*180/math.pi\n",
    "mbc_angle=90-round(alpha_angle)\n",
    "\n",
    "#print(\"mbc_angle angle\", mbc_angle)\n",
    "theta = round(mbc_angle)\n",
    "print(f\"{theta}\\N{DEGREE SIGN}\")\n",
    "#print(\"beta \", beta)\n"
   ]
  },
  {
   "cell_type": "code",
   "execution_count": 25,
   "id": "321825b6",
   "metadata": {},
   "outputs": [
    {
     "name": "stdout",
     "output_type": "stream",
     "text": [
      "3\n",
      "4\n"
     ]
    },
    {
     "ename": "ValueError",
     "evalue": "math domain error",
     "output_type": "error",
     "traceback": [
      "\u001b[1;31m---------------------------------------------------------------------------\u001b[0m",
      "\u001b[1;31mValueError\u001b[0m                                Traceback (most recent call last)",
      "Input \u001b[1;32mIn [25]\u001b[0m, in \u001b[0;36m<cell line: 23>\u001b[1;34m()\u001b[0m\n\u001b[0;32m     12\u001b[0m \u001b[38;5;124;03m\"\"\"\u001b[39;00m\n\u001b[0;32m     13\u001b[0m \u001b[38;5;124;03m    # From Cosine law\u001b[39;00m\n\u001b[0;32m     14\u001b[0m \u001b[38;5;124;03m    alpha = math.acos((b2 + c2 - a2) /\u001b[39;00m\n\u001b[1;32m   (...)\u001b[0m\n\u001b[0;32m     20\u001b[0m \u001b[38;5;124;03m \u001b[39;00m\n\u001b[0;32m     21\u001b[0m \u001b[38;5;124;03m\"\"\"\u001b[39;00m\n\u001b[0;32m     22\u001b[0m \u001b[38;5;66;03m#beta = math.acos(( ab**2 - bc**2 + ac**2 )/2*ab*bc)\u001b[39;00m\n\u001b[1;32m---> 23\u001b[0m beta \u001b[38;5;241m=\u001b[39m \u001b[43mmath\u001b[49m\u001b[38;5;241;43m.\u001b[39;49m\u001b[43macos\u001b[49m\u001b[43m(\u001b[49m\u001b[43m(\u001b[49m\u001b[43m \u001b[49m\u001b[43mbm\u001b[49m\u001b[38;5;241;43m*\u001b[39;49m\u001b[38;5;241;43m*\u001b[39;49m\u001b[38;5;241;43m2\u001b[39;49m\u001b[43m \u001b[49m\u001b[38;5;241;43m+\u001b[39;49m\u001b[43m \u001b[49m\u001b[43mbc\u001b[49m\u001b[38;5;241;43m*\u001b[39;49m\u001b[38;5;241;43m*\u001b[39;49m\u001b[38;5;241;43m2\u001b[39;49m\u001b[43m \u001b[49m\u001b[38;5;241;43m-\u001b[39;49m\u001b[43m \u001b[49m\u001b[43mcm\u001b[49m\u001b[38;5;241;43m*\u001b[39;49m\u001b[38;5;241;43m*\u001b[39;49m\u001b[38;5;241;43m2\u001b[39;49m\u001b[43m \u001b[49m\u001b[43m)\u001b[49m\u001b[38;5;241;43m/\u001b[39;49m\u001b[38;5;241;43m2\u001b[39;49m\u001b[38;5;241;43m*\u001b[39;49m\u001b[43mbm\u001b[49m\u001b[38;5;241;43m*\u001b[39;49m\u001b[43mbc\u001b[49m\u001b[43m)\u001b[49m\n\u001b[0;32m     24\u001b[0m \u001b[38;5;66;03m#print(\"ac \", ac)\u001b[39;00m\n\u001b[0;32m     25\u001b[0m beta_angle\u001b[38;5;241m=\u001b[39m(beta\u001b[38;5;241m/\u001b[39m\u001b[38;5;241m2\u001b[39m)\u001b[38;5;241m*\u001b[39m\u001b[38;5;241m180\u001b[39m\u001b[38;5;241m/\u001b[39mmath\u001b[38;5;241m.\u001b[39mpi\n",
      "\u001b[1;31mValueError\u001b[0m: math domain error"
     ]
    }
   ],
   "source": [
    "import math\n",
    "\n",
    "ab=float(input())\n",
    "bc=float(input())\n",
    "ac=math.sqrt(ab*ab+bc*bc)\n",
    "bm=ac/2\n",
    "cm=ac/2\n",
    "#c^2 = a^2 + b^2 - 2(a)(b)(cos beta)\n",
    "\n",
    "#beta = acos( ( a^2 + b^2 - c^2 ) / (2ab) )\n",
    "\n",
    "\"\"\"\n",
    "    # From Cosine law\n",
    "    alpha = math.acos((b2 + c2 - a2) /\n",
    "                         (2 * b * c));\n",
    "    betta = math.acos((a2 + c2 - b2) /\n",
    "                         (2 * a * c));\n",
    "    gamma = math.acos((a2 + b2 - c2) /\n",
    "                         (2 * a * b));\n",
    " \n",
    "\"\"\"\n",
    "#beta = math.acos(( ab**2 - bc**2 + ac**2 )/2*ab*bc)\n",
    "beta = math.acos(( bm**2 + bc**2 - cm**2 )/2*bm*bc)\n",
    "#print(\"ac \", ac)\n",
    "beta_angle=(beta/2)*180/math.pi\n",
    "#print(\"beta \", beta)\n",
    "#print(\"gama angle\", round(beta_angle/2))\n",
    "#print(round(beta_angle))\n",
    "theta = round(beta_angle)\n",
    "print(f\"{theta}\\N{DEGREE SIGN}\")"
   ]
  },
  {
   "cell_type": "code",
   "execution_count": 153,
   "id": "435b2abf",
   "metadata": {},
   "outputs": [
    {
     "name": "stdout",
     "output_type": "stream",
     "text": [
      "0.7071067811870501\n"
     ]
    }
   ],
   "source": [
    "print (sind(beta_angle))"
   ]
  },
  {
   "cell_type": "code",
   "execution_count": 151,
   "id": "5a06fdad",
   "metadata": {},
   "outputs": [
    {
     "ename": "AttributeError",
     "evalue": "module 'math' has no attribute 'Cos'",
     "output_type": "error",
     "traceback": [
      "\u001b[1;31m---------------------------------------------------------------------------\u001b[0m",
      "\u001b[1;31mAttributeError\u001b[0m                            Traceback (most recent call last)",
      "Input \u001b[1;32mIn [151]\u001b[0m, in \u001b[0;36m<cell line: 1>\u001b[1;34m()\u001b[0m\n\u001b[1;32m----> 1\u001b[0m \u001b[38;5;28mprint\u001b[39m(\u001b[43mmath\u001b[49m\u001b[38;5;241;43m.\u001b[39;49m\u001b[43mCos\u001b[49m(\u001b[38;5;241m90\u001b[39m))\n",
      "\u001b[1;31mAttributeError\u001b[0m: module 'math' has no attribute 'Cos'"
     ]
    }
   ],
   "source": []
  },
  {
   "cell_type": "code",
   "execution_count": 152,
   "id": "425958de",
   "metadata": {},
   "outputs": [],
   "source": [
    "import math\n",
    "\n",
    "def sind(x):\n",
    "    return math.sin(math.radians(x))\n",
    "\n",
    "def cosd(x):\n",
    "    return math.cos(math.radians(x))"
   ]
  },
  {
   "cell_type": "code",
   "execution_count": 1,
   "id": "44451bc3",
   "metadata": {},
   "outputs": [
    {
     "name": "stdout",
     "output_type": "stream",
     "text": [
      "Theta 45°.\n"
     ]
    }
   ],
   "source": [
    "theta = 45\n",
    "print(f\"Theta {theta}\\N{DEGREE SIGN}.\")"
   ]
  },
  {
   "cell_type": "code",
   "execution_count": 39,
   "id": "9dbec09a",
   "metadata": {},
   "outputs": [
    {
     "name": "stdout",
     "output_type": "stream",
     "text": [
      "8\n",
      "1\n",
      "22\n",
      "333\n",
      "4444\n",
      "55555\n",
      "666666\n",
      "7777777\n"
     ]
    }
   ],
   "source": [
    "N=int(input())\n",
    "s1=0\n",
    "for i in range(N-1):\n",
    "    s1=s1*10+1\n",
    "    print(s1*(i+1))"
   ]
  },
  {
   "cell_type": "code",
   "execution_count": null,
   "id": "1eb114b5",
   "metadata": {},
   "outputs": [],
   "source": [
    "\"\"\" 1\n",
    "    121\n",
    "    12321   range(1,9)[]\n",
    "  1234321\n",
    "  123454321\n",
    "12345654321\n",
    "\n",
    "0*10**i+1        sum=i*10+sum\n",
    "\n",
    "s=s+0*10*i\n",
    " =1*\n",
    "300+21    121000\n",
    "1\n",
    "1210+21=12321\n",
    "123210+321\n",
    "            0+ 0*20 +1  = 1\n",
    "            100+20 +1  = 121\n",
    "12321  12100+220 + 1  =     12321\n",
    "            1232100+2220 + 1  = 1234321\n",
    "        123432100+22220 + 1  =  123454321\n",
    "d=0, s=0, c=0\n",
    "t=d\n",
    "d=d+c*d*10 \n",
    "c=1, 10, 100\n",
    "c=c*10**i\n",
    "s=s*100+d+1\n",
    "for i in range(5):\n",
    "    if i==1:\n",
    "        d=2\n",
    "    d=d+c*2\n",
    "    s=s*100+d+1\n",
    "        \n",
    "10100\n",
    "s=0\n",
    "\n",
    "0*10**1+1 = 1\n",
    "1*10**2+1+ 2*10+1 = 121\n",
    "121*10**3+ +3*100+2*10+1 = \n",
    "12321*100+12321\n",
    "\n",
    "\"\"\"\n",
    "\n",
    "N=int(input())\n",
    "s1=0\n",
    "for i in range(N-1):\n",
    "    s1=s1*20+s1*100+1\n",
    "    print(s1*(i+1))"
   ]
  },
  {
   "cell_type": "code",
   "execution_count": 49,
   "id": "c9a2d5ea",
   "metadata": {},
   "outputs": [
    {
     "name": "stdout",
     "output_type": "stream",
     "text": [
      "1\n",
      "121\n",
      "12321\n",
      "1234321\n",
      "123454321\n"
     ]
    }
   ],
   "source": [
    "d, s=0,0\n",
    "\n",
    "for i in range(5):\n",
    "    if i==0:\n",
    "        d=0\n",
    "    else:\n",
    "        d=d+2*10**i\n",
    "    s=s*100+d+1\n",
    "    print(s)"
   ]
  },
  {
   "cell_type": "code",
   "execution_count": 58,
   "id": "5cf56ed1",
   "metadata": {},
   "outputs": [
    {
     "name": "stdout",
     "output_type": "stream",
     "text": [
      "7\n",
      "1\n",
      "121\n",
      "12321\n",
      "1234321\n",
      "123454321\n",
      "12345654321\n",
      "1234567654321\n"
     ]
    },
    {
     "data": {
      "text/plain": [
       "[None, None, None, None, None, None, None]"
      ]
     },
     "execution_count": 58,
     "metadata": {},
     "output_type": "execute_result"
    }
   ],
   "source": [
    "N,s1=int(input()),[1,121, 12321, 1234321, 123454321, 12345654321, 1234567654321, 123456787654321 , 12345678987654321]\n",
    "[print(s1[i]) for i in range(N)]"
   ]
  },
  {
   "cell_type": "code",
   "execution_count": 59,
   "id": "d2e894c2",
   "metadata": {},
   "outputs": [
    {
     "data": {
      "text/plain": [
       "9"
      ]
     },
     "execution_count": 59,
     "metadata": {},
     "output_type": "execute_result"
    }
   ],
   "source": [
    "len(s1)"
   ]
  },
  {
   "cell_type": "code",
   "execution_count": 63,
   "id": "63b55296",
   "metadata": {},
   "outputs": [
    {
     "data": {
      "text/plain": [
       "(-1+0j)"
      ]
     },
     "execution_count": 63,
     "metadata": {},
     "output_type": "execute_result"
    }
   ],
   "source": [
    "complex(-1.0, 0.0)"
   ]
  },
  {
   "cell_type": "code",
   "execution_count": 78,
   "id": "87a8d1fe",
   "metadata": {},
   "outputs": [
    {
     "data": {
      "text/plain": [
       "3.142"
      ]
     },
     "execution_count": 78,
     "metadata": {},
     "output_type": "execute_result"
    }
   ],
   "source": [
    "import cmath\n",
    "round(cmath.phase(complex(-1.0, 0.0)), 3)"
   ]
  },
  {
   "cell_type": "code",
   "execution_count": 65,
   "id": "7c623f0e",
   "metadata": {},
   "outputs": [
    {
     "data": {
      "text/plain": [
       "1.0"
      ]
     },
     "execution_count": 65,
     "metadata": {},
     "output_type": "execute_result"
    }
   ],
   "source": [
    "abs(complex(-1.0, 0.0))"
   ]
  },
  {
   "cell_type": "code",
   "execution_count": null,
   "id": "87ee4867",
   "metadata": {},
   "outputs": [],
   "source": [
    "r=float(input())\n",
    "shi==float(input())\n"
   ]
  },
  {
   "cell_type": "code",
   "execution_count": 83,
   "id": "4db989b8",
   "metadata": {},
   "outputs": [
    {
     "name": "stdout",
     "output_type": "stream",
     "text": [
      "1+4j\n",
      "4.123\n",
      "1.326\n"
     ]
    }
   ],
   "source": [
    "import cmath\n",
    "com=input()\n",
    "#r=float(input())\n",
    "#phi==float(input())\n",
    "#print(abs(complex(-1.0, 0.0)))\n",
    "\n",
    "x=cmath.polar(complex(com))\n",
    "for i in x:\n",
    "    print(round(i,3))"
   ]
  },
  {
   "cell_type": "code",
   "execution_count": null,
   "id": "d345452e",
   "metadata": {},
   "outputs": [],
   "source": [
    "cmath.polar(x)\n",
    "\n",
    "polar(x) \n",
    "(abs(x), phase(x))   # (r, phi)\n",
    "\n",
    "cmath.polar(1+2j)"
   ]
  },
  {
   "cell_type": "code",
   "execution_count": 90,
   "id": "3f750acd",
   "metadata": {},
   "outputs": [
    {
     "name": "stdout",
     "output_type": "stream",
     "text": [
      "1 1\n",
      "abcdefghijklmnopqrstuvwxyzzyxwvutsrqponmlkjihgfedcbaxxxxxxxxxx\n",
      "abcdefghijklmnopqrstuvwxyzzyxwvutsrqponmlkjihgfedcbaxxxxxxxxx\n",
      "\n"
     ]
    }
   ],
   "source": [
    "n,m = input().split()\n",
    "n=int(n)\n",
    "m=int(m)\n",
    "a=[]\n",
    "b=[]\n",
    "\n",
    "for i in range(n):\n",
    "    a.append(input())\n",
    "    \n",
    "for j in range(m):\n",
    "    b.append(input())\n",
    "aset=set(a)\n",
    "bset=set(b)\n",
    "for j in b:\n",
    "    for i in range(len(a)):\n",
    "        if a[i]==j:\n",
    "            print(i+1, end=' ')\n",
    "    print() "
   ]
  },
  {
   "cell_type": "code",
   "execution_count": 91,
   "id": "36fb3868",
   "metadata": {},
   "outputs": [
    {
     "name": "stdout",
     "output_type": "stream",
     "text": [
      "1 1\n",
      "abcdefghijklmnopqrstuvwxyzzyxwvutsrqponmlkjihgfedcbaxxxxxxxxxx\n",
      "abcdefghijklmnopqrstuvwxyzzyxwvutsrqponmlkjihgfedcbaxxxxxxxxx\n",
      "-1\n",
      "\n"
     ]
    }
   ],
   "source": [
    "from collections import defaultdict\n",
    "d = defaultdict(list)\n",
    "\n",
    "n,m = input().split()\n",
    "n=int(n)\n",
    "m=int(m)\n",
    "a=[]\n",
    "b=[]\n",
    "\n",
    "for i in range(n):\n",
    "    a.append(input())\n",
    "    \n",
    "for j in range(m):\n",
    "    b.append(input())\n",
    "aset=set(a)\n",
    "bset=set(b)\n",
    "\n",
    "for j in b:\n",
    "    for i in range(len(a)):\n",
    "        if a[i]==j:\n",
    "            print(i+1, end=' ')\n",
    "    if j in a:\n",
    "        pass\n",
    "    else:\n",
    "        print(-1)\n",
    "    print() "
   ]
  },
  {
   "cell_type": "code",
   "execution_count": null,
   "id": "2c41ddbf",
   "metadata": {},
   "outputs": [],
   "source": [
    "1 1\n",
    "abcdefghijklmnopqrstuvwxyzzyxwvutsrqponmlkjihgfedcbaxxxxxxxxxx\n",
    "abcdefghijklmnopqrstuvwxyzzyxwvutsrqponmlkjihgfedcbaxxxxxxxxx"
   ]
  },
  {
   "cell_type": "code",
   "execution_count": null,
   "id": "8b205ad8",
   "metadata": {},
   "outputs": [],
   "source": [
    "1 2\n",
    "abcdefghijklmnopqrstuvwxyzzyxwvutsrqponmlkjihgfedcbaxxxxxxxxxx\n",
    "abcdefghijklmnopqrstuvwxyzzyxwvutsrqponmlkjihgfedcbaxxxxxxxxxx\n",
    "abcdefghijklmnopqrstuvwxyzzyxwvutsrqponmlkjihgfedcbaxxxxxxxxxxy"
   ]
  },
  {
   "cell_type": "code",
   "execution_count": 93,
   "id": "5dee70c2",
   "metadata": {},
   "outputs": [
    {
     "name": "stdout",
     "output_type": "stream",
     "text": [
      "defaultdict(<class 'list'>, {'python': ['awesome', 'language'], 'something-else': ['not relevant']})\n",
      "('python', ['awesome', 'language'])\n",
      "('something-else', ['not relevant'])\n"
     ]
    }
   ],
   "source": [
    "from collections import defaultdict\n",
    "d = defaultdict(list)\n",
    "d['python'].append(\"awesome\")\n",
    "d['something-else'].append(\"not relevant\")\n",
    "d['python'].append(\"language\")\n",
    "print(d)\n",
    "for i in d.items():\n",
    "    print(i)"
   ]
  },
  {
   "cell_type": "code",
   "execution_count": 117,
   "id": "72cd453b",
   "metadata": {},
   "outputs": [
    {
     "name": "stdout",
     "output_type": "stream",
     "text": [
      "5 2\n",
      "a\n",
      "a\n",
      "b\n",
      "a\n",
      "b\n",
      "a\n",
      "b\n",
      "1 2 4 \n",
      "3 5 \n"
     ]
    }
   ],
   "source": [
    "from collections import defaultdict\n",
    "d = defaultdict(list)\n",
    "\n",
    "n,m = input().split()\n",
    "n=int(n)\n",
    "m=int(m)\n",
    "a=defaultdict(list)\n",
    "b=defaultdict(list)\n",
    "\n",
    "for i in range(n):\n",
    "    a[i]=input()\n",
    "    \n",
    "for j in range(m):\n",
    "    b[j]=input()\n",
    "#aset=set(a)\n",
    "#bset=set(b)\n",
    "\n",
    "for j in range(m):        #range(len(b.items())):\n",
    "    for i in range(n):    #range(len(a.items())):\n",
    "    if b[j] in a.values():\n",
    "        if a[i]==b[j]:\n",
    "            print(i+1, end=' ')\n",
    "    else:\n",
    "        print(-1)\n",
    "    print() "
   ]
  },
  {
   "cell_type": "code",
   "execution_count": null,
   "id": "3c61a2e1",
   "metadata": {},
   "outputs": [],
   "source": [
    "1 1\n",
    "s\n",
    "t"
   ]
  },
  {
   "cell_type": "code",
   "execution_count": 115,
   "id": "573cae34",
   "metadata": {},
   "outputs": [
    {
     "data": {
      "text/plain": [
       "dict_values(['t'])"
      ]
     },
     "execution_count": 115,
     "metadata": {},
     "output_type": "execute_result"
    }
   ],
   "source": [
    "b.values()"
   ]
  },
  {
   "cell_type": "code",
   "execution_count": 113,
   "id": "47329d77",
   "metadata": {},
   "outputs": [
    {
     "name": "stdout",
     "output_type": "stream",
     "text": [
      "(0, ['t'])\n"
     ]
    }
   ],
   "source": [
    "for j in b.items():        #range(m):\n",
    "    print(j)"
   ]
  },
  {
   "cell_type": "code",
   "execution_count": 116,
   "id": "bfe4c056",
   "metadata": {},
   "outputs": [
    {
     "data": {
      "text/plain": [
       "dict_items([(0, 't')])"
      ]
     },
     "execution_count": 116,
     "metadata": {},
     "output_type": "execute_result"
    }
   ],
   "source": [
    "b.items()"
   ]
  },
  {
   "cell_type": "code",
   "execution_count": 125,
   "id": "2db30607",
   "metadata": {},
   "outputs": [
    {
     "name": "stdout",
     "output_type": "stream",
     "text": [
      "5 2\n",
      "a\n",
      "a\n",
      "b\n",
      "a\n",
      "b\n",
      "a\n",
      "b\n",
      "1 2 4 \n",
      "3 5 \n"
     ]
    }
   ],
   "source": [
    "from collections import defaultdict\n",
    "#d = defaultdict(list)\n",
    "\n",
    "n,m = map(int, input().split())\n",
    "\n",
    "a=defaultdict(list)\n",
    "b=[]\n",
    "\n",
    "for i in range(n):\n",
    "    a[i]=input()\n",
    "for j in range(m):\n",
    "    b.append(input())\n",
    "for j in range(m):       \n",
    "    for i in range(n):    \n",
    "        if b[j] not in a.values():\n",
    "            print(-1)\n",
    "        else:\n",
    "            if a[i]==b[j]:\n",
    "                print(i+1, end=' ')\n",
    "    print()"
   ]
  },
  {
   "cell_type": "code",
   "execution_count": 139,
   "id": "30ad5665",
   "metadata": {},
   "outputs": [
    {
     "name": "stdout",
     "output_type": "stream",
     "text": [
      "5 2\n",
      "a\n",
      "a\n",
      "b\n",
      "a\n",
      "b\n",
      "a\n",
      "b\n",
      "1 2 4 3 5 "
     ]
    }
   ],
   "source": [
    "from collections import defaultdict\n",
    "#d = defaultdict(list)\n",
    "\n",
    "n,m = map(int, input().split())\n",
    "\n",
    "a=([input() for i in range(n)])\n",
    "b=([input() for i in range(m)])\n",
    "for j in range(m):       \n",
    "    for i in range(n):    \n",
    "        if b[j] not in a:\n",
    "            print(-1)\n",
    "        else:\n",
    "            if a[i]==b[j]:\n",
    "                print(i+1, end=' ')\n",
    "    print()"
   ]
  },
  {
   "cell_type": "code",
   "execution_count": 129,
   "id": "696167f4",
   "metadata": {},
   "outputs": [
    {
     "name": "stdout",
     "output_type": "stream",
     "text": [
      "a\n",
      "s\n",
      "f\n",
      "sf\n",
      "d\n"
     ]
    }
   ],
   "source": [
    "a=defaultdict(list)\n",
    "a=([input() for i in range(5)])"
   ]
  },
  {
   "cell_type": "code",
   "execution_count": 133,
   "id": "c2b89c1e",
   "metadata": {},
   "outputs": [
    {
     "data": {
      "text/plain": [
       "['a', 's', 'f', 'sf', 'd']"
      ]
     },
     "execution_count": 133,
     "metadata": {},
     "output_type": "execute_result"
    }
   ],
   "source": [
    "a"
   ]
  },
  {
   "cell_type": "code",
   "execution_count": 134,
   "id": "7245d5ee",
   "metadata": {},
   "outputs": [
    {
     "ename": "AttributeError",
     "evalue": "'list' object has no attribute 'items'",
     "output_type": "error",
     "traceback": [
      "\u001b[1;31m---------------------------------------------------------------------------\u001b[0m",
      "\u001b[1;31mAttributeError\u001b[0m                            Traceback (most recent call last)",
      "Input \u001b[1;32mIn [134]\u001b[0m, in \u001b[0;36m<cell line: 1>\u001b[1;34m()\u001b[0m\n\u001b[1;32m----> 1\u001b[0m \u001b[43ma\u001b[49m\u001b[38;5;241;43m.\u001b[39;49m\u001b[43mitems\u001b[49m()\n",
      "\u001b[1;31mAttributeError\u001b[0m: 'list' object has no attribute 'items'"
     ]
    }
   ],
   "source": [
    "a.items()"
   ]
  },
  {
   "cell_type": "code",
   "execution_count": null,
   "id": "cad2d882",
   "metadata": {},
   "outputs": [],
   "source": [
    "n,m = map(int, input().split())\n",
    "\n",
    "a=([input() for i in range(n)])\n",
    "b=\"\"\n",
    "for j in range(m):\n",
    "    b=input()       \n",
    "    for i in range(n):    \n",
    "        if b not in a:\n",
    "            print(-1)\n",
    "        else:\n",
    "            if a[i]==b:\n",
    "                print(i+1, end=' ')\n",
    "    print()"
   ]
  },
  {
   "cell_type": "code",
   "execution_count": 142,
   "id": "44f1d0eb",
   "metadata": {},
   "outputs": [
    {
     "name": "stdout",
     "output_type": "stream",
     "text": [
      "Requirement already satisfied: cython in c:\\users\\sub13\\anaconda3\\lib\\site-packages (0.29.28)\n",
      "Note: you may need to restart the kernel to use updated packages.\n"
     ]
    }
   ],
   "source": [
    "pip install cython"
   ]
  },
  {
   "cell_type": "code",
   "execution_count": 162,
   "id": "854f12d4",
   "metadata": {},
   "outputs": [
    {
     "ename": "SyntaxError",
     "evalue": "invalid syntax (1187166983.py, line 2)",
     "output_type": "error",
     "traceback": [
      "\u001b[1;36m  Input \u001b[1;32mIn [162]\u001b[1;36m\u001b[0m\n\u001b[1;33m    cimport numpy as np\u001b[0m\n\u001b[1;37m            ^\u001b[0m\n\u001b[1;31mSyntaxError\u001b[0m\u001b[1;31m:\u001b[0m invalid syntax\n"
     ]
    }
   ],
   "source": [
    "import numpy as np\n",
    "cimport numpy as np\n",
    "\n",
    "def get_primes_cython(int n):\n",
    "    cdef:\n",
    "        np.ndarray[np.int32_t, ndim=1] primes = np.zeros(n, dtype=np.int32)\n",
    "        int i = 0;\n",
    "        int last_prime = 2;\n",
    "        int candidate = 1;\n",
    "        int is_ok = 1;\n",
    "    \n",
    "    while (i<n):\n",
    "        candidate += 1;\n",
    "        is_ok = 1;\n",
    "        \n",
    "        for c in range(i):\n",
    "            if candidate % primes[c] == 0:\n",
    "                is_ok = 0;\n",
    "                break;\n",
    "\n",
    "        if is_ok == 1:\n",
    "            primes[i] = candidate;\n",
    "            i += 1;\n",
    "    \n",
    "    return primes"
   ]
  },
  {
   "cell_type": "code",
   "execution_count": 164,
   "id": "25a2fa93",
   "metadata": {},
   "outputs": [
    {
     "name": "stdout",
     "output_type": "stream",
     "text": [
      "Requirement already satisfied: cython in c:\\users\\sub13\\anaconda3\\lib\\site-packages (0.29.28)\n"
     ]
    }
   ],
   "source": [
    "!pip install cython\n"
   ]
  },
  {
   "cell_type": "code",
   "execution_count": 17,
   "id": "5c66c088",
   "metadata": {},
   "outputs": [
    {
     "name": "stdout",
     "output_type": "stream",
     "text": [
      "11\n"
     ]
    }
   ],
   "source": [
    "from collections import namedtuple\n",
    "Point = namedtuple('Point','x,y')\n",
    "pt1 = Point(1,2)\n",
    "pt2 = Point(3,4)\n",
    "dot_product = ( pt1.x * pt2.x ) +( pt1.y * pt2.y )\n",
    "print (dot_product)"
   ]
  },
  {
   "cell_type": "code",
   "execution_count": 19,
   "id": "78bc9d3c",
   "metadata": {},
   "outputs": [
    {
     "name": "stdout",
     "output_type": "stream",
     "text": [
      "Car(Price=100000, Mileage=30, Colour='Cyan', Class='Y')\n",
      "Y\n"
     ]
    }
   ],
   "source": [
    "from collections import namedtuple\n",
    "Car = namedtuple('Car','Price Mileage Colour Class')\n",
    "xyz = Car(Price = 100000, Mileage = 30, Colour = 'Cyan', Class = 'Y')\n",
    "print(xyz)\n",
    "Car(Price=100000, Mileage=30, Colour='Cyan', Class='Y')\n",
    "print (xyz.Class)"
   ]
  },
  {
   "cell_type": "code",
   "execution_count": 75,
   "id": "7de7e1c0",
   "metadata": {},
   "outputs": [
    {
     "name": "stdout",
     "output_type": "stream",
     "text": [
      "2\n",
      "ids name clas marks\n",
      "1 ab 1 80\n",
      "2 cd 2 90\n",
      "85.0\n"
     ]
    }
   ],
   "source": [
    "from collections import namedtuple\n",
    "n=int(input())\n",
    "#names = namedtuple('ids', 'marks', 'name', 'clas')\n",
    "names = namedtuple('names',input().split())\n",
    "nam=[]\n",
    "s=0\n",
    "for i in range(n):\n",
    "    k=input().split()\n",
    "    nam.append(names(*k))\n",
    "    s=s+int(nam[i].marks)\n",
    "avg=s/n\n",
    "print(round(avg, 2))\n",
    "    "
   ]
  },
  {
   "cell_type": "code",
   "execution_count": 33,
   "id": "6ceb48b4",
   "metadata": {},
   "outputs": [
    {
     "name": "stdout",
     "output_type": "stream",
     "text": [
      "3\n",
      "ab cd ef\n"
     ]
    }
   ],
   "source": [
    "from collections import namedtuple\n",
    "n=int(input())\n",
    "#names = namedtuple('ids', 'marks', 'name', 'clas')\n",
    "names = namedtuple('name',input().split())"
   ]
  },
  {
   "cell_type": "code",
   "execution_count": 34,
   "id": "c719f289",
   "metadata": {},
   "outputs": [],
   "source": [
    "n1=names(5, 7,9)"
   ]
  },
  {
   "cell_type": "code",
   "execution_count": 69,
   "id": "9e02af83",
   "metadata": {},
   "outputs": [
    {
     "data": {
      "text/plain": [
       "name(ab=5, cd=7, ef=9)"
      ]
     },
     "execution_count": 69,
     "metadata": {},
     "output_type": "execute_result"
    }
   ],
   "source": [
    "n1"
   ]
  },
  {
   "cell_type": "code",
   "execution_count": 59,
   "id": "c7272c51",
   "metadata": {},
   "outputs": [
    {
     "name": "stdout",
     "output_type": "stream",
     "text": [
      "45 78 6\n"
     ]
    },
    {
     "ename": "TypeError",
     "evalue": "<lambda>() missing 2 required positional arguments: 'cd' and 'ef'",
     "output_type": "error",
     "traceback": [
      "\u001b[1;31m---------------------------------------------------------------------------\u001b[0m",
      "\u001b[1;31mTypeError\u001b[0m                                 Traceback (most recent call last)",
      "Input \u001b[1;32mIn [59]\u001b[0m, in \u001b[0;36m<cell line: 1>\u001b[1;34m()\u001b[0m\n\u001b[1;32m----> 1\u001b[0m n1\u001b[38;5;241m=\u001b[39m\u001b[43mnames\u001b[49m\u001b[43m(\u001b[49m\u001b[38;5;28;43minput\u001b[39;49m\u001b[43m(\u001b[49m\u001b[43m)\u001b[49m\u001b[38;5;241;43m.\u001b[39;49m\u001b[43msplit\u001b[49m\u001b[43m(\u001b[49m\u001b[43m)\u001b[49m\u001b[43m)\u001b[49m\n",
      "\u001b[1;31mTypeError\u001b[0m: <lambda>() missing 2 required positional arguments: 'cd' and 'ef'"
     ]
    }
   ],
   "source": [
    "n1=names(input().split())"
   ]
  },
  {
   "cell_type": "code",
   "execution_count": 60,
   "id": "a61b9f05",
   "metadata": {},
   "outputs": [
    {
     "name": "stdout",
     "output_type": "stream",
     "text": [
      "56 78 89\n"
     ]
    }
   ],
   "source": [
    "k=input().split()"
   ]
  },
  {
   "cell_type": "code",
   "execution_count": 53,
   "id": "724980dc",
   "metadata": {},
   "outputs": [
    {
     "data": {
      "text/plain": [
       "tuple"
      ]
     },
     "execution_count": 53,
     "metadata": {},
     "output_type": "execute_result"
    }
   ],
   "source": [
    "type(k)"
   ]
  },
  {
   "cell_type": "code",
   "execution_count": 36,
   "id": "84e04684",
   "metadata": {},
   "outputs": [],
   "source": [
    "nam=[]"
   ]
  },
  {
   "cell_type": "code",
   "execution_count": 71,
   "id": "9d5105a7",
   "metadata": {},
   "outputs": [
    {
     "ename": "KeyboardInterrupt",
     "evalue": "Interrupted by user",
     "output_type": "error",
     "traceback": [
      "\u001b[1;31m---------------------------------------------------------------------------\u001b[0m",
      "\u001b[1;31mKeyboardInterrupt\u001b[0m                         Traceback (most recent call last)",
      "Input \u001b[1;32mIn [71]\u001b[0m, in \u001b[0;36m<cell line: 1>\u001b[1;34m()\u001b[0m\n\u001b[1;32m----> 1\u001b[0m k\u001b[38;5;241m=\u001b[39m\u001b[38;5;28;43minput\u001b[39;49m\u001b[43m(\u001b[49m\u001b[43m)\u001b[49m\u001b[38;5;241m.\u001b[39msplit()\n\u001b[0;32m      2\u001b[0m nam\u001b[38;5;241m.\u001b[39mappend(names(\u001b[38;5;241m*\u001b[39mk))\n",
      "File \u001b[1;32m~\\anaconda3\\lib\\site-packages\\ipykernel\\kernelbase.py:1075\u001b[0m, in \u001b[0;36mKernel.raw_input\u001b[1;34m(self, prompt)\u001b[0m\n\u001b[0;32m   1071\u001b[0m \u001b[38;5;28;01mif\u001b[39;00m \u001b[38;5;129;01mnot\u001b[39;00m \u001b[38;5;28mself\u001b[39m\u001b[38;5;241m.\u001b[39m_allow_stdin:\n\u001b[0;32m   1072\u001b[0m     \u001b[38;5;28;01mraise\u001b[39;00m StdinNotImplementedError(\n\u001b[0;32m   1073\u001b[0m         \u001b[38;5;124m\"\u001b[39m\u001b[38;5;124mraw_input was called, but this frontend does not support input requests.\u001b[39m\u001b[38;5;124m\"\u001b[39m\n\u001b[0;32m   1074\u001b[0m     )\n\u001b[1;32m-> 1075\u001b[0m \u001b[38;5;28;01mreturn\u001b[39;00m \u001b[38;5;28;43mself\u001b[39;49m\u001b[38;5;241;43m.\u001b[39;49m\u001b[43m_input_request\u001b[49m\u001b[43m(\u001b[49m\n\u001b[0;32m   1076\u001b[0m \u001b[43m    \u001b[49m\u001b[38;5;28;43mstr\u001b[39;49m\u001b[43m(\u001b[49m\u001b[43mprompt\u001b[49m\u001b[43m)\u001b[49m\u001b[43m,\u001b[49m\n\u001b[0;32m   1077\u001b[0m \u001b[43m    \u001b[49m\u001b[38;5;28;43mself\u001b[39;49m\u001b[38;5;241;43m.\u001b[39;49m\u001b[43m_parent_ident\u001b[49m\u001b[43m[\u001b[49m\u001b[38;5;124;43m\"\u001b[39;49m\u001b[38;5;124;43mshell\u001b[39;49m\u001b[38;5;124;43m\"\u001b[39;49m\u001b[43m]\u001b[49m\u001b[43m,\u001b[49m\n\u001b[0;32m   1078\u001b[0m \u001b[43m    \u001b[49m\u001b[38;5;28;43mself\u001b[39;49m\u001b[38;5;241;43m.\u001b[39;49m\u001b[43mget_parent\u001b[49m\u001b[43m(\u001b[49m\u001b[38;5;124;43m\"\u001b[39;49m\u001b[38;5;124;43mshell\u001b[39;49m\u001b[38;5;124;43m\"\u001b[39;49m\u001b[43m)\u001b[49m\u001b[43m,\u001b[49m\n\u001b[0;32m   1079\u001b[0m \u001b[43m    \u001b[49m\u001b[43mpassword\u001b[49m\u001b[38;5;241;43m=\u001b[39;49m\u001b[38;5;28;43;01mFalse\u001b[39;49;00m\u001b[43m,\u001b[49m\n\u001b[0;32m   1080\u001b[0m \u001b[43m\u001b[49m\u001b[43m)\u001b[49m\n",
      "File \u001b[1;32m~\\anaconda3\\lib\\site-packages\\ipykernel\\kernelbase.py:1120\u001b[0m, in \u001b[0;36mKernel._input_request\u001b[1;34m(self, prompt, ident, parent, password)\u001b[0m\n\u001b[0;32m   1117\u001b[0m             \u001b[38;5;28;01mbreak\u001b[39;00m\n\u001b[0;32m   1118\u001b[0m \u001b[38;5;28;01mexcept\u001b[39;00m \u001b[38;5;167;01mKeyboardInterrupt\u001b[39;00m:\n\u001b[0;32m   1119\u001b[0m     \u001b[38;5;66;03m# re-raise KeyboardInterrupt, to truncate traceback\u001b[39;00m\n\u001b[1;32m-> 1120\u001b[0m     \u001b[38;5;28;01mraise\u001b[39;00m \u001b[38;5;167;01mKeyboardInterrupt\u001b[39;00m(\u001b[38;5;124m\"\u001b[39m\u001b[38;5;124mInterrupted by user\u001b[39m\u001b[38;5;124m\"\u001b[39m) \u001b[38;5;28;01mfrom\u001b[39;00m \u001b[38;5;28mNone\u001b[39m\n\u001b[0;32m   1121\u001b[0m \u001b[38;5;28;01mexcept\u001b[39;00m \u001b[38;5;167;01mException\u001b[39;00m:\n\u001b[0;32m   1122\u001b[0m     \u001b[38;5;28mself\u001b[39m\u001b[38;5;241m.\u001b[39mlog\u001b[38;5;241m.\u001b[39mwarning(\u001b[38;5;124m\"\u001b[39m\u001b[38;5;124mInvalid Message:\u001b[39m\u001b[38;5;124m\"\u001b[39m, exc_info\u001b[38;5;241m=\u001b[39m\u001b[38;5;28;01mTrue\u001b[39;00m)\n",
      "\u001b[1;31mKeyboardInterrupt\u001b[0m: Interrupted by user"
     ]
    }
   ],
   "source": [
    "k=input().split()\n",
    "nam.append(names(*k))"
   ]
  },
  {
   "cell_type": "code",
   "execution_count": 70,
   "id": "1abde141",
   "metadata": {},
   "outputs": [
    {
     "ename": "SyntaxError",
     "evalue": "invalid syntax (1477999240.py, line 1)",
     "output_type": "error",
     "traceback": [
      "\u001b[1;36m  Input \u001b[1;32mIn [70]\u001b[1;36m\u001b[0m\n\u001b[1;33m    nam[]\u001b[0m\n\u001b[1;37m        ^\u001b[0m\n\u001b[1;31mSyntaxError\u001b[0m\u001b[1;31m:\u001b[0m invalid syntax\n"
     ]
    }
   ],
   "source": [
    "nam[]"
   ]
  },
  {
   "cell_type": "code",
   "execution_count": 41,
   "id": "5bc4153a",
   "metadata": {},
   "outputs": [
    {
     "data": {
      "text/plain": [
       "1"
      ]
     },
     "execution_count": 41,
     "metadata": {},
     "output_type": "execute_result"
    }
   ],
   "source": [
    "nam[0].ab"
   ]
  },
  {
   "cell_type": "code",
   "execution_count": 44,
   "id": "a70b208c",
   "metadata": {},
   "outputs": [],
   "source": [
    "a=(6,7)"
   ]
  },
  {
   "cell_type": "code",
   "execution_count": 45,
   "id": "ac9905cb",
   "metadata": {},
   "outputs": [
    {
     "data": {
      "text/plain": [
       "tuple"
      ]
     },
     "execution_count": 45,
     "metadata": {},
     "output_type": "execute_result"
    }
   ],
   "source": [
    "type(a)"
   ]
  },
  {
   "cell_type": "code",
   "execution_count": 78,
   "id": "07d8727b",
   "metadata": {},
   "outputs": [
    {
     "name": "stdout",
     "output_type": "stream",
     "text": [
      "5\n",
      "MARKS CLASS NAME ID \n",
      "92 2 Calum 1\n",
      "82 5 Scott 2 \n",
      "94 2 Jason 3         \n",
      "55 8 Glenn 4         \n",
      "82 2 Fergus 5\n",
      "81.0\n"
     ]
    }
   ],
   "source": [
    "from collections import namedtuple\n",
    "n=int(input())\n",
    "na=input().split()\n",
    "#names = namedtuple('ids', 'marks', 'name', 'clas')\n",
    "names = namedtuple('names',na)\n",
    "nam=[]\n",
    "s=0\n",
    "for i in range(n):\n",
    "    k=input().split()\n",
    "    nam.append(names(*k))\n",
    "    s=s+int(nam[i].MARKS)\n",
    "avg=s/n\n",
    "print(round(avg, 2))"
   ]
  },
  {
   "cell_type": "code",
   "execution_count": null,
   "id": "dd446e34",
   "metadata": {},
   "outputs": [],
   "source": [
    "5\n",
    "MARKS CLASS NAME ID        \n",
    "92 2 Calum 1\n",
    "82 5 Scott 2         \n",
    "94 2 Jason 3         \n",
    "55 8 Glenn 4         \n",
    "82 2 Fergus 5"
   ]
  },
  {
   "cell_type": "code",
   "execution_count": 79,
   "id": "d13e14c5",
   "metadata": {},
   "outputs": [
    {
     "name": "stdout",
     "output_type": "stream",
     "text": [
      "Iteration: 100\tTime taken: 0.000ms\n",
      "Iteration: 200\tTime taken: 0.000ms\n",
      "Iteration: 300\tTime taken: 1.000ms\n",
      "Iteration: 400\tTime taken: 0.000ms\n",
      "Iteration: 500\tTime taken: 0.000ms\n",
      "Iteration: 600\tTime taken: 0.000ms\n",
      "Iteration: 700\tTime taken: 0.000ms\n",
      "Iteration: 800\tTime taken: 1.014ms\n",
      "Iteration: 900\tTime taken: 0.000ms\n",
      "Iteration: 1000\tTime taken: 0.997ms\n",
      "Iteration: 1100\tTime taken: 1.000ms\n",
      "Iteration: 1200\tTime taken: 0.398ms\n",
      "Iteration: 1300\tTime taken: 1.066ms\n",
      "Iteration: 1400\tTime taken: 0.000ms\n",
      "Iteration: 1500\tTime taken: 2.369ms\n",
      "Iteration: 1600\tTime taken: 1.217ms\n",
      "Iteration: 1700\tTime taken: 0.998ms\n",
      "Iteration: 1800\tTime taken: 2.002ms\n",
      "Iteration: 1900\tTime taken: 0.998ms\n",
      "Iteration: 2000\tTime taken: 1.225ms\n",
      "Iteration: 2100\tTime taken: 1.445ms\n",
      "Iteration: 2200\tTime taken: 2.000ms\n",
      "Iteration: 2300\tTime taken: 2.001ms\n",
      "Iteration: 2400\tTime taken: 2.002ms\n",
      "Iteration: 2500\tTime taken: 1.997ms\n",
      "Iteration: 2600\tTime taken: 1.999ms\n",
      "Iteration: 2700\tTime taken: 2.000ms\n",
      "Iteration: 2800\tTime taken: 2.223ms\n",
      "Iteration: 2900\tTime taken: 2.000ms\n",
      "Iteration: 3000\tTime taken: 1.999ms\n",
      "Iteration: 3100\tTime taken: 2.000ms\n",
      "Iteration: 3200\tTime taken: 2.000ms\n",
      "Iteration: 3300\tTime taken: 2.996ms\n",
      "Iteration: 3400\tTime taken: 3.000ms\n",
      "Iteration: 3500\tTime taken: 2.659ms\n",
      "Iteration: 3600\tTime taken: 2.000ms\n",
      "Iteration: 3700\tTime taken: 2.026ms\n",
      "Iteration: 3800\tTime taken: 3.001ms\n",
      "Iteration: 3900\tTime taken: 4.226ms\n",
      "Iteration: 4000\tTime taken: 2.525ms\n",
      "Iteration: 4100\tTime taken: 2.999ms\n",
      "Iteration: 4200\tTime taken: 2.997ms\n",
      "Iteration: 4300\tTime taken: 4.001ms\n",
      "Iteration: 4400\tTime taken: 3.816ms\n",
      "Iteration: 4500\tTime taken: 4.000ms\n",
      "Iteration: 4600\tTime taken: 2.998ms\n",
      "Iteration: 4700\tTime taken: 5.000ms\n",
      "Iteration: 4800\tTime taken: 4.004ms\n",
      "Iteration: 4900\tTime taken: 3.999ms\n",
      "Iteration: 5000\tTime taken: 4.001ms\n",
      "Iteration: 5100\tTime taken: 3.791ms\n",
      "Iteration: 5200\tTime taken: 4.621ms\n",
      "Iteration: 5300\tTime taken: 3.514ms\n",
      "Iteration: 5400\tTime taken: 4.001ms\n",
      "Iteration: 5500\tTime taken: 4.276ms\n"
     ]
    }
   ],
   "source": [
    "\n",
    "# import time module\n",
    "import time\n",
    " \n",
    "# create sample code for testing\n",
    "for j in range(100, 5501, 100):\n",
    "    # store iteration start timestamp\n",
    "    start = time.time()\n",
    "    a = 0\n",
    "    for i in range(j):\n",
    "        a += (i**100)\n",
    "    # store iteration end timestamp\n",
    "    end = time.time()\n",
    " \n",
    "    # show time of execution per iteration\n",
    "    print(f\"Iteration: {j}\\tTime taken: {(end-start)*10**3:.03f}ms\")"
   ]
  },
  {
   "cell_type": "code",
   "execution_count": 85,
   "id": "7c01aa82",
   "metadata": {},
   "outputs": [
    {
     "name": "stdout",
     "output_type": "stream",
     "text": [
      "5 2\n",
      "a\n",
      "a\n",
      "b\n",
      "a\n",
      "b\n",
      "a\n",
      "b\n",
      "1 2 4 \n",
      "3 5 \n",
      "Iteration: 1\tTime taken: 11916.900ms\n"
     ]
    }
   ],
   "source": [
    "import time\n",
    "start = time.time()\n",
    "n,m = map(int, input().split())\n",
    "\n",
    "a=([input() for i in range(n)])\n",
    "b=([input() for i in range(m)])\n",
    "for j in range(m):     \n",
    "    for i in range(n):    \n",
    "        if b[j] not in a:\n",
    "            print(-1)\n",
    "        else:\n",
    "            if a[i]==b[j]:\n",
    "                print(i+1, end=' ')\n",
    "    print()\n",
    "end = time.time()\n",
    " \n",
    "# show time of execution per iteration\n",
    "print(f\"Iteration: {j}\\tTime taken: {(end-start)*10**3:.03f}ms\")"
   ]
  },
  {
   "cell_type": "code",
   "execution_count": 118,
   "id": "c1f9f988",
   "metadata": {},
   "outputs": [
    {
     "name": "stdout",
     "output_type": "stream",
     "text": [
      "{'a': 1, 'b': 2, 'c': 3, 'd': 4, 'e': 5}\n",
      "OrderedDict([('a', 10), ('b', 2), ('c', 3), ('d', 4), ('e', 5)])\n"
     ]
    }
   ],
   "source": [
    "from collections import OrderedDict\n",
    "\n",
    "ordinary_dictionary = {}\n",
    "ordinary_dictionary['a'] = 1\n",
    "ordinary_dictionary['b'] = 2\n",
    "ordinary_dictionary['c'] = 3\n",
    "ordinary_dictionary['d'] = 4\n",
    "ordinary_dictionary['e'] = 5\n",
    "\n",
    "print (ordinary_dictionary)\n",
    "#{'a': 1, 'c': 3, 'b': 2, 'e': 5, 'd': 4}\n",
    "\n",
    "ordered_dictionary = OrderedDict()\n",
    "ordered_dictionary['a'] = 1\n",
    "ordered_dictionary['b'] = 2\n",
    "ordered_dictionary['c'] = 3\n",
    "ordered_dictionary['d'] = 4\n",
    "ordered_dictionary['e'] = 5\n",
    "ordered_dictionary['a'] = 10\n",
    "\n",
    "print (ordered_dictionary)\n",
    "#OrderedDict([('a', 1), ('b', 2), ('c', 3), ('d', 4), ('e', 5)])"
   ]
  },
  {
   "cell_type": "code",
   "execution_count": null,
   "id": "67ff4565",
   "metadata": {},
   "outputs": [],
   "source": [
    "BANANA FRIES 12\n",
    "POTATO CHIPS 60\n",
    "APPLE JUICE 20\n",
    "CANDY 20"
   ]
  },
  {
   "cell_type": "code",
   "execution_count": 169,
   "id": "0400c445",
   "metadata": {},
   "outputs": [
    {
     "name": "stdout",
     "output_type": "stream",
     "text": [
      "3\n",
      "BANANA FRIES 12\n",
      "BANANA FRIES 1000\n",
      "POTATO CHIPS 70\n",
      "BANANA FRIES 1012\n",
      "POTATO CHIPS 70\n",
      "APPLE JUICE 0\n",
      "CANDY 0\n"
     ]
    }
   ],
   "source": [
    "from collections import OrderedDict\n",
    "n=int(input())\n",
    "d=OrderedDict()\n",
    "l=['BANANA FRIES','POTATO CHIPS','APPLE JUICE','CANDY']\n",
    "d['BANANA FRIES']=0\n",
    "d['POTATO CHIPS']= 0\n",
    "d['APPLE JUICE']= 0\n",
    "d['CANDY']=0\n",
    "for i in range(n):\n",
    "    s=input().split()\n",
    "    name=''\n",
    "    for i in s[:len(s)-1]:\n",
    "        name=name+' '+i\n",
    "        name=name.strip()\n",
    "    price=int(s[len(s)-1])\n",
    "    d[name]=(d[name]+price)\n",
    "    name=''\n",
    "\n",
    "for i in l:     \n",
    "    print(i,d[i])"
   ]
  },
  {
   "cell_type": "code",
   "execution_count": null,
   "id": "8d42e3b8",
   "metadata": {},
   "outputs": [],
   "source": []
  },
  {
   "cell_type": "code",
   "execution_count": 152,
   "id": "00e2d956",
   "metadata": {},
   "outputs": [
    {
     "data": {
      "text/plain": [
       "'POTATO CHIPS'"
      ]
     },
     "execution_count": 152,
     "metadata": {},
     "output_type": "execute_result"
    }
   ],
   "source": [
    "name.strip()"
   ]
  },
  {
   "cell_type": "code",
   "execution_count": 158,
   "id": "b44b68df",
   "metadata": {},
   "outputs": [
    {
     "data": {
      "text/plain": [
       "odict_items([('BANANA FRIES', 122), ('POTATO CHIPS', 0), ('APPLE JUICE', 0), ('CANDY', 0)])"
      ]
     },
     "execution_count": 158,
     "metadata": {},
     "output_type": "execute_result"
    }
   ],
   "source": [
    "d.items()"
   ]
  },
  {
   "cell_type": "code",
   "execution_count": 173,
   "id": "e3acc1e1",
   "metadata": {},
   "outputs": [
    {
     "name": "stdout",
     "output_type": "stream",
     "text": [
      "BANANA FRIES 1012\n",
      "POTATO CHIPS 70\n",
      "APPLE JUICE 0\n",
      "CANDY 0\n"
     ]
    }
   ],
   "source": [
    "for i in d.keys():\n",
    "    if 'CHIPS' not in d.keys():\n",
    "        print(i, d[i])\n",
    "    else:\n",
    "        print(\"y\")"
   ]
  },
  {
   "cell_type": "code",
   "execution_count": 175,
   "id": "19609d14",
   "metadata": {},
   "outputs": [
    {
     "name": "stdout",
     "output_type": "stream",
     "text": [
      "4\n",
      "BANANA FRIES 12\n",
      "APPLE JUICE 10\n",
      "APPLE JUICE 10\n",
      "abv 80\n",
      "BANANA FRIES 12\n",
      "APPLE JUICE 20\n",
      "abv 80\n"
     ]
    }
   ],
   "source": [
    "from collections import OrderedDict\n",
    "n=int(input())\n",
    "d=OrderedDict()\n",
    "\n",
    "for i in range(n):\n",
    "    s=input().split()\n",
    "    name=''\n",
    "    for i in s[:len(s)-1]:\n",
    "        name=name+' '+i\n",
    "        name=name.strip()\n",
    "    if name not in d.keys():\n",
    "        d[name]=0\n",
    "    #print(name)\n",
    "    price=int(s[len(s)-1])\n",
    "    d[name]=(d[name]+price)\n",
    "    #print(d)\n",
    "    \n",
    "#print(d.items())\n",
    "for i in d.keys():     \n",
    "    print(i,d[i])"
   ]
  },
  {
   "cell_type": "code",
   "execution_count": 153,
   "id": "ae97b628",
   "metadata": {},
   "outputs": [
    {
     "ename": "SyntaxError",
     "evalue": "invalid syntax (4261870822.py, line 2)",
     "output_type": "error",
     "traceback": [
      "\u001b[1;36m  Input \u001b[1;32mIn [153]\u001b[1;36m\u001b[0m\n\u001b[1;33m    BANANA FRIES 12\u001b[0m\n\u001b[1;37m           ^\u001b[0m\n\u001b[1;31mSyntaxError\u001b[0m\u001b[1;31m:\u001b[0m invalid syntax\n"
     ]
    }
   ],
   "source": [
    "9\n",
    "BANANA FRIES 12\n",
    "POTATO CHIPS 30\n",
    "APPLE JUICE 10\n",
    "CANDY 5\n",
    "APPLE JUICE 10\n",
    "CANDY 5\n",
    "CANDY 5\n",
    "CANDY 5\n",
    "POTATO CHIPS 30"
   ]
  },
  {
   "cell_type": "code",
   "execution_count": 131,
   "id": "e7e1b8c5",
   "metadata": {},
   "outputs": [],
   "source": [
    "d={}\n",
    "item_name=['a', 'b', 'c', 'a']\n",
    "net_price=[10, 45, 56, 20]\n"
   ]
  },
  {
   "cell_type": "code",
   "execution_count": 143,
   "id": "3d4dc114",
   "metadata": {},
   "outputs": [],
   "source": [
    "name=''\n",
    "for i in item_name[:len(s)-1]:\n",
    "    name=name+i "
   ]
  },
  {
   "cell_type": "code",
   "execution_count": 144,
   "id": "86dc0cd6",
   "metadata": {},
   "outputs": [
    {
     "data": {
      "text/plain": [
       "'ab'"
      ]
     },
     "execution_count": 144,
     "metadata": {},
     "output_type": "execute_result"
    }
   ],
   "source": [
    "name"
   ]
  },
  {
   "cell_type": "code",
   "execution_count": 137,
   "id": "64a029a8",
   "metadata": {},
   "outputs": [
    {
     "data": {
      "text/plain": [
       "['c', 'a']"
      ]
     },
     "execution_count": 137,
     "metadata": {},
     "output_type": "execute_result"
    }
   ],
   "source": [
    "item_name[2:4]"
   ]
  },
  {
   "cell_type": "code",
   "execution_count": 106,
   "id": "00240e5f",
   "metadata": {},
   "outputs": [
    {
     "ename": "SyntaxError",
     "evalue": "cannot assign to function call (382711687.py, line 1)",
     "output_type": "error",
     "traceback": [
      "\u001b[1;36m  Input \u001b[1;32mIn [106]\u001b[1;36m\u001b[0m\n\u001b[1;33m    d.keys()=item_name\u001b[0m\n\u001b[1;37m    ^\u001b[0m\n\u001b[1;31mSyntaxError\u001b[0m\u001b[1;31m:\u001b[0m cannot assign to function call\n"
     ]
    }
   ],
   "source": [
    "d.keys()=item_name\n",
    "d.values()=net_price"
   ]
  },
  {
   "cell_type": "code",
   "execution_count": null,
   "id": "22a18cd2",
   "metadata": {},
   "outputs": [],
   "source": [
    "dictionary = dict(zip(names, ages))\n",
    "print(dictionary)\n"
   ]
  },
  {
   "cell_type": "code",
   "execution_count": 109,
   "id": "8521c0e6",
   "metadata": {},
   "outputs": [],
   "source": [
    "d=dict(zip(item_name,net_price))"
   ]
  },
  {
   "cell_type": "code",
   "execution_count": 132,
   "id": "ed854c26",
   "metadata": {},
   "outputs": [],
   "source": [
    "d1=OrderedDict(zip(item_name,net_price))"
   ]
  },
  {
   "cell_type": "code",
   "execution_count": 133,
   "id": "1de20248",
   "metadata": {},
   "outputs": [
    {
     "data": {
      "text/plain": [
       "OrderedDict([('a', 20), ('b', 45), ('c', 56)])"
      ]
     },
     "execution_count": 133,
     "metadata": {},
     "output_type": "execute_result"
    }
   ],
   "source": [
    "d1"
   ]
  },
  {
   "cell_type": "code",
   "execution_count": 179,
   "id": "b361ce02",
   "metadata": {},
   "outputs": [
    {
     "data": {
      "text/plain": [
       "odict_keys(['BANANA FRIES', 'APPLE JUICE', 'abv'])"
      ]
     },
     "execution_count": 179,
     "metadata": {},
     "output_type": "execute_result"
    }
   ],
   "source": [
    "d.keys()"
   ]
  },
  {
   "cell_type": "code",
   "execution_count": 135,
   "id": "1a09833c",
   "metadata": {},
   "outputs": [
    {
     "data": {
      "text/plain": [
       "20"
      ]
     },
     "execution_count": 135,
     "metadata": {},
     "output_type": "execute_result"
    }
   ],
   "source": [
    "d1['a']"
   ]
  },
  {
   "cell_type": "code",
   "execution_count": 178,
   "id": "dfd1239b",
   "metadata": {},
   "outputs": [
    {
     "ename": "NameError",
     "evalue": "name 'word' is not defined",
     "output_type": "error",
     "traceback": [
      "\u001b[1;31m---------------------------------------------------------------------------\u001b[0m",
      "\u001b[1;31mNameError\u001b[0m                                 Traceback (most recent call last)",
      "Input \u001b[1;32mIn [178]\u001b[0m, in \u001b[0;36m<cell line: 2>\u001b[1;34m()\u001b[0m\n\u001b[0;32m      1\u001b[0m c\u001b[38;5;241m=\u001b[39m\u001b[38;5;241m0\u001b[39m\n\u001b[1;32m----> 2\u001b[0m \u001b[38;5;28;01mif\u001b[39;00m \u001b[43mword\u001b[49m \u001b[38;5;129;01min\u001b[39;00m \u001b[38;5;28mlist\u001b[39m:\n\u001b[0;32m      3\u001b[0m     c\u001b[38;5;241m=\u001b[39mc\u001b[38;5;241m+\u001b[39m\u001b[38;5;241m1\u001b[39m\n",
      "\u001b[1;31mNameError\u001b[0m: name 'word' is not defined"
     ]
    }
   ],
   "source": [
    "c=0\n",
    "if word in list:\n",
    "    c=c+1"
   ]
  },
  {
   "cell_type": "code",
   "execution_count": 183,
   "id": "70e193ca",
   "metadata": {},
   "outputs": [
    {
     "name": "stdout",
     "output_type": "stream",
     "text": [
      "4\n",
      "abc\n",
      "bcd\n",
      "abc\n",
      "defh\n",
      "3\n",
      "2 1 1 "
     ]
    }
   ],
   "source": [
    "from collections import OrderedDict\n",
    "n=int(input())\n",
    "d=OrderedDict()\n",
    "\n",
    "for i in range(n):\n",
    "    name=input()\n",
    "    name=name.strip()\n",
    "    if name not in d.keys():\n",
    "        d[name]=0\n",
    "    d[name]=(d[name]+1)\n",
    "    \n",
    "#print(d.items())\n",
    "# count of distinct words\n",
    "print(len(d.keys()))\n",
    "# count of each distinct word\n",
    "\n",
    "for i in d.keys():\n",
    "    print(d[i], end=' ')"
   ]
  },
  {
   "cell_type": "code",
   "execution_count": null,
   "id": "e2b0ade4",
   "metadata": {},
   "outputs": [],
   "source": [
    "4\n",
    "bcdef\n",
    "abcdefg\n",
    "bcde\n",
    "bcdef"
   ]
  },
  {
   "cell_type": "code",
   "execution_count": 184,
   "id": "26b66759",
   "metadata": {},
   "outputs": [
    {
     "name": "stdout",
     "output_type": "stream",
     "text": [
      "deque([1])\n",
      "deque([2, 1])\n",
      "deque([])\n",
      "deque(['1'])\n",
      "deque(['4', '3', '2', '1'])\n",
      "deque(['4', '3', '2'])\n",
      "deque(['3', '2'])\n",
      "deque(['3', '2', '7', '8', '9', '6'])\n",
      "deque(['3', '7', '8', '9', '6'])\n",
      "deque(['6', '9', '8', '7', '3'])\n",
      "deque(['8', '7', '3', '6', '9'])\n"
     ]
    },
    {
     "data": {
      "text/plain": [
       "deque(['8', '7', '3', '6', '9'])"
      ]
     },
     "execution_count": 184,
     "metadata": {},
     "output_type": "execute_result"
    }
   ],
   "source": [
    "from collections import deque\n",
    "d = deque()\n",
    "d.append(1)\n",
    "print(d)\n",
    "deque([1])\n",
    "d.appendleft(2)\n",
    "print(d)\n",
    "deque([2, 1])\n",
    "d.clear()\n",
    "print(d)\n",
    "deque([])\n",
    "d.extend('1')\n",
    "print(d)\n",
    "deque(['1'])\n",
    "d.extendleft('234')\n",
    "print(d)\n",
    "deque(['4', '3', '2', '1'])\n",
    "d.count('1')\n",
    "#1\n",
    "d.pop()\n",
    "#'1'\n",
    "print (d)\n",
    "deque(['4', '3', '2'])\n",
    "d.popleft()\n",
    "#'4'\n",
    "print(d)\n",
    "deque(['3', '2'])\n",
    "d.extend('7896')\n",
    "print(d)\n",
    "deque(['3', '2', '7', '8', '9', '6'])\n",
    "d.remove('2')\n",
    "print(d)\n",
    "deque(['3', '7', '8', '9', '6'])\n",
    "d.reverse()\n",
    "print(d)\n",
    "deque(['6', '9', '8', '7', '3'])\n",
    "d.rotate(3)\n",
    "print(d)\n",
    "deque(['8', '7', '3', '6', '9'])"
   ]
  },
  {
   "cell_type": "code",
   "execution_count": 1,
   "id": "bc09f0bc",
   "metadata": {},
   "outputs": [
    {
     "name": "stdout",
     "output_type": "stream",
     "text": [
      "Note: you may need to restart the kernel to use updated packages.\n"
     ]
    },
    {
     "name": "stderr",
     "output_type": "stream",
     "text": [
      "ERROR: Could not find a version that satisfies the requirement collections (from versions: none)\n",
      "ERROR: No matching distribution found for collections\n"
     ]
    }
   ],
   "source": [
    "pip install collections"
   ]
  },
  {
   "cell_type": "code",
   "execution_count": 2,
   "id": "4936e87b",
   "metadata": {},
   "outputs": [
    {
     "name": "stdout",
     "output_type": "stream",
     "text": [
      "6\n",
      "append 2\n",
      "append 1\n",
      "append 3\n",
      "appendleft 4\n",
      "pop\n"
     ]
    },
    {
     "ename": "ValueError",
     "evalue": "not enough values to unpack (expected 2, got 1)",
     "output_type": "error",
     "traceback": [
      "\u001b[1;31m---------------------------------------------------------------------------\u001b[0m",
      "\u001b[1;31mValueError\u001b[0m                                Traceback (most recent call last)",
      "Input \u001b[1;32mIn [2]\u001b[0m, in \u001b[0;36m<cell line: 4>\u001b[1;34m()\u001b[0m\n\u001b[0;32m      3\u001b[0m d \u001b[38;5;241m=\u001b[39m deque()\n\u001b[0;32m      4\u001b[0m \u001b[38;5;28;01mfor\u001b[39;00m i \u001b[38;5;129;01min\u001b[39;00m \u001b[38;5;28mrange\u001b[39m(n):\n\u001b[1;32m----> 5\u001b[0m     s1,s2\u001b[38;5;241m=\u001b[39m\u001b[38;5;28minput\u001b[39m()\u001b[38;5;241m.\u001b[39msplit()\n\u001b[0;32m      6\u001b[0m     \u001b[38;5;28;01mif\u001b[39;00m s1\u001b[38;5;241m.\u001b[39mlower()\u001b[38;5;241m==\u001b[39m\u001b[38;5;124m'\u001b[39m\u001b[38;5;124mappend\u001b[39m\u001b[38;5;124m'\u001b[39m:\n\u001b[0;32m      7\u001b[0m         d\u001b[38;5;241m.\u001b[39mappend(s2)\n",
      "\u001b[1;31mValueError\u001b[0m: not enough values to unpack (expected 2, got 1)"
     ]
    }
   ],
   "source": [
    "from collections import deque\n",
    "n=int(input())\n",
    "d = deque()\n",
    "s=[]\n",
    "for i in range(n):\n",
    "    s=input().split()\n",
    "    if s[0].lower()=='append':\n",
    "        d.append(s[1])\n",
    "    elif s[0].lower()=='appendleft':\n",
    "        d.appendleft(s[1])\n",
    "    elif s[0].lower()=='pop':\n",
    "        d.pop()\n",
    "    elif s[0].lower()=='popleft':\n",
    "        d.popleft()\n",
    "for i in d:\n",
    "    print(i, end=' ')"
   ]
  },
  {
   "cell_type": "code",
   "execution_count": null,
   "id": "fb26060f",
   "metadata": {},
   "outputs": [],
   "source": [
    "6\n",
    "append 1\n",
    "append 2\n",
    "append 3\n",
    "appendleft 4\n",
    "pop\n",
    "popleft"
   ]
  },
  {
   "cell_type": "code",
   "execution_count": null,
   "id": "be62632f",
   "metadata": {},
   "outputs": [],
   "source": [
    "from collections import deque\n",
    "t=int(input())\n",
    "for i in range(t):\n",
    "    n1=int(input())\n",
    "    sideLengths=list(map(int, input().split()[:n1]))\n",
    "    for j in range(n1):\n",
    "        "
   ]
  },
  {
   "cell_type": "code",
   "execution_count": 121,
   "id": "5b591605",
   "metadata": {},
   "outputs": [
    {
     "name": "stdout",
     "output_type": "stream",
     "text": [
      "4\n",
      "gfghfyghokhghj\n",
      "jfgj\n",
      "oihh\n",
      "iygh\n",
      "4\n",
      "1 1 1 1 "
     ]
    }
   ],
   "source": [
    "from collections import OrderedDict\n",
    "n=int(input())\n",
    "d=OrderedDict()\n",
    "\n",
    "for i in range(n):\n",
    "    name=input()\n",
    "    name=name.strip()\n",
    "    if name not in d.keys():\n",
    "        d[name]=0\n",
    "    d[name]=(d[name]+1)\n",
    "    \n",
    "#print(d.items())\n",
    "# count of distinct words\n",
    "print(len(d.keys()))\n",
    "# count of each distinct word\n",
    "\n",
    "for i in d.keys():\n",
    "    print(d[i], end=' ')\n"
   ]
  },
  {
   "cell_type": "code",
   "execution_count": 29,
   "id": "f0cdf83b",
   "metadata": {},
   "outputs": [
    {
     "name": "stdout",
     "output_type": "stream",
     "text": [
      "4\n",
      "khjagaghagsuuuuejdjdjjjaaaa\n",
      "['k', 'h', 'j', 'a', 'g', 'a', 'g', 'h', 'a', 'g', 's', 'u', 'u', 'u', 'u', 'e', 'j', 'd', 'j', 'd', 'j', 'j', 'j', 'a', 'a', 'a', 'a']\n",
      "9\n",
      "[1, 1, 1, 3, 4, 4]\n",
      "[1, 1, 1, 3, 4, 4]\n",
      "{'k': 1, 'h': 2, 'j': 6, 'a': 7, 'g': 3, 's': 1, 'u': 4, 'e': 1, 'd': 2}\n",
      "D1 dict OrderedDict([(1, 'e'), (2, 'd'), (6, 'j'), (7, 'a'), (3, 'g'), (4, 'u')])\n",
      "1 2 6 7 3 1 4 1 2 "
     ]
    }
   ],
   "source": [
    "from collections import OrderedDict\n",
    "n=int(input())\n",
    "d=dict()\n",
    "name=input()\n",
    "name=name.strip()\n",
    "name=list(name)\n",
    "print(name)\n",
    "\n",
    "for i in range(len(name)):\n",
    "    if name[i] not in d.keys():\n",
    "        d[name[i]]=0\n",
    "    d[name[i]]=(d[name[i]]+1)\n",
    "    \n",
    "# print(d.items())\n",
    "# count of distinct words\n",
    "print(len(d.keys()))\n",
    "# count of each distinct word\n",
    "l1=list(d.values())\n",
    "print(l)\n",
    "#l.sort()\n",
    "print(l)\n",
    "print(d)\n",
    "l2=list(d.keys())\n",
    "d1={}\n",
    "d1=OrderedDict(zip(l1,l2))\n",
    "print(\"D1 dict\",d1)\n",
    "#d[i]\n",
    "max1=max([d[i] for i in d.keys()])\n",
    "for i in d.keys():\n",
    "    print(d[i], end=' ')\n",
    "    \n"
   ]
  },
  {
   "cell_type": "code",
   "execution_count": 30,
   "id": "7483fefe",
   "metadata": {},
   "outputs": [
    {
     "data": {
      "text/plain": [
       "{'k': 1, 'h': 2, 'j': 6, 'a': 7, 'g': 3, 's': 1, 'u': 4, 'e': 1, 'd': 2}"
      ]
     },
     "execution_count": 30,
     "metadata": {},
     "output_type": "execute_result"
    }
   ],
   "source": [
    "d"
   ]
  },
  {
   "cell_type": "code",
   "execution_count": 14,
   "id": "fbae4def",
   "metadata": {},
   "outputs": [],
   "source": [
    "max1=max([d[i] for i in d.keys()])"
   ]
  },
  {
   "cell_type": "code",
   "execution_count": 125,
   "id": "fa33900a",
   "metadata": {},
   "outputs": [
    {
     "name": "stdout",
     "output_type": "stream",
     "text": [
      "aakjnbkhgb,knbbbbb\n",
      "b 7\n",
      "k 3\n",
      "a 2\n"
     ]
    }
   ],
   "source": [
    "from collections import OrderedDict\n",
    "d=OrderedDict()\n",
    "name=input()\n",
    "name=name.strip()\n",
    "name=list(name)\n",
    "#print(name)\n",
    "\n",
    "for i in range(len(name)):\n",
    "    if name[i] not in d.keys():\n",
    "        d[name[i]]=0\n",
    "    d[name[i]]=(d[name[i]]+1)\n",
    "d2=d\n",
    "l=list(d.keys())\n",
    "#print(l)\n",
    "\n",
    "length=len(l)\n",
    "max1=[]\n",
    "d3=dict()\n",
    "for j in range(len(l)):\n",
    "    max1.append(max([d2[i] for i in d2.keys()]))\n",
    "    for i in d2.keys():\n",
    "        if d2[i]==max1[j]:\n",
    "            d3[i]=d2[i]\n",
    "            d2.pop(i)\n",
    "            #print(d2)\n",
    "            break\n",
    "#print(d3)\n",
    "l3=d3.keys()\n",
    "l3=list(l3)\n",
    "#l3.sort()\n",
    "#print(l3)\n",
    "\n",
    "for k in range(3):\n",
    "    print(l3[k],d3[l3[k]])\n"
   ]
  },
  {
   "cell_type": "code",
   "execution_count": 113,
   "id": "347a8a24",
   "metadata": {},
   "outputs": [
    {
     "data": {
      "text/plain": [
       "{'d': 4, 'k': 4, 'z': 3, 'g': 2, 'f': 1, 'h': 1, 'u': 1}"
      ]
     },
     "execution_count": 113,
     "metadata": {},
     "output_type": "execute_result"
    }
   ],
   "source": [
    "d3"
   ]
  },
  {
   "cell_type": "code",
   "execution_count": 119,
   "id": "74c34d3e",
   "metadata": {},
   "outputs": [
    {
     "name": "stdout",
     "output_type": "stream",
     "text": [
      "hfjhjkbjhxdfx\n"
     ]
    },
    {
     "ename": "AttributeError",
     "evalue": "'list' object has no attribute 'keys'",
     "output_type": "error",
     "traceback": [
      "\u001b[1;31m---------------------------------------------------------------------------\u001b[0m",
      "\u001b[1;31mAttributeError\u001b[0m                            Traceback (most recent call last)",
      "Input \u001b[1;32mIn [119]\u001b[0m, in \u001b[0;36m<cell line: 1>\u001b[1;34m()\u001b[0m\n\u001b[0;32m     19\u001b[0m d3\u001b[38;5;241m=\u001b[39m\u001b[38;5;28mdict\u001b[39m\n\u001b[0;32m     20\u001b[0m \u001b[38;5;28;01mfor\u001b[39;00m j \u001b[38;5;129;01min\u001b[39;00m \u001b[38;5;28mrange\u001b[39m(\u001b[38;5;28mlen\u001b[39m(d)):\n\u001b[1;32m---> 21\u001b[0m     max1\u001b[38;5;241m.\u001b[39mappend(\u001b[38;5;28mmax\u001b[39m([d2[i] \u001b[38;5;28;01mfor\u001b[39;00m i \u001b[38;5;129;01min\u001b[39;00m \u001b[43md2\u001b[49m\u001b[38;5;241;43m.\u001b[39;49m\u001b[43mkeys\u001b[49m()]))\n\u001b[0;32m     22\u001b[0m     \u001b[38;5;28;01mfor\u001b[39;00m i \u001b[38;5;129;01min\u001b[39;00m d2\u001b[38;5;241m.\u001b[39mkeys():\n\u001b[0;32m     23\u001b[0m         \u001b[38;5;28;01mif\u001b[39;00m d2[i][\u001b[38;5;241m1\u001b[39m]\u001b[38;5;241m==\u001b[39mmax1[j]:\n",
      "\u001b[1;31mAttributeError\u001b[0m: 'list' object has no attribute 'keys'"
     ]
    }
   ],
   "source": [
    "if __name__ == '__main__':\n",
    "    s = input()\n",
    "    \n",
    "    d=OrderedDict()\n",
    "    name=s\n",
    "    name=name.strip()\n",
    "    name=list(name)\n",
    "    #print(name)\n",
    "\n",
    "    for i in range(len(name)):\n",
    "        if name[i] not in d.keys():\n",
    "            d[name[i]]=0\n",
    "        d[name[i]]=(d[name[i]]+1)\n",
    "    d2=d\n",
    "    d2=list(d2)\n",
    "    d2.sort()\n",
    "    #d2=dict(d2)\n",
    "    max1=[]\n",
    "    d3=dict\n",
    "    for j in range(len(d)):\n",
    "        max1.append(max([d2[i] for i in d2.keys()]))\n",
    "        for i in d2.keys():\n",
    "            if d2[i][1]==max1[j]:\n",
    "                d3[i]=d2[i]\n",
    "                d2.remove(i)\n",
    "                #print(d2)\n",
    "                break\n",
    "            \n",
    "        #print(max1[j])\n",
    "    print(max1)\n",
    "    for k in range(3):\n",
    "        print(d3[k][0],d5[k][1])    \n",
    "        \n",
    "\"\"\"       \n",
    "\n",
    "    print(\"d3 without sort\",d3)\n",
    "    l3=d3.keys()\n",
    "    l3=list(l3)\n",
    "    d4=set()\n",
    "    for i in range(len(l3)):\n",
    "        d4\n",
    "    d4=set(d3.items())\n",
    "    print(\"d4    \",d4)\n",
    "    d5=list(d4)\n",
    "    d5.sort()\n",
    "    d5=dict(d5)\n",
    "    print(\"d5    \",d5)\n",
    "    max2=[]\n",
    "    for j in range(3):\n",
    "        max2.append(if max([d5[i] for i in d5.keys()]))\n",
    "        for i in d5.keys():\n",
    "            if d5[i]==max2[j]:\n",
    "                d3[i]=d2[i]\n",
    "                d5.pop(i)\n",
    "                #print(d2)\n",
    "                break    \n",
    "    \n",
    "    for k in range(3):\n",
    "        print(d5[k][0],d5[k][1])\n",
    "\"\"\"\n",
    "\n",
    "\n",
    "\"\"\"\n",
    "    for i in range(len(l3)):\n",
    "        d\n",
    "    for i in range(len(l3)):\n",
    "        if d3[l3[0]]!=d3[l3[1]] and d3[l3[1]]!=d3[l3[2]]:\n",
    "            for k in range(3):\n",
    "                print(l3[k],d3[l3[k]])\n",
    "                \n",
    "        elif d3[l3[0]]==d3[l3[1]] and d3[l3[1]]!=d3[l3[2]]: \n",
    "            l4=[l3[0], l3[1]]\n",
    "            l4.sort()\n",
    "            l4.append(l3[2])\n",
    "        elif d3[0]==d3[1] and d3[1]==d3[2] and d3[2]!=d3[3] and d3[3]==d3[len(d3)]: \n",
    "            l4=[l3[0], l3[1],l3[2],l3[3]]\n",
    "            #l4=l3\n",
    "            l4.sort()\n",
    "        elif d3[0]==d3[1] and d3[1]==d3[2] and d3[2]!=d3[3]: and d3[3]==d3[len(d3)]: \n",
    "            l4=[l3[0], l3[1],l3[2],l3[3]]\n",
    "            l4.sort()\n",
    "            \n",
    "        print(i,d3[i])\n",
    "        \n",
    "        \n",
    "\"\"\""
   ]
  },
  {
   "cell_type": "code",
   "execution_count": 89,
   "id": "d98a5bcd",
   "metadata": {},
   "outputs": [
    {
     "ename": "NameError",
     "evalue": "name 'people' is not defined",
     "output_type": "error",
     "traceback": [
      "\u001b[1;31m---------------------------------------------------------------------------\u001b[0m",
      "\u001b[1;31mNameError\u001b[0m                                 Traceback (most recent call last)",
      "Input \u001b[1;32mIn [89]\u001b[0m, in \u001b[0;36m<cell line: 4>\u001b[1;34m()\u001b[0m\n\u001b[0;32m      1\u001b[0m first_names \u001b[38;5;241m=\u001b[39m \u001b[38;5;28mset\u001b[39m()\n\u001b[0;32m      2\u001b[0m last_names \u001b[38;5;241m=\u001b[39m \u001b[38;5;28mset\u001b[39m()\n\u001b[1;32m----> 4\u001b[0m \u001b[38;5;28;01mfor\u001b[39;00m details \u001b[38;5;129;01min\u001b[39;00m \u001b[43mpeople\u001b[49m\u001b[38;5;241m.\u001b[39mvalues():\n\u001b[0;32m      5\u001b[0m      first_names\u001b[38;5;241m.\u001b[39madd(details[\u001b[38;5;124m'\u001b[39m\u001b[38;5;124mfirst\u001b[39m\u001b[38;5;124m'\u001b[39m])\n\u001b[0;32m      6\u001b[0m      last_names\u001b[38;5;241m.\u001b[39madd(details[\u001b[38;5;124m'\u001b[39m\u001b[38;5;124mlast\u001b[39m\u001b[38;5;124m'\u001b[39m])\n",
      "\u001b[1;31mNameError\u001b[0m: name 'people' is not defined"
     ]
    }
   ],
   "source": [
    "first_names = set()\n",
    "last_names = set()\n",
    "\n",
    "for details in people.values():\n",
    "     first_names.add(details['first'])\n",
    "     last_names.add(details['last'])"
   ]
  },
  {
   "cell_type": "code",
   "execution_count": 97,
   "id": "9390e88e",
   "metadata": {},
   "outputs": [],
   "source": [
    "s,i,j=2,14,2\n",
    "l=[i,j]"
   ]
  },
  {
   "cell_type": "code",
   "execution_count": 98,
   "id": "4d99663c",
   "metadata": {},
   "outputs": [],
   "source": [
    "l={('s',i), ('a',j), ('b',s)}"
   ]
  },
  {
   "cell_type": "code",
   "execution_count": 99,
   "id": "8862d0d6",
   "metadata": {},
   "outputs": [
    {
     "data": {
      "text/plain": [
       "{('a', 2), ('b', 2), ('s', 14)}"
      ]
     },
     "execution_count": 99,
     "metadata": {},
     "output_type": "execute_result"
    }
   ],
   "source": [
    "l"
   ]
  },
  {
   "cell_type": "code",
   "execution_count": 92,
   "id": "13eba449",
   "metadata": {},
   "outputs": [
    {
     "data": {
      "text/plain": [
       "set"
      ]
     },
     "execution_count": 92,
     "metadata": {},
     "output_type": "execute_result"
    }
   ],
   "source": [
    "type(l)"
   ]
  },
  {
   "cell_type": "code",
   "execution_count": 51,
   "id": "eaa79b7d",
   "metadata": {},
   "outputs": [
    {
     "name": "stdout",
     "output_type": "stream",
     "text": [
      "None\n"
     ]
    },
    {
     "ename": "TypeError",
     "evalue": "object of type 'NoneType' has no len()",
     "output_type": "error",
     "traceback": [
      "\u001b[1;31m---------------------------------------------------------------------------\u001b[0m",
      "\u001b[1;31mTypeError\u001b[0m                                 Traceback (most recent call last)",
      "Input \u001b[1;32mIn [51]\u001b[0m, in \u001b[0;36m<cell line: 6>\u001b[1;34m()\u001b[0m\n\u001b[0;32m      4\u001b[0m \u001b[38;5;28mprint\u001b[39m(l3)\n\u001b[0;32m      5\u001b[0m counter\u001b[38;5;241m=\u001b[39m\u001b[38;5;241m0\u001b[39m\n\u001b[1;32m----> 6\u001b[0m \u001b[38;5;28;01mfor\u001b[39;00m k \u001b[38;5;129;01min\u001b[39;00m \u001b[38;5;28mrange\u001b[39m(\u001b[38;5;28;43mlen\u001b[39;49m\u001b[43m(\u001b[49m\u001b[43ml3\u001b[49m\u001b[43m)\u001b[49m):\n\u001b[0;32m      7\u001b[0m     \u001b[38;5;28mprint\u001b[39m(l3[k],d3[l3[k]])\n\u001b[0;32m      8\u001b[0m     counter\u001b[38;5;241m=\u001b[39mcounter\u001b[38;5;241m+\u001b[39m\u001b[38;5;241m1\u001b[39m\n",
      "\u001b[1;31mTypeError\u001b[0m: object of type 'NoneType' has no len()"
     ]
    }
   ],
   "source": [
    "l3=d3.keys()\n",
    "l3=list(l3)\n",
    "l3=l3.sort()\n",
    "print(l3)\n",
    "counter=0\n",
    "for k in range(len(l3)):\n",
    "    print(l3[k],d3[l3[k]])\n",
    "    counter=counter+1\n",
    "    if counter==2:\n",
    "        break"
   ]
  },
  {
   "cell_type": "code",
   "execution_count": 15,
   "id": "6eb9ef73",
   "metadata": {},
   "outputs": [
    {
     "data": {
      "text/plain": [
       "5"
      ]
     },
     "execution_count": 15,
     "metadata": {},
     "output_type": "execute_result"
    }
   ],
   "source": [
    "max1"
   ]
  },
  {
   "cell_type": "code",
   "execution_count": 16,
   "id": "3260de43",
   "metadata": {},
   "outputs": [
    {
     "name": "stdout",
     "output_type": "stream",
     "text": [
      "{'brand': 'Ford', 'year': 1964}\n"
     ]
    }
   ],
   "source": [
    "thisdict = {\n",
    "  \"brand\": \"Ford\",\n",
    "  \"model\": \"Mustang\",\n",
    "  \"year\": 1964\n",
    "}\n",
    "thisdict.pop(\"model\")\n",
    "print(thisdict)"
   ]
  },
  {
   "cell_type": "code",
   "execution_count": null,
   "id": "d8b14165",
   "metadata": {},
   "outputs": [],
   "source": []
  },
  {
   "cell_type": "code",
   "execution_count": 127,
   "id": "5ba38882",
   "metadata": {},
   "outputs": [
    {
     "name": "stdout",
     "output_type": "stream",
     "text": [
      "qwertyuiopasdfghjklzxcvbnm\n",
      "a 1\n",
      "b 1\n",
      "c 1\n"
     ]
    }
   ],
   "source": [
    "if __name__ == '__main__':\n",
    "    s = input()\n",
    "    \n",
    "    d=OrderedDict()\n",
    "    name=s\n",
    "    name=name.strip()\n",
    "    \n",
    "    name=list(name)\n",
    "    name.sort()\n",
    "    #print(name)\n",
    "\n",
    "    for i in range(len(name)):\n",
    "        if name[i] not in d.keys():\n",
    "            d[name[i]]=0\n",
    "        d[name[i]]=(d[name[i]]+1)\n",
    "    d2=d\n",
    "    l=list(d.keys())\n",
    "    #print(l)\n",
    "\n",
    "    length=len(l)\n",
    "    max1=[]\n",
    "    d3=dict()\n",
    "    for j in range(len(l)):\n",
    "        max1.append(max([d2[i] for i in d2.keys()]))\n",
    "        for i in d2.keys():\n",
    "            if d2[i]==max1[j]:\n",
    "                d3[i]=d2[i]\n",
    "                d2.pop(i)\n",
    "                #print(d2)\n",
    "                break\n",
    "    #print(d3)\n",
    "    l3=d3.keys()\n",
    "    l3=list(l3)\n",
    "    #l3.sort()\n",
    "    #print(l3)\n",
    "\n",
    "    for k in range(3):\n",
    "        print(l3[k],d3[l3[k]])"
   ]
  },
  {
   "cell_type": "code",
   "execution_count": null,
   "id": "76180b17",
   "metadata": {},
   "outputs": [],
   "source": [
    "qwertyuiopasdfghjklzxcvbnm\n",
    "a 1\n",
    "b 1\n",
    "c 1"
   ]
  }
 ],
 "metadata": {
  "kernelspec": {
   "display_name": "Python 3 (ipykernel)",
   "language": "python",
   "name": "python3"
  },
  "language_info": {
   "codemirror_mode": {
    "name": "ipython",
    "version": 3
   },
   "file_extension": ".py",
   "mimetype": "text/x-python",
   "name": "python",
   "nbconvert_exporter": "python",
   "pygments_lexer": "ipython3",
   "version": "3.9.12"
  }
 },
 "nbformat": 4,
 "nbformat_minor": 5
}
