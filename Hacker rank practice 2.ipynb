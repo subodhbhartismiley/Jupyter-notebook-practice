{
 "cells": [
  {
   "cell_type": "code",
   "execution_count": 1,
   "id": "17bcaede",
   "metadata": {},
   "outputs": [
    {
     "name": "stdout",
     "output_type": "stream",
     "text": [
      "HackerRank----------\n"
     ]
    }
   ],
   "source": [
    "width = 20\n",
    "print ('HackerRank'.ljust(width,'-'))\n",
    "#HackerRank----------  "
   ]
  },
  {
   "cell_type": "code",
   "execution_count": 2,
   "id": "b6b04537",
   "metadata": {},
   "outputs": [
    {
     "name": "stdout",
     "output_type": "stream",
     "text": [
      "-----HackerRank-----\n"
     ]
    }
   ],
   "source": [
    "width = 20\n",
    "print('HackerRank'.center(width,'-'))\n",
    "#-----HackerRank-----"
   ]
  },
  {
   "cell_type": "code",
   "execution_count": 3,
   "id": "fecec560",
   "metadata": {},
   "outputs": [
    {
     "name": "stdout",
     "output_type": "stream",
     "text": [
      "----------HackerRank\n"
     ]
    }
   ],
   "source": [
    ">>> width = 20\n",
    ">>> print('HackerRank'.rjust(width,'-'))\n",
    "#----------HackerRank"
   ]
  },
  {
   "cell_type": "code",
   "execution_count": 7,
   "id": "79ec4ed6",
   "metadata": {},
   "outputs": [
    {
     "name": "stdout",
     "output_type": "stream",
     "text": [
      "HHHHH---------------\n"
     ]
    }
   ],
   "source": [
    "width = 20\n",
    "print (('H'*5).ljust(width,'-'))"
   ]
  },
  {
   "cell_type": "code",
   "execution_count": 10,
   "id": "ef921e0b",
   "metadata": {},
   "outputs": [],
   "source": [
    "s='HHHHHHHHHHHHHHHHHHHHHHHHH' 'HHHHHHHHH' '  HHHHHHHHHHHHHHHHHHHHHHHHH'"
   ]
  },
  {
   "cell_type": "code",
   "execution_count": 268,
   "id": "953a3bfb",
   "metadata": {},
   "outputs": [],
   "source": [
    "s='  HHHHH           HHHHH'\n",
    "len(s)"
   ]
  },
  {
   "cell_type": "code",
   "execution_count": 269,
   "id": "a192a751",
   "metadata": {},
   "outputs": [
    {
     "data": {
      "text/plain": [
       "23"
      ]
     },
     "execution_count": 269,
     "metadata": {},
     "output_type": "execute_result"
    }
   ],
   "source": [
    "len(s)"
   ]
  },
  {
   "cell_type": "code",
   "execution_count": 245,
   "id": "ee215c41",
   "metadata": {},
   "outputs": [],
   "source": [
    "s1='  HHHHH               HHHHH'"
   ]
  },
  {
   "cell_type": "code",
   "execution_count": 246,
   "id": "dcd5362a",
   "metadata": {},
   "outputs": [
    {
     "data": {
      "text/plain": [
       "27"
      ]
     },
     "execution_count": 246,
     "metadata": {},
     "output_type": "execute_result"
    }
   ],
   "source": [
    "len(s1)"
   ]
  },
  {
   "cell_type": "code",
   "execution_count": null,
   "id": "10ea48ec",
   "metadata": {},
   "outputs": [],
   "source": []
  },
  {
   "cell_type": "code",
   "execution_count": 18,
   "id": "2342aa2f",
   "metadata": {
    "scrolled": true
   },
   "outputs": [
    {
     "name": "stdout",
     "output_type": "stream",
     "text": [
      "3\n",
      "  H   \n",
      " HHH  \n",
      "HHHHH \n",
      " HHH         HHH       \n",
      " HHH         HHH       \n",
      " HHH         HHH       \n",
      " HHH         HHH       \n",
      " HHHHHHHHHHHHHHH      \n",
      " HHHHHHHHHHHHHHH      \n",
      " HHH         HHH       \n",
      " HHH         HHH       \n",
      " HHH         HHH       \n",
      " HHH         HHH       \n",
      "            HHHHH  \n",
      "             HHH   \n",
      "              H    \n"
     ]
    }
   ],
   "source": [
    "n= int(input())\n",
    "width = n*2\n",
    "for i in range(1, n+n+1,2):\n",
    "    #width = 7-i\n",
    "    print(('H'*(i)).center(width,' '))\n",
    "#print (('H'*(i+1)).ljust(width,'-'))\n",
    "\n",
    "width = n*4-int((n+1)/2)\n",
    "for i in range(1, 2*n-2*int((n-1)/2)+1):\n",
    "    #width = 7-i\n",
    "    print(\" \"*int((n-1)/2),('H'*(n)).ljust(width,' '),sep='',end='')\n",
    "    print(\" \"*int((n-1)/2),('H'*(n)).ljust(width,' '))\n",
    "\n",
    "if n==1:\n",
    "    n1=3\n",
    "else:\n",
    "    n1=n\n",
    "width = n*6+n\n",
    "for i in range(1, int(n1/2)+2):\n",
    "    #width = 7-i\n",
    "    print(\" \"*int((n-1)/2),('H'*(5*n)).ljust(width,' '), sep='')\n",
    "    #print(('H'*(n)).ljust(width,'-'))\n",
    "    \n",
    "width = n*4-int((n+1)/2)\n",
    "for i in range(1, 2*n-2*int((n-1)/2)+1):\n",
    "    #width = 7-i\n",
    "    print(\" \"*int((n-1)/2),('H'*(n)).ljust(width,' '),sep='',end='')\n",
    "    print(\" \"*int((n-1)/2),('H'*(n)).ljust(width,' '))\n",
    "\n",
    "width = n*4-int((n+1)/2)\n",
    "for i in range(n+n-1,0,-2):\n",
    "    #width = 7-i\n",
    "    print(\" \"*int((n-1)/2),(' '*(n)).ljust(width,' '),sep='',end='')\n",
    "\n",
    "    #print((' '*(n)).center(width-int((n-1)/2),' '), end='')\n",
    "    print((('H'*(i)).center(2*n+2,' ')),sep='')\n",
    "#print (('H'*(i+1)).ljust(width,' '))"
   ]
  },
  {
   "cell_type": "code",
   "execution_count": 13,
   "id": "bf8a6348",
   "metadata": {},
   "outputs": [
    {
     "name": "stdout",
     "output_type": "stream",
     "text": [
      "9\n"
     ]
    },
    {
     "data": {
      "text/plain": [
       "49"
      ]
     },
     "execution_count": 13,
     "metadata": {},
     "output_type": "execute_result"
    }
   ],
   "source": [
    "s='    HHHHHHHHH                         HHHHHHHHH'\n",
    "s1='    HHHHHHHHH                           HHHHHHHHH'\n",
    "s2='--------e'\n",
    "print(len(s2))\n",
    "len(s1)\n"
   ]
  },
  {
   "cell_type": "code",
   "execution_count": 7,
   "id": "917ade77",
   "metadata": {},
   "outputs": [
    {
     "ename": "IndentationError",
     "evalue": "unexpected indent (1812604265.py, line 2)",
     "output_type": "error",
     "traceback": [
      "\u001b[1;36m  Input \u001b[1;32mIn [7]\u001b[1;36m\u001b[0m\n\u001b[1;33m    HHH\u001b[0m\n\u001b[1;37m    ^\u001b[0m\n\u001b[1;31mIndentationError\u001b[0m\u001b[1;31m:\u001b[0m unexpected indent\n"
     ]
    }
   ],
   "source": [
    "  H\n",
    " HHH\n",
    "HHHHH\n",
    " HHH         HHH\n",
    " HHH         HHH\n",
    " HHH         HHH\n",
    " HHH         HHH\n",
    " HHHHHHHHHHHHHHH\n",
    " HHHHHHHHHHHHHHH\n",
    " HHH         HHH\n",
    " HHH         HHH\n",
    " HHH         HHH\n",
    " HHH         HHH\n",
    "            HHHHH\n",
    "             HHH\n",
    "              H"
   ]
  },
  {
   "cell_type": "code",
   "execution_count": null,
   "id": "0541e88c",
   "metadata": {},
   "outputs": [],
   "source": [
    "    HHHHHHHHH                           HHHHHHHHH"
   ]
  },
  {
   "cell_type": "code",
   "execution_count": 345,
   "id": "22040504",
   "metadata": {},
   "outputs": [
    {
     "data": {
      "text/plain": [
       "'101'"
      ]
     },
     "execution_count": 345,
     "metadata": {},
     "output_type": "execute_result"
    }
   ],
   "source": [
    "decimalToBinary(5)"
   ]
  },
  {
   "cell_type": "code",
   "execution_count": 361,
   "id": "6623abee",
   "metadata": {},
   "outputs": [
    {
     "name": "stdout",
     "output_type": "stream",
     "text": [
      "Enter a number: 13\n",
      "Hexadecimal:  D\n"
     ]
    }
   ],
   "source": [
    "#conversion_table = ['0', '1', '2', '3', '4', '5', '6', '7', '8', '9', 'A' , 'B', 'C', 'D', 'E', 'F']\n",
    "\n",
    "def decTohex(n):\n",
    "    if(n<=0):\n",
    "        return ''\n",
    "    remainder = n%16\n",
    "    return  decTohex(n//16)+conversion_table[remainder]\n",
    "        \n",
    "decimal = int(input(\"Enter a number: \"))\n",
    "print(\"Hexadecimal: \",decTohex(decimal))"
   ]
  },
  {
   "cell_type": "code",
   "execution_count": 384,
   "id": "7aaba275",
   "metadata": {},
   "outputs": [],
   "source": [
    "def print_formatted(number):\n",
    "    # your code goes here\n",
    "    num=number\n",
    "    str1=str(decimalToBinary(num))\n",
    "    #print(\"binary\", str1)\n",
    "    width=len(str1)+1\n",
    "    for i in range(num):\n",
    "        print((str(i+1)).rjust(width-1,' '),sep='',end='')\n",
    "        print((str(oct1(i+1))).rjust(width,' '),sep='',end='')\n",
    "        print((str(decTohex(i+1))).rjust(width,' '),sep='',end='')\n",
    "        print((str(decimalToBinary(i+1))).rjust(width,' '))\n",
    "        #print(num, num, num, num)\n",
    "def decimalToBinary(n):\n",
    "    return bin(n).replace(\"0b\", \"\")\n",
    "def oct1(n):\n",
    "    return oct(n).replace(\"0o\", \"\")\n",
    "\n",
    "conversion_table = ['0', '1', '2', '3', '4', '5', '6', '7', '8', '9', 'A' , 'B', 'C', 'D', 'E', 'F']\n",
    "def decTohex(n):\n",
    "    if(n<=0):\n",
    "        return ''\n",
    "    remainder = n%16\n",
    "    return  decTohex(n//16)+conversion_table[remainder]\n"
   ]
  },
  {
   "cell_type": "code",
   "execution_count": 385,
   "id": "50a1d744",
   "metadata": {},
   "outputs": [
    {
     "name": "stdout",
     "output_type": "stream",
     "text": [
      "binary 10001\n",
      "    1     1     1     1\n",
      "    2     2     2    10\n",
      "    3     3     3    11\n",
      "    4     4     4   100\n",
      "    5     5     5   101\n",
      "    6     6     6   110\n",
      "    7     7     7   111\n",
      "    8    10     8  1000\n",
      "    9    11     9  1001\n",
      "   10    12     A  1010\n",
      "   11    13     B  1011\n",
      "   12    14     C  1100\n",
      "   13    15     D  1101\n",
      "   14    16     E  1110\n",
      "   15    17     F  1111\n",
      "   16    20    10 10000\n",
      "   17    21    11 10001\n"
     ]
    }
   ],
   "source": [
    "print_formatted(17)"
   ]
  },
  {
   "cell_type": "code",
   "execution_count": 392,
   "id": "6ca40561",
   "metadata": {},
   "outputs": [
    {
     "name": "stdout",
     "output_type": "stream",
     "text": [
      "67\n"
     ]
    }
   ],
   "source": [
    "print(str(67))"
   ]
  },
  {
   "cell_type": "code",
   "execution_count": 693,
   "id": "79e5d965",
   "metadata": {},
   "outputs": [],
   "source": [
    "import string\n",
    "\n",
    "def print_rangoli(size):\n",
    "    # your code goes here\n",
    "    alpha = list(string.ascii_lowercase)\n",
    "    #print(alphabet)\n",
    "    n= size \n",
    "    \n",
    "    if n==1:\n",
    "        print('a')\n",
    "    else:\n",
    "           \n",
    "        width = 2\n",
    "\n",
    "        c=0\n",
    "        w=2*n-2\n",
    "        for i in range(n):\n",
    "            #print(i)\n",
    "            #width = 7-i\n",
    "            print(''.ljust(w-2*i,'-'),sep='',end='')\n",
    "            c=n-1\n",
    "\n",
    "            for j in range(i+1):\n",
    "                print((alpha[c]),'-',sep='',end='')\n",
    "                c=c-1\n",
    "            #print(''.ljust(n-j,'-'),sep='',end='')\n",
    "            #d=c+1\n",
    "\n",
    "\n",
    "            if i==0:\n",
    "                print(''.rjust(w-2*i-1,'-'),sep='',end='')\n",
    "                pass\n",
    "            else:\n",
    "                d=n-i\n",
    "                #c=n-2\n",
    "                for k in range(i):\n",
    "                    if k==n-2:\n",
    "                        print((alpha[d]),sep='',end='')\n",
    "\n",
    "                    else:\n",
    "                        print((alpha[d]),'-',sep='',end='')\n",
    "                    d=d+1\n",
    "                print(''.rjust(w-2*i-1,'-'),sep='',end='') \n",
    "            print()\n",
    "\n",
    "        for i in range(n-2,-1,-1):\n",
    "            #print(i)\n",
    "            #width = 7-i\n",
    "            print(''.ljust(w-2*i,'-'),sep='',end='')\n",
    "            c=n-1\n",
    "            for j in range(i,-1,-1):\n",
    "                print((alpha[c]),'-',sep='',end='')\n",
    "                c=c-1\n",
    "            #print(''.center(n-j,'-'),sep='',end='') \n",
    "            #print()\n",
    "\n",
    "            if i==0:\n",
    "                print(''.center(w-2*i-1,'-'),sep='',end='')\n",
    "            else:\n",
    "                d=n-i\n",
    "                #c=n-2\n",
    "                for k in range(i):\n",
    "                    print((alpha[d]),'-',sep='',end='')\n",
    "                    d=d+1\n",
    "                print(''.ljust(w-2*i-1,'-'),sep='',end='') \n",
    "            print()        \n",
    "\n",
    "            #c=c+1\n",
    "            #print (('H'*(i+1)).ljust(width,'-'))\n"
   ]
  },
  {
   "cell_type": "code",
   "execution_count": 695,
   "id": "5a9f040c",
   "metadata": {},
   "outputs": [
    {
     "name": "stdout",
     "output_type": "stream",
     "text": [
      "------------------j------------------\n",
      "----------------j-i-j----------------\n",
      "--------------j-i-h-i-j--------------\n",
      "------------j-i-h-g-h-i-j------------\n",
      "----------j-i-h-g-f-g-h-i-j----------\n",
      "--------j-i-h-g-f-e-f-g-h-i-j--------\n",
      "------j-i-h-g-f-e-d-e-f-g-h-i-j------\n",
      "----j-i-h-g-f-e-d-c-d-e-f-g-h-i-j----\n",
      "--j-i-h-g-f-e-d-c-b-c-d-e-f-g-h-i-j--\n",
      "j-i-h-g-f-e-d-c-b-a-b-c-d-e-f-g-h-i-j\n",
      "--j-i-h-g-f-e-d-c-b-c-d-e-f-g-h-i-j--\n",
      "----j-i-h-g-f-e-d-c-d-e-f-g-h-i-j----\n",
      "------j-i-h-g-f-e-d-e-f-g-h-i-j------\n",
      "--------j-i-h-g-f-e-f-g-h-i-j--------\n",
      "----------j-i-h-g-f-g-h-i-j----------\n",
      "------------j-i-h-g-h-i-j------------\n",
      "--------------j-i-h-i-j--------------\n",
      "----------------j-i-j----------------\n",
      "------------------j------------------\n"
     ]
    }
   ],
   "source": [
    "print_rangoli(10)"
   ]
  },
  {
   "cell_type": "code",
   "execution_count": null,
   "id": "47344259",
   "metadata": {},
   "outputs": [],
   "source": [
    "a\n",
    "a"
   ]
  },
  {
   "cell_type": "code",
   "execution_count": 510,
   "id": "857c608e",
   "metadata": {},
   "outputs": [
    {
     "name": "stdout",
     "output_type": "stream",
     "text": [
      "6\n",
      "5\n",
      "4\n",
      "3\n",
      "2\n",
      "1\n",
      "0\n"
     ]
    }
   ],
   "source": [
    "n=7\n",
    "for i in range(n-1,-1,-1):\n",
    "    print(i)"
   ]
  },
  {
   "cell_type": "code",
   "execution_count": 394,
   "id": "45820e3b",
   "metadata": {},
   "outputs": [
    {
     "name": "stdout",
     "output_type": "stream",
     "text": [
      "['a', 'b', 'c', 'd', 'e', 'f', 'g', 'h', 'i', 'j', 'k', 'l', 'm', 'n', 'o', 'p', 'q', 'r', 's', 't', 'u', 'v', 'w', 'x', 'y', 'z']\n"
     ]
    },
    {
     "data": {
      "text/plain": [
       "26"
      ]
     },
     "execution_count": 394,
     "metadata": {},
     "output_type": "execute_result"
    }
   ],
   "source": [
    "\n",
    "alphabet = list(string.ascii_lowercase)\n",
    "print(alphabet)\n",
    "len(alphabet)"
   ]
  },
  {
   "cell_type": "code",
   "execution_count": null,
   "id": "d60b95cb",
   "metadata": {},
   "outputs": [],
   "source": [
    "import string\n",
    "\n",
    "def print_rangoli(size):\n",
    "    # your code goes here\n",
    "    alpha = list(string.ascii_lowercase)\n",
    "    #print(alphabet)\n",
    "    n= size \n",
    "    \n",
    "    if n==1:\n",
    "        print('a')\n",
    "    else:\n",
    "           \n",
    "        width = 2\n",
    "\n",
    "        c=0\n",
    "        w=2*n-2\n",
    "        for i in range(n):\n",
    "            #print(i)\n",
    "            #width = 7-i\n",
    "            print(''.ljust(w-2*i,'-'),sep='',end='')\n",
    "            c=n-1\n",
    "\n",
    "            for j in range(i+1):\n",
    "                print((alpha[c]),'-',sep='',end='')\n",
    "                c=c-1\n",
    "            #print(''.ljust(n-j,'-'),sep='',end='')\n",
    "            #d=c+1\n",
    "\n",
    "\n",
    "            if i==0:\n",
    "                print(''.rjust(w-2*i-1,'-'),sep='',end='')\n",
    "                pass\n",
    "            else:\n",
    "                d=n-i\n",
    "                #c=n-2\n",
    "                for k in range(i):\n",
    "                    if k==n-2:\n",
    "                        print((alpha[d]),sep='',end='')\n",
    "\n",
    "                    else:\n",
    "                        print((alpha[d]),'-',sep='',end='')\n",
    "                    d=d+1\n",
    "                print(''.rjust(w-2*i-1,'-'),sep='',end='') \n",
    "            print()\n",
    "\n",
    "        for i in range(n-2,-1,-1):\n",
    "            #print(i)\n",
    "            #width = 7-i\n",
    "            print(''.ljust(w-2*i,'-'),sep='',end='')\n",
    "            c=n-1\n",
    "            for j in range(i,-1,-1):\n",
    "                print((alpha[c]),'-',sep='',end='')\n",
    "                c=c-1\n",
    "            #print(''.center(n-j,'-'),sep='',end='') \n",
    "            #print()\n",
    "\n",
    "            if i==0:\n",
    "                print(''.center(w-2*i-1,'-'),sep='',end='')\n",
    "            else:\n",
    "                d=n-i\n",
    "                #c=n-2\n",
    "                for k in range(i):\n",
    "                    print((alpha[d]),'-',sep='',end='')\n",
    "                    d=d+1\n",
    "                print(''.ljust(w-2*i-1,'-'),sep='',end='') \n",
    "            print()        \n",
    "\n",
    "            #c=c+1\n",
    "            #print (('H'*(i+1)).ljust(width,'-'))\n"
   ]
  },
  {
   "cell_type": "code",
   "execution_count": null,
   "id": "f953a36b",
   "metadata": {},
   "outputs": [],
   "source": [
    "---------.|.---------\n",
    "------.|..|..|.------\n",
    "---.|..|..|..|..|.---\n",
    "-------WELCOME-------\n",
    "---.|..|..|..|..|.---\n",
    "------.|..|..|.------\n",
    "---------.|.---------\n",
    "\n",
    "7 21"
   ]
  },
  {
   "cell_type": "code",
   "execution_count": 708,
   "id": "9aab64c2",
   "metadata": {},
   "outputs": [
    {
     "name": "stdout",
     "output_type": "stream",
     "text": [
      "9\n"
     ]
    },
    {
     "data": {
      "text/plain": [
       "21"
      ]
     },
     "execution_count": 708,
     "metadata": {},
     "output_type": "execute_result"
    }
   ],
   "source": [
    "s1='------.|..|..|.------'\n",
    "s2='---------'\n",
    "print(len(s2))\n",
    "len(s1)"
   ]
  },
  {
   "cell_type": "code",
   "execution_count": 715,
   "id": "4268e810",
   "metadata": {},
   "outputs": [
    {
     "name": "stdout",
     "output_type": "stream",
     "text": [
      "7 21\n",
      "---------.|.---------\n",
      "------.|..|..|.------\n",
      "---.|..|..|..|..|.---\n",
      "-------WELCOME-------\n",
      "---.|..|..|..|..|.---\n",
      "------.|..|..|.------\n",
      "---------.|.---------\n"
     ]
    }
   ],
   "source": [
    "n,m=map(int,input().split())\n",
    "\n",
    "w=int((m-3)/2)\n",
    "for i in range(int(n/2)):\n",
    "    #for j in range(i)\n",
    "    print(''.ljust(w-3*i,'-'),sep='',end='')\n",
    "    print('.|.'*(2*i+1),sep='',end='')\n",
    "    print(''.rjust(w-3*i,'-'),sep='',end='')\n",
    "    print()\n",
    "#print(''.ljust(w-3*i,'-'),sep='',end='')\n",
    "print('WELCOME'.center(m,'-'))\n",
    "\n",
    "for i in range(int(n/2)-1,-1,-1):\n",
    "    #for j in range(i)\n",
    "    print(''.ljust(w-3*i,'-'),sep='',end='')\n",
    "    print('.|.'*(2*i+1),sep='',end='')\n",
    "    print(''.rjust(w-3*i,'-'),sep='',end='')\n",
    "    print()"
   ]
  },
  {
   "cell_type": "code",
   "execution_count": null,
   "id": "0081f659",
   "metadata": {},
   "outputs": [],
   "source": [
    "BANANA\n",
    "Stuart 12\n",
    "Kelvin "
   ]
  },
  {
   "cell_type": "code",
   "execution_count": 738,
   "id": "487aac06",
   "metadata": {},
   "outputs": [
    {
     "name": "stdout",
     "output_type": "stream",
     "text": [
      "['a', 'b', 'c', 'd', 'e', 'f', 'g', 'h', 'i', 'j', 'k', 'l', 'm', 'n', 'o', 'p', 'q', 'r', 's', 't', 'u', 'v', 'w', 'x', 'y', 'z']\n",
      "['b', 'c', 'd', 'e', 'f', 'g', 'h', 'i', 'j', 'k', 'l', 'm', 'n', 'o', 'p', 'q', 'r', 's', 't', 'u', 'v', 'w', 'x', 'y', 'z']\n",
      "['b', 'c', 'd', 'f', 'g', 'h', 'i', 'j', 'k', 'l', 'm', 'n', 'o', 'p', 'q', 'r', 's', 't', 'u', 'v', 'w', 'x', 'y', 'z']\n",
      "['b', 'c', 'd', 'f', 'g', 'h', 'j', 'k', 'l', 'm', 'n', 'o', 'p', 'q', 'r', 's', 't', 'u', 'v', 'w', 'x', 'y', 'z']\n",
      "['b', 'c', 'd', 'f', 'g', 'h', 'j', 'k', 'l', 'm', 'n', 'p', 'q', 'r', 's', 't', 'u', 'v', 'w', 'x', 'y', 'z']\n",
      "['b', 'c', 'd', 'f', 'g', 'h', 'j', 'k', 'l', 'm', 'n', 'p', 'q', 'r', 's', 't', 'v', 'w', 'x', 'y', 'z']\n"
     ]
    }
   ],
   "source": [
    "import string\n",
    "\n",
    "alphabet = list(string.ascii_lowercase)\n",
    "print(alphabet)\n",
    "consonant=alphabet\n",
    "const=alphabet\n",
    "consonant\n",
    "\n",
    "vowel=['a','e','i','o','u']\n",
    "for i in vowel:\n",
    "    const.remove(i)\n",
    "    \n",
    "    #print(const) \n",
    "    print(alphabet)\n"
   ]
  },
  {
   "cell_type": "code",
   "execution_count": 12,
   "id": "d548e507",
   "metadata": {},
   "outputs": [
    {
     "name": "stdout",
     "output_type": "stream",
     "text": [
      "['b', 'c', 'd', 'f', 'g', 'h', 'j', 'k', 'l', 'm', 'n', 'p', 'q', 'r', 's', 't', 'v', 'w', 'x', 'y', 'z']\n",
      "['b', 'c', 'd', 'f', 'g', 'h', 'j', 'k', 'l', 'm', 'n', 'p', 'q', 'r', 's', 't', 'v', 'w', 'x', 'y', 'z']\n"
     ]
    }
   ],
   "source": [
    "import string\n",
    "from itertools import combinations\n",
    "from itertools import product\n",
    "\n",
    "\n",
    "alphabet = list(string.ascii_lowercase)\n",
    "consonant=alphabet\n",
    "#len(alphabet)\n",
    "vowel=['a','e','i','o','u']\n",
    "for i in vowel:\n",
    "    consonant.remove(i)\n",
    "print(consonant) \n",
    "print(alphabet)\n",
    "\n",
    "def minion_game(string):\n",
    "    # your code goes here\n",
    "    s=string.lower()\n",
    "\n",
    "    sstuart=[]\n",
    "    skevin=[]\n",
    "    \n",
    "    svowel=[]\n",
    "    sconsonant=[]\n",
    "    \n",
    "    for i in s:\n",
    "        if i in consonant:\n",
    "            sstuart.append(i)\n",
    "            print('sconsonant    ',sstuart)\n",
    "        elif i in vowel:\n",
    "            skevin.append(i)\n",
    "            print('svowel    ',skevin)\n",
    "    \n",
    "    sconsonant=sstuart\n",
    "    svowel=skevin  \n",
    "    print('sconsonant    ',sconsonant)\n",
    "    print('svowel       ',svowel)\n",
    "    k=len(s)\n",
    "    l1=[]\n",
    "    #for i in range(k):\n",
    "    l1.append(list(product(sconsonant,svowel)))\n",
    "    #print (list(product(*l1)))\n",
    "    print(l1)"
   ]
  },
  {
   "cell_type": "code",
   "execution_count": 754,
   "id": "605fffce",
   "metadata": {},
   "outputs": [],
   "source": [
    "s='lkasgdhjdjhA'"
   ]
  },
  {
   "cell_type": "code",
   "execution_count": 755,
   "id": "8065c9ce",
   "metadata": {},
   "outputs": [
    {
     "data": {
      "text/plain": [
       "'Lkasgdhjdjha'"
      ]
     },
     "execution_count": 755,
     "metadata": {},
     "output_type": "execute_result"
    }
   ],
   "source": [
    "s.upper()"
   ]
  },
  {
   "cell_type": "code",
   "execution_count": 753,
   "id": "9c3c9a59",
   "metadata": {},
   "outputs": [
    {
     "data": {
      "text/plain": [
       "'lkasgdhjdjhA'"
      ]
     },
     "execution_count": 753,
     "metadata": {},
     "output_type": "execute_result"
    }
   ],
   "source": [
    "s"
   ]
  },
  {
   "cell_type": "code",
   "execution_count": 36,
   "id": "bf3d3a30",
   "metadata": {},
   "outputs": [
    {
     "name": "stdout",
     "output_type": "stream",
     "text": [
      "['b', 'c', 'd', 'f', 'g', 'h', 'j', 'k', 'l', 'm', 'n', 'p', 'q', 'r', 's', 't', 'v', 'w', 'x', 'y', 'z']\n",
      "['b', 'c', 'd', 'f', 'g', 'h', 'j', 'k', 'l', 'm', 'n', 'p', 'q', 'r', 's', 't', 'v', 'w', 'x', 'y', 'z']\n"
     ]
    }
   ],
   "source": [
    "import string\n",
    "from itertools import combinations\n",
    "#from itertools import product\n",
    "\n",
    "\n",
    "alphabet = list(string.ascii_lowercase)\n",
    "consonant=alphabet\n",
    "#len(alphabet)\n",
    "vowel=['a','e','i','o','u']\n",
    "for i in vowel:\n",
    "    consonant.remove(i)\n",
    "print(consonant) \n",
    "print(alphabet)\n",
    "\n",
    "def minion_game(string):\n",
    "    # your code goes here\n",
    "    s=string.lower()\n",
    "    ls=list(s)\n",
    "    sstuart=[]\n",
    "    skevin=[]\n",
    "    s1=''\n",
    "    s2=''\n",
    "    c=0\n",
    "    l1=[]\n",
    "    \n",
    "    svowel=[]\n",
    "    sconsonant=[]\n",
    "    for i in s:\n",
    "        if i in consonant:\n",
    "            sstuart.append(i)\n",
    "            print('sconsonant    ',sstuart)\n",
    "        elif i in vowel:\n",
    "            skevin.append(i)\n",
    "            print('svowel    ',skevin)\n",
    "    for i in range(len(s)):\n",
    "        for j in sstuart:\n",
    "            s1=s1+j\n",
    "            if s1 in ls:\n",
    "                c=c+1\n",
    "        for k in skevin:\n",
    "            s2=s2+k\n",
    "            if s2 in ls:\n",
    "                c=c+1\n",
    "    print(sstuart,s1,c)\n",
    "            \n",
    "    \n",
    "    for i in range(len(s)):\n",
    "        l1.append(list(combinations(sstuart, (i+1))))\n",
    "    print(l1)\n",
    "    c=0\n",
    "\n",
    "    for i in range(len(l1)):\n",
    "        for j in range(len(l1[i])):\n",
    "            if l1[i][j][0] in s:\n",
    "                c=c+1\n",
    "    print(c)"
   ]
  },
  {
   "cell_type": "code",
   "execution_count": 37,
   "id": "9e2a9b53",
   "metadata": {},
   "outputs": [
    {
     "name": "stdout",
     "output_type": "stream",
     "text": [
      "sconsonant     ['b']\n",
      "svowel     ['a']\n",
      "sconsonant     ['b', 'n']\n",
      "svowel     ['a', 'a']\n",
      "sconsonant     ['b', 'n', 'n']\n",
      "svowel     ['a', 'a', 'a']\n",
      "['b', 'n', 'n'] bnnbnnbnnbnnbnnbnn 2\n",
      "[[('b',), ('n',), ('n',)], [('b', 'n'), ('b', 'n'), ('n', 'n')], [('b', 'n', 'n')], [], [], []]\n",
      "7\n"
     ]
    }
   ],
   "source": [
    "minion_game('banana')"
   ]
  },
  {
   "cell_type": "code",
   "execution_count": 717,
   "id": "e9e734d3",
   "metadata": {},
   "outputs": [
    {
     "name": "stdout",
     "output_type": "stream",
     "text": [
      "['b', 'c', 'd', 'f', 'g', 'h', 'j', 'k', 'l', 'm', 'n', 'p', 'q', 'r', 's', 't', 'v', 'w', 'x', 'y', 'z']\n"
     ]
    }
   ],
   "source": [
    "alphabet = list(string.ascii_lowercase)\n",
    "consonant=alphabet\n",
    "len(alphabet)\n",
    "vowel=['a','e','i','o','u']\n",
    "for i in vowel:\n",
    "    consonant.remove(i)\n",
    "print(consonant)\n",
    "\n"
   ]
  },
  {
   "cell_type": "code",
   "execution_count": 42,
   "id": "16ca5837",
   "metadata": {},
   "outputs": [
    {
     "name": "stdout",
     "output_type": "stream",
     "text": [
      "banana\n",
      "['banana', 'nana', 'na']\n"
     ]
    }
   ],
   "source": [
    "import string\n",
    "alphabet = list(string.ascii_lowercase)\n",
    "consonant=alphabet\n",
    "len(alphabet)\n",
    "vowel=['a','e','i','o','u']\n",
    "for i in vowel:\n",
    "    consonant.remove(i)\n",
    "s= input()\n",
    "l=[]\n",
    "for i in range(len(s)):\n",
    "    if s[i] in consonant:\n",
    "        l.append(s[i:])\n",
    "print(l)\n",
    "        "
   ]
  },
  {
   "cell_type": "code",
   "execution_count": null,
   "id": "ac233352",
   "metadata": {},
   "outputs": [],
   "source": []
  },
  {
   "cell_type": "code",
   "execution_count": 43,
   "id": "83357557",
   "metadata": {},
   "outputs": [
    {
     "name": "stdout",
     "output_type": "stream",
     "text": [
      "                                  2015\n",
      "\n",
      "      January                   February                   March\n",
      "Su Mo Tu We Th Fr Sa      Su Mo Tu We Th Fr Sa      Su Mo Tu We Th Fr Sa\n",
      "             1  2  3       1  2  3  4  5  6  7       1  2  3  4  5  6  7\n",
      " 4  5  6  7  8  9 10       8  9 10 11 12 13 14       8  9 10 11 12 13 14\n",
      "11 12 13 14 15 16 17      15 16 17 18 19 20 21      15 16 17 18 19 20 21\n",
      "18 19 20 21 22 23 24      22 23 24 25 26 27 28      22 23 24 25 26 27 28\n",
      "25 26 27 28 29 30 31                                29 30 31\n",
      "\n",
      "       April                      May                       June\n",
      "Su Mo Tu We Th Fr Sa      Su Mo Tu We Th Fr Sa      Su Mo Tu We Th Fr Sa\n",
      "          1  2  3  4                      1  2          1  2  3  4  5  6\n",
      " 5  6  7  8  9 10 11       3  4  5  6  7  8  9       7  8  9 10 11 12 13\n",
      "12 13 14 15 16 17 18      10 11 12 13 14 15 16      14 15 16 17 18 19 20\n",
      "19 20 21 22 23 24 25      17 18 19 20 21 22 23      21 22 23 24 25 26 27\n",
      "26 27 28 29 30            24 25 26 27 28 29 30      28 29 30\n",
      "                          31\n",
      "\n",
      "        July                     August                  September\n",
      "Su Mo Tu We Th Fr Sa      Su Mo Tu We Th Fr Sa      Su Mo Tu We Th Fr Sa\n",
      "          1  2  3  4                         1             1  2  3  4  5\n",
      " 5  6  7  8  9 10 11       2  3  4  5  6  7  8       6  7  8  9 10 11 12\n",
      "12 13 14 15 16 17 18       9 10 11 12 13 14 15      13 14 15 16 17 18 19\n",
      "19 20 21 22 23 24 25      16 17 18 19 20 21 22      20 21 22 23 24 25 26\n",
      "26 27 28 29 30 31         23 24 25 26 27 28 29      27 28 29 30\n",
      "                          30 31\n",
      "\n",
      "      October                   November                  December\n",
      "Su Mo Tu We Th Fr Sa      Su Mo Tu We Th Fr Sa      Su Mo Tu We Th Fr Sa\n",
      "             1  2  3       1  2  3  4  5  6  7             1  2  3  4  5\n",
      " 4  5  6  7  8  9 10       8  9 10 11 12 13 14       6  7  8  9 10 11 12\n",
      "11 12 13 14 15 16 17      15 16 17 18 19 20 21      13 14 15 16 17 18 19\n",
      "18 19 20 21 22 23 24      22 23 24 25 26 27 28      20 21 22 23 24 25 26\n",
      "25 26 27 28 29 30 31      29 30                     27 28 29 30 31\n",
      "\n"
     ]
    }
   ],
   "source": [
    "import calendar\n",
    "\n",
    "print (calendar.TextCalendar(firstweekday=6).formatyear(2015))"
   ]
  },
  {
   "cell_type": "code",
   "execution_count": 49,
   "id": "312f5d8c",
   "metadata": {},
   "outputs": [
    {
     "name": "stdout",
     "output_type": "stream",
     "text": [
      "9 28 2022\n",
      "                                  2022\n",
      "\n",
      "      January                   February                   March\n",
      "Mo Tu We Th Fr Sa Su      Mo Tu We Th Fr Sa Su      Mo Tu We Th Fr Sa Su\n",
      "                1  2          1  2  3  4  5  6          1  2  3  4  5  6\n",
      " 3  4  5  6  7  8  9       7  8  9 10 11 12 13       7  8  9 10 11 12 13\n",
      "10 11 12 13 14 15 16      14 15 16 17 18 19 20      14 15 16 17 18 19 20\n",
      "17 18 19 20 21 22 23      21 22 23 24 25 26 27      21 22 23 24 25 26 27\n",
      "24 25 26 27 28 29 30      28                        28 29 30 31\n",
      "31\n",
      "\n",
      "       April                      May                       June\n",
      "Mo Tu We Th Fr Sa Su      Mo Tu We Th Fr Sa Su      Mo Tu We Th Fr Sa Su\n",
      "             1  2  3                         1             1  2  3  4  5\n",
      " 4  5  6  7  8  9 10       2  3  4  5  6  7  8       6  7  8  9 10 11 12\n",
      "11 12 13 14 15 16 17       9 10 11 12 13 14 15      13 14 15 16 17 18 19\n",
      "18 19 20 21 22 23 24      16 17 18 19 20 21 22      20 21 22 23 24 25 26\n",
      "25 26 27 28 29 30         23 24 25 26 27 28 29      27 28 29 30\n",
      "                          30 31\n",
      "\n",
      "        July                     August                  September\n",
      "Mo Tu We Th Fr Sa Su      Mo Tu We Th Fr Sa Su      Mo Tu We Th Fr Sa Su\n",
      "             1  2  3       1  2  3  4  5  6  7                1  2  3  4\n",
      " 4  5  6  7  8  9 10       8  9 10 11 12 13 14       5  6  7  8  9 10 11\n",
      "11 12 13 14 15 16 17      15 16 17 18 19 20 21      12 13 14 15 16 17 18\n",
      "18 19 20 21 22 23 24      22 23 24 25 26 27 28      19 20 21 22 23 24 25\n",
      "25 26 27 28 29 30 31      29 30 31                  26 27 28 29 30\n",
      "\n",
      "      October                   November                  December\n",
      "Mo Tu We Th Fr Sa Su      Mo Tu We Th Fr Sa Su      Mo Tu We Th Fr Sa Su\n",
      "                1  2          1  2  3  4  5  6                1  2  3  4\n",
      " 3  4  5  6  7  8  9       7  8  9 10 11 12 13       5  6  7  8  9 10 11\n",
      "10 11 12 13 14 15 16      14 15 16 17 18 19 20      12 13 14 15 16 17 18\n",
      "17 18 19 20 21 22 23      21 22 23 24 25 26 27      19 20 21 22 23 24 25\n",
      "24 25 26 27 28 29 30      28 29 30                  26 27 28 29 30 31\n",
      "31\n",
      "\n",
      "2\n",
      "WEDNESDAY\n"
     ]
    }
   ],
   "source": [
    "import calendar\n",
    "m,d,y=map(int, input().split())\n",
    "\n",
    "days=['MONDAY', 'TUESDAY', 'WEDNESDAY', 'THURSDAY', 'FRIDAY', 'SATURDAY', 'SUNDAY']\n",
    "print(days[calendar.weekday(y, m, d)])"
   ]
  },
  {
   "cell_type": "code",
   "execution_count": null,
   "id": "a307ffb8",
   "metadata": {},
   "outputs": [],
   "source": [
    "import calendar\n",
    "import datetime as dt\n",
    "\n",
    "a = dt.datetime(2013,12,30,23,59,59)\n",
    "b = dt.datetime(2013,12,31,23,59,59)\n",
    "\n",
    "(b-a).total_seconds()"
   ]
  },
  {
   "cell_type": "code",
   "execution_count": 85,
   "id": "9cdd0565",
   "metadata": {},
   "outputs": [],
   "source": [
    "#!/bin/python3\n",
    "\n",
    "import math\n",
    "import os\n",
    "import random\n",
    "import re\n",
    "import sys\n",
    "import calendar\n",
    "from datetime import datetime \n",
    "#import datetime as dt\n",
    "\n",
    "# Complete the time_delta function below.\n",
    "def time_delta(t1, t2):\n",
    "    a = datetime.strptime(t1,'Day dd Mon yyyy hh:mm:ss +xxxx')\n",
    "    b = datetime.strptime(t2,'Day dd Mon yyyy hh:mm:ss +xxxx')\n",
    "\n",
    "    sec=abs((b-a).timedelta.total_seconds())\n",
    "    return sec\n",
    "#timedelta.total_seconds() \n",
    "#strptime(t,%H:%M:%S) "
   ]
  },
  {
   "cell_type": "code",
   "execution_count": 84,
   "id": "9c9b6d3e",
   "metadata": {},
   "outputs": [
    {
     "name": "stdout",
     "output_type": "stream",
     "text": [
      "Start time: 02:13:57\n",
      "End time: 11:46:38\n",
      "Time difference is 34361 seconds\n",
      "Time difference is 34361000 milliseconds\n"
     ]
    }
   ],
   "source": [
    "from datetime import datetime\n",
    "\n",
    "# start time\n",
    "start_time = \"2:13:57\"\n",
    "end_time = \"11:46:38\"\n",
    "\n",
    "# convert time string to datetime\n",
    "t1 = datetime.strptime(start_time, \"%H:%M:%S\")\n",
    "print('Start time:', t1.time())\n",
    "\n",
    "t2 = datetime.strptime(end_time, \"%H:%M:%S\")\n",
    "print('End time:', t2.time())\n",
    "\n",
    "# get difference\n",
    "delta = t2 - t1\n",
    "\n",
    "# time difference in seconds\n",
    "print(f\"Time difference is {int(delta.total_seconds())} seconds\")\n",
    "\n",
    "# time difference in milliseconds\n",
    "ms = delta.total_seconds() * 1000\n",
    "print(f\"Time difference is {int(ms)} milliseconds\")"
   ]
  },
  {
   "cell_type": "code",
   "execution_count": 88,
   "id": "62fa8ebf",
   "metadata": {},
   "outputs": [
    {
     "ename": "SyntaxError",
     "evalue": "leading zeros in decimal integer literals are not permitted; use an 0o prefix for octal integers (1433899658.py, line 3)",
     "output_type": "error",
     "traceback": [
      "\u001b[1;36m  Input \u001b[1;32mIn [88]\u001b[1;36m\u001b[0m\n\u001b[1;33m    tzinfo.tzname(-0700)\u001b[0m\n\u001b[1;37m                      ^\u001b[0m\n\u001b[1;31mSyntaxError\u001b[0m\u001b[1;31m:\u001b[0m leading zeros in decimal integer literals are not permitted; use an 0o prefix for octal integers\n"
     ]
    }
   ],
   "source": [
    "#from datetime import datetime\n",
    "import datetime as dt\n",
    "tzinfo.tzname(-0700)"
   ]
  },
  {
   "cell_type": "code",
   "execution_count": 98,
   "id": "b5eab547",
   "metadata": {},
   "outputs": [
    {
     "name": "stdout",
     "output_type": "stream",
     "text": [
      "12:10:30+01:00\n",
      "1:00:00\n",
      "0:00:00\n",
      "Europe/Prague\n"
     ]
    }
   ],
   "source": [
    "from datetime import time, tzinfo, timedelta\n",
    "class GMT1(tzinfo):\n",
    "    def utcoffset(self, dt):\n",
    "         return timedelta(hours=1)\n",
    "    def dst(self, dt):\n",
    "         return timedelta(0)\n",
    "    def tzname(self,dt):\n",
    "         return \"Europe/Prague\"\n",
    "\n",
    "t = time(12, 10, 30, tzinfo=GMT1())\n",
    "print(t)                               \n",
    "#datetime.time(12, 10, 30, tzinfo=<GMT1 object at 0x...>)\n",
    "gmt = GMT1()\n",
    "print(gmt.utcoffset(t))\n",
    "print(gmt.dst(t))\n",
    "print(gmt.tzname(t))\n",
    "#t.isoformat()"
   ]
  },
  {
   "cell_type": "code",
   "execution_count": 106,
   "id": "9507df73",
   "metadata": {},
   "outputs": [
    {
     "name": "stdout",
     "output_type": "stream",
     "text": [
      "1\n",
      "1 v\n",
      "Error Code: invalid literal for int() with base 10: 'v'\n"
     ]
    }
   ],
   "source": [
    "\n",
    "t=int(input())\n",
    "for i in range(t):\n",
    "    a, b=input().split()\n",
    "    \n",
    "    try:\n",
    "        print (int(a)/int(b))\n",
    "    except ValueError as e:     #ZeroDivisionError or \n",
    "        print (\"Error Code:\",e)\n",
    "    except ZeroDivisionError as e:     #ZeroDivisionError or \n",
    "        print (\"Error Code:\",e)\n",
    "  "
   ]
  },
  {
   "cell_type": "code",
   "execution_count": 2,
   "id": "3b56fdbc",
   "metadata": {},
   "outputs": [
    {
     "name": "stdout",
     "output_type": "stream",
     "text": [
      "2\n",
      ".*\\+\n",
      "True\n",
      ".*+\n",
      "False\n"
     ]
    }
   ],
   "source": [
    "import re\n",
    "\n",
    "t=int(input())\n",
    "for i in range(t):\n",
    "    test = input()\n",
    "    #pattern is a string containing the regex pattern\n",
    "    #pattern = r\".*+\"\n",
    "\n",
    "    try:\n",
    "        re.compile(test)\n",
    "        print(\"True\")\n",
    "    except re.error:\n",
    "        print(\"False\")\n",
    "        #exit()"
   ]
  },
  {
   "cell_type": "code",
   "execution_count": null,
   "id": "d36d3495",
   "metadata": {},
   "outputs": [],
   "source": [
    "2\n",
    ".*\\+\n",
    ".*+\n",
    "\n",
    "[A-Za-z0-9]\n",
    "[A-Z]\n"
   ]
  },
  {
   "cell_type": "code",
   "execution_count": 39,
   "id": "fc3f849d",
   "metadata": {},
   "outputs": [
    {
     "name": "stdout",
     "output_type": "stream",
     "text": [
      "1\n",
      "B1CD102354\n",
      "Invalid\n"
     ]
    }
   ],
   "source": [
    "import re\n",
    "\n",
    "pat = re.compile(r\"[A-Za-z0-9]+\")    #  a-z0-9\n",
    "t=int(input())\n",
    "for i in range(t):\n",
    "    test = input()\n",
    "    l=list(test)\n",
    "    c=0\n",
    "    d=0\n",
    "    e=0\n",
    "    \n",
    "        \n",
    "    for i in test:\n",
    "        for j in l:\n",
    "            if i==j:\n",
    "                c=c+1\n",
    "        if i.isupper():\n",
    "            d=d+1\n",
    "        if i.isdigit():\n",
    "            e=e+1\n",
    "    if test.isalnum():\n",
    "        if c<=len(test) and d>=2 and e>=3:\n",
    "            res=\"Valid\"\n",
    "        else:\n",
    "            res=\"Invalid\"\n",
    "    else:\n",
    "        res=\"Invalid\"\n",
    "    print(res)\n",
    "    \n",
    "    \n"
   ]
  },
  {
   "cell_type": "code",
   "execution_count": null,
   "id": "34665936",
   "metadata": {},
   "outputs": [],
   "source": [
    "90\n",
    "74jK6yO6Ee\n",
    "6LfK3X35w4\n",
    "Wf7BH1y37y\n",
    "h833NYf2w6\n",
    "944A4NKtE2\n",
    "AhBYw9r675\n",
    "e74D412L2I\n",
    "yDO9Ee83fJ\n",
    "26e5Pe2CgN\n",
    "W2IWtJ1F4O\n",
    "96R5ZDJg72\n",
    "7qE7yN3yG2\n",
    "Ewq1I16L5G\n",
    "44NDO46dN3\n",
    "r57tH10OEj\n",
    "J950g9O427\n",
    "h7AFN4y5dt\n",
    "y6847324DA\n",
    "YD780V5355\n",
    "SA1eqMY8Q5\n",
    "5RrJ3MHr7f\n",
    "5FVw2qr6C8\n",
    "\n",
    "\n",
    "Invalid\n",
    "Invalid\n",
    "Invalid\n",
    "Invalid\n",
    "Invalid\n",
    "Valid\n",
    "Invalid\n",
    "Valid\n",
    "Invalid\n",
    "Invalid\n",
    "Valid\n",
    "Invalid\n",
    "Invalid\n",
    "Invalid\n",
    "Valid\n",
    "Invalid\n",
    "Valid\n",
    "Invalid\n",
    "Invalid\n",
    "Valid\n",
    "Invalid\n",
    "Valid\n",
    "Invalid\n",
    "Invalid\n"
   ]
  },
  {
   "cell_type": "code",
   "execution_count": null,
   "id": "3ea10f26",
   "metadata": {},
   "outputs": [],
   "source": [
    "2\n",
    "BQWAILU471\n",
    "115DEF2354\n",
    "valid\n",
    "Valid\n",
    "Invalid\n",
    "Invalid"
   ]
  },
  {
   "cell_type": "code",
   "execution_count": 108,
   "id": "8d698298",
   "metadata": {},
   "outputs": [
    {
     "name": "stdout",
     "output_type": "stream",
     "text": [
      "4\n",
      "3695-7963-  5827-75\n",
      "['3695', '7963', '  5827', '75']\n",
      "Invalid\n",
      "4143-4672-8798-2968-2968\n",
      "['4143', '4672', '8798', '2968', '2968']\n",
      "Invalid\n",
      "6865---------------3965---------------1564-------------2918\n",
      "['6865', '', '', '', '', '', '', '', '', '', '', '', '', '', '', '3965', '', '', '', '', '', '', '', '', '', '', '', '', '', '', '1564', '', '', '', '', '', '', '', '', '', '', '', '', '2918']\n",
      "Invalid\n",
      "6865396515642918\n",
      "[['6', '8', '6', '5'], ['3', '9', '6', '5'], ['1', '5', '6', '4'], ['2', '9', '1', '8']]\n",
      "Valid\n"
     ]
    }
   ],
   "source": [
    "import re\n",
    "\n",
    "pat = re.compile(r\"[A-Za-z0-9]+\")    #  a-z0-9\n",
    "t=int(input())\n",
    "for i in range(t):\n",
    "    test = input()\n",
    "    tes=test\n",
    "    te=[]\n",
    "\n",
    "    l=list(test)\n",
    "    k=0\n",
    "    n=4\n",
    "    if '-' in l:\n",
    "        te=tes.split('-')\n",
    "    elif ' ' in l:\n",
    "        te=tes.split(' ') \n",
    "    else:\n",
    "        for i in range(int(len(l)/4)):\n",
    "            te.append(l[k:n])\n",
    "            k=n\n",
    "            n=n+4\n",
    "    #print(\"Te   str\", te)  \n",
    "    c=[]\n",
    "    f=[]\n",
    "    d=0\n",
    "    e=0\n",
    "\n",
    "    for i in l:\n",
    "        if i==' ':\n",
    "            l.remove(' ')\n",
    "        if i=='-':\n",
    "            l.remove('-')\n",
    "            \n",
    "    k=0\n",
    "    n=4\n",
    "    #print(te)\n",
    "    for i in te:\n",
    "        if len(i)==4 and te[0][0] in ['4','5','6']:\n",
    "            #print('yes')\n",
    "            f.append(1)\n",
    "        else:\n",
    "            f.append(0)\n",
    "            for j in i:\n",
    "                if j.isdigit():\n",
    "                    #print('y digit')\n",
    "                    c.append(1)\n",
    "                else:\n",
    "                    #print('y not digit')\n",
    "                    c.append(0)\n",
    "    for j in range(len(l)-4):\n",
    "        x=l[k:n]\n",
    "        k=k+1\n",
    "        n=n+1\n",
    "        if x[0]==x[1] and x[1]==x[2] and x[2]==x[3]:\n",
    "            #print('repeated')\n",
    "            d=1\n",
    "        else:\n",
    "            #print('not repeated')\n",
    "            #d=d+1\n",
    "            pass\n",
    "\n",
    "    if len(te)==4 and d==0 and (0 not in c) and (0 not in f):\n",
    "        res=\"Valid\"\n",
    "    else:      \n",
    "        res=\"Invalid\"\n",
    "    print(res)\n"
   ]
  },
  {
   "cell_type": "code",
   "execution_count": null,
   "id": "d48d2826",
   "metadata": {},
   "outputs": [],
   "source": [
    "6\n",
    "4123456789123456\n",
    "5123-4567-8912-3456\n",
    "61234-567-8912-3456\n",
    "4123356789123456\n",
    "5133-3367-8912-3456\n",
    "5123 - 3567 - 8912 - 3456\n",
    "\n",
    "4\n",
    "3695-7963-  5827-75\n",
    "4143-4672-8798-2968-2968\n",
    "6865---------------3965---------------1564-------------2918\n",
    "6865396515642918\n",
    "Invalid\n",
    "Invalid\n",
    "Invalid\n",
    "Valid"
   ]
  },
  {
   "cell_type": "code",
   "execution_count": 56,
   "id": "bdc97189",
   "metadata": {},
   "outputs": [],
   "source": [
    "s='kgdhg jhjkf- kfkj - fhnfd'\n",
    "sl=s.split('-')\n",
    "#tes=tes.split('-')"
   ]
  },
  {
   "cell_type": "code",
   "execution_count": 109,
   "id": "b43cf393",
   "metadata": {},
   "outputs": [
    {
     "name": "stdout",
     "output_type": "stream",
     "text": [
      "True\n"
     ]
    }
   ],
   "source": [
    "import re\n",
    "print(bool(re.search(r\"ly\",\"similarly\")))\n",
    "#True"
   ]
  },
  {
   "cell_type": "code",
   "execution_count": 110,
   "id": "f3c9f004",
   "metadata": {},
   "outputs": [
    {
     "name": "stdout",
     "output_type": "stream",
     "text": [
      "False\n",
      "True\n"
     ]
    }
   ],
   "source": [
    "import re\n",
    "print (bool(re.match(r\"ly\",\"similarly\")))\n",
    "#False\n",
    "print (bool(re.match(r\"ly\",\"ly should be in the beginning\")))\n",
    "#True"
   ]
  },
  {
   "cell_type": "code",
   "execution_count": 119,
   "id": "06235708",
   "metadata": {},
   "outputs": [
    {
     "name": "stdout",
     "output_type": "stream",
     "text": [
      "2\n",
      "4.00\n",
      "True\n"
     ]
    },
    {
     "ename": "error",
     "evalue": "nothing to repeat at position 0",
     "output_type": "error",
     "traceback": [
      "\u001b[1;31m---------------------------------------------------------------------------\u001b[0m",
      "\u001b[1;31merror\u001b[0m                                     Traceback (most recent call last)",
      "Input \u001b[1;32mIn [119]\u001b[0m, in \u001b[0;36m<cell line: 5>\u001b[1;34m()\u001b[0m\n\u001b[0;32m      8\u001b[0m \u001b[38;5;66;03m#if bool(re.search(r\".\",\"similarly\")):\u001b[39;00m\n\u001b[0;32m      9\u001b[0m     \u001b[38;5;66;03m#bool(re.search(r\".\",\"similarly\"))\u001b[39;00m\n\u001b[0;32m     10\u001b[0m \u001b[38;5;28mprint\u001b[39m(\u001b[38;5;28mbool\u001b[39m(re\u001b[38;5;241m.\u001b[39msearch(\u001b[38;5;124mr\u001b[39m\u001b[38;5;124m\"\u001b[39m\u001b[38;5;124m.\u001b[39m\u001b[38;5;124m\"\u001b[39m,test)))\n\u001b[1;32m---> 11\u001b[0m \u001b[38;5;28mprint\u001b[39m (\u001b[38;5;28mbool\u001b[39m(\u001b[43mre\u001b[49m\u001b[38;5;241;43m.\u001b[39;49m\u001b[43mmatch\u001b[49m\u001b[43m(\u001b[49m\u001b[38;5;124;43mr\u001b[39;49m\u001b[38;5;124;43m\"\u001b[39;49m\u001b[38;5;124;43m+\u001b[39;49m\u001b[38;5;124;43m\"\u001b[39;49m\u001b[43m,\u001b[49m\u001b[43mtest\u001b[49m\u001b[43m)\u001b[49m))\n",
      "File \u001b[1;32m~\\anaconda3\\lib\\re.py:191\u001b[0m, in \u001b[0;36mmatch\u001b[1;34m(pattern, string, flags)\u001b[0m\n\u001b[0;32m    188\u001b[0m \u001b[38;5;28;01mdef\u001b[39;00m \u001b[38;5;21mmatch\u001b[39m(pattern, string, flags\u001b[38;5;241m=\u001b[39m\u001b[38;5;241m0\u001b[39m):\n\u001b[0;32m    189\u001b[0m     \u001b[38;5;124;03m\"\"\"Try to apply the pattern at the start of the string, returning\u001b[39;00m\n\u001b[0;32m    190\u001b[0m \u001b[38;5;124;03m    a Match object, or None if no match was found.\"\"\"\u001b[39;00m\n\u001b[1;32m--> 191\u001b[0m     \u001b[38;5;28;01mreturn\u001b[39;00m \u001b[43m_compile\u001b[49m\u001b[43m(\u001b[49m\u001b[43mpattern\u001b[49m\u001b[43m,\u001b[49m\u001b[43m \u001b[49m\u001b[43mflags\u001b[49m\u001b[43m)\u001b[49m\u001b[38;5;241m.\u001b[39mmatch(string)\n",
      "File \u001b[1;32m~\\anaconda3\\lib\\re.py:304\u001b[0m, in \u001b[0;36m_compile\u001b[1;34m(pattern, flags)\u001b[0m\n\u001b[0;32m    302\u001b[0m \u001b[38;5;28;01mif\u001b[39;00m \u001b[38;5;129;01mnot\u001b[39;00m sre_compile\u001b[38;5;241m.\u001b[39misstring(pattern):\n\u001b[0;32m    303\u001b[0m     \u001b[38;5;28;01mraise\u001b[39;00m \u001b[38;5;167;01mTypeError\u001b[39;00m(\u001b[38;5;124m\"\u001b[39m\u001b[38;5;124mfirst argument must be string or compiled pattern\u001b[39m\u001b[38;5;124m\"\u001b[39m)\n\u001b[1;32m--> 304\u001b[0m p \u001b[38;5;241m=\u001b[39m \u001b[43msre_compile\u001b[49m\u001b[38;5;241;43m.\u001b[39;49m\u001b[43mcompile\u001b[49m\u001b[43m(\u001b[49m\u001b[43mpattern\u001b[49m\u001b[43m,\u001b[49m\u001b[43m \u001b[49m\u001b[43mflags\u001b[49m\u001b[43m)\u001b[49m\n\u001b[0;32m    305\u001b[0m \u001b[38;5;28;01mif\u001b[39;00m \u001b[38;5;129;01mnot\u001b[39;00m (flags \u001b[38;5;241m&\u001b[39m DEBUG):\n\u001b[0;32m    306\u001b[0m     \u001b[38;5;28;01mif\u001b[39;00m \u001b[38;5;28mlen\u001b[39m(_cache) \u001b[38;5;241m>\u001b[39m\u001b[38;5;241m=\u001b[39m _MAXCACHE:\n\u001b[0;32m    307\u001b[0m         \u001b[38;5;66;03m# Drop the oldest item\u001b[39;00m\n",
      "File \u001b[1;32m~\\anaconda3\\lib\\sre_compile.py:764\u001b[0m, in \u001b[0;36mcompile\u001b[1;34m(p, flags)\u001b[0m\n\u001b[0;32m    762\u001b[0m \u001b[38;5;28;01mif\u001b[39;00m isstring(p):\n\u001b[0;32m    763\u001b[0m     pattern \u001b[38;5;241m=\u001b[39m p\n\u001b[1;32m--> 764\u001b[0m     p \u001b[38;5;241m=\u001b[39m \u001b[43msre_parse\u001b[49m\u001b[38;5;241;43m.\u001b[39;49m\u001b[43mparse\u001b[49m\u001b[43m(\u001b[49m\u001b[43mp\u001b[49m\u001b[43m,\u001b[49m\u001b[43m \u001b[49m\u001b[43mflags\u001b[49m\u001b[43m)\u001b[49m\n\u001b[0;32m    765\u001b[0m \u001b[38;5;28;01melse\u001b[39;00m:\n\u001b[0;32m    766\u001b[0m     pattern \u001b[38;5;241m=\u001b[39m \u001b[38;5;28;01mNone\u001b[39;00m\n",
      "File \u001b[1;32m~\\anaconda3\\lib\\sre_parse.py:950\u001b[0m, in \u001b[0;36mparse\u001b[1;34m(str, flags, state)\u001b[0m\n\u001b[0;32m    947\u001b[0m state\u001b[38;5;241m.\u001b[39mstr \u001b[38;5;241m=\u001b[39m \u001b[38;5;28mstr\u001b[39m\n\u001b[0;32m    949\u001b[0m \u001b[38;5;28;01mtry\u001b[39;00m:\n\u001b[1;32m--> 950\u001b[0m     p \u001b[38;5;241m=\u001b[39m \u001b[43m_parse_sub\u001b[49m\u001b[43m(\u001b[49m\u001b[43msource\u001b[49m\u001b[43m,\u001b[49m\u001b[43m \u001b[49m\u001b[43mstate\u001b[49m\u001b[43m,\u001b[49m\u001b[43m \u001b[49m\u001b[43mflags\u001b[49m\u001b[43m \u001b[49m\u001b[38;5;241;43m&\u001b[39;49m\u001b[43m \u001b[49m\u001b[43mSRE_FLAG_VERBOSE\u001b[49m\u001b[43m,\u001b[49m\u001b[43m \u001b[49m\u001b[38;5;241;43m0\u001b[39;49m\u001b[43m)\u001b[49m\n\u001b[0;32m    951\u001b[0m \u001b[38;5;28;01mexcept\u001b[39;00m Verbose:\n\u001b[0;32m    952\u001b[0m     \u001b[38;5;66;03m# the VERBOSE flag was switched on inside the pattern.  to be\u001b[39;00m\n\u001b[0;32m    953\u001b[0m     \u001b[38;5;66;03m# on the safe side, we'll parse the whole thing again...\u001b[39;00m\n\u001b[0;32m    954\u001b[0m     state \u001b[38;5;241m=\u001b[39m State()\n",
      "File \u001b[1;32m~\\anaconda3\\lib\\sre_parse.py:443\u001b[0m, in \u001b[0;36m_parse_sub\u001b[1;34m(source, state, verbose, nested)\u001b[0m\n\u001b[0;32m    441\u001b[0m start \u001b[38;5;241m=\u001b[39m source\u001b[38;5;241m.\u001b[39mtell()\n\u001b[0;32m    442\u001b[0m \u001b[38;5;28;01mwhile\u001b[39;00m \u001b[38;5;28;01mTrue\u001b[39;00m:\n\u001b[1;32m--> 443\u001b[0m     itemsappend(\u001b[43m_parse\u001b[49m\u001b[43m(\u001b[49m\u001b[43msource\u001b[49m\u001b[43m,\u001b[49m\u001b[43m \u001b[49m\u001b[43mstate\u001b[49m\u001b[43m,\u001b[49m\u001b[43m \u001b[49m\u001b[43mverbose\u001b[49m\u001b[43m,\u001b[49m\u001b[43m \u001b[49m\u001b[43mnested\u001b[49m\u001b[43m \u001b[49m\u001b[38;5;241;43m+\u001b[39;49m\u001b[43m \u001b[49m\u001b[38;5;241;43m1\u001b[39;49m\u001b[43m,\u001b[49m\n\u001b[0;32m    444\u001b[0m \u001b[43m                       \u001b[49m\u001b[38;5;129;43;01mnot\u001b[39;49;00m\u001b[43m \u001b[49m\u001b[43mnested\u001b[49m\u001b[43m \u001b[49m\u001b[38;5;129;43;01mand\u001b[39;49;00m\u001b[43m \u001b[49m\u001b[38;5;129;43;01mnot\u001b[39;49;00m\u001b[43m \u001b[49m\u001b[43mitems\u001b[49m\u001b[43m)\u001b[49m)\n\u001b[0;32m    445\u001b[0m     \u001b[38;5;28;01mif\u001b[39;00m \u001b[38;5;129;01mnot\u001b[39;00m sourcematch(\u001b[38;5;124m\"\u001b[39m\u001b[38;5;124m|\u001b[39m\u001b[38;5;124m\"\u001b[39m):\n\u001b[0;32m    446\u001b[0m         \u001b[38;5;28;01mbreak\u001b[39;00m\n",
      "File \u001b[1;32m~\\anaconda3\\lib\\sre_parse.py:668\u001b[0m, in \u001b[0;36m_parse\u001b[1;34m(source, state, verbose, nested, first)\u001b[0m\n\u001b[0;32m    666\u001b[0m     item \u001b[38;5;241m=\u001b[39m \u001b[38;5;28;01mNone\u001b[39;00m\n\u001b[0;32m    667\u001b[0m \u001b[38;5;28;01mif\u001b[39;00m \u001b[38;5;129;01mnot\u001b[39;00m item \u001b[38;5;129;01mor\u001b[39;00m item[\u001b[38;5;241m0\u001b[39m][\u001b[38;5;241m0\u001b[39m] \u001b[38;5;129;01mis\u001b[39;00m AT:\n\u001b[1;32m--> 668\u001b[0m     \u001b[38;5;28;01mraise\u001b[39;00m source\u001b[38;5;241m.\u001b[39merror(\u001b[38;5;124m\"\u001b[39m\u001b[38;5;124mnothing to repeat\u001b[39m\u001b[38;5;124m\"\u001b[39m,\n\u001b[0;32m    669\u001b[0m                        source\u001b[38;5;241m.\u001b[39mtell() \u001b[38;5;241m-\u001b[39m here \u001b[38;5;241m+\u001b[39m \u001b[38;5;28mlen\u001b[39m(this))\n\u001b[0;32m    670\u001b[0m \u001b[38;5;28;01mif\u001b[39;00m item[\u001b[38;5;241m0\u001b[39m][\u001b[38;5;241m0\u001b[39m] \u001b[38;5;129;01min\u001b[39;00m _REPEATCODES:\n\u001b[0;32m    671\u001b[0m     \u001b[38;5;28;01mraise\u001b[39;00m source\u001b[38;5;241m.\u001b[39merror(\u001b[38;5;124m\"\u001b[39m\u001b[38;5;124mmultiple repeat\u001b[39m\u001b[38;5;124m\"\u001b[39m,\n\u001b[0;32m    672\u001b[0m                        source\u001b[38;5;241m.\u001b[39mtell() \u001b[38;5;241m-\u001b[39m here \u001b[38;5;241m+\u001b[39m \u001b[38;5;28mlen\u001b[39m(this))\n",
      "\u001b[1;31merror\u001b[0m: nothing to repeat at position 0"
     ]
    }
   ],
   "source": [
    "import re\n",
    "\n",
    "pat = re.compile(r\"[A-Za-z0-9]+\")    #  a-z0-9\n",
    "t=int(input())\n",
    "for i in range(t):\n",
    "    test = input()\n",
    "    tes=test\n",
    "    #if bool(re.search(r\".\",\"similarly\")):\n",
    "        #bool(re.search(r\".\",\"similarly\"))\n",
    "    print(bool(re.search(r\".\",test)))\n",
    "    print (bool(re.match(r\"+\",test)))\n",
    "\n"
   ]
  },
  {
   "cell_type": "code",
   "execution_count": null,
   "id": "c223e0fa",
   "metadata": {},
   "outputs": [],
   "source": [
    "4\n",
    "4.0O0\n",
    "-1.00\n",
    "+4.54\n",
    "SomeRandomStuff"
   ]
  },
  {
   "cell_type": "code",
   "execution_count": 149,
   "id": "d6e8d120",
   "metadata": {},
   "outputs": [
    {
     "name": "stdout",
     "output_type": "stream",
     "text": [
      "(0, 0)\n",
      "True\n",
      "<re.Match object; span=(0, 0), match=''>\n"
     ]
    }
   ],
   "source": [
    "p = re.compile('(,.)*')\n",
    "print(p.match('aba,babab.ab').span())\n",
    "print(bool(re.search(r\"(.,)\",\"a+b.a,+b+a\")))\n",
    "#(0, 10)\n",
    "print(p.match('aba,babab.ab'))"
   ]
  },
  {
   "cell_type": "code",
   "execution_count": 126,
   "id": "820f7b8b",
   "metadata": {},
   "outputs": [
    {
     "data": {
      "text/plain": [
       "10"
      ]
     },
     "execution_count": 126,
     "metadata": {},
     "output_type": "execute_result"
    }
   ],
   "source": [
    "len('ababababab')"
   ]
  },
  {
   "cell_type": "code",
   "execution_count": 142,
   "id": "37519283",
   "metadata": {},
   "outputs": [
    {
     "name": "stdout",
     "output_type": "stream",
     "text": [
      "4\n",
      "74.00\n",
      "True\n",
      ".100\n",
      "True\n",
      "75.00\n",
      "True\n",
      "--7.9\n",
      "False\n"
     ]
    }
   ],
   "source": [
    "# Enter your code here. Read input from STDIN. Print output to STDOUT\n",
    "import re\n",
    "for _ in range(int(input())):\n",
    "    print(re.search(r'^([-\\+])?\\d*\\.\\d+$', input()) is not None)"
   ]
  },
  {
   "cell_type": "code",
   "execution_count": 143,
   "id": "7a805cb7",
   "metadata": {},
   "outputs": [
    {
     "name": "stdout",
     "output_type": "stream",
     "text": [
      "2\n",
      "=90.0\n",
      "-+9.0\n",
      "False\n",
      "False\n"
     ]
    }
   ],
   "source": [
    "import re\n",
    "n= int(input())\n",
    "numbers = []\n",
    "for i in range(n):\n",
    "    i = input()\n",
    "    numbers.append(i)\n",
    "#print(len(numbers))\n",
    "for i in numbers:\n",
    "    print(bool(re.search(r'^[-+]?[0-9]*\\.[0-9]+$',i)))"
   ]
  },
  {
   "cell_type": "code",
   "execution_count": 160,
   "id": "24c03456",
   "metadata": {},
   "outputs": [
    {
     "name": "stdout",
     "output_type": "stream",
     "text": [
      "100,000,000.000\n",
      "100\n",
      "000\n",
      "000\n",
      "000\n"
     ]
    }
   ],
   "source": [
    "regex_pattern = r\"\\W+\"\t# Do not delete 'r'.\n",
    "\n",
    "import re\n",
    "print(\"\\n\".join(re.split(regex_pattern, input())))"
   ]
  },
  {
   "cell_type": "code",
   "execution_count": null,
   "id": "e94a0e71",
   "metadata": {},
   "outputs": [],
   "source": [
    "100,000,000.000"
   ]
  },
  {
   "cell_type": "code",
   "execution_count": 159,
   "id": "92669d4d",
   "metadata": {},
   "outputs": [
    {
     "name": "stdout",
     "output_type": "stream",
     "text": [
      "['100', '000', '000', '000']\n"
     ]
    }
   ],
   "source": [
    "import re\n",
    "\n",
    "s = '100,000,000.000'\n",
    "pattern = r'\\W+'\n",
    "\n",
    "l = re.split(pattern, s)\n",
    "print(l)"
   ]
  },
  {
   "cell_type": "code",
   "execution_count": 158,
   "id": "271ea345",
   "metadata": {},
   "outputs": [
    {
     "name": "stdout",
     "output_type": "stream",
     "text": [
      "['A', '! ', 'B', '. ', 'C D']\n"
     ]
    }
   ],
   "source": [
    "import re\n",
    "\n",
    "s = 'A! B. C D'\n",
    "pattern = r'(\\W+)'\n",
    "\n",
    "l = re.split(pattern, s, 2)\n",
    "print(l)"
   ]
  },
  {
   "cell_type": "code",
   "execution_count": 164,
   "id": "fc5ed380",
   "metadata": {},
   "outputs": [
    {
     "name": "stdout",
     "output_type": "stream",
     "text": [
      "['My', 'name', 'is', 'maximums', 'and', 'my', 'luck', 'numbers', 'are', '12', '45', '78']\n"
     ]
    }
   ],
   "source": [
    "import re\n",
    "\n",
    "target_string = \"My name is maximums and my luck numbers are 12 45 78\"\n",
    "# split on white-space \n",
    "word_list = re.split(r\"\\s+\", target_string)\n",
    "print(word_list)\n",
    "\n",
    "# Output ['My', 'name', 'is', 'maximums', 'and', 'my', 'luck', 'numbers', 'are', '12', '45', '78']"
   ]
  },
  {
   "cell_type": "code",
   "execution_count": 165,
   "id": "c1447e0e",
   "metadata": {},
   "outputs": [
    {
     "name": "stdout",
     "output_type": "stream",
     "text": [
      "username@hackerrank.com\n",
      "username\n",
      "hackerrank\n",
      "com\n",
      "('username', 'hackerrank', 'com')\n"
     ]
    }
   ],
   "source": [
    "import re\n",
    "m = re.match(r'(\\w+)@(\\w+)\\.(\\w+)','username@hackerrank.com')\n",
    "print(m.group(0))       # The entire match \n",
    "#'username@hackerrank.com'\n",
    "print(m.group(1))       # The first parenthesized subgroup.\n",
    "#'username'\n",
    "print(m.group(2))       # The second parenthesized subgroup.\n",
    "#'hackerrank'\n",
    "print(m.group(3))       # The third parenthesized subgroup.\n",
    "#'com'\n",
    "print(m.group(1,2,3))   # Multiple arguments give us a tuple.\n",
    "#('username', 'hackerrank', 'com')"
   ]
  },
  {
   "cell_type": "code",
   "execution_count": 166,
   "id": "ad9c3d5e",
   "metadata": {},
   "outputs": [
    {
     "name": "stdout",
     "output_type": "stream",
     "text": [
      "('username', 'hackerrank', 'com')\n"
     ]
    }
   ],
   "source": [
    "import re\n",
    "m = re.match(r'(\\w+)@(\\w+)\\.(\\w+)','username@hackerrank.com')\n",
    "print(m.groups())\n",
    "#('username', 'hackerrank', 'com')"
   ]
  },
  {
   "cell_type": "code",
   "execution_count": 167,
   "id": "d5528243",
   "metadata": {},
   "outputs": [
    {
     "name": "stdout",
     "output_type": "stream",
     "text": [
      "{'user': 'myname', 'website': 'hackerrank', 'extension': 'com'}\n"
     ]
    }
   ],
   "source": [
    "m = re.match(r'(?P<user>\\w+)@(?P<website>\\w+)\\.(?P<extension>\\w+)','myname@hackerrank.com')\n",
    "print(m.groupdict())\n",
    "#{'website': 'hackerrank', 'user': 'myname', 'extension': 'com'}"
   ]
  },
  {
   "cell_type": "code",
   "execution_count": 1,
   "id": "5cfc6287",
   "metadata": {},
   "outputs": [
    {
     "name": "stdout",
     "output_type": "stream",
     "text": [
      "('username', 'hackerrank', 'com')\n",
      "{'user': 'myname', 'website': 'hackerrank', 'extension': 'com'}\n"
     ]
    }
   ],
   "source": [
    "import re\n",
    "m = re.match(r'(\\w+)@(\\w+)\\.(\\w+)','username@hackerrank.com')\n",
    "print(m.groups())\n",
    "\n",
    "m = re.match(r'(?P<user>\\w+)@(?P<website>\\w+)\\.(?P<extension>\\w+)','myname@hackerrank.com')\n",
    "print(m.groupdict())"
   ]
  },
  {
   "cell_type": "code",
   "execution_count": 81,
   "id": "dc43688f",
   "metadata": {},
   "outputs": [
    {
     "ename": "AttributeError",
     "evalue": "'NoneType' object has no attribute 'groups'",
     "output_type": "error",
     "traceback": [
      "\u001b[1;31m---------------------------------------------------------------------------\u001b[0m",
      "\u001b[1;31mAttributeError\u001b[0m                            Traceback (most recent call last)",
      "Input \u001b[1;32mIn [81]\u001b[0m, in \u001b[0;36m<cell line: 3>\u001b[1;34m()\u001b[0m\n\u001b[0;32m      1\u001b[0m \u001b[38;5;28;01mimport\u001b[39;00m \u001b[38;5;21;01mre\u001b[39;00m\n\u001b[0;32m      2\u001b[0m m \u001b[38;5;241m=\u001b[39m re\u001b[38;5;241m.\u001b[39mmatch(\u001b[38;5;124mr\u001b[39m\u001b[38;5;124m'\u001b[39m\u001b[38;5;124m\\\u001b[39m\u001b[38;5;124md+\u001b[39m\u001b[38;5;124m'\u001b[39m,\u001b[38;5;124m'\u001b[39m\u001b[38;5;124m..12345678910111213141516171820212223\u001b[39m\u001b[38;5;124m'\u001b[39m)\n\u001b[1;32m----> 3\u001b[0m \u001b[38;5;28mprint\u001b[39m(\u001b[43mm\u001b[49m\u001b[38;5;241;43m.\u001b[39;49m\u001b[43mgroups\u001b[49m())\n\u001b[0;32m      4\u001b[0m m\n",
      "\u001b[1;31mAttributeError\u001b[0m: 'NoneType' object has no attribute 'groups'"
     ]
    }
   ],
   "source": [
    "import re\n",
    "m = re.match(r'\\d+','..12345678910111213141516171820212223')\n",
    "print(m.groups())\n",
    "m"
   ]
  },
  {
   "cell_type": "code",
   "execution_count": 35,
   "id": "3592695f",
   "metadata": {},
   "outputs": [],
   "source": [
    "m"
   ]
  },
  {
   "cell_type": "code",
   "execution_count": 109,
   "id": "898348d9",
   "metadata": {},
   "outputs": [
    {
     "data": {
      "text/plain": [
       "('2', '1111632')"
      ]
     },
     "execution_count": 109,
     "metadata": {},
     "output_type": "execute_result"
    }
   ],
   "source": [
    "m = re.match(r\"(\\d+)*.[0-9](\\d+)\", \"2.41111632\")\n",
    "m.groups()\n",
    "#('24', '1632')(?:a{6})*"
   ]
  },
  {
   "cell_type": "code",
   "execution_count": 157,
   "id": "0d42292d",
   "metadata": {},
   "outputs": [
    {
     "data": {
      "text/plain": [
       "()"
      ]
     },
     "execution_count": 157,
     "metadata": {},
     "output_type": "execute_result"
    }
   ],
   "source": [
    "m = re.match(r\"(?:a{6})*\", \"2.a6a66aaa41111632\")\n",
    "m.groups()\n",
    "#('24', '1632')"
   ]
  },
  {
   "cell_type": "code",
   "execution_count": 89,
   "id": "85872eb6",
   "metadata": {},
   "outputs": [
    {
     "data": {
      "text/plain": [
       "{'first_name': 'Malcolm', 'last_name': 'Reynolds'}"
      ]
     },
     "execution_count": 89,
     "metadata": {},
     "output_type": "execute_result"
    }
   ],
   "source": [
    "m = re.match(r\"(?P<first_name>\\w+) (?P<last_name>\\w+)\", \"Malcolm Reynolds\")\n",
    "m.groupdict()\n",
    "#{'first_name': 'Malcolm', 'last_name': 'Reynolds'}"
   ]
  },
  {
   "cell_type": "code",
   "execution_count": 90,
   "id": "773300ec",
   "metadata": {},
   "outputs": [
    {
     "name": "stdout",
     "output_type": "stream",
     "text": [
      "['foot', 'fell', 'fastest']\n"
     ]
    },
    {
     "data": {
      "text/plain": [
       "[('width', '20'), ('height', '10')]"
      ]
     },
     "execution_count": 90,
     "metadata": {},
     "output_type": "execute_result"
    }
   ],
   "source": [
    "print(re.findall(r'\\bf[a-z]*', 'which foot or 63839 hand fell fastest'))\n",
    "#['foot', 'fell', 'fastest']\n",
    "re.findall(r'(\\w+)=(\\d+)', 'set width=20 and height=10')\n",
    "#[('width', '20'), ('height', '10')]"
   ]
  },
  {
   "cell_type": "code",
   "execution_count": 91,
   "id": "a2522bcd",
   "metadata": {},
   "outputs": [
    {
     "name": "stdout",
     "output_type": "stream",
     "text": [
      "['63839']\n"
     ]
    }
   ],
   "source": [
    "print(re.findall(r'\\b6[0-9]*', 'which foot or 63839 hand fell fastest'))"
   ]
  },
  {
   "cell_type": "code",
   "execution_count": 55,
   "id": "3f2ec914",
   "metadata": {},
   "outputs": [
    {
     "data": {
      "text/plain": [
       "'Baked Beans & Spam'"
      ]
     },
     "execution_count": 55,
     "metadata": {},
     "output_type": "execute_result"
    }
   ],
   "source": [
    "re.sub(r'\\sAND\\s', ' & ', 'Baked Beans And Spam', flags=re.IGNORECASE)\n",
    "#'Baked Beans & Spam'"
   ]
  },
  {
   "cell_type": "code",
   "execution_count": 92,
   "id": "8015affa",
   "metadata": {},
   "outputs": [],
   "source": [
    "import re\n",
    "txt = \"The rain in Spain\"\n",
    "x = re.search(\"^The.*in$\", txt)"
   ]
  },
  {
   "cell_type": "code",
   "execution_count": 78,
   "id": "ef7ad092",
   "metadata": {},
   "outputs": [
    {
     "data": {
      "text/plain": [
       "<re.Match object; span=(0, 17), match='The rain in Spain'>"
      ]
     },
     "execution_count": 78,
     "metadata": {},
     "output_type": "execute_result"
    }
   ],
   "source": [
    "x"
   ]
  },
  {
   "cell_type": "code",
   "execution_count": 261,
   "id": "84d4c0c0",
   "metadata": {},
   "outputs": [
    {
     "name": "stdout",
     "output_type": "stream",
     "text": [
      "23\n"
     ]
    },
    {
     "data": {
      "text/plain": [
       "2"
      ]
     },
     "execution_count": 261,
     "metadata": {},
     "output_type": "execute_result"
    }
   ],
   "source": [
    "import re\n",
    "\n",
    "#Search for an upper case \"S\" character in the beginning of a word, and print the word:\n",
    "\n",
    "txt = \"The* raini234222n11113Spainaaaaaaaagfdgd\"\n",
    "x = re.search(r\"...1\", txt)\n",
    "x1 = re.search(r\"[0-9]{2,3}?\", txt)\n",
    "print(x1.group())  \n",
    "int(x1.group()[0])"
   ]
  },
  {
   "cell_type": "code",
   "execution_count": 138,
   "id": "2a46c1bb",
   "metadata": {},
   "outputs": [],
   "source": [
    "import re \n",
    "matcher=re.finditer(\"x\",\"a7b@k9z\") \n",
    "for match in matcher: \n",
    "    print(match.start(),\"......\",match.group())"
   ]
  },
  {
   "cell_type": "code",
   "execution_count": null,
   "id": "d3e6f91d",
   "metadata": {},
   "outputs": [],
   "source": [
    "(?:a{6})*"
   ]
  },
  {
   "cell_type": "code",
   "execution_count": 301,
   "id": "acf6022d",
   "metadata": {},
   "outputs": [
    {
     "name": "stdout",
     "output_type": "stream",
     "text": [
      "HackerRank\n",
      "-1\n"
     ]
    },
    {
     "data": {
      "text/plain": [
       "'[]'"
      ]
     },
     "execution_count": 301,
     "metadata": {},
     "output_type": "execute_result"
    }
   ],
   "source": []
  },
  {
   "cell_type": "code",
   "execution_count": 303,
   "id": "2f24d95e",
   "metadata": {},
   "outputs": [
    {
     "name": "stdout",
     "output_type": "stream",
     "text": [
      "...hakderRNK\n",
      "-1\n"
     ]
    }
   ],
   "source": [
    "import re\n",
    "\n",
    "#Search for an upper case \"S\" character in the beginning of a word, and print the word:\n",
    "#test_str=input()\n",
    "#str1=\"....ad22jjjjjjaaaddbbhndddhhdhdhfnjjj11188bfbdbnbsnbs\"  ..12345678910111213141516171820212223\n",
    "str1=input()\n",
    "patt = re.compile('\\\\B([a-zA-Z0-9])\\\\1\\\\B|\\\\b([a-zA-Z0-9])\\\\1')\n",
    "# patt = re.compile(r'27\\b')\n",
    "# patt = re.compile(r'\\d{5}-\\d{4}')\n",
    "# Task\n",
    "# Given a string with a lot of indian phone numbers starting from +91    \\\\B([a-zA-Z0-9])\\\\1\n",
    "res=''\n",
    "matches = patt.finditer(str1)\n",
    "for match in matches:\n",
    "    #print(match)\n",
    "    #print(match.span())\n",
    "    a,b=match.span()[0], match.span()[1]\n",
    "    #print(a,\"\\n\",b)\n",
    "    #print(str1[a:b])\n",
    "    res=str1[a]\n",
    "    break\n",
    "if res.isalnum()==False or res=='': \n",
    "    res='-1'\n",
    "print(res)"
   ]
  },
  {
   "cell_type": "code",
   "execution_count": 61,
   "id": "18d529e7",
   "metadata": {},
   "outputs": [
    {
     "name": "stdout",
     "output_type": "stream",
     "text": [
      "iugdjj7789hbbvvbhhhhh\n",
      "jj\n",
      "77\n",
      "bb\n",
      "vv\n",
      "hh\n",
      "hh\n",
      "h\n"
     ]
    }
   ],
   "source": [
    "import re\n",
    "\n",
    "#ad22jjjjjjaaaddbbhndddhhdhdhfnjjj11188bfbdbnbsnbs\"  ..12345678910111213141516171820212223\n",
    "str1=input()\n",
    "a=1\n",
    "patt = re.compile('\\\\B([a-zA-Z0-9])\\\\{}\\\\B|\\\\b([a-zA-Z0-9])\\\\1'.format(a))\n",
    "\n",
    "# Given a string with a lot of indian phone numbers starting from +91    \\\\B([a-zA-Z0-9])\\\\1\n",
    "res=''\n",
    "matches = patt.finditer(str1)\n",
    "for match in matches:\n",
    "    #print(match)\n",
    "    #print(match.span())\n",
    "    a,b=match.span()[0], match.span()[1]\n",
    "    #print(a,\"\\n\",b)\n",
    "    print(str1[a:b])\n",
    "    res=str1[a]\n",
    "    #break\n",
    "if res.isalnum()==False or res=='': \n",
    "    res='-1'\n",
    "print(res)"
   ]
  },
  {
   "cell_type": "code",
   "execution_count": 318,
   "id": "7d12c51a",
   "metadata": {},
   "outputs": [
    {
     "data": {
      "text/plain": [
       "['ha', 'ra']"
      ]
     },
     "execution_count": 318,
     "metadata": {},
     "output_type": "execute_result"
    }
   ],
   "source": [
    "import re\n",
    "re.findall(r'\\w[a,z]','http://www.hackerrank.com/')"
   ]
  },
  {
   "cell_type": "code",
   "execution_count": 139,
   "id": "a55dc41b",
   "metadata": {},
   "outputs": [
    {
     "name": "stdout",
     "output_type": "stream",
     "text": [
      "3\n"
     ]
    },
    {
     "data": {
      "text/plain": [
       "1"
      ]
     },
     "execution_count": 139,
     "metadata": {},
     "output_type": "execute_result"
    }
   ],
   "source": [
    "import re\n",
    "a=12\n",
    "b=23\n",
    "m = re.search(r'b{}*|{}b*'.format(a,b),'1234')\n",
    "print(m.end())\n",
    "m.start()"
   ]
  },
  {
   "cell_type": "code",
   "execution_count": 224,
   "id": "a1828d2f",
   "metadata": {},
   "outputs": [
    {
     "name": "stdout",
     "output_type": "stream",
     "text": [
      "<re.Match object; span=(2, 4), match='34'>\n",
      "(2, 4)\n"
     ]
    }
   ],
   "source": [
    "import re\n",
    "a=39\n",
    "b=34\n",
    "m = re.search(r'{}b*|{}\\b.*'.format(a, b),'1234')\n",
    "print(m)\n",
    "if bool(m)==True:\n",
    "    print((m.start(), m.end()))\n",
    "else:\n",
    "    print('-1')\n",
    "    \n"
   ]
  },
  {
   "cell_type": "code",
   "execution_count": 48,
   "id": "e456e310",
   "metadata": {},
   "outputs": [
    {
     "name": "stdout",
     "output_type": "stream",
     "text": [
      "aaadaa\n",
      "aa\n",
      "<callable_iterator object at 0x0000015091EF8340>\n",
      "<re.Match object; span=(0, 2), match='aa'>\n",
      "(0, 1)\n",
      "<re.Match object; span=(4, 6), match='aa'>\n",
      "(4, 5)\n",
      "aaadaa\n"
     ]
    }
   ],
   "source": [
    "import re\n",
    "s=input()\n",
    "k=input()\n",
    "s1=s\n",
    "#a=39\n",
    "b=34\n",
    "m = re.finditer(r'{}b*'.format(k),s1,re.IGNORECASE)\n",
    "print(m)\n",
    "for i in m:\n",
    "    #m = re.search(r'{}b*'.format(k),s1)    #  |{}\\b.*\n",
    "    print(i)\n",
    "    if bool(m)==True:\n",
    "        print((i.start(), i.end()-1))\n",
    "        #s1=s1.replace(s1[m.start():m.end()], '')\n",
    "    else:\n",
    "        print((-1,-1))\n",
    "print(s1)"
   ]
  },
  {
   "cell_type": "code",
   "execution_count": 73,
   "id": "57432580",
   "metadata": {},
   "outputs": [
    {
     "name": "stdout",
     "output_type": "stream",
     "text": [
      "aaadaa\n",
      "aa\n",
      "(0, 1)\n"
     ]
    }
   ],
   "source": [
    "import re\n",
    "s=input()\n",
    "k=input()\n",
    "s1=s\n",
    "#a=39\n",
    "b=34\n",
    "ini=0\n",
    "res=[]\n",
    "initial,final=0,0\n",
    "for i in range(len(s1[ini:len(s1)])):\n",
    "    #print(s1)\n",
    "    \n",
    "    m = re.search(r'{}b*'.format(k),s1[ini:len(k)])    #  |{}\\b.*\n",
    "    ini = ini+1\n",
    "\n",
    "    #print(m)\n",
    "    if bool(m)==True:\n",
    "        initial=ini+m.start()-1\n",
    "        final=initial+m.end()-1\n",
    "        res.append((initial, final))\n",
    "        #s1=s1.replace(k, '')\n",
    "        #print(s1.replace(k, ''))\n",
    "        #print(s1)\n",
    "        #s1=s1.replace(k[0], '')\n",
    "    else:\n",
    "        pass\n",
    "        #res.append((-1,-1))\n",
    "    if ini+1==len(s1)-2 or initial==len(s1)-1 or len(s1[ini:len(s1)])==1:\n",
    "        pass\n",
    "if res==[]:\n",
    "    print((-1,-1))\n",
    "else:\n",
    "    for i in res:\n",
    "        print(i)"
   ]
  },
  {
   "cell_type": "code",
   "execution_count": 214,
   "id": "6b14c85e",
   "metadata": {},
   "outputs": [
    {
     "name": "stdout",
     "output_type": "stream",
     "text": [
      "bd\n"
     ]
    },
    {
     "data": {
      "text/plain": [
       "'bd'"
      ]
     },
     "execution_count": 214,
     "metadata": {},
     "output_type": "execute_result"
    }
   ],
   "source": [
    "s='ahbd'\n",
    "s=s.replace('ah', '')\n",
    "print(s.replace('ah', ''))\n",
    "\n",
    "s"
   ]
  },
  {
   "cell_type": "code",
   "execution_count": 86,
   "id": "82edde47",
   "metadata": {},
   "outputs": [
    {
     "name": "stdout",
     "output_type": "stream",
     "text": [
      "vineetdoshi\n",
      "i\n",
      "(1, 1)\n",
      "(10, 10)\n"
     ]
    }
   ],
   "source": [
    "import re\n",
    "s=input()\n",
    "k=input()\n",
    "s1=s\n",
    "#a=39\n",
    "b=34\n",
    "ini=0\n",
    "res=[]\n",
    "initial,final=0,0\n",
    "for i in range(len(s1[initial:len(s1)])):\n",
    "    #print(s1)\n",
    "    m = re.search(r'{}b*'.format(k),s1[ini:ini+len(k)])    #  |{}\\b.*\n",
    "    ini = ini+1\n",
    "    if bool(m)==True:\n",
    "        initial=ini+m.start()-1\n",
    "        final=ini+m.end()-2\n",
    "        res.append((initial,final))\n",
    "    else:\n",
    "        initial=final\n",
    "        #final=initial+m.end()\n",
    "\n",
    "if res==[]:\n",
    "    print((-1,-1))\n",
    "else:\n",
    "    for i in res:\n",
    "        print(i)"
   ]
  },
  {
   "cell_type": "code",
   "execution_count": 69,
   "id": "84656474",
   "metadata": {},
   "outputs": [
    {
     "ename": "NameError",
     "evalue": "name 'aabcdeffgabcdef' is not defined",
     "output_type": "error",
     "traceback": [
      "\u001b[1;31m---------------------------------------------------------------------------\u001b[0m",
      "\u001b[1;31mNameError\u001b[0m                                 Traceback (most recent call last)",
      "Input \u001b[1;32mIn [69]\u001b[0m, in \u001b[0;36m<cell line: 1>\u001b[1;34m()\u001b[0m\n\u001b[1;32m----> 1\u001b[0m \u001b[43maabcdeffgabcdef\u001b[49m\n\u001b[0;32m      2\u001b[0m abcdef\n\u001b[0;32m      3\u001b[0m (\u001b[38;5;241m1\u001b[39m, \u001b[38;5;241m6\u001b[39m)\n",
      "\u001b[1;31mNameError\u001b[0m: name 'aabcdeffgabcdef' is not defined"
     ]
    }
   ],
   "source": [
    "aabcdeffgabcdef\n",
    "abcdef\n",
    "(1, 6)\n",
    "(9, 14)\n",
    "\n",
    "jjhv\n",
    "z\n",
    "(-1, -1)\n",
    "\n",
    "vineetdoshi\n",
    "i\n",
    "(1, 1)\n",
    "(10, 10)"
   ]
  },
  {
   "cell_type": "code",
   "execution_count": 89,
   "id": "1e457b11",
   "metadata": {},
   "outputs": [
    {
     "name": "stdout",
     "output_type": "stream",
     "text": [
      "rabcdeefgyYhFjkIoomnpOeorteeeeet\n",
      "ee\n",
      "Ioo\n",
      "Oeo\n",
      "eeeee\n"
     ]
    }
   ],
   "source": [
    "import re\n",
    "consonants = 'qwrtypsdfghjklzxcvbnm'\n",
    "vowels = 'aeiou'\n",
    "match = re.findall(r'(?<=['+consonants+'])(['+vowels+']{2,})(?=['+consonants+'])',input(),flags = re.I)\n",
    "if match:\n",
    "    for i in match:\n",
    "        print(i)\n",
    "else:\n",
    "    print(-1)"
   ]
  },
  {
   "cell_type": "code",
   "execution_count": 93,
   "id": "b4d26c01",
   "metadata": {},
   "outputs": [
    {
     "name": "stdout",
     "output_type": "stream",
     "text": [
      "11\n",
      "a = 1;\n",
      "a = 1;\n",
      "b=input();\n",
      "b=input();\n",
      "if a + b > 0 && a - b < 0:\n",
      "if a + b > 0 and a - b < 0:\n",
      "    start()\n",
      "    start()\n",
      "elif a*b > 10 || a/b < 1:\n",
      "elif a*b > 10 or a/b < 1:\n",
      "    stop()\n",
      "    stop()\n",
      "print set(list(a)) | set(list(b)) \n",
      "print set(list(a)) | set(list(b)) \n",
      "#Note do not change &&& or ||| or & or |\n",
      "#Note do not change &&& or ||| or & or |\n",
      "#Only change those '&&' which have space on both sides.\n",
      "#Only change those '&&' which have space on both sides.\n",
      "#Only change those '|| which have space on both sides.\n",
      "#Only change those '|| which have space on both sides.\n",
      "fgfg\n",
      "fgfg\n"
     ]
    }
   ],
   "source": [
    "import re\n",
    "\n",
    "n = int(input())\n",
    "for _ in range(0, n):\n",
    "    line = input()\n",
    "    line = re.sub(r'\\ [\\&]{2,2}\\ ', ' and ', line)\n",
    "    line = re.sub(r'\\ [\\|]{2,2}\\ ', ' or ', line)\n",
    "    line = re.sub(r'\\ [\\&]{2,2}\\ ', ' and ', line)\n",
    "    line = re.sub(r'\\ [\\|]{2,2}\\ ', ' or ', line)\n",
    "    print(line)"
   ]
  },
  {
   "cell_type": "code",
   "execution_count": null,
   "id": "00c2fc33",
   "metadata": {},
   "outputs": [],
   "source": [
    "11\n",
    "a = 1;\n",
    "b = input();\n",
    "\n",
    "if a + b > 0 && a - b < 0:\n",
    "    start()\n",
    "elif a*b > 10 || a/b < 1:\n",
    "    stop()\n",
    "print set(list(a)) | set(list(b)) \n",
    "#Note do not change &&& or ||| or & or |\n",
    "#Only change those '&&' which have space on both sides.\n",
    "#Only change those '|| which have space on both sides."
   ]
  },
  {
   "cell_type": "code",
   "execution_count": 98,
   "id": "8bab1866",
   "metadata": {},
   "outputs": [
    {
     "name": "stdout",
     "output_type": "stream",
     "text": [
      "ii\n",
      "False\n"
     ]
    }
   ],
   "source": [
    "# Enter your code here. Read input from STDIN. Print output to STDOUT\n",
    "#validating roman number\n",
    "import re\n",
    "pattern = '^(?=[MDCLXVI])M{0,3}(CM|CD|D?C{0,3})(XC|XL|L?X{0,3})(IX|IV|V?I{0,3})$'\n",
    "roman = str(input())\n",
    "if re.search(pattern, roman):\n",
    "    print('True')\n",
    "else:\n",
    "    print('False')"
   ]
  },
  {
   "cell_type": "code",
   "execution_count": null,
   "id": "106f4995",
   "metadata": {},
   "outputs": [],
   "source": [
    "# Validating phone numbers\n",
    "# Enter your code here. Read input from STDIN. Print output to STDOUT\n",
    "import re\n",
    "n = int(input())\n",
    "for i in range(n):\n",
    "    pattern = r'^[789]\\d{9}$'\n",
    "    print ( 'YES' if re.match(pattern,input()) else 'NO')"
   ]
  },
  {
   "cell_type": "code",
   "execution_count": 104,
   "id": "5c3997f1",
   "metadata": {},
   "outputs": [
    {
     "name": "stdout",
     "output_type": "stream",
     "text": [
      "1\n",
      "VIRUS <virus!@variable.:p>\n"
     ]
    }
   ],
   "source": [
    "# Validating and Parsing Email Addresses\n",
    "import re\n",
    "n = int(input())\n",
    "for i in range(n):\n",
    "    x, y = input().split(' ')\n",
    "    m = re.match(r'<[A-Za-z](\\w|-|\\.|_)+@[A-Za-z]+\\.[A-Za-z]{1,3}>', y)\n",
    "    if m:\n",
    "        print(x,y)"
   ]
  },
  {
   "cell_type": "code",
   "execution_count": 105,
   "id": "00c8ca79",
   "metadata": {},
   "outputs": [
    {
     "name": "stdout",
     "output_type": "stream",
     "text": [
      "1\n",
      "    color: #FfFdF8; background-color:#aef;\n",
      "#FfFdF8\n",
      "#aef\n"
     ]
    }
   ],
   "source": [
    "# Hex Color Code\n",
    "import re, sys\n",
    "\n",
    "x = int(input())\n",
    "for i in range(x):\n",
    "    line = input().strip()\n",
    "    codes = [j for j in re.findall('[\\s:](#[a-f0-9]{6}|#[a-f0-9]{3})[\\s:;,)]', line, re.I)]\n",
    "    for k in codes:\n",
    "        print(k)"
   ]
  },
  {
   "cell_type": "code",
   "execution_count": 109,
   "id": "8a3de5d3",
   "metadata": {},
   "outputs": [
    {
     "name": "stdout",
     "output_type": "stream",
     "text": [
      "1\n",
      "html\n"
     ]
    }
   ],
   "source": [
    "# HTML Parser - Part 1 hackerrank\n",
    "from html.parser import HTMLParser\n",
    "class MyHTMLParser(HTMLParser):\n",
    "    def handle_starttag(self, tag, attrs):        \n",
    "        print ('Start :',tag)\n",
    "        for i in attrs:\n",
    "            print ('->',i[0],'>',i[1])\n",
    "            \n",
    "    def handle_endtag(self, tag):\n",
    "        print ('End   :',tag)\n",
    "        \n",
    "    def handle_startendtag(self, tag, attrs):\n",
    "        print ('Empty :',tag)\n",
    "        for i in attrs:\n",
    "            print ('->',i[0],'>',i[1])\n",
    "            \n",
    "MyParser = MyHTMLParser()\n",
    "MyParser.feed(''.join([input().strip() for i in range(int(input()))]))"
   ]
  },
  {
   "cell_type": "code",
   "execution_count": 110,
   "id": "c74fe873",
   "metadata": {},
   "outputs": [
    {
     "name": "stdout",
     "output_type": "stream",
     "text": [
      "2\n",
      "<!--[if IE 9]>IE9-specific content\n",
      "<!--[if IE 9]>IE9-specific content\n",
      ">>> Data\n",
      "<!--[if IE 9]>\n",
      ">>> Data\n",
      "IE9-specific content\n",
      "\n",
      ">>> Data\n",
      "<!--[if IE 9]>\n",
      ">>> Data\n",
      "IE9-specific content\n",
      "\n"
     ]
    }
   ],
   "source": [
    "# HTML Parser - Part 2 in Python - Hacker Rank Solution\n",
    "# Python 3\n",
    "from html.parser import HTMLParser\n",
    "\n",
    "class MyHTMLParser(HTMLParser):\n",
    "\n",
    "    # HTML Parser - Part 2 in Python - Hacker Rank Solution START\n",
    "    def handle_comment(self, data):\n",
    "        if (len(data.split('\\n')) != 1):\n",
    "            print(\">>> Multi-line Comment\")\n",
    "        else:\n",
    "            print(\">>> Single-line Comment\")\n",
    "        print(data.replace(\"\\r\", \"\\n\"))\n",
    "    def handle_data(self, data):\n",
    "        if data.strip():\n",
    "            print(\">>> Data\")\n",
    "            print(data)\n",
    "    # HTML Parser - Part 2 in Python - Hacker Rank Solution END\n",
    "  \n",
    "html = \"\"       \n",
    "for i in range(int(input())):\n",
    "    html += input().rstrip()\n",
    "    html += '\\n'\n",
    "    \n",
    "parser = MyHTMLParser()\n",
    "parser.feed(html)\n",
    "parser.close()"
   ]
  },
  {
   "cell_type": "code",
   "execution_count": null,
   "id": "547c825a",
   "metadata": {},
   "outputs": [],
   "source": [
    "# HackerRank Detect HTML Tags, Attributes and Attribute values solution in python\n",
    "from html.parser import HTMLParser\n",
    "class MyHTMLParser(HTMLParser):\n",
    "    def handle_starttag(self, tag, attrs):\n",
    "        print(tag)\n",
    "        [print('-> {} > {}'.format(*attr)) for attr in attrs]\n",
    "        \n",
    "html = '\\n'.join([input() for i in range(int(input()))])\n",
    "parser = MyHTMLParser()\n",
    "parser.feed(html)\n",
    "parser.close()"
   ]
  },
  {
   "cell_type": "code",
   "execution_count": 111,
   "id": "aadffaa9",
   "metadata": {},
   "outputs": [
    {
     "name": "stdout",
     "output_type": "stream",
     "text": [
      "110000\n",
      "False\n"
     ]
    }
   ],
   "source": [
    "# Validating Postal Codes\n",
    "import re\n",
    "\n",
    "contain_6_digits = lambda x: bool(re.fullmatch(r'\\d{6}', x))\n",
    "alternate_digits = lambda x: len(re.findall(r'(\\d)\\1{1}', x[::2])) + len(re.findall(r'(\\d)\\1{1}', x[1::2])) < 2\n",
    "tests = [contain_6_digits, alternate_digits]\n",
    "\n",
    "s = input()\n",
    "print(all(map(lambda x: x(s), tests)))"
   ]
  },
  {
   "cell_type": "code",
   "execution_count": 112,
   "id": "fc1e4482",
   "metadata": {},
   "outputs": [
    {
     "ename": "SyntaxError",
     "evalue": "invalid syntax (2895903674.py, line 4)",
     "output_type": "error",
     "traceback": [
      "\u001b[1;36m  Input \u001b[1;32mIn [112]\u001b[1;36m\u001b[0m\n\u001b[1;33m    print bool(re.match(r'^(?!(?:.*(.).\\1.*){2,})(?!.*(.)(.)\\2\\3)[1-9]\\d{5}$', input()))\u001b[0m\n\u001b[1;37m          ^\u001b[0m\n\u001b[1;31mSyntaxError\u001b[0m\u001b[1;31m:\u001b[0m invalid syntax\n"
     ]
    }
   ],
   "source": [
    "# Enter your code here. Read input from STDIN. Print output to STDOUT\n",
    "import re\n",
    "\n",
    "print bool(re.match(r'^(?!(?:.*(.).\\1.*){2,})(?!.*(.)(.)\\2\\3)[1-9]\\d{5}$', input()))"
   ]
  },
  {
   "cell_type": "code",
   "execution_count": 113,
   "id": "63991ba5",
   "metadata": {},
   "outputs": [
    {
     "name": "stdout",
     "output_type": "stream",
     "text": [
      "110000\n",
      "False\n"
     ]
    }
   ],
   "source": [
    "# Validating Postal Codes in Python - Hacker Rank Solution\n",
    "# Python 3\n",
    "\n",
    "# Validating Postal Codes in Python - Hacker Rank Solution START\n",
    "regex_integer_in_range = r\"^[1-9][\\d]{5}$\"    \n",
    "regex_alternating_repetitive_digit_pair = r\"(\\d)(?=\\d\\1)\"  # Do not delete 'r'.\n",
    "# Validating Postal Codes in Python - Hacker Rank Solution END\n",
    "\n",
    "import re\n",
    "P = input()\n",
    "\n",
    "print (bool(re.match(regex_integer_in_range, P)) \n",
    "and len(re.findall(regex_alternating_repetitive_digit_pair, P)) < 2)"
   ]
  },
  {
   "cell_type": "code",
   "execution_count": 114,
   "id": "dc584bd7",
   "metadata": {},
   "outputs": [
    {
     "name": "stdout",
     "output_type": "stream",
     "text": [
      "7 3\n",
      "Tsi\n",
      "h%x\n",
      "i #\n",
      "sM \n",
      "$a \n",
      "#t%\n",
      "ir!\n",
      "This is Matrix#  %!\n"
     ]
    }
   ],
   "source": [
    "# Matrix Script regex hackerrank\n",
    "import math\n",
    "import os\n",
    "import random\n",
    "import re\n",
    "import sys\n",
    "\n",
    "\n",
    "first_multiple_input = input().rstrip().split()\n",
    "\n",
    "n = int(first_multiple_input[0])\n",
    "\n",
    "m = int(first_multiple_input[1])\n",
    "\n",
    "matrix = []\n",
    "\n",
    "for i in range(n):\n",
    "    matrix_item = input()\n",
    "    matrix.append(matrix_item)\n",
    "\n",
    "encoded_string = \"\".join([matrix[j][i] for i in range(m) for j in range(n)])\n",
    "pat = r'(?<=[a-zA-Z0-9])[^a-zA-Z0-9]+(?=[a-zA-Z0-9])'\n",
    "print(re.sub(pat,' ',encoded_string))"
   ]
  },
  {
   "cell_type": "code",
   "execution_count": null,
   "id": "f673a97f",
   "metadata": {},
   "outputs": [],
   "source": [
    "7 3\n",
    "Tsi\n",
    "h%x\n",
    "i #\n",
    "sM \n",
    "$a \n",
    "#t%\n",
    "ir!"
   ]
  },
  {
   "cell_type": "code",
   "execution_count": null,
   "id": "ffc237f7",
   "metadata": {},
   "outputs": [],
   "source": [
    "#DefaultDict Tutorial solution in Python\n",
    "from collections import defaultdict\n",
    "d = defaultdict(list)\n",
    "list1=[]\n",
    "n, m = map(int,input().split())\n",
    "for i in range(1, n+1):\n",
    "    d[input()].append(str(i))\n",
    "\n",
    "\n",
    "for j in range(m):\n",
    "    b = input()\n",
    "    if b in d: print(' '.join(d[b]))\n",
    "    else: print(-1)"
   ]
  },
  {
   "cell_type": "code",
   "execution_count": null,
   "id": "f9de320a",
   "metadata": {},
   "outputs": [],
   "source": [
    "# HackerRank Time Delta problem solution in python\n",
    "import datetime\n",
    "\n",
    "format_string = \"%a %d %b %Y %H:%M:%S %z\"\n",
    "T = int(input())\n",
    "\n",
    "for test in range(T):\n",
    "    t1 = str(input())\n",
    "    t2 = str(input())\n",
    "\n",
    "    parsed_t1 = datetime.datetime.strptime(t1, format_string)\n",
    "    parsed_t2 = datetime.datetime.strptime(t2, format_string)\n",
    "\n",
    "    diff = parsed_t2 - parsed_t1\n",
    "\n",
    "    print (int(abs(diff.total_seconds())))"
   ]
  },
  {
   "cell_type": "code",
   "execution_count": null,
   "id": "dd3a0157",
   "metadata": {},
   "outputs": [],
   "source": [
    "# The Minion Game hackerrank solution\n",
    "def minion_game(string):\n",
    "    # your code goes here\n",
    "    \n",
    "    vowels = 'AEIOU'\n",
    "    Stuart_score, Kevin_score = 0, 0\n",
    "    length = len(string)\n",
    "    for start_idx in range(length):\n",
    "        score = length - start_idx\n",
    "        if string[start_idx] in vowels:\n",
    "            Kevin_score += score\n",
    "        else:\n",
    "            Stuart_score += score\n",
    "    if Stuart_score == Kevin_score:\n",
    "        print('Draw')\n",
    "    if Stuart_score > Kevin_score:\n",
    "        print('Stuart {}'.format(Stuart_score))\n",
    "    if Stuart_score < Kevin_score:\n",
    "        print('Kevin {}'.format(Kevin_score))\n",
    "    \n",
    "    \n",
    "\n",
    "if __name__ == '__main__':\n",
    "    s = input()\n",
    "    minion_game(s)"
   ]
  },
  {
   "cell_type": "code",
   "execution_count": null,
   "id": "ff3715aa",
   "metadata": {},
   "outputs": [],
   "source": [
    "# Standardize Mobile Number Using Decorators\n",
    "def wrapper(fun):\n",
    "    def phone(ll):\n",
    "        fun([\"+91 \"+cn[-10:-5]+\" \"+cn[-5:] for cn in ll])\n",
    "    return phone\n",
    "@wrapper\n",
    "def sort_phone(l):\n",
    "    print(*sorted(l), sep='\\n')\n",
    "\n",
    "if __name__ == '__main__':\n",
    "    l = [input() for _ in range(int(input()))]\n",
    "    sort_phone(l) \n",
    "\n"
   ]
  },
  {
   "cell_type": "code",
   "execution_count": null,
   "id": "19a18cf8",
   "metadata": {},
   "outputs": [],
   "source": [
    "#HackerRank Piling Up! problem solution in python\n",
    "for t in range(int(input())):\n",
    "    input()\n",
    "    lst = [int(i) for i in input().split()]\n",
    "    min_list = lst.index(min(lst))\n",
    "    left = lst[:min_list]\n",
    "    right = lst[min_list+1:]\n",
    "    if left == sorted(left,reverse=True) and right == sorted(right):\n",
    "        print(\"Yes\")\n",
    "    else:\n",
    "        print(\"No\")"
   ]
  },
  {
   "cell_type": "code",
   "execution_count": null,
   "id": "310ae2db",
   "metadata": {},
   "outputs": [],
   "source": [
    "# HackerRank Decorators 2 - Name Directory solution in python\n",
    "def person_lister(f):\n",
    "    def inner(people):\n",
    "        age=[]\n",
    "        for i in people:\n",
    "            age.append(i[2])\n",
    "        age.sort()\n",
    "        people_new=[]\n",
    "        for i in age:\n",
    "            for j in people:\n",
    "                if j[2]==i:\n",
    "                    people_new.append(j)\n",
    "                    people.remove(j)\n",
    "                    break\n",
    "                else:\n",
    "                    continue \n",
    "        people=people_new\n",
    "        for person in people:\n",
    "            print(f(person))\n",
    "        \n",
    "    return inner"
   ]
  },
  {
   "cell_type": "code",
   "execution_count": null,
   "id": "488ff234",
   "metadata": {},
   "outputs": [],
   "source": [
    "# HackerRank Decorators 2 - Name Directory solution in python\n",
    "\n",
    "def person_lister(f):\n",
    "    def inner(people):\n",
    "        return map(f, sorted(people, key=lambda x: int(x[2])))\n",
    "    return inner"
   ]
  },
  {
   "cell_type": "code",
   "execution_count": null,
   "id": "a606c0a5",
   "metadata": {},
   "outputs": [],
   "source": [
    "# HackerRank Words Score problem solution in python\n",
    "def is_vowel(letter):\n",
    "    return letter in ['a', 'e', 'i', 'o', 'u', 'y']\n",
    "\n",
    "def score_words(words):\n",
    "    score = 0\n",
    "    for word in words:\n",
    "        num_vowels = 0\n",
    "        for letter in word:\n",
    "            if is_vowel(letter):\n",
    "                num_vowels += 1\n",
    "        if num_vowels % 2 == 0:\n",
    "            score += 2\n",
    "        else:\n",
    "            score += 1\n",
    "            \n",
    "    return score\n",
    "\n",
    "n = int(input())\n",
    "words = input().split()\n",
    "print(score_words(words))"
   ]
  },
  {
   "cell_type": "code",
   "execution_count": null,
   "id": "11174981",
   "metadata": {},
   "outputs": [],
   "source": [
    "# HackerRank Dot and Cross problem solution in python\n",
    "import numpy\n",
    "n=int(input())\n",
    "a = numpy.array([input().split() for _ in range(n)],int)\n",
    "b = numpy.array([input().split() for _ in range(n)],int)\n",
    "m = numpy.dot(a,b)\n",
    "print (m)"
   ]
  },
  {
   "cell_type": "code",
   "execution_count": null,
   "id": "6d12790e",
   "metadata": {},
   "outputs": [],
   "source": [
    "# Default Arguments in Python - Hacker Rank Solution\n",
    "# Python 3\n",
    "class EvenStream(object):\n",
    "    def __init__(self):\n",
    "        self.current = 0\n",
    "\n",
    "    def get_next(self):\n",
    "        to_return = self.current\n",
    "        self.current += 2\n",
    "        return to_return\n",
    "\n",
    "class OddStream(object):\n",
    "    def __init__(self):\n",
    "        self.current = 1\n",
    "\n",
    "    def get_next(self):\n",
    "        to_return = self.current\n",
    "        self.current += 2\n",
    "        return to_return\n",
    "        \n",
    "# Default Arguments in Python - Hacker Rank Solution START ----->\n",
    "def print_from_stream(n, stream=None):\n",
    "    if stream is None:\n",
    "        stream = EvenStream()\n",
    "# Default Arguments in Python - Hacker Rank Solution END ----->\n",
    "    for _ in range(n):\n",
    "        print(stream.get_next())\n",
    "\n",
    "\n",
    "queries = int(input())\n",
    "for _ in range(queries):\n",
    "    stream_name, n = input().split()\n",
    "    n = int(n)\n",
    "    if stream_name == \"even\":\n",
    "        print_from_stream(n)\n",
    "    else:\n",
    "        print_from_stream(n, OddStream())"
   ]
  },
  {
   "cell_type": "code",
   "execution_count": null,
   "id": "37441414",
   "metadata": {},
   "outputs": [],
   "source": [
    "# HackerRank Inner and Outer problem solution in python\n",
    "import numpy as np\n",
    "a = [int(i) for i in input().split()]\n",
    "b = [int(i) for i in input().split()]\n",
    "print(np.inner(a,b))\n",
    "print(np.outer(a,b))"
   ]
  },
  {
   "cell_type": "code",
   "execution_count": null,
   "id": "788289f5",
   "metadata": {},
   "outputs": [],
   "source": [
    "# HackerRank Polynomials problem solution in python\n",
    "import numpy\n",
    "n = list(map(float,input().split()))\n",
    "m = input()\n",
    "print(numpy.polyval(n,int(m)))"
   ]
  },
  {
   "cell_type": "code",
   "execution_count": null,
   "id": "0e47ef20",
   "metadata": {},
   "outputs": [],
   "source": [
    "# HackerRank Linear Algebra problem solution in python\n",
    "import numpy\n",
    "n=int(input())\n",
    "a=numpy.array([input().split() for _ in range(n)],float)\n",
    "numpy.set_printoptions(legacy='1.13') #important\n",
    "print(numpy.linalg.det(a))"
   ]
  },
  {
   "cell_type": "code",
   "execution_count": null,
   "id": "2760c6c2",
   "metadata": {},
   "outputs": [],
   "source": [
    "# XML 1 - Find the Score in Python - Hacker Rank Solution\n",
    "# Python 3\n",
    "\n",
    "import sys\n",
    "import xml.etree.ElementTree as etree\n",
    "\n",
    "def get_attr_number(node):\n",
    "    # your code goes here\n",
    "    # XML 1 - Find the Score in Python - Hacker Rank Solution START\n",
    "    count = 0\n",
    "    for tag in node:\n",
    "        count = count + get_attr_number(tag)\n",
    "    return count + len(node.attrib)\n",
    "    # XML 1 - Find the Score in Python - Hacker Rank Solution END\n",
    "\n",
    "if __name__ == '__main__':\n",
    "    sys.stdin.readline()\n",
    "    xml = sys.stdin.read()\n",
    "    tree = etree.ElementTree(etree.fromstring(xml))\n",
    "    root = tree.getroot()\n",
    "    print(get_attr_number(root))"
   ]
  },
  {
   "cell_type": "code",
   "execution_count": null,
   "id": "a1136b16",
   "metadata": {},
   "outputs": [],
   "source": [
    "# HackerRank XML2 Find the Maximum Depth solution in python\n",
    "# XML2 - Find the Maximum Depth in Python - Hacker Rank Solution\n",
    "# Python 3\n",
    "\n",
    "import xml.etree.ElementTree as etree\n",
    "\n",
    "maxdepth = 0\n",
    "def depth(elem, level):\n",
    "    global maxdepth\n",
    "    # your code goes here\n",
    "    # XML2 - Find the Maximum Depth in Python - Hacker Rank Solution START\n",
    "    if (level == maxdepth):\n",
    "        maxdepth += 1\n",
    "    for child in elem:\n",
    "        depth(child, level + 1)\n",
    "    # XML2 - Find the Maximum Depth in Python - Hacker Rank Solution END\n",
    "\n",
    "if __name__ == '__main__':\n",
    "    n = int(input())\n",
    "    xml = \"\"\n",
    "    for i in range(n):\n",
    "        xml =  xml + input() + \"\\n\"\n",
    "    tree = etree.ElementTree(etree.fromstring(xml))\n",
    "    depth(tree.getroot(), -1)\n",
    "    print(maxdepth)"
   ]
  },
  {
   "cell_type": "code",
   "execution_count": null,
   "id": "d0e1c5bc",
   "metadata": {},
   "outputs": [],
   "source": [
    "# # Classes Dealing with Complex Numbers in python - Hacker Rank Solution\n",
    "# Python 3\n",
    "\n",
    "import math\n",
    "\n",
    "class Complex(object):\n",
    "# Classes Dealing with Complex Numbers in python - Hacker Rank Solution START\n",
    "    def __init__(self, real, imaginary):\n",
    "        self.real = real\n",
    "        self.imaginary = imaginary\n",
    "        \n",
    "    def __add__(self, no):\n",
    "        real = self.real + no.real\n",
    "        imaginary = self.imaginary + no.imaginary\n",
    "        return Complex(real,imaginary)\n",
    "        \n",
    "    def __sub__(self, no):\n",
    "        real = self.real - no.real\n",
    "        imaginary = self.imaginary - no.imaginary\n",
    "        return Complex(real,imaginary)\n",
    "        \n",
    "    def __mul__(self, no):\n",
    "        real = self.real * no.real - self.imaginary * no.imaginary\n",
    "        imaginary = self.real * no.imaginary + self.imaginary * no.real\n",
    "        return Complex(real,imaginary)\n",
    "\n",
    "    def __truediv__(self, no):\n",
    "        x = float(no.real ** 2 + no.imaginary ** 2)\n",
    "        y = self * Complex(no.real, -no.imaginary)\n",
    "        real = y.real / x\n",
    "        imaginary = y.imaginary / x\n",
    "        return Complex(real, imaginary)\n",
    "\n",
    "    def mod(self):\n",
    "        real = math.sqrt(self.real ** 2 + self.imaginary ** 2)\n",
    "        return Complex(real, 0)\n",
    "# Classes Dealing with Complex Numbers in python - Hacker Rank Solution END\n",
    "\n",
    "    def __str__(self):\n",
    "        if self.imaginary == 0:\n",
    "            result = \"%.2f+0.00i\" % (self.real)\n",
    "        elif self.real == 0:\n",
    "            if self.imaginary >= 0:\n",
    "                result = \"0.00+%.2fi\" % (self.imaginary)\n",
    "            else:\n",
    "                result = \"0.00-%.2fi\" % (abs(self.imaginary))\n",
    "        elif self.imaginary > 0:\n",
    "            result = \"%.2f+%.2fi\" % (self.real, self.imaginary)\n",
    "        else:\n",
    "            result = \"%.2f-%.2fi\" % (self.real, abs(self.imaginary))\n",
    "        return result\n",
    "\n",
    "if __name__ == '__main__':\n",
    "    c = map(float, input().split())\n",
    "    d = map(float, input().split())\n",
    "    x = Complex(*c)\n",
    "    y = Complex(*d)\n",
    "    print(*map(str, [x+y, x-y, x*y, x/y, x.mod(), y.mod()]), sep='\\n')"
   ]
  },
  {
   "cell_type": "code",
   "execution_count": null,
   "id": "7644008f",
   "metadata": {},
   "outputs": [],
   "source": [
    "## Class 2 - Find the Torsional Angle in Python - HackerRank Solution\n",
    "# Python 3\n",
    "import math\n",
    "\n",
    "class Points(object):\n",
    "# Class 2 - Find the Torsional Angle in Python - HackerRank Solution START\n",
    "    def __init__(self, x, y, z):\n",
    "        self.x = x\n",
    "        self.y = y\n",
    "        self.z = z\n",
    "\n",
    "    def __sub__(self, no):\n",
    "        x = self.x - no.x\n",
    "        y = self.y - no.y\n",
    "        z = self.z - no.z\n",
    "        return Points(x, y, z)\n",
    "\n",
    "    def dot(self, no):\n",
    "        x = self.x * no.x\n",
    "        y = self.y * no.y\n",
    "        z = self.z * no.z\n",
    "        return x + y + z\n",
    "\n",
    "    def cross(self, no):\n",
    "        x = self.y * no.z - self.z * no.y\n",
    "        y = self.z * no.x - self.x * no.z\n",
    "        z = self.x * no.y - self.y * no.x\n",
    "        return Points(x, y, z)\n",
    "\n",
    "# Class 2 - Find the Torsional Angle in Python - HackerRank Solution END\n",
    "    \n",
    "    def absolute(self):\n",
    "        return pow((self.x ** 2 + self.y ** 2 + self.z ** 2), 0.5)\n",
    "\n",
    "if __name__ == '__main__':\n",
    "    points = list()\n",
    "    for i in range(4):\n",
    "        a = list(map(float, input().split()))\n",
    "        points.append(a)\n",
    "\n",
    "    a, b, c, d = Points(*points[0]), Points(*points[1]), Points(*points[2]), Points(*points[3])\n",
    "    x = (b - a).cross(c - b)\n",
    "    y = (c - b).cross(d - c)\n",
    "    angle = math.acos(x.dot(y) / (x.absolute() * y.absolute()))\n",
    "\n",
    "    print(\"%.2f\" % math.degrees(angle))\n"
   ]
  },
  {
   "cell_type": "code",
   "execution_count": null,
   "id": "11b99aca",
   "metadata": {},
   "outputs": [],
   "source": [
    "# HackerRank Validating Email Addresses with a Filter solution in python\n"
   ]
  },
  {
   "cell_type": "code",
   "execution_count": null,
   "id": "04e33f55",
   "metadata": {},
   "outputs": [],
   "source": [
    "# # Map and Lambda Function in Python - Hacker Rank Solution\n",
    "# Python 3\n",
    "cube = lambda x: x**3# complete the lambda function \n",
    "\n",
    "def fibonacci(n):\n",
    "    # return a list of fibonacci numbers\n",
    "    # Map and Lambda Function in Python - Hacker Rank Solution START\n",
    "    storage = [0, 1]\n",
    "    for i in range(2, n):\n",
    "        storage.append(storage[i-1] + storage[i-2])\n",
    "    return(storage[0:n])\n",
    "    # Map and Lambda Function in Python - Hacker Rank Solution END\n",
    "    \n",
    "if __name__ == '__main__':\n",
    "    n = int(input())\n",
    "    print(list(map(cube, fibonacci(n))))"
   ]
  },
  {
   "cell_type": "code",
   "execution_count": null,
   "id": "082d6a84",
   "metadata": {},
   "outputs": [],
   "source": [
    "## Reduce Function in Python - Hacker Rank Solution\n",
    "# Python 3\n",
    "\n",
    "from fractions import Fraction\n",
    "from functools import reduce\n",
    "\n",
    "def product(fracs):\n",
    "    # Reduce Function in Python - Hacker Rank Solution START\n",
    "    t = Fraction(reduce(lambda x, y: x * y, fracs)) # complete this line with a reduce statement\n",
    "    # Reduce Function in Python - Hacker Rank Solution END\n",
    "    return t.numerator, t.denominator\n",
    "\n",
    "if __name__ == '__main__':\n",
    "    fracs = []\n",
    "    for _ in range(int(input())):\n",
    "        fracs.append(Fraction(*map(int, input().split())))\n",
    "    result = product(fracs)\n",
    "    print(*result)"
   ]
  },
  {
   "cell_type": "code",
   "execution_count": null,
   "id": "7f7b6571",
   "metadata": {},
   "outputs": [],
   "source": [
    "# HackerRank Compare the Triplets problem solution\n",
    "import math\n",
    "import os\n",
    "import random\n",
    "import re\n",
    "import sys\n",
    "\n",
    "# Complete the compareTriplets function below.\n",
    "def compareTriplets(a, b):\n",
    "    nas = []\n",
    "    x=0\n",
    "    y=0\n",
    "    for i in range(0,len(a)):\n",
    "\n",
    "        if a[i]>b[i]:\n",
    "            x=x+1\n",
    "        elif b[i]>a[i]:\n",
    "            y=y+1\n",
    "        else:\n",
    "            continue\n",
    "    nas.append(x)\n",
    "    nas.append(y)\n",
    "    return nas\n",
    "\n",
    "    \n",
    "\n",
    "if __name__ == '__main__':\n",
    "    fptr = open(os.environ['OUTPUT_PATH'], 'w')\n",
    "\n",
    "    a = list(map(int, input().rstrip().split()))\n",
    "\n",
    "    b = list(map(int, input().rstrip().split()))\n",
    "\n",
    "    result = compareTriplets(a, b)\n",
    "\n",
    "    fptr.write(' '.join(map(str, result)))\n",
    "    fptr.write('\\n')\n",
    "\n",
    "    fptr.close()"
   ]
  },
  {
   "cell_type": "code",
   "execution_count": 115,
   "id": "0fbbe522",
   "metadata": {},
   "outputs": [
    {
     "name": "stdout",
     "output_type": "stream",
     "text": [
      "6 \n",
      "-4 3 -9 0 4 1\n",
      "0.5\n",
      "0.3333333333333333\n",
      "0.16666666666666666\n"
     ]
    }
   ],
   "source": [
    "# HackerRank Plus Minus problem solution\n",
    "\n",
    "import math\n",
    "import os\n",
    "import random\n",
    "import re\n",
    "import sys\n",
    "\n",
    "# Complete the plusMinus function below.\n",
    "def plusMinus(arr):\n",
    "    x,z,y=0,0,0\n",
    "    for i in range(0,len(arr)):\n",
    "        if arr[i]>0:\n",
    "            x = x + 1\n",
    "        elif arr[i]<0:\n",
    "            y = y + 1\n",
    "        else:\n",
    "            z = z + 1\n",
    "    print(x/len(arr))\n",
    "    print(y/len(arr))\n",
    "    print(z/len(arr))\n",
    "\n",
    "if __name__ == '__main__':\n",
    "    n = int(input())\n",
    "\n",
    "    arr = list(map(int, input().rstrip().split()))\n",
    "\n",
    "    plusMinus(arr)"
   ]
  },
  {
   "cell_type": "code",
   "execution_count": 116,
   "id": "1e8280dc",
   "metadata": {},
   "outputs": [
    {
     "data": {
      "text/plain": [
       "[5, 15, 6, 18]"
      ]
     },
     "execution_count": 116,
     "metadata": {},
     "output_type": "execute_result"
    }
   ],
   "source": [
    "l1=[-4,1,5,0,6]\n",
    "l2=[1,2,3,4]\n",
    "l3=[i*j for i in l1 for j in l2 if i>1 if j%2!=0]\n",
    "l3"
   ]
  },
  {
   "cell_type": "code",
   "execution_count": 118,
   "id": "5148ede6",
   "metadata": {},
   "outputs": [
    {
     "name": "stdout",
     "output_type": "stream",
     "text": [
      "htttp.www.wikipedia.com\n",
      "Number of matches : 1\n"
     ]
    }
   ],
   "source": [
    "Regex_Pattern = r'wikipedia'\t# Do not delete 'r'.\n",
    "\n",
    "import re\n",
    "\n",
    "Test_String = input()\n",
    "\n",
    "match = re.findall(Regex_Pattern, Test_String)\n",
    "\n",
    "print(\"Number of matches :\", len(match))"
   ]
  },
  {
   "cell_type": "code",
   "execution_count": 128,
   "id": "2093427d",
   "metadata": {},
   "outputs": [
    {
     "name": "stdout",
     "output_type": "stream",
     "text": [
      "abcdf\n",
      "false\n"
     ]
    }
   ],
   "source": [
    "regex_pattern = r\"[a-z]{3}[.]b*\"\t# Do not delete 'r'.\n",
    "\n",
    "import re\n",
    "import sys\n",
    "\n",
    "test_string = input()\n",
    "\n",
    "match = re.match(regex_pattern, test_string) is not None\n",
    "\n",
    "print(str(match).lower())"
   ]
  },
  {
   "cell_type": "code",
   "execution_count": 136,
   "id": "17fbef0e",
   "metadata": {},
   "outputs": [
    {
     "name": "stdout",
     "output_type": "stream",
     "text": [
      "abc.\n",
      "false\n"
     ]
    }
   ],
   "source": [
    "#  Matching Anything But a Newline - Hacker Rank Solutions\n",
    "regex_pattern = r\"^...\\....\\....\\....$\"\t# Do not delete 'r'.\n",
    "\n",
    "import re\n",
    "import sys\n",
    "\n",
    "test_string = input()\n",
    "\n",
    "match = re.match(regex_pattern, test_string) is not None\n",
    "\n",
    "print(str(match).lower())"
   ]
  },
  {
   "cell_type": "code",
   "execution_count": 133,
   "id": "b4bcdcb8",
   "metadata": {},
   "outputs": [
    {
     "name": "stdout",
     "output_type": "stream",
     "text": [
      "hack101\n",
      "false\n"
     ]
    }
   ],
   "source": [
    "# Matching Digits & Non-Digit Characters\n",
    "#You have a test string S. Your task is to match the pattern xxXxxXxxxx \n",
    "#Here x denotes a digit character, and X denotes a non-digit character.\n",
    "Regex_Pattern = r\"\\d\\d\\D\\d\\d\\D\\d\\d\\d\\d\"\t# Do not delete 'r'.\n",
    "\n",
    "import re\n",
    "\n",
    "print(str(bool(re.search(Regex_Pattern, input()))).lower())"
   ]
  },
  {
   "cell_type": "code",
   "execution_count": 134,
   "id": "c66f6886",
   "metadata": {},
   "outputs": [
    {
     "name": "stdout",
     "output_type": "stream",
     "text": [
      "XXx XXx XX\n",
      "false\n"
     ]
    }
   ],
   "source": [
    "# Matching Whitespace & Non-Whitespace Character\n",
    "Regex_Pattern = r\"\\S\\S\\s\\S\\S\\s\\S\\S\"\t# Do not delete 'r'.\n",
    "\n",
    "import re\n",
    "print(str(bool(re.search(Regex_Pattern, input()))).lower())"
   ]
  },
  {
   "cell_type": "code",
   "execution_count": 135,
   "id": "9a16a926",
   "metadata": {},
   "outputs": [
    {
     "name": "stdout",
     "output_type": "stream",
     "text": [
      "sub@bhart\n",
      "false\n"
     ]
    }
   ],
   "source": [
    "#Matching Word & Non-Word Character\n",
    "# \\w   -word   \\W  -non word\n",
    "Regex_Pattern = r\"\\w\\w\\w\\W\\w\\w\\w\\w\\w\\w\\w\\w\\w\\w\\W\\w\\w\\w\"\t# Do not delete 'r'.\n",
    "\n",
    "import re\n",
    "print(str(bool(re.search(Regex_Pattern, input()))).lower())"
   ]
  },
  {
   "cell_type": "code",
   "execution_count": 139,
   "id": "f974743a",
   "metadata": {},
   "outputs": [
    {
     "name": "stdout",
     "output_type": "stream",
     "text": [
      "3 wwww\n",
      "false\n"
     ]
    }
   ],
   "source": [
    "# Matching Start & End\n",
    "Regex_Pattern = r\"^\\d\\w{4}\\.$\"\t# Do not delete 'r'.\n",
    "import re\n",
    "print(str(bool(re.search(Regex_Pattern, input()))).lower())"
   ]
  },
  {
   "cell_type": "code",
   "execution_count": 141,
   "id": "2aa9db68",
   "metadata": {},
   "outputs": [
    {
     "name": "stdout",
     "output_type": "stream",
     "text": [
      "sfgjlkj\n",
      "false\n"
     ]
    }
   ],
   "source": [
    "# Matching Specific Characters of\n",
    "'''\n",
    "Task\n",
    "\n",
    "You have a test string S.\n",
    "Your task is to write a regex that will match  with following conditions:\n",
    "\n",
    "S must be of length: 6\n",
    "First character: 1, 2 or 3\n",
    "Second character: 1, 2 or 0\n",
    "Third character: x, s or 0\n",
    "Fourth character: 3, 0 , A or a\n",
    "Fifth character: x, s or u\n",
    "Sixth character: . or ,\n",
    "'''\n",
    "Regex_Pattern = r'^[123][120][xs0][30Aa][xsu][.,]$'\t# Do not delete 'r'.\n",
    "import re\n",
    "print(str(bool(re.search(Regex_Pattern, input()))).lower())"
   ]
  },
  {
   "cell_type": "code",
   "execution_count": 163,
   "id": "775cc3eb",
   "metadata": {},
   "outputs": [
    {
     "name": "stdout",
     "output_type": "stream",
     "text": [
      "think?\n",
      "true\n"
     ]
    }
   ],
   "source": [
    "# Excluding Specific Characters\n",
    "\"\"\"\n",
    "Task\n",
    "\n",
    "You have a test string S.\n",
    "Your task is to write a regex that will match S with the following conditions:\n",
    "\n",
    "S must be of length 6.\n",
    "First character should not be a digit (0-9).\n",
    "Second character should not be a lowercase vowel (aeiou).\n",
    "Third character should not be b, c, D or F.\n",
    "Fourth character should not be a whitespace character ( \\r, \\n, \\t, \\f or <space> ).\n",
    "Fifth character should not be a uppercase vowel (AEIOU).\n",
    "Sixth character should not be a . or , symbol.\n",
    "\"\"\"\n",
    "#Regex_Pattern = r'^\\D[^aeiou][^bcDF]$'\t# Do not delete 'r'.\n",
    "Regex_Pattern = r'^\\D[^aeiou][^bcDF][^\\s][^AEIOU][^.,]$'\t# Do not delete 'r'.\n",
    "# or     '^\\D[^aeiou][^bcDF]\\S[^AEIOU][^.,]$'\n",
    "import re\n",
    "print(str(bool(re.search(Regex_Pattern, input()))).lower())"
   ]
  },
  {
   "cell_type": "code",
   "execution_count": 165,
   "id": "f35ca09c",
   "metadata": {},
   "outputs": [
    {
     "name": "stdout",
     "output_type": "stream",
     "text": [
      "a1AbAt\n",
      "true\n"
     ]
    }
   ],
   "source": [
    "#\n",
    "Regex_Pattern = r'^[a-z][1-9][^a-z][^A-Z][A-Z]'\t# Do not delete 'r'.\n",
    "import re\n",
    "print(str(bool(re.search(Regex_Pattern, input()))).lower())"
   ]
  },
  {
   "cell_type": "code",
   "execution_count": 178,
   "id": "c3f21db5",
   "metadata": {},
   "outputs": [
    {
     "name": "stdout",
     "output_type": "stream",
     "text": [
      "gooooo\n",
      "Number of matches : 2\n"
     ]
    }
   ],
   "source": [
    "# Regex_Pattern = r\"([a-zA-Z0-9])(?![a-zA-Z0-9])\"\t# Do not delete 'r'.\n",
    "\n",
    "Regex_Pattern = r\"(.)(?!\\1)\"\t# Do not delete 'r'.\n",
    "import re\n",
    "Test_String = input()\n",
    "match = re.findall(Regex_Pattern, Test_String)\n",
    "print(\"Number of matches :\", len(match))"
   ]
  },
  {
   "cell_type": "code",
   "execution_count": 190,
   "id": "3c31c518",
   "metadata": {},
   "outputs": [
    {
     "name": "stdout",
     "output_type": "stream",
     "text": [
      "1349876562bsdbcjksdc bsjdc11231231sc nsdj cs,c n\n",
      "Number of matches : 9\n"
     ]
    }
   ],
   "source": [
    "# Positive Lookbehind\n",
    "Regex_Pattern = r\"(?<=[13579])\\d\"\t# Do not delete 'r'.\n",
    "import re\n",
    "Test_String = input()\n",
    "match = re.findall(Regex_Pattern, Test_String)\n",
    "print(\"Number of matches :\", len(match))"
   ]
  },
  {
   "cell_type": "code",
   "execution_count": 333,
   "id": "cc38233e",
   "metadata": {},
   "outputs": [
    {
     "name": "stdout",
     "output_type": "stream",
     "text": [
      "iooi\n",
      "Number of matches : 1\n"
     ]
    }
   ],
   "source": [
    "# Negative Lookbehind\n",
    "Regex_Pattern = r\"(?<![aeiouAEIOU]).\"\t# Do not delete 'r'.\n",
    "import re\n",
    "Test_String = input()\n",
    "match = re.findall(Regex_Pattern, Test_String)\n",
    "print(\"Number of matches :\", len(match))"
   ]
  },
  {
   "cell_type": "code",
   "execution_count": 329,
   "id": "49c89527",
   "metadata": {},
   "outputs": [
    {
     "name": "stdout",
     "output_type": "stream",
     "text": [
      "uykloiukb\n",
      "false\n"
     ]
    }
   ],
   "source": [
    "# (b)?o\\1\n",
    "# Backreferences To Failed Groups\n",
    "'''\n",
    "Task\n",
    "\n",
    "You have a test string S.\n",
    "Your task is to write a regex which will match S, with following condition(s):\n",
    "- S consists of 8 digits.\n",
    "- S may have \"-\" separator such that string S gets divided in 4 parts, with each part having exactly two digits. (Eg. 12-34-56-78)\n",
    "'''\n",
    "Regex_Pattern = r\"^\\d{2}(-?)\\d{2}\\1\\d{2}\\1\\d{2}$\"\t# Do not delete 'r'.\n",
    "import re\n",
    "print(str(bool(re.search(Regex_Pattern, input()))).lower())"
   ]
  },
  {
   "cell_type": "code",
   "execution_count": 219,
   "id": "37f0e362",
   "metadata": {},
   "outputs": [
    {
     "ename": "SyntaxError",
     "evalue": "invalid syntax (232144582.py, line 1)",
     "output_type": "error",
     "traceback": [
      "\u001b[1;36m  Input \u001b[1;32mIn [219]\u001b[1;36m\u001b[0m\n\u001b[1;33m    einsum(i,j->j,i,X,Y)\u001b[0m\n\u001b[1;37m              ^\u001b[0m\n\u001b[1;31mSyntaxError\u001b[0m\u001b[1;31m:\u001b[0m invalid syntax\n"
     ]
    }
   ],
   "source": [
    "einsum(i,j->j,i,X,Y)"
   ]
  },
  {
   "cell_type": "code",
   "execution_count": 221,
   "id": "5a4b3de3",
   "metadata": {},
   "outputs": [
    {
     "data": {
      "text/plain": [
       "'TrueTrueTrueTrueTrue'"
      ]
     },
     "execution_count": 221,
     "metadata": {},
     "output_type": "execute_result"
    }
   ],
   "source": [
    "a=\"True\"\n",
    "b=5\n",
    "a*b"
   ]
  },
  {
   "cell_type": "code",
   "execution_count": 222,
   "id": "ab0cd3a7",
   "metadata": {},
   "outputs": [],
   "source": [
    "a=[1,2,3,4]\n",
    "b=[38,4,5,7777]\n",
    "for i, item in enumerate(b):\n",
    "    a[i]=item"
   ]
  },
  {
   "cell_type": "code",
   "execution_count": 223,
   "id": "93f496c5",
   "metadata": {},
   "outputs": [
    {
     "data": {
      "text/plain": [
       "[38, 4, 5, 7777]"
      ]
     },
     "execution_count": 223,
     "metadata": {},
     "output_type": "execute_result"
    }
   ],
   "source": [
    "a"
   ]
  },
  {
   "cell_type": "code",
   "execution_count": 224,
   "id": "e7fe787e",
   "metadata": {},
   "outputs": [],
   "source": [
    "def sumcount(n):\n",
    "    '''\n",
    "    Returns the sum of the first n integers\n",
    "    '''\n",
    "    total = 0\n",
    "    while n > 0:\n",
    "        total += n\n",
    "        n -= 1\n",
    "    return total"
   ]
  },
  {
   "cell_type": "code",
   "execution_count": 225,
   "id": "e2b3c044",
   "metadata": {},
   "outputs": [
    {
     "data": {
      "text/plain": [
       "15"
      ]
     },
     "execution_count": 225,
     "metadata": {},
     "output_type": "execute_result"
    }
   ],
   "source": [
    "sumcount(5)"
   ]
  },
  {
   "cell_type": "code",
   "execution_count": 231,
   "id": "2e10e785",
   "metadata": {},
   "outputs": [],
   "source": [
    "import math\n",
    "x = math.sqrt(10)\n",
    "\n",
    "import urllib.request\n",
    "u = urllib.request.urlopen('http://www.python.org/')\n",
    "data = u.read()"
   ]
  },
  {
   "cell_type": "code",
   "execution_count": 237,
   "id": "7723c103",
   "metadata": {},
   "outputs": [
    {
     "name": "stdout",
     "output_type": "stream",
     "text": [
      "index error\n",
      "shares 35\n",
      "index error\n"
     ]
    }
   ],
   "source": [
    "f=['28888','dkd 35 57','47']\n",
    "for line in f:\n",
    "    fields = line.split()\n",
    "    try:\n",
    "        shares = int(fields[1])\n",
    "    except ValueError:\n",
    "        print(\"Couldn't parse\", line)\n",
    "    except IndexError:\n",
    "        print(\"index error\")\n",
    "    else:\n",
    "        print(\"shares\",shares)\n",
    "    ..."
   ]
  },
  {
   "cell_type": "code",
   "execution_count": 246,
   "id": "c9f840d5",
   "metadata": {},
   "outputs": [
    {
     "name": "stdout",
     "output_type": "stream",
     "text": [
      "assd1379 \n",
      "true\n"
     ]
    }
   ],
   "source": [
    "# Matching {x} Repetitions\n",
    "#Regex_Pattern = r'^\\w[a-zA-Z[02468]]{40}\\w[13579\\s]{5}$'\t# Do not delete 'r'.\n",
    "import re\n",
    "Regex_Pattern = r'^[a-zA-Z02468]{40}[13579\\s]{5}$'\t# Do not delete 'r'.\n",
    "\n",
    "print(str(bool(re.search(Regex_Pattern, input()))).lower())"
   ]
  },
  {
   "cell_type": "code",
   "execution_count": 267,
   "id": "9535843c",
   "metadata": {},
   "outputs": [
    {
     "name": "stdout",
     "output_type": "stream",
     "text": [
      "3threeormorealphabets.\n",
      "true\n"
     ]
    }
   ],
   "source": [
    "#Matching {x, y} Repetitions\n",
    "#Regex_Pattern = r'^[12][a-zA-Z]{3}[.]{0,3}$'\t# Do not delete 'r'.\n",
    "import re\n",
    "Regex_Pattern = r'^[0-9]{1,2}[a-zA-Z]{3,}\\.{0,3}$'\t# Do not delete 'r'.\n",
    "\n",
    "print(str(bool(re.search(Regex_Pattern, input()))).lower())"
   ]
  },
  {
   "cell_type": "code",
   "execution_count": null,
   "id": "ede5ea5a",
   "metadata": {},
   "outputs": [],
   "source": [
    "3threeormorealphabets.\n",
    "true\n",
    "3threeormorealphabets8"
   ]
  },
  {
   "cell_type": "code",
   "execution_count": null,
   "id": "076b3d44",
   "metadata": {},
   "outputs": [],
   "source": [
    "# Matching Zero Or More Repetitions\n",
    "# The * tool will match zero or more repetitions of character/character class/group.\n",
    "Regex_Pattern = r'^[0-9]{2,}[a-z]*[A-Z]*$'\t# Do not delete 'r'.\n",
    "import re\n",
    "print(str(bool(re.search(Regex_Pattern, input()))).lower())"
   ]
  },
  {
   "cell_type": "code",
   "execution_count": null,
   "id": "0217d136",
   "metadata": {},
   "outputs": [],
   "source": [
    "# Matching One Or More Repetitions\n",
    "# or Regex_Pattern = r'^[0-9]+[A-Z]+[a-z]+$'\n",
    "Regex_Pattern = r'^\\d+[A-Z]+[a-z]+$'\t# Do not delete 'r'.\n",
    "import re\n",
    "print(str(bool(re.search(Regex_Pattern, input()))).lower())"
   ]
  },
  {
   "cell_type": "code",
   "execution_count": 279,
   "id": "18ebbe7e",
   "metadata": {},
   "outputs": [
    {
     "name": "stdout",
     "output_type": "stream",
     "text": [
      "1ess\n",
      "false\n"
     ]
    }
   ],
   "source": [
    "# Matching Ending Items\n",
    "Regex_Pattern = r'^[a-zA-Z]*s$'\t# Do not delete 'r'.\n",
    "import re\n",
    "print(str(bool(re.search(Regex_Pattern, input()))).lower())"
   ]
  },
  {
   "cell_type": "code",
   "execution_count": null,
   "id": "61e06993",
   "metadata": {},
   "outputs": [],
   "source": [
    "# Positive Lookahead\n",
    "# You have a test string S.\n",
    "# Write a regex that can match all occurrences of o followed immediately by oo in S.\n",
    "Regex_Pattern = r'o(?=oo)'\t# Do not delete 'r'.\n",
    "import re\n",
    "Test_String = input()\n",
    "match = re.findall(Regex_Pattern, Test_String)\n",
    "print(\"Number of matches :\", len(match))"
   ]
  },
  {
   "cell_type": "code",
   "execution_count": null,
   "id": "69c15be9",
   "metadata": {},
   "outputs": [],
   "source": [
    "# Matching Word Boundaries\n",
    "Regex_Pattern = r'\\b[aeiouAEIOU][a-zA-Z]*\\b'\t# Do not delete 'r'.\n",
    "import re\n",
    "print(str(bool(re.search(Regex_Pattern, input()))).lower())"
   ]
  },
  {
   "cell_type": "code",
   "execution_count": null,
   "id": "5347b187",
   "metadata": {},
   "outputs": [],
   "source": [
    "# Capturing & Non-Capturing Groups\n",
    "Regex_Pattern = r'(ok){3,}'\t# Do not delete 'r'.\n",
    "import re\n",
    "print(str(bool(re.search(Regex_Pattern, input()))).lower())"
   ]
  },
  {
   "cell_type": "code",
   "execution_count": null,
   "id": "817c98bf",
   "metadata": {},
   "outputs": [],
   "source": [
    "# Grouping and Capturing Alternative Matching\n",
    "Regex_Pattern = r'^(Mr|Mrs|Ms|Dr|Er)\\.[a-zA-Z]+$' #^(Mr?s|[MDE]r)\\.[a-zA-Z]+$     # Do not delete 'r'.\n",
    "import re\n",
    "print(str(bool(re.search(Regex_Pattern, input()))).lower())"
   ]
  },
  {
   "cell_type": "code",
   "execution_count": 286,
   "id": "06cbf6f3",
   "metadata": {},
   "outputs": [
    {
     "name": "stdout",
     "output_type": "stream",
     "text": [
      "1\n",
      "<p><a href=\"http://www.quackit.com/html/tutorial/html_links.cfm\">Example Link</a></p>\n",
      "http://www.quackit.com/html/tutorial/html_links.cfm,Example Link\n"
     ]
    }
   ],
   "source": [
    "# Detect HTML links\n",
    "import re\n",
    "if __name__ == '__main__':\n",
    "    n = int(input())\n",
    "    Regex = r'<a href=\"(.*?)\".*?>([\\w ,./]*)(?=</)'\n",
    "    for _ in range(n):\n",
    "        s = input()\n",
    "        links = re.findall(Regex, s)\n",
    "        for link, att in links:\n",
    "            print('%s,%s' % (link, att.strip()))"
   ]
  },
  {
   "cell_type": "code",
   "execution_count": 297,
   "id": "abcc44b5",
   "metadata": {},
   "outputs": [
    {
     "name": "stdout",
     "output_type": "stream",
     "text": [
      "2\n",
      "<p><a href=\"http://www.quackit.com/html/tutorial/html_links.cfm\">Example Link</a></p>\n",
      "<div class=\"more-info\"><a href=\"http://www.quackit.com/html/examples/html_links_examples.cfm\">More Link Examples...</a></div>\n",
      "p\n",
      "a\n",
      "-> href > http://www.quackit.com/html/tutorial/html_links.cfm\n",
      "div\n",
      "-> class > more-info\n",
      "a\n",
      "-> href > http://www.quackit.com/html/examples/html_links_examples.cfm\n"
     ]
    }
   ],
   "source": [
    "# Detect HTML Tags\n",
    "from html.parser import HTMLParser\n",
    "class MyHTMLParser(HTMLParser):\n",
    "    def handle_starttag(self, tag, attrs):\n",
    "        print(tag)\n",
    "        [print('-> {} > {}'.format(*attr)) for attr in attrs]\n",
    "        \n",
    "html = '\\n'.join([input() for _ in range(int(input()))])\n",
    "parser = MyHTMLParser()\n",
    "parser.feed(html)\n",
    "parser.close()"
   ]
  },
  {
   "cell_type": "code",
   "execution_count": 292,
   "id": "c5d127dc",
   "metadata": {},
   "outputs": [
    {
     "name": "stdout",
     "output_type": "stream",
     "text": [
      "1\n",
      "<p><a href=\"http://www.quackit.com/html/tutorial/html_links.cfm\">Example Link</a></p>\n",
      "a;p\n"
     ]
    }
   ],
   "source": [
    "# Detect HTML Tags\n",
    "import re \n",
    "N = int(input()) \n",
    "res = [] \n",
    "for _ in range(N): \n",
    "    res += re.findall('<(\\w+)', input())\n",
    "print(';'.join(sorted(set(res))))"
   ]
  },
  {
   "cell_type": "code",
   "execution_count": null,
   "id": "204a0347",
   "metadata": {},
   "outputs": [],
   "source": [
    "# Or Detect HTML Tags\n",
    "import re \n",
    "N = int(input()) \n",
    "res = [] \n",
    "for _ in range(N): \n",
    "    res += re.findall('<(?P<tag>\\w+).*?\\/?>', input())\n",
    "print(';'.join(sorted(set(res))))"
   ]
  },
  {
   "cell_type": "code",
   "execution_count": null,
   "id": "02c3c90e",
   "metadata": {},
   "outputs": [],
   "source": [
    "# Find A Sub-Word\n",
    "import re\n",
    "\n",
    "if __name__ == '__main__':\n",
    "    n = int(input())\n",
    "    nline = '\\n'.join(input() for _ in range(n))\n",
    "        \n",
    "    q = int(input())\n",
    "    \n",
    "    for _ in range(q):\n",
    "        s = input()\n",
    "        print(len(re.findall(r'\\B(%s)\\B' % s, nline)))"
   ]
  },
  {
   "cell_type": "code",
   "execution_count": null,
   "id": "8d8e19c3",
   "metadata": {},
   "outputs": [],
   "source": [
    "existing pessimist optimist this is\n"
   ]
  },
  {
   "cell_type": "code",
   "execution_count": null,
   "id": "f04353f7",
   "metadata": {},
   "outputs": [],
   "source": [
    "# Query the list of CITY names from STATION that either do not start with vowels or do not end with vowels. Your result cannot contain duplicates.\n",
    "SELECT DISTINCT CITY\n",
    "FROM STATION\n",
    "WHERE (NOT(CITY  Like 'A%' OR CITY LIKE 'E%' OR CITY LIKE 'O%' OR CITY LIKE 'I%' OR CITY LIKE 'U%'))\n",
    "        OR \n",
    "      (NOT (CITY LIKE '%a' OR CITY  LIKE '%e' OR CITY LIKE '%i' OR CITY LIKE '%o' OR CITY LIKE '%u'))\n",
    "ORDER BY CITY;"
   ]
  },
  {
   "cell_type": "code",
   "execution_count": null,
   "id": "57aa069e",
   "metadata": {},
   "outputs": [],
   "source": []
  },
  {
   "cell_type": "code",
   "execution_count": null,
   "id": "eb6bfe85",
   "metadata": {},
   "outputs": [],
   "source": []
  },
  {
   "cell_type": "code",
   "execution_count": null,
   "id": "c6fc8aa9",
   "metadata": {},
   "outputs": [],
   "source": []
  }
 ],
 "metadata": {
  "kernelspec": {
   "display_name": "Python 3 (ipykernel)",
   "language": "python",
   "name": "python3"
  },
  "language_info": {
   "codemirror_mode": {
    "name": "ipython",
    "version": 3
   },
   "file_extension": ".py",
   "mimetype": "text/x-python",
   "name": "python",
   "nbconvert_exporter": "python",
   "pygments_lexer": "ipython3",
   "version": "3.9.12"
  }
 },
 "nbformat": 4,
 "nbformat_minor": 5
}
