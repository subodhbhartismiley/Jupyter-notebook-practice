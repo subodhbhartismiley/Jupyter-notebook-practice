{
 "cells": [
  {
   "cell_type": "code",
   "execution_count": 161,
   "id": "db4042a7",
   "metadata": {},
   "outputs": [
    {
     "name": "stdout",
     "output_type": "stream",
     "text": [
      "<re.Match object; span=(0, 2), match='aa'>\n",
      "(0, 2)\n",
      "0 \n",
      " 2\n",
      "aa\n",
      "<re.Match object; span=(103, 105), match='44'>\n",
      "(103, 105)\n",
      "103 \n",
      " 105\n",
      "44\n",
      "<re.Match object; span=(127, 129), match='44'>\n",
      "(127, 129)\n",
      "127 \n",
      " 129\n",
      "44\n",
      "<re.Match object; span=(177, 179), match='ww'>\n",
      "(177, 179)\n",
      "177 \n",
      " 179\n",
      "ww\n",
      "<re.Match object; span=(290, 292), match='22'>\n",
      "(290, 292)\n",
      "290 \n",
      " 292\n",
      "22\n",
      "<re.Match object; span=(353, 355), match='66'>\n",
      "(353, 355)\n",
      "353 \n",
      " 355\n",
      "66\n",
      "<re.Match object; span=(356, 358), match='66'>\n",
      "(356, 358)\n",
      "356 \n",
      " 358\n",
      "66\n",
      "<re.Match object; span=(407, 409), match='ww'>\n",
      "(407, 409)\n",
      "407 \n",
      " 409\n",
      "ww\n",
      "<re.Match object; span=(476, 478), match='aa'>\n",
      "(476, 478)\n",
      "476 \n",
      " 478\n",
      "aa\n",
      "<re.Match object; span=(498, 500), match='aa'>\n",
      "(498, 500)\n",
      "498 \n",
      " 500\n",
      "aa\n"
     ]
    },
    {
     "data": {
      "text/plain": [
       "'\\n\\n\\n'"
      ]
     },
     "execution_count": 161,
     "metadata": {},
     "output_type": "execute_result"
    }
   ],
   "source": [
    "\n",
    "import re\n",
    "mystr = '''aaaaa Tata Limited\n",
    "Dr. David Landsman, executive director\n",
    "18, Grosvenor Place\n",
    "London SW1X 7HSc\n",
    "Phone: +44 (20) 7235 8281\n",
    "Fax: +44 (20) 7235 8727\n",
    "Email: tata@tata.co.uk\n",
    "Website: www.europe.tata.com\n",
    "Directions: View map\n",
    "\n",
    "Tata Sons, North America\n",
    "1700 North Moore St, Suite 1520\n",
    "Arlington, VA 22209-1911\n",
    "USA\n",
    "Phone: +1 (703) 243 9787\n",
    "Fax: +1 (703) 243 9791\n",
    "66-66\n",
    "455-4545\n",
    "Email: northamerica@tata.com \n",
    "Website: www.northamerica.tata.com\n",
    "Directions: View map fass\n",
    "harry bhai lekin aaaarr\n",
    "bahut hi badia aadmi haiaiinaiiiiiiiiiiiin'''\n",
    "\n",
    "# findall, search, split, sub, finditer\n",
    "# patt = re.compile(r'fass')\n",
    "# patt = re.compile(r'.adm')\n",
    "# patt = re.compile(r'([A-Za-z0-9]{2})+')\n",
    "# patt = re.compile(r'^Tata')\n",
    "# patt = re.compile(r'iin$')\n",
    "# patt = re.compile(r'ai{2}')\n",
    "# patt = re.compile(r'(ai){1}')\n",
    "# patt = re.compile(r'ai{1}|Fax')\n",
    "\n",
    "\n",
    "# Special Sequences   \"\\\\b([a-zA-Z0-9])\\\\1\\\\1+\\\\b\"\n",
    "#patt = re.compile(r'Fax\\b')\n",
    "#patt = re.compile(r'([A-Za-z0-9]{2}[A-Za-z0-9]{2})+\\B')\n",
    "patt = re.compile('\\\\b([a-zA-Z0-9])\\\\1')\n",
    "# patt = re.compile(r'27\\b')\n",
    "# patt = re.compile(r'\\d{5}-\\d{4}')\n",
    "# Task\n",
    "# Given a string with a lot of indian phone numbers starting from +91\n",
    "\n",
    "matches = patt.finditer(mystr)\n",
    "for match in matches:\n",
    "    print(match)\n",
    "    print(match.span())\n",
    "    a,b=match.span()[0], match.span()[1]\n",
    "    print(a,\"\\n\",b)\n",
    "    print(mystr[a:b])\n",
    "    \n",
    "\n",
    "\n",
    "\n",
    "\"\"\"\n",
    "\n",
    "\n",
    "\"\"\""
   ]
  },
  {
   "cell_type": "code",
   "execution_count": 227,
   "id": "2879094a",
   "metadata": {},
   "outputs": [
    {
     "name": "stdout",
     "output_type": "stream",
     "text": [
      "<re.Match object; span=(6, 8), match='22'>\n",
      "22\n",
      "<re.Match object; span=(8, 10), match='jj'>\n",
      "jj\n",
      "<re.Match object; span=(10, 12), match='jj'>\n",
      "jj\n",
      "<re.Match object; span=(12, 14), match='jj'>\n",
      "jj\n",
      "<re.Match object; span=(14, 16), match='aa'>\n",
      "aa\n",
      "<re.Match object; span=(17, 19), match='dd'>\n",
      "dd\n",
      "<re.Match object; span=(19, 21), match='bb'>\n",
      "bb\n",
      "<re.Match object; span=(23, 25), match='dd'>\n",
      "dd\n",
      "<re.Match object; span=(26, 28), match='hh'>\n",
      "hh\n",
      "<re.Match object; span=(34, 36), match='jj'>\n",
      "jj\n",
      "<re.Match object; span=(37, 39), match='11'>\n",
      "11\n",
      "<re.Match object; span=(40, 42), match='88'>\n",
      "88\n",
      "8\n"
     ]
    }
   ],
   "source": [
    "str1=\"....ad22jjjjjjaaaddbbhndddhhdhdhfnjjj11188bfbdbnbsnbs\"\n",
    "#str1='...hfkdi__'\n",
    "patt = re.compile('\\\\B([a-zA-Z0-9])\\\\1\\\\B|\\\\b([a-zA-Z0-9])\\\\1')\n",
    "# patt = re.compile(r'27\\b')\n",
    "# patt = re.compile(r'\\d{5}-\\d{4}')\n",
    "# Task\n",
    "# Given a string with a lot of indian phone numbers starting from +91    \\\\B([a-zA-Z0-9])\\\\1\n",
    "res=''\n",
    "matches = patt.finditer(str1)\n",
    "for match in matches:\n",
    "    print(match)\n",
    "    #print(match.span())\n",
    "    a,b=match.span()[0], match.span()[1]\n",
    "    #print(a,\"\\n\",b)\n",
    "    print(str1[a:b])\n",
    "    res=str1[a]\n",
    "if res.isalnum()==False or res=='': \n",
    "    res='-1'\n",
    "print(res)"
   ]
  },
  {
   "cell_type": "code",
   "execution_count": 234,
   "id": "03b6f15e",
   "metadata": {},
   "outputs": [
    {
     "name": "stdout",
     "output_type": "stream",
     "text": [
      "HackerRank\n",
      "-1\n"
     ]
    }
   ],
   "source": [
    "import re\n",
    "\n",
    "\n",
    "#Search for an upper case \"S\" character in the beginning of a word, and print the word:\n",
    "#test_str=input()\n",
    "#str1=\"....ad22jjjjjjaaaddbbhndddhhdhdhfnjjj11188bfbdbnbsnbs\"  ..12345678910111213141516171820212223\n",
    "str1=input()\n",
    "patt = re.compile('\\\\B([a-zA-Z0-9])\\\\1\\\\B|\\\\b([a-zA-Z0-9])\\\\1')\n",
    "# patt = re.compile(r'27\\b')\n",
    "# patt = re.compile(r'\\d{5}-\\d{4}')\n",
    "# Task\n",
    "# Given a string with a lot of indian phone numbers starting from +91    \\\\B([a-zA-Z0-9])\\\\1\n",
    "res=''\n",
    "matches = patt.finditer(str1)\n",
    "for match in matches:\n",
    "    #print(match)\n",
    "    #print(match.span())\n",
    "    a,b=match.span()[0], match.span()[1]\n",
    "    #print(a,\"\\n\",b)\n",
    "    #print(str1[a:b])\n",
    "    res=str1[a]\n",
    "    break\n",
    "if res.isalnum()==False or res=='': \n",
    "    res='-1'\n",
    "print(res)"
   ]
  },
  {
   "cell_type": "code",
   "execution_count": null,
   "id": "8239d5b6",
   "metadata": {},
   "outputs": [],
   "source": [
    "str1=\"jjjjjj aaadbbhndddhh dhdhfnjjj11188bfbdbnbsnbs\"\n",
    "\n",
    "\n",
    "#patt = re.compile('\\\\b([a-zA-Z0-9])\\\\1\\\\1+\\\\b')\n",
    "patt = re.compile(r'a1\\1+\\')\n",
    "matches = patt.finditer(str1)\n",
    "for match in matches:\n",
    "    print(match)\n",
    "    print(match.span())\n",
    "    a,b=match.span()[0], match.span()[1]\n",
    "    #print(a,\"\\n\",b)\n",
    "    print(mystr[a:b])"
   ]
  },
  {
   "cell_type": "code",
   "execution_count": null,
   "id": "06db1a22",
   "metadata": {},
   "outputs": [],
   "source": [
    "Re.txt file as described in the video!\n",
    "\n",
    "Meta Characters\n",
    "[] A set of characters\n",
    "\\ Signals a special sequence (can also be used to escape special characters)\n",
    ". Any character (except newline character)\n",
    "^ Starts with\n",
    "$ Ends with\n",
    "* Zero or more occurrences\n",
    "+ One or more occurrences\n",
    "{} Exactly the specified number of occurrences\n",
    "| Either or\n",
    "() Capture and group\n",
    "Special Sequences\n",
    "\\A Returns a match if the specified characters are at the beginning of the string\n",
    "\\b Returns a match where the specified characters are at the beginning or at the end of a word r” ain\\b.”\n",
    "\\B Returns a match where the specified characters are present, but NOT at the beginning (or at the end) of a word\n",
    "\n",
    "\\d Returns a match where the string contains digits (numbers from 0-9)\n",
    "\\D Returns a match where the string DOES NOT contain digits\n",
    "\\s Returns a match where the string contains a white space character\n",
    "\\S Returns a match where the string DOES NOT contain a white space character\n",
    "\\w Returns a match where the string contains any word characters (characters from a to Z, digits from 0-9, and the underscore _ character)\n",
    "\\W Returns a match where the string DOES NOT contain any word characters\n",
    "\\Z Returns a match if the specified characters are at the end of the string"
   ]
  },
  {
   "cell_type": "code",
   "execution_count": null,
   "id": "a65a40ec",
   "metadata": {},
   "outputs": [],
   "source": [
    "The module defines several functions and constants to work with RegEx. The “re” module is composed of five functions known as:\n",
    "\n",
    "findall: It finds all searches for matches and prints resultant in the form of a list.\n",
    "search: It works the same as a findall, but the resultant is a matched object if any is found.\n",
    "split: The split function splits the string from every matched into two new strings.\n",
    "sub: The sub-function works exactly like a replace function in notepad or MS Word. It replaces the original word with a word of our choice.\n",
    "finditer: The finditer yields an iterator as a resultant with all the objects that match the one we sent it) finditer supports more attributes than any other function defined above. It also provides more details related to the matched object. So, most of the examples we are going to see next will contain a finditer function in them.\n",
    "So, you must be wondering that all of the searchings can easily be done using a simple loop with some conditions so, what is the purpose of the “re” module. Well “re” module is used for complex searching, using Metacharacters and special sequences. \n",
    "\n",
    "Metacharacters have special meaning in Python, and they are used with “re” modules to search for keywords and objects more technically and efficiently. We will see the working of a few Meta Characters in this tutorial so you can get an idea. I will provide you with a list of these characters and their working at the end of this tutorial. \n",
    "\n",
    "Use of “^”:-\n",
    "We use the” ^” symbol to check whether the string is starting from the keyword we wrote after ^ or not. For example, if a string starts from CodeWithHarry and we are searching the keyword using ^CodeWithHarry with finditer, it will return us whether our string is starting from the searched keyword or not. The same is the case for $ sign. It will check whether our string is ending with the specific keyword or not.\n",
    "\n",
    "Use of “|”:-\n",
    "We can also use a unique character “|” to use more than one condition, so if we use it for the above case, then it will check whether the string starts or ends with CodeWithHarry.Now we will move on to special sequences. We will see a few special sequences in this tutorial, and you can have a look at the list of these sequences at the end of the tutorial description for further practice. \n",
    "\n",
    "\\A:         the resultant is a match if the input characters are at the beginning of the string                \n",
    "\\b          the resultant is a match whether the input characters are at the beginning or the end of a word                               \n",
    "\\d          the resultant is a match if the string contains any digits  \n",
    "\\s           the resultant is a match if the string contains a white space character\n",
    "There are many metacharacters supported by the re module. Some characters with their working are the following:\n",
    "\n",
    "‘.’: Matches any single character except newline\n",
    "‘$’: Anchors a match at the end of a string\n",
    "‘*’: Matches zero or more repetitions\n",
    "‘+':Matches one or more repetitions\n",
    "‘{}’: Matches an explicitly specified number of repetitions\n",
    "‘[]’: Specifies a character class\n",
    "To explore more about the re module, check the https://docs.python.org/3/library/re.html python documentation."
   ]
  },
  {
   "cell_type": "code",
   "execution_count": null,
   "id": "f959cfe6",
   "metadata": {},
   "outputs": [],
   "source": []
  },
  {
   "cell_type": "code",
   "execution_count": null,
   "id": "208f24df",
   "metadata": {},
   "outputs": [],
   "source": []
  },
  {
   "cell_type": "code",
   "execution_count": null,
   "id": "c60e4ca3",
   "metadata": {},
   "outputs": [],
   "source": []
  },
  {
   "cell_type": "code",
   "execution_count": 66,
   "id": "58718dfd",
   "metadata": {},
   "outputs": [
    {
     "data": {
      "text/plain": [
       "['9991116666', '(999)-333-7777']"
      ]
     },
     "execution_count": 66,
     "metadata": {},
     "output_type": "execute_result"
    }
   ],
   "source": [
    "text='''\n",
    "Elon musk's phone number is 9991116666, call him if you have any questions on dodgecoin. Tesla's revenue is 40 billion\n",
    "Tesla's CFO number (999)-333-7777\n",
    "'''\n",
    "pattern = '\\(\\d{3}\\)-\\d{3}-\\d{4}|\\d{10}'\n",
    "\n",
    "matches = re.findall(pattern, text)\n",
    "matches"
   ]
  },
  {
   "cell_type": "code",
   "execution_count": 68,
   "id": "dc0ba42c",
   "metadata": {},
   "outputs": [],
   "source": [
    "text = '''\n",
    "Note 1 - Overview\n",
    "Tesla, Inc. (“Tesla”, the “Company”, “we”, “us” or “our”) was incorporated in the State of Delaware on July 1, 2003. We design, develop, manufacture and sell high-performance fully electric vehicles and design, manufacture, install and sell solar energy generation and energy storage\n",
    "products. Our Chief Executive Officer, as the chief operating decision maker (“CODM”), organizes our company, manages resource allocations and measures performance among two operating and reportable segments: (i) automotive and (ii) energy generation and storage.\n",
    "Beginning in the first quarter of 2021, there has been a trend in many parts of the world of increasing availability and administration of vaccines\n",
    "against COVID-19, as well as an easing of restrictions on social, business, travel and government activities and functions. On the other hand, infection\n",
    "rates and regulations continue to fluctuate in various regions and there are ongoing global impacts resulting from the pandemic, including challenges\n",
    "and increases in costs for logistics and supply chains, such as increased port congestion, intermittent supplier delays and a shortfall of semiconductor\n",
    "supply. We have also previously been affected by temporary manufacturing closures, employment and compensation adjustments and impediments to\n",
    "administrative activities supporting our product deliveries and deployments.\n",
    "Note 2 - Summary of Significant Accounting Policies\n",
    "Unaudited Interim Financial Statements\n",
    "The consolidated balance sheet as of September 30, 2021, the consolidated statements of operations, the consolidated statements of\n",
    "comprehensive income, the consolidated statements of redeemable noncontrolling interests and equity for the three and nine months ended September\n",
    "30, 2021 and 2020 and the consolidated statements of cash flows for the nine months ended September 30, 2021 and 2020, as well as other information\n",
    "disclosed in the accompanying notes, are unaudited. The consolidated balance sheet as of December 31, 2020 was derived from the audited\n",
    "consolidated financial statements as of that date. The interim consolidated financial statements and the accompanying notes should be read in\n",
    "conjunction with the annual consolidated financial statements and the accompanying notes contained in our Annual Report on Form 10-K for the year\n",
    "ended December 31, 2020.\n",
    "'''"
   ]
  },
  {
   "cell_type": "code",
   "execution_count": 69,
   "id": "7ddd9513",
   "metadata": {},
   "outputs": [
    {
     "data": {
      "text/plain": [
       "['Overview', 'Summary of Significant Accounting Policies']"
      ]
     },
     "execution_count": 69,
     "metadata": {},
     "output_type": "execute_result"
    }
   ],
   "source": [
    "pattern = 'Note \\d - ([^\\n]*)'\n",
    "matches = re.findall(pattern, text)\n",
    "matches"
   ]
  },
  {
   "cell_type": "code",
   "execution_count": 70,
   "id": "bd6c88a0",
   "metadata": {},
   "outputs": [
    {
     "data": {
      "text/plain": [
       "['FY2021 Q1', 'FY2020 Q4']"
      ]
     },
     "execution_count": 70,
     "metadata": {},
     "output_type": "execute_result"
    }
   ],
   "source": [
    "# Extract financial periods from a company's financial reporting\n",
    "text = '''\n",
    "The gross cost of operating lease vehicles in FY2021 Q1 was $4.85 billion.\n",
    "In previous quarter i.e. FY2020 Q4 it was $3 billion. \n",
    "'''\n",
    "\n",
    "pattern = 'FY\\d{4} Q[1-4]'\n",
    "\n",
    "matches = re.findall(pattern, text)\n",
    "matches"
   ]
  },
  {
   "cell_type": "code",
   "execution_count": 71,
   "id": "061d9aec",
   "metadata": {},
   "outputs": [
    {
     "data": {
      "text/plain": [
       "['FY2021 Q1', 'fy2020 Q4']"
      ]
     },
     "execution_count": 71,
     "metadata": {},
     "output_type": "execute_result"
    }
   ],
   "source": [
    "# Case insensitive pattern match using flags\n",
    "\n",
    "text = '''\n",
    "The gross cost of operating lease vehicles in FY2021 Q1 was $4.85 billion.\n",
    "In previous quarter i.e. fy2020 Q4 it was $3 billion. \n",
    "'''\n",
    "\n",
    "pattern = 'FY\\d{4} Q[1-4]'\n",
    "\n",
    "matches = re.findall(pattern, text, flags=re.IGNORECASE)\n",
    "matches"
   ]
  },
  {
   "cell_type": "code",
   "execution_count": 79,
   "id": "9d06715b",
   "metadata": {},
   "outputs": [
    {
     "data": {
      "text/plain": [
       "['2021 Q1', '2020 Q4']"
      ]
     },
     "execution_count": 79,
     "metadata": {},
     "output_type": "execute_result"
    }
   ],
   "source": [
    "# Case insensitive pattern match using flags\n",
    "\n",
    "text = '''\n",
    "The gross cost of operating lease vehicles in FY2021 Q1 was $4.85 billion.\n",
    "In previous quarter i.e. fy2020 Q4 it was $3 billion. \n",
    "'''\n",
    "\n",
    "pattern = 'FY(\\d{4} Q[1-4])'\n",
    "\n",
    "matches = re.findall(pattern, text, flags=re.IGNORECASE)\n",
    "matches"
   ]
  },
  {
   "cell_type": "code",
   "execution_count": 82,
   "id": "bc1b1e9b",
   "metadata": {},
   "outputs": [
    {
     "data": {
      "text/plain": [
       "['4.85', '3']"
      ]
     },
     "execution_count": 82,
     "metadata": {},
     "output_type": "execute_result"
    }
   ],
   "source": [
    "# Extract only financial numbers\n",
    "text = '''\n",
    "Tesla's gross cost of operating lease vehicles in FY2021 Q1 was $4.85 billion. \n",
    "In previous quarter i.e. FY2020 Q4 it was $3 billion.\n",
    "'''\n",
    "\n",
    "pattern = '\\$([\\d\\.]+)'     #  '\\$([\\d\\.]+)'   or   '\\$([0-9\\.]+)' \n",
    "matches = re.findall(pattern, text)\n",
    "matches"
   ]
  },
  {
   "cell_type": "code",
   "execution_count": 73,
   "id": "5ba5f193",
   "metadata": {},
   "outputs": [
    {
     "data": {
      "text/plain": [
       "[('2021 Q1', '4.85'), ('2020 Q4', '3')]"
      ]
     },
     "execution_count": 73,
     "metadata": {},
     "output_type": "execute_result"
    }
   ],
   "source": [
    "# Extract periods and financial numbers both\n",
    "text = '''\n",
    "Tesla's gross cost of operating lease vehicles in FY2021 Q1 was $4.85 billion. \n",
    "In previous quarter i.e. FY2020 Q4 it was $3 billion.\n",
    "'''\n",
    "pattern = 'FY(\\d{4} Q[1-4])[^\\$]+\\$([0-9\\.]+)'\n",
    "\n",
    "matches = re.findall(pattern, text)\n",
    "matches"
   ]
  },
  {
   "cell_type": "code",
   "execution_count": 74,
   "id": "1f7d15bc",
   "metadata": {},
   "outputs": [
    {
     "data": {
      "text/plain": [
       "<re.Match object; span=(51, 84), match='FY2021 Q1 ljh lsj a 123 was $4.85'>"
      ]
     },
     "execution_count": 74,
     "metadata": {},
     "output_type": "execute_result"
    }
   ],
   "source": [
    "# re.search\n",
    "text = '''\n",
    "Tesla's gross cost of operating lease vehicles in FY2021 Q1 ljh lsj a 123 was $4.85 billion. Same number for FY2020 Q4 was $8 billion\n",
    "'''\n",
    "pattern = 'FY(\\d{4} Q[1-4])[^\\$]+\\$([0-9\\.]+)'\n",
    "\n",
    "matches = re.search(pattern, text)\n",
    "matches"
   ]
  },
  {
   "cell_type": "code",
   "execution_count": 75,
   "id": "558fe09c",
   "metadata": {},
   "outputs": [
    {
     "data": {
      "text/plain": [
       "('2021 Q1', '4.85')"
      ]
     },
     "execution_count": 75,
     "metadata": {},
     "output_type": "execute_result"
    }
   ],
   "source": [
    "matches.groups()"
   ]
  },
  {
   "cell_type": "code",
   "execution_count": 76,
   "id": "c571e521",
   "metadata": {},
   "outputs": [
    {
     "data": {
      "text/plain": [
       "['elonmusk', 'teslarati', 'dummy_tesla', 'dummy_2_tesla']"
      ]
     },
     "execution_count": 76,
     "metadata": {},
     "output_type": "execute_result"
    }
   ],
   "source": [
    "import re\n",
    "#1. Extract all twitter handles from following text. Twitter handle is the text that appears after https://twitter.com/ and is a single word. Also it contains only alpha numeric characters i.e. A-Z a-z , o to 9 and underscore _\n",
    "\n",
    "text = '''\n",
    "Follow our leader Elon musk on twitter here: https://twitter.com/elonmusk, more information \n",
    "on Tesla's products can be found at https://www.tesla.com/. Also here are leading influencers \n",
    "for tesla related news,\n",
    "https://twitter.com/teslarati\n",
    "https://twitter.com/dummy_tesla\n",
    "https://twitter.com/dummy_2_tesla\n",
    "'''\n",
    "pattern = 'https://twitter\\.com/([a-zA-Z0-9_]+)' # todo: type your regex here    'https://twitter\\.com/([a-zA-Z0-9_]+)'\n",
    "\n",
    "re.findall(pattern, text)"
   ]
  },
  {
   "cell_type": "code",
   "execution_count": 77,
   "id": "f836d04b",
   "metadata": {},
   "outputs": [
    {
     "data": {
      "text/plain": [
       "['Credit Risk', 'Supply Risk']"
      ]
     },
     "execution_count": 77,
     "metadata": {},
     "output_type": "execute_result"
    }
   ],
   "source": [
    "# 2. Extract Concentration Risk Types. It will be a text that appears after \"Concentration Risk:\", In below example, your regex should extract these two strings\n",
    "\n",
    "# (1) Credit Risk\n",
    "\n",
    "# (2) Supply Rish\n",
    "\n",
    "text = '''\n",
    "Concentration of Risk: Credit Risk\n",
    "Financial instruments that potentially subject us to a concentration of credit risk consist of cash, cash equivalents, marketable securities,\n",
    "restricted cash, accounts receivable, convertible note hedges, and interest rate swaps. Our cash balances are primarily invested in money market funds\n",
    "or on deposit at high credit quality financial institutions in the U.S. These deposits are typically in excess of insured limits. As of September 30, 2021\n",
    "and December 31, 2020, no entity represented 10% or more of our total accounts receivable balance. The risk of concentration for our convertible note\n",
    "hedges and interest rate swaps is mitigated by transacting with several highly-rated multinational banks.\n",
    "Concentration of Risk: Supply Risk\n",
    "We are dependent on our suppliers, including single source suppliers, and the inability of these suppliers to deliver necessary components of our\n",
    "products in a timely manner at prices, quality levels and volumes acceptable to us, or our inability to efficiently manage these components from these\n",
    "suppliers, could have a material adverse effect on our business, prospects, financial condition and operating results.\n",
    "'''\n",
    "pattern = 'Concentration of Risk: ([^\\n]*)' # todo: type your regex here 'Concentration of Risk: ([^\\n]*)'\n",
    "\n",
    "re.findall(pattern, text)"
   ]
  },
  {
   "cell_type": "code",
   "execution_count": 78,
   "id": "68081d1c",
   "metadata": {},
   "outputs": [
    {
     "data": {
      "text/plain": [
       "['2021 Q1', '2021 S1']"
      ]
     },
     "execution_count": 78,
     "metadata": {},
     "output_type": "execute_result"
    }
   ],
   "source": [
    "# 3. Companies in europe reports their financial numbers of semi annual basis and you can have a document like this. To exatract quarterly and semin annual period you can use a regex as shown below\n",
    "\n",
    "# Hint: you need to use (?:) here to match everything enclosed\n",
    "\n",
    "text = '''\n",
    "Tesla's gross cost of operating lease vehicles in FY2021 Q1 was $4.85 billion.\n",
    "BMW's gross cost of operating vehicles in FY2021 S1 was $8 billion.\n",
    "'''\n",
    "\n",
    "pattern = 'FY(\\d{4} (?:Q[1-4]|S[1-2]))' # todo: type your regex here   'FY(\\d{4} (?:Q[1-4]|S[1-2]))'\n",
    "matches = re.findall(pattern, text)\n",
    "matches"
   ]
  },
  {
   "cell_type": "code",
   "execution_count": 127,
   "id": "924e0699",
   "metadata": {},
   "outputs": [
    {
     "ename": "AttributeError",
     "evalue": "'NoneType' object has no attribute 'group'",
     "output_type": "error",
     "traceback": [
      "\u001b[1;31m---------------------------------------------------------------------------\u001b[0m",
      "\u001b[1;31mAttributeError\u001b[0m                            Traceback (most recent call last)",
      "Input \u001b[1;32mIn [127]\u001b[0m, in \u001b[0;36m<cell line: 3>\u001b[1;34m()\u001b[0m\n\u001b[0;32m      1\u001b[0m \u001b[38;5;28;01mimport\u001b[39;00m \u001b[38;5;21;01mre\u001b[39;00m\n\u001b[0;32m      2\u001b[0m m \u001b[38;5;241m=\u001b[39m re\u001b[38;5;241m.\u001b[39msearch(\u001b[38;5;124mr\u001b[39m\u001b[38;5;124m'\u001b[39m\u001b[38;5;130;01m\\\\\u001b[39;00m\u001b[38;5;124mb([a-zA-Z0-9])\u001b[39m\u001b[38;5;130;01m\\\\\u001b[39;00m\u001b[38;5;124m1\u001b[39m\u001b[38;5;130;01m\\\\\u001b[39;00m\u001b[38;5;124m1+\u001b[39m\u001b[38;5;130;01m\\\\\u001b[39;00m\u001b[38;5;124mb\u001b[39m\u001b[38;5;124m'\u001b[39m,\u001b[38;5;124m'\u001b[39m\u001b[38;5;124msaaaa2554546mbvcvvxssrtgtzzcvc\u001b[39m\u001b[38;5;124m'\u001b[39m)\n\u001b[1;32m----> 3\u001b[0m \u001b[43mm\u001b[49m\u001b[38;5;241;43m.\u001b[39;49m\u001b[43mgroup\u001b[49m()\n",
      "\u001b[1;31mAttributeError\u001b[0m: 'NoneType' object has no attribute 'group'"
     ]
    }
   ],
   "source": [
    "import re\n",
    "m = re.search(r'\"\\\\b([a-zA-Z0-9])\\\\1\\\\1+\\\\b','saaaa2554546mbvcvvxssrtgtzzcvc')\n",
    "m.group()"
   ]
  },
  {
   "cell_type": "code",
   "execution_count": null,
   "id": "76a919ff",
   "metadata": {},
   "outputs": [],
   "source": []
  }
 ],
 "metadata": {
  "kernelspec": {
   "display_name": "Python 3 (ipykernel)",
   "language": "python",
   "name": "python3"
  },
  "language_info": {
   "codemirror_mode": {
    "name": "ipython",
    "version": 3
   },
   "file_extension": ".py",
   "mimetype": "text/x-python",
   "name": "python",
   "nbconvert_exporter": "python",
   "pygments_lexer": "ipython3",
   "version": "3.9.12"
  }
 },
 "nbformat": 4,
 "nbformat_minor": 5
}
