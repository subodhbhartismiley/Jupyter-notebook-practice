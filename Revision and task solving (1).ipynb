{
 "cells": [
  {
   "cell_type": "code",
   "execution_count": 3,
   "id": "cd466ce1",
   "metadata": {},
   "outputs": [],
   "source": [
    "s = \"this is My First Python programming class and i am learNING python string and its function\"\n"
   ]
  },
  {
   "cell_type": "code",
   "execution_count": 4,
   "id": "42355899",
   "metadata": {},
   "outputs": [
    {
     "data": {
      "text/plain": [
       "'tssyityopgmncsa alrNph rgni ni'"
      ]
     },
     "execution_count": 4,
     "metadata": {},
     "output_type": "execute_result"
    }
   ],
   "source": [
    "s = \"this is My First Python programming class and i am learNING python string and its function\"\n",
    "s[0:300:3]"
   ]
  },
  {
   "cell_type": "code",
   "execution_count": 5,
   "id": "edb8b41b",
   "metadata": {},
   "outputs": [
    {
     "data": {
      "text/plain": [
       "'noitcnuf sti dna gnirts nohtyp GNINrael ma i dna ssalc gnimmargorp nohtyP tsriF yM si siht'"
      ]
     },
     "execution_count": 5,
     "metadata": {},
     "output_type": "execute_result"
    }
   ],
   "source": [
    "s[::-1]"
   ]
  },
  {
   "cell_type": "code",
   "execution_count": 6,
   "id": "b0200263",
   "metadata": {},
   "outputs": [
    {
     "data": {
      "text/plain": [
       "['THIS',\n",
       " 'IS',\n",
       " 'MY',\n",
       " 'FIRST',\n",
       " 'PYTHON',\n",
       " 'PROGRAMMING',\n",
       " 'CLASS',\n",
       " 'AND',\n",
       " 'I',\n",
       " 'AM',\n",
       " 'LEARNING',\n",
       " 'PYTHON',\n",
       " 'STRING',\n",
       " 'AND',\n",
       " 'ITS',\n",
       " 'FUNCTION']"
      ]
     },
     "execution_count": 6,
     "metadata": {},
     "output_type": "execute_result"
    }
   ],
   "source": [
    "\n",
    "s1=s.upper()\n",
    "s1.split()\n"
   ]
  },
  {
   "cell_type": "code",
   "execution_count": 7,
   "id": "4898d3b8",
   "metadata": {},
   "outputs": [
    {
     "data": {
      "text/plain": [
       "'this is My First Python programming class and i am learNING python string and its function'"
      ]
     },
     "execution_count": 7,
     "metadata": {},
     "output_type": "execute_result"
    }
   ],
   "source": [
    "s"
   ]
  },
  {
   "cell_type": "code",
   "execution_count": 8,
   "id": "465a873d",
   "metadata": {},
   "outputs": [
    {
     "data": {
      "text/plain": [
       "'this is my first python programming class and i am learning python string and its function'"
      ]
     },
     "execution_count": 8,
     "metadata": {},
     "output_type": "execute_result"
    }
   ],
   "source": [
    "s.lower()"
   ]
  },
  {
   "cell_type": "code",
   "execution_count": 9,
   "id": "c743bde8",
   "metadata": {},
   "outputs": [
    {
     "data": {
      "text/plain": [
       "'This is my first python programming class and i am learning python string and its function'"
      ]
     },
     "execution_count": 9,
     "metadata": {},
     "output_type": "execute_result"
    }
   ],
   "source": [
    "s.capitalize()"
   ]
  },
  {
   "cell_type": "code",
   "execution_count": 10,
   "id": "516f744a",
   "metadata": {},
   "outputs": [
    {
     "data": {
      "text/plain": [
       "True"
      ]
     },
     "execution_count": 10,
     "metadata": {},
     "output_type": "execute_result"
    }
   ],
   "source": [
    "s1 = \"sudhfsdf\"\n",
    "s1.isalnum()"
   ]
  },
  {
   "cell_type": "code",
   "execution_count": null,
   "id": "4233fdfc",
   "metadata": {},
   "outputs": [],
   "source": [
    "s2 = \"sudh345\"\n",
    "s2.isalpha()"
   ]
  },
  {
   "cell_type": "code",
   "execution_count": null,
   "id": "37ddcf4a",
   "metadata": {},
   "outputs": [],
   "source": [
    "s = \"xyzyu\\t12345\\tabc\"\n",
    "s.expandtabs()"
   ]
  },
  {
   "cell_type": "code",
   "execution_count": null,
   "id": "1c276500",
   "metadata": {},
   "outputs": [],
   "source": [
    "temp=\"               baby           \"\n",
    "\n",
    "temp.strip()\n",
    "\n",
    "temp.lstrip()\n",
    "\n",
    "temp.rstrip()\n"
   ]
  },
  {
   "cell_type": "code",
   "execution_count": null,
   "id": "226495d7",
   "metadata": {},
   "outputs": [],
   "source": [
    "temp.strip()"
   ]
  },
  {
   "cell_type": "code",
   "execution_count": null,
   "id": "e2bca473",
   "metadata": {},
   "outputs": [],
   "source": [
    "temp.lstrip()"
   ]
  },
  {
   "cell_type": "code",
   "execution_count": null,
   "id": "96ef343a",
   "metadata": {},
   "outputs": [],
   "source": [
    "temp.rstrip()"
   ]
  },
  {
   "cell_type": "code",
   "execution_count": null,
   "id": "369c7382",
   "metadata": {},
   "outputs": [],
   "source": [
    "ad = \"Cold storage\"    \n",
    "ad.replace(\"storage\" , \"container\")\n"
   ]
  },
  {
   "cell_type": "code",
   "execution_count": null,
   "id": "eecfc99a",
   "metadata": {},
   "outputs": [],
   "source": [
    "n= \"Coder\"\n",
    "\n",
    "n.center(10,'*')\n"
   ]
  },
  {
   "cell_type": "code",
   "execution_count": null,
   "id": "ab780709",
   "metadata": {},
   "outputs": [],
   "source": [
    "# 11 . Write your own definition of compiler and interpretor without copy paste form internet in your own language\n",
    "# Answer 11. We use both compilers and interpreters to convert the language we wrote the code in to binary language\n",
    "# so machine can understand\n",
    "# Intrepreter translate one statement at a time hence it take less amount of time to analyze the code but to process whole \n",
    "# program it take more time than compilers.\n",
    "#on the other hand Compiler scans the entire program and translates it as a whole into machine code\n",
    "# hence it takes more time to analyze the source code however the overall execution time is a little faster than the \n",
    "# interpreter.\n"
   ]
  },
  {
   "cell_type": "code",
   "execution_count": null,
   "id": "22171286",
   "metadata": {},
   "outputs": [],
   "source": [
    "Compiler: it is a program that translates the code written by person into a language recoginised by computer.\n",
    "    it translate the whole code at once. The code execution is fast as compared to interpreter.\n",
    "Interpreter: it is also a program that translates the code written by person in a language recoginised by computer,\n",
    "    but the difference is that it translates the each code line one by one, hence the code execution is slow, but \n",
    "    advantage is that it stops at that line where code is incorrect.\n"
   ]
  },
  {
   "cell_type": "code",
   "execution_count": null,
   "id": "31f96ede",
   "metadata": {},
   "outputs": [],
   "source": [
    "Compiler - It is a type of software that runs or executes the written code at once or runs the whole codes with one go.\n",
    "Interpretoor - It executes the written code line by line or one line at a time into machine code.\n"
   ]
  },
  {
   "cell_type": "code",
   "execution_count": null,
   "id": "7005a239",
   "metadata": {},
   "outputs": [],
   "source": [
    "We can call compiler as translator between human and mechine. whhich translates any programming to into machine code or bytecode other in some other format.\n",
    "\n",
    "Interpreter is don't translates in some other format. it directly executes the instructions written in the program.\n"
   ]
  },
  {
   "cell_type": "code",
   "execution_count": null,
   "id": "f7c900ee",
   "metadata": {},
   "outputs": [],
   "source": [
    "Python is an interpreted language where compilation as a step. Python interpreter first compile code and transalates to byte code and byte code instructions get executed on virtual machine. Python is platform independent & auto grabage managed.\n"
   ]
  },
  {
   "cell_type": "code",
   "execution_count": null,
   "id": "913eaac0",
   "metadata": {},
   "outputs": [],
   "source": [
    "Interpreter :- Interpreter interpret or translates any progoram line by line which makes it slower. Also, interpreter works on bytecode. For eg. Python, Javascript etc.\n",
    "\n",
    "Compiler :- Compiler takes the whole program at once and translates it as a whole in machine code which makes it faster than interpreter. Also, after compilation code is converted into machine code. For eg. C,C++, Java etc.\n"
   ]
  },
  {
   "cell_type": "code",
   "execution_count": null,
   "id": "52191eba",
   "metadata": {},
   "outputs": [],
   "source": [
    "\"\"\"  For this Question \"Python is a interpreted or compiled language\" its better to see practical example by giving a error.\n",
    "    \n",
    "    so, in this\n",
    "    \n",
    "    a=\"Pooja\" # \"Pooja\" is assign to a ok  correct\n",
    "    print(\"Hello World\") # print \"pooja\"  as it don't have any error and we get our output so hmm Good\n",
    "    print(a+2)# print pooja2 but error as str not concetenate with int  nd we get error too\n",
    "    print(\"pooja\"*2)# print poojapooja  this statement is correct but not print  as we get error in above line python not execute this statement \n",
    "    \n",
    "    \n",
    "   So, as we seen in example python execute line by line and get error stop in that line only not even go to next that only mean \"Python is Interpreter\".\"\"\"\n",
    "a=\"Pooja\"\n",
    "print(\"Hello World\")\n",
    "print(a+str(2))\n",
    "print(\"pooja\"*2)\n"
   ]
  },
  {
   "cell_type": "code",
   "execution_count": null,
   "id": "3e734b40",
   "metadata": {},
   "outputs": [],
   "source": [
    "#In general it is belived that Python is a interpreter language but in reality neigther it is a compiler language nor a interpreted language.\n",
    "#It works in two layer first the .py file is compliled to an intermediate code of .pyc then the .pyc file is directly interpreted as for final output.\n"
   ]
  },
  {
   "cell_type": "code",
   "execution_count": null,
   "id": "512d6468",
   "metadata": {},
   "outputs": [],
   "source": [
    "-python is compiled as well as interpreted language. in python to converts the high level language in to \n",
    "low level laguage the terms compiler cames in to the picture.\n",
    "-In python when we execute the program 1st the compiler converts the source code in to byte code and then interpreter converts \n",
    "the byte code in to machine level language.\n",
    "\n",
    "source code--->compiler--->byte code--->interpreter--->machine code\n",
    "                                        (Virtual \n",
    "                                        machine(PVM))\n",
    "-in python the process of execution is bit different because to make the program platform independence(we can write code once\n",
    "and can run in differenr platform).As the machine changes the cpu architecture also changes so if we are writting some code \n",
    "in one machine it may not be executed in other so to resolve this problem virtual machines converts the byte code in to machine\n",
    "code and make it platform indepndent.\n"
   ]
  },
  {
   "cell_type": "code",
   "execution_count": null,
   "id": "44daa1e8",
   "metadata": {},
   "outputs": [],
   "source": [
    "ython is commonly used for :-\n",
    " \n",
    "          a) Developing websites and software\n",
    "          b) Task automation\n",
    "          c) Data analysis \n",
    "          d) data visualization.\n",
    "          e) and many more....\n"
   ]
  },
  {
   "cell_type": "code",
   "execution_count": null,
   "id": "881467cd",
   "metadata": {},
   "outputs": [],
   "source": [
    "'''\n",
    "1.Data Science.\n",
    "2.Artificial Intelligence. \n",
    "3.Web Scraping. \n",
    "4.Web application development.\n",
    "5.Game development. \n",
    "6.Internet of Things. \n",
    "7.Desktop GUI. \n",
    "8.Enterprise applications.\n",
    "3'''\n"
   ]
  },
  {
   "cell_type": "code",
   "execution_count": null,
   "id": "761bbebf",
   "metadata": {},
   "outputs": [],
   "source": [
    "    Web Development using  Django, Pyramid, and Flask frameworks.\n",
    "    Scientific Computing using Numpy and Pandas\n",
    "    Machine Learning and AI\n",
    "    Data Visualization\n",
    "    Game development\n",
    "    Desktop Application using Tk library\n",
    "    \n",
    "1. Face Detection \n",
    "2. Vehicle Number Plate Detection \n",
    "3. Stock Exchange Trading Apps that have AI for trading analysis \n",
    "4. Phone Keyboard\n",
    "5. Snapchat's Bitmoji predictor\n",
    "6. Google Map \n",
    "7. Airlines ticket price predicter\n",
    "\n",
    "1) System Programming\n",
    "\n",
    "2) GUI Interface\n",
    "\n",
    "3) WEb Scrapping\n",
    "\n",
    "4) Data bases\n",
    "\n",
    "5) Scientific Programming / Numeric Programming\n",
    "\n",
    "6) Game\n",
    "\n",
    "7) Image processing\n",
    "\n",
    "8) Robotics.\n",
    "\n",
    "9) CAD Application.\n"
   ]
  },
  {
   "cell_type": "raw",
   "id": "72755018",
   "metadata": {},
   "source": [
    "Task 2 \n",
    "\n",
    "l = [3,4,5,6,7 , [23,456,67,8,78,78] , [345,56,87,8,98,9] , (234,6657,6) , {\"key1\" :\"sudh\" , 234:[23,45,656]}]\n",
    "1 . Try to reverse a list \n",
    "2. try to access 234 out of this list \n",
    "3 . try to access 456 \n",
    "4 . Try to extract only a list collection form list l \n",
    "5 . Try to extract \"sudh\"\n",
    "6 . Try to list all the key in dict element avaible in list \n",
    "7 . Try to extract all the value element form dict available in list\n"
   ]
  },
  {
   "cell_type": "code",
   "execution_count": null,
   "id": "1f420292",
   "metadata": {},
   "outputs": [],
   "source": [
    "l = [3,4,5,6,7 , [23,456,67,8,78,78] , [345,56,87,8,98,9] , (234,6657,6) , {\"key1\" :\"sudh\" , 234:[23,45,656]}]"
   ]
  },
  {
   "cell_type": "code",
   "execution_count": null,
   "id": "605407b8",
   "metadata": {},
   "outputs": [],
   "source": [
    "l[::-1] # it does not change the variable "
   ]
  },
  {
   "cell_type": "code",
   "execution_count": null,
   "id": "af528ad0",
   "metadata": {},
   "outputs": [],
   "source": [
    "l.reverse()  #it changes the variable"
   ]
  },
  {
   "cell_type": "code",
   "execution_count": null,
   "id": "efa61dae",
   "metadata": {},
   "outputs": [],
   "source": [
    "l"
   ]
  },
  {
   "cell_type": "code",
   "execution_count": null,
   "id": "b1b50edf",
   "metadata": {},
   "outputs": [],
   "source": [
    "l[7][0]"
   ]
  },
  {
   "cell_type": "code",
   "execution_count": null,
   "id": "959714dc",
   "metadata": {},
   "outputs": [],
   "source": [
    "list(l[8].keys())[1]"
   ]
  },
  {
   "cell_type": "code",
   "execution_count": null,
   "id": "88dc9f85",
   "metadata": {},
   "outputs": [],
   "source": [
    "l[5][1]"
   ]
  },
  {
   "cell_type": "code",
   "execution_count": null,
   "id": "3773fd61",
   "metadata": {},
   "outputs": [],
   "source": [
    "l[5:7]"
   ]
  },
  {
   "cell_type": "code",
   "execution_count": null,
   "id": "416769ac",
   "metadata": {},
   "outputs": [],
   "source": [
    "l[5]"
   ]
  },
  {
   "cell_type": "code",
   "execution_count": null,
   "id": "33176196",
   "metadata": {},
   "outputs": [],
   "source": [
    "l[6]"
   ]
  },
  {
   "cell_type": "code",
   "execution_count": null,
   "id": "739a5dc6",
   "metadata": {},
   "outputs": [],
   "source": [
    "l[8]['key1']"
   ]
  },
  {
   "cell_type": "code",
   "execution_count": null,
   "id": "ea293f5e",
   "metadata": {},
   "outputs": [],
   "source": [
    "list(l[8].keys())"
   ]
  },
  {
   "cell_type": "code",
   "execution_count": null,
   "id": "3da3d5e5",
   "metadata": {},
   "outputs": [],
   "source": [
    "list(l[8].values())"
   ]
  },
  {
   "cell_type": "code",
   "execution_count": null,
   "id": "1c61394e",
   "metadata": {},
   "outputs": [],
   "source": [
    "q1 :\n",
    "ineruon \n",
    "ineruon ineruon \n",
    "ineruon ineruon ineruon\n",
    "ineruon ineruon ineruon ineruon\n",
    "\n",
    "q2 - \n",
    "\n",
    "          ineruon\n",
    "    ineruon      ineruon\n",
    "ineruon\t\tineruon \tineruon\n",
    "\tineruon\t\t ineruon\n",
    "\t\t  ineruon\n",
    "\n",
    "l = [[1,2,3,4] , (2,3,4,5,6) , (3,4,5,6,7) , set([23,4,5,45,4,4,5,45,45,4,5]) , {'k1' :\"sudh\" , \"k2\" : \"ineuron\",\"k3\":\n",
    "            \"kumar\" , 3:6 , 7:8} , [\"ineuron\" , \"data science \"]]\n",
    "\n",
    "q3 : Try to extract all the list entity \n",
    "q4 : Try to extract all the dict enteties\n",
    "q5 : Try to extract all the tuples entities\n",
    "q6 : Try to extract all the numerical data it may b a part of dict key and values \n",
    "q7 : Try to give summation of all the numeric data \n",
    "q8 : Try to filter out all the odd values out all numeric data which is a part of a list \n",
    "q9 : Try to extract \"ineruon\" out of this data\n",
    "q10 : Try to find out a number of occurances of all the data \n",
    "q11 : Try to find out number of keys in dict element\n",
    "q12 : Try to filter out all the string data \n",
    "q13 : Try to Find  out alphanum in data\n",
    "q14 : Try to find out multiplication of all numeric value in the individual collection inside dataset\n",
    "\n"
   ]
  },
  {
   "cell_type": "code",
   "execution_count": null,
   "id": "63f9cd94",
   "metadata": {},
   "outputs": [],
   "source": [
    "row = int(input(\"Please enter how many rows you want to print: \"))\n",
    "print()\n",
    "for i in range(row):\n",
    "    print(str(str(i)+\" \")*(i+1))"
   ]
  },
  {
   "cell_type": "code",
   "execution_count": null,
   "id": "d4e395e6",
   "metadata": {},
   "outputs": [],
   "source": [
    "row = int(input(\"Please enter how many rows you want to print: \"))\n",
    "print()\n",
    "for i in range(row):\n",
    "    print(\"ineuron \"*(i+1))"
   ]
  },
  {
   "cell_type": "code",
   "execution_count": null,
   "id": "f6c1f330",
   "metadata": {},
   "outputs": [],
   "source": [
    "for i in range(6):\n",
    "    if i <= 3:\n",
    "        n = i\n",
    "    else:\n",
    "        n = 6 - i\n",
    "    \n",
    "    print((\"ineuron \"*n).center(30,' '))"
   ]
  },
  {
   "cell_type": "code",
   "execution_count": null,
   "id": "101fa417",
   "metadata": {},
   "outputs": [],
   "source": [
    "l = [[1,2,3,4] , (2,3,4,5,6) , (3,4,5,6,7) , set([23,4,5,45,4,4,5,45,45,4,5]) , {'k1' :\"sudh\" , \"k2\" : \"ineuron\",\"k3\":\n",
    "            \"kumar\" , 3:6 , 7:8} , [\"ineuron\" , \"data science \"]]"
   ]
  },
  {
   "cell_type": "code",
   "execution_count": null,
   "id": "6621b91b",
   "metadata": {},
   "outputs": [],
   "source": [
    "for i in l :\n",
    "    if type(i) == list :\n",
    "        print(i)"
   ]
  },
  {
   "cell_type": "code",
   "execution_count": null,
   "id": "4e7a9887",
   "metadata": {},
   "outputs": [],
   "source": [
    "for i in l :\n",
    "    if type(i) == dict :\n",
    "        print(i)"
   ]
  },
  {
   "cell_type": "code",
   "execution_count": null,
   "id": "d50b6c45",
   "metadata": {},
   "outputs": [],
   "source": [
    "for i in l :\n",
    "    if type(i) == tuple:\n",
    "        print(i)"
   ]
  },
  {
   "cell_type": "code",
   "execution_count": null,
   "id": "e1c31652",
   "metadata": {},
   "outputs": [],
   "source": [
    "l = [[1,2,3,4] , (2,3,4,5,6) , (3,4,5,6,7) , set([23,4,5,45,4,4,5,45,45,4,5]) , {'k1' :\"sudh\" , \"k2\" : \"ineuron\",\"k3\":\n",
    "            \"kumar\" , 3:6 , 7:8} , [\"ineuron\" , \"data science \"]]"
   ]
  },
  {
   "cell_type": "code",
   "execution_count": null,
   "id": "cb06d134",
   "metadata": {},
   "outputs": [],
   "source": [
    "l1 = []\n",
    "for i in l:\n",
    "    if type(i) == list or type(i) == tuple or type(i) == set :\n",
    "        for j in i :\n",
    "            if type(j) == int :\n",
    "                l1.append(j)\n",
    "    if type(i) == dict :\n",
    "        for k in i.items() : \n",
    "            for g in k :\n",
    "                if type(g) == int :\n",
    "                    l1.append(g)\n",
    "            "
   ]
  },
  {
   "cell_type": "code",
   "execution_count": null,
   "id": "c3e7fe91",
   "metadata": {},
   "outputs": [],
   "source": [
    "l1"
   ]
  },
  {
   "cell_type": "code",
   "execution_count": null,
   "id": "0e893856",
   "metadata": {},
   "outputs": [],
   "source": [
    "d = {'k1' :\"sudh\" , \"k2\" : \"ineuron\",\"k3\":\n",
    "            \"kumar\" , 3:6 , 7:8}"
   ]
  },
  {
   "cell_type": "code",
   "execution_count": null,
   "id": "3e939065",
   "metadata": {},
   "outputs": [],
   "source": [
    "d.items()"
   ]
  },
  {
   "cell_type": "code",
   "execution_count": null,
   "id": "7a917374",
   "metadata": {},
   "outputs": [],
   "source": [
    "sum(l1)"
   ]
  },
  {
   "cell_type": "code",
   "execution_count": null,
   "id": "f9bb9a8c",
   "metadata": {},
   "outputs": [],
   "source": [
    "l1"
   ]
  },
  {
   "cell_type": "code",
   "execution_count": null,
   "id": "b320c244",
   "metadata": {},
   "outputs": [],
   "source": [
    "for i in l1 :\n",
    "    if i % 2 == 0  :\n",
    "        pass\n",
    "    else :\n",
    "        print(i)\n",
    "        "
   ]
  },
  {
   "cell_type": "code",
   "execution_count": null,
   "id": "2337f991",
   "metadata": {},
   "outputs": [],
   "source": [
    "l = [[1,2,3,4] , (2,3,4,5,6) , (3,4,5,6,7) , set([23,4,5,45,4,4,5,45,45,4,5]) , {'k1' :\"sudh\" , \"k2\" : \"ineuron\",\"k3\":\n",
    "            \"kumar\" , 3:6 , 7:8} , [\"ineuron\" , \"data science \"]]"
   ]
  },
  {
   "cell_type": "code",
   "execution_count": null,
   "id": "2593fd92",
   "metadata": {},
   "outputs": [],
   "source": [
    "l1 = []\n",
    "for i in l:\n",
    "    if type(i) == list or type(i) == tuple or type(i) == set :\n",
    "        for j in i :\n",
    "            if j == 'ineuron' :\n",
    "                l1.append(j)\n",
    "    if type(i) == dict :\n",
    "        for k in i.items() : \n",
    "            for g in k :\n",
    "                if g == 'ineuron' :\n",
    "                    l1.append(g)"
   ]
  },
  {
   "cell_type": "code",
   "execution_count": null,
   "id": "5f057eac",
   "metadata": {},
   "outputs": [],
   "source": [
    "l1"
   ]
  },
  {
   "cell_type": "code",
   "execution_count": null,
   "id": "ea6cbe71",
   "metadata": {},
   "outputs": [],
   "source": [
    "l"
   ]
  },
  {
   "cell_type": "code",
   "execution_count": null,
   "id": "a112c64b",
   "metadata": {},
   "outputs": [],
   "source": [
    "l1 = []\n",
    "for i in l:\n",
    "    if type(i) == list or type(i) == tuple or type(i) == set :\n",
    "        for j in i :\n",
    "            if type(j) == int or type(j) == str:\n",
    "                l1.append(j)\n",
    "    if type(i) == dict :\n",
    "        for k in i.items() : \n",
    "            for g in k :\n",
    "                if type(g) == int  or type(g) == str:\n",
    "                    l1.append(g)"
   ]
  },
  {
   "cell_type": "code",
   "execution_count": null,
   "id": "0611e413",
   "metadata": {},
   "outputs": [],
   "source": [
    "l1"
   ]
  },
  {
   "cell_type": "code",
   "execution_count": null,
   "id": "db838ed6",
   "metadata": {},
   "outputs": [],
   "source": [
    "l = [[1,2,3,4] , (2,3,4,5,6) , (3,4,5,6,7) , set([23,4,5,45,4,4,5,45,45,4,5]) , {'k1' :\"sudh\" , \"k2\" : \"ineuron\",\"k3\":\n",
    "            \"kumar\" , 3:6 , 7:8} , [\"ineuron\" , \"data science \"]]"
   ]
  },
  {
   "cell_type": "code",
   "execution_count": null,
   "id": "6b14eaa0",
   "metadata": {},
   "outputs": [],
   "source": [
    "l1"
   ]
  },
  {
   "cell_type": "code",
   "execution_count": null,
   "id": "b43bce00",
   "metadata": {},
   "outputs": [],
   "source": [
    "for i in set(l1) : \n",
    "    print(i , \":\" ,l1.count(i))"
   ]
  },
  {
   "cell_type": "code",
   "execution_count": null,
   "id": "8fc6d7c0",
   "metadata": {},
   "outputs": [],
   "source": [
    "l"
   ]
  },
  {
   "cell_type": "code",
   "execution_count": null,
   "id": "2e07969f",
   "metadata": {},
   "outputs": [],
   "source": [
    "for i in l :\n",
    "    if type(i) == dict :\n",
    "        print(len(i))"
   ]
  },
  {
   "cell_type": "code",
   "execution_count": null,
   "id": "120d54cf",
   "metadata": {},
   "outputs": [],
   "source": [
    "l1"
   ]
  },
  {
   "cell_type": "code",
   "execution_count": null,
   "id": "9c268bbc",
   "metadata": {},
   "outputs": [],
   "source": [
    "for i in l1 :\n",
    "    if type(i) == str:\n",
    "        print(i)"
   ]
  },
  {
   "cell_type": "code",
   "execution_count": null,
   "id": "e34c8efd",
   "metadata": {},
   "outputs": [],
   "source": [
    "l1"
   ]
  },
  {
   "cell_type": "code",
   "execution_count": null,
   "id": "c32f22ea",
   "metadata": {},
   "outputs": [],
   "source": [
    "for i in l1 :\n",
    "    if type(i) == str :\n",
    "        if i.isalnum() : \n",
    "            print(i)"
   ]
  },
  {
   "cell_type": "code",
   "execution_count": null,
   "id": "9fcc3447",
   "metadata": {},
   "outputs": [],
   "source": [
    "l1"
   ]
  },
  {
   "cell_type": "code",
   "execution_count": null,
   "id": "9041a639",
   "metadata": {},
   "outputs": [],
   "source": [
    "j = 1\n",
    "for i in l1 : \n",
    "    if type(i) == int :\n",
    "        j = j*i\n",
    "print(j)\n",
    "        "
   ]
  },
  {
   "cell_type": "code",
   "execution_count": null,
   "id": "0aae9966",
   "metadata": {},
   "outputs": [],
   "source": [
    "l2=[]"
   ]
  },
  {
   "cell_type": "code",
   "execution_count": null,
   "id": "a05d8a10",
   "metadata": {},
   "outputs": [],
   "source": [
    "#q14 : Try to find out multiplication of all numeric value in the individual collection inside dataset\n",
    "l"
   ]
  },
  {
   "cell_type": "code",
   "execution_count": null,
   "id": "de5e4a94",
   "metadata": {},
   "outputs": [],
   "source": [
    "\n",
    "for i in l :\n",
    "    m = 1\n",
    "    if type(i) == list  or type(i)  == tuple or type(i) == set :\n",
    "        for j in i :\n",
    "            if type(j) == int :\n",
    "                m = m * j\n",
    "        print(type(i) , m)\n",
    "    if type(i) == dict:\n",
    "        for k in i.items():\n",
    "            for n in k :\n",
    "                if type(n) == int : \n",
    "                    m = m * n\n",
    "        print(type(i) , m)            \n",
    "                    \n",
    "                \n",
    " \n",
    "            "
   ]
  },
  {
   "cell_type": "code",
   "execution_count": null,
   "id": "cc9bc68d",
   "metadata": {},
   "outputs": [],
   "source": [
    "Q.15) Try to unwrape all the collection inside collection and create a flat list.\n"
   ]
  },
  {
   "cell_type": "code",
   "execution_count": null,
   "id": "b6f1cb89",
   "metadata": {},
   "outputs": [],
   "source": [
    "l1"
   ]
  },
  {
   "cell_type": "code",
   "execution_count": null,
   "id": "7539656e",
   "metadata": {},
   "outputs": [],
   "source": [
    "    \n",
    "q1 : Try to print this by using while loop \n",
    "* \n",
    "* * \n",
    "* * * \n",
    "* * * * \n",
    "* * * * * \n",
    "* * * * * * \n",
    "* * * * * * * \n",
    "* * * * * * * * \n",
    "* * * * * * * * * \n",
    "\n",
    "q2 : try to print below by using while loop : \n",
    "        \n",
    "A\n",
    "B H \n",
    "C I N\n",
    "D J o S\n",
    "E K p T W\n",
    "F L Q U X z\n",
    "G M R V Y \n",
    "\n",
    "q3 : Try to print all the number divisible by 3 in between a range of 40 - 400\n",
    "    \n",
    "q4 : Try to filter out all the vowels form below text by using while loop : \n",
    " \"\"\"Python is a high-level, interpreted, general-purpose programming language. Its design philosophy emphasizes code readability with the use of significant indentation.[32]\n",
    "\n",
    "Python is dynamically-typed and garbage-collected. It supports multiple programming paradigms, including structured (particularly procedural), object-oriented and functional programming. It is often described as a \"batteries included\" language due to its comprehensive standard library.[33][34]\n",
    "\n",
    "Guido van Rossum began working on Python in the late 1980s as a successor to the ABC programming language and first released it in 1991 as Python 0.9.0.[35] Python 2.0 was released in 2000 and introduced new features such as list comprehensions, cycle-detecting garbage collection, reference counting, and Unicode support. Python 3.0, released in 2008, was a major revision that is not completely backward-compatible with earlier versions. Python 2 was discontinued with version 2.7.18 in 2020.[36]\n",
    "\n",
    "Python consistently ranks as one of the most popular programming languagesc\"\"\" \n",
    "\n",
    "\n",
    "q5 : Try to generate all the even number between 1- 1000\n",
    "\n",
    "q6 : Define a function for all the above problem statememnt  . \n",
    "    \n",
    "q7 : write a code to get a time of your system \n",
    "\n",
    "q8 : Write a code to fetch date form your system \n",
    "\n",
    "q9 : Write a code to send a mail to your friend \n",
    "\n",
    "q10 : write a code to trigger alarm for you at scheduled time \n",
    "\n",
    "q11 : write a code to check ip address of your system \n",
    "\n",
    "q12 : Write a code to check a perticular installation in your system\n",
    "\n",
    "q13 : Write a code to convert any text in to voice \n",
    "\n",
    "q14 : you have to write a fun which will take string and return a len of \n",
    "it without using a inbuilt fun len\n",
    "\n",
    "q15 :write a fun which will be able to print an index of all premitive element which you will pass \n",
    "\n",
    "q16 : Write a fun which will take input as a dict and give me out as a list of all the values \n",
    "even in case of 2 level nesting it should work . \n",
    "\n",
    "q17 : write a function whihc will take multiple list as a input and give me concatnation of all the element as \n",
    "and output\n",
    "\n",
    "q18 : Write a function which will whould return list of all the file name from a directory . \n",
    "\n",
    "q19 : write a function whihc will be able to read a image file and show it to you .\n",
    "    \n",
    "q20 : write a function by which you will be able to append two PDF files . \n",
    "    \n",
    "q21 : write a function which can help you to filter only word file from a directory . \n",
    "    \n",
    "q22 : write a function which can read video file and play for you . \n",
    "    \n",
    "q23 : write a function which will be able to shutdonw your system . \n",
    "\n",
    "q24 : Write a function which will whould return list of all the file name from a directory . \n",
    "\n",
    "q25 : write a function whihc will be able to access your mail . \n",
    "        "
   ]
  },
  {
   "cell_type": "code",
   "execution_count": null,
   "id": "8088d375",
   "metadata": {},
   "outputs": [],
   "source": [
    "q1 : Try to print this by using while loop \n",
    "* \n",
    "* * \n",
    "* * * \n",
    "* * * * \n",
    "* * * * * \n",
    "* * * * * * \n",
    "* * * * * * * \n",
    "* * * * * * * * \n",
    "* * * * * * * * * "
   ]
  },
  {
   "cell_type": "code",
   "execution_count": null,
   "id": "1fd266a3",
   "metadata": {},
   "outputs": [],
   "source": [
    "i = 9 \n",
    "n = 1 \n",
    "while n <= i : \n",
    "    print('* '*n)\n",
    "    n = n+1"
   ]
  },
  {
   "cell_type": "code",
   "execution_count": null,
   "id": "446ea974",
   "metadata": {},
   "outputs": [],
   "source": [
    "q2 : try to print below by using while loop : \n",
    "        \n",
    "A\n",
    "B H \n",
    "C I N\n",
    "D J o S\n",
    "E K p T W\n",
    "F L Q U X z\n",
    "G M R V Y "
   ]
  },
  {
   "cell_type": "code",
   "execution_count": null,
   "id": "ac39e693",
   "metadata": {},
   "outputs": [],
   "source": [
    "x=0\n",
    "while x<8:\n",
    "    content = \"\"\n",
    "    y=0\n",
    "    while y<x:\n",
    "        z=0\n",
    "        sum=0\n",
    "        while z<y:\n",
    "            sum+=6-z \n",
    "            z+=1\n",
    "        if (x + 64 + sum) <= (64 + 26):\n",
    "            content += \" \" + chr(x + 64 + sum)\n",
    "        y+=1\n",
    "    print(content)\n",
    "    x+=1\n"
   ]
  },
  {
   "cell_type": "code",
   "execution_count": null,
   "id": "52a7c0a2",
   "metadata": {},
   "outputs": [],
   "source": [
    "chr(67)"
   ]
  },
  {
   "cell_type": "code",
   "execution_count": null,
   "id": "50c2d2a4",
   "metadata": {},
   "outputs": [],
   "source": [
    "n = 7\n",
    "i = 1\n",
    "while(i<=n):\n",
    "    k = i\n",
    "    j = 1\n",
    "    while(j<=i):\n",
    "        print(chr(64+k),end = \" \")\n",
    "        k = k + n - j\n",
    "        j = j + 1\n",
    "    print(\"\\r\")\n",
    "    i = i + 1\n"
   ]
  },
  {
   "cell_type": "code",
   "execution_count": null,
   "id": "e6ece757",
   "metadata": {},
   "outputs": [],
   "source": [
    "line = 7\n",
    "i = 0\n",
    "while i<line:\n",
    "  p = ord('A') + i\n",
    "  j = 0\n",
    "  while j<=i:\n",
    "    print(chr(p), end=' ')\n",
    "    j += 1\n",
    "    p += (line-j)\n",
    "  i += 1\n",
    "  print()\n"
   ]
  },
  {
   "cell_type": "code",
   "execution_count": null,
   "id": "89286f25",
   "metadata": {},
   "outputs": [],
   "source": [
    "i=0\n",
    "while i<7:\n",
    "    l=7\n",
    "    k=i+65  \n",
    "    for j in range(i+1):\n",
    "        if chr(k).isalpha():\n",
    "         print(chr(k),end=\" \") \n",
    "         l-=1\n",
    "         k+=l     \n",
    "    i += 1\n",
    "    print()\n"
   ]
  },
  {
   "cell_type": "code",
   "execution_count": null,
   "id": "623cfb1a",
   "metadata": {},
   "outputs": [],
   "source": []
  },
  {
   "cell_type": "code",
   "execution_count": null,
   "id": "fcb4bd0a",
   "metadata": {},
   "outputs": [],
   "source": [
    "chr(65)"
   ]
  },
  {
   "cell_type": "code",
   "execution_count": null,
   "id": "3836247f",
   "metadata": {},
   "outputs": [],
   "source": [
    "q3 : Try to print all the number divisible by 3 in between a range of 40 - 400"
   ]
  },
  {
   "cell_type": "code",
   "execution_count": null,
   "id": "a87d29d3",
   "metadata": {},
   "outputs": [],
   "source": [
    "i = 40 \n",
    "while i <= 400 :\n",
    "    if i % 3 ==0 :\n",
    "        print(i)\n",
    "    i = i+1"
   ]
  },
  {
   "cell_type": "code",
   "execution_count": null,
   "id": "04f3329b",
   "metadata": {},
   "outputs": [],
   "source": [
    "q4 : Try to filter out all the vowels form below text by using while loop : \n",
    " \"\"\"Python is a high-level, interpreted, general-purpose programming language. Its design philosophy emphasizes code readability with the use of significant indentation.[32]\n",
    "\n",
    "Python is dynamically-typed and garbage-collected. It supports multiple programming paradigms, including structured (particularly procedural), object-oriented and functional programming. It is often described as a \"batteries included\" language due to its comprehensive standard library.[33][34]\n",
    "\n",
    "Guido van Rossum began working on Python in the late 1980s as a successor to the ABC programming language and first released it in 1991 as Python 0.9.0.[35] Python 2.0 was released in 2000 and introduced new features such as list comprehensions, cycle-detecting garbage collection, reference counting, and Unicode support. Python 3.0, released in 2008, was a major revision that is not completely backward-compatible with earlier versions. Python 2 was discontinued with version 2.7.18 in 2020.[36]\n",
    "\n",
    "Python consistently ranks as one of the most popular programming languagesc\"\"\" \n",
    "\n",
    "\n",
    "q5 : Try to generate all the even number between 1- 1000\n",
    "\n",
    "q6 : Define a function for all the above problem statememnt  . \n",
    "    \n",
    "q7 : write a code to get a time of your system \n",
    "\n",
    "q8 : Write a code to fetch date form your system \n",
    "\n",
    "q9 : Write a code to send a mail to your friend \n",
    "\n",
    "q10 : write a code to trigger alarm for you at scheduled time \n",
    "\n",
    "q11 : write a code to check ip address of your system \n",
    "\n",
    "q12 : Write a code to check a perticular installation in your system\n",
    "\n",
    "q13 : Write a code to convert any text in to voice \n",
    "\n",
    "q14 : you have to write a fun which will take string and return a len of \n",
    "it without using a inbuilt fun len\n",
    "\n",
    "q15 :write a fun which will be able to print an index of all premitive element which you will pass \n",
    "\n",
    "q16 : Write a fun which will take input as a dict and give me out as a list of all the values \n",
    "even in case of 2 level nesting it should work . \n",
    "\n",
    "q17 : write a function whihc will take multiple list as a input and give me concatnation of all the element as \n",
    "and output\n",
    "\n",
    "q18 : Write a function which will whould return list of all the file name from a directory . \n",
    "\n",
    "q19 : write a function whihc will be able to read a image file and show it to you .\n",
    "    \n",
    "q20 : write a function by which you will be able to append two PDF files . \n",
    "    \n",
    "q21 : write a function which can help you to filter only word file from a directory . \n",
    "    \n",
    "q22 : write a function which can read video file and play for you . \n",
    "    \n",
    "q23 : write a function which will be able to shutdonw your system . \n",
    "\n",
    "q24 : Write a function which will whould return list of all the file name from a directory . \n",
    "\n",
    "q25 : write a function whihc will be able to access your mail ."
   ]
  },
  {
   "cell_type": "code",
   "execution_count": null,
   "id": "e14f7ace",
   "metadata": {},
   "outputs": [],
   "source": [
    "s =  \"\"\"Python is a high-level, interpreted, general-purpose programming language. Its design philosophy emphasizes code readability with the use of significant indentation.[32]\n",
    "\n",
    "Python is dynamically-typed and garbage-collected. It supports multiple programming paradigms, including structured (particularly procedural), object-oriented and functional programming. It is often described as a \"batteries included\" language due to its comprehensive standard library.[33][34]\n",
    "\n",
    "Guido van Rossum began working on Python in the late 1980s as a successor to the ABC programming language and first released it in 1991 as Python 0.9.0.[35] Python 2.0 was released in 2000 and introduced new features such as list comprehensions, cycle-detecting garbage collection, reference counting, and Unicode support. Python 3.0, released in 2008, was a major revision that is not completely backward-compatible with earlier versions. Python 2 was discontinued with version 2.7.18 in 2020.[36]\n",
    "\n",
    "Python consistently ranks as one of the most popular programming languagesc\"\"\" "
   ]
  },
  {
   "cell_type": "code",
   "execution_count": null,
   "id": "ac4ad853",
   "metadata": {},
   "outputs": [],
   "source": [
    "def vowel(s):\n",
    " \n",
    "    i = 0 \n",
    "    v = 'aeiou'\n",
    "    s = s.lower()\n",
    "    while i < len(s):\n",
    "        if s[i] in v :\n",
    "            print(s[i])\n",
    "        i = i+1\n"
   ]
  },
  {
   "cell_type": "code",
   "execution_count": null,
   "id": "40705e08",
   "metadata": {},
   "outputs": [],
   "source": [
    "vowel(s)"
   ]
  },
  {
   "cell_type": "code",
   "execution_count": null,
   "id": "addcf099",
   "metadata": {},
   "outputs": [],
   "source": [
    "i = 1 \n",
    "while i <= 1000 :\n",
    "    if i % 2 ==0 :\n",
    "        print(i)\n",
    "    i = i+1"
   ]
  },
  {
   "cell_type": "code",
   "execution_count": null,
   "id": "abdc0078",
   "metadata": {},
   "outputs": [],
   "source": [
    "q7 : write a code to get a time of your system \n",
    "\n",
    "q8 : Write a code to fetch date form your system \n",
    "\n",
    "q9 : Write a code to send a mail to your friend \n",
    "\n",
    "q10 : write a code to trigger alarm for you at scheduled time \n",
    "\n",
    "q11 : write a code to check ip address of your system \n",
    "\n",
    "q12 : Write a code to check a perticular installation in your system\n",
    "\n",
    "q13 : Write a code to convert any text in to voice \n",
    "\n",
    "q14 : you have to write a fun which will take string and return a len of \n",
    "it without using a inbuilt fun len\n",
    "\n",
    "q15 :write a fun which will be able to print an index of all premitive element which you will pass \n",
    "\n",
    "q16 : Write a fun which will take input as a dict and give me out as a list of all the values \n",
    "even in case of 2 level nesting it should work . \n",
    "\n",
    "q17 : write a function whihc will take multiple list as a input and give me concatnation of all the element as \n",
    "and output\n",
    "\n",
    "q18 : Write a function which will whould return list of all the file name from a directory . \n",
    "\n",
    "q19 : write a function whihc will be able to read a image file and show it to you .\n",
    "    \n",
    "q20 : write a function by which you will be able to append two PDF files . \n",
    "    \n",
    "q21 : write a function which can help you to filter only word file from a directory . \n",
    "    \n",
    "q22 : write a function which can read video file and play for you . \n",
    "    \n",
    "q23 : write a function which will be able to shutdonw your system . \n",
    "\n",
    "q24 : Write a function which will whould return list of all the file name from a directory . \n",
    "\n",
    "q25 : write a function whihc will be able to access your mail ."
   ]
  },
  {
   "cell_type": "code",
   "execution_count": null,
   "id": "f893b62d",
   "metadata": {},
   "outputs": [],
   "source": [
    "import datetime\n",
    "datetime.datetime.now().time()"
   ]
  },
  {
   "cell_type": "code",
   "execution_count": null,
   "id": "7e767f3f",
   "metadata": {},
   "outputs": [],
   "source": [
    "import datetime\n",
    "datetime.date.today()"
   ]
  },
  {
   "cell_type": "code",
   "execution_count": null,
   "id": "be4bbafb",
   "metadata": {},
   "outputs": [],
   "source": [
    "q9 : Write a code to send a mail to your friend "
   ]
  },
  {
   "cell_type": "code",
   "execution_count": null,
   "id": "927628ef",
   "metadata": {},
   "outputs": [],
   "source": [
    "pip install smtplib"
   ]
  },
  {
   "cell_type": "code",
   "execution_count": null,
   "id": "ce39a734",
   "metadata": {},
   "outputs": [],
   "source": [
    "import smtplib\n",
    "server = smtplib.SMTP('smtp.gmail.com',587)\n",
    "\n",
    "server.starttls()\n",
    "\n",
    "server.login('****@gmail.com', 'Password')\n",
    "\n",
    "server.sendmail('***@gmail.com', 'TEST EMAIL from Python')\n",
    "\n",
    "print('Mail sent')"
   ]
  },
  {
   "cell_type": "code",
   "execution_count": null,
   "id": "c91142ac",
   "metadata": {},
   "outputs": [],
   "source": [
    "q10 : write a code to trigger alarm for you at scheduled time "
   ]
  },
  {
   "cell_type": "code",
   "execution_count": null,
   "id": "58c03182",
   "metadata": {},
   "outputs": [],
   "source": [
    "pip install datetime"
   ]
  },
  {
   "cell_type": "code",
   "execution_count": null,
   "id": "38e295bc",
   "metadata": {},
   "outputs": [],
   "source": [
    "pip install playsound"
   ]
  },
  {
   "cell_type": "code",
   "execution_count": 40,
   "id": "7008a4d5",
   "metadata": {},
   "outputs": [],
   "source": [
    "import time\n",
    "import playsound\n",
    "\n",
    "alarm_time = '1:48'\n",
    "if time.asctime()[11:-8] == alarm_time :\n",
    "    absolute_path = os.path.abspath(\"Hey keshava.mp3\")\n",
    "    print(absolute_path)\n",
    "    playsound.playsound(absolute_path)\n"
   ]
  },
  {
   "cell_type": "code",
   "execution_count": null,
   "id": "6d663819",
   "metadata": {},
   "outputs": [],
   "source": []
  },
  {
   "cell_type": "code",
   "execution_count": 3,
   "id": "612011dd",
   "metadata": {},
   "outputs": [
    {
     "name": "stdout",
     "output_type": "stream",
     "text": [
      "your ip address is  192.168.29.11\n",
      "your computer name is  mypc\n"
     ]
    }
   ],
   "source": [
    "import socket\n",
    "host= socket.gethostname()\n",
    "ip = socket.gethostbyname(host)\n",
    "print(\"your ip address is \", ip)\n",
    "print(\"your computer name is \", host)\n"
   ]
  },
  {
   "cell_type": "code",
   "execution_count": null,
   "id": "de96cfa3",
   "metadata": {},
   "outputs": [],
   "source": [
    "q12 : Write a code to check a perticular installation in your system"
   ]
  },
  {
   "cell_type": "code",
   "execution_count": 7,
   "id": "8426bbdd",
   "metadata": {},
   "outputs": [
    {
     "name": "stdout",
     "output_type": "stream",
     "text": [
      "Note: you may need to restart the kernel to use updated packages.\n"
     ]
    },
    {
     "name": "stderr",
     "output_type": "stream",
     "text": [
      "ERROR: Could not find a version that satisfies the requirement winsapps (from versions: none)\n",
      "ERROR: No matching distribution found for winsapps\n"
     ]
    }
   ],
   "source": [
    "pip install winsapps"
   ]
  },
  {
   "cell_type": "code",
   "execution_count": null,
   "id": "fc0d7c87",
   "metadata": {},
   "outputs": [],
   "source": [
    "import winapps\n",
    "\n",
    "list(winapps.list_installed())\n"
   ]
  },
  {
   "cell_type": "code",
   "execution_count": null,
   "id": "6f7faa88",
   "metadata": {},
   "outputs": [],
   "source": [
    "!pip install winapps"
   ]
  },
  {
   "cell_type": "code",
   "execution_count": null,
   "id": "3b410377",
   "metadata": {},
   "outputs": [],
   "source": [
    "q13 : Write a code to convert any text in to voice "
   ]
  },
  {
   "cell_type": "code",
   "execution_count": null,
   "id": "1aa28c2e",
   "metadata": {},
   "outputs": [],
   "source": [
    "!pip install gtts"
   ]
  },
  {
   "cell_type": "code",
   "execution_count": 3,
   "id": "58552076",
   "metadata": {},
   "outputs": [
    {
     "name": "stdout",
     "output_type": "stream",
     "text": [
      "Requirement already satisfied: playsound in c:\\users\\sub13\\anaconda3\\lib\\site-packages (1.3.0)\n"
     ]
    }
   ],
   "source": [
    "!pip install playsound"
   ]
  },
  {
   "cell_type": "code",
   "execution_count": 2,
   "id": "28832395",
   "metadata": {},
   "outputs": [
    {
     "name": "stdout",
     "output_type": "stream",
     "text": [
      "Enter the text to convert to voice: jhfhdfjlhk;lkl\n"
     ]
    },
    {
     "ename": "PermissionError",
     "evalue": "[Errno 13] Permission denied: 'Hello.mp3'",
     "output_type": "error",
     "traceback": [
      "\u001b[1;31m---------------------------------------------------------------------------\u001b[0m",
      "\u001b[1;31mPermissionError\u001b[0m                           Traceback (most recent call last)",
      "Input \u001b[1;32mIn [2]\u001b[0m, in \u001b[0;36m<cell line: 10>\u001b[1;34m()\u001b[0m\n\u001b[0;32m      6\u001b[0m     playsound(\u001b[38;5;124m\"\u001b[39m\u001b[38;5;124mHello.mp3\u001b[39m\u001b[38;5;124m\"\u001b[39m)\n\u001b[0;32m      9\u001b[0m Text\u001b[38;5;241m=\u001b[39m\u001b[38;5;28minput\u001b[39m(\u001b[38;5;124m\"\u001b[39m\u001b[38;5;124mEnter the text to convert to voice: \u001b[39m\u001b[38;5;124m\"\u001b[39m)\n\u001b[1;32m---> 10\u001b[0m \u001b[43mtxt_to_voice\u001b[49m\u001b[43m(\u001b[49m\u001b[43mText\u001b[49m\u001b[43m)\u001b[49m\n",
      "Input \u001b[1;32mIn [2]\u001b[0m, in \u001b[0;36mtxt_to_voice\u001b[1;34m(str1)\u001b[0m\n\u001b[0;32m      3\u001b[0m \u001b[38;5;28;01mdef\u001b[39;00m \u001b[38;5;21mtxt_to_voice\u001b[39m(str1):\n\u001b[0;32m      4\u001b[0m     tts\u001b[38;5;241m=\u001b[39mgtts\u001b[38;5;241m.\u001b[39mgTTS(str1)\n\u001b[1;32m----> 5\u001b[0m     \u001b[43mtts\u001b[49m\u001b[38;5;241;43m.\u001b[39;49m\u001b[43msave\u001b[49m\u001b[43m(\u001b[49m\u001b[38;5;124;43m\"\u001b[39;49m\u001b[38;5;124;43mHello.mp3\u001b[39;49m\u001b[38;5;124;43m\"\u001b[39;49m\u001b[43m)\u001b[49m\n\u001b[0;32m      6\u001b[0m     playsound(\u001b[38;5;124m\"\u001b[39m\u001b[38;5;124mHello.mp3\u001b[39m\u001b[38;5;124m\"\u001b[39m)\n",
      "File \u001b[1;32m~\\anaconda3\\lib\\site-packages\\gtts\\tts.py:328\u001b[0m, in \u001b[0;36mgTTS.save\u001b[1;34m(self, savefile)\u001b[0m\n\u001b[0;32m    318\u001b[0m \u001b[38;5;28;01mdef\u001b[39;00m \u001b[38;5;21msave\u001b[39m(\u001b[38;5;28mself\u001b[39m, savefile):\n\u001b[0;32m    319\u001b[0m     \u001b[38;5;124;03m\"\"\"Do the TTS API request and write result to file.\u001b[39;00m\n\u001b[0;32m    320\u001b[0m \n\u001b[0;32m    321\u001b[0m \u001b[38;5;124;03m    Args:\u001b[39;00m\n\u001b[1;32m   (...)\u001b[0m\n\u001b[0;32m    326\u001b[0m \n\u001b[0;32m    327\u001b[0m \u001b[38;5;124;03m    \"\"\"\u001b[39;00m\n\u001b[1;32m--> 328\u001b[0m     \u001b[38;5;28;01mwith\u001b[39;00m \u001b[38;5;28;43mopen\u001b[39;49m\u001b[43m(\u001b[49m\u001b[38;5;28;43mstr\u001b[39;49m\u001b[43m(\u001b[49m\u001b[43msavefile\u001b[49m\u001b[43m)\u001b[49m\u001b[43m,\u001b[49m\u001b[43m \u001b[49m\u001b[38;5;124;43m\"\u001b[39;49m\u001b[38;5;124;43mwb\u001b[39;49m\u001b[38;5;124;43m\"\u001b[39;49m\u001b[43m)\u001b[49m \u001b[38;5;28;01mas\u001b[39;00m f:\n\u001b[0;32m    329\u001b[0m         \u001b[38;5;28mself\u001b[39m\u001b[38;5;241m.\u001b[39mwrite_to_fp(f)\n\u001b[0;32m    330\u001b[0m         log\u001b[38;5;241m.\u001b[39mdebug(\u001b[38;5;124m\"\u001b[39m\u001b[38;5;124mSaved to \u001b[39m\u001b[38;5;132;01m%s\u001b[39;00m\u001b[38;5;124m\"\u001b[39m, savefile)\n",
      "\u001b[1;31mPermissionError\u001b[0m: [Errno 13] Permission denied: 'Hello.mp3'"
     ]
    }
   ],
   "source": [
    "import gtts\n",
    "from playsound import playsound\n",
    "def txt_to_voice(str1):\n",
    "    tts=gtts.gTTS(str1)\n",
    "    tts.save(\"Hello.mp3\")\n",
    "    playsound(\"Hello.mp3\")\n",
    "    \n",
    "            \n",
    "Text=input(\"Enter the text to convert to voice: \")\n",
    "txt_to_voice(Text)\n"
   ]
  },
  {
   "cell_type": "code",
   "execution_count": null,
   "id": "d827c0af",
   "metadata": {},
   "outputs": [],
   "source": [
    "q14 : you have to write a fun which will take string and return a len of \n",
    "it without using a inbuilt fun len"
   ]
  },
  {
   "cell_type": "code",
   "execution_count": 5,
   "id": "8415df2b",
   "metadata": {},
   "outputs": [
    {
     "data": {
      "text/plain": [
       "4"
      ]
     },
     "execution_count": 5,
     "metadata": {},
     "output_type": "execute_result"
    }
   ],
   "source": [
    "s = \"sudh\"\n",
    "len(s)"
   ]
  },
  {
   "cell_type": "code",
   "execution_count": 4,
   "id": "f1710143",
   "metadata": {},
   "outputs": [],
   "source": [
    "def str_len(s) : \n",
    "    count = 0 \n",
    "    for i in s :\n",
    "        count = count+1 \n",
    "    return count"
   ]
  },
  {
   "cell_type": "code",
   "execution_count": 5,
   "id": "e3c6052f",
   "metadata": {},
   "outputs": [
    {
     "data": {
      "text/plain": [
       "4"
      ]
     },
     "execution_count": 5,
     "metadata": {},
     "output_type": "execute_result"
    }
   ],
   "source": [
    "str_len(\"sdfs\")"
   ]
  },
  {
   "cell_type": "code",
   "execution_count": null,
   "id": "4fc455de",
   "metadata": {},
   "outputs": [],
   "source": [
    "q15 :write a fun which will be able to print an index of all premitive element which you will pass \n",
    "\n",
    "q16 : Write a fun which will take input as a dict and give me out as a list of all the values \n",
    "even in case of 2 level nesting it should work . \n",
    "\n",
    "q17 : write a function whihc will take multiple list as a input and give me concatnation of all the element as \n",
    "and output\n",
    "\n",
    "q18 : Write a function which will whould return list of all the file name from a directory . \n",
    "\n",
    "q19 : write a function whihc will be able to read a image file and show it to you .\n",
    "    \n",
    "q20 : write a function by which you will be able to append two PDF files . \n",
    "    \n",
    "q21 : write a function which can help you to filter only word file from a directory . \n",
    "    \n",
    "q22 : write a function which can read video file and play for you . \n",
    "    \n",
    "q23 : write a function which will be able to shutdonw your system . \n",
    "\n",
    "q24 : Write a function which will whould return list of all the file name from a directory . \n",
    "\n",
    "q25 : write a function whihc will be able to access your mail ."
   ]
  },
  {
   "cell_type": "code",
   "execution_count": 13,
   "id": "8dc203b3",
   "metadata": {},
   "outputs": [],
   "source": [
    "def print_prim(l) : \n",
    "    for i in range(len(l)):\n",
    "        print(i, l[i])"
   ]
  },
  {
   "cell_type": "code",
   "execution_count": 14,
   "id": "ca6fc73d",
   "metadata": {},
   "outputs": [
    {
     "name": "stdout",
     "output_type": "stream",
     "text": [
      "0 4\n",
      "1 5\n",
      "2 6\n",
      "3 7\n",
      "4 7\n",
      "5 sdfs\n",
      "6 [3, 4, 5, 6]\n"
     ]
    }
   ],
   "source": [
    "print_prim([4,5,6,7,7, \"sdfs\" , [3,4,5,6]])"
   ]
  },
  {
   "cell_type": "code",
   "execution_count": 15,
   "id": "4ff2cb02",
   "metadata": {},
   "outputs": [],
   "source": [
    "d = {'k1' :\"value\" , \"k2\" : \"values \" ,\"k3\" : { \"k12\" : \"sudh\" , \"k13\"  : \"gafasd\"}}"
   ]
  },
  {
   "cell_type": "code",
   "execution_count": 16,
   "id": "f049a385",
   "metadata": {},
   "outputs": [],
   "source": [
    "def dic_to_list(d) : \n",
    "    l= []\n",
    "    for i in d.values() : \n",
    "        if type(i) != dict :\n",
    "            l.append(i)\n",
    "        if type(i) == dict :\n",
    "            for j in i.values():\n",
    "                l.append(j)\n",
    "    return l "
   ]
  },
  {
   "cell_type": "code",
   "execution_count": 17,
   "id": "9e5864e3",
   "metadata": {},
   "outputs": [
    {
     "data": {
      "text/plain": [
       "['value', 'values ', 'sudh', 'gafasd']"
      ]
     },
     "execution_count": 17,
     "metadata": {},
     "output_type": "execute_result"
    }
   ],
   "source": [
    "dic_to_list(d)"
   ]
  },
  {
   "cell_type": "code",
   "execution_count": null,
   "id": "b675a475",
   "metadata": {},
   "outputs": [],
   "source": [
    "q19 : write a function whihc will be able to read a image file and show it to you .\n",
    "    \n"
   ]
  },
  {
   "cell_type": "code",
   "execution_count": 18,
   "id": "da4fa07e",
   "metadata": {},
   "outputs": [
    {
     "name": "stdout",
     "output_type": "stream",
     "text": [
      "Collecting opencv-python\n",
      "  Downloading opencv_python-4.6.0.66-cp36-abi3-win_amd64.whl (35.6 MB)\n",
      "Requirement already satisfied: numpy>=1.17.3 in c:\\users\\sub13\\anaconda3\\lib\\site-packages (from opencv-python) (1.21.5)\n",
      "Installing collected packages: opencv-python\n",
      "Successfully installed opencv-python-4.6.0.66\n"
     ]
    }
   ],
   "source": [
    "!pip install opencv-python"
   ]
  },
  {
   "cell_type": "code",
   "execution_count": 22,
   "id": "1da2a7a9",
   "metadata": {},
   "outputs": [
    {
     "name": "stderr",
     "output_type": "stream",
     "text": [
      "ERROR: Could not find a version that satisfies the requirement cv2 (from versions: none)\n",
      "ERROR: No matching distribution found for cv2\n"
     ]
    }
   ],
   "source": [
    "!pip install cv2"
   ]
  },
  {
   "cell_type": "code",
   "execution_count": 3,
   "id": "f16f854d",
   "metadata": {},
   "outputs": [],
   "source": [
    "import cv2\n",
    "def read_img() : \n",
    "    a = cv2.imread('D:/abc.jpg')\n",
    "    cv2.imshow(\"myimg\",a)\n",
    "    cv2.waitKey(5000)\n",
    "    cv2.destroyWindow('myimg')\n",
    "    \n",
    "    "
   ]
  },
  {
   "cell_type": "code",
   "execution_count": 4,
   "id": "56e9e659",
   "metadata": {},
   "outputs": [],
   "source": [
    "read_img()"
   ]
  },
  {
   "cell_type": "code",
   "execution_count": 35,
   "id": "1aa1ce85",
   "metadata": {},
   "outputs": [
    {
     "name": "stdout",
     "output_type": "stream",
     "text": [
      "<class 'list'> 24\n",
      "<class 'tuple'> 720\n",
      "<class 'tuple'> 2520\n",
      "<class 'set'> 20700\n",
      "<class 'dict'> 1008\n",
      "<class 'list'> 1\n"
     ]
    }
   ],
   "source": [
    "l = [[1,2,3,4], (2,3,4,5,6), (3,4,5,6,7), set([23,4,5,45,4,4,5,45,45,4,5]),{'k1':\"sudh\", 'k2': \"ineuron\", 'k3': \"kumar\", 3:6, 7:8}, [\"ineuron\", \"data science\"]]\n",
    "\n",
    "for i in l:\n",
    "    m =1\n",
    "    if type(i) == list or type(i) == tuple or type(i) == set:\n",
    "        for j in i:\n",
    "            if type(j) == int:\n",
    "                m = m*j\n",
    "        print(type(i), m)\n",
    "    if type(i) == dict:\n",
    "        for k in i.items():\n",
    "            for n in k :\n",
    "                if type(n) == int :\n",
    "                    m = m * n \n",
    "        print(type(i) , m)\n"
   ]
  },
  {
   "cell_type": "code",
   "execution_count": 36,
   "id": "56d89c70",
   "metadata": {},
   "outputs": [
    {
     "name": "stdout",
     "output_type": "stream",
     "text": [
      "G  \n",
      "H  M  \n",
      "I  N  R  \n",
      "J  O  S  V  \n",
      "K  P  T  W  Y  \n",
      "L  Q  U  X  Z  [  \n",
      "M  R  V  Y  [  \n"
     ]
    }
   ],
   "source": [
    "i=0\n",
    "while i<7:\n",
    "    c=65+i\n",
    "    j=0\n",
    "    while j<i+1:\n",
    "        if c==91:\n",
    "            break\n",
    "        c=c+6-j\n",
    "        j+=1\n",
    "        print(chr(c),end=\"  \")\n",
    "    \n",
    "    i+=1\n",
    "    print()\n"
   ]
  },
  {
   "cell_type": "code",
   "execution_count": 37,
   "id": "a0253707",
   "metadata": {},
   "outputs": [],
   "source": [
    "def test9(): \n",
    "    a = 1\n",
    "    l5=list(range(1,1000)) \n",
    "    while a< len(l5):\n",
    "        if a%2 == 0:\n",
    "            print(a)\n",
    "        a=a+1 \n"
   ]
  },
  {
   "cell_type": "code",
   "execution_count": null,
   "id": "a9981eb6",
   "metadata": {},
   "outputs": [],
   "source": [
    "test9()"
   ]
  },
  {
   "cell_type": "code",
   "execution_count": 39,
   "id": "be7c934d",
   "metadata": {},
   "outputs": [
    {
     "name": "stdout",
     "output_type": "stream",
     "text": [
      "radius14\n",
      "perimeter: 87.964604\n"
     ]
    }
   ],
   "source": [
    "PI = 3.141593\n",
    "radius_p = float(input('radius'))\n",
    "perimeter = 2 * PI * radius_p\n",
    "peri=str(perimeter)\n",
    "print('perimeter:', peri)\n"
   ]
  },
  {
   "cell_type": "code",
   "execution_count": 11,
   "id": "c94f13bc",
   "metadata": {},
   "outputs": [
    {
     "name": "stdout",
     "output_type": "stream",
     "text": [
      "I have eaten  99  burritos\n"
     ]
    }
   ],
   "source": [
    "print('I have eaten ', 99, ' burritos')"
   ]
  },
  {
   "cell_type": "code",
   "execution_count": null,
   "id": "8bcb8266",
   "metadata": {},
   "outputs": [],
   "source": []
  }
 ],
 "metadata": {
  "kernelspec": {
   "display_name": "Python 3 (ipykernel)",
   "language": "python",
   "name": "python3"
  },
  "language_info": {
   "codemirror_mode": {
    "name": "ipython",
    "version": 3
   },
   "file_extension": ".py",
   "mimetype": "text/x-python",
   "name": "python",
   "nbconvert_exporter": "python",
   "pygments_lexer": "ipython3",
   "version": "3.9.12"
  }
 },
 "nbformat": 4,
 "nbformat_minor": 5
}
