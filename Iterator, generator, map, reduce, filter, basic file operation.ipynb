{
 "cells": [
  {
   "cell_type": "code",
   "execution_count": 1,
   "id": "9b200dbe",
   "metadata": {},
   "outputs": [],
   "source": [
    "l=[1,3,4,5,5]"
   ]
  },
  {
   "cell_type": "code",
   "execution_count": 2,
   "id": "72997e67",
   "metadata": {},
   "outputs": [
    {
     "name": "stdout",
     "output_type": "stream",
     "text": [
      "1\n",
      "3\n",
      "4\n",
      "5\n",
      "5\n"
     ]
    }
   ],
   "source": [
    "for i in l:\n",
    "    print(i)"
   ]
  },
  {
   "cell_type": "code",
   "execution_count": 3,
   "id": "3ae51b24",
   "metadata": {},
   "outputs": [
    {
     "ename": "TypeError",
     "evalue": "'list' object is not an iterator",
     "output_type": "error",
     "traceback": [
      "\u001b[1;31m---------------------------------------------------------------------------\u001b[0m",
      "\u001b[1;31mTypeError\u001b[0m                                 Traceback (most recent call last)",
      "Input \u001b[1;32mIn [3]\u001b[0m, in \u001b[0;36m<cell line: 1>\u001b[1;34m()\u001b[0m\n\u001b[1;32m----> 1\u001b[0m \u001b[38;5;28;43mnext\u001b[39;49m\u001b[43m(\u001b[49m\u001b[43ml\u001b[49m\u001b[43m)\u001b[49m\n",
      "\u001b[1;31mTypeError\u001b[0m: 'list' object is not an iterator"
     ]
    }
   ],
   "source": [
    "next(l)"
   ]
  },
  {
   "cell_type": "code",
   "execution_count": 4,
   "id": "d2c1b37d",
   "metadata": {},
   "outputs": [],
   "source": [
    "b= iter(l)"
   ]
  },
  {
   "cell_type": "code",
   "execution_count": 5,
   "id": "78b69a01",
   "metadata": {},
   "outputs": [
    {
     "data": {
      "text/plain": [
       "1"
      ]
     },
     "execution_count": 5,
     "metadata": {},
     "output_type": "execute_result"
    }
   ],
   "source": [
    "next(b)"
   ]
  },
  {
   "cell_type": "code",
   "execution_count": 6,
   "id": "67b80f47",
   "metadata": {},
   "outputs": [
    {
     "data": {
      "text/plain": [
       "3"
      ]
     },
     "execution_count": 6,
     "metadata": {},
     "output_type": "execute_result"
    }
   ],
   "source": [
    "next(b)"
   ]
  },
  {
   "cell_type": "code",
   "execution_count": 7,
   "id": "7f049828",
   "metadata": {},
   "outputs": [
    {
     "data": {
      "text/plain": [
       "4"
      ]
     },
     "execution_count": 7,
     "metadata": {},
     "output_type": "execute_result"
    }
   ],
   "source": [
    "next(b)"
   ]
  },
  {
   "cell_type": "code",
   "execution_count": 8,
   "id": "c2013b72",
   "metadata": {},
   "outputs": [
    {
     "data": {
      "text/plain": [
       "5"
      ]
     },
     "execution_count": 8,
     "metadata": {},
     "output_type": "execute_result"
    }
   ],
   "source": [
    "next(b)"
   ]
  },
  {
   "cell_type": "code",
   "execution_count": 9,
   "id": "f91687ea",
   "metadata": {},
   "outputs": [
    {
     "data": {
      "text/plain": [
       "5"
      ]
     },
     "execution_count": 9,
     "metadata": {},
     "output_type": "execute_result"
    }
   ],
   "source": [
    "next(b)"
   ]
  },
  {
   "cell_type": "code",
   "execution_count": 10,
   "id": "579fd41b",
   "metadata": {},
   "outputs": [
    {
     "ename": "StopIteration",
     "evalue": "",
     "output_type": "error",
     "traceback": [
      "\u001b[1;31m---------------------------------------------------------------------------\u001b[0m",
      "\u001b[1;31mStopIteration\u001b[0m                             Traceback (most recent call last)",
      "Input \u001b[1;32mIn [10]\u001b[0m, in \u001b[0;36m<cell line: 1>\u001b[1;34m()\u001b[0m\n\u001b[1;32m----> 1\u001b[0m \u001b[38;5;28;43mnext\u001b[39;49m\u001b[43m(\u001b[49m\u001b[43mb\u001b[49m\u001b[43m)\u001b[49m\n",
      "\u001b[1;31mStopIteration\u001b[0m: "
     ]
    }
   ],
   "source": [
    "next(b)"
   ]
  },
  {
   "cell_type": "code",
   "execution_count": 12,
   "id": "12381772",
   "metadata": {},
   "outputs": [
    {
     "ename": "TypeError",
     "evalue": "'int' object is not an iterator",
     "output_type": "error",
     "traceback": [
      "\u001b[1;31m---------------------------------------------------------------------------\u001b[0m",
      "\u001b[1;31mTypeError\u001b[0m                                 Traceback (most recent call last)",
      "Input \u001b[1;32mIn [12]\u001b[0m, in \u001b[0;36m<cell line: 1>\u001b[1;34m()\u001b[0m\n\u001b[1;32m----> 1\u001b[0m \u001b[38;5;28;43mnext\u001b[39;49m\u001b[43m(\u001b[49m\u001b[38;5;241;43m45\u001b[39;49m\u001b[43m)\u001b[49m\n",
      "\u001b[1;31mTypeError\u001b[0m: 'int' object is not an iterator"
     ]
    }
   ],
   "source": [
    "next(45)"
   ]
  },
  {
   "cell_type": "code",
   "execution_count": 13,
   "id": "b299d732",
   "metadata": {},
   "outputs": [
    {
     "ename": "TypeError",
     "evalue": "'int' object is not iterable",
     "output_type": "error",
     "traceback": [
      "\u001b[1;31m---------------------------------------------------------------------------\u001b[0m",
      "\u001b[1;31mTypeError\u001b[0m                                 Traceback (most recent call last)",
      "Input \u001b[1;32mIn [13]\u001b[0m, in \u001b[0;36m<cell line: 1>\u001b[1;34m()\u001b[0m\n\u001b[1;32m----> 1\u001b[0m \u001b[38;5;28;43miter\u001b[39;49m\u001b[43m(\u001b[49m\u001b[38;5;241;43m45\u001b[39;49m\u001b[43m)\u001b[49m\n",
      "\u001b[1;31mTypeError\u001b[0m: 'int' object is not iterable"
     ]
    }
   ],
   "source": [
    "iter(45)"
   ]
  },
  {
   "cell_type": "code",
   "execution_count": 11,
   "id": "890c39c5",
   "metadata": {},
   "outputs": [
    {
     "data": {
      "text/plain": [
       "[1, 3, 4, 5, 5]"
      ]
     },
     "execution_count": 11,
     "metadata": {},
     "output_type": "execute_result"
    }
   ],
   "source": [
    "l"
   ]
  },
  {
   "cell_type": "code",
   "execution_count": 14,
   "id": "6965653f",
   "metadata": {},
   "outputs": [
    {
     "data": {
      "text/plain": [
       "<list_iterator at 0x24386d28dc0>"
      ]
     },
     "execution_count": 14,
     "metadata": {},
     "output_type": "execute_result"
    }
   ],
   "source": [
    "b"
   ]
  },
  {
   "cell_type": "code",
   "execution_count": 16,
   "id": "cad8b5f8",
   "metadata": {},
   "outputs": [
    {
     "name": "stdout",
     "output_type": "stream",
     "text": [
      "1\n",
      "3\n",
      "4\n",
      "5\n",
      "5\n"
     ]
    }
   ],
   "source": [
    "for i in l:       \n",
    "    print(i)          #iter()-->next()"
   ]
  },
  {
   "cell_type": "code",
   "execution_count": 17,
   "id": "aca552ff",
   "metadata": {},
   "outputs": [],
   "source": [
    "s=\"Sudh\""
   ]
  },
  {
   "cell_type": "code",
   "execution_count": 18,
   "id": "4c0aee28",
   "metadata": {},
   "outputs": [
    {
     "ename": "TypeError",
     "evalue": "'str' object is not an iterator",
     "output_type": "error",
     "traceback": [
      "\u001b[1;31m---------------------------------------------------------------------------\u001b[0m",
      "\u001b[1;31mTypeError\u001b[0m                                 Traceback (most recent call last)",
      "Input \u001b[1;32mIn [18]\u001b[0m, in \u001b[0;36m<cell line: 1>\u001b[1;34m()\u001b[0m\n\u001b[1;32m----> 1\u001b[0m \u001b[38;5;28;43mnext\u001b[39;49m\u001b[43m(\u001b[49m\u001b[43ms\u001b[49m\u001b[43m)\u001b[49m\n",
      "\u001b[1;31mTypeError\u001b[0m: 'str' object is not an iterator"
     ]
    }
   ],
   "source": [
    "next(s)"
   ]
  },
  {
   "cell_type": "code",
   "execution_count": 20,
   "id": "ac000146",
   "metadata": {},
   "outputs": [],
   "source": [
    "s=iter(s)"
   ]
  },
  {
   "cell_type": "code",
   "execution_count": 21,
   "id": "e52df1ad",
   "metadata": {},
   "outputs": [
    {
     "data": {
      "text/plain": [
       "'S'"
      ]
     },
     "execution_count": 21,
     "metadata": {},
     "output_type": "execute_result"
    }
   ],
   "source": [
    "next(s)"
   ]
  },
  {
   "cell_type": "code",
   "execution_count": 22,
   "id": "89441b8f",
   "metadata": {},
   "outputs": [
    {
     "data": {
      "text/plain": [
       "'u'"
      ]
     },
     "execution_count": 22,
     "metadata": {},
     "output_type": "execute_result"
    }
   ],
   "source": [
    "next(s)"
   ]
  },
  {
   "cell_type": "code",
   "execution_count": 23,
   "id": "aa786406",
   "metadata": {},
   "outputs": [
    {
     "data": {
      "text/plain": [
       "'d'"
      ]
     },
     "execution_count": 23,
     "metadata": {},
     "output_type": "execute_result"
    }
   ],
   "source": [
    "next(s)"
   ]
  },
  {
   "cell_type": "code",
   "execution_count": 24,
   "id": "2eba93ea",
   "metadata": {},
   "outputs": [
    {
     "data": {
      "text/plain": [
       "'h'"
      ]
     },
     "execution_count": 24,
     "metadata": {},
     "output_type": "execute_result"
    }
   ],
   "source": [
    "next(s)"
   ]
  },
  {
   "cell_type": "code",
   "execution_count": 25,
   "id": "7cef8a4c",
   "metadata": {},
   "outputs": [
    {
     "ename": "StopIteration",
     "evalue": "",
     "output_type": "error",
     "traceback": [
      "\u001b[1;31m---------------------------------------------------------------------------\u001b[0m",
      "\u001b[1;31mStopIteration\u001b[0m                             Traceback (most recent call last)",
      "Input \u001b[1;32mIn [25]\u001b[0m, in \u001b[0;36m<cell line: 1>\u001b[1;34m()\u001b[0m\n\u001b[1;32m----> 1\u001b[0m \u001b[38;5;28;43mnext\u001b[39;49m\u001b[43m(\u001b[49m\u001b[43ms\u001b[49m\u001b[43m)\u001b[49m\n",
      "\u001b[1;31mStopIteration\u001b[0m: "
     ]
    }
   ],
   "source": [
    "next(s)"
   ]
  },
  {
   "cell_type": "code",
   "execution_count": 26,
   "id": "c5583c18",
   "metadata": {},
   "outputs": [
    {
     "name": "stdout",
     "output_type": "stream",
     "text": [
      "s\n",
      "u\n",
      "d\n",
      "h\n"
     ]
    }
   ],
   "source": [
    "s=\"sudh\"\n",
    "for i in s:\n",
    "    print(i)"
   ]
  },
  {
   "cell_type": "code",
   "execution_count": 29,
   "id": "690ab564",
   "metadata": {},
   "outputs": [],
   "source": [
    "t=(5,6,7,8,8)"
   ]
  },
  {
   "cell_type": "code",
   "execution_count": 30,
   "id": "7bac9fff",
   "metadata": {},
   "outputs": [
    {
     "ename": "TypeError",
     "evalue": "'tuple' object is not an iterator",
     "output_type": "error",
     "traceback": [
      "\u001b[1;31m---------------------------------------------------------------------------\u001b[0m",
      "\u001b[1;31mTypeError\u001b[0m                                 Traceback (most recent call last)",
      "Input \u001b[1;32mIn [30]\u001b[0m, in \u001b[0;36m<cell line: 1>\u001b[1;34m()\u001b[0m\n\u001b[1;32m----> 1\u001b[0m \u001b[38;5;28;43mnext\u001b[39;49m\u001b[43m(\u001b[49m\u001b[43mt\u001b[49m\u001b[43m)\u001b[49m\n",
      "\u001b[1;31mTypeError\u001b[0m: 'tuple' object is not an iterator"
     ]
    }
   ],
   "source": [
    "next(t)"
   ]
  },
  {
   "cell_type": "code",
   "execution_count": 31,
   "id": "2a9615d2",
   "metadata": {},
   "outputs": [],
   "source": [
    "t=iter(t)"
   ]
  },
  {
   "cell_type": "code",
   "execution_count": 32,
   "id": "1c84a52c",
   "metadata": {},
   "outputs": [
    {
     "data": {
      "text/plain": [
       "5"
      ]
     },
     "execution_count": 32,
     "metadata": {},
     "output_type": "execute_result"
    }
   ],
   "source": [
    "next(t)"
   ]
  },
  {
   "cell_type": "code",
   "execution_count": 33,
   "id": "4d3d94a8",
   "metadata": {},
   "outputs": [
    {
     "data": {
      "text/plain": [
       "6"
      ]
     },
     "execution_count": 33,
     "metadata": {},
     "output_type": "execute_result"
    }
   ],
   "source": [
    "next(t)"
   ]
  },
  {
   "cell_type": "code",
   "execution_count": 34,
   "id": "55c08d5e",
   "metadata": {},
   "outputs": [
    {
     "data": {
      "text/plain": [
       "7"
      ]
     },
     "execution_count": 34,
     "metadata": {},
     "output_type": "execute_result"
    }
   ],
   "source": [
    "next(t)"
   ]
  },
  {
   "cell_type": "code",
   "execution_count": 35,
   "id": "f0cc95c3",
   "metadata": {},
   "outputs": [
    {
     "data": {
      "text/plain": [
       "8"
      ]
     },
     "execution_count": 35,
     "metadata": {},
     "output_type": "execute_result"
    }
   ],
   "source": [
    "next(t)"
   ]
  },
  {
   "cell_type": "code",
   "execution_count": 36,
   "id": "1788a733",
   "metadata": {},
   "outputs": [
    {
     "data": {
      "text/plain": [
       "8"
      ]
     },
     "execution_count": 36,
     "metadata": {},
     "output_type": "execute_result"
    }
   ],
   "source": [
    "next(t)"
   ]
  },
  {
   "cell_type": "code",
   "execution_count": 37,
   "id": "10da31bc",
   "metadata": {},
   "outputs": [
    {
     "ename": "StopIteration",
     "evalue": "",
     "output_type": "error",
     "traceback": [
      "\u001b[1;31m---------------------------------------------------------------------------\u001b[0m",
      "\u001b[1;31mStopIteration\u001b[0m                             Traceback (most recent call last)",
      "Input \u001b[1;32mIn [37]\u001b[0m, in \u001b[0;36m<cell line: 1>\u001b[1;34m()\u001b[0m\n\u001b[1;32m----> 1\u001b[0m \u001b[38;5;28;43mnext\u001b[39;49m\u001b[43m(\u001b[49m\u001b[43mt\u001b[49m\u001b[43m)\u001b[49m\n",
      "\u001b[1;31mStopIteration\u001b[0m: "
     ]
    }
   ],
   "source": [
    "next(t)"
   ]
  },
  {
   "cell_type": "code",
   "execution_count": 38,
   "id": "15dd0a29",
   "metadata": {},
   "outputs": [
    {
     "data": {
      "text/plain": [
       "[1, 2, 3, 4, 5, 6, 7, 8, 9]"
      ]
     },
     "execution_count": 38,
     "metadata": {},
     "output_type": "execute_result"
    }
   ],
   "source": [
    "list(range(1,10))"
   ]
  },
  {
   "cell_type": "code",
   "execution_count": 39,
   "id": "7c6edc15",
   "metadata": {},
   "outputs": [],
   "source": [
    "x=lambda a:[i*i for i in range(a)]"
   ]
  },
  {
   "cell_type": "code",
   "execution_count": 40,
   "id": "d26ca9b3",
   "metadata": {},
   "outputs": [
    {
     "data": {
      "text/plain": [
       "[0, 1, 4, 9, 16]"
      ]
     },
     "execution_count": 40,
     "metadata": {},
     "output_type": "execute_result"
    }
   ],
   "source": [
    "x(5)"
   ]
  },
  {
   "cell_type": "code",
   "execution_count": 43,
   "id": "111b0777",
   "metadata": {},
   "outputs": [],
   "source": [
    "def square_fun(n):\n",
    "    x=[i*i for i in range(n)]\n",
    "    return x"
   ]
  },
  {
   "cell_type": "code",
   "execution_count": 44,
   "id": "0df5ddab",
   "metadata": {},
   "outputs": [
    {
     "data": {
      "text/plain": [
       "[0, 1, 4, 9, 16, 25, 36, 49]"
      ]
     },
     "execution_count": 44,
     "metadata": {},
     "output_type": "execute_result"
    }
   ],
   "source": [
    "square_fun(8)"
   ]
  },
  {
   "cell_type": "code",
   "execution_count": 41,
   "id": "850bd12c",
   "metadata": {},
   "outputs": [
    {
     "data": {
      "text/plain": [
       "range(0, 5)"
      ]
     },
     "execution_count": 41,
     "metadata": {},
     "output_type": "execute_result"
    }
   ],
   "source": [
    "range(5)"
   ]
  },
  {
   "cell_type": "code",
   "execution_count": 42,
   "id": "32fcc64c",
   "metadata": {},
   "outputs": [
    {
     "data": {
      "text/plain": [
       "[0, 1, 2, 3, 4]"
      ]
     },
     "execution_count": 42,
     "metadata": {},
     "output_type": "execute_result"
    }
   ],
   "source": [
    "list(range(5))"
   ]
  },
  {
   "cell_type": "code",
   "execution_count": null,
   "id": "c9653f18",
   "metadata": {},
   "outputs": [],
   "source": []
  },
  {
   "cell_type": "code",
   "execution_count": 45,
   "id": "83ade660",
   "metadata": {},
   "outputs": [],
   "source": [
    "def square_fun1(n):\n",
    "    x=[i*i for i in range(n)]\n",
    "    yield x         #to make generator function yield keyword is used"
   ]
  },
  {
   "cell_type": "code",
   "execution_count": 46,
   "id": "d3dd4080",
   "metadata": {},
   "outputs": [
    {
     "data": {
      "text/plain": [
       "<generator object square_fun1 at 0x00000243878249E0>"
      ]
     },
     "execution_count": 46,
     "metadata": {},
     "output_type": "execute_result"
    }
   ],
   "source": [
    "square_fun1(7)"
   ]
  },
  {
   "cell_type": "code",
   "execution_count": 47,
   "id": "12aea348",
   "metadata": {},
   "outputs": [
    {
     "name": "stdout",
     "output_type": "stream",
     "text": [
      "[0, 1, 4, 9]\n"
     ]
    }
   ],
   "source": [
    "for i in square_fun1(4):\n",
    "    print(i)"
   ]
  },
  {
   "cell_type": "code",
   "execution_count": 48,
   "id": "e4ef6a98",
   "metadata": {},
   "outputs": [
    {
     "name": "stdout",
     "output_type": "stream",
     "text": [
      "0\n",
      "1\n",
      "2\n",
      "3\n"
     ]
    }
   ],
   "source": [
    "for i in range(4):\n",
    "    print(i)"
   ]
  },
  {
   "cell_type": "code",
   "execution_count": 49,
   "id": "f0bfdd9f",
   "metadata": {},
   "outputs": [
    {
     "data": {
      "text/plain": [
       "[0, 1, 4, 9]"
      ]
     },
     "execution_count": 49,
     "metadata": {},
     "output_type": "execute_result"
    }
   ],
   "source": [
    "next(square_fun1(4))"
   ]
  },
  {
   "cell_type": "code",
   "execution_count": 50,
   "id": "332d722b",
   "metadata": {},
   "outputs": [
    {
     "ename": "TypeError",
     "evalue": "'range' object is not an iterator",
     "output_type": "error",
     "traceback": [
      "\u001b[1;31m---------------------------------------------------------------------------\u001b[0m",
      "\u001b[1;31mTypeError\u001b[0m                                 Traceback (most recent call last)",
      "Input \u001b[1;32mIn [50]\u001b[0m, in \u001b[0;36m<cell line: 1>\u001b[1;34m()\u001b[0m\n\u001b[1;32m----> 1\u001b[0m \u001b[38;5;28;43mnext\u001b[39;49m\u001b[43m(\u001b[49m\u001b[38;5;28;43mrange\u001b[39;49m\u001b[43m(\u001b[49m\u001b[38;5;241;43m4\u001b[39;49m\u001b[43m)\u001b[49m\u001b[43m)\u001b[49m\n",
      "\u001b[1;31mTypeError\u001b[0m: 'range' object is not an iterator"
     ]
    }
   ],
   "source": [
    "next(range(4))"
   ]
  },
  {
   "cell_type": "code",
   "execution_count": 51,
   "id": "df494ffd",
   "metadata": {},
   "outputs": [],
   "source": [
    "r=iter(range(4))"
   ]
  },
  {
   "cell_type": "code",
   "execution_count": 52,
   "id": "f28141bc",
   "metadata": {},
   "outputs": [
    {
     "data": {
      "text/plain": [
       "0"
      ]
     },
     "execution_count": 52,
     "metadata": {},
     "output_type": "execute_result"
    }
   ],
   "source": [
    "next(r)"
   ]
  },
  {
   "cell_type": "code",
   "execution_count": 53,
   "id": "82845c95",
   "metadata": {},
   "outputs": [
    {
     "data": {
      "text/plain": [
       "1"
      ]
     },
     "execution_count": 53,
     "metadata": {},
     "output_type": "execute_result"
    }
   ],
   "source": [
    "next(r)"
   ]
  },
  {
   "cell_type": "code",
   "execution_count": 54,
   "id": "e3a6f4c3",
   "metadata": {},
   "outputs": [
    {
     "data": {
      "text/plain": [
       "2"
      ]
     },
     "execution_count": 54,
     "metadata": {},
     "output_type": "execute_result"
    }
   ],
   "source": [
    "next(r)"
   ]
  },
  {
   "cell_type": "code",
   "execution_count": 55,
   "id": "79e9466c",
   "metadata": {},
   "outputs": [
    {
     "data": {
      "text/plain": [
       "3"
      ]
     },
     "execution_count": 55,
     "metadata": {},
     "output_type": "execute_result"
    }
   ],
   "source": [
    "next(r)"
   ]
  },
  {
   "cell_type": "code",
   "execution_count": 56,
   "id": "bc57f7f9",
   "metadata": {},
   "outputs": [
    {
     "ename": "StopIteration",
     "evalue": "",
     "output_type": "error",
     "traceback": [
      "\u001b[1;31m---------------------------------------------------------------------------\u001b[0m",
      "\u001b[1;31mStopIteration\u001b[0m                             Traceback (most recent call last)",
      "Input \u001b[1;32mIn [56]\u001b[0m, in \u001b[0;36m<cell line: 1>\u001b[1;34m()\u001b[0m\n\u001b[1;32m----> 1\u001b[0m \u001b[38;5;28;43mnext\u001b[39;49m\u001b[43m(\u001b[49m\u001b[43mr\u001b[49m\u001b[43m)\u001b[49m\n",
      "\u001b[1;31mStopIteration\u001b[0m: "
     ]
    }
   ],
   "source": [
    "next(r)"
   ]
  },
  {
   "cell_type": "code",
   "execution_count": 2,
   "id": "c93530f1",
   "metadata": {},
   "outputs": [],
   "source": [
    "def genfib(n):\n",
    "    a=1\n",
    "    b=1\n",
    "    l=[]\n",
    "    for i in range(n):\n",
    "        l.append(a)\n",
    "        a,b=b,a+b\n",
    "    return l"
   ]
  },
  {
   "cell_type": "code",
   "execution_count": 3,
   "id": "fd2abfae",
   "metadata": {},
   "outputs": [
    {
     "data": {
      "text/plain": [
       "[1, 1, 2, 3, 5, 8, 13, 21, 34, 55]"
      ]
     },
     "execution_count": 3,
     "metadata": {},
     "output_type": "execute_result"
    }
   ],
   "source": [
    "genfib(10)"
   ]
  },
  {
   "cell_type": "code",
   "execution_count": null,
   "id": "2bbf51ba",
   "metadata": {},
   "outputs": [],
   "source": [
    "genfib(1000)   # Using in this big number mostly hang the computer by\n",
    "                # by utilising cpu and all resources"
   ]
  },
  {
   "cell_type": "code",
   "execution_count": null,
   "id": "a7c6fde2",
   "metadata": {},
   "outputs": [],
   "source": []
  },
  {
   "cell_type": "code",
   "execution_count": 6,
   "id": "43c3662e",
   "metadata": {},
   "outputs": [],
   "source": [
    "def genfib1(n):\n",
    "    a=1\n",
    "    b=1\n",
    "    for i in range(n):\n",
    "        yield a\n",
    "        a,b=b,a+b\n",
    " "
   ]
  },
  {
   "cell_type": "code",
   "execution_count": 7,
   "id": "537e1206",
   "metadata": {},
   "outputs": [
    {
     "data": {
      "text/plain": [
       "<generator object genfib1 at 0x000001D2A6C91D60>"
      ]
     },
     "execution_count": 7,
     "metadata": {},
     "output_type": "execute_result"
    }
   ],
   "source": [
    "genfib1(8)"
   ]
  },
  {
   "cell_type": "code",
   "execution_count": 8,
   "id": "ada0217e",
   "metadata": {
    "scrolled": true
   },
   "outputs": [
    {
     "data": {
      "text/plain": [
       "<generator object genfib1 at 0x000001D2A6C91CF0>"
      ]
     },
     "execution_count": 8,
     "metadata": {},
     "output_type": "execute_result"
    }
   ],
   "source": [
    "genfib1(10000000)     # this is big but do not hang the computer by\n",
    "                    # utilising cpu and all resources"
   ]
  },
  {
   "cell_type": "markdown",
   "id": "9d4dfdaf",
   "metadata": {},
   "source": [
    "## File Handling"
   ]
  },
  {
   "cell_type": "code",
   "execution_count": 9,
   "id": "e8d994d0",
   "metadata": {},
   "outputs": [
    {
     "ename": "FileNotFoundError",
     "evalue": "[Errno 2] No such file or directory: 'file1.txt'",
     "output_type": "error",
     "traceback": [
      "\u001b[1;31m---------------------------------------------------------------------------\u001b[0m",
      "\u001b[1;31mFileNotFoundError\u001b[0m                         Traceback (most recent call last)",
      "Input \u001b[1;32mIn [9]\u001b[0m, in \u001b[0;36m<cell line: 1>\u001b[1;34m()\u001b[0m\n\u001b[1;32m----> 1\u001b[0m f\u001b[38;5;241m=\u001b[39m \u001b[38;5;28;43mopen\u001b[39;49m\u001b[43m(\u001b[49m\u001b[38;5;124;43m\"\u001b[39;49m\u001b[38;5;124;43mfile1.txt\u001b[39;49m\u001b[38;5;124;43m\"\u001b[39;49m\u001b[43m)\u001b[49m\n",
      "\u001b[1;31mFileNotFoundError\u001b[0m: [Errno 2] No such file or directory: 'file1.txt'"
     ]
    }
   ],
   "source": [
    "f= open(\"file1.txt\")"
   ]
  },
  {
   "cell_type": "code",
   "execution_count": 10,
   "id": "1bc51d04",
   "metadata": {},
   "outputs": [
    {
     "name": "stdout",
     "output_type": "stream",
     "text": [
      " Volume in drive C is Acer\n",
      " Volume Serial Number is 9497-4DE2\n",
      "\n",
      " Directory of C:\\Users\\sub13\\Downloads\n",
      "\n",
      "20-08-2022  23:49         2,877,860 #1 Core Python Material.pdf\n",
      "20-08-2022  23:49         2,665,918 #2 Advanced Python Material.pdf\n",
      "06-09-2022  19:41    <DIR>          .\n",
      "06-09-2022  19:27    <DIR>          ..\n",
      "06-09-2022  16:43    <DIR>          .ipynb_checkpoints\n",
      "29-08-2022  03:35           246,012 17th.pdf\n",
      "01-09-2022  00:21         7,290,387 19.2.MySQL.7z\n",
      "01-09-2022  00:22           297,503 22.Food App-20220831T185208Z-001.zip\n",
      "01-09-2022  00:22           519,491 24.Weather App-20220831T185226Z-001.zip\n",
      "01-09-2022  00:22         5,300,184 25.MemesGenerator App-20220831T185238Z-001.zip\n",
      "01-09-2022  00:23            25,477 4.Control Flow.ipynb\n",
      "01-09-2022  00:21         1,087,591 Advanced-House-Price-Prediction--master.zip\n",
      "19-08-2022  16:38       622,731,992 Anaconda3-2022.05-Windows-x86_64.exe\n",
      "24-08-2022  23:28        40,202,240 apache-zookeeper-3.8.0-bin.tar\n",
      "24-08-2022  23:28        13,185,104 apache-zookeeper-3.8.0-bin.tar.gz\n",
      "03-09-2022  23:31         7,548,686 archive.zip\n",
      "29-08-2022  12:50            10,389 assertion.png\n",
      "01-09-2022  00:21       100,703,673 AutoViz_Library_Shivan.zip\n",
      "29-08-2022  14:14    <DIR>          basket-2022-08-01_v_4031100\n",
      "29-08-2022  14:10        62,488,881 basket-2022-08-01_v_4031100 (1).zip\n",
      "29-08-2022  14:11        62,488,881 basket-2022-08-01_v_4031100 (2).zip\n",
      "29-08-2022  14:12        62,488,881 basket-2022-08-01_v_4031100 (3).zip\n",
      "29-08-2022  14:09        62,488,881 basket-2022-08-01_v_4031100.zip\n",
      "29-08-2022  03:17            83,944 Basketball Match Analysts. Training plan.xlsx\n",
      "22-08-2022  23:01            44,309 conditional statement - if , elif, else.ipynb\n",
      "25-08-2022  22:30               861 connect to sql server in python.zip\n",
      "18-08-2022  17:58             7,513 Cover Letter.docx\n",
      "19-08-2022  09:27            15,380 CV-Subodh Bharti new2.docx\n",
      "19-08-2022  09:27           131,980 CV-Subodh Bharti new2.pdf\n",
      "01-09-2022  19:47    <DIR>          DataAnalysisProjects-master\n",
      "01-09-2022  19:46         9,767,946 DataAnalysisProjects-master.zip\n",
      "29-08-2022  22:53                15 demo_file\n",
      "01-09-2022  15:28           376,754 Document Tagging.pdf\n",
      "01-09-2022  22:27                25 dummy table.sql\n",
      "04-09-2022  01:04    <DIR>          E commerce dashboard data\n",
      "01-09-2022  15:28           518,860 E-commerce Dashboard.pdf\n",
      "04-09-2022  14:36    <DIR>          ETL\n",
      "04-09-2022  14:35         7,947,178 ETL.rar\n",
      "01-09-2022  15:37           367,127 ETL-6.pdf\n",
      "29-08-2022  12:55           408,079 Exception_handling_revision_class.ipynb\n",
      "29-08-2022  22:56           209,291 Exception_handling_revision_class-checkpoint.ipynb\n",
      "01-09-2022  00:20         6,329,167 FIFA (1).zip\n",
      "31-08-2022  19:09    <DIR>          FitBit (3)\n",
      "31-08-2022  19:09         1,806,804 FitBit (3).zip\n",
      "18-12-2019  04:51         4,989,673 FitBit EDA.ipynb\n",
      "01-09-2022  00:20         1,344,407 Flight_Price.zip\n",
      "26-08-2022  16:16            44,012 for loop practice  (1) (1).ipynb\n",
      "22-08-2022  23:03            41,960 for loop practice  (1).ipynb\n",
      "19-08-2022  13:04           720,130 Full Stack Data Science.pdf\n",
      "29-08-2022  11:32            52,079 Function continued .ipynb\n",
      "27-08-2022  18:16        49,351,760 Git-2.37.2.2-64-bit.exe\n",
      "28-08-2022  03:30            10,464 Hello.mp3\n",
      "31-08-2022  16:23    <DIR>          hello_world\n",
      "31-08-2022  16:22            12,576 hello_world.zip\n",
      "27-08-2022  18:12        23,347,632 heroku-x64.exe\n",
      "28-08-2022  01:30           280,494 Hey keshava.mp3\n",
      "20-08-2022  22:38            48,920 HID event filter_Intel_2.2.1.386_W11x64_A.zip\n",
      "29-08-2022  01:10         1,029,752 How to be a great analyst.pdf\n",
      "01-09-2022  00:20           893,881 HRPrediction.zip\n",
      "23-08-2022  21:40            13,501 iNeuron Syllabus.docx\n",
      "19-08-2022  09:29           177,273 Internship Certificate Gilbert Research Center.pdf\n",
      "31-08-2022  02:22            66,235 iterator , generator , map , reduce , filter , basic file operation .ipynb\n",
      "06-09-2022  19:41            23,877 Iterator, generator, map, reduce, filter, basic file operation.ipynb\n",
      "23-08-2022  00:22         2,261,680 JavaSetup8u341.exe\n",
      "22-08-2022  23:29       160,901,280 jdk-18_windows-x64_bin.exe\n",
      "01-09-2022  15:41           149,540 Job Recommendation.pdf\n",
      "24-08-2022  15:37       103,956,099 kafka_2.13-3.2.1.tgz\n",
      "03-09-2022  00:18       504,386,456 KNIME 4.6.1 Installer (64bit).exe\n",
      "20-08-2022  20:29            84,922 List , tuples , dict , set .ipynb\n",
      "31-08-2022  12:12    <DIR>          logging\n",
      "03-09-2022  14:27            25,117 logging and debuging.ipynb\n",
      "29-08-2022  19:34             1,944 Martin Maschio ?56.txt\n",
      "01-09-2022  19:04       470,106,112 mysql-installer-community-8.0.30.0.msi\n",
      "01-09-2022  18:59         5,738,496 mysql-installer-web-community-8.0.30.0.msi\n",
      "28-08-2022  01:42                 0 New Text Document.txt\n",
      "02-09-2022  01:57       360,684,264 PBIDesktopSetup.exe\n",
      "19-08-2022  16:39       395,586,608 pycharm-community-2022.2.1.exe\n",
      "19-08-2022  20:00            86,595 Python string basic  (2).ipynb\n",
      "31-08-2022  22:23        28,916,488 python-3.10.6-amd64.exe\n",
      "31-08-2022  22:22         8,585,728 python-3.10.6-embed-amd64.zip\n",
      "19-08-2022  09:29           238,942 Recommendation Letter Gilbert Research Center.pdf\n",
      "31-08-2022  11:41            59,983 Revision and task solving (1).ipynb\n",
      "20-08-2022  22:33            96,096 SerialNumberDetectionTool (1).exe\n",
      "01-09-2022  19:34         2,579,315 si_youtube_updated_after_feedback (1).pbix\n",
      "01-09-2022  19:34         2,579,315 si_youtube_updated_after_feedback.pbix\n",
      "23-08-2022  22:28        21,617,320 Sql cheat sheet.pdf\n",
      "21-08-2022  21:45         5,950,368 SQL2019-SSEI-Dev.exe\n",
      "21-08-2022  21:45         6,379,936 SQL2019-SSEI-Expr.exe\n",
      "16-09-2018  19:16             1,014 sqlServerConn.py\n",
      "25-08-2022  16:01       709,679,272 SSMS-Setup-ENU.exe\n",
      "25-08-2022  23:55           228,913 Subodh Bharti Letter Of Recommendation (1).pdf\n",
      "25-08-2022  23:55           228,435 Subodh Bharti Letter Of Recommendation.pdf\n",
      "03-09-2022  00:27       493,160,456 TableauPublicDesktop-64bit-2022-2-1.exe\n",
      "20-08-2022  12:05        42,255,624 TeamViewer_Setup_x64 (1).exe\n",
      "20-08-2022  11:07        42,255,624 TeamViewer_Setup_x64.exe\n",
      "01-09-2022  15:27         1,990,411 UGV_HLD_2.0v.pdf\n",
      "17-08-2022  12:03            96,096 Unconfirmed 265677.crdownload\n",
      "20-08-2022  22:33            96,096 Unconfirmed 66070.crdownload\n",
      "29-08-2022  12:55            62,890 Untitled (1).ipynb\n",
      "30-08-2022  00:54            52,494 Untitled.ipynb\n",
      "31-08-2022  01:16        17,432,103 Untitled1.ipynb\n",
      "29-08-2022  12:55               589 Untitled-checkpoint.ipynb\n",
      "18-08-2022  19:49             1,584 Vaccinations-Database-DDL (1).sql\n",
      "18-08-2022  19:49             1,584 Vaccinations-Database-DDL.sql\n",
      "18-08-2022  19:49             2,478 Vaccinations-Database-Sample-Data (1).sql\n",
      "18-08-2022  19:49             2,478 Vaccinations-Database-Sample-Data.sql\n",
      "29-08-2022  17:58       931,690,806 Video-20220829_105531-Meeting Recording.mp4\n",
      "29-08-2022  19:48       262,436,617 Video-20220829_141441-Meeting Recording.mp4\n",
      "20-08-2022  14:51           376,587 Volatility prediction.pdf\n",
      "23-08-2022  21:44        82,878,552 VSCodeUserSetup-x64-1.70.2.exe\n",
      "26-08-2022  23:53            41,438 while loop and basic of function .ipynb\n",
      "01-09-2022  00:20           517,670 zomato (4).zip\n",
      "             102 File(s)  5,831,574,305 bytes\n",
      "              10 Dir(s)  277,998,407,680 bytes free\n"
     ]
    }
   ],
   "source": [
    "ls"
   ]
  },
  {
   "cell_type": "code",
   "execution_count": 12,
   "id": "81e0e1cb",
   "metadata": {},
   "outputs": [],
   "source": [
    "f= open(\"file1.txt\", 'w')"
   ]
  },
  {
   "cell_type": "code",
   "execution_count": 13,
   "id": "50dd5de5",
   "metadata": {},
   "outputs": [
    {
     "name": "stdout",
     "output_type": "stream",
     "text": [
      " Volume in drive C is Acer\n",
      " Volume Serial Number is 9497-4DE2\n",
      "\n",
      " Directory of C:\\Users\\sub13\\Downloads\n",
      "\n",
      "20-08-2022  23:49         2,877,860 #1 Core Python Material.pdf\n",
      "20-08-2022  23:49         2,665,918 #2 Advanced Python Material.pdf\n",
      "06-09-2022  19:47    <DIR>          .\n",
      "06-09-2022  19:27    <DIR>          ..\n",
      "06-09-2022  16:43    <DIR>          .ipynb_checkpoints\n",
      "29-08-2022  03:35           246,012 17th.pdf\n",
      "01-09-2022  00:21         7,290,387 19.2.MySQL.7z\n",
      "01-09-2022  00:22           297,503 22.Food App-20220831T185208Z-001.zip\n",
      "01-09-2022  00:22           519,491 24.Weather App-20220831T185226Z-001.zip\n",
      "01-09-2022  00:22         5,300,184 25.MemesGenerator App-20220831T185238Z-001.zip\n",
      "01-09-2022  00:23            25,477 4.Control Flow.ipynb\n",
      "01-09-2022  00:21         1,087,591 Advanced-House-Price-Prediction--master.zip\n",
      "19-08-2022  16:38       622,731,992 Anaconda3-2022.05-Windows-x86_64.exe\n",
      "24-08-2022  23:28        40,202,240 apache-zookeeper-3.8.0-bin.tar\n",
      "24-08-2022  23:28        13,185,104 apache-zookeeper-3.8.0-bin.tar.gz\n",
      "03-09-2022  23:31         7,548,686 archive.zip\n",
      "29-08-2022  12:50            10,389 assertion.png\n",
      "01-09-2022  00:21       100,703,673 AutoViz_Library_Shivan.zip\n",
      "29-08-2022  14:14    <DIR>          basket-2022-08-01_v_4031100\n",
      "29-08-2022  14:10        62,488,881 basket-2022-08-01_v_4031100 (1).zip\n",
      "29-08-2022  14:11        62,488,881 basket-2022-08-01_v_4031100 (2).zip\n",
      "29-08-2022  14:12        62,488,881 basket-2022-08-01_v_4031100 (3).zip\n",
      "29-08-2022  14:09        62,488,881 basket-2022-08-01_v_4031100.zip\n",
      "29-08-2022  03:17            83,944 Basketball Match Analysts. Training plan.xlsx\n",
      "22-08-2022  23:01            44,309 conditional statement - if , elif, else.ipynb\n",
      "25-08-2022  22:30               861 connect to sql server in python.zip\n",
      "18-08-2022  17:58             7,513 Cover Letter.docx\n",
      "19-08-2022  09:27            15,380 CV-Subodh Bharti new2.docx\n",
      "19-08-2022  09:27           131,980 CV-Subodh Bharti new2.pdf\n",
      "01-09-2022  19:47    <DIR>          DataAnalysisProjects-master\n",
      "01-09-2022  19:46         9,767,946 DataAnalysisProjects-master.zip\n",
      "29-08-2022  22:53                15 demo_file\n",
      "01-09-2022  15:28           376,754 Document Tagging.pdf\n",
      "01-09-2022  22:27                25 dummy table.sql\n",
      "04-09-2022  01:04    <DIR>          E commerce dashboard data\n",
      "01-09-2022  15:28           518,860 E-commerce Dashboard.pdf\n",
      "04-09-2022  14:36    <DIR>          ETL\n",
      "04-09-2022  14:35         7,947,178 ETL.rar\n",
      "01-09-2022  15:37           367,127 ETL-6.pdf\n",
      "29-08-2022  12:55           408,079 Exception_handling_revision_class.ipynb\n",
      "29-08-2022  22:56           209,291 Exception_handling_revision_class-checkpoint.ipynb\n",
      "01-09-2022  00:20         6,329,167 FIFA (1).zip\n",
      "06-09-2022  19:47                 0 file1.txt\n",
      "31-08-2022  19:09    <DIR>          FitBit (3)\n",
      "31-08-2022  19:09         1,806,804 FitBit (3).zip\n",
      "18-12-2019  04:51         4,989,673 FitBit EDA.ipynb\n",
      "01-09-2022  00:20         1,344,407 Flight_Price.zip\n",
      "26-08-2022  16:16            44,012 for loop practice  (1) (1).ipynb\n",
      "22-08-2022  23:03            41,960 for loop practice  (1).ipynb\n",
      "19-08-2022  13:04           720,130 Full Stack Data Science.pdf\n",
      "29-08-2022  11:32            52,079 Function continued .ipynb\n",
      "27-08-2022  18:16        49,351,760 Git-2.37.2.2-64-bit.exe\n",
      "28-08-2022  03:30            10,464 Hello.mp3\n",
      "31-08-2022  16:23    <DIR>          hello_world\n",
      "31-08-2022  16:22            12,576 hello_world.zip\n",
      "27-08-2022  18:12        23,347,632 heroku-x64.exe\n",
      "28-08-2022  01:30           280,494 Hey keshava.mp3\n",
      "20-08-2022  22:38            48,920 HID event filter_Intel_2.2.1.386_W11x64_A.zip\n",
      "29-08-2022  01:10         1,029,752 How to be a great analyst.pdf\n",
      "01-09-2022  00:20           893,881 HRPrediction.zip\n",
      "23-08-2022  21:40            13,501 iNeuron Syllabus.docx\n",
      "19-08-2022  09:29           177,273 Internship Certificate Gilbert Research Center.pdf\n",
      "31-08-2022  02:22            66,235 iterator , generator , map , reduce , filter , basic file operation .ipynb\n",
      "06-09-2022  19:41            23,877 Iterator, generator, map, reduce, filter, basic file operation.ipynb\n",
      "23-08-2022  00:22         2,261,680 JavaSetup8u341.exe\n",
      "22-08-2022  23:29       160,901,280 jdk-18_windows-x64_bin.exe\n",
      "01-09-2022  15:41           149,540 Job Recommendation.pdf\n",
      "24-08-2022  15:37       103,956,099 kafka_2.13-3.2.1.tgz\n",
      "03-09-2022  00:18       504,386,456 KNIME 4.6.1 Installer (64bit).exe\n",
      "20-08-2022  20:29            84,922 List , tuples , dict , set .ipynb\n",
      "31-08-2022  12:12    <DIR>          logging\n",
      "03-09-2022  14:27            25,117 logging and debuging.ipynb\n",
      "29-08-2022  19:34             1,944 Martin Maschio ?56.txt\n",
      "01-09-2022  19:04       470,106,112 mysql-installer-community-8.0.30.0.msi\n",
      "01-09-2022  18:59         5,738,496 mysql-installer-web-community-8.0.30.0.msi\n",
      "28-08-2022  01:42                 0 New Text Document.txt\n",
      "02-09-2022  01:57       360,684,264 PBIDesktopSetup.exe\n",
      "19-08-2022  16:39       395,586,608 pycharm-community-2022.2.1.exe\n",
      "19-08-2022  20:00            86,595 Python string basic  (2).ipynb\n",
      "31-08-2022  22:23        28,916,488 python-3.10.6-amd64.exe\n",
      "31-08-2022  22:22         8,585,728 python-3.10.6-embed-amd64.zip\n",
      "19-08-2022  09:29           238,942 Recommendation Letter Gilbert Research Center.pdf\n",
      "31-08-2022  11:41            59,983 Revision and task solving (1).ipynb\n",
      "20-08-2022  22:33            96,096 SerialNumberDetectionTool (1).exe\n",
      "01-09-2022  19:34         2,579,315 si_youtube_updated_after_feedback (1).pbix\n",
      "01-09-2022  19:34         2,579,315 si_youtube_updated_after_feedback.pbix\n",
      "23-08-2022  22:28        21,617,320 Sql cheat sheet.pdf\n",
      "21-08-2022  21:45         5,950,368 SQL2019-SSEI-Dev.exe\n",
      "21-08-2022  21:45         6,379,936 SQL2019-SSEI-Expr.exe\n",
      "16-09-2018  19:16             1,014 sqlServerConn.py\n",
      "25-08-2022  16:01       709,679,272 SSMS-Setup-ENU.exe\n",
      "25-08-2022  23:55           228,913 Subodh Bharti Letter Of Recommendation (1).pdf\n",
      "25-08-2022  23:55           228,435 Subodh Bharti Letter Of Recommendation.pdf\n",
      "03-09-2022  00:27       493,160,456 TableauPublicDesktop-64bit-2022-2-1.exe\n",
      "20-08-2022  12:05        42,255,624 TeamViewer_Setup_x64 (1).exe\n",
      "20-08-2022  11:07        42,255,624 TeamViewer_Setup_x64.exe\n",
      "01-09-2022  15:27         1,990,411 UGV_HLD_2.0v.pdf\n",
      "17-08-2022  12:03            96,096 Unconfirmed 265677.crdownload\n",
      "20-08-2022  22:33            96,096 Unconfirmed 66070.crdownload\n",
      "29-08-2022  12:55            62,890 Untitled (1).ipynb\n",
      "30-08-2022  00:54            52,494 Untitled.ipynb\n",
      "31-08-2022  01:16        17,432,103 Untitled1.ipynb\n",
      "29-08-2022  12:55               589 Untitled-checkpoint.ipynb\n",
      "18-08-2022  19:49             1,584 Vaccinations-Database-DDL (1).sql\n",
      "18-08-2022  19:49             1,584 Vaccinations-Database-DDL.sql\n",
      "18-08-2022  19:49             2,478 Vaccinations-Database-Sample-Data (1).sql\n",
      "18-08-2022  19:49             2,478 Vaccinations-Database-Sample-Data.sql\n",
      "29-08-2022  17:58       931,690,806 Video-20220829_105531-Meeting Recording.mp4\n",
      "29-08-2022  19:48       262,436,617 Video-20220829_141441-Meeting Recording.mp4\n",
      "20-08-2022  14:51           376,587 Volatility prediction.pdf\n",
      "23-08-2022  21:44        82,878,552 VSCodeUserSetup-x64-1.70.2.exe\n",
      "26-08-2022  23:53            41,438 while loop and basic of function .ipynb\n",
      "01-09-2022  00:20           517,670 zomato (4).zip\n",
      "             103 File(s)  5,831,574,305 bytes\n",
      "              10 Dir(s)  277,994,106,880 bytes free\n"
     ]
    }
   ],
   "source": [
    "ls"
   ]
  },
  {
   "cell_type": "code",
   "execution_count": 34,
   "id": "d9d86306",
   "metadata": {},
   "outputs": [],
   "source": [
    "f= open(\"file1.txt\", \"w\")"
   ]
  },
  {
   "cell_type": "code",
   "execution_count": 35,
   "id": "a388ac60",
   "metadata": {},
   "outputs": [
    {
     "data": {
      "text/plain": [
       "36"
      ]
     },
     "execution_count": 35,
     "metadata": {},
     "output_type": "execute_result"
    }
   ],
   "source": [
    "f.write(\"This is my very first file operation\")"
   ]
  },
  {
   "cell_type": "code",
   "execution_count": 36,
   "id": "e882ab6c",
   "metadata": {},
   "outputs": [
    {
     "data": {
      "text/plain": [
       "<function TextIOWrapper.close()>"
      ]
     },
     "execution_count": 36,
     "metadata": {},
     "output_type": "execute_result"
    }
   ],
   "source": [
    "f.close"
   ]
  },
  {
   "cell_type": "code",
   "execution_count": 16,
   "id": "64b95745",
   "metadata": {},
   "outputs": [
    {
     "name": "stdout",
     "output_type": "stream",
     "text": [
      " Volume in drive C is Acer\n",
      " Volume Serial Number is 9497-4DE2\n",
      "\n",
      " Directory of C:\\Users\\sub13\\Downloads\n",
      "\n"
     ]
    },
    {
     "name": "stderr",
     "output_type": "stream",
     "text": [
      "File Not Found\n"
     ]
    }
   ],
   "source": [
    "ls()"
   ]
  },
  {
   "cell_type": "code",
   "execution_count": 17,
   "id": "3f069bca",
   "metadata": {},
   "outputs": [
    {
     "name": "stdout",
     "output_type": "stream",
     "text": [
      " Volume in drive C is Acer\n",
      " Volume Serial Number is 9497-4DE2\n",
      "\n",
      " Directory of C:\\Users\\sub13\\Downloads\n",
      "\n",
      "20-08-2022  23:49         2,877,860 #1 Core Python Material.pdf\n",
      "20-08-2022  23:49         2,665,918 #2 Advanced Python Material.pdf\n",
      "06-09-2022  19:51    <DIR>          .\n",
      "06-09-2022  19:27    <DIR>          ..\n",
      "06-09-2022  16:43    <DIR>          .ipynb_checkpoints\n",
      "29-08-2022  03:35           246,012 17th.pdf\n",
      "01-09-2022  00:21         7,290,387 19.2.MySQL.7z\n",
      "01-09-2022  00:22           297,503 22.Food App-20220831T185208Z-001.zip\n",
      "01-09-2022  00:22           519,491 24.Weather App-20220831T185226Z-001.zip\n",
      "01-09-2022  00:22         5,300,184 25.MemesGenerator App-20220831T185238Z-001.zip\n",
      "01-09-2022  00:23            25,477 4.Control Flow.ipynb\n",
      "01-09-2022  00:21         1,087,591 Advanced-House-Price-Prediction--master.zip\n",
      "19-08-2022  16:38       622,731,992 Anaconda3-2022.05-Windows-x86_64.exe\n",
      "24-08-2022  23:28        40,202,240 apache-zookeeper-3.8.0-bin.tar\n",
      "24-08-2022  23:28        13,185,104 apache-zookeeper-3.8.0-bin.tar.gz\n",
      "03-09-2022  23:31         7,548,686 archive.zip\n",
      "29-08-2022  12:50            10,389 assertion.png\n",
      "01-09-2022  00:21       100,703,673 AutoViz_Library_Shivan.zip\n",
      "29-08-2022  14:14    <DIR>          basket-2022-08-01_v_4031100\n",
      "29-08-2022  14:10        62,488,881 basket-2022-08-01_v_4031100 (1).zip\n",
      "29-08-2022  14:11        62,488,881 basket-2022-08-01_v_4031100 (2).zip\n",
      "29-08-2022  14:12        62,488,881 basket-2022-08-01_v_4031100 (3).zip\n",
      "29-08-2022  14:09        62,488,881 basket-2022-08-01_v_4031100.zip\n",
      "29-08-2022  03:17            83,944 Basketball Match Analysts. Training plan.xlsx\n",
      "22-08-2022  23:01            44,309 conditional statement - if , elif, else.ipynb\n",
      "25-08-2022  22:30               861 connect to sql server in python.zip\n",
      "18-08-2022  17:58             7,513 Cover Letter.docx\n",
      "19-08-2022  09:27            15,380 CV-Subodh Bharti new2.docx\n",
      "19-08-2022  09:27           131,980 CV-Subodh Bharti new2.pdf\n",
      "01-09-2022  19:47    <DIR>          DataAnalysisProjects-master\n",
      "01-09-2022  19:46         9,767,946 DataAnalysisProjects-master.zip\n",
      "29-08-2022  22:53                15 demo_file\n",
      "01-09-2022  15:28           376,754 Document Tagging.pdf\n",
      "01-09-2022  22:27                25 dummy table.sql\n",
      "04-09-2022  01:04    <DIR>          E commerce dashboard data\n",
      "01-09-2022  15:28           518,860 E-commerce Dashboard.pdf\n",
      "04-09-2022  14:36    <DIR>          ETL\n",
      "04-09-2022  14:35         7,947,178 ETL.rar\n",
      "01-09-2022  15:37           367,127 ETL-6.pdf\n",
      "29-08-2022  12:55           408,079 Exception_handling_revision_class.ipynb\n",
      "29-08-2022  22:56           209,291 Exception_handling_revision_class-checkpoint.ipynb\n",
      "01-09-2022  00:20         6,329,167 FIFA (1).zip\n",
      "06-09-2022  19:47                 0 file1.txt\n",
      "31-08-2022  19:09    <DIR>          FitBit (3)\n",
      "31-08-2022  19:09         1,806,804 FitBit (3).zip\n",
      "18-12-2019  04:51         4,989,673 FitBit EDA.ipynb\n",
      "01-09-2022  00:20         1,344,407 Flight_Price.zip\n",
      "26-08-2022  16:16            44,012 for loop practice  (1) (1).ipynb\n",
      "22-08-2022  23:03            41,960 for loop practice  (1).ipynb\n",
      "19-08-2022  13:04           720,130 Full Stack Data Science.pdf\n",
      "29-08-2022  11:32            52,079 Function continued .ipynb\n",
      "27-08-2022  18:16        49,351,760 Git-2.37.2.2-64-bit.exe\n",
      "28-08-2022  03:30            10,464 Hello.mp3\n",
      "31-08-2022  16:23    <DIR>          hello_world\n",
      "31-08-2022  16:22            12,576 hello_world.zip\n",
      "27-08-2022  18:12        23,347,632 heroku-x64.exe\n",
      "28-08-2022  01:30           280,494 Hey keshava.mp3\n",
      "20-08-2022  22:38            48,920 HID event filter_Intel_2.2.1.386_W11x64_A.zip\n",
      "29-08-2022  01:10         1,029,752 How to be a great analyst.pdf\n",
      "01-09-2022  00:20           893,881 HRPrediction.zip\n",
      "23-08-2022  21:40            13,501 iNeuron Syllabus.docx\n",
      "19-08-2022  09:29           177,273 Internship Certificate Gilbert Research Center.pdf\n",
      "31-08-2022  02:22            66,235 iterator , generator , map , reduce , filter , basic file operation .ipynb\n",
      "06-09-2022  19:51            43,586 Iterator, generator, map, reduce, filter, basic file operation.ipynb\n",
      "23-08-2022  00:22         2,261,680 JavaSetup8u341.exe\n",
      "22-08-2022  23:29       160,901,280 jdk-18_windows-x64_bin.exe\n",
      "01-09-2022  15:41           149,540 Job Recommendation.pdf\n",
      "24-08-2022  15:37       103,956,099 kafka_2.13-3.2.1.tgz\n",
      "03-09-2022  00:18       504,386,456 KNIME 4.6.1 Installer (64bit).exe\n",
      "20-08-2022  20:29            84,922 List , tuples , dict , set .ipynb\n",
      "31-08-2022  12:12    <DIR>          logging\n",
      "03-09-2022  14:27            25,117 logging and debuging.ipynb\n",
      "29-08-2022  19:34             1,944 Martin Maschio ?56.txt\n",
      "01-09-2022  19:04       470,106,112 mysql-installer-community-8.0.30.0.msi\n",
      "01-09-2022  18:59         5,738,496 mysql-installer-web-community-8.0.30.0.msi\n",
      "28-08-2022  01:42                 0 New Text Document.txt\n",
      "02-09-2022  01:57       360,684,264 PBIDesktopSetup.exe\n",
      "19-08-2022  16:39       395,586,608 pycharm-community-2022.2.1.exe\n",
      "19-08-2022  20:00            86,595 Python string basic  (2).ipynb\n",
      "31-08-2022  22:23        28,916,488 python-3.10.6-amd64.exe\n",
      "31-08-2022  22:22         8,585,728 python-3.10.6-embed-amd64.zip\n",
      "19-08-2022  09:29           238,942 Recommendation Letter Gilbert Research Center.pdf\n",
      "31-08-2022  11:41            59,983 Revision and task solving (1).ipynb\n",
      "20-08-2022  22:33            96,096 SerialNumberDetectionTool (1).exe\n",
      "01-09-2022  19:34         2,579,315 si_youtube_updated_after_feedback (1).pbix\n",
      "01-09-2022  19:34         2,579,315 si_youtube_updated_after_feedback.pbix\n",
      "23-08-2022  22:28        21,617,320 Sql cheat sheet.pdf\n",
      "21-08-2022  21:45         5,950,368 SQL2019-SSEI-Dev.exe\n",
      "21-08-2022  21:45         6,379,936 SQL2019-SSEI-Expr.exe\n",
      "16-09-2018  19:16             1,014 sqlServerConn.py\n",
      "25-08-2022  16:01       709,679,272 SSMS-Setup-ENU.exe\n",
      "25-08-2022  23:55           228,913 Subodh Bharti Letter Of Recommendation (1).pdf\n",
      "25-08-2022  23:55           228,435 Subodh Bharti Letter Of Recommendation.pdf\n",
      "03-09-2022  00:27       493,160,456 TableauPublicDesktop-64bit-2022-2-1.exe\n",
      "20-08-2022  12:05        42,255,624 TeamViewer_Setup_x64 (1).exe\n",
      "20-08-2022  11:07        42,255,624 TeamViewer_Setup_x64.exe\n",
      "01-09-2022  15:27         1,990,411 UGV_HLD_2.0v.pdf\n",
      "17-08-2022  12:03            96,096 Unconfirmed 265677.crdownload\n",
      "20-08-2022  22:33            96,096 Unconfirmed 66070.crdownload\n",
      "29-08-2022  12:55            62,890 Untitled (1).ipynb\n",
      "30-08-2022  00:54            52,494 Untitled.ipynb\n",
      "31-08-2022  01:16        17,432,103 Untitled1.ipynb\n",
      "29-08-2022  12:55               589 Untitled-checkpoint.ipynb\n",
      "18-08-2022  19:49             1,584 Vaccinations-Database-DDL (1).sql\n",
      "18-08-2022  19:49             1,584 Vaccinations-Database-DDL.sql\n",
      "18-08-2022  19:49             2,478 Vaccinations-Database-Sample-Data (1).sql\n",
      "18-08-2022  19:49             2,478 Vaccinations-Database-Sample-Data.sql\n",
      "29-08-2022  17:58       931,690,806 Video-20220829_105531-Meeting Recording.mp4\n",
      "29-08-2022  19:48       262,436,617 Video-20220829_141441-Meeting Recording.mp4\n",
      "20-08-2022  14:51           376,587 Volatility prediction.pdf\n",
      "23-08-2022  21:44        82,878,552 VSCodeUserSetup-x64-1.70.2.exe\n",
      "26-08-2022  23:53            41,438 while loop and basic of function .ipynb\n",
      "01-09-2022  00:20           517,670 zomato (4).zip\n",
      "             103 File(s)  5,831,594,014 bytes\n",
      "              10 Dir(s)  278,039,797,760 bytes free\n"
     ]
    }
   ],
   "source": [
    "ls\n"
   ]
  },
  {
   "cell_type": "code",
   "execution_count": 30,
   "id": "31778d90",
   "metadata": {},
   "outputs": [],
   "source": [
    "f2=open(\"file2.txt\",\"w\")"
   ]
  },
  {
   "cell_type": "code",
   "execution_count": 32,
   "id": "9c422a48",
   "metadata": {},
   "outputs": [
    {
     "data": {
      "text/plain": [
       "20"
      ]
     },
     "execution_count": 32,
     "metadata": {},
     "output_type": "execute_result"
    }
   ],
   "source": [
    "f2.write(\"This is another file\")"
   ]
  },
  {
   "cell_type": "code",
   "execution_count": 33,
   "id": "fd29e021",
   "metadata": {},
   "outputs": [],
   "source": [
    "f2.close()"
   ]
  },
  {
   "cell_type": "code",
   "execution_count": 68,
   "id": "3b06bf53",
   "metadata": {},
   "outputs": [],
   "source": [
    "l=[\"subodh\", 122, 3434]"
   ]
  },
  {
   "cell_type": "code",
   "execution_count": 69,
   "id": "da4cb3b0",
   "metadata": {},
   "outputs": [],
   "source": [
    "f2=open(\"file2.txt\", \"w\")"
   ]
  },
  {
   "cell_type": "code",
   "execution_count": 70,
   "id": "36e54ac0",
   "metadata": {},
   "outputs": [
    {
     "data": {
      "text/plain": [
       "21"
      ]
     },
     "execution_count": 70,
     "metadata": {},
     "output_type": "execute_result"
    }
   ],
   "source": [
    "f2.write(str(l))"
   ]
  },
  {
   "cell_type": "code",
   "execution_count": 71,
   "id": "d9d7eee5",
   "metadata": {},
   "outputs": [],
   "source": [
    "f2.close()"
   ]
  },
  {
   "cell_type": "code",
   "execution_count": 74,
   "id": "65b51166",
   "metadata": {},
   "outputs": [
    {
     "name": "stdout",
     "output_type": "stream",
     "text": [
      "Overwriting test5.txt\n"
     ]
    }
   ],
   "source": [
    "%%writefile test5.txt\n",
    "This is my python program to into a file in different way.\n",
    "This is my python program to write into a file in different way.\n",
    "This is my python program to write into a file in different way."
   ]
  },
  {
   "cell_type": "code",
   "execution_count": 75,
   "id": "1e1a39f2",
   "metadata": {},
   "outputs": [],
   "source": [
    "f2=open(\"test5.txt\")"
   ]
  },
  {
   "cell_type": "code",
   "execution_count": 76,
   "id": "275cff02",
   "metadata": {},
   "outputs": [
    {
     "data": {
      "text/plain": [
       "'This is my python program to into a file in different way.\\nThis is my python program to write into a file in different way.\\nThis is my python program to write into a file in different way.\\n'"
      ]
     },
     "execution_count": 76,
     "metadata": {},
     "output_type": "execute_result"
    }
   ],
   "source": [
    "f2.read()"
   ]
  },
  {
   "cell_type": "code",
   "execution_count": 77,
   "id": "e4c0a5a5",
   "metadata": {},
   "outputs": [
    {
     "data": {
      "text/plain": [
       "''"
      ]
     },
     "execution_count": 77,
     "metadata": {},
     "output_type": "execute_result"
    }
   ],
   "source": [
    "f2.read()"
   ]
  },
  {
   "cell_type": "code",
   "execution_count": 78,
   "id": "a1b73443",
   "metadata": {},
   "outputs": [],
   "source": [
    "f2.close()"
   ]
  },
  {
   "cell_type": "code",
   "execution_count": 80,
   "id": "d13f2d1c",
   "metadata": {},
   "outputs": [
    {
     "data": {
      "text/plain": [
       "'This is my python program to into a file in different way.\\nThis is my python program to write into a file in different way.\\nThis is my python program to write into a file in different way.\\n'"
      ]
     },
     "execution_count": 80,
     "metadata": {},
     "output_type": "execute_result"
    }
   ],
   "source": [
    "f2=open(\"test5.txt\")\n",
    "f2.read()"
   ]
  },
  {
   "cell_type": "code",
   "execution_count": 81,
   "id": "78b904ce",
   "metadata": {},
   "outputs": [
    {
     "data": {
      "text/plain": [
       "''"
      ]
     },
     "execution_count": 81,
     "metadata": {},
     "output_type": "execute_result"
    }
   ],
   "source": [
    "f2.read()"
   ]
  },
  {
   "cell_type": "code",
   "execution_count": 82,
   "id": "0ef373e0",
   "metadata": {},
   "outputs": [
    {
     "data": {
      "text/plain": [
       "0"
      ]
     },
     "execution_count": 82,
     "metadata": {},
     "output_type": "execute_result"
    }
   ],
   "source": [
    "f2.seek(0)     # seek is responsible for setting pointer in in a file"
   ]
  },
  {
   "cell_type": "code",
   "execution_count": 83,
   "id": "f1adfaf8",
   "metadata": {},
   "outputs": [
    {
     "data": {
      "text/plain": [
       "'This is my python program to into a file in different way.\\nThis is my python program to write into a file in different way.\\nThis is my python program to write into a file in different way.\\n'"
      ]
     },
     "execution_count": 83,
     "metadata": {},
     "output_type": "execute_result"
    }
   ],
   "source": [
    "f2.read()"
   ]
  },
  {
   "cell_type": "code",
   "execution_count": 92,
   "id": "20d4e249",
   "metadata": {},
   "outputs": [
    {
     "data": {
      "text/plain": [
       "0"
      ]
     },
     "execution_count": 92,
     "metadata": {},
     "output_type": "execute_result"
    }
   ],
   "source": [
    "f2.seek(0)"
   ]
  },
  {
   "cell_type": "code",
   "execution_count": 93,
   "id": "2f56767b",
   "metadata": {},
   "outputs": [
    {
     "data": {
      "text/plain": [
       "'This is my python program to into a file in different way.\\nThis is my python program to write into a file in different way.\\nThis is my python program to write into a file in different way.\\n'"
      ]
     },
     "execution_count": 93,
     "metadata": {},
     "output_type": "execute_result"
    }
   ],
   "source": [
    "f2.read()"
   ]
  },
  {
   "cell_type": "code",
   "execution_count": 104,
   "id": "eafd5432",
   "metadata": {},
   "outputs": [
    {
     "data": {
      "text/plain": [
       "150"
      ]
     },
     "execution_count": 104,
     "metadata": {},
     "output_type": "execute_result"
    }
   ],
   "source": [
    "f2.seek(150)"
   ]
  },
  {
   "cell_type": "code",
   "execution_count": 105,
   "id": "59b3c15c",
   "metadata": {},
   "outputs": [
    {
     "data": {
      "text/plain": [
       "'m to write into a file in different way.\\n'"
      ]
     },
     "execution_count": 105,
     "metadata": {},
     "output_type": "execute_result"
    }
   ],
   "source": [
    "f2.read()"
   ]
  },
  {
   "cell_type": "code",
   "execution_count": 106,
   "id": "8d6e1a24",
   "metadata": {},
   "outputs": [
    {
     "data": {
      "text/plain": [
       "192"
      ]
     },
     "execution_count": 106,
     "metadata": {},
     "output_type": "execute_result"
    }
   ],
   "source": [
    "f2.tell()"
   ]
  },
  {
   "cell_type": "code",
   "execution_count": 121,
   "id": "6f435315",
   "metadata": {},
   "outputs": [
    {
     "data": {
      "text/plain": [
       "5"
      ]
     },
     "execution_count": 121,
     "metadata": {},
     "output_type": "execute_result"
    }
   ],
   "source": [
    "f2.seek(5)"
   ]
  },
  {
   "cell_type": "code",
   "execution_count": 122,
   "id": "25b241ef",
   "metadata": {},
   "outputs": [
    {
     "data": {
      "text/plain": [
       "5"
      ]
     },
     "execution_count": 122,
     "metadata": {},
     "output_type": "execute_result"
    }
   ],
   "source": [
    "f2.tell()"
   ]
  },
  {
   "cell_type": "code",
   "execution_count": 123,
   "id": "8ba6fe4f",
   "metadata": {},
   "outputs": [
    {
     "data": {
      "text/plain": [
       "'is my'"
      ]
     },
     "execution_count": 123,
     "metadata": {},
     "output_type": "execute_result"
    }
   ],
   "source": [
    "f2.read(5)"
   ]
  },
  {
   "cell_type": "code",
   "execution_count": 124,
   "id": "1ee93c48",
   "metadata": {},
   "outputs": [
    {
     "data": {
      "text/plain": [
       "''"
      ]
     },
     "execution_count": 124,
     "metadata": {},
     "output_type": "execute_result"
    }
   ],
   "source": [
    "f2.read(0)"
   ]
  },
  {
   "cell_type": "code",
   "execution_count": 125,
   "id": "cdc7b757",
   "metadata": {},
   "outputs": [
    {
     "data": {
      "text/plain": [
       "[' python program to into a file in different way.\\n',\n",
       " 'This is my python program to write into a file in different way.\\n',\n",
       " 'This is my python program to write into a file in different way.\\n']"
      ]
     },
     "execution_count": 125,
     "metadata": {},
     "output_type": "execute_result"
    }
   ],
   "source": [
    "f2.readlines()"
   ]
  },
  {
   "cell_type": "code",
   "execution_count": 126,
   "id": "bf650b57",
   "metadata": {},
   "outputs": [
    {
     "data": {
      "text/plain": [
       "0"
      ]
     },
     "execution_count": 126,
     "metadata": {},
     "output_type": "execute_result"
    }
   ],
   "source": [
    "f2.seek(0)"
   ]
  },
  {
   "cell_type": "code",
   "execution_count": 127,
   "id": "85719384",
   "metadata": {},
   "outputs": [
    {
     "data": {
      "text/plain": [
       "'This is my python program to into a file in different way.\\nThis is my python program to write into a file in different way.\\nThis is my python program to write into a file in different way.\\n'"
      ]
     },
     "execution_count": 127,
     "metadata": {},
     "output_type": "execute_result"
    }
   ],
   "source": [
    "f2.read()"
   ]
  },
  {
   "cell_type": "code",
   "execution_count": 117,
   "id": "c6e837e8",
   "metadata": {},
   "outputs": [
    {
     "data": {
      "text/plain": [
       "['This is my python program to into a file in different way.\\n',\n",
       " 'This is my python program to write into a file in different way.\\n',\n",
       " 'This is my python program to write into a file in different way.\\n']"
      ]
     },
     "execution_count": 117,
     "metadata": {},
     "output_type": "execute_result"
    }
   ],
   "source": [
    "f2.readlines()  # for reading multiple lines"
   ]
  },
  {
   "cell_type": "code",
   "execution_count": 129,
   "id": "2af87626",
   "metadata": {},
   "outputs": [
    {
     "data": {
      "text/plain": [
       "0"
      ]
     },
     "execution_count": 129,
     "metadata": {},
     "output_type": "execute_result"
    }
   ],
   "source": [
    "f2.seek(0)"
   ]
  },
  {
   "cell_type": "code",
   "execution_count": 130,
   "id": "129aedc3",
   "metadata": {},
   "outputs": [
    {
     "data": {
      "text/plain": [
       "'This is my python program to into a file in different way.\\n'"
      ]
     },
     "execution_count": 130,
     "metadata": {},
     "output_type": "execute_result"
    }
   ],
   "source": [
    "f2.readline()    # for reading single line"
   ]
  },
  {
   "cell_type": "code",
   "execution_count": 131,
   "id": "ece11ffd",
   "metadata": {},
   "outputs": [
    {
     "data": {
      "text/plain": [
       "<_io.TextIOWrapper name='test5.txt' mode='r' encoding='cp1252'>"
      ]
     },
     "execution_count": 131,
     "metadata": {},
     "output_type": "execute_result"
    }
   ],
   "source": [
    "f2"
   ]
  },
  {
   "cell_type": "code",
   "execution_count": 132,
   "id": "79ab79d5",
   "metadata": {},
   "outputs": [
    {
     "data": {
      "text/plain": [
       "0"
      ]
     },
     "execution_count": 132,
     "metadata": {},
     "output_type": "execute_result"
    }
   ],
   "source": [
    "f2.seek(0)"
   ]
  },
  {
   "cell_type": "code",
   "execution_count": 133,
   "id": "3037a5bd",
   "metadata": {},
   "outputs": [
    {
     "data": {
      "text/plain": [
       "'This is my python program to into a file in different way.\\nThis is my python program to write into a file in different way.\\nThis is my python program to write into a file in different way.\\n'"
      ]
     },
     "execution_count": 133,
     "metadata": {},
     "output_type": "execute_result"
    }
   ],
   "source": [
    "f2.read()"
   ]
  },
  {
   "cell_type": "code",
   "execution_count": 143,
   "id": "5bb6de58",
   "metadata": {},
   "outputs": [
    {
     "ename": "ValueError",
     "evalue": "I/O operation on closed file.",
     "output_type": "error",
     "traceback": [
      "\u001b[1;31m---------------------------------------------------------------------------\u001b[0m",
      "\u001b[1;31mValueError\u001b[0m                                Traceback (most recent call last)",
      "Input \u001b[1;32mIn [143]\u001b[0m, in \u001b[0;36m<cell line: 1>\u001b[1;34m()\u001b[0m\n\u001b[1;32m----> 1\u001b[0m \u001b[43mf2\u001b[49m\u001b[38;5;241;43m.\u001b[39;49m\u001b[43mtell\u001b[49m\u001b[43m(\u001b[49m\u001b[43m)\u001b[49m\n",
      "\u001b[1;31mValueError\u001b[0m: I/O operation on closed file."
     ]
    }
   ],
   "source": [
    "f2.tell()"
   ]
  },
  {
   "cell_type": "code",
   "execution_count": 138,
   "id": "bd9adef3",
   "metadata": {},
   "outputs": [],
   "source": [
    "f2.close()"
   ]
  },
  {
   "cell_type": "code",
   "execution_count": null,
   "id": "a9bd480f",
   "metadata": {},
   "outputs": [],
   "source": []
  },
  {
   "cell_type": "code",
   "execution_count": 151,
   "id": "3842ad1d",
   "metadata": {},
   "outputs": [],
   "source": [
    "f2=open(\"test5.txt\",\"w\")"
   ]
  },
  {
   "cell_type": "code",
   "execution_count": 152,
   "id": "3eee2ade",
   "metadata": {},
   "outputs": [
    {
     "data": {
      "text/plain": [
       "189"
      ]
     },
     "execution_count": 152,
     "metadata": {},
     "output_type": "execute_result"
    }
   ],
   "source": [
    "f2.write(\"\"\"This is my python program to into a file in different way.\n",
    "This is my python program to write into a file in different way.\n",
    "This is my python program to write into a file in different way.\n",
    "\"\"\")"
   ]
  },
  {
   "cell_type": "code",
   "execution_count": 154,
   "id": "5a624d3f",
   "metadata": {},
   "outputs": [],
   "source": [
    "f2.close()"
   ]
  },
  {
   "cell_type": "code",
   "execution_count": 179,
   "id": "aa3e0e34",
   "metadata": {},
   "outputs": [],
   "source": [
    "f2=open(\"test5.txt\")"
   ]
  },
  {
   "cell_type": "code",
   "execution_count": 180,
   "id": "164c0f80",
   "metadata": {},
   "outputs": [
    {
     "data": {
      "text/plain": [
       "'This is my python program to into a file in different way.\\nThis is my python program to write into a file in different way.\\nThis is my python program to write into a file in different way.\\n'"
      ]
     },
     "execution_count": 180,
     "metadata": {},
     "output_type": "execute_result"
    }
   ],
   "source": [
    "f2.read()"
   ]
  },
  {
   "cell_type": "code",
   "execution_count": 181,
   "id": "3ff01bc5",
   "metadata": {},
   "outputs": [
    {
     "data": {
      "text/plain": [
       "192"
      ]
     },
     "execution_count": 181,
     "metadata": {},
     "output_type": "execute_result"
    }
   ],
   "source": [
    "f2.tell()"
   ]
  },
  {
   "cell_type": "code",
   "execution_count": 182,
   "id": "483e9748",
   "metadata": {},
   "outputs": [
    {
     "data": {
      "text/plain": [
       "0"
      ]
     },
     "execution_count": 182,
     "metadata": {},
     "output_type": "execute_result"
    }
   ],
   "source": [
    "f2.seek(0)"
   ]
  },
  {
   "cell_type": "code",
   "execution_count": 183,
   "id": "12cac24f",
   "metadata": {},
   "outputs": [
    {
     "data": {
      "text/plain": [
       "'This is my python program to into a file in different way.\\nThis is my python program to write into a file in different way.\\nThis is my python program to write into a file in different way.\\n'"
      ]
     },
     "execution_count": 183,
     "metadata": {},
     "output_type": "execute_result"
    }
   ],
   "source": [
    "f2.read()"
   ]
  },
  {
   "cell_type": "code",
   "execution_count": 184,
   "id": "5d0ef153",
   "metadata": {},
   "outputs": [
    {
     "data": {
      "text/plain": [
       "5"
      ]
     },
     "execution_count": 184,
     "metadata": {},
     "output_type": "execute_result"
    }
   ],
   "source": [
    "f2.seek(5)"
   ]
  },
  {
   "cell_type": "code",
   "execution_count": 185,
   "id": "b5e7d1c8",
   "metadata": {},
   "outputs": [
    {
     "data": {
      "text/plain": [
       "'is my python program to into a file in different way.\\nThis is my python program to write into a file in different way.\\nThis is my python program to write into a file in different way.\\n'"
      ]
     },
     "execution_count": 185,
     "metadata": {},
     "output_type": "execute_result"
    }
   ],
   "source": [
    "f2.read()"
   ]
  },
  {
   "cell_type": "code",
   "execution_count": 186,
   "id": "57ef1cd3",
   "metadata": {},
   "outputs": [
    {
     "data": {
      "text/plain": [
       "192"
      ]
     },
     "execution_count": 186,
     "metadata": {},
     "output_type": "execute_result"
    }
   ],
   "source": [
    "f2.tell()"
   ]
  },
  {
   "cell_type": "code",
   "execution_count": 187,
   "id": "862a5973",
   "metadata": {},
   "outputs": [
    {
     "data": {
      "text/plain": [
       "''"
      ]
     },
     "execution_count": 187,
     "metadata": {},
     "output_type": "execute_result"
    }
   ],
   "source": [
    "f2.read()\n"
   ]
  },
  {
   "cell_type": "code",
   "execution_count": 188,
   "id": "b085642f",
   "metadata": {},
   "outputs": [
    {
     "data": {
      "text/plain": [
       "8"
      ]
     },
     "execution_count": 188,
     "metadata": {},
     "output_type": "execute_result"
    }
   ],
   "source": [
    "f2.seek(8)   #it brings the pointer to the spesified position in the file"
   ]
  },
  {
   "cell_type": "code",
   "execution_count": 189,
   "id": "ca8691fe",
   "metadata": {},
   "outputs": [
    {
     "data": {
      "text/plain": [
       "'my python progr'"
      ]
     },
     "execution_count": 189,
     "metadata": {},
     "output_type": "execute_result"
    }
   ],
   "source": [
    "f2.read(15)   #it takes the pointer to the recent position \n",
    "                # and gives the specified number of location in the file"
   ]
  },
  {
   "cell_type": "code",
   "execution_count": 190,
   "id": "bc11660b",
   "metadata": {},
   "outputs": [
    {
     "data": {
      "text/plain": [
       "8"
      ]
     },
     "execution_count": 190,
     "metadata": {},
     "output_type": "execute_result"
    }
   ],
   "source": [
    "f2.fileno()"
   ]
  },
  {
   "cell_type": "code",
   "execution_count": 191,
   "id": "7bc69e82",
   "metadata": {},
   "outputs": [],
   "source": [
    "f2.close()"
   ]
  },
  {
   "cell_type": "code",
   "execution_count": 208,
   "id": "29d0958f",
   "metadata": {},
   "outputs": [],
   "source": [
    "f= open(\"test.txt\", \"w\")"
   ]
  },
  {
   "cell_type": "code",
   "execution_count": 209,
   "id": "6d5968fe",
   "metadata": {},
   "outputs": [
    {
     "data": {
      "text/plain": [
       "182"
      ]
     },
     "execution_count": 209,
     "metadata": {},
     "output_type": "execute_result"
    }
   ],
   "source": [
    "f.write(\"\"\"\n",
    "my python program to into a file in different way.\n",
    "This is my python program to write into a file in different way.\n",
    "This is my python program to write into a file in different way.\n",
    "\"\"\"\n",
    ")"
   ]
  },
  {
   "cell_type": "code",
   "execution_count": 210,
   "id": "9f63d9ec",
   "metadata": {},
   "outputs": [
    {
     "data": {
      "text/plain": [
       "190"
      ]
     },
     "execution_count": 210,
     "metadata": {},
     "output_type": "execute_result"
    }
   ],
   "source": [
    "f.write(\"\"\"\n",
    "This is my python program to into a file in different way.\n",
    "This is my python program to write into a file in different way.\n",
    "This is my python program to write into a file in different way.\n",
    "\"\"\"\n",
    ")"
   ]
  },
  {
   "cell_type": "code",
   "execution_count": 211,
   "id": "262ccf07",
   "metadata": {},
   "outputs": [],
   "source": [
    "f.close()"
   ]
  },
  {
   "cell_type": "code",
   "execution_count": 212,
   "id": "9f06cfb7",
   "metadata": {},
   "outputs": [],
   "source": [
    "f= open(\"test.txt\", \"a\")     # to append in file not to overwrite the existing data"
   ]
  },
  {
   "cell_type": "code",
   "execution_count": 213,
   "id": "3f119d57",
   "metadata": {},
   "outputs": [
    {
     "data": {
      "text/plain": [
       "22"
      ]
     },
     "execution_count": 213,
     "metadata": {},
     "output_type": "execute_result"
    }
   ],
   "source": [
    "f.write(\"this is my new dataset\") "
   ]
  },
  {
   "cell_type": "code",
   "execution_count": 214,
   "id": "49cc8445",
   "metadata": {},
   "outputs": [],
   "source": [
    "f.close()"
   ]
  },
  {
   "cell_type": "code",
   "execution_count": 215,
   "id": "00525149",
   "metadata": {},
   "outputs": [
    {
     "data": {
      "text/plain": [
       "'test.txt'"
      ]
     },
     "execution_count": 215,
     "metadata": {},
     "output_type": "execute_result"
    }
   ],
   "source": [
    "f.name"
   ]
  },
  {
   "cell_type": "code",
   "execution_count": 217,
   "id": "0dc5b299",
   "metadata": {},
   "outputs": [
    {
     "data": {
      "text/plain": [
       "'test.txt'"
      ]
     },
     "execution_count": 217,
     "metadata": {},
     "output_type": "execute_result"
    }
   ],
   "source": [
    "f.name"
   ]
  },
  {
   "cell_type": "code",
   "execution_count": 77,
   "id": "49d379be",
   "metadata": {},
   "outputs": [],
   "source": [
    "f3= open(\"d:/test6.txt\", \"w\")"
   ]
  },
  {
   "cell_type": "code",
   "execution_count": 78,
   "id": "20b52c23",
   "metadata": {},
   "outputs": [
    {
     "data": {
      "text/plain": [
       "45"
      ]
     },
     "execution_count": 78,
     "metadata": {},
     "output_type": "execute_result"
    }
   ],
   "source": [
    "f3.write(\"This is my new dataset in different directory\")"
   ]
  },
  {
   "cell_type": "code",
   "execution_count": 79,
   "id": "e787e2a5",
   "metadata": {},
   "outputs": [
    {
     "data": {
      "text/plain": [
       "'w'"
      ]
     },
     "execution_count": 79,
     "metadata": {},
     "output_type": "execute_result"
    }
   ],
   "source": [
    "f3.mode"
   ]
  },
  {
   "cell_type": "code",
   "execution_count": 80,
   "id": "5cd55c5c",
   "metadata": {},
   "outputs": [],
   "source": [
    "f3.close()"
   ]
  },
  {
   "cell_type": "markdown",
   "id": "a9ae7ca6",
   "metadata": {},
   "source": [
    "## map, reduce, filter"
   ]
  },
  {
   "cell_type": "code",
   "execution_count": 234,
   "id": "f046104b",
   "metadata": {},
   "outputs": [],
   "source": [
    "l=[2,3,4,5,5,6]"
   ]
  },
  {
   "cell_type": "code",
   "execution_count": 223,
   "id": "0aaa883d",
   "metadata": {},
   "outputs": [],
   "source": [
    "l1=[]\n",
    "for i in l:\n",
    "    l1.append(i**2)"
   ]
  },
  {
   "cell_type": "code",
   "execution_count": 224,
   "id": "5dcb55ae",
   "metadata": {},
   "outputs": [
    {
     "data": {
      "text/plain": [
       "[4, 9, 16, 25, 25, 36]"
      ]
     },
     "execution_count": 224,
     "metadata": {},
     "output_type": "execute_result"
    }
   ],
   "source": [
    "l1"
   ]
  },
  {
   "cell_type": "code",
   "execution_count": 226,
   "id": "aa1c4786",
   "metadata": {},
   "outputs": [],
   "source": [
    "def sq(n):\n",
    "    return n**2"
   ]
  },
  {
   "cell_type": "code",
   "execution_count": null,
   "id": "bf369c4c",
   "metadata": {},
   "outputs": [],
   "source": []
  },
  {
   "cell_type": "code",
   "execution_count": null,
   "id": "a9932b0a",
   "metadata": {},
   "outputs": [],
   "source": []
  },
  {
   "cell_type": "code",
   "execution_count": 237,
   "id": "be1999e0",
   "metadata": {},
   "outputs": [
    {
     "data": {
      "text/plain": [
       "[4, 9, 16, 25, 25, 36]"
      ]
     },
     "execution_count": 237,
     "metadata": {},
     "output_type": "execute_result"
    }
   ],
   "source": [
    "list(map(sq,l))     # perform mapping each element "
   ]
  },
  {
   "cell_type": "code",
   "execution_count": 238,
   "id": "bc1d9959",
   "metadata": {},
   "outputs": [
    {
     "data": {
      "text/plain": [
       "[2, 3, 4, 5, 5, 6]"
      ]
     },
     "execution_count": 238,
     "metadata": {},
     "output_type": "execute_result"
    }
   ],
   "source": [
    "l"
   ]
  },
  {
   "cell_type": "code",
   "execution_count": 230,
   "id": "ba3b5c0d",
   "metadata": {},
   "outputs": [
    {
     "data": {
      "text/plain": [
       "[4, 9, 16, 25, 25, 36]"
      ]
     },
     "execution_count": 230,
     "metadata": {},
     "output_type": "execute_result"
    }
   ],
   "source": [
    "list(map(lambda x: x**2,l))    # in map function first arguement should be function\n",
    "                                # and 2nd arguement is iterable"
   ]
  },
  {
   "cell_type": "code",
   "execution_count": 235,
   "id": "861ec8a9",
   "metadata": {},
   "outputs": [],
   "source": [
    "def str_c(n):\n",
    "    return str(n)"
   ]
  },
  {
   "cell_type": "code",
   "execution_count": 239,
   "id": "c5a16934",
   "metadata": {},
   "outputs": [
    {
     "data": {
      "text/plain": [
       "['2', '3', '4', '5', '5', '6']"
      ]
     },
     "execution_count": 239,
     "metadata": {},
     "output_type": "execute_result"
    }
   ],
   "source": [
    "list(map(str_c,l))"
   ]
  },
  {
   "cell_type": "code",
   "execution_count": null,
   "id": "f2a11950",
   "metadata": {},
   "outputs": [],
   "source": [
    "!pip install functools"
   ]
  },
  {
   "cell_type": "code",
   "execution_count": 4,
   "id": "19b8565d",
   "metadata": {},
   "outputs": [],
   "source": [
    "from functools import reduce"
   ]
  },
  {
   "cell_type": "code",
   "execution_count": 11,
   "id": "10c6eb4e",
   "metadata": {},
   "outputs": [],
   "source": [
    "l=[3,4,5,6,7,8,9,10,112]"
   ]
  },
  {
   "cell_type": "code",
   "execution_count": 12,
   "id": "969d2374",
   "metadata": {},
   "outputs": [
    {
     "data": {
      "text/plain": [
       "164"
      ]
     },
     "execution_count": 12,
     "metadata": {},
     "output_type": "execute_result"
    }
   ],
   "source": [
    "sum(l)"
   ]
  },
  {
   "cell_type": "code",
   "execution_count": 17,
   "id": "11de3c4f",
   "metadata": {},
   "outputs": [
    {
     "data": {
      "text/plain": [
       "164"
      ]
     },
     "execution_count": 17,
     "metadata": {},
     "output_type": "execute_result"
    }
   ],
   "source": [
    "reduce(lambda a,b:a+b,l)"
   ]
  },
  {
   "cell_type": "code",
   "execution_count": 15,
   "id": "9adac126",
   "metadata": {},
   "outputs": [],
   "source": [
    "l2=[3]"
   ]
  },
  {
   "cell_type": "code",
   "execution_count": 16,
   "id": "89ae6f2f",
   "metadata": {},
   "outputs": [
    {
     "data": {
      "text/plain": [
       "[3]"
      ]
     },
     "execution_count": 16,
     "metadata": {},
     "output_type": "execute_result"
    }
   ],
   "source": [
    "l2"
   ]
  },
  {
   "cell_type": "code",
   "execution_count": 18,
   "id": "81fc56f1",
   "metadata": {},
   "outputs": [
    {
     "data": {
      "text/plain": [
       "3"
      ]
     },
     "execution_count": 18,
     "metadata": {},
     "output_type": "execute_result"
    }
   ],
   "source": [
    "reduce(lambda a,b:a+b,l2)"
   ]
  },
  {
   "cell_type": "code",
   "execution_count": 19,
   "id": "a7a5cb04",
   "metadata": {},
   "outputs": [
    {
     "data": {
      "text/plain": [
       "3"
      ]
     },
     "execution_count": 19,
     "metadata": {},
     "output_type": "execute_result"
    }
   ],
   "source": [
    "reduce(lambda a,b:a*b,l2)"
   ]
  },
  {
   "cell_type": "code",
   "execution_count": 25,
   "id": "f643efef",
   "metadata": {},
   "outputs": [],
   "source": [
    "l3=[3,5]"
   ]
  },
  {
   "cell_type": "code",
   "execution_count": 26,
   "id": "00b2ef1e",
   "metadata": {},
   "outputs": [
    {
     "data": {
      "text/plain": [
       "[3, 5]"
      ]
     },
     "execution_count": 26,
     "metadata": {},
     "output_type": "execute_result"
    }
   ],
   "source": [
    "l3"
   ]
  },
  {
   "cell_type": "code",
   "execution_count": 27,
   "id": "60e06e78",
   "metadata": {},
   "outputs": [
    {
     "data": {
      "text/plain": [
       "8"
      ]
     },
     "execution_count": 27,
     "metadata": {},
     "output_type": "execute_result"
    }
   ],
   "source": [
    "reduce(lambda a,b:a+b,l3)  #Iterables with only one element redues to one only that is Exception"
   ]
  },
  {
   "cell_type": "code",
   "execution_count": 28,
   "id": "a33197dc",
   "metadata": {},
   "outputs": [
    {
     "data": {
      "text/plain": [
       "15"
      ]
     },
     "execution_count": 28,
     "metadata": {},
     "output_type": "execute_result"
    }
   ],
   "source": [
    "reduce(lambda a,b:a*b,l3)    #Iterables with only one element redues to one only that is Exception"
   ]
  },
  {
   "cell_type": "code",
   "execution_count": null,
   "id": "3887ec93",
   "metadata": {},
   "outputs": [],
   "source": []
  },
  {
   "cell_type": "code",
   "execution_count": null,
   "id": "a32301a0",
   "metadata": {},
   "outputs": [],
   "source": []
  },
  {
   "cell_type": "code",
   "execution_count": 29,
   "id": "f2743450",
   "metadata": {},
   "outputs": [],
   "source": [
    "l=[1,2,3,4,45,5]"
   ]
  },
  {
   "cell_type": "code",
   "execution_count": 31,
   "id": "e1469ad8",
   "metadata": {},
   "outputs": [
    {
     "data": {
      "text/plain": [
       "[1, 3, 45, 5]"
      ]
     },
     "execution_count": 31,
     "metadata": {},
     "output_type": "execute_result"
    }
   ],
   "source": [
    "list(filter(lambda x: x%2, l))"
   ]
  },
  {
   "cell_type": "code",
   "execution_count": 33,
   "id": "04181806",
   "metadata": {},
   "outputs": [],
   "source": [
    "def check_even(n):\n",
    "    if n%2==0:\n",
    "        return True"
   ]
  },
  {
   "cell_type": "code",
   "execution_count": 34,
   "id": "9b4720df",
   "metadata": {},
   "outputs": [
    {
     "data": {
      "text/plain": [
       "[2, 4]"
      ]
     },
     "execution_count": 34,
     "metadata": {},
     "output_type": "execute_result"
    }
   ],
   "source": [
    "list(filter(check_even, l))"
   ]
  },
  {
   "cell_type": "code",
   "execution_count": 35,
   "id": "fe462a72",
   "metadata": {},
   "outputs": [
    {
     "data": {
      "text/plain": [
       "[1, 2, 3, 4, 45, 5]"
      ]
     },
     "execution_count": 35,
     "metadata": {},
     "output_type": "execute_result"
    }
   ],
   "source": [
    "l"
   ]
  },
  {
   "cell_type": "code",
   "execution_count": 57,
   "id": "fd62663d",
   "metadata": {},
   "outputs": [],
   "source": [
    "#fibonacci\n",
    "def gen_fib(n):\n",
    "    a=1\n",
    "    b=1\n",
    "    l=[]\n",
    "    for i in range(n):\n",
    "        if i==0 or i==1:\n",
    "            l.append(a)\n",
    "            \n",
    "        else:\n",
    "            t=b\n",
    "            b=a\n",
    "            a=b+t\n",
    "            \n",
    "            l.append(a)\n",
    "       \n",
    "        \n",
    "    return l"
   ]
  },
  {
   "cell_type": "code",
   "execution_count": 58,
   "id": "31abd0bb",
   "metadata": {},
   "outputs": [
    {
     "data": {
      "text/plain": [
       "[1, 1, 2, 3, 5, 8, 13]"
      ]
     },
     "execution_count": 58,
     "metadata": {},
     "output_type": "execute_result"
    }
   ],
   "source": [
    "gen_fib(7)"
   ]
  },
  {
   "cell_type": "code",
   "execution_count": 59,
   "id": "9273a15b",
   "metadata": {},
   "outputs": [],
   "source": [
    "def genfib(n):\n",
    "    a=1\n",
    "    b=1\n",
    "    l=[]\n",
    "    for i in range(n):\n",
    "        l.append(a)\n",
    "        a,b=b,a+b\n",
    "    return l"
   ]
  },
  {
   "cell_type": "code",
   "execution_count": 60,
   "id": "d713bfb8",
   "metadata": {},
   "outputs": [
    {
     "data": {
      "text/plain": [
       "[1, 1, 2, 3, 5, 8, 13]"
      ]
     },
     "execution_count": 60,
     "metadata": {},
     "output_type": "execute_result"
    }
   ],
   "source": [
    "genfib(7)"
   ]
  },
  {
   "cell_type": "code",
   "execution_count": 61,
   "id": "07fc0641",
   "metadata": {},
   "outputs": [],
   "source": [
    "def test(x,y,z=0):\n",
    "    return x+y, x-y, x*y"
   ]
  },
  {
   "cell_type": "code",
   "execution_count": 62,
   "id": "0dce2c93",
   "metadata": {},
   "outputs": [
    {
     "data": {
      "text/plain": [
       "(5, -1, 6)"
      ]
     },
     "execution_count": 62,
     "metadata": {},
     "output_type": "execute_result"
    }
   ],
   "source": [
    "test(2,3)"
   ]
  },
  {
   "cell_type": "code",
   "execution_count": 63,
   "id": "b8dd127c",
   "metadata": {},
   "outputs": [],
   "source": [
    "a,_,b=test(2,3)"
   ]
  },
  {
   "cell_type": "code",
   "execution_count": 64,
   "id": "7d898908",
   "metadata": {},
   "outputs": [
    {
     "data": {
      "text/plain": [
       "5"
      ]
     },
     "execution_count": 64,
     "metadata": {},
     "output_type": "execute_result"
    }
   ],
   "source": [
    "a"
   ]
  },
  {
   "cell_type": "code",
   "execution_count": 65,
   "id": "602e1743",
   "metadata": {},
   "outputs": [
    {
     "data": {
      "text/plain": [
       "-1"
      ]
     },
     "execution_count": 65,
     "metadata": {},
     "output_type": "execute_result"
    }
   ],
   "source": [
    "_"
   ]
  },
  {
   "cell_type": "code",
   "execution_count": 66,
   "id": "0938880e",
   "metadata": {},
   "outputs": [
    {
     "data": {
      "text/plain": [
       "6"
      ]
     },
     "execution_count": 66,
     "metadata": {},
     "output_type": "execute_result"
    }
   ],
   "source": [
    "b"
   ]
  },
  {
   "cell_type": "code",
   "execution_count": 71,
   "id": "c3e55c04",
   "metadata": {},
   "outputs": [],
   "source": [
    "cube=map(lambda x: x**3, range(5))"
   ]
  },
  {
   "cell_type": "code",
   "execution_count": 74,
   "id": "cf5159af",
   "metadata": {},
   "outputs": [
    {
     "data": {
      "text/plain": [
       "<map at 0x212e10ddd00>"
      ]
     },
     "execution_count": 74,
     "metadata": {},
     "output_type": "execute_result"
    }
   ],
   "source": [
    "cube    # map generator function"
   ]
  },
  {
   "cell_type": "code",
   "execution_count": 75,
   "id": "79917bbc",
   "metadata": {},
   "outputs": [
    {
     "data": {
      "text/plain": [
       "[0, 1, 8, 27, 64]"
      ]
     },
     "execution_count": 75,
     "metadata": {},
     "output_type": "execute_result"
    }
   ],
   "source": [
    "list(cube)"
   ]
  },
  {
   "cell_type": "code",
   "execution_count": 83,
   "id": "825a03d9",
   "metadata": {},
   "outputs": [
    {
     "name": "stdout",
     "output_type": "stream",
     "text": [
      "0\n",
      "1\n"
     ]
    }
   ],
   "source": [
    "m=2\n",
    "for i in range(5):\n",
    "    if i<=m//2:\n",
    "        print(i)"
   ]
  },
  {
   "cell_type": "code",
   "execution_count": null,
   "id": "d4f5418e",
   "metadata": {},
   "outputs": [],
   "source": []
  }
 ],
 "metadata": {
  "kernelspec": {
   "display_name": "Python 3 (ipykernel)",
   "language": "python",
   "name": "python3"
  },
  "language_info": {
   "codemirror_mode": {
    "name": "ipython",
    "version": 3
   },
   "file_extension": ".py",
   "mimetype": "text/x-python",
   "name": "python",
   "nbconvert_exporter": "python",
   "pygments_lexer": "ipython3",
   "version": "3.9.12"
  }
 },
 "nbformat": 4,
 "nbformat_minor": 5
}
