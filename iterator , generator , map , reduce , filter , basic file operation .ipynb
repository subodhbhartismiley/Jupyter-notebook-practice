{
 "cells": [
  {
   "cell_type": "code",
   "execution_count": 1,
   "id": "981dfe69",
   "metadata": {},
   "outputs": [],
   "source": [
    "l = [1,3,4,5,5]"
   ]
  },
  {
   "cell_type": "code",
   "execution_count": 2,
   "id": "82d83cb6",
   "metadata": {},
   "outputs": [
    {
     "name": "stdout",
     "output_type": "stream",
     "text": [
      "1\n",
      "3\n",
      "4\n",
      "5\n",
      "5\n"
     ]
    }
   ],
   "source": [
    "for i in l :\n",
    "    print(i)"
   ]
  },
  {
   "cell_type": "code",
   "execution_count": 3,
   "id": "3aeafa76",
   "metadata": {},
   "outputs": [
    {
     "ename": "TypeError",
     "evalue": "'list' object is not an iterator",
     "output_type": "error",
     "traceback": [
      "\u001b[1;31m---------------------------------------------------------------------------\u001b[0m",
      "\u001b[1;31mTypeError\u001b[0m                                 Traceback (most recent call last)",
      "\u001b[1;32m~\\AppData\\Local\\Temp/ipykernel_12636/2016234150.py\u001b[0m in \u001b[0;36m<module>\u001b[1;34m\u001b[0m\n\u001b[1;32m----> 1\u001b[1;33m \u001b[0mnext\u001b[0m\u001b[1;33m(\u001b[0m\u001b[0ml\u001b[0m\u001b[1;33m)\u001b[0m\u001b[1;33m\u001b[0m\u001b[1;33m\u001b[0m\u001b[0m\n\u001b[0m",
      "\u001b[1;31mTypeError\u001b[0m: 'list' object is not an iterator"
     ]
    }
   ],
   "source": [
    "next(l)"
   ]
  },
  {
   "cell_type": "code",
   "execution_count": 4,
   "id": "2ee84111",
   "metadata": {},
   "outputs": [],
   "source": [
    "b = iter(l)"
   ]
  },
  {
   "cell_type": "code",
   "execution_count": 5,
   "id": "43bd0d17",
   "metadata": {},
   "outputs": [
    {
     "data": {
      "text/plain": [
       "1"
      ]
     },
     "execution_count": 5,
     "metadata": {},
     "output_type": "execute_result"
    }
   ],
   "source": [
    "next(b)"
   ]
  },
  {
   "cell_type": "code",
   "execution_count": 6,
   "id": "5ffb373b",
   "metadata": {},
   "outputs": [
    {
     "data": {
      "text/plain": [
       "3"
      ]
     },
     "execution_count": 6,
     "metadata": {},
     "output_type": "execute_result"
    }
   ],
   "source": [
    "next(b)"
   ]
  },
  {
   "cell_type": "code",
   "execution_count": 7,
   "id": "10db965d",
   "metadata": {},
   "outputs": [
    {
     "data": {
      "text/plain": [
       "4"
      ]
     },
     "execution_count": 7,
     "metadata": {},
     "output_type": "execute_result"
    }
   ],
   "source": [
    "next(b)"
   ]
  },
  {
   "cell_type": "code",
   "execution_count": 8,
   "id": "bca3f476",
   "metadata": {},
   "outputs": [
    {
     "data": {
      "text/plain": [
       "5"
      ]
     },
     "execution_count": 8,
     "metadata": {},
     "output_type": "execute_result"
    }
   ],
   "source": [
    "next(b)"
   ]
  },
  {
   "cell_type": "code",
   "execution_count": 9,
   "id": "1eeb80c3",
   "metadata": {},
   "outputs": [
    {
     "data": {
      "text/plain": [
       "5"
      ]
     },
     "execution_count": 9,
     "metadata": {},
     "output_type": "execute_result"
    }
   ],
   "source": [
    "next(b)"
   ]
  },
  {
   "cell_type": "code",
   "execution_count": 10,
   "id": "b5120c2d",
   "metadata": {},
   "outputs": [
    {
     "ename": "StopIteration",
     "evalue": "",
     "output_type": "error",
     "traceback": [
      "\u001b[1;31m---------------------------------------------------------------------------\u001b[0m",
      "\u001b[1;31mStopIteration\u001b[0m                             Traceback (most recent call last)",
      "\u001b[1;32m~\\AppData\\Local\\Temp/ipykernel_12636/973617480.py\u001b[0m in \u001b[0;36m<module>\u001b[1;34m\u001b[0m\n\u001b[1;32m----> 1\u001b[1;33m \u001b[0mnext\u001b[0m\u001b[1;33m(\u001b[0m\u001b[0mb\u001b[0m\u001b[1;33m)\u001b[0m\u001b[1;33m\u001b[0m\u001b[1;33m\u001b[0m\u001b[0m\n\u001b[0m",
      "\u001b[1;31mStopIteration\u001b[0m: "
     ]
    }
   ],
   "source": [
    "next(b)"
   ]
  },
  {
   "cell_type": "code",
   "execution_count": 11,
   "id": "48d201d1",
   "metadata": {},
   "outputs": [
    {
     "ename": "TypeError",
     "evalue": "'int' object is not an iterator",
     "output_type": "error",
     "traceback": [
      "\u001b[1;31m---------------------------------------------------------------------------\u001b[0m",
      "\u001b[1;31mTypeError\u001b[0m                                 Traceback (most recent call last)",
      "\u001b[1;32m~\\AppData\\Local\\Temp/ipykernel_12636/2317411141.py\u001b[0m in \u001b[0;36m<module>\u001b[1;34m\u001b[0m\n\u001b[1;32m----> 1\u001b[1;33m \u001b[0mnext\u001b[0m\u001b[1;33m(\u001b[0m\u001b[1;36m45\u001b[0m\u001b[1;33m)\u001b[0m\u001b[1;33m\u001b[0m\u001b[1;33m\u001b[0m\u001b[0m\n\u001b[0m",
      "\u001b[1;31mTypeError\u001b[0m: 'int' object is not an iterator"
     ]
    }
   ],
   "source": [
    "next(45)"
   ]
  },
  {
   "cell_type": "code",
   "execution_count": 12,
   "id": "4d57025d",
   "metadata": {},
   "outputs": [
    {
     "ename": "TypeError",
     "evalue": "'int' object is not iterable",
     "output_type": "error",
     "traceback": [
      "\u001b[1;31m---------------------------------------------------------------------------\u001b[0m",
      "\u001b[1;31mTypeError\u001b[0m                                 Traceback (most recent call last)",
      "\u001b[1;32m~\\AppData\\Local\\Temp/ipykernel_12636/3186544426.py\u001b[0m in \u001b[0;36m<module>\u001b[1;34m\u001b[0m\n\u001b[1;32m----> 1\u001b[1;33m \u001b[0miter\u001b[0m\u001b[1;33m(\u001b[0m\u001b[1;36m45\u001b[0m\u001b[1;33m)\u001b[0m\u001b[1;33m\u001b[0m\u001b[1;33m\u001b[0m\u001b[0m\n\u001b[0m",
      "\u001b[1;31mTypeError\u001b[0m: 'int' object is not iterable"
     ]
    }
   ],
   "source": [
    "iter(45)"
   ]
  },
  {
   "cell_type": "code",
   "execution_count": 13,
   "id": "d2b89699",
   "metadata": {},
   "outputs": [
    {
     "ename": "TypeError",
     "evalue": "'int' object is not iterable",
     "output_type": "error",
     "traceback": [
      "\u001b[1;31m---------------------------------------------------------------------------\u001b[0m",
      "\u001b[1;31mTypeError\u001b[0m                                 Traceback (most recent call last)",
      "\u001b[1;32m~\\AppData\\Local\\Temp/ipykernel_12636/1728215374.py\u001b[0m in \u001b[0;36m<module>\u001b[1;34m\u001b[0m\n\u001b[1;32m----> 1\u001b[1;33m \u001b[1;32mfor\u001b[0m \u001b[0mi\u001b[0m \u001b[1;32min\u001b[0m \u001b[1;36m45456\u001b[0m\u001b[1;33m:\u001b[0m\u001b[1;33m\u001b[0m\u001b[1;33m\u001b[0m\u001b[0m\n\u001b[0m\u001b[0;32m      2\u001b[0m     \u001b[0mprint\u001b[0m\u001b[1;33m(\u001b[0m\u001b[0mi\u001b[0m\u001b[1;33m)\u001b[0m\u001b[1;33m\u001b[0m\u001b[1;33m\u001b[0m\u001b[0m\n",
      "\u001b[1;31mTypeError\u001b[0m: 'int' object is not iterable"
     ]
    }
   ],
   "source": [
    "for i in 45456:\n",
    "    print(i)"
   ]
  },
  {
   "cell_type": "code",
   "execution_count": 14,
   "id": "fe15fd84",
   "metadata": {},
   "outputs": [
    {
     "data": {
      "text/plain": [
       "[1, 3, 4, 5, 5]"
      ]
     },
     "execution_count": 14,
     "metadata": {},
     "output_type": "execute_result"
    }
   ],
   "source": [
    "l"
   ]
  },
  {
   "cell_type": "code",
   "execution_count": 15,
   "id": "1468f47d",
   "metadata": {},
   "outputs": [
    {
     "name": "stdout",
     "output_type": "stream",
     "text": [
      "1\n",
      "3\n",
      "4\n",
      "5\n",
      "5\n"
     ]
    }
   ],
   "source": [
    "for i in l :\n",
    "    print(i)"
   ]
  },
  {
   "cell_type": "code",
   "execution_count": 16,
   "id": "472ef530",
   "metadata": {},
   "outputs": [],
   "source": [
    "s = \"sudh\""
   ]
  },
  {
   "cell_type": "code",
   "execution_count": 17,
   "id": "16b1c9ce",
   "metadata": {},
   "outputs": [
    {
     "ename": "TypeError",
     "evalue": "'str' object is not an iterator",
     "output_type": "error",
     "traceback": [
      "\u001b[1;31m---------------------------------------------------------------------------\u001b[0m",
      "\u001b[1;31mTypeError\u001b[0m                                 Traceback (most recent call last)",
      "\u001b[1;32m~\\AppData\\Local\\Temp/ipykernel_12636/1977886155.py\u001b[0m in \u001b[0;36m<module>\u001b[1;34m\u001b[0m\n\u001b[1;32m----> 1\u001b[1;33m \u001b[0mnext\u001b[0m\u001b[1;33m(\u001b[0m\u001b[0ms\u001b[0m\u001b[1;33m)\u001b[0m\u001b[1;33m\u001b[0m\u001b[1;33m\u001b[0m\u001b[0m\n\u001b[0m",
      "\u001b[1;31mTypeError\u001b[0m: 'str' object is not an iterator"
     ]
    }
   ],
   "source": [
    "next(s)"
   ]
  },
  {
   "cell_type": "code",
   "execution_count": 18,
   "id": "400ffde5",
   "metadata": {},
   "outputs": [],
   "source": [
    "s = iter(s)"
   ]
  },
  {
   "cell_type": "code",
   "execution_count": 19,
   "id": "a44603f5",
   "metadata": {},
   "outputs": [
    {
     "data": {
      "text/plain": [
       "'s'"
      ]
     },
     "execution_count": 19,
     "metadata": {},
     "output_type": "execute_result"
    }
   ],
   "source": [
    "next(s)"
   ]
  },
  {
   "cell_type": "code",
   "execution_count": 20,
   "id": "a2432019",
   "metadata": {},
   "outputs": [
    {
     "data": {
      "text/plain": [
       "'u'"
      ]
     },
     "execution_count": 20,
     "metadata": {},
     "output_type": "execute_result"
    }
   ],
   "source": [
    "next(s)"
   ]
  },
  {
   "cell_type": "code",
   "execution_count": 21,
   "id": "6c628979",
   "metadata": {},
   "outputs": [
    {
     "data": {
      "text/plain": [
       "'d'"
      ]
     },
     "execution_count": 21,
     "metadata": {},
     "output_type": "execute_result"
    }
   ],
   "source": [
    "next(s)"
   ]
  },
  {
   "cell_type": "code",
   "execution_count": 22,
   "id": "84a07c9c",
   "metadata": {},
   "outputs": [
    {
     "data": {
      "text/plain": [
       "'h'"
      ]
     },
     "execution_count": 22,
     "metadata": {},
     "output_type": "execute_result"
    }
   ],
   "source": [
    "next(s)"
   ]
  },
  {
   "cell_type": "code",
   "execution_count": 23,
   "id": "d5a211a6",
   "metadata": {},
   "outputs": [
    {
     "ename": "StopIteration",
     "evalue": "",
     "output_type": "error",
     "traceback": [
      "\u001b[1;31m---------------------------------------------------------------------------\u001b[0m",
      "\u001b[1;31mStopIteration\u001b[0m                             Traceback (most recent call last)",
      "\u001b[1;32m~\\AppData\\Local\\Temp/ipykernel_12636/1977886155.py\u001b[0m in \u001b[0;36m<module>\u001b[1;34m\u001b[0m\n\u001b[1;32m----> 1\u001b[1;33m \u001b[0mnext\u001b[0m\u001b[1;33m(\u001b[0m\u001b[0ms\u001b[0m\u001b[1;33m)\u001b[0m\u001b[1;33m\u001b[0m\u001b[1;33m\u001b[0m\u001b[0m\n\u001b[0m",
      "\u001b[1;31mStopIteration\u001b[0m: "
     ]
    }
   ],
   "source": [
    "next(s)"
   ]
  },
  {
   "cell_type": "code",
   "execution_count": 26,
   "id": "4db5844f",
   "metadata": {},
   "outputs": [
    {
     "name": "stdout",
     "output_type": "stream",
     "text": [
      "s\n",
      "u\n",
      "d\n",
      "h\n"
     ]
    }
   ],
   "source": [
    "s = \"sudh\"\n",
    "for i in s :\n",
    "    print(i)"
   ]
  },
  {
   "cell_type": "code",
   "execution_count": 27,
   "id": "afce41d2",
   "metadata": {},
   "outputs": [],
   "source": [
    "t = (5,6,7,8,8)"
   ]
  },
  {
   "cell_type": "code",
   "execution_count": 28,
   "id": "541f58c4",
   "metadata": {},
   "outputs": [
    {
     "ename": "TypeError",
     "evalue": "'tuple' object is not an iterator",
     "output_type": "error",
     "traceback": [
      "\u001b[1;31m---------------------------------------------------------------------------\u001b[0m",
      "\u001b[1;31mTypeError\u001b[0m                                 Traceback (most recent call last)",
      "\u001b[1;32m~\\AppData\\Local\\Temp/ipykernel_12636/2139502855.py\u001b[0m in \u001b[0;36m<module>\u001b[1;34m\u001b[0m\n\u001b[1;32m----> 1\u001b[1;33m \u001b[0mnext\u001b[0m\u001b[1;33m(\u001b[0m\u001b[0mt\u001b[0m\u001b[1;33m)\u001b[0m\u001b[1;33m\u001b[0m\u001b[1;33m\u001b[0m\u001b[0m\n\u001b[0m",
      "\u001b[1;31mTypeError\u001b[0m: 'tuple' object is not an iterator"
     ]
    }
   ],
   "source": [
    "next(t)"
   ]
  },
  {
   "cell_type": "code",
   "execution_count": 29,
   "id": "86aeab4f",
   "metadata": {},
   "outputs": [],
   "source": [
    "t = iter(t)"
   ]
  },
  {
   "cell_type": "code",
   "execution_count": 30,
   "id": "a9869ba1",
   "metadata": {},
   "outputs": [
    {
     "data": {
      "text/plain": [
       "5"
      ]
     },
     "execution_count": 30,
     "metadata": {},
     "output_type": "execute_result"
    }
   ],
   "source": [
    "next(t)"
   ]
  },
  {
   "cell_type": "code",
   "execution_count": 31,
   "id": "1d87844c",
   "metadata": {},
   "outputs": [
    {
     "data": {
      "text/plain": [
       "6"
      ]
     },
     "execution_count": 31,
     "metadata": {},
     "output_type": "execute_result"
    }
   ],
   "source": [
    "next(t)"
   ]
  },
  {
   "cell_type": "code",
   "execution_count": 32,
   "id": "d903ec42",
   "metadata": {},
   "outputs": [
    {
     "data": {
      "text/plain": [
       "7"
      ]
     },
     "execution_count": 32,
     "metadata": {},
     "output_type": "execute_result"
    }
   ],
   "source": [
    "next(t)"
   ]
  },
  {
   "cell_type": "code",
   "execution_count": 33,
   "id": "b452d9b2",
   "metadata": {},
   "outputs": [
    {
     "data": {
      "text/plain": [
       "8"
      ]
     },
     "execution_count": 33,
     "metadata": {},
     "output_type": "execute_result"
    }
   ],
   "source": [
    "next(t)"
   ]
  },
  {
   "cell_type": "code",
   "execution_count": 34,
   "id": "35d29704",
   "metadata": {},
   "outputs": [
    {
     "data": {
      "text/plain": [
       "8"
      ]
     },
     "execution_count": 34,
     "metadata": {},
     "output_type": "execute_result"
    }
   ],
   "source": [
    "next(t)"
   ]
  },
  {
   "cell_type": "code",
   "execution_count": 35,
   "id": "50b94b1a",
   "metadata": {},
   "outputs": [
    {
     "ename": "StopIteration",
     "evalue": "",
     "output_type": "error",
     "traceback": [
      "\u001b[1;31m---------------------------------------------------------------------------\u001b[0m",
      "\u001b[1;31mStopIteration\u001b[0m                             Traceback (most recent call last)",
      "\u001b[1;32m~\\AppData\\Local\\Temp/ipykernel_12636/2139502855.py\u001b[0m in \u001b[0;36m<module>\u001b[1;34m\u001b[0m\n\u001b[1;32m----> 1\u001b[1;33m \u001b[0mnext\u001b[0m\u001b[1;33m(\u001b[0m\u001b[0mt\u001b[0m\u001b[1;33m)\u001b[0m\u001b[1;33m\u001b[0m\u001b[1;33m\u001b[0m\u001b[0m\n\u001b[0m",
      "\u001b[1;31mStopIteration\u001b[0m: "
     ]
    }
   ],
   "source": [
    "next(t)"
   ]
  },
  {
   "cell_type": "code",
   "execution_count": 37,
   "id": "3af9c50a",
   "metadata": {},
   "outputs": [
    {
     "data": {
      "text/plain": [
       "[1, 2, 3, 4, 5, 6, 7, 8, 9]"
      ]
     },
     "execution_count": 37,
     "metadata": {},
     "output_type": "execute_result"
    }
   ],
   "source": [
    "list(range(1,10))"
   ]
  },
  {
   "cell_type": "code",
   "execution_count": null,
   "id": "e106880a",
   "metadata": {},
   "outputs": [],
   "source": [
    "1,4,9,16"
   ]
  },
  {
   "cell_type": "code",
   "execution_count": 45,
   "id": "87ecfd76",
   "metadata": {},
   "outputs": [],
   "source": [
    "def square_fun(n) :\n",
    "    x = [i*i for i in range(n)]\n",
    "    return x "
   ]
  },
  {
   "cell_type": "code",
   "execution_count": 46,
   "id": "269e4579",
   "metadata": {},
   "outputs": [
    {
     "data": {
      "text/plain": [
       "[0, 1, 4, 9]"
      ]
     },
     "execution_count": 46,
     "metadata": {},
     "output_type": "execute_result"
    }
   ],
   "source": [
    "square_fun(4)"
   ]
  },
  {
   "cell_type": "code",
   "execution_count": 48,
   "id": "f08aa292",
   "metadata": {},
   "outputs": [
    {
     "data": {
      "text/plain": [
       "[0, 1, 2, 3]"
      ]
     },
     "execution_count": 48,
     "metadata": {},
     "output_type": "execute_result"
    }
   ],
   "source": [
    "list(range(4))"
   ]
  },
  {
   "cell_type": "code",
   "execution_count": 49,
   "id": "6f7027ce",
   "metadata": {},
   "outputs": [],
   "source": [
    "def square_fun1(n) :\n",
    "    x = [i*i for i in range(n)]\n",
    "    yield x "
   ]
  },
  {
   "cell_type": "code",
   "execution_count": 50,
   "id": "221b1edd",
   "metadata": {},
   "outputs": [
    {
     "data": {
      "text/plain": [
       "<generator object square_fun1 at 0x00000254AAD64B30>"
      ]
     },
     "execution_count": 50,
     "metadata": {},
     "output_type": "execute_result"
    }
   ],
   "source": [
    "square_fun1(4)"
   ]
  },
  {
   "cell_type": "code",
   "execution_count": 51,
   "id": "2a978a13",
   "metadata": {},
   "outputs": [
    {
     "data": {
      "text/plain": [
       "range(0, 5)"
      ]
     },
     "execution_count": 51,
     "metadata": {},
     "output_type": "execute_result"
    }
   ],
   "source": [
    "range(5)"
   ]
  },
  {
   "cell_type": "code",
   "execution_count": 52,
   "id": "610bc1da",
   "metadata": {},
   "outputs": [
    {
     "name": "stdout",
     "output_type": "stream",
     "text": [
      "[0, 1, 4, 9]\n"
     ]
    }
   ],
   "source": [
    "for i in square_fun1(4):\n",
    "    print(i)\n",
    "    "
   ]
  },
  {
   "cell_type": "code",
   "execution_count": 53,
   "id": "24618b9f",
   "metadata": {},
   "outputs": [
    {
     "name": "stdout",
     "output_type": "stream",
     "text": [
      "0\n",
      "1\n",
      "2\n",
      "3\n"
     ]
    }
   ],
   "source": [
    "for i in range(4):\n",
    "    print(i)"
   ]
  },
  {
   "cell_type": "code",
   "execution_count": 54,
   "id": "61a1700b",
   "metadata": {},
   "outputs": [
    {
     "data": {
      "text/plain": [
       "[0, 1, 4, 9]"
      ]
     },
     "execution_count": 54,
     "metadata": {},
     "output_type": "execute_result"
    }
   ],
   "source": [
    "next(square_fun1(4))"
   ]
  },
  {
   "cell_type": "code",
   "execution_count": 55,
   "id": "6643ca7c",
   "metadata": {},
   "outputs": [
    {
     "ename": "TypeError",
     "evalue": "'range' object is not an iterator",
     "output_type": "error",
     "traceback": [
      "\u001b[1;31m---------------------------------------------------------------------------\u001b[0m",
      "\u001b[1;31mTypeError\u001b[0m                                 Traceback (most recent call last)",
      "\u001b[1;32m~\\AppData\\Local\\Temp/ipykernel_12636/2900367581.py\u001b[0m in \u001b[0;36m<module>\u001b[1;34m\u001b[0m\n\u001b[1;32m----> 1\u001b[1;33m \u001b[0mnext\u001b[0m\u001b[1;33m(\u001b[0m\u001b[0mrange\u001b[0m\u001b[1;33m(\u001b[0m\u001b[1;36m4\u001b[0m\u001b[1;33m)\u001b[0m\u001b[1;33m)\u001b[0m\u001b[1;33m\u001b[0m\u001b[1;33m\u001b[0m\u001b[0m\n\u001b[0m",
      "\u001b[1;31mTypeError\u001b[0m: 'range' object is not an iterator"
     ]
    }
   ],
   "source": [
    "next(range(4))"
   ]
  },
  {
   "cell_type": "code",
   "execution_count": 56,
   "id": "1dd87ba1",
   "metadata": {},
   "outputs": [],
   "source": [
    "r = iter(range(4))"
   ]
  },
  {
   "cell_type": "code",
   "execution_count": 57,
   "id": "e53cb6eb",
   "metadata": {},
   "outputs": [
    {
     "data": {
      "text/plain": [
       "0"
      ]
     },
     "execution_count": 57,
     "metadata": {},
     "output_type": "execute_result"
    }
   ],
   "source": [
    "next(r)"
   ]
  },
  {
   "cell_type": "code",
   "execution_count": 58,
   "id": "3b3cac3d",
   "metadata": {},
   "outputs": [
    {
     "data": {
      "text/plain": [
       "1"
      ]
     },
     "execution_count": 58,
     "metadata": {},
     "output_type": "execute_result"
    }
   ],
   "source": [
    "next(r)"
   ]
  },
  {
   "cell_type": "code",
   "execution_count": 59,
   "id": "c4804760",
   "metadata": {},
   "outputs": [
    {
     "data": {
      "text/plain": [
       "2"
      ]
     },
     "execution_count": 59,
     "metadata": {},
     "output_type": "execute_result"
    }
   ],
   "source": [
    "next(r)"
   ]
  },
  {
   "cell_type": "code",
   "execution_count": 60,
   "id": "e5a3e8c8",
   "metadata": {},
   "outputs": [
    {
     "data": {
      "text/plain": [
       "3"
      ]
     },
     "execution_count": 60,
     "metadata": {},
     "output_type": "execute_result"
    }
   ],
   "source": [
    "next(r)"
   ]
  },
  {
   "cell_type": "code",
   "execution_count": 61,
   "id": "1485311e",
   "metadata": {},
   "outputs": [
    {
     "ename": "StopIteration",
     "evalue": "",
     "output_type": "error",
     "traceback": [
      "\u001b[1;31m---------------------------------------------------------------------------\u001b[0m",
      "\u001b[1;31mStopIteration\u001b[0m                             Traceback (most recent call last)",
      "\u001b[1;32m~\\AppData\\Local\\Temp/ipykernel_12636/4134984757.py\u001b[0m in \u001b[0;36m<module>\u001b[1;34m\u001b[0m\n\u001b[1;32m----> 1\u001b[1;33m \u001b[0mnext\u001b[0m\u001b[1;33m(\u001b[0m\u001b[0mr\u001b[0m\u001b[1;33m)\u001b[0m\u001b[1;33m\u001b[0m\u001b[1;33m\u001b[0m\u001b[0m\n\u001b[0m",
      "\u001b[1;31mStopIteration\u001b[0m: "
     ]
    }
   ],
   "source": [
    "next(r)"
   ]
  },
  {
   "cell_type": "code",
   "execution_count": 70,
   "id": "7e09c0dc",
   "metadata": {},
   "outputs": [],
   "source": [
    "def genfib(n) : \n",
    "    a = 1 \n",
    "    b = 1 \n",
    "    l = []\n",
    "    for i in range(n):\n",
    "        l.append(a)\n",
    "        a,b = b , a+b\n",
    "    return l "
   ]
  },
  {
   "cell_type": "code",
   "execution_count": 72,
   "id": "ccdb2c40",
   "metadata": {},
   "outputs": [],
   "source": [
    "genfib(100000000000000)"
   ]
  },
  {
   "cell_type": "code",
   "execution_count": 1,
   "id": "e16c3dc2",
   "metadata": {},
   "outputs": [],
   "source": [
    "def genfib1(n) : \n",
    "    a = 1 \n",
    "    b = 1 \n",
    "    for i in range(n):\n",
    "        yield a\n",
    "        a,b = b , a+b"
   ]
  },
  {
   "cell_type": "code",
   "execution_count": 2,
   "id": "f27f7cf5",
   "metadata": {},
   "outputs": [
    {
     "data": {
      "text/plain": [
       "<generator object genfib1 at 0x000002A5CBA9FDD0>"
      ]
     },
     "execution_count": 2,
     "metadata": {},
     "output_type": "execute_result"
    }
   ],
   "source": [
    "genfib1(10)"
   ]
  },
  {
   "cell_type": "code",
   "execution_count": 4,
   "id": "d94a62ae",
   "metadata": {},
   "outputs": [
     ]
    },
    {
     "name": "stderr",
     "output_type": "stream",
     "text": [
      "IOPub data rate exceeded.\n",
      "The notebook server will temporarily stop sending output\n",
      "to the client in order to avoid crashing it.\n",
      "To change this limit, set the config variable\n",
      "`--NotebookApp.iopub_data_rate_limit`.\n",
      "\n",
      "Current values:\n",
      "NotebookApp.iopub_data_rate_limit=1000000.0 (bytes/sec)\n",
      "NotebookApp.rate_limit_window=3.0 (secs)\n",
      "\n"
     ]
    }
   ],
   "source": [
    "for i in genfib1(1000000000000000000):\n",
    "    print(i)"
   ]
  },
  {
   "cell_type": "code",
   "execution_count": 5,
   "id": "f9635949",
   "metadata": {},
   "outputs": [],
   "source": [
    "#file operation \n"
   ]
  },
  {
   "cell_type": "code",
   "execution_count": 12,
   "id": "59070fda",
   "metadata": {},
   "outputs": [],
   "source": [
    "f = open(\"sudh1.txt\", 'w')"
   ]
  },
  {
   "cell_type": "code",
   "execution_count": 13,
   "id": "68b82172",
   "metadata": {},
   "outputs": [
    {
     "name": "stdout",
     "output_type": "stream",
     "text": [
      " Volume in drive C has no label.\n",
      " Volume Serial Number is 2E4C-190F\n",
      "\n",
      " Directory of C:\\Users\\win10\\Downloads\\Complete Python Module\\Complete Python Module\n",
      "\n",
      "06/18/2022  04:37 PM    <DIR>          .\n",
      "06/18/2022  04:37 PM    <DIR>          ..\n",
      "06/18/2022  03:24 PM    <DIR>          .ipynb_checkpoints\n",
      "01/19/2022  05:00 PM    <DIR>          1.Python Overview\n",
      "12/20/2021  11:35 AM    <DIR>          10.OS and Shutil\n",
      "07/07/2021  08:03 PM    <DIR>          11.1 Logging\n",
      "07/07/2021  08:03 PM    <DIR>          11.2 Debugger\n",
      "07/07/2021  08:03 PM    <DIR>          12. Module and import\n",
      "11/14/2021  10:24 PM    <DIR>          13. OOPS\n",
      "07/07/2021  08:04 PM    <DIR>          14. Exception\n",
      "04/11/2021  06:07 AM    <DIR>          15.1 Merge multiple jupyter notebooks Project\n",
      "04/11/2021  06:07 AM    <DIR>          15.2 Send Email Project\n",
      "04/11/2021  06:07 AM    <DIR>          15.3.Image Resize Project\n",
      "11/07/2021  10:14 AM    <DIR>          16-17. Pandas-Numpy\n",
      "07/07/2021  08:04 PM    <DIR>          18.1 MATPLOTLIB\n",
      "07/07/2021  08:04 PM    <DIR>          18.2 SEABORN\n",
      "07/24/2021  06:17 PM    <DIR>          18.3.Plotly\n",
      "07/25/2021  10:49 AM         1,460,397 18.3.Plotly.7z\n",
      "07/24/2021  06:17 PM    <DIR>          18.4.Cufflinks\n",
      "05/16/2021  03:05 PM    <DIR>          19.1.SqLite\n",
      "10/30/2021  10:10 PM    <DIR>          19.2.MySQL\n",
      "05/17/2021  04:55 PM         7,290,387 19.2.MySQL.7z\n",
      "02/13/2022  10:03 AM    <DIR>          19.3 MongoDB\n",
      "05/17/2021  04:55 PM         4,407,102 19.3 MongoDB.7z\n",
      "02/25/2022  05:12 PM    <DIR>          19.4.Cassandra\n",
      "05/23/2021  12:43 PM         2,645,265 19.4.Cassandra.7z\n",
      "01/19/2022  05:01 PM    <DIR>          2.Installation\n",
      "05/09/2021  01:46 PM    <DIR>          20.Memory Management\n",
      "12/04/2021  08:02 PM    <DIR>          21.Flask\n",
      "04/11/2021  06:07 AM    <DIR>          22.Food App\n",
      "05/23/2021  02:39 PM    <DIR>          23. Django\n",
      "05/31/2021  01:59 PM           552,367 23. Django.7z\n",
      "05/29/2021  02:15 PM    <DIR>          24.Weather App\n",
      "04/11/2021  06:07 AM    <DIR>          25.MemesGenerator App\n",
      "04/11/2021  06:07 AM    <DIR>          26. Django-blog app\n",
      "01/19/2022  05:02 PM    <DIR>          3. Basic variables\n",
      "05/15/2022  02:54 PM    <DIR>          4.Control Flow\n",
      "12/05/2021  10:13 AM    <DIR>          4.Expressions Operators and Precedence\n",
      "05/15/2022  02:55 PM    <DIR>          6. Variable-containers\n",
      "06/18/2022  04:28 PM    <DIR>          7.Functions\n",
      "06/18/2022  04:27 PM    <DIR>          8.Iterators Generators\n",
      "06/18/2022  04:27 PM    <DIR>          9.File I-O\n",
      "08/07/2021  02:05 PM         1,087,591 Advanced-House-Price-Prediction--master.zip\n",
      "08/07/2021  12:07 PM    <DIR>          AutoViz_Library_Shivan\n",
      "08/07/2021  12:07 PM       100,703,673 AutoViz_Library_Shivan.zip\n",
      "08/06/2021  03:07 PM    <DIR>          Bokeh-20210806T093644Z-001\n",
      "08/06/2021  03:06 PM         2,450,577 Bokeh-20210806T093644Z-001.zip\n",
      "08/07/2021  12:02 PM    <DIR>          Dask (3)\n",
      "08/07/2021  12:01 PM        69,190,349 Dask (3).zip\n",
      "08/07/2021  12:06 PM         9,522,530 Django (1).docx\n",
      "08/07/2021  02:34 PM            74,585 Feature Engineering Part 1.ipynb\n",
      "08/07/2021  02:05 PM    <DIR>          FIFA (1)\n",
      "08/07/2021  02:05 PM         6,329,167 FIFA (1).zip\n",
      "08/07/2021  02:05 PM    <DIR>          FitBit (3)\n",
      "08/07/2021  02:05 PM         1,806,804 FitBit (3).zip\n",
      "05/23/2021  06:22 PM    <DIR>          flask_demo\n",
      "08/07/2021  02:05 PM    <DIR>          Flight_Price\n",
      "08/07/2021  02:05 PM         1,344,407 Flight_Price.zip\n",
      "08/07/2021  02:05 PM    <DIR>          HRPrediction\n",
      "08/07/2021  02:05 PM           893,881 HRPrediction.zip\n",
      "02/13/2022  12:29 PM            57,353 mongodb class 1.ipynb\n",
      "10/03/2021  10:12 PM            34,678 python exception handling .ipynb\n",
      "08/18/2020  03:50 AM             6,095 Python Table of Content.xlsx\n",
      "07/08/2021  01:53 PM    <DIR>          QnA\n",
      "08/05/2021  06:16 PM       905,035,408 Streamlit-20210805T124211Z-001.zip\n",
      "06/18/2022  04:37 PM                 0 sudh1.txt\n",
      "10/03/2021  08:39 PM                22 test.txt\n",
      "02/25/2022  05:31 PM           409,188 Tkinter.ipynb\n",
      "06/18/2022  04:37 PM       182,419,350 Untitled.ipynb\n",
      "08/07/2021  04:40 PM    <DIR>          zomato (4)\n",
      "08/07/2021  02:05 PM           517,670 zomato (4).zip\n",
      "              24 File(s)  1,298,238,846 bytes\n",
      "              47 Dir(s)  500,919,623,680 bytes free\n"
     ]
    }
   ],
   "source": [
    "ls"
   ]
  },
  {
   "cell_type": "code",
   "execution_count": 14,
   "id": "05344a59",
   "metadata": {},
   "outputs": [
    {
     "data": {
      "text/plain": [
       "36"
      ]
     },
     "execution_count": 14,
     "metadata": {},
     "output_type": "execute_result"
    }
   ],
   "source": [
    "f.write(\"this is my very first file operation\")"
   ]
  },
  {
   "cell_type": "code",
   "execution_count": 15,
   "id": "0e15632f",
   "metadata": {},
   "outputs": [],
   "source": [
    "f.close()"
   ]
  },
  {
   "cell_type": "code",
   "execution_count": 17,
   "id": "98108713",
   "metadata": {},
   "outputs": [
    {
     "name": "stdout",
     "output_type": "stream",
     "text": [
      " Volume in drive C has no label.\n",
      " Volume Serial Number is 2E4C-190F\n",
      "\n",
      " Directory of C:\\Users\\win10\\Downloads\\Complete Python Module\\Complete Python Module\n",
      "\n",
      "06/18/2022  04:39 PM    <DIR>          .\n",
      "06/18/2022  04:39 PM    <DIR>          ..\n",
      "06/18/2022  03:24 PM    <DIR>          .ipynb_checkpoints\n",
      "01/19/2022  05:00 PM    <DIR>          1.Python Overview\n",
      "12/20/2021  11:35 AM    <DIR>          10.OS and Shutil\n",
      "07/07/2021  08:03 PM    <DIR>          11.1 Logging\n",
      "07/07/2021  08:03 PM    <DIR>          11.2 Debugger\n",
      "07/07/2021  08:03 PM    <DIR>          12. Module and import\n",
      "11/14/2021  10:24 PM    <DIR>          13. OOPS\n",
      "07/07/2021  08:04 PM    <DIR>          14. Exception\n",
      "04/11/2021  06:07 AM    <DIR>          15.1 Merge multiple jupyter notebooks Project\n",
      "04/11/2021  06:07 AM    <DIR>          15.2 Send Email Project\n",
      "04/11/2021  06:07 AM    <DIR>          15.3.Image Resize Project\n",
      "11/07/2021  10:14 AM    <DIR>          16-17. Pandas-Numpy\n",
      "07/07/2021  08:04 PM    <DIR>          18.1 MATPLOTLIB\n",
      "07/07/2021  08:04 PM    <DIR>          18.2 SEABORN\n",
      "07/24/2021  06:17 PM    <DIR>          18.3.Plotly\n",
      "07/25/2021  10:49 AM         1,460,397 18.3.Plotly.7z\n",
      "07/24/2021  06:17 PM    <DIR>          18.4.Cufflinks\n",
      "05/16/2021  03:05 PM    <DIR>          19.1.SqLite\n",
      "10/30/2021  10:10 PM    <DIR>          19.2.MySQL\n",
      "05/17/2021  04:55 PM         7,290,387 19.2.MySQL.7z\n",
      "02/13/2022  10:03 AM    <DIR>          19.3 MongoDB\n",
      "05/17/2021  04:55 PM         4,407,102 19.3 MongoDB.7z\n",
      "02/25/2022  05:12 PM    <DIR>          19.4.Cassandra\n",
      "05/23/2021  12:43 PM         2,645,265 19.4.Cassandra.7z\n",
      "01/19/2022  05:01 PM    <DIR>          2.Installation\n",
      "05/09/2021  01:46 PM    <DIR>          20.Memory Management\n",
      "12/04/2021  08:02 PM    <DIR>          21.Flask\n",
      "04/11/2021  06:07 AM    <DIR>          22.Food App\n",
      "05/23/2021  02:39 PM    <DIR>          23. Django\n",
      "05/31/2021  01:59 PM           552,367 23. Django.7z\n",
      "05/29/2021  02:15 PM    <DIR>          24.Weather App\n",
      "04/11/2021  06:07 AM    <DIR>          25.MemesGenerator App\n",
      "04/11/2021  06:07 AM    <DIR>          26. Django-blog app\n",
      "01/19/2022  05:02 PM    <DIR>          3. Basic variables\n",
      "05/15/2022  02:54 PM    <DIR>          4.Control Flow\n",
      "12/05/2021  10:13 AM    <DIR>          4.Expressions Operators and Precedence\n",
      "05/15/2022  02:55 PM    <DIR>          6. Variable-containers\n",
      "06/18/2022  04:28 PM    <DIR>          7.Functions\n",
      "06/18/2022  04:27 PM    <DIR>          8.Iterators Generators\n",
      "06/18/2022  04:27 PM    <DIR>          9.File I-O\n",
      "08/07/2021  02:05 PM         1,087,591 Advanced-House-Price-Prediction--master.zip\n",
      "08/07/2021  12:07 PM    <DIR>          AutoViz_Library_Shivan\n",
      "08/07/2021  12:07 PM       100,703,673 AutoViz_Library_Shivan.zip\n",
      "08/06/2021  03:07 PM    <DIR>          Bokeh-20210806T093644Z-001\n",
      "08/06/2021  03:06 PM         2,450,577 Bokeh-20210806T093644Z-001.zip\n",
      "08/07/2021  12:02 PM    <DIR>          Dask (3)\n",
      "08/07/2021  12:01 PM        69,190,349 Dask (3).zip\n",
      "08/07/2021  12:06 PM         9,522,530 Django (1).docx\n",
      "08/07/2021  02:34 PM            74,585 Feature Engineering Part 1.ipynb\n",
      "08/07/2021  02:05 PM    <DIR>          FIFA (1)\n",
      "08/07/2021  02:05 PM         6,329,167 FIFA (1).zip\n",
      "08/07/2021  02:05 PM    <DIR>          FitBit (3)\n",
      "08/07/2021  02:05 PM         1,806,804 FitBit (3).zip\n",
      "05/23/2021  06:22 PM    <DIR>          flask_demo\n",
      "08/07/2021  02:05 PM    <DIR>          Flight_Price\n",
      "08/07/2021  02:05 PM         1,344,407 Flight_Price.zip\n",
      "08/07/2021  02:05 PM    <DIR>          HRPrediction\n",
      "08/07/2021  02:05 PM           893,881 HRPrediction.zip\n",
      "02/13/2022  12:29 PM            57,353 mongodb class 1.ipynb\n",
      "10/03/2021  10:12 PM            34,678 python exception handling .ipynb\n",
      "08/18/2020  03:50 AM             6,095 Python Table of Content.xlsx\n",
      "07/08/2021  01:53 PM    <DIR>          QnA\n",
      "08/05/2021  06:16 PM       905,035,408 Streamlit-20210805T124211Z-001.zip\n",
      "06/18/2022  04:40 PM                36 sudh1.txt\n",
      "10/03/2021  08:39 PM                22 test.txt\n",
      "02/25/2022  05:31 PM           409,188 Tkinter.ipynb\n",
      "06/18/2022  04:39 PM       182,418,565 Untitled.ipynb\n",
      "08/07/2021  04:40 PM    <DIR>          zomato (4)\n",
      "08/07/2021  02:05 PM           517,670 zomato (4).zip\n",
      "              24 File(s)  1,298,238,097 bytes\n",
      "              47 Dir(s)  500,917,780,480 bytes free\n"
     ]
    }
   ],
   "source": [
    "ls"
   ]
  },
  {
   "cell_type": "code",
   "execution_count": 18,
   "id": "bcf2db15",
   "metadata": {},
   "outputs": [
    {
     "name": "stdout",
     "output_type": "stream",
     "text": [
      " Volume in drive C has no label.\n",
      " Volume Serial Number is 2E4C-190F\n",
      "\n",
      " Directory of C:\\Users\\win10\\Downloads\\Complete Python Module\\Complete Python Module\n",
      "\n",
      "06/18/2022  04:41 PM    <DIR>          .\n",
      "06/18/2022  04:41 PM    <DIR>          ..\n",
      "06/18/2022  03:24 PM    <DIR>          .ipynb_checkpoints\n",
      "01/19/2022  05:00 PM    <DIR>          1.Python Overview\n",
      "12/20/2021  11:35 AM    <DIR>          10.OS and Shutil\n",
      "07/07/2021  08:03 PM    <DIR>          11.1 Logging\n",
      "07/07/2021  08:03 PM    <DIR>          11.2 Debugger\n",
      "07/07/2021  08:03 PM    <DIR>          12. Module and import\n",
      "11/14/2021  10:24 PM    <DIR>          13. OOPS\n",
      "07/07/2021  08:04 PM    <DIR>          14. Exception\n",
      "04/11/2021  06:07 AM    <DIR>          15.1 Merge multiple jupyter notebooks Project\n",
      "04/11/2021  06:07 AM    <DIR>          15.2 Send Email Project\n",
      "04/11/2021  06:07 AM    <DIR>          15.3.Image Resize Project\n",
      "11/07/2021  10:14 AM    <DIR>          16-17. Pandas-Numpy\n",
      "07/07/2021  08:04 PM    <DIR>          18.1 MATPLOTLIB\n",
      "07/07/2021  08:04 PM    <DIR>          18.2 SEABORN\n",
      "07/24/2021  06:17 PM    <DIR>          18.3.Plotly\n",
      "07/25/2021  10:49 AM         1,460,397 18.3.Plotly.7z\n",
      "07/24/2021  06:17 PM    <DIR>          18.4.Cufflinks\n",
      "05/16/2021  03:05 PM    <DIR>          19.1.SqLite\n",
      "10/30/2021  10:10 PM    <DIR>          19.2.MySQL\n",
      "05/17/2021  04:55 PM         7,290,387 19.2.MySQL.7z\n",
      "02/13/2022  10:03 AM    <DIR>          19.3 MongoDB\n",
      "05/17/2021  04:55 PM         4,407,102 19.3 MongoDB.7z\n",
      "02/25/2022  05:12 PM    <DIR>          19.4.Cassandra\n",
      "05/23/2021  12:43 PM         2,645,265 19.4.Cassandra.7z\n",
      "01/19/2022  05:01 PM    <DIR>          2.Installation\n",
      "05/09/2021  01:46 PM    <DIR>          20.Memory Management\n",
      "12/04/2021  08:02 PM    <DIR>          21.Flask\n",
      "04/11/2021  06:07 AM    <DIR>          22.Food App\n",
      "05/23/2021  02:39 PM    <DIR>          23. Django\n",
      "05/31/2021  01:59 PM           552,367 23. Django.7z\n",
      "05/29/2021  02:15 PM    <DIR>          24.Weather App\n",
      "04/11/2021  06:07 AM    <DIR>          25.MemesGenerator App\n",
      "04/11/2021  06:07 AM    <DIR>          26. Django-blog app\n",
      "01/19/2022  05:02 PM    <DIR>          3. Basic variables\n",
      "05/15/2022  02:54 PM    <DIR>          4.Control Flow\n",
      "12/05/2021  10:13 AM    <DIR>          4.Expressions Operators and Precedence\n",
      "05/15/2022  02:55 PM    <DIR>          6. Variable-containers\n",
      "06/18/2022  04:28 PM    <DIR>          7.Functions\n",
      "06/18/2022  04:27 PM    <DIR>          8.Iterators Generators\n",
      "06/18/2022  04:27 PM    <DIR>          9.File I-O\n",
      "08/07/2021  02:05 PM         1,087,591 Advanced-House-Price-Prediction--master.zip\n",
      "08/07/2021  12:07 PM    <DIR>          AutoViz_Library_Shivan\n",
      "08/07/2021  12:07 PM       100,703,673 AutoViz_Library_Shivan.zip\n",
      "08/06/2021  03:07 PM    <DIR>          Bokeh-20210806T093644Z-001\n",
      "08/06/2021  03:06 PM         2,450,577 Bokeh-20210806T093644Z-001.zip\n",
      "08/07/2021  12:02 PM    <DIR>          Dask (3)\n",
      "08/07/2021  12:01 PM        69,190,349 Dask (3).zip\n",
      "08/07/2021  12:06 PM         9,522,530 Django (1).docx\n",
      "08/07/2021  02:34 PM            74,585 Feature Engineering Part 1.ipynb\n",
      "08/07/2021  02:05 PM    <DIR>          FIFA (1)\n",
      "08/07/2021  02:05 PM         6,329,167 FIFA (1).zip\n",
      "08/07/2021  02:05 PM    <DIR>          FitBit (3)\n",
      "08/07/2021  02:05 PM         1,806,804 FitBit (3).zip\n",
      "05/23/2021  06:22 PM    <DIR>          flask_demo\n",
      "08/07/2021  02:05 PM    <DIR>          Flight_Price\n",
      "08/07/2021  02:05 PM         1,344,407 Flight_Price.zip\n",
      "08/07/2021  02:05 PM    <DIR>          HRPrediction\n",
      "08/07/2021  02:05 PM           893,881 HRPrediction.zip\n",
      "02/13/2022  12:29 PM            57,353 mongodb class 1.ipynb\n",
      "10/03/2021  10:12 PM            34,678 python exception handling .ipynb\n",
      "08/18/2020  03:50 AM             6,095 Python Table of Content.xlsx\n",
      "07/08/2021  01:53 PM    <DIR>          QnA\n",
      "08/05/2021  06:16 PM       905,035,408 Streamlit-20210805T124211Z-001.zip\n",
      "06/18/2022  04:40 PM                36 sudh1.txt\n",
      "10/03/2021  08:39 PM                22 test.txt\n",
      "02/25/2022  05:31 PM           409,188 Tkinter.ipynb\n",
      "06/18/2022  04:41 PM       182,424,436 Untitled.ipynb\n",
      "08/07/2021  04:40 PM    <DIR>          zomato (4)\n",
      "08/07/2021  02:05 PM           517,670 zomato (4).zip\n",
      "              24 File(s)  1,298,243,968 bytes\n",
      "              47 Dir(s)  500,917,731,328 bytes free\n"
     ]
    }
   ],
   "source": [
    "ls"
   ]
  },
  {
   "cell_type": "code",
   "execution_count": 19,
   "id": "5d8c4c99",
   "metadata": {},
   "outputs": [],
   "source": [
    "f1 = open(\"test1.txt\" , \"w\")"
   ]
  },
  {
   "cell_type": "code",
   "execution_count": 20,
   "id": "3d67e88f",
   "metadata": {},
   "outputs": [
    {
     "data": {
      "text/plain": [
       "60"
      ]
     },
     "execution_count": 20,
     "metadata": {},
     "output_type": "execute_result"
    }
   ],
   "source": [
    "f1.write(\"this is a file operatio  i am trying to do in my fsds class \")"
   ]
  },
  {
   "cell_type": "code",
   "execution_count": 21,
   "id": "f87d945f",
   "metadata": {},
   "outputs": [],
   "source": [
    "f1.close()"
   ]
  },
  {
   "cell_type": "code",
   "execution_count": 22,
   "id": "eeb5918d",
   "metadata": {},
   "outputs": [],
   "source": [
    "l = [1,2,3,4,6,5,6,7,67,6]"
   ]
  },
  {
   "cell_type": "code",
   "execution_count": 23,
   "id": "82a4aa36",
   "metadata": {},
   "outputs": [],
   "source": [
    "f2  = open(\"test2.txt\" , 'w')"
   ]
  },
  {
   "cell_type": "code",
   "execution_count": 25,
   "id": "3939fd91",
   "metadata": {},
   "outputs": [
    {
     "data": {
      "text/plain": [
       "31"
      ]
     },
     "execution_count": 25,
     "metadata": {},
     "output_type": "execute_result"
    }
   ],
   "source": [
    "f2.write(str(l))"
   ]
  },
  {
   "cell_type": "code",
   "execution_count": 26,
   "id": "8992192a",
   "metadata": {},
   "outputs": [],
   "source": [
    "f2.close()"
   ]
  },
  {
   "cell_type": "code",
   "execution_count": 27,
   "id": "90adf3ce",
   "metadata": {},
   "outputs": [],
   "source": [
    "f3 = open(\"test.sudh\" , 'w')\n",
    "f3.write(\"fsdfasf adsfas fdas afas fasd \")\n",
    "f3.close()"
   ]
  },
  {
   "cell_type": "code",
   "execution_count": 32,
   "id": "4e10fb2c",
   "metadata": {},
   "outputs": [
    {
     "name": "stdout",
     "output_type": "stream",
     "text": [
      "Overwriting test5.txt\n"
     ]
    }
   ],
   "source": [
    "%%writefile test5.txt\n",
    "this is my python program to write into a file in different way \n",
    "this is my python program to write into a file in different way \n",
    "this is my python program to write into a file in different way \n",
    "this is my python program to write into a file in different way \n",
    "this is my python program to write into a file in different way \n",
    "this is my python program to write into a file in different way \n",
    "this is my python program to write into a file in different way \n",
    "this is my python program to write into a file in different way "
   ]
  },
  {
   "cell_type": "code",
   "execution_count": 33,
   "id": "13dac11d",
   "metadata": {},
   "outputs": [],
   "source": [
    "f = open('test5.txt')"
   ]
  },
  {
   "cell_type": "code",
   "execution_count": 34,
   "id": "04ad7711",
   "metadata": {},
   "outputs": [
    {
     "data": {
      "text/plain": [
       "'this is my python program to write into a file in different way \\nthis is my python program to write into a file in different way \\nthis is my python program to write into a file in different way \\nthis is my python program to write into a file in different way \\nthis is my python program to write into a file in different way \\nthis is my python program to write into a file in different way \\nthis is my python program to write into a file in different way \\nthis is my python program to write into a file in different way \\n'"
      ]
     },
     "execution_count": 34,
     "metadata": {},
     "output_type": "execute_result"
    }
   ],
   "source": [
    "f.read()"
   ]
  },
  {
   "cell_type": "code",
   "execution_count": 35,
   "id": "1ed0864f",
   "metadata": {},
   "outputs": [
    {
     "data": {
      "text/plain": [
       "''"
      ]
     },
     "execution_count": 35,
     "metadata": {},
     "output_type": "execute_result"
    }
   ],
   "source": [
    "f.read()"
   ]
  },
  {
   "cell_type": "code",
   "execution_count": 36,
   "id": "1c7fc9c3",
   "metadata": {},
   "outputs": [
    {
     "data": {
      "text/plain": [
       "''"
      ]
     },
     "execution_count": 36,
     "metadata": {},
     "output_type": "execute_result"
    }
   ],
   "source": [
    "f.read()"
   ]
  },
  {
   "cell_type": "code",
   "execution_count": 37,
   "id": "55bb6c4b",
   "metadata": {},
   "outputs": [
    {
     "data": {
      "text/plain": [
       "0"
      ]
     },
     "execution_count": 37,
     "metadata": {},
     "output_type": "execute_result"
    }
   ],
   "source": [
    "f.seek(0)"
   ]
  },
  {
   "cell_type": "code",
   "execution_count": 38,
   "id": "36051718",
   "metadata": {},
   "outputs": [
    {
     "data": {
      "text/plain": [
       "'this is my python program to write into a file in different way \\nthis is my python program to write into a file in different way \\nthis is my python program to write into a file in different way \\nthis is my python program to write into a file in different way \\nthis is my python program to write into a file in different way \\nthis is my python program to write into a file in different way \\nthis is my python program to write into a file in different way \\nthis is my python program to write into a file in different way \\n'"
      ]
     },
     "execution_count": 38,
     "metadata": {},
     "output_type": "execute_result"
    }
   ],
   "source": [
    "f.read()"
   ]
  },
  {
   "cell_type": "code",
   "execution_count": 39,
   "id": "58b474f9",
   "metadata": {},
   "outputs": [
    {
     "data": {
      "text/plain": [
       "''"
      ]
     },
     "execution_count": 39,
     "metadata": {},
     "output_type": "execute_result"
    }
   ],
   "source": [
    "f.read()"
   ]
  },
  {
   "cell_type": "code",
   "execution_count": 40,
   "id": "9cac0dc2",
   "metadata": {},
   "outputs": [
    {
     "data": {
      "text/plain": [
       "0"
      ]
     },
     "execution_count": 40,
     "metadata": {},
     "output_type": "execute_result"
    }
   ],
   "source": [
    "f.seek(0)"
   ]
  },
  {
   "cell_type": "code",
   "execution_count": 41,
   "id": "2c14992d",
   "metadata": {},
   "outputs": [
    {
     "data": {
      "text/plain": [
       "'this is my python program to write into a file in different way \\nthis is my python program to write into a file in different way \\nthis is my python program to write into a file in different way \\nthis is my python program to write into a file in different way \\nthis is my python program to write into a file in different way \\nthis is my python program to write into a file in different way \\nthis is my python program to write into a file in different way \\nthis is my python program to write into a file in different way \\n'"
      ]
     },
     "execution_count": 41,
     "metadata": {},
     "output_type": "execute_result"
    }
   ],
   "source": [
    "f.read()"
   ]
  },
  {
   "cell_type": "code",
   "execution_count": 42,
   "id": "8b12f6ae",
   "metadata": {},
   "outputs": [
    {
     "data": {
      "text/plain": [
       "4"
      ]
     },
     "execution_count": 42,
     "metadata": {},
     "output_type": "execute_result"
    }
   ],
   "source": [
    "f.seek(4)"
   ]
  },
  {
   "cell_type": "code",
   "execution_count": 43,
   "id": "a6ea38ea",
   "metadata": {},
   "outputs": [
    {
     "data": {
      "text/plain": [
       "' is my python program to write into a file in different way \\nthis is my python program to write into a file in different way \\nthis is my python program to write into a file in different way \\nthis is my python program to write into a file in different way \\nthis is my python program to write into a file in different way \\nthis is my python program to write into a file in different way \\nthis is my python program to write into a file in different way \\nthis is my python program to write into a file in different way \\n'"
      ]
     },
     "execution_count": 43,
     "metadata": {},
     "output_type": "execute_result"
    }
   ],
   "source": [
    " f.read()"
   ]
  },
  {
   "cell_type": "code",
   "execution_count": 44,
   "id": "c006131e",
   "metadata": {},
   "outputs": [
    {
     "data": {
      "text/plain": [
       "50"
      ]
     },
     "execution_count": 44,
     "metadata": {},
     "output_type": "execute_result"
    }
   ],
   "source": [
    "f.seek(50)"
   ]
  },
  {
   "cell_type": "code",
   "execution_count": 45,
   "id": "dcee796c",
   "metadata": {},
   "outputs": [
    {
     "data": {
      "text/plain": [
       "'different way \\nthis is my python program to write into a file in different way \\nthis is my python program to write into a file in different way \\nthis is my python program to write into a file in different way \\nthis is my python program to write into a file in different way \\nthis is my python program to write into a file in different way \\nthis is my python program to write into a file in different way \\nthis is my python program to write into a file in different way \\n'"
      ]
     },
     "execution_count": 45,
     "metadata": {},
     "output_type": "execute_result"
    }
   ],
   "source": [
    "f.read()"
   ]
  },
  {
   "cell_type": "code",
   "execution_count": 46,
   "id": "62667830",
   "metadata": {},
   "outputs": [],
   "source": [
    "f1 = open('test5.txt')"
   ]
  },
  {
   "cell_type": "code",
   "execution_count": 47,
   "id": "214531de",
   "metadata": {},
   "outputs": [
    {
     "data": {
      "text/plain": [
       "0"
      ]
     },
     "execution_count": 47,
     "metadata": {},
     "output_type": "execute_result"
    }
   ],
   "source": [
    "f1.tell()"
   ]
  },
  {
   "cell_type": "code",
   "execution_count": 48,
   "id": "151e74c2",
   "metadata": {},
   "outputs": [
    {
     "data": {
      "text/plain": [
       "'this is my python program to write into a file in different way \\nthis is my python program to write into a file in different way \\nthis is my python program to write into a file in different way \\nthis is my python program to write into a file in different way \\nthis is my python program to write into a file in different way \\nthis is my python program to write into a file in different way \\nthis is my python program to write into a file in different way \\nthis is my python program to write into a file in different way \\n'"
      ]
     },
     "execution_count": 48,
     "metadata": {},
     "output_type": "execute_result"
    }
   ],
   "source": [
    "f1.read()"
   ]
  },
  {
   "cell_type": "code",
   "execution_count": 49,
   "id": "2cb66130",
   "metadata": {},
   "outputs": [
    {
     "data": {
      "text/plain": [
       "528"
      ]
     },
     "execution_count": 49,
     "metadata": {},
     "output_type": "execute_result"
    }
   ],
   "source": [
    "f1.tell()"
   ]
  },
  {
   "cell_type": "code",
   "execution_count": 50,
   "id": "39fa8609",
   "metadata": {},
   "outputs": [
    {
     "data": {
      "text/plain": [
       "5"
      ]
     },
     "execution_count": 50,
     "metadata": {},
     "output_type": "execute_result"
    }
   ],
   "source": [
    "f1.seek(5)"
   ]
  },
  {
   "cell_type": "code",
   "execution_count": 52,
   "id": "ceea7387",
   "metadata": {},
   "outputs": [
    {
     "data": {
      "text/plain": [
       "5"
      ]
     },
     "execution_count": 52,
     "metadata": {},
     "output_type": "execute_result"
    }
   ],
   "source": [
    "f1.tell()"
   ]
  },
  {
   "cell_type": "code",
   "execution_count": 53,
   "id": "acc44c48",
   "metadata": {},
   "outputs": [
    {
     "data": {
      "text/plain": [
       "''"
      ]
     },
     "execution_count": 53,
     "metadata": {},
     "output_type": "execute_result"
    }
   ],
   "source": [
    "f.read()"
   ]
  },
  {
   "cell_type": "code",
   "execution_count": 54,
   "id": "5b37d30e",
   "metadata": {},
   "outputs": [
    {
     "data": {
      "text/plain": [
       "0"
      ]
     },
     "execution_count": 54,
     "metadata": {},
     "output_type": "execute_result"
    }
   ],
   "source": [
    "f.seek(0)"
   ]
  },
  {
   "cell_type": "code",
   "execution_count": 55,
   "id": "4d148947",
   "metadata": {},
   "outputs": [
    {
     "data": {
      "text/plain": [
       "5"
      ]
     },
     "execution_count": 55,
     "metadata": {},
     "output_type": "execute_result"
    }
   ],
   "source": [
    "f1.tell()"
   ]
  },
  {
   "cell_type": "code",
   "execution_count": 56,
   "id": "34c967c0",
   "metadata": {},
   "outputs": [
    {
     "data": {
      "text/plain": [
       "'is my python pr'"
      ]
     },
     "execution_count": 56,
     "metadata": {},
     "output_type": "execute_result"
    }
   ],
   "source": [
    "f1.read(15)"
   ]
  },
  {
   "cell_type": "code",
   "execution_count": 57,
   "id": "b948dc09",
   "metadata": {},
   "outputs": [],
   "source": [
    "f2 = open('test5.txt')"
   ]
  },
  {
   "cell_type": "code",
   "execution_count": 58,
   "id": "28f52db1",
   "metadata": {},
   "outputs": [
    {
     "data": {
      "text/plain": [
       "'this is my python program to write into a file in different way \\nthis is my python program to write into a file in different way \\nthis is my python program to write into a file in different way \\nthis is my python program to write into a file in different way \\nthis is my python program to write into a file in different way \\nthis is my python program to write into a file in different way \\nthis is my python program to write into a file in different way \\nthis is my python program to write into a file in different way \\n'"
      ]
     },
     "execution_count": 58,
     "metadata": {},
     "output_type": "execute_result"
    }
   ],
   "source": [
    "f2.read()"
   ]
  },
  {
   "cell_type": "code",
   "execution_count": 59,
   "id": "2f040cd8",
   "metadata": {},
   "outputs": [
    {
     "data": {
      "text/plain": [
       "0"
      ]
     },
     "execution_count": 59,
     "metadata": {},
     "output_type": "execute_result"
    }
   ],
   "source": [
    "f2.seek(0)"
   ]
  },
  {
   "cell_type": "code",
   "execution_count": 60,
   "id": "bc230485",
   "metadata": {},
   "outputs": [
    {
     "data": {
      "text/plain": [
       "'this is my python program to write into a file in different way \\n'"
      ]
     },
     "execution_count": 60,
     "metadata": {},
     "output_type": "execute_result"
    }
   ],
   "source": [
    "f2.readline()"
   ]
  },
  {
   "cell_type": "code",
   "execution_count": 61,
   "id": "36a30018",
   "metadata": {},
   "outputs": [
    {
     "data": {
      "text/plain": [
       "['this is my python program to write into a file in different way \\n',\n",
       " 'this is my python program to write into a file in different way \\n',\n",
       " 'this is my python program to write into a file in different way \\n',\n",
       " 'this is my python program to write into a file in different way \\n',\n",
       " 'this is my python program to write into a file in different way \\n',\n",
       " 'this is my python program to write into a file in different way \\n',\n",
       " 'this is my python program to write into a file in different way \\n']"
      ]
     },
     "execution_count": 61,
     "metadata": {},
     "output_type": "execute_result"
    }
   ],
   "source": [
    "f2.readlines()"
   ]
  },
  {
   "cell_type": "code",
   "execution_count": 62,
   "id": "5b709a26",
   "metadata": {},
   "outputs": [
    {
     "data": {
      "text/plain": [
       "<_io.TextIOWrapper name='test5.txt' mode='r' encoding='cp1252'>"
      ]
     },
     "execution_count": 62,
     "metadata": {},
     "output_type": "execute_result"
    }
   ],
   "source": [
    "f2"
   ]
  },
  {
   "cell_type": "code",
   "execution_count": 63,
   "id": "34fb8dce",
   "metadata": {},
   "outputs": [
    {
     "data": {
      "text/plain": [
       "6"
      ]
     },
     "execution_count": 63,
     "metadata": {},
     "output_type": "execute_result"
    }
   ],
   "source": [
    "f2.fileno()"
   ]
  },
  {
   "cell_type": "code",
   "execution_count": 70,
   "id": "81bcaad3",
   "metadata": {},
   "outputs": [],
   "source": [
    "f= open(\"test.txt\" , 'w')"
   ]
  },
  {
   "cell_type": "code",
   "execution_count": 68,
   "id": "30d717d0",
   "metadata": {},
   "outputs": [
    {
     "data": {
      "text/plain": [
       "67"
      ]
     },
     "execution_count": 68,
     "metadata": {},
     "output_type": "execute_result"
    }
   ],
   "source": [
    "f.write(\"\"\"this is my python program to write into a file in different way \\n',\"\"\")"
   ]
  },
  {
   "cell_type": "code",
   "execution_count": 69,
   "id": "0c692fef",
   "metadata": {},
   "outputs": [],
   "source": [
    "f.close()"
   ]
  },
  {
   "cell_type": "code",
   "execution_count": 71,
   "id": "45bc2f7e",
   "metadata": {},
   "outputs": [
    {
     "data": {
      "text/plain": [
       "38"
      ]
     },
     "execution_count": 71,
     "metadata": {},
     "output_type": "execute_result"
    }
   ],
   "source": [
    "f.write(\"fdasfkasjkfl asklfkl kfa kkdfka fl af \")"
   ]
  },
  {
   "cell_type": "code",
   "execution_count": 72,
   "id": "fe93adf6",
   "metadata": {},
   "outputs": [],
   "source": [
    "f.close()"
   ]
  },
  {
   "cell_type": "code",
   "execution_count": 89,
   "id": "307523bb",
   "metadata": {},
   "outputs": [],
   "source": [
    "f = open('d:/test.txt' , 'w')"
   ]
  },
  {
   "cell_type": "code",
   "execution_count": 77,
   "id": "2ce7dd80",
   "metadata": {},
   "outputs": [
    {
     "data": {
      "text/plain": [
       "23"
      ]
     },
     "execution_count": 77,
     "metadata": {},
     "output_type": "execute_result"
    }
   ],
   "source": [
    "f.write(\"this is my new dataset \")"
   ]
  },
  {
   "cell_type": "code",
   "execution_count": 78,
   "id": "7f33ac4e",
   "metadata": {},
   "outputs": [],
   "source": [
    "f.close()a"
   ]
  },
  {
   "cell_type": "code",
   "execution_count": 80,
   "id": "369789eb",
   "metadata": {},
   "outputs": [
    {
     "data": {
      "text/plain": [
       "'test.txt'"
      ]
     },
     "execution_count": 80,
     "metadata": {},
     "output_type": "execute_result"
    }
   ],
   "source": [
    "f.name"
   ]
  },
  {
   "cell_type": "code",
   "execution_count": 81,
   "id": "069b3034",
   "metadata": {},
   "outputs": [
    {
     "data": {
      "text/plain": [
       "False"
      ]
     },
     "execution_count": 81,
     "metadata": {},
     "output_type": "execute_result"
    }
   ],
   "source": [
    "f.closed"
   ]
  },
  {
   "cell_type": "code",
   "execution_count": 82,
   "id": "822c5e5e",
   "metadata": {},
   "outputs": [
    {
     "data": {
      "text/plain": [
       "'a'"
      ]
     },
     "execution_count": 82,
     "metadata": {},
     "output_type": "execute_result"
    }
   ],
   "source": [
    "f.mode"
   ]
  },
  {
   "cell_type": "code",
   "execution_count": 83,
   "id": "0d4090d6",
   "metadata": {},
   "outputs": [
    {
     "data": {
      "text/plain": [
       "15"
      ]
     },
     "execution_count": 83,
     "metadata": {},
     "output_type": "execute_result"
    }
   ],
   "source": [
    "f.seek(15)"
   ]
  },
  {
   "cell_type": "code",
   "execution_count": 86,
   "id": "e19786fd",
   "metadata": {},
   "outputs": [
    {
     "data": {
      "text/plain": [
       "'fdasfkasjkfl asklfkl kfa kkdfka fl af fsadfsa asf asfas asf asfas as faf afasd fasdfas fasd fasdfasdf f fasasfd this is my new dataset '"
      ]
     },
     "execution_count": 86,
     "metadata": {},
     "output_type": "execute_result"
    }
   ],
   "source": [
    "f.read()"
   ]
  },
  {
   "cell_type": "code",
   "execution_count": null,
   "id": "28954218",
   "metadata": {},
   "outputs": [],
   "source": [
    "#map , reduce , filter "
   ]
  },
  {
   "cell_type": "code",
   "execution_count": 90,
   "id": "2a311a4c",
   "metadata": {},
   "outputs": [],
   "source": [
    "l = [2,3,4,5,5,6]\n",
    "l1  = []\n",
    "for i in l :\n",
    "    l1.append(i**2)"
   ]
  },
  {
   "cell_type": "code",
   "execution_count": 92,
   "id": "cbf826fe",
   "metadata": {},
   "outputs": [
    {
     "data": {
      "text/plain": [
       "[4, 9, 16, 25, 25, 36]"
      ]
     },
     "execution_count": 92,
     "metadata": {},
     "output_type": "execute_result"
    }
   ],
   "source": [
    "l1"
   ]
  },
  {
   "cell_type": "code",
   "execution_count": 93,
   "id": "f7021d7c",
   "metadata": {},
   "outputs": [],
   "source": [
    "def sq(n) : \n",
    "    return n**2"
   ]
  },
  {
   "cell_type": "code",
   "execution_count": null,
   "id": "131c89c9",
   "metadata": {},
   "outputs": [],
   "source": []
  },
  {
   "cell_type": "code",
   "execution_count": null,
   "id": "23f96925",
   "metadata": {},
   "outputs": [],
   "source": []
  },
  {
   "cell_type": "code",
   "execution_count": 95,
   "id": "e5cb8679",
   "metadata": {},
   "outputs": [
    {
     "data": {
      "text/plain": [
       "[4, 9, 16, 25, 25, 36]"
      ]
     },
     "execution_count": 95,
     "metadata": {},
     "output_type": "execute_result"
    }
   ],
   "source": [
    "list(map(sq ,l ))"
   ]
  },
  {
   "cell_type": "code",
   "execution_count": 97,
   "id": "0aa928d2",
   "metadata": {},
   "outputs": [
    {
     "data": {
      "text/plain": [
       "[4, 9, 16, 25, 25, 36]"
      ]
     },
     "execution_count": 97,
     "metadata": {},
     "output_type": "execute_result"
    }
   ],
   "source": [
    "list(map(lambda x : x**2 ,l ))"
   ]
  },
  {
   "cell_type": "code",
   "execution_count": 98,
   "id": "9acec974",
   "metadata": {},
   "outputs": [
    {
     "data": {
      "text/plain": [
       "[2, 3, 4, 5, 5, 6]"
      ]
     },
     "execution_count": 98,
     "metadata": {},
     "output_type": "execute_result"
    }
   ],
   "source": [
    "l"
   ]
  },
  {
   "cell_type": "code",
   "execution_count": 100,
   "id": "5432a7b8",
   "metadata": {},
   "outputs": [
    {
     "data": {
      "text/plain": [
       "['2', '3', '4', '5', '5', '6']"
      ]
     },
     "execution_count": 100,
     "metadata": {},
     "output_type": "execute_result"
    }
   ],
   "source": [
    "list(map(lambda x : str(x) , l))"
   ]
  },
  {
   "cell_type": "code",
   "execution_count": 101,
   "id": "8b689614",
   "metadata": {},
   "outputs": [],
   "source": [
    "def str_c(n) :\n",
    "    return str(n)"
   ]
  },
  {
   "cell_type": "code",
   "execution_count": 102,
   "id": "a6d9994a",
   "metadata": {},
   "outputs": [
    {
     "data": {
      "text/plain": [
       "['2', '3', '4', '5', '5', '6']"
      ]
     },
     "execution_count": 102,
     "metadata": {},
     "output_type": "execute_result"
    }
   ],
   "source": [
    "list(map(str_c , l))"
   ]
  },
  {
   "cell_type": "code",
   "execution_count": 103,
   "id": "3b36a494",
   "metadata": {},
   "outputs": [
    {
     "data": {
      "text/plain": [
       "['2', '3', '4', '5', '5', '6']"
      ]
     },
     "execution_count": 103,
     "metadata": {},
     "output_type": "execute_result"
    }
   ],
   "source": [
    "list(map(str , l))"
   ]
  },
  {
   "cell_type": "code",
   "execution_count": 104,
   "id": "5d69a016",
   "metadata": {},
   "outputs": [],
   "source": [
    "from functools import reduce"
   ]
  },
  {
   "cell_type": "code",
   "execution_count": 115,
   "id": "13992bfa",
   "metadata": {},
   "outputs": [],
   "source": [
    "l = [3]"
   ]
  },
  {
   "cell_type": "code",
   "execution_count": 116,
   "id": "cd1a28b9",
   "metadata": {},
   "outputs": [
    {
     "data": {
      "text/plain": [
       "3"
      ]
     },
     "execution_count": 116,
     "metadata": {},
     "output_type": "execute_result"
    }
   ],
   "source": [
    "sum(l)"
   ]
  },
  {
   "cell_type": "code",
   "execution_count": 117,
   "id": "b46469c7",
   "metadata": {},
   "outputs": [
    {
     "data": {
      "text/plain": [
       "3"
      ]
     },
     "execution_count": 117,
     "metadata": {},
     "output_type": "execute_result"
    }
   ],
   "source": [
    "reduce(lambda a , b   : a*b , l)"
   ]
  },
  {
   "cell_type": "code",
   "execution_count": 118,
   "id": "b89aac8e",
   "metadata": {},
   "outputs": [],
   "source": [
    "l = [1,2,3,4,45,5]"
   ]
  },
  {
   "cell_type": "code",
   "execution_count": 121,
   "id": "5a11f662",
   "metadata": {},
   "outputs": [
    {
     "data": {
      "text/plain": [
       "[2, 4]"
      ]
     },
     "execution_count": 121,
     "metadata": {},
     "output_type": "execute_result"
    }
   ],
   "source": [
    "list(filter(lambda x : x%2==0 , l))"
   ]
  },
  {
   "cell_type": "code",
   "execution_count": 122,
   "id": "6c4c5333",
   "metadata": {},
   "outputs": [],
   "source": [
    "def check_even(n) : \n",
    "    if n%2 == 0 :\n",
    "            return True "
   ]
  },
  {
   "cell_type": "code",
   "execution_count": 123,
   "id": "f54b05d0",
   "metadata": {},
   "outputs": [
    {
     "data": {
      "text/plain": [
       "[2, 4]"
      ]
     },
     "execution_count": 123,
     "metadata": {},
     "output_type": "execute_result"
    }
   ],
   "source": [
    "list(filter(check_even , l))"
   ]
  },
  {
   "cell_type": "code",
   "execution_count": null,
   "id": "ea82c6f9",
   "metadata": {},
   "outputs": [],
   "source": []
  }
 ],
 "metadata": {
  "kernelspec": {
   "display_name": "Python 3 (ipykernel)",
   "language": "python",
   "name": "python3"
  },
  "language_info": {
   "codemirror_mode": {
    "name": "ipython",
    "version": 3
   },
   "file_extension": ".py",
   "mimetype": "text/x-python",
   "name": "python",
   "nbconvert_exporter": "python",
   "pygments_lexer": "ipython3",
   "version": "3.9.7"
  }
 },
 "nbformat": 4,
 "nbformat_minor": 5
}
