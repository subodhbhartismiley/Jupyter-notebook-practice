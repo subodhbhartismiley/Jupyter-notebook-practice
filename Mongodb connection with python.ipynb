{
 "cells": [
  {
   "cell_type": "code",
   "execution_count": 2,
   "id": "349a3b15",
   "metadata": {},
   "outputs": [],
   "source": [
    "from pymongo import MongoClient"
   ]
  },
  {
   "cell_type": "code",
   "execution_count": 50,
   "id": "55b72fd7",
   "metadata": {},
   "outputs": [
    {
     "name": "stdout",
     "output_type": "stream",
     "text": [
      "Requirement already satisfied: pymongo in c:\\users\\sub13\\anaconda3\\lib\\site-packages (4.2.0)\n",
      "Note: you may need to restart the kernel to use updated packages.\n"
     ]
    }
   ],
   "source": [
    "pip install pymongo"
   ]
  },
  {
   "cell_type": "code",
   "execution_count": 3,
   "id": "b070f4c1",
   "metadata": {},
   "outputs": [],
   "source": [
    "from pymongo import MongoClient\n",
    "client = MongoClient()"
   ]
  },
  {
   "cell_type": "code",
   "execution_count": 4,
   "id": "b9346771",
   "metadata": {},
   "outputs": [],
   "source": [
    "client = MongoClient('localhost', 27017)\n",
    "#example:- client = MongoClient(‘localhost’, 27017)"
   ]
  },
  {
   "cell_type": "code",
   "execution_count": 44,
   "id": "9fa6400e",
   "metadata": {},
   "outputs": [],
   "source": [
    "mydatabase = client['name_of_the_database']"
   ]
  },
  {
   "cell_type": "code",
   "execution_count": 5,
   "id": "0eb7c570",
   "metadata": {},
   "outputs": [],
   "source": [
    "mydatabase = client['student1']"
   ]
  },
  {
   "cell_type": "code",
   "execution_count": 35,
   "id": "1e8ddce9",
   "metadata": {},
   "outputs": [],
   "source": [
    "# or mydatabase = client.name_of_the_database"
   ]
  },
  {
   "cell_type": "code",
   "execution_count": 6,
   "id": "e41f81d7",
   "metadata": {},
   "outputs": [],
   "source": [
    "mycollection = mydatabase['student1_table']"
   ]
  },
  {
   "cell_type": "code",
   "execution_count": 7,
   "id": "d0f38ee3",
   "metadata": {},
   "outputs": [],
   "source": [
    "record = {\n",
    "'title': 'MongoDB and Python',\n",
    "'description': 'MongoDB is no SQL database',\n",
    "'tags': ['mongodb', 'database', 'NoSQL'],\n",
    "'viewers': 104\n",
    "} "
   ]
  },
  {
   "cell_type": "code",
   "execution_count": 47,
   "id": "051fd99c",
   "metadata": {},
   "outputs": [],
   "source": [
    "# insert_one() or insert_many()"
   ]
  },
  {
   "cell_type": "code",
   "execution_count": 8,
   "id": "eac64aac",
   "metadata": {},
   "outputs": [
    {
     "data": {
      "text/plain": [
       "<pymongo.results.InsertOneResult at 0x1ce168528b0>"
      ]
     },
     "execution_count": 8,
     "metadata": {},
     "output_type": "execute_result"
    }
   ],
   "source": [
    "mycollection.insert_one(record)"
   ]
  },
  {
   "cell_type": "code",
   "execution_count": null,
   "id": "2de65a39",
   "metadata": {},
   "outputs": [],
   "source": [
    "#rec = mydatabase.myTable1.insert(record)"
   ]
  },
  {
   "cell_type": "code",
   "execution_count": null,
   "id": "b65c1a8d",
   "metadata": {},
   "outputs": [],
   "source": [
    "#rec = myTable1.insert_one(record)"
   ]
  },
  {
   "cell_type": "code",
   "execution_count": 49,
   "id": "0315f1b9",
   "metadata": {},
   "outputs": [
    {
     "name": "stdout",
     "output_type": "stream",
     "text": [
      "The data having Quantity greater than 40 is:\n",
      "{'_id': ObjectId('633c74a9b51cb242d6a78631'), 'title': 'MongoDB and Python', 'description': 'MongoDB is no SQL database', 'tags': ['mongodb', 'database', 'NoSQL'], 'viewers': 104}\n",
      "{'_id': ObjectId('633c770bb51cb242d6a78632'), 'title': 'MongoDB and Python', 'description': 'MongoDB is no SQL database', 'tags': ['mongodb', 'database', 'NoSQL'], 'viewers': 104}\n"
     ]
    }
   ],
   "source": [
    "# Filtering the data using query.\n",
    "cursor = mycollection.find({\"title\":'MongoDB and Python'})\n",
    " \n",
    "# Printing the filtered data.\n",
    "print(\"The data having Quantity greater than 40 is:\")\n",
    "for record in cursor:\n",
    "    print(record)\n",
    "     "
   ]
  },
  {
   "cell_type": "code",
   "execution_count": null,
   "id": "27d80217",
   "metadata": {},
   "outputs": [],
   "source": []
  },
  {
   "cell_type": "code",
   "execution_count": null,
   "id": "eb711fe0",
   "metadata": {},
   "outputs": [],
   "source": []
  },
  {
   "cell_type": "code",
   "execution_count": null,
   "id": "9c3091a0",
   "metadata": {},
   "outputs": [],
   "source": []
  }
 ],
 "metadata": {
  "kernelspec": {
   "display_name": "Python 3 (ipykernel)",
   "language": "python",
   "name": "python3"
  },
  "language_info": {
   "codemirror_mode": {
    "name": "ipython",
    "version": 3
   },
   "file_extension": ".py",
   "mimetype": "text/x-python",
   "name": "python",
   "nbconvert_exporter": "python",
   "pygments_lexer": "ipython3",
   "version": "3.9.12"
  }
 },
 "nbformat": 4,
 "nbformat_minor": 5
}
