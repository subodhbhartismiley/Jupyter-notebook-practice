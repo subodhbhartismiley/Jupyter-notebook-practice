{
 "cells": [
  {
   "cell_type": "code",
   "execution_count": 1,
   "id": "8c4ac194",
   "metadata": {},
   "outputs": [],
   "source": [
    "def test(a , b) :\n",
    "    \"\"\"this is my function for concatination or addition \"\"\"\n",
    "    return a + b\n",
    "    "
   ]
  },
  {
   "cell_type": "code",
   "execution_count": 2,
   "id": "57c9e144",
   "metadata": {},
   "outputs": [
    {
     "data": {
      "text/plain": [
       "10"
      ]
     },
     "execution_count": 2,
     "metadata": {},
     "output_type": "execute_result"
    }
   ],
   "source": [
    "test(4,6)"
   ]
  },
  {
   "cell_type": "code",
   "execution_count": 3,
   "id": "4a8f16e3",
   "metadata": {},
   "outputs": [
    {
     "data": {
      "text/plain": [
       "'sudhkumar'"
      ]
     },
     "execution_count": 3,
     "metadata": {},
     "output_type": "execute_result"
    }
   ],
   "source": [
    "test(\"sudh\" , \"kumar\")"
   ]
  },
  {
   "cell_type": "code",
   "execution_count": 4,
   "id": "b2c7ba78",
   "metadata": {},
   "outputs": [
    {
     "data": {
      "text/plain": [
       "15"
      ]
     },
     "execution_count": 4,
     "metadata": {},
     "output_type": "execute_result"
    }
   ],
   "source": [
    "test(a = 9  , b = 6 )"
   ]
  },
  {
   "cell_type": "code",
   "execution_count": 5,
   "id": "8dfdf9f5",
   "metadata": {},
   "outputs": [
    {
     "data": {
      "text/plain": [
       "48"
      ]
     },
     "execution_count": 5,
     "metadata": {},
     "output_type": "execute_result"
    }
   ],
   "source": [
    "test(b = 45 , a = 3)"
   ]
  },
  {
   "cell_type": "code",
   "execution_count": 6,
   "id": "efdfc7a0",
   "metadata": {},
   "outputs": [
    {
     "name": "stdout",
     "output_type": "stream",
     "text": [
      "\n"
     ]
    }
   ],
   "source": [
    "print()"
   ]
  },
  {
   "cell_type": "code",
   "execution_count": 7,
   "id": "dd9fd2e6",
   "metadata": {},
   "outputs": [],
   "source": [
    "def test1(a,b,c,d,e) :\n",
    "    return a ,b ,c,d,e\n",
    "    "
   ]
  },
  {
   "cell_type": "code",
   "execution_count": 8,
   "id": "21deeecc",
   "metadata": {},
   "outputs": [
    {
     "data": {
      "text/plain": [
       "(3, 4, 5, 6, 6)"
      ]
     },
     "execution_count": 8,
     "metadata": {},
     "output_type": "execute_result"
    }
   ],
   "source": [
    "test1(3,4,5,6,6)"
   ]
  },
  {
   "cell_type": "code",
   "execution_count": 9,
   "id": "db3aaa1e",
   "metadata": {},
   "outputs": [
    {
     "ename": "TypeError",
     "evalue": "test1() missing 1 required positional argument: 'e'",
     "output_type": "error",
     "traceback": [
      "\u001b[1;31m---------------------------------------------------------------------------\u001b[0m",
      "\u001b[1;31mTypeError\u001b[0m                                 Traceback (most recent call last)",
      "Input \u001b[1;32mIn [9]\u001b[0m, in \u001b[0;36m<cell line: 1>\u001b[1;34m()\u001b[0m\n\u001b[1;32m----> 1\u001b[0m \u001b[43mtest1\u001b[49m\u001b[43m(\u001b[49m\u001b[38;5;241;43m3\u001b[39;49m\u001b[43m,\u001b[49m\u001b[38;5;241;43m4\u001b[39;49m\u001b[43m,\u001b[49m\u001b[38;5;241;43m5\u001b[39;49m\u001b[43m,\u001b[49m\u001b[38;5;241;43m6\u001b[39;49m\u001b[43m)\u001b[49m\n",
      "\u001b[1;31mTypeError\u001b[0m: test1() missing 1 required positional argument: 'e'"
     ]
    }
   ],
   "source": [
    "test1(3,4,5,6)"
   ]
  },
  {
   "cell_type": "code",
   "execution_count": 10,
   "id": "e4bbced7",
   "metadata": {},
   "outputs": [],
   "source": [
    "def test(*a):\n",
    "    return a"
   ]
  },
  {
   "cell_type": "code",
   "execution_count": 20,
   "id": "1c32c74c",
   "metadata": {},
   "outputs": [
    {
     "data": {
      "text/plain": [
       "(34,)"
      ]
     },
     "execution_count": 20,
     "metadata": {},
     "output_type": "execute_result"
    }
   ],
   "source": [
    "test(34)"
   ]
  },
  {
   "cell_type": "code",
   "execution_count": 21,
   "id": "a1622430",
   "metadata": {},
   "outputs": [
    {
     "data": {
      "text/plain": [
       "(2, 3, 4, 4)"
      ]
     },
     "execution_count": 21,
     "metadata": {},
     "output_type": "execute_result"
    }
   ],
   "source": [
    "test(2,3,4,4)"
   ]
  },
  {
   "cell_type": "code",
   "execution_count": 22,
   "id": "cb36ee2e",
   "metadata": {},
   "outputs": [
    {
     "data": {
      "text/plain": [
       "(4, 5, 6, 6, 6, [3, 4, 5, 5, 5, 6])"
      ]
     },
     "execution_count": 22,
     "metadata": {},
     "output_type": "execute_result"
    }
   ],
   "source": [
    "test(4,5,6,6,6,[3,4,5,5,5,6])"
   ]
  },
  {
   "cell_type": "code",
   "execution_count": 23,
   "id": "035bb9ff",
   "metadata": {},
   "outputs": [],
   "source": [
    "def test4(*args):\n",
    "    return args"
   ]
  },
  {
   "cell_type": "code",
   "execution_count": 24,
   "id": "15c5b0af",
   "metadata": {},
   "outputs": [
    {
     "data": {
      "text/plain": [
       "(34, 56, 6, 76, 7)"
      ]
     },
     "execution_count": 24,
     "metadata": {},
     "output_type": "execute_result"
    }
   ],
   "source": [
    "test4(34,56,6,76,7)"
   ]
  },
  {
   "cell_type": "code",
   "execution_count": 25,
   "id": "35ff9563",
   "metadata": {},
   "outputs": [],
   "source": [
    "def test5(*a) :\n",
    "    l = []\n",
    "    for i in a :\n",
    "        l.append(i)\n",
    "    return l"
   ]
  },
  {
   "cell_type": "code",
   "execution_count": 26,
   "id": "5cb6b9a9",
   "metadata": {},
   "outputs": [
    {
     "data": {
      "text/plain": [
       "[2, 3, 4, 45, 5, [345, 56, 5, 6]]"
      ]
     },
     "execution_count": 26,
     "metadata": {},
     "output_type": "execute_result"
    }
   ],
   "source": [
    "test5(2,3,4,45,5,[345,56,5,6])"
   ]
  },
  {
   "cell_type": "code",
   "execution_count": 27,
   "id": "a7d303e8",
   "metadata": {},
   "outputs": [
    {
     "data": {
      "text/plain": [
       "[3, 4, 5, 56]"
      ]
     },
     "execution_count": 27,
     "metadata": {},
     "output_type": "execute_result"
    }
   ],
   "source": [
    "test5(3,4,5,56)"
   ]
  },
  {
   "cell_type": "code",
   "execution_count": 28,
   "id": "6506865d",
   "metadata": {},
   "outputs": [],
   "source": [
    "def test6(a,b,c,d , *m):\n",
    "    return a , b, c,d, m"
   ]
  },
  {
   "cell_type": "code",
   "execution_count": 29,
   "id": "9e46bda9",
   "metadata": {},
   "outputs": [
    {
     "data": {
      "text/plain": [
       "(3, 4, 5, 5, (6, 6, 7, 7, 8, 8))"
      ]
     },
     "execution_count": 29,
     "metadata": {},
     "output_type": "execute_result"
    }
   ],
   "source": [
    "test6(3,4,5,5,6,6,7,7,8,8)"
   ]
  },
  {
   "cell_type": "code",
   "execution_count": 30,
   "id": "dbcee1ef",
   "metadata": {},
   "outputs": [],
   "source": [
    "def test7(*m,a,b,c,d,e):\n",
    "    return m , a,b,c,d,e"
   ]
  },
  {
   "cell_type": "code",
   "execution_count": 31,
   "id": "48971316",
   "metadata": {},
   "outputs": [
    {
     "data": {
      "text/plain": [
       "((4, 5, 65, 6, 6, 7, 7, 56), 67, 34, 54, 67, 78)"
      ]
     },
     "execution_count": 31,
     "metadata": {},
     "output_type": "execute_result"
    }
   ],
   "source": [
    "test7(4,5,65,6,6,7,7,56,a = 67,b  = 34,c = 54,d= 67,e = 78)"
   ]
  },
  {
   "cell_type": "code",
   "execution_count": 47,
   "id": "93d66303",
   "metadata": {},
   "outputs": [],
   "source": [
    "def test8(**sudh):\n",
    "    return sudh"
   ]
  },
  {
   "cell_type": "code",
   "execution_count": 48,
   "id": "f81d76f0",
   "metadata": {},
   "outputs": [
    {
     "data": {
      "text/plain": [
       "{'b': 4, 'c': 5, 'd': 6, 'e': 6, 'n': [3, 4, 45, 5, 6, 6, 6]}"
      ]
     },
     "execution_count": 48,
     "metadata": {},
     "output_type": "execute_result"
    }
   ],
   "source": [
    "test8(b = 4,c = 5,d =  6,e = 6 , n = [3,4,45,5,6,6,6])"
   ]
  },
  {
   "cell_type": "code",
   "execution_count": 67,
   "id": "df0bb162",
   "metadata": {},
   "outputs": [],
   "source": [
    "def test11(*m):\n",
    "    n=1\n",
    "    for i in m:\n",
    "        if type(i)==int:\n",
    "            n=n*i\n",
    "        return n\n"
   ]
  },
  {
   "cell_type": "code",
   "execution_count": 70,
   "id": "3861be80",
   "metadata": {},
   "outputs": [
    {
     "data": {
      "text/plain": [
       "6"
      ]
     },
     "execution_count": 70,
     "metadata": {},
     "output_type": "execute_result"
    }
   ],
   "source": [
    "test11(6,2)\n"
   ]
  },
  {
   "cell_type": "code",
   "execution_count": null,
   "id": "27ecf375",
   "metadata": {},
   "outputs": [],
   "source": []
  },
  {
   "cell_type": "code",
   "execution_count": 71,
   "id": "8f4b1257",
   "metadata": {},
   "outputs": [],
   "source": [
    "d = {'b': 4, 'c': 5, 'd': 6, 'e': 6}"
   ]
  },
  {
   "cell_type": "code",
   "execution_count": 72,
   "id": "f70f758c",
   "metadata": {},
   "outputs": [
    {
     "ename": "TypeError",
     "evalue": "test8() takes 0 positional arguments but 1 was given",
     "output_type": "error",
     "traceback": [
      "\u001b[1;31m---------------------------------------------------------------------------\u001b[0m",
      "\u001b[1;31mTypeError\u001b[0m                                 Traceback (most recent call last)",
      "Input \u001b[1;32mIn [72]\u001b[0m, in \u001b[0;36m<cell line: 1>\u001b[1;34m()\u001b[0m\n\u001b[1;32m----> 1\u001b[0m \u001b[43mtest8\u001b[49m\u001b[43m(\u001b[49m\u001b[43md\u001b[49m\u001b[43m)\u001b[49m\n",
      "\u001b[1;31mTypeError\u001b[0m: test8() takes 0 positional arguments but 1 was given"
     ]
    }
   ],
   "source": [
    "test8(d)"
   ]
  },
  {
   "cell_type": "code",
   "execution_count": 73,
   "id": "144b1dcf",
   "metadata": {},
   "outputs": [],
   "source": [
    "def test9(*m , **s) :\n",
    "    return m , s"
   ]
  },
  {
   "cell_type": "code",
   "execution_count": 74,
   "id": "a4644925",
   "metadata": {},
   "outputs": [
    {
     "data": {
      "text/plain": [
       "((345, 45, 56, 5, 6, 56), {'b': 4, 'c': 6, 'd': 7, 'g': 9})"
      ]
     },
     "execution_count": 74,
     "metadata": {},
     "output_type": "execute_result"
    }
   ],
   "source": [
    "test9(345,45,56,5,6,56,b= 4,c= 6, d = 7 , g = 9)"
   ]
  },
  {
   "cell_type": "code",
   "execution_count": 77,
   "id": "7967d620",
   "metadata": {},
   "outputs": [],
   "source": [
    "def test10(*m):\n",
    "    n = 1\n",
    "    for i in m :\n",
    "        if type(i) == int :\n",
    "            n = n*i\n",
    "    return n\n",
    "            "
   ]
  },
  {
   "cell_type": "code",
   "execution_count": 78,
   "id": "3aa2bfb8",
   "metadata": {},
   "outputs": [
    {
     "data": {
      "text/plain": [
       "21600"
      ]
     },
     "execution_count": 78,
     "metadata": {},
     "output_type": "execute_result"
    }
   ],
   "source": [
    "test10(2,3,4,5,5,6,6)"
   ]
  },
  {
   "cell_type": "code",
   "execution_count": 79,
   "id": "5fdeb17d",
   "metadata": {},
   "outputs": [
    {
     "data": {
      "text/plain": [
       "24"
      ]
     },
     "execution_count": 79,
     "metadata": {},
     "output_type": "execute_result"
    }
   ],
   "source": [
    "test10(2,3,4)"
   ]
  },
  {
   "cell_type": "code",
   "execution_count": 80,
   "id": "633e2a4d",
   "metadata": {},
   "outputs": [],
   "source": [
    "def test1(*m):\n",
    "    n = 1\n",
    "    for i in m :\n",
    "        if type(i) == int :\n",
    "            n = n*i\n",
    "    return n\n",
    "            "
   ]
  },
  {
   "cell_type": "code",
   "execution_count": 81,
   "id": "9a7b3f3c",
   "metadata": {},
   "outputs": [
    {
     "data": {
      "text/plain": [
       "3507840"
      ]
     },
     "execution_count": 81,
     "metadata": {},
     "output_type": "execute_result"
    }
   ],
   "source": [
    "test1(4,5,6,6,7,87,8)"
   ]
  },
  {
   "cell_type": "code",
   "execution_count": 116,
   "id": "a240987d",
   "metadata": {},
   "outputs": [],
   "source": [
    "n = lambda : 2 + 3 "
   ]
  },
  {
   "cell_type": "code",
   "execution_count": 117,
   "id": "24747816",
   "metadata": {},
   "outputs": [
    {
     "data": {
      "text/plain": [
       "5"
      ]
     },
     "execution_count": 117,
     "metadata": {},
     "output_type": "execute_result"
    }
   ],
   "source": [
    "n()"
   ]
  },
  {
   "cell_type": "code",
   "execution_count": 120,
   "id": "314f8017",
   "metadata": {},
   "outputs": [],
   "source": [
    "n2 = lambda a: a + 3 "
   ]
  },
  {
   "cell_type": "code",
   "execution_count": 121,
   "id": "eec7dc19",
   "metadata": {},
   "outputs": [
    {
     "data": {
      "text/plain": [
       "5"
      ]
     },
     "execution_count": 121,
     "metadata": {},
     "output_type": "execute_result"
    }
   ],
   "source": [
    "n2(2)"
   ]
  },
  {
   "cell_type": "code",
   "execution_count": 122,
   "id": "6b83efec",
   "metadata": {},
   "outputs": [],
   "source": [
    "n1 = lambda a,b,c: a + b*c "
   ]
  },
  {
   "cell_type": "code",
   "execution_count": 123,
   "id": "d5784b0e",
   "metadata": {},
   "outputs": [
    {
     "data": {
      "text/plain": [
       "7"
      ]
     },
     "execution_count": 123,
     "metadata": {},
     "output_type": "execute_result"
    }
   ],
   "source": [
    "n1(1,2,3)"
   ]
  },
  {
   "cell_type": "code",
   "execution_count": 124,
   "id": "1a6f8606",
   "metadata": {},
   "outputs": [],
   "source": [
    "def test5(a,b):\n",
    "    return a + b "
   ]
  },
  {
   "cell_type": "code",
   "execution_count": 125,
   "id": "c438cd09",
   "metadata": {},
   "outputs": [
    {
     "data": {
      "text/plain": [
       "9"
      ]
     },
     "execution_count": 125,
     "metadata": {},
     "output_type": "execute_result"
    }
   ],
   "source": [
    "test5(4,5)"
   ]
  },
  {
   "cell_type": "code",
   "execution_count": 128,
   "id": "f1274c0b",
   "metadata": {},
   "outputs": [
    {
     "data": {
      "text/plain": [
       "17"
      ]
     },
     "execution_count": 128,
     "metadata": {},
     "output_type": "execute_result"
    }
   ],
   "source": [
    "n1(5,6,2)"
   ]
  },
  {
   "cell_type": "code",
   "execution_count": 129,
   "id": "a33a46c7",
   "metadata": {},
   "outputs": [],
   "source": [
    "b = lambda *sudh : sudh"
   ]
  },
  {
   "cell_type": "code",
   "execution_count": 130,
   "id": "8661cc0a",
   "metadata": {},
   "outputs": [
    {
     "data": {
      "text/plain": [
       "(45, 5, 4, 5, 5, 6, 677)"
      ]
     },
     "execution_count": 130,
     "metadata": {},
     "output_type": "execute_result"
    }
   ],
   "source": [
    "b(45,5,4,5,5,6,677)"
   ]
  },
  {
   "cell_type": "code",
   "execution_count": 132,
   "id": "c9cd5a0a",
   "metadata": {},
   "outputs": [],
   "source": [
    "t = (3,4,4,5,5,6,67,7,7)\n",
    "l = []\n",
    "for i in t :\n",
    "    l.append(i)"
   ]
  },
  {
   "cell_type": "code",
   "execution_count": 133,
   "id": "8f655ead",
   "metadata": {},
   "outputs": [
    {
     "data": {
      "text/plain": [
       "[3, 4, 4, 5, 5, 6, 67, 7, 7]"
      ]
     },
     "execution_count": 133,
     "metadata": {},
     "output_type": "execute_result"
    }
   ],
   "source": [
    "l"
   ]
  },
  {
   "cell_type": "code",
   "execution_count": 134,
   "id": "83753bad",
   "metadata": {},
   "outputs": [
    {
     "data": {
      "text/plain": [
       "[3, 4, 4, 5, 5, 6, 67, 7, 7]"
      ]
     },
     "execution_count": 134,
     "metadata": {},
     "output_type": "execute_result"
    }
   ],
   "source": [
    "[i for i in t]"
   ]
  },
  {
   "cell_type": "code",
   "execution_count": 135,
   "id": "ee397949",
   "metadata": {},
   "outputs": [],
   "source": [
    "s = \"sudh\""
   ]
  },
  {
   "cell_type": "code",
   "execution_count": 136,
   "id": "aa8d745b",
   "metadata": {},
   "outputs": [
    {
     "data": {
      "text/plain": [
       "['s', 'u', 'd', 'h']"
      ]
     },
     "execution_count": 136,
     "metadata": {},
     "output_type": "execute_result"
    }
   ],
   "source": [
    "[i for i in s ]"
   ]
  },
  {
   "cell_type": "code",
   "execution_count": 137,
   "id": "282fb8ab",
   "metadata": {},
   "outputs": [
    {
     "data": {
      "text/plain": [
       "[0, 1, 4, 9, 16, 25, 36, 49, 64, 81]"
      ]
     },
     "execution_count": 137,
     "metadata": {},
     "output_type": "execute_result"
    }
   ],
   "source": [
    "[i*i for i in range(10)]"
   ]
  },
  {
   "cell_type": "code",
   "execution_count": 144,
   "id": "a6312326",
   "metadata": {},
   "outputs": [],
   "source": [
    "l = []\n",
    "for i in range(10):\n",
    "    l.append(i*i)"
   ]
  },
  {
   "cell_type": "code",
   "execution_count": 145,
   "id": "9a63b637",
   "metadata": {},
   "outputs": [
    {
     "data": {
      "text/plain": [
       "[0, 1, 4, 9, 16, 25, 36, 49, 64, 81]"
      ]
     },
     "execution_count": 145,
     "metadata": {},
     "output_type": "execute_result"
    }
   ],
   "source": [
    "l\n"
   ]
  },
  {
   "cell_type": "code",
   "execution_count": 146,
   "id": "b72a64fa",
   "metadata": {},
   "outputs": [],
   "source": [
    "l1=[i*i for i in range(10)]"
   ]
  },
  {
   "cell_type": "code",
   "execution_count": 147,
   "id": "a4322e31",
   "metadata": {},
   "outputs": [
    {
     "data": {
      "text/plain": [
       "[0, 1, 4, 9, 16, 25, 36, 49, 64, 81]"
      ]
     },
     "execution_count": 147,
     "metadata": {},
     "output_type": "execute_result"
    }
   ],
   "source": [
    "l1"
   ]
  },
  {
   "cell_type": "code",
   "execution_count": 148,
   "id": "7ab81a42",
   "metadata": {},
   "outputs": [],
   "source": [
    "l = lambda *x : [i**2 for i in x ]"
   ]
  },
  {
   "cell_type": "code",
   "execution_count": 149,
   "id": "937a9e1a",
   "metadata": {},
   "outputs": [
    {
     "data": {
      "text/plain": [
       "[16, 2025, 25, 36, 36, 49, 64, 81]"
      ]
     },
     "execution_count": 149,
     "metadata": {},
     "output_type": "execute_result"
    }
   ],
   "source": [
    "l(4,45,5,6,6,7,8,9)"
   ]
  },
  {
   "cell_type": "code",
   "execution_count": 103,
   "id": "fbd6fb88",
   "metadata": {},
   "outputs": [
    {
     "ename": "NameError",
     "evalue": "name 'test14' is not defined",
     "output_type": "error",
     "traceback": [
      "\u001b[1;31m---------------------------------------------------------------------------\u001b[0m",
      "\u001b[1;31mNameError\u001b[0m                                 Traceback (most recent call last)",
      "Input \u001b[1;32mIn [103]\u001b[0m, in \u001b[0;36m<cell line: 1>\u001b[1;34m()\u001b[0m\n\u001b[1;32m----> 1\u001b[0m \u001b[43mtest14\u001b[49m(a \u001b[38;5;241m=\u001b[39m \u001b[38;5;241m7\u001b[39m , b \u001b[38;5;241m=\u001b[39m \u001b[38;5;124m\"\u001b[39m\u001b[38;5;124msudh\u001b[39m\u001b[38;5;124m\"\u001b[39m , c \u001b[38;5;241m=\u001b[39m \u001b[38;5;241m345\u001b[39m , d \u001b[38;5;241m=\u001b[39m \u001b[38;5;124m\"\u001b[39m\u001b[38;5;124msudh\u001b[39m\u001b[38;5;124m\"\u001b[39m , l \u001b[38;5;241m=\u001b[39m [\u001b[38;5;241m2\u001b[39m,\u001b[38;5;241m3\u001b[39m,\u001b[38;5;241m4\u001b[39m,\u001b[38;5;241m45\u001b[39m , \u001b[38;5;124m\"\u001b[39m\u001b[38;5;124msudh\u001b[39m\u001b[38;5;124m\"\u001b[39m])\n",
      "\u001b[1;31mNameError\u001b[0m: name 'test14' is not defined"
     ]
    }
   ],
   "source": [
    "test14(a = 7 , b = \"sudh\" , c = 345 , d = \"sudh\" , l = [2,3,4,45 , \"sudh\"])"
   ]
  },
  {
   "cell_type": "code",
   "execution_count": 150,
   "id": "dfc97462",
   "metadata": {},
   "outputs": [
    {
     "ename": "IndentationError",
     "evalue": "expected an indented block (259337848.py, line 2)",
     "output_type": "error",
     "traceback": [
      "\u001b[1;36m  Input \u001b[1;32mIn [150]\u001b[1;36m\u001b[0m\n\u001b[1;33m    \u001b[0m\n\u001b[1;37m    ^\u001b[0m\n\u001b[1;31mIndentationError\u001b[0m\u001b[1;31m:\u001b[0m expected an indented block\n"
     ]
    }
   ],
   "source": [
    "def test14(**kwargs) : \n",
    "    "
   ]
  },
  {
   "cell_type": "code",
   "execution_count": 151,
   "id": "b773de2d",
   "metadata": {},
   "outputs": [],
   "source": [
    "l = lambda *x : [i for i in x]\n"
   ]
  },
  {
   "cell_type": "code",
   "execution_count": 153,
   "id": "3399aaa6",
   "metadata": {},
   "outputs": [
    {
     "data": {
      "text/plain": [
       "[3, 6, 7, 8, 9, 7]"
      ]
     },
     "execution_count": 153,
     "metadata": {},
     "output_type": "execute_result"
    }
   ],
   "source": [
    "l(3,6,7,8,9,7)"
   ]
  },
  {
   "cell_type": "code",
   "execution_count": null,
   "id": "6236b359",
   "metadata": {},
   "outputs": [],
   "source": []
  },
  {
   "cell_type": "code",
   "execution_count": null,
   "id": "bcdb3ea2",
   "metadata": {},
   "outputs": [],
   "source": []
  },
  {
   "cell_type": "code",
   "execution_count": 156,
   "id": "47852a10",
   "metadata": {},
   "outputs": [],
   "source": [
    "def test14(**kwargs):\n",
    "    count = 0\n",
    "    print(kwargs)\n",
    "    print(kwargs.values())\n",
    "    for v in kwargs.values():\n",
    "        if type(v) == str:\n",
    "            count += 1\n",
    "        if type(v) == list :\n",
    "            for i in v :\n",
    "                if type(i) == str :\n",
    "                    count+= 1\n",
    "    return count\n",
    "\n"
   ]
  },
  {
   "cell_type": "code",
   "execution_count": 157,
   "id": "1431d350",
   "metadata": {},
   "outputs": [
    {
     "name": "stdout",
     "output_type": "stream",
     "text": [
      "{'a': 7, 'b': 'sudh', 'c': 345, 'd': 'sudh', 'l': [2, 3, 4, 45, 'sudh']}\n",
      "dict_values([7, 'sudh', 345, 'sudh', [2, 3, 4, 45, 'sudh']])\n"
     ]
    },
    {
     "data": {
      "text/plain": [
       "3"
      ]
     },
     "execution_count": 157,
     "metadata": {},
     "output_type": "execute_result"
    }
   ],
   "source": [
    "test14(a = 7 , b = \"sudh\" , c = 345 , d = \"sudh\" , l = [2,3,4,45 , \"sudh\"])"
   ]
  },
  {
   "cell_type": "code",
   "execution_count": 158,
   "id": "79ac42cf",
   "metadata": {},
   "outputs": [],
   "source": [
    "def test15(**kwargs) :\n",
    "    return list(kwargs.values())"
   ]
  },
  {
   "cell_type": "code",
   "execution_count": 159,
   "id": "8830ef2c",
   "metadata": {},
   "outputs": [
    {
     "data": {
      "text/plain": [
       "[7, 'sudh', 345, 'sudh', [2, 3, 4, 45, 'sudh']]"
      ]
     },
     "execution_count": 159,
     "metadata": {},
     "output_type": "execute_result"
    }
   ],
   "source": [
    "test15(a = 7 , b = \"sudh\" , c = 345 , d = \"sudh\" , l = [2,3,4,45 , \"sudh\"])"
   ]
  },
  {
   "cell_type": "code",
   "execution_count": null,
   "id": "495c47e2",
   "metadata": {},
   "outputs": [],
   "source": [
    "Todays task :\n",
    "    q1 : Try to print a prime number in between 1 to 1000\n",
    "    q2 : Try to write a function which  is equivalent  to print function in python\n",
    "    q3 : Try to write a function which is a replica of list append , extend and pop function \n",
    "    q4 : Try to write a lambda function which can return a concatination of all the string that we will pass\n",
    "    q5 : Try to write a lambda function which can return list of square of all the data between 1-100 \n",
    "    q6 : Try to write a 10 Different different example of lambda function with a choice of your taks \n",
    "    q7 : Try to wwrite a funtion whihc can perform a read operation from .txt file \n",
    "        \n",
    "        shivan@ineuron.ai\n",
    "        sudhashu@ineuron.ai"
   ]
  },
  {
   "cell_type": "code",
   "execution_count": 160,
   "id": "8a9d2977",
   "metadata": {},
   "outputs": [
    {
     "data": {
      "text/plain": [
       "(5, 6, 2, (4, [5, 2]))"
      ]
     },
     "execution_count": 160,
     "metadata": {},
     "output_type": "execute_result"
    }
   ],
   "source": [
    "def test4(a, b, c, *m):\n",
    "  return a, b, c, m\n",
    "\n",
    "test4(5,6,2,4,[5,2])\n",
    "\n"
   ]
  },
  {
   "cell_type": "code",
   "execution_count": 161,
   "id": "49abd649",
   "metadata": {},
   "outputs": [
    {
     "data": {
      "text/plain": [
       "(1, 2, 3)"
      ]
     },
     "execution_count": 161,
     "metadata": {},
     "output_type": "execute_result"
    }
   ],
   "source": [
    "b= lambda *a : a \n",
    "b(1,2,3)"
   ]
  },
  {
   "cell_type": "code",
   "execution_count": 166,
   "id": "46ae7092",
   "metadata": {},
   "outputs": [
    {
     "data": {
      "text/plain": [
       "[0, 1, 2, 3, 4, 5, 6, 7, 8, 9]"
      ]
     },
     "execution_count": 166,
     "metadata": {},
     "output_type": "execute_result"
    }
   ],
   "source": [
    "n=10\n",
    "[i for i in range(n)]\n"
   ]
  },
  {
   "cell_type": "code",
   "execution_count": 168,
   "id": "1b078bae",
   "metadata": {},
   "outputs": [
    {
     "data": {
      "text/plain": [
       "[1, 2, 12]"
      ]
     },
     "execution_count": 168,
     "metadata": {},
     "output_type": "execute_result"
    }
   ],
   "source": [
    "def test15(**kwargs):\n",
    "    return list(kwargs.values())\n",
    "test15(a1=1,l2=2,l3=12)\n"
   ]
  },
  {
   "cell_type": "code",
   "execution_count": 172,
   "id": "1c961733",
   "metadata": {},
   "outputs": [
    {
     "name": "stdout",
     "output_type": "stream",
     "text": [
      "[1, 2, 3, 4]\n"
     ]
    },
    {
     "data": {
      "text/plain": [
       "(1, 2, 3, 4)"
      ]
     },
     "execution_count": 172,
     "metadata": {},
     "output_type": "execute_result"
    }
   ],
   "source": [
    "t=(1,2,3,4)\n",
    "print([i for i in t])\n",
    "t"
   ]
  },
  {
   "cell_type": "code",
   "execution_count": 170,
   "id": "ec423820",
   "metadata": {},
   "outputs": [],
   "source": [
    "l = lambda *x: [i**2 for i in x]"
   ]
  },
  {
   "cell_type": "code",
   "execution_count": 95,
   "id": "253dd7bc",
   "metadata": {},
   "outputs": [
    {
     "data": {
      "text/plain": [
       "[16, 25, 36, 49]"
      ]
     },
     "execution_count": 95,
     "metadata": {},
     "output_type": "execute_result"
    }
   ],
   "source": [
    "l(4,5,6,7)"
   ]
  },
  {
   "cell_type": "code",
   "execution_count": 98,
   "id": "15d4db6a",
   "metadata": {},
   "outputs": [],
   "source": [
    "def test10(*m):\n",
    "    n=1\n",
    "    for i in m:\n",
    "        if type(i) == int :\n",
    "            n=n*i\n",
    "    return n\n"
   ]
  },
  {
   "cell_type": "code",
   "execution_count": 99,
   "id": "3081e626",
   "metadata": {},
   "outputs": [
    {
     "data": {
      "text/plain": [
       "2400"
      ]
     },
     "execution_count": 99,
     "metadata": {},
     "output_type": "execute_result"
    }
   ],
   "source": [
    "test10(4,4,5,5,6)"
   ]
  },
  {
   "cell_type": "code",
   "execution_count": 101,
   "id": "46763bfc",
   "metadata": {},
   "outputs": [
    {
     "data": {
      "text/plain": [
       "[1, 2, 5, [1, 3, 4, 6]]"
      ]
     },
     "execution_count": 101,
     "metadata": {},
     "output_type": "execute_result"
    }
   ],
   "source": [
    "L=[1,2,4,5,[1,3,4,6]]\n",
    "\n",
    "L.pop(2)\n",
    "L\n"
   ]
  },
  {
   "cell_type": "code",
   "execution_count": 103,
   "id": "4f309d28",
   "metadata": {},
   "outputs": [
    {
     "data": {
      "text/plain": [
       "(1, 2, 3)"
      ]
     },
     "execution_count": 103,
     "metadata": {},
     "output_type": "execute_result"
    }
   ],
   "source": [
    "b=lambda *a : a\n",
    "b(1,2,3)"
   ]
  },
  {
   "cell_type": "code",
   "execution_count": 105,
   "id": "ed2d36af",
   "metadata": {},
   "outputs": [
    {
     "data": {
      "text/plain": [
       "(8, 8, 9, 9, 7, 7, 7, 3, 5, 7, 5)"
      ]
     },
     "execution_count": 105,
     "metadata": {},
     "output_type": "execute_result"
    }
   ],
   "source": [
    "def test5(*a,x,y,z):\n",
    "    return *a,x,y,z,\n",
    "test5 (8,8,9,9,7,7,7,3,x=5,y=7,z=5)\n"
   ]
  },
  {
   "cell_type": "code",
   "execution_count": 108,
   "id": "07e180ef",
   "metadata": {},
   "outputs": [
    {
     "data": {
      "text/plain": [
       "'kapeeD'"
      ]
     },
     "execution_count": 108,
     "metadata": {},
     "output_type": "execute_result"
    }
   ],
   "source": [
    "s='Deepak'\n",
    "\n",
    "s[-1::-1]\n"
   ]
  },
  {
   "cell_type": "code",
   "execution_count": 107,
   "id": "954d3347",
   "metadata": {},
   "outputs": [
    {
     "data": {
      "text/plain": [
       "''"
      ]
     },
     "execution_count": 107,
     "metadata": {},
     "output_type": "execute_result"
    }
   ],
   "source": [
    "s[0:6:-1]"
   ]
  },
  {
   "cell_type": "code",
   "execution_count": 109,
   "id": "664a8d12",
   "metadata": {},
   "outputs": [],
   "source": [
    "def aad(a,b):\n",
    "    '''this is my functionde'''\n",
    "    z = a+b\n",
    "    return z\n",
    "    h = a*b\n",
    "    return h\n"
   ]
  },
  {
   "cell_type": "code",
   "execution_count": 110,
   "id": "d7c8092d",
   "metadata": {},
   "outputs": [
    {
     "data": {
      "text/plain": [
       "3"
      ]
     },
     "execution_count": 110,
     "metadata": {},
     "output_type": "execute_result"
    }
   ],
   "source": [
    "aad(1,2)"
   ]
  },
  {
   "cell_type": "code",
   "execution_count": 113,
   "id": "18c2a2d1",
   "metadata": {},
   "outputs": [],
   "source": [
    "def test10(*m , **sm):\n",
    "    return m,sm"
   ]
  },
  {
   "cell_type": "code",
   "execution_count": 114,
   "id": "2427f5b7",
   "metadata": {},
   "outputs": [
    {
     "name": "stdout",
     "output_type": "stream",
     "text": [
      "*jezon\n",
      "aj*zon\n",
      "ajez*n\n"
     ]
    }
   ],
   "source": [
    "s=\"ajezon\"\n",
    "a=0 \n",
    "v='aeiou'\n",
    "while a < len(s):\n",
    "    if s[a] in v :\n",
    "        print(s.replace(s[a] ,\"*\"))\n",
    "    a = a + 1\n"
   ]
  },
  {
   "cell_type": "code",
   "execution_count": 115,
   "id": "8a69dc27",
   "metadata": {},
   "outputs": [
    {
     "ename": "SyntaxError",
     "evalue": "invalid syntax (Temp/ipykernel_7960/2806367668.py, line 1)",
     "output_type": "error",
     "traceback": [
      "\u001b[1;36m  File \u001b[1;32m\"C:\\Users\\win10\\AppData\\Local\\Temp/ipykernel_7960/2806367668.py\"\u001b[1;36m, line \u001b[1;32m1\u001b[0m\n\u001b[1;33m    find_status= lambda a: 'Low' if (a<5000) elif a>=5000 and a<=25000 'Standard' else 'High'\u001b[0m\n\u001b[1;37m                                             ^\u001b[0m\n\u001b[1;31mSyntaxError\u001b[0m\u001b[1;31m:\u001b[0m invalid syntax\n"
     ]
    }
   ],
   "source": [
    "find_status= lambda a: 'Low' if (a<5000) elif a>=5000 and a<=25000 'Standard' else 'High'\n"
   ]
  },
  {
   "cell_type": "code",
   "execution_count": 116,
   "id": "7953aea0",
   "metadata": {},
   "outputs": [
    {
     "name": "stdout",
     "output_type": "stream",
     "text": [
      "ab\n",
      "cd\n",
      "ef\n"
     ]
    }
   ],
   "source": [
    "d={\"ab\":1,'cd':2,'ef':3}\n",
    "\n",
    "for k in d:\n",
    "    print(k)\n"
   ]
  },
  {
   "cell_type": "code",
   "execution_count": null,
   "id": "0c3659ba",
   "metadata": {},
   "outputs": [],
   "source": [
    "# I want to perform multiplication using lambda functions, how can we do it?\n",
    "\n",
    "m=3\n",
    "b = lambda *args : [m=m*i for i in args]\n",
    "\n",
    "b(2,3)\n"
   ]
  },
  {
   "cell_type": "code",
   "execution_count": 118,
   "id": "8310b48a",
   "metadata": {},
   "outputs": [
    {
     "name": "stdout",
     "output_type": "stream",
     "text": [
      "[3, 4, 5, 6, 78]\n",
      "[3, 4, 5, 6, 78]\n"
     ]
    }
   ],
   "source": [
    "t = (3, 4, 5, 6, 78)\n",
    "l = [i for i in t]\n",
    "print(l)\n",
    "ab = list(j for j in l)\n",
    "print(ab)\n"
   ]
  },
  {
   "cell_type": "code",
   "execution_count": 121,
   "id": "98c5383e",
   "metadata": {},
   "outputs": [
    {
     "name": "stdout",
     "output_type": "stream",
     "text": [
      "{'a': 7, 'b': 'Shan', 'c': 345, 'd': 'dd', 'l': [2, 3, 4, 5, 'Su']}\n",
      "dict_values([7, 'Shan', 345, 'dd', [2, 3, 4, 5, 'Su']])\n"
     ]
    },
    {
     "data": {
      "text/plain": [
       "3"
      ]
     },
     "execution_count": 121,
     "metadata": {},
     "output_type": "execute_result"
    }
   ],
   "source": [
    "def test14(**kwargs):\n",
    "    count = 0\n",
    "    print(kwargs)\n",
    "    print(kwargs.values())\n",
    "    for v in kwargs.values():\n",
    "        if type(v)==str:\n",
    "            count+=1\n",
    "        if type(v)==list:\n",
    "            count+=1\n",
    "    return count\n",
    "\n",
    "test14(a=7,b=\"Shan\",c=345,d=\"dd\",l=[2,3,4,5,\"Su\"])\n"
   ]
  },
  {
   "cell_type": "code",
   "execution_count": 124,
   "id": "1721c3a3",
   "metadata": {},
   "outputs": [],
   "source": [
    "def test15(**kwargs):\n",
    "    {i:j for i,j in kwargs.items()}"
   ]
  },
  {
   "cell_type": "code",
   "execution_count": 125,
   "id": "fbafdc31",
   "metadata": {},
   "outputs": [],
   "source": [
    "def test14(**kargs):\n",
    "    count=0\n",
    "    print(kargs.values())\n",
    "    for i in kargs.values():\n",
    "        print(i)\n",
    "        print(type(i) == str)\n",
    "        if type(i) == str:\n",
    "            count=count+1\n",
    "        if type(i) == list:\n",
    "            for j in i:\n",
    "                if type(j) == str:\n",
    "                    count=count+1\n",
    "    return count\n"
   ]
  },
  {
   "cell_type": "code",
   "execution_count": 126,
   "id": "572273ce",
   "metadata": {},
   "outputs": [
    {
     "data": {
      "text/plain": [
       "2"
      ]
     },
     "execution_count": 126,
     "metadata": {},
     "output_type": "execute_result"
    }
   ],
   "source": [
    "def func(**kwargs):\n",
    "    count = 0\n",
    "    for e in kwargs.values():\n",
    "        if type(e) == list:\n",
    "            for ele in  e:\n",
    "                if type(ele) == str:\n",
    "                    count += 1\n",
    "    return count\n",
    "func(v1 = 2,v2 = 3,v3=4, v4=5,name=\"Mohamed\", data=[\"ineuron\", \"MLDL\", 2021])"
   ]
  },
  {
   "cell_type": "code",
   "execution_count": 127,
   "id": "4079e449",
   "metadata": {},
   "outputs": [
    {
     "data": {
      "text/plain": [
       "[4, 6, 8, 10]"
      ]
     },
     "execution_count": 127,
     "metadata": {},
     "output_type": "execute_result"
    }
   ],
   "source": [
    "l= lambda *x : [i*2 for i in x]\n",
    "l(2,3,4,5)\n"
   ]
  },
  {
   "cell_type": "code",
   "execution_count": 128,
   "id": "3fe9d4a7",
   "metadata": {},
   "outputs": [
    {
     "data": {
      "text/plain": [
       "2"
      ]
     },
     "execution_count": 128,
     "metadata": {},
     "output_type": "execute_result"
    }
   ],
   "source": [
    "def func(**kwargs):\n",
    "    count = 0\n",
    "    for e in kwargs.values():\n",
    "        if type(e) == list:\n",
    "            for ele in  e:\n",
    "                if type(ele) == str:\n",
    "                    count += 1\n",
    "    return count\n",
    "func(v1 = 2,v2 = 3,v3=4, v4=5,name=\"Mohamed\", data=[\"ineuron\", \"MLDL\", 2021])\n"
   ]
  },
  {
   "cell_type": "code",
   "execution_count": 130,
   "id": "3fe865b7",
   "metadata": {},
   "outputs": [],
   "source": [
    "def test15(**kwargs):\n",
    "    return list(kwargs.values())\n"
   ]
  },
  {
   "cell_type": "code",
   "execution_count": 131,
   "id": "6d6bc8d8",
   "metadata": {},
   "outputs": [
    {
     "data": {
      "text/plain": [
       "[7, 'Abhi', 345, 'Abhi', [2, 3, 45, 'Abhi']]"
      ]
     },
     "execution_count": 131,
     "metadata": {},
     "output_type": "execute_result"
    }
   ],
   "source": [
    "test15(a=7,b='Abhi',c=345,d='Abhi',l=[2,3,45,'Abhi'])"
   ]
  },
  {
   "cell_type": "code",
   "execution_count": 132,
   "id": "b69711d3",
   "metadata": {},
   "outputs": [
    {
     "name": "stdout",
     "output_type": "stream",
     "text": [
      "    \n",
      "\n",
      "  pawan   \n",
      "\n",
      " pawan  pawan   \n",
      "\n",
      "pawan  pawan  pawan   \n",
      "\n"
     ]
    }
   ],
   "source": [
    "n=3\n",
    "for i in range(n+1):\n",
    "    print(\" \"* (n-i) + 'pawan  '*i,\"\\n\")\n"
   ]
  },
  {
   "cell_type": "code",
   "execution_count": 138,
   "id": "39d1ff7a",
   "metadata": {},
   "outputs": [
    {
     "name": "stdout",
     "output_type": "stream",
     "text": [
      "k1\n",
      "k1\n",
      "k2\n",
      "k2\n",
      "k3\n",
      "k3\n",
      "sudh\n",
      "sudh\n",
      "ineuron\n",
      "ineuron\n",
      "kumar\n",
      "kumar\n",
      "ineuron\n",
      "ineuron\n",
      "data science\n"
     ]
    }
   ],
   "source": [
    "data = [1,\n",
    " 2,\n",
    " 3,\n",
    " 4,\n",
    " 2,\n",
    " 3,\n",
    " 4,\n",
    " 5,\n",
    " 6,\n",
    " 3,\n",
    " 4,\n",
    " 5,\n",
    " 6,\n",
    " 7,\n",
    " 45,\n",
    " 4,\n",
    " 5,\n",
    " 23,\n",
    " 'k1',\n",
    " 'k2',\n",
    " 'k3',\n",
    " 3,\n",
    " 7,\n",
    " 'sudh',\n",
    " 'ineuron',\n",
    " 'kumar',\n",
    " 6,\n",
    " 8,\n",
    " 'ineuron',\n",
    " 'data science']\n",
    "\n",
    "for i in data:\n",
    "    \n",
    "    if type(i) == str:\n",
    "        print(i)\n",
    "        if i.isalnum(): \n",
    "            print(i)\n"
   ]
  },
  {
   "cell_type": "code",
   "execution_count": 139,
   "id": "20833d25",
   "metadata": {},
   "outputs": [
    {
     "data": {
      "text/plain": [
       "(45, 5, 4, 5, 5, 6, 677)"
      ]
     },
     "execution_count": 139,
     "metadata": {},
     "output_type": "execute_result"
    }
   ],
   "source": [
    "b=lambda *sudh : sudh\n",
    "b(45,5,4,5,5,6,677)\n"
   ]
  },
  {
   "cell_type": "code",
   "execution_count": null,
   "id": "35ecbb5a",
   "metadata": {},
   "outputs": [],
   "source": [
    "def test11(*m):\n",
    "    n=1\n",
    "    for i in m:\n",
    "        if type(i)==int:\n",
    "            n=n*i\n",
    "        return n\n"
   ]
  },
  {
   "cell_type": "code",
   "execution_count": 142,
   "id": "a70fc8f8",
   "metadata": {},
   "outputs": [],
   "source": [
    "def test13(**kwargs):\n",
    "    count = 0\n",
    "    for i in kwargs.values():\n",
    "        if type(i) == str or type(i) == list: \n",
    "            for j in i:\n",
    "                count += 1\n",
    "        return count"
   ]
  },
  {
   "cell_type": "code",
   "execution_count": 145,
   "id": "382ffdde",
   "metadata": {},
   "outputs": [],
   "source": [
    "def test15(**s):\n",
    "    return {i:j for i,j in s.items()}\n"
   ]
  },
  {
   "cell_type": "code",
   "execution_count": 146,
   "id": "b5c84313",
   "metadata": {},
   "outputs": [
    {
     "data": {
      "text/plain": [
       "{'a': 1, 'b': 5, 'n': 4}"
      ]
     },
     "execution_count": 146,
     "metadata": {},
     "output_type": "execute_result"
    }
   ],
   "source": [
    "test15(a = 1 , b  = 5 , n = 4 )"
   ]
  },
  {
   "cell_type": "code",
   "execution_count": null,
   "id": "26a132d5",
   "metadata": {},
   "outputs": [],
   "source": []
  },
  {
   "cell_type": "code",
   "execution_count": 173,
   "id": "2e31ab37",
   "metadata": {},
   "outputs": [],
   "source": [
    "s=\"kumar\""
   ]
  },
  {
   "cell_type": "code",
   "execution_count": 226,
   "id": "897a6c23",
   "metadata": {},
   "outputs": [
    {
     "data": {
      "text/plain": [
       "''"
      ]
     },
     "execution_count": 226,
     "metadata": {},
     "output_type": "execute_result"
    }
   ],
   "source": [
    "s[:5:-1]     #step direction conflict with the direction of range"
   ]
  },
  {
   "cell_type": "code",
   "execution_count": 221,
   "id": "aec4cd26",
   "metadata": {},
   "outputs": [
    {
     "data": {
      "text/plain": [
       "'k'"
      ]
     },
     "execution_count": 221,
     "metadata": {},
     "output_type": "execute_result"
    }
   ],
   "source": [
    "s[0::-1]        # with the step direction index out of range \n",
    "                # so the last element following the step direction"
   ]
  },
  {
   "cell_type": "code",
   "execution_count": 224,
   "id": "0dad9f54",
   "metadata": {},
   "outputs": [
    {
     "data": {
      "text/plain": [
       "'ramuk'"
      ]
     },
     "execution_count": 224,
     "metadata": {},
     "output_type": "execute_result"
    }
   ],
   "source": [
    "s[::-1]"
   ]
  },
  {
   "cell_type": "code",
   "execution_count": 216,
   "id": "e5de60f6",
   "metadata": {},
   "outputs": [
    {
     "data": {
      "text/plain": [
       "'ramu'"
      ]
     },
     "execution_count": 216,
     "metadata": {},
     "output_type": "execute_result"
    }
   ],
   "source": [
    "s[:0:-1]      # it mean 5 to 1 in negative direction "
   ]
  },
  {
   "cell_type": "code",
   "execution_count": 217,
   "id": "b1c4f80f",
   "metadata": {},
   "outputs": [
    {
     "data": {
      "text/plain": [
       "'ram'"
      ]
     },
     "execution_count": 217,
     "metadata": {},
     "output_type": "execute_result"
    }
   ],
   "source": [
    "s[:1:-1]    # it mean 5 to 2 in negative direction "
   ]
  },
  {
   "cell_type": "code",
   "execution_count": 219,
   "id": "c34cad17",
   "metadata": {},
   "outputs": [
    {
     "data": {
      "text/plain": [
       "'ra'"
      ]
     },
     "execution_count": 219,
     "metadata": {},
     "output_type": "execute_result"
    }
   ],
   "source": [
    "s[:2:-1]    # it mean 5 to 3 in negative direction default start is last "
   ]
  },
  {
   "cell_type": "code",
   "execution_count": 220,
   "id": "8fd06e50",
   "metadata": {},
   "outputs": [
    {
     "data": {
      "text/plain": [
       "''"
      ]
     },
     "execution_count": 220,
     "metadata": {},
     "output_type": "execute_result"
    }
   ],
   "source": [
    "s[:-1:-1]      # default start is 0, step direction and range direction conflict so null"
   ]
  },
  {
   "cell_type": "code",
   "execution_count": 218,
   "id": "e37125d3",
   "metadata": {},
   "outputs": [
    {
     "data": {
      "text/plain": [
       "''"
      ]
     },
     "execution_count": 218,
     "metadata": {},
     "output_type": "execute_result"
    }
   ],
   "source": [
    "s[0:2:-1]"
   ]
  },
  {
   "cell_type": "code",
   "execution_count": 212,
   "id": "7e8db19c",
   "metadata": {},
   "outputs": [
    {
     "data": {
      "text/plain": [
       "'k'"
      ]
     },
     "execution_count": 212,
     "metadata": {},
     "output_type": "execute_result"
    }
   ],
   "source": [
    "s[0::-1]"
   ]
  },
  {
   "cell_type": "code",
   "execution_count": 211,
   "id": "06009e3b",
   "metadata": {},
   "outputs": [
    {
     "data": {
      "text/plain": [
       "'muk'"
      ]
     },
     "execution_count": 211,
     "metadata": {},
     "output_type": "execute_result"
    }
   ],
   "source": [
    "s[-3::-1]\n"
   ]
  },
  {
   "cell_type": "code",
   "execution_count": 194,
   "id": "976ef051",
   "metadata": {},
   "outputs": [
    {
     "data": {
      "text/plain": [
       "'k'"
      ]
     },
     "execution_count": 194,
     "metadata": {},
     "output_type": "execute_result"
    }
   ],
   "source": [
    "s[-5::-1]"
   ]
  },
  {
   "cell_type": "code",
   "execution_count": 195,
   "id": "997da6a5",
   "metadata": {},
   "outputs": [
    {
     "data": {
      "text/plain": [
       "'u'"
      ]
     },
     "execution_count": 195,
     "metadata": {},
     "output_type": "execute_result"
    }
   ],
   "source": [
    "s[-4:0:-1]"
   ]
  },
  {
   "cell_type": "code",
   "execution_count": 196,
   "id": "ae3ea20d",
   "metadata": {},
   "outputs": [
    {
     "data": {
      "text/plain": [
       "'mu'"
      ]
     },
     "execution_count": 196,
     "metadata": {},
     "output_type": "execute_result"
    }
   ],
   "source": [
    "s[-3:0:-1]"
   ]
  },
  {
   "cell_type": "code",
   "execution_count": 175,
   "id": "9eec6d9a",
   "metadata": {},
   "outputs": [
    {
     "data": {
      "text/plain": [
       "'ramuk'"
      ]
     },
     "execution_count": 175,
     "metadata": {},
     "output_type": "execute_result"
    }
   ],
   "source": [
    "s[::-1]"
   ]
  },
  {
   "cell_type": "code",
   "execution_count": 201,
   "id": "81f9663a",
   "metadata": {},
   "outputs": [
    {
     "data": {
      "text/plain": [
       "''"
      ]
     },
     "execution_count": 201,
     "metadata": {},
     "output_type": "execute_result"
    }
   ],
   "source": [
    "s[0:-5:-1]"
   ]
  },
  {
   "cell_type": "code",
   "execution_count": 214,
   "id": "9355c8ef",
   "metadata": {},
   "outputs": [
    {
     "data": {
      "text/plain": [
       "''"
      ]
     },
     "execution_count": 214,
     "metadata": {},
     "output_type": "execute_result"
    }
   ],
   "source": [
    "s[0:-3:-1]     # for index in the range default is null if direction or step contradict with range direction\n",
    "                # range direction is always either start with 0 for positive till the last \n",
    "                # or -1 for negative from last till first"
   ]
  },
  {
   "cell_type": "code",
   "execution_count": 199,
   "id": "3f7c771c",
   "metadata": {},
   "outputs": [
    {
     "data": {
      "text/plain": [
       "'k'"
      ]
     },
     "execution_count": 199,
     "metadata": {},
     "output_type": "execute_result"
    }
   ],
   "source": [
    "s[0:-7:-1]   #for index out of range default is last element following direction or step"
   ]
  },
  {
   "cell_type": "code",
   "execution_count": null,
   "id": "cf5a099d",
   "metadata": {},
   "outputs": [],
   "source": []
  },
  {
   "cell_type": "code",
   "execution_count": 200,
   "id": "e75ad09a",
   "metadata": {},
   "outputs": [
    {
     "data": {
      "text/plain": [
       "'k'"
      ]
     },
     "execution_count": 200,
     "metadata": {},
     "output_type": "execute_result"
    }
   ],
   "source": [
    "s[0:-9:-1]      #for index out of range default is last element following direction or step"
   ]
  },
  {
   "cell_type": "code",
   "execution_count": 204,
   "id": "b0a6d148",
   "metadata": {},
   "outputs": [
    {
     "data": {
      "text/plain": [
       "'ramuk'"
      ]
     },
     "execution_count": 204,
     "metadata": {},
     "output_type": "execute_result"
    }
   ],
   "source": [
    "s[-1:-9:-1]    #for index out of range default is last following direction or step"
   ]
  },
  {
   "cell_type": "code",
   "execution_count": 206,
   "id": "956a79aa",
   "metadata": {},
   "outputs": [
    {
     "data": {
      "text/plain": [
       "'ramuk'"
      ]
     },
     "execution_count": 206,
     "metadata": {},
     "output_type": "execute_result"
    }
   ],
   "source": [
    "s[:-8:-1]"
   ]
  },
  {
   "cell_type": "code",
   "execution_count": 207,
   "id": "1670139a",
   "metadata": {},
   "outputs": [
    {
     "data": {
      "text/plain": [
       "'kumar'"
      ]
     },
     "execution_count": 207,
     "metadata": {},
     "output_type": "execute_result"
    }
   ],
   "source": [
    "s[0:8:1]"
   ]
  },
  {
   "cell_type": "code",
   "execution_count": 208,
   "id": "0da0fc10",
   "metadata": {},
   "outputs": [
    {
     "data": {
      "text/plain": [
       "'kumar'"
      ]
     },
     "execution_count": 208,
     "metadata": {},
     "output_type": "execute_result"
    }
   ],
   "source": [
    "s[0:7:1]"
   ]
  },
  {
   "cell_type": "code",
   "execution_count": 210,
   "id": "8c4b1323",
   "metadata": {},
   "outputs": [
    {
     "data": {
      "text/plain": [
       "'kumar'"
      ]
     },
     "execution_count": 210,
     "metadata": {},
     "output_type": "execute_result"
    }
   ],
   "source": [
    "s[0:5:1]"
   ]
  },
  {
   "cell_type": "code",
   "execution_count": 209,
   "id": "8a2eaef6",
   "metadata": {},
   "outputs": [
    {
     "data": {
      "text/plain": [
       "'kuma'"
      ]
     },
     "execution_count": 209,
     "metadata": {},
     "output_type": "execute_result"
    }
   ],
   "source": [
    "s[0:4:1]"
   ]
  },
  {
   "cell_type": "code",
   "execution_count": 177,
   "id": "a2931b83",
   "metadata": {},
   "outputs": [],
   "source": [
    "a=lambda x: x+5"
   ]
  },
  {
   "cell_type": "code",
   "execution_count": 178,
   "id": "69457eb6",
   "metadata": {},
   "outputs": [
    {
     "data": {
      "text/plain": [
       "8"
      ]
     },
     "execution_count": 178,
     "metadata": {},
     "output_type": "execute_result"
    }
   ],
   "source": [
    "a(3)"
   ]
  },
  {
   "cell_type": "code",
   "execution_count": 181,
   "id": "d7f37227",
   "metadata": {},
   "outputs": [
    {
     "ename": "SyntaxError",
     "evalue": "invalid syntax (2546106184.py, line 1)",
     "output_type": "error",
     "traceback": [
      "\u001b[1;36m  Input \u001b[1;32mIn [181]\u001b[1;36m\u001b[0m\n\u001b[1;33m    b=lambda 7: 8+7\u001b[0m\n\u001b[1;37m             ^\u001b[0m\n\u001b[1;31mSyntaxError\u001b[0m\u001b[1;31m:\u001b[0m invalid syntax\n"
     ]
    }
   ],
   "source": [
    "b=lambda 7: 8+7"
   ]
  },
  {
   "cell_type": "code",
   "execution_count": 182,
   "id": "2e22328c",
   "metadata": {},
   "outputs": [],
   "source": [
    "b=lambda : 8+7"
   ]
  },
  {
   "cell_type": "code",
   "execution_count": 183,
   "id": "fc5d20ce",
   "metadata": {},
   "outputs": [
    {
     "data": {
      "text/plain": [
       "15"
      ]
     },
     "execution_count": 183,
     "metadata": {},
     "output_type": "execute_result"
    }
   ],
   "source": [
    "b()"
   ]
  },
  {
   "cell_type": "code",
   "execution_count": 184,
   "id": "71f113e2",
   "metadata": {},
   "outputs": [],
   "source": [
    "func_concat=lambda *args:\" \".join([i for i in args])"
   ]
  },
  {
   "cell_type": "code",
   "execution_count": 185,
   "id": "706f83c5",
   "metadata": {},
   "outputs": [
    {
     "data": {
      "text/plain": [
       "'jdkfhskhfk kumar Ram'"
      ]
     },
     "execution_count": 185,
     "metadata": {},
     "output_type": "execute_result"
    }
   ],
   "source": [
    "func_concat(\"jdkfhskhfk\", \"kumar\", \"Ram\")"
   ]
  },
  {
   "cell_type": "code",
   "execution_count": 186,
   "id": "9525ab29",
   "metadata": {},
   "outputs": [],
   "source": [
    "func_concat=lambda *args:\"\".join([i for i in args])"
   ]
  },
  {
   "cell_type": "code",
   "execution_count": 187,
   "id": "14e108e9",
   "metadata": {},
   "outputs": [
    {
     "data": {
      "text/plain": [
       "'jdkfhskhfkkumarRam'"
      ]
     },
     "execution_count": 187,
     "metadata": {},
     "output_type": "execute_result"
    }
   ],
   "source": [
    "func_concat(\"jdkfhskhfk\", \"kumar\", \"Ram\")"
   ]
  },
  {
   "cell_type": "code",
   "execution_count": 188,
   "id": "daa21eef",
   "metadata": {},
   "outputs": [],
   "source": [
    "z=lambda *x:[i**2 for i in x]"
   ]
  },
  {
   "cell_type": "code",
   "execution_count": 189,
   "id": "b44cbba8",
   "metadata": {},
   "outputs": [
    {
     "data": {
      "text/plain": [
       "[1, 4, 9]"
      ]
     },
     "execution_count": 189,
     "metadata": {},
     "output_type": "execute_result"
    }
   ],
   "source": [
    "z(1,2,3)"
   ]
  },
  {
   "cell_type": "code",
   "execution_count": null,
   "id": "a3a9878f",
   "metadata": {},
   "outputs": [],
   "source": []
  }
 ],
 "metadata": {
  "kernelspec": {
   "display_name": "Python 3 (ipykernel)",
   "language": "python",
   "name": "python3"
  },
  "language_info": {
   "codemirror_mode": {
    "name": "ipython",
    "version": 3
   },
   "file_extension": ".py",
   "mimetype": "text/x-python",
   "name": "python",
   "nbconvert_exporter": "python",
   "pygments_lexer": "ipython3",
   "version": "3.9.12"
  }
 },
 "nbformat": 4,
 "nbformat_minor": 5
}
