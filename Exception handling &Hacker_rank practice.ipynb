{
 "cells": [
  {
   "cell_type": "code",
   "execution_count": null,
   "id": "7c3cbd6d",
   "metadata": {},
   "outputs": [],
   "source": []
  },
  {
   "cell_type": "code",
   "execution_count": 180,
   "id": "2e142841",
   "metadata": {},
   "outputs": [
    {
     "name": "stdout",
     "output_type": "stream",
     "text": [
      "1 2 3 4 5 6\n"
     ]
    }
   ],
   "source": [
    "x=[ ele for elem in input().split(sep=\" \", maxsplit=count)  ]"
   ]
  },
  {
   "cell_type": "code",
   "execution_count": 181,
   "id": "c49250d7",
   "metadata": {},
   "outputs": [
    {
     "data": {
      "text/plain": [
       "[6, 6, 6, 6, 6]"
      ]
     },
     "execution_count": 181,
     "metadata": {},
     "output_type": "execute_result"
    }
   ],
   "source": [
    "x"
   ]
  },
  {
   "cell_type": "code",
   "execution_count": null,
   "id": "24b12668",
   "metadata": {},
   "outputs": [],
   "source": []
  },
  {
   "cell_type": "code",
   "execution_count": 182,
   "id": "f014c7a0",
   "metadata": {},
   "outputs": [
    {
     "name": "stdout",
     "output_type": "stream",
     "text": [
      "Enter the size of list : 2\n",
      "Enter the integer elements of list(Space-Separated): 1 3 4 5 6 7 8\n",
      "The list is: [1, 3]\n"
     ]
    }
   ],
   "source": [
    "\n",
    "# input size of the list\n",
    "n = int(input(\"Enter the size of list : \"))\n",
    "# store integers in a list using map, split and strip functions\n",
    "lst = list(map(int, input(\n",
    "    \"Enter the integer elements of list(Space-Separated): \").strip().split()))[:n]\n",
    "print('The list is:', lst)   # printing the list"
   ]
  },
  {
   "cell_type": "code",
   "execution_count": null,
   "id": "28a09f17",
   "metadata": {},
   "outputs": [],
   "source": []
  },
  {
   "cell_type": "code",
   "execution_count": 184,
   "id": "5bb2c012",
   "metadata": {},
   "outputs": [
    {
     "name": "stdout",
     "output_type": "stream",
     "text": [
      "1 2 3 4 5 6 7\n",
      "3\n",
      "5\n",
      "9\n",
      "8\n"
     ]
    }
   ],
   "source": [
    "inputs = [input() for i in range(6 - 1)]"
   ]
  },
  {
   "cell_type": "code",
   "execution_count": 185,
   "id": "077082b1",
   "metadata": {},
   "outputs": [
    {
     "data": {
      "text/plain": [
       "['1 2 3 4 5 6 7', '3', '5', '9', '8']"
      ]
     },
     "execution_count": 185,
     "metadata": {},
     "output_type": "execute_result"
    }
   ],
   "source": [
    "inputs\n"
   ]
  },
  {
   "cell_type": "markdown",
   "id": "2d469b75",
   "metadata": {},
   "source": [
    "#### \n",
    "\n",
    "\n",
    "\n",
    "\n",
    "\n",
    "\n",
    "\n",
    "\n"
   ]
  },
  {
   "cell_type": "code",
   "execution_count": 2,
   "id": "21c6e1d1",
   "metadata": {},
   "outputs": [
    {
     "name": "stdout",
     "output_type": "stream",
     "text": [
      "gfg"
     ]
    },
    {
     "data": {
      "text/plain": [
       "3"
      ]
     },
     "execution_count": 2,
     "metadata": {},
     "output_type": "execute_result"
    }
   ],
   "source": [
    "import sys\n",
    "sys.stdout.write('gfg')"
   ]
  },
  {
   "cell_type": "code",
   "execution_count": 3,
   "id": "f5ee45bc",
   "metadata": {},
   "outputs": [
    {
     "name": "stdout",
     "output_type": "stream",
     "text": [
      "geeksforgeeks\n",
      "geeks\n",
      "for\n",
      "geeks"
     ]
    }
   ],
   "source": [
    "import sys\n",
    "  \n",
    "# stdout assigned to a variable\n",
    "var = sys.stdout\n",
    "arr = ['geeks', 'for', 'geeks']\n",
    "  \n",
    "# printing everything in the same line\n",
    "for i in arr:\n",
    "    var.write(i)\n",
    "  \n",
    "# printing everything in a new line\n",
    "for j in arr:\n",
    "    var.write('\\n'+j)"
   ]
  },
  {
   "cell_type": "code",
   "execution_count": 9,
   "id": "a10f3792",
   "metadata": {},
   "outputs": [
    {
     "name": "stdout",
     "output_type": "stream",
     "text": [
      "4\n",
      "lkjslhf\n",
      "abc\n",
      "jhsjh\n",
      "abc\n",
      "{'lkjslhf', 'abc', 'jhsjh'}\n"
     ]
    }
   ],
   "source": [
    "n=int(input())\n",
    "s=[]\n",
    "for i in range(n):\n",
    "    s.append(input())\n",
    "set1=set(s)\n",
    "print(set1)"
   ]
  },
  {
   "cell_type": "code",
   "execution_count": null,
   "id": "7654f82a",
   "metadata": {},
   "outputs": [],
   "source": [
    "\n"
   ]
  },
  {
   "cell_type": "code",
   "execution_count": 14,
   "id": "bdc8c279",
   "metadata": {},
   "outputs": [
    {
     "name": "stdout",
     "output_type": "stream",
     "text": [
      "jd  sljhh sjfhh hlf sjlhfljh fljsh  slfh\n"
     ]
    }
   ],
   "source": [
    "## taking input with limit in set and list\n",
    "data = [i for i in input().strip().split()[0:5]]\n",
    "## Or\n",
    "s=set(input().split(\" \")[0:5])\n",
    "s=input().split(\" \")[0:5]"
   ]
  },
  {
   "cell_type": "code",
   "execution_count": 64,
   "id": "d003b087",
   "metadata": {},
   "outputs": [
    {
     "data": {
      "text/plain": [
       "28"
      ]
     },
     "execution_count": 64,
     "metadata": {},
     "output_type": "execute_result"
    }
   ],
   "source": [
    "sum(s)"
   ]
  },
  {
   "cell_type": "code",
   "execution_count": 34,
   "id": "d767faf2",
   "metadata": {},
   "outputs": [
    {
     "name": "stdout",
     "output_type": "stream",
     "text": [
      "5\n"
     ]
    }
   ],
   "source": [
    "N=int(input())"
   ]
  },
  {
   "cell_type": "code",
   "execution_count": 35,
   "id": "1d159104",
   "metadata": {},
   "outputs": [],
   "source": [
    "i=0\n",
    "\n",
    "\n",
    "while i<=N:\n",
    "    l1=input().split(\" \")[0:2]\n",
    "    if l1[0].lower()==\"pop\":\n",
    "        s.pop()\n",
    "    elif l1[0].lower()==\"remove\":\n",
    "       s.remove(int(l1[1])) \n",
    "    elif l1[0].lower()==\"discard\":\n",
    "        s.discard(int(l1[1]))\n",
    "\n",
    "    i=i+1\n",
    "print(sum(s))"
   ]
  },
  {
   "cell_type": "code",
   "execution_count": 45,
   "id": "a4301e80",
   "metadata": {},
   "outputs": [
    {
     "data": {
      "text/plain": [
       "3"
      ]
     },
     "execution_count": 45,
     "metadata": {},
     "output_type": "execute_result"
    }
   ],
   "source": [
    "s.pop()    # pop removes first element"
   ]
  },
  {
   "cell_type": "code",
   "execution_count": 46,
   "id": "d555f830",
   "metadata": {},
   "outputs": [
    {
     "data": {
      "text/plain": [
       "{5, 7}"
      ]
     },
     "execution_count": 46,
     "metadata": {},
     "output_type": "execute_result"
    }
   ],
   "source": [
    "s"
   ]
  },
  {
   "cell_type": "code",
   "execution_count": 48,
   "id": "df4aacc5",
   "metadata": {},
   "outputs": [],
   "source": [
    "s.discard(5)"
   ]
  },
  {
   "cell_type": "code",
   "execution_count": 49,
   "id": "97503cc7",
   "metadata": {},
   "outputs": [
    {
     "data": {
      "text/plain": [
       "{7}"
      ]
     },
     "execution_count": 49,
     "metadata": {},
     "output_type": "execute_result"
    }
   ],
   "source": [
    "s"
   ]
  },
  {
   "cell_type": "code",
   "execution_count": 51,
   "id": "732dd43e",
   "metadata": {},
   "outputs": [],
   "source": [
    "s.remove(7)"
   ]
  },
  {
   "cell_type": "code",
   "execution_count": 52,
   "id": "d746a1df",
   "metadata": {},
   "outputs": [
    {
     "data": {
      "text/plain": [
       "set()"
      ]
     },
     "execution_count": 52,
     "metadata": {},
     "output_type": "execute_result"
    }
   ],
   "source": [
    "s"
   ]
  },
  {
   "cell_type": "code",
   "execution_count": 57,
   "id": "c797fc82",
   "metadata": {},
   "outputs": [
    {
     "name": "stdout",
     "output_type": "stream",
     "text": [
      "Remove\n"
     ]
    },
    {
     "data": {
      "text/plain": [
       "'remove'"
      ]
     },
     "execution_count": 57,
     "metadata": {},
     "output_type": "execute_result"
    }
   ],
   "source": [
    "l1=(input().split(\" \")[0:2])\n",
    "    #if l1[0]==\"remove\" or \n",
    "l1[0].lower()"
   ]
  },
  {
   "cell_type": "code",
   "execution_count": 65,
   "id": "a497fcf5",
   "metadata": {},
   "outputs": [
    {
     "name": "stdout",
     "output_type": "stream",
     "text": [
      "6\n",
      "1 2 4 6 3 6 7 89 9\n",
      "5\n",
      "remove 2\n",
      "pop\n",
      "remove 3\n",
      "discard 89\n",
      "discard 1\n",
      "discard 1\n",
      "10\n"
     ]
    }
   ],
   "source": [
    "n=int(input())\n",
    "s=[]\n",
    "s=map(int, input().split(\" \")[0:5])\n",
    "s=set(s)\n",
    "N=int(input())  \n",
    "\n",
    "i=0\n",
    "while i<=N:\n",
    "    l1=input().split(\" \")[0:2]\n",
    "    if l1[0].lower()==\"pop\":\n",
    "        s.pop()\n",
    "    elif l1[0].lower()==\"remove\":\n",
    "       s.remove(int(l1[1])) \n",
    "    elif l1[0].lower()==\"discard\":\n",
    "        s.discard(int(l1[1]))\n",
    "\n",
    "    i=i+1\n",
    "print(sum(s))"
   ]
  },
  {
   "cell_type": "code",
   "execution_count": null,
   "id": "a6b4d459",
   "metadata": {},
   "outputs": [],
   "source": [
    "student_eng.union()"
   ]
  },
  {
   "cell_type": "code",
   "execution_count": 77,
   "id": "1b811724",
   "metadata": {},
   "outputs": [
    {
     "name": "stdout",
     "output_type": "stream",
     "text": [
      "3\n",
      "1 2 3 \n",
      "4\n",
      "12 3 4 5\n",
      "2\n"
     ]
    }
   ],
   "source": [
    "n=int(input())\n",
    "stud_eng=input().split(\" \")[:n]\n",
    "stud_eng1=set(stud_eng)\n",
    "b=int(input())\n",
    "stud_fren=input().split(\" \")[:b]\n",
    "stud_fren1=set(stud_fren)\n",
    "l= len(stud_eng1.difference(stud_fren1))\n",
    "print(l)"
   ]
  },
  {
   "cell_type": "code",
   "execution_count": 88,
   "id": "fa985439",
   "metadata": {},
   "outputs": [
    {
     "name": "stdout",
     "output_type": "stream",
     "text": [
      "5\n",
      "1 2 3 4 5 6\n",
      "6\n",
      "4 5 6 7 8 9 10\n",
      "Difference in set a to b {'1', '3', '2'}\n",
      "Difference in set b to a {'8', '7', '9', '6'}\n",
      "3\n",
      "symmetric Difference in set a to b {'1', '3', '7', '8', '9', '2', '6'}\n",
      "symmetric Difference in set b to a {'1', '3', '7', '8', '9', '2', '6'}\n",
      "7\n"
     ]
    }
   ],
   "source": [
    "n=int(input())\n",
    "stud_eng=input().split(\" \")[0:n]\n",
    "stud_eng=set(stud_eng)\n",
    "b=int(input())\n",
    "stud_fren=input().split(\" \")[0:b]\n",
    "stud_fren=set(stud_fren)\n",
    "l1=len(stud_eng.difference(stud_fren))\n",
    "print(\"Difference in set a to b\", stud_eng.difference(stud_fren))   # set a - set b\n",
    "print(\"Difference in set b to a\", stud_fren.difference(stud_eng))   # set b - set a\n",
    "print(l1)\n",
    "print(\"symmetric Difference in set a to b\", stud_eng.symmetric_difference(stud_fren)) # set (a-b) and set set(b-a)\n",
    "print(\"symmetric Difference in set b to a\", stud_fren.symmetric_difference(stud_eng))\n",
    "l2=len(stud_eng.symmetric_difference(stud_fren))\n",
    "print(l2)"
   ]
  },
  {
   "cell_type": "code",
   "execution_count": null,
   "id": "d3ba3691",
   "metadata": {},
   "outputs": [],
   "source": [
    "b=set()\n",
    "b.add(map(int, input().split(\" \")[:s_int]))    # set can not be assigned with elements but element can be added "
   ]
  },
  {
   "cell_type": "code",
   "execution_count": 185,
   "id": "e626fe60",
   "metadata": {},
   "outputs": [
    {
     "name": "stdout",
     "output_type": "stream",
     "text": [
      "4\n",
      "1 2 3 4\n",
      "1\n",
      "update 5\n",
      "5 6 7 8 9 10\n",
      "36\n"
     ]
    }
   ],
   "source": [
    "num=int(input())\n",
    "a=set(map(int, input().split(\" \")[:num]))\n",
    "\n",
    "n=int(input())\n",
    "i=0\n",
    "b=[]\n",
    "\n",
    "while i<n:\n",
    "    s=input().split(\" \")[:2]\n",
    "    s_int=int(s[1])\n",
    "    b=set(map(int, input().split(\" \")[:s_int]))   # this is list\n",
    "    \n",
    "    bi=set(b)      \n",
    "   \n",
    "    if s[0].lower()==\"intersection_update\":\n",
    "        a.intersection_update(b)\n",
    "    elif s[0].lower()==\"symmetric_difference_update\":\n",
    "        a.symmetric_difference_update(b)\n",
    "    elif s[0].lower()==\"difference_update\":\n",
    "        a.difference_update(b)\n",
    "    elif s[0].lower()==\"update\":\n",
    "        a.update(b)\n",
    "    i=i+1\n",
    "print(sum(a))\n",
    "    "
   ]
  },
  {
   "cell_type": "code",
   "execution_count": 186,
   "id": "60fee555",
   "metadata": {},
   "outputs": [
    {
     "data": {
      "text/plain": [
       "{1, 5, 6, 7, 8, 9}"
      ]
     },
     "execution_count": 186,
     "metadata": {},
     "output_type": "execute_result"
    }
   ],
   "source": [
    "a"
   ]
  },
  {
   "cell_type": "code",
   "execution_count": 184,
   "id": "55302495",
   "metadata": {},
   "outputs": [
    {
     "data": {
      "text/plain": [
       "{5, 6, 7}"
      ]
     },
     "execution_count": 184,
     "metadata": {},
     "output_type": "execute_result"
    }
   ],
   "source": [
    "b"
   ]
  },
  {
   "cell_type": "code",
   "execution_count": 164,
   "id": "eb3d3fa1",
   "metadata": {},
   "outputs": [
    {
     "name": "stdout",
     "output_type": "stream",
     "text": [
      "1 2 3 4 5\n"
     ]
    }
   ],
   "source": [
    "a=set(map(int, input().split(\" \")[:5]))"
   ]
  },
  {
   "cell_type": "code",
   "execution_count": 165,
   "id": "4f4d439f",
   "metadata": {},
   "outputs": [
    {
     "data": {
      "text/plain": [
       "{1, 2, 3, 4, 5}"
      ]
     },
     "execution_count": 165,
     "metadata": {},
     "output_type": "execute_result"
    }
   ],
   "source": [
    "a"
   ]
  },
  {
   "cell_type": "code",
   "execution_count": 156,
   "id": "0dc540cc",
   "metadata": {},
   "outputs": [
    {
     "name": "stdout",
     "output_type": "stream",
     "text": [
      "15\n"
     ]
    }
   ],
   "source": [
    "print(sum(a))"
   ]
  },
  {
   "cell_type": "code",
   "execution_count": 166,
   "id": "553aa48b",
   "metadata": {},
   "outputs": [
    {
     "name": "stdout",
     "output_type": "stream",
     "text": [
      "4 5 6 7 8\n"
     ]
    }
   ],
   "source": [
    " b=set(map(int, input().split(\" \")[:5]))"
   ]
  },
  {
   "cell_type": "code",
   "execution_count": 167,
   "id": "a1f5a986",
   "metadata": {},
   "outputs": [
    {
     "data": {
      "text/plain": [
       "{4, 5, 6, 7, 8}"
      ]
     },
     "execution_count": 167,
     "metadata": {},
     "output_type": "execute_result"
    }
   ],
   "source": [
    "b"
   ]
  },
  {
   "cell_type": "code",
   "execution_count": 168,
   "id": "e8dc4c23",
   "metadata": {},
   "outputs": [
    {
     "name": "stdout",
     "output_type": "stream",
     "text": [
      "None\n"
     ]
    }
   ],
   "source": [
    "print(b.intersection_update(a))"
   ]
  },
  {
   "cell_type": "code",
   "execution_count": 151,
   "id": "5d274937",
   "metadata": {},
   "outputs": [
    {
     "name": "stdout",
     "output_type": "stream",
     "text": [
      "None\n"
     ]
    }
   ],
   "source": [
    "print(a.symmetric_difference_update(b))"
   ]
  },
  {
   "cell_type": "code",
   "execution_count": 169,
   "id": "38ae163d",
   "metadata": {},
   "outputs": [
    {
     "data": {
      "text/plain": [
       "{1, 2, 3, 4, 5}"
      ]
     },
     "execution_count": 169,
     "metadata": {},
     "output_type": "execute_result"
    }
   ],
   "source": [
    "a"
   ]
  },
  {
   "cell_type": "code",
   "execution_count": 170,
   "id": "83638d0f",
   "metadata": {},
   "outputs": [
    {
     "data": {
      "text/plain": [
       "{4, 5}"
      ]
     },
     "execution_count": 170,
     "metadata": {},
     "output_type": "execute_result"
    }
   ],
   "source": [
    "b"
   ]
  },
  {
   "cell_type": "code",
   "execution_count": 116,
   "id": "745f3daa",
   "metadata": {},
   "outputs": [
    {
     "ename": "TypeError",
     "evalue": "'set' object is not subscriptable",
     "output_type": "error",
     "traceback": [
      "\u001b[1;31m---------------------------------------------------------------------------\u001b[0m",
      "\u001b[1;31mTypeError\u001b[0m                                 Traceback (most recent call last)",
      "Input \u001b[1;32mIn [116]\u001b[0m, in \u001b[0;36m<cell line: 2>\u001b[1;34m()\u001b[0m\n\u001b[0;32m      1\u001b[0m b\u001b[38;5;241m=\u001b[39m\u001b[38;5;28mset\u001b[39m()\n\u001b[1;32m----> 2\u001b[0m \u001b[43mb\u001b[49m\u001b[43m[\u001b[49m\u001b[38;5;241;43m0\u001b[39;49m\u001b[43m]\u001b[49m\u001b[38;5;241m.\u001b[39madd(\u001b[38;5;28mmap\u001b[39m(\u001b[38;5;28mint\u001b[39m, \u001b[38;5;28minput\u001b[39m()\u001b[38;5;241m.\u001b[39msplit(\u001b[38;5;124m\"\u001b[39m\u001b[38;5;124m \u001b[39m\u001b[38;5;124m\"\u001b[39m)[:s_int]))\n",
      "\u001b[1;31mTypeError\u001b[0m: 'set' object is not subscriptable"
     ]
    }
   ],
   "source": [
    "b=set()\n",
    "b.add(map(int, input().split(\" \")[:s_int]))"
   ]
  },
  {
   "cell_type": "code",
   "execution_count": 114,
   "id": "c6dc5595",
   "metadata": {},
   "outputs": [
    {
     "data": {
      "text/plain": [
       "{<map at 0x29624d20c70>}"
      ]
     },
     "execution_count": 114,
     "metadata": {},
     "output_type": "execute_result"
    }
   ],
   "source": [
    "b"
   ]
  },
  {
   "cell_type": "code",
   "execution_count": 103,
   "id": "081e442a",
   "metadata": {},
   "outputs": [
    {
     "name": "stdout",
     "output_type": "stream",
     "text": [
      "{<map object at 0x0000029624EE3AF0>}\n"
     ]
    }
   ],
   "source": [
    "print(b)"
   ]
  },
  {
   "cell_type": "code",
   "execution_count": 104,
   "id": "216208d0",
   "metadata": {},
   "outputs": [
    {
     "ename": "TypeError",
     "evalue": "'set' object is not an iterator",
     "output_type": "error",
     "traceback": [
      "\u001b[1;31m---------------------------------------------------------------------------\u001b[0m",
      "\u001b[1;31mTypeError\u001b[0m                                 Traceback (most recent call last)",
      "Input \u001b[1;32mIn [104]\u001b[0m, in \u001b[0;36m<cell line: 1>\u001b[1;34m()\u001b[0m\n\u001b[1;32m----> 1\u001b[0m \u001b[38;5;28;43mnext\u001b[39;49m\u001b[43m(\u001b[49m\u001b[43mb\u001b[49m\u001b[43m)\u001b[49m\n",
      "\u001b[1;31mTypeError\u001b[0m: 'set' object is not an iterator"
     ]
    }
   ],
   "source": [
    "next(b)"
   ]
  },
  {
   "cell_type": "code",
   "execution_count": 115,
   "id": "a240ec9a",
   "metadata": {},
   "outputs": [
    {
     "name": "stdout",
     "output_type": "stream",
     "text": [
      "<map object at 0x0000029624D20C70>\n"
     ]
    }
   ],
   "source": [
    "for i in b:\n",
    "    print(i)"
   ]
  },
  {
   "cell_type": "code",
   "execution_count": 125,
   "id": "89e536db",
   "metadata": {},
   "outputs": [
    {
     "name": "stdout",
     "output_type": "stream",
     "text": [
      "1 2 32 34 5\n"
     ]
    },
    {
     "ename": "IndexError",
     "evalue": "list assignment index out of range",
     "output_type": "error",
     "traceback": [
      "\u001b[1;31m---------------------------------------------------------------------------\u001b[0m",
      "\u001b[1;31mIndexError\u001b[0m                                Traceback (most recent call last)",
      "Input \u001b[1;32mIn [125]\u001b[0m, in \u001b[0;36m<cell line: 2>\u001b[1;34m()\u001b[0m\n\u001b[0;32m      1\u001b[0m b\u001b[38;5;241m=\u001b[39m[]\n\u001b[1;32m----> 2\u001b[0m b[\u001b[38;5;241m0\u001b[39m]\u001b[38;5;241m=\u001b[39m\u001b[38;5;28mmap\u001b[39m(\u001b[38;5;28mint\u001b[39m, \u001b[38;5;28minput\u001b[39m()\u001b[38;5;241m.\u001b[39msplit(\u001b[38;5;124m\"\u001b[39m\u001b[38;5;124m \u001b[39m\u001b[38;5;124m\"\u001b[39m))\n",
      "\u001b[1;31mIndexError\u001b[0m: list assignment index out of range"
     ]
    }
   ],
   "source": [
    "b=[]\n",
    "b[0]=map(int, input().split(\" \"))"
   ]
  },
  {
   "cell_type": "code",
   "execution_count": null,
   "id": "11201246",
   "metadata": {},
   "outputs": [],
   "source": []
  },
  {
   "cell_type": "code",
   "execution_count": 12,
   "id": "a58bc3d6",
   "metadata": {},
   "outputs": [
    {
     "name": "stdout",
     "output_type": "stream",
     "text": [
      "4\n",
      "45 44 3 1\n",
      "<class 'list'>\n",
      "44\n"
     ]
    }
   ],
   "source": [
    "if __name__ == '__main__':\n",
    "    n = int(input())\n",
    "    arr = list(map(int, input().split(\" \")))[:n]\n",
    "    #m=max(arr)\n",
    "    #arr2=list(arr)\n",
    "    print(type(arr))\n",
    "    arr.sort()\n",
    "    m2=arr[n-2]\n",
    "    print(m2)"
   ]
  },
  {
   "cell_type": "code",
   "execution_count": null,
   "id": "017d9352",
   "metadata": {},
   "outputs": [],
   "source": []
  },
  {
   "cell_type": "code",
   "execution_count": 7,
   "id": "28afd92c",
   "metadata": {},
   "outputs": [
    {
     "name": "stdout",
     "output_type": "stream",
     "text": [
      "56 4 5 7\n"
     ]
    }
   ],
   "source": [
    "arr = list(map(int, input().split(\" \")))[:4]"
   ]
  },
  {
   "cell_type": "code",
   "execution_count": 9,
   "id": "b2d97997",
   "metadata": {},
   "outputs": [
    {
     "data": {
      "text/plain": [
       "5"
      ]
     },
     "execution_count": 9,
     "metadata": {},
     "output_type": "execute_result"
    }
   ],
   "source": [
    "arr[len(arr)-2]"
   ]
  },
  {
   "cell_type": "code",
   "execution_count": 50,
   "id": "ed1c16f3",
   "metadata": {},
   "outputs": [],
   "source": [
    "def swap_case():\n",
    "    s=str(input())\n",
    "    for j in s:\n",
    "        for i in j:\n",
    "            if i.islower():\n",
    "                i=i.upper()\n",
    "            elif i.isupper:\n",
    "                i=i.lower()\n",
    "            print(i,end='')\n",
    "    #print('\\n',s)\n",
    "    return s"
   ]
  },
  {
   "cell_type": "code",
   "execution_count": 111,
   "id": "3923324d",
   "metadata": {},
   "outputs": [
    {
     "data": {
      "text/plain": [
       "dict_values(['jfjhgjh', 'ghgkgh', 'kjgkgkh'])"
      ]
     },
     "execution_count": 111,
     "metadata": {},
     "output_type": "execute_result"
    }
   ],
   "source": [
    "dict1.values()"
   ]
  },
  {
   "cell_type": "code",
   "execution_count": 116,
   "id": "bf999b29",
   "metadata": {},
   "outputs": [
    {
     "ename": "NameError",
     "evalue": "name 'sort' is not defined",
     "output_type": "error",
     "traceback": [
      "\u001b[1;31m---------------------------------------------------------------------------\u001b[0m",
      "\u001b[1;31mNameError\u001b[0m                                 Traceback (most recent call last)",
      "Input \u001b[1;32mIn [116]\u001b[0m, in \u001b[0;36m<cell line: 1>\u001b[1;34m()\u001b[0m\n\u001b[1;32m----> 1\u001b[0m \u001b[43msort\u001b[49m(dict1\u001b[38;5;241m.\u001b[39mkeys())\n",
      "\u001b[1;31mNameError\u001b[0m: name 'sort' is not defined"
     ]
    }
   ],
   "source": [
    "max(dict1.keys())"
   ]
  },
  {
   "cell_type": "code",
   "execution_count": 113,
   "id": "782899e1",
   "metadata": {},
   "outputs": [
    {
     "data": {
      "text/plain": [
       "{677.0: 'jfjhgjh', 45.0: 'ghgkgh', 998.0: 'kjgkgkh'}"
      ]
     },
     "execution_count": 113,
     "metadata": {},
     "output_type": "execute_result"
    }
   ],
   "source": [
    "dict1"
   ]
  },
  {
   "cell_type": "code",
   "execution_count": 115,
   "id": "648c7e07",
   "metadata": {},
   "outputs": [
    {
     "data": {
      "text/plain": [
       "'kjgkgkh'"
      ]
     },
     "execution_count": 115,
     "metadata": {},
     "output_type": "execute_result"
    }
   ],
   "source": [
    "dict1[max(dict1.keys())]"
   ]
  },
  {
   "cell_type": "code",
   "execution_count": 119,
   "id": "0a749473",
   "metadata": {},
   "outputs": [
    {
     "ename": "AttributeError",
     "evalue": "'dict_keys' object has no attribute 'sort'",
     "output_type": "error",
     "traceback": [
      "\u001b[1;31m---------------------------------------------------------------------------\u001b[0m",
      "\u001b[1;31mAttributeError\u001b[0m                            Traceback (most recent call last)",
      "Input \u001b[1;32mIn [119]\u001b[0m, in \u001b[0;36m<cell line: 1>\u001b[1;34m()\u001b[0m\n\u001b[1;32m----> 1\u001b[0m \u001b[43mdict1\u001b[49m\u001b[38;5;241;43m.\u001b[39;49m\u001b[43mkeys\u001b[49m\u001b[43m(\u001b[49m\u001b[43m)\u001b[49m\u001b[38;5;241;43m.\u001b[39;49m\u001b[43msort\u001b[49m()\n",
      "\u001b[1;31mAttributeError\u001b[0m: 'dict_keys' object has no attribute 'sort'"
     ]
    }
   ],
   "source": [
    "dict1.keys().sort()"
   ]
  },
  {
   "cell_type": "code",
   "execution_count": 130,
   "id": "d7245ee2",
   "metadata": {},
   "outputs": [],
   "source": [
    "l=list(dict1.keys())"
   ]
  },
  {
   "cell_type": "code",
   "execution_count": 129,
   "id": "eead7406",
   "metadata": {},
   "outputs": [
    {
     "ename": "NameError",
     "evalue": "name 'sort' is not defined",
     "output_type": "error",
     "traceback": [
      "\u001b[1;31m---------------------------------------------------------------------------\u001b[0m",
      "\u001b[1;31mNameError\u001b[0m                                 Traceback (most recent call last)",
      "Input \u001b[1;32mIn [129]\u001b[0m, in \u001b[0;36m<cell line: 1>\u001b[1;34m()\u001b[0m\n\u001b[1;32m----> 1\u001b[0m \u001b[43msort\u001b[49m(dict1\u001b[38;5;241m.\u001b[39mkeys())\n",
      "\u001b[1;31mNameError\u001b[0m: name 'sort' is not defined"
     ]
    }
   ],
   "source": [
    "sort(dict1.keys())"
   ]
  },
  {
   "cell_type": "code",
   "execution_count": 131,
   "id": "89146a34",
   "metadata": {},
   "outputs": [
    {
     "data": {
      "text/plain": [
       "[677.0, 45.0, 998.0]"
      ]
     },
     "execution_count": 131,
     "metadata": {},
     "output_type": "execute_result"
    }
   ],
   "source": [
    "l"
   ]
  },
  {
   "cell_type": "code",
   "execution_count": 133,
   "id": "0bb1b0ee",
   "metadata": {},
   "outputs": [
    {
     "data": {
      "text/plain": [
       "45.0"
      ]
     },
     "execution_count": 133,
     "metadata": {},
     "output_type": "execute_result"
    }
   ],
   "source": [
    "min(dict1.keys())"
   ]
  },
  {
   "cell_type": "code",
   "execution_count": null,
   "id": "9116ebc7",
   "metadata": {},
   "outputs": [],
   "source": [
    "min(dict1.keys()) in dict1.keys()"
   ]
  },
  {
   "cell_type": "code",
   "execution_count": 153,
   "id": "ac9b5935",
   "metadata": {},
   "outputs": [
    {
     "data": {
      "text/plain": [
       "7.0"
      ]
     },
     "execution_count": 153,
     "metadata": {},
     "output_type": "execute_result"
    }
   ],
   "source": [
    "min(score)"
   ]
  },
  {
   "cell_type": "code",
   "execution_count": 154,
   "id": "5862ffa7",
   "metadata": {},
   "outputs": [
    {
     "data": {
      "text/plain": [
       "56736.0"
      ]
     },
     "execution_count": 154,
     "metadata": {},
     "output_type": "execute_result"
    }
   ],
   "source": [
    "max(score)"
   ]
  },
  {
   "cell_type": "code",
   "execution_count": 178,
   "id": "8dbca5f7",
   "metadata": {},
   "outputs": [],
   "source": [
    "command=[2424, 67637, \"6474\"]"
   ]
  },
  {
   "cell_type": "code",
   "execution_count": 181,
   "id": "f49c968a",
   "metadata": {},
   "outputs": [],
   "source": [
    "command2=[int(i) for i in command[1:]]"
   ]
  },
  {
   "cell_type": "code",
   "execution_count": 182,
   "id": "5b2d9b62",
   "metadata": {},
   "outputs": [
    {
     "data": {
      "text/plain": [
       "[67637, 6474]"
      ]
     },
     "execution_count": 182,
     "metadata": {},
     "output_type": "execute_result"
    }
   ],
   "source": [
    "command2"
   ]
  },
  {
   "cell_type": "code",
   "execution_count": 16,
   "id": "8369965c",
   "metadata": {},
   "outputs": [
    {
     "name": "stdout",
     "output_type": "stream",
     "text": [
      "2\n",
      "append 9\n",
      "append 10\n"
     ]
    }
   ],
   "source": [
    "if __name__ == '__main__':\n",
    "    N = int(input())\n",
    "    i=0\n",
    "    list1=[]\n",
    "    while i<N:\n",
    "        \n",
    "        command=input().split(\" \")\n",
    "        command1=command[0]\n",
    "\n",
    "        if command1.lower()==\"insert\":\n",
    "            value1=int(command[1])\n",
    "            value2=int(command[2])\n",
    "            list1.insert(value1, value2)\n",
    "            #print(list1)\n",
    "        elif command1.lower()==\"print\":\n",
    "            print(list1)\n",
    "        elif command1.lower()==\"remove\":\n",
    "            value1=int(command[1])            \n",
    "            list1.remove(value1)\n",
    "        elif command1.lower()==\"append\":\n",
    "            value1=int(command[1])\n",
    "            list1.append(value1)\n",
    "        elif command1.lower()==\"sort\":\n",
    "            list1.sort()\n",
    "        elif command1.lower()==\"pop\":\n",
    "            list1.pop()\n",
    "        elif command1.lower()==\"reverse\":\n",
    "            list1.reverse()\n",
    "        i=i+1\n",
    "    "
   ]
  },
  {
   "cell_type": "code",
   "execution_count": 17,
   "id": "8766ed95",
   "metadata": {},
   "outputs": [
    {
     "data": {
      "text/plain": [
       "[9, 10]"
      ]
     },
     "execution_count": 17,
     "metadata": {},
     "output_type": "execute_result"
    }
   ],
   "source": [
    " list1"
   ]
  },
  {
   "cell_type": "code",
   "execution_count": 190,
   "id": "351745e3",
   "metadata": {},
   "outputs": [
    {
     "data": {
      "text/plain": [
       "0"
      ]
     },
     "execution_count": 190,
     "metadata": {},
     "output_type": "execute_result"
    }
   ],
   "source": [
    "values=[int(i) for i in range(7)]\n",
    "values.pop(0)"
   ]
  },
  {
   "cell_type": "code",
   "execution_count": 192,
   "id": "a92eeb4a",
   "metadata": {},
   "outputs": [],
   "source": [
    "values.insert(8,5)"
   ]
  },
  {
   "cell_type": "code",
   "execution_count": 193,
   "id": "1ef9ced9",
   "metadata": {},
   "outputs": [
    {
     "data": {
      "text/plain": [
       "[1, 2, 3, 4, 5, 6, 5]"
      ]
     },
     "execution_count": 193,
     "metadata": {},
     "output_type": "execute_result"
    }
   ],
   "source": [
    "values"
   ]
  },
  {
   "cell_type": "code",
   "execution_count": 18,
   "id": "7e4cc13b",
   "metadata": {},
   "outputs": [
    {
     "name": "stdout",
     "output_type": "stream",
     "text": [
      "2\n",
      "33 545\n"
     ]
    }
   ],
   "source": [
    "if __name__ == '__main__':\n",
    "    n = int(input())\n",
    "    integer_list = map(int, input().split())\n",
    "    integer_list=tuple(integer_list)\n",
    "    print(hash(integer_list))"
   ]
  },
  {
   "cell_type": "code",
   "execution_count": 19,
   "id": "5218824a",
   "metadata": {},
   "outputs": [
    {
     "data": {
      "text/plain": [
       "(33, 545)"
      ]
     },
     "execution_count": 19,
     "metadata": {},
     "output_type": "execute_result"
    }
   ],
   "source": [
    "integer_list"
   ]
  },
  {
   "cell_type": "code",
   "execution_count": 20,
   "id": "2bd7be06",
   "metadata": {},
   "outputs": [
    {
     "data": {
      "text/plain": [
       "2082450222209966231"
      ]
     },
     "execution_count": 20,
     "metadata": {},
     "output_type": "execute_result"
    }
   ],
   "source": [
    "hash(integer_list)"
   ]
  },
  {
   "cell_type": "code",
   "execution_count": 29,
   "id": "37d937b5",
   "metadata": {},
   "outputs": [
    {
     "name": "stdout",
     "output_type": "stream",
     "text": [
      "3\n",
      "jkjkjkj\n",
      "123\n",
      "ewkk\n",
      "12\n",
      "lsdgfjlj\n",
      "57\n",
      "[['jkjkjkj', 123.0], ['ewkk', 12.0], ['lsdgfjlj', 57.0]]\n"
     ]
    }
   ],
   "source": [
    "if __name__ == '__main__':\n",
    "    #name=[]\n",
    "    #score=[]\n",
    "    list1=[]\n",
    "    for i in range(int(input())):\n",
    "        name=input()\n",
    "        score=float(input())\n",
    "        list1.append([score, name])\n",
    "    print(list1)\n",
    "    dict1=dict(list1)\n",
    "    l2=list(dict1.keys())\n",
    "    l2.sort()\n",
    "    print(dict1[l2[1]])\n",
    "    print(dict1[l2[2]])\n",
    "    "
   ]
  },
  {
   "cell_type": "code",
   "execution_count": 30,
   "id": "16e27f1d",
   "metadata": {},
   "outputs": [
    {
     "data": {
      "text/plain": [
       "123.0"
      ]
     },
     "execution_count": 30,
     "metadata": {},
     "output_type": "execute_result"
    }
   ],
   "source": [
    "list1[0][1]"
   ]
  },
  {
   "cell_type": "code",
   "execution_count": 42,
   "id": "923d30a8",
   "metadata": {},
   "outputs": [
    {
     "name": "stdout",
     "output_type": "stream",
     "text": [
      "None\n"
     ]
    }
   ],
   "source": [
    "print(list1[:3].sort())"
   ]
  },
  {
   "cell_type": "code",
   "execution_count": 44,
   "id": "326240db",
   "metadata": {},
   "outputs": [
    {
     "data": {
      "text/plain": [
       "[['jkjkjkj', 123.0], ['ewkk', 12.0], ['lsdgfjlj', 57.0]]"
      ]
     },
     "execution_count": 44,
     "metadata": {},
     "output_type": "execute_result"
    }
   ],
   "source": [
    "123 in list1"
   ]
  },
  {
   "cell_type": "code",
   "execution_count": 45,
   "id": "2d7bb488",
   "metadata": {},
   "outputs": [
    {
     "data": {
      "text/plain": [
       "False"
      ]
     },
     "execution_count": 45,
     "metadata": {},
     "output_type": "execute_result"
    }
   ],
   "source": [
    "123 in list1"
   ]
  },
  {
   "cell_type": "code",
   "execution_count": 46,
   "id": "066ff862",
   "metadata": {},
   "outputs": [],
   "source": [
    "dict1=dict(list1)"
   ]
  },
  {
   "cell_type": "code",
   "execution_count": 47,
   "id": "39608806",
   "metadata": {},
   "outputs": [
    {
     "data": {
      "text/plain": [
       "{'jkjkjkj': 123.0, 'ewkk': 12.0, 'lsdgfjlj': 57.0}"
      ]
     },
     "execution_count": 47,
     "metadata": {},
     "output_type": "execute_result"
    }
   ],
   "source": [
    "dict1"
   ]
  },
  {
   "cell_type": "code",
   "execution_count": 54,
   "id": "361bb80e",
   "metadata": {},
   "outputs": [
    {
     "ename": "AttributeError",
     "evalue": "'dict_keys' object has no attribute 'sort'",
     "output_type": "error",
     "traceback": [
      "\u001b[1;31m---------------------------------------------------------------------------\u001b[0m",
      "\u001b[1;31mAttributeError\u001b[0m                            Traceback (most recent call last)",
      "Input \u001b[1;32mIn [54]\u001b[0m, in \u001b[0;36m<cell line: 1>\u001b[1;34m()\u001b[0m\n\u001b[1;32m----> 1\u001b[0m \u001b[43mdict1\u001b[49m\u001b[38;5;241;43m.\u001b[39;49m\u001b[43mkeys\u001b[49m\u001b[43m(\u001b[49m\u001b[43m)\u001b[49m\u001b[38;5;241;43m.\u001b[39;49m\u001b[43msort\u001b[49m()\n",
      "\u001b[1;31mAttributeError\u001b[0m: 'dict_keys' object has no attribute 'sort'"
     ]
    }
   ],
   "source": [
    "dict1.keys().sort()"
   ]
  },
  {
   "cell_type": "code",
   "execution_count": 55,
   "id": "a423f6d7",
   "metadata": {},
   "outputs": [],
   "source": [
    "l2=list(dict1.keys())"
   ]
  },
  {
   "cell_type": "code",
   "execution_count": 57,
   "id": "9dfe1b44",
   "metadata": {},
   "outputs": [],
   "source": [
    "l2.sort()"
   ]
  },
  {
   "cell_type": "code",
   "execution_count": 58,
   "id": "f8f33a22",
   "metadata": {},
   "outputs": [
    {
     "data": {
      "text/plain": [
       "['ewkk', 'jkjkjkj', 'lsdgfjlj']"
      ]
     },
     "execution_count": 58,
     "metadata": {},
     "output_type": "execute_result"
    }
   ],
   "source": [
    "l2"
   ]
  },
  {
   "cell_type": "code",
   "execution_count": null,
   "id": "38dd50a7",
   "metadata": {},
   "outputs": [],
   "source": [
    "d2=dict1.keys"
   ]
  },
  {
   "cell_type": "code",
   "execution_count": 60,
   "id": "e70e61af",
   "metadata": {},
   "outputs": [
    {
     "name": "stdout",
     "output_type": "stream",
     "text": [
      "123.0\n"
     ]
    }
   ],
   "source": [
    "print(dict1[l2[1]])"
   ]
  },
  {
   "cell_type": "code",
   "execution_count": 65,
   "id": "9c850355",
   "metadata": {},
   "outputs": [],
   "source": [
    "index = dict1.fromkeys('ewkk')"
   ]
  },
  {
   "cell_type": "code",
   "execution_count": 66,
   "id": "6559d5e8",
   "metadata": {},
   "outputs": [
    {
     "data": {
      "text/plain": [
       "{'e': None, 'w': None, 'k': None}"
      ]
     },
     "execution_count": 66,
     "metadata": {},
     "output_type": "execute_result"
    }
   ],
   "source": [
    "index"
   ]
  },
  {
   "cell_type": "code",
   "execution_count": 62,
   "id": "256dc3c4",
   "metadata": {},
   "outputs": [
    {
     "ename": "NameError",
     "evalue": "name 'dic' is not defined",
     "output_type": "error",
     "traceback": [
      "\u001b[1;31m---------------------------------------------------------------------------\u001b[0m",
      "\u001b[1;31mNameError\u001b[0m                                 Traceback (most recent call last)",
      "Input \u001b[1;32mIn [62]\u001b[0m, in \u001b[0;36m<cell line: 1>\u001b[1;34m()\u001b[0m\n\u001b[1;32m----> 1\u001b[0m value \u001b[38;5;241m=\u001b[39m {i \u001b[38;5;28;01mfor\u001b[39;00m i \u001b[38;5;129;01min\u001b[39;00m dict1 \u001b[38;5;28;01mif\u001b[39;00m dic[i]\u001b[38;5;241m==\u001b[39m\u001b[38;5;124m\"\u001b[39m\u001b[38;5;124m123.0\u001b[39m\u001b[38;5;124m\"\u001b[39m}\n",
      "Input \u001b[1;32mIn [62]\u001b[0m, in \u001b[0;36m<setcomp>\u001b[1;34m(.0)\u001b[0m\n\u001b[1;32m----> 1\u001b[0m value \u001b[38;5;241m=\u001b[39m {i \u001b[38;5;28;01mfor\u001b[39;00m i \u001b[38;5;129;01min\u001b[39;00m dict1 \u001b[38;5;28;01mif\u001b[39;00m \u001b[43mdic\u001b[49m[i]\u001b[38;5;241m==\u001b[39m\u001b[38;5;124m\"\u001b[39m\u001b[38;5;124m123.0\u001b[39m\u001b[38;5;124m\"\u001b[39m}\n",
      "\u001b[1;31mNameError\u001b[0m: name 'dic' is not defined"
     ]
    }
   ],
   "source": [
    "value = {i for i in dict1 if dic[i]==\"123.0\"}"
   ]
  },
  {
   "cell_type": "code",
   "execution_count": 100,
   "id": "55ee17c2",
   "metadata": {},
   "outputs": [
    {
     "name": "stdout",
     "output_type": "stream",
     "text": [
      "5\n",
      "hkfshs\n",
      "99789\n",
      "aslak\n",
      "21\n",
      "kj;gkjd\n",
      "7\n",
      "kokndb\n",
      "21\n",
      "jlkjglk\n",
      "6\n",
      "aslak\n",
      "kj;gkjd\n",
      "kokndb\n"
     ]
    }
   ],
   "source": [
    "if __name__ == '__main__':\n",
    "    #name=[]\n",
    "    #score=[]\n",
    "    list1=[]\n",
    "    for i in range(int(input())):\n",
    "        name=input()\n",
    "        score=float(input())\n",
    "        list1.append([name, score])\n",
    "    #print(list1)\n",
    "    dict1=dict(list1)\n",
    "    l2=list(dict1.values())\n",
    "    l2.sort()\n",
    "    l3=list(dict1.values())\n",
    "    l4=list(dict1.keys())\n",
    "    for i in range(len(l3)): \n",
    "        if l2[1]==l3[i]:\n",
    "            print(l4[i])\n",
    "        if l2[2]==l3[i]:\n",
    "            print(l4[i])\n",
    "    #print(dict1[l2[1]])\n",
    "    #print(dict1[l2[2]])"
   ]
  },
  {
   "cell_type": "code",
   "execution_count": 96,
   "id": "139a8a4c",
   "metadata": {},
   "outputs": [
    {
     "data": {
      "text/plain": [
       "[6.0, 12.0, 2425.0]"
      ]
     },
     "execution_count": 96,
     "metadata": {},
     "output_type": "execute_result"
    }
   ],
   "source": [
    "l2"
   ]
  },
  {
   "cell_type": "code",
   "execution_count": 75,
   "id": "5df7cb1c",
   "metadata": {},
   "outputs": [
    {
     "ename": "KeyError",
     "evalue": "True",
     "output_type": "error",
     "traceback": [
      "\u001b[1;31m---------------------------------------------------------------------------\u001b[0m",
      "\u001b[1;31mKeyError\u001b[0m                                  Traceback (most recent call last)",
      "Input \u001b[1;32mIn [75]\u001b[0m, in \u001b[0;36m<cell line: 1>\u001b[1;34m()\u001b[0m\n\u001b[1;32m----> 1\u001b[0m \u001b[43mdict1\u001b[49m\u001b[43m[\u001b[49m\u001b[43ml2\u001b[49m\u001b[43m[\u001b[49m\u001b[38;5;241;43m1\u001b[39;49m\u001b[43m]\u001b[49m\u001b[43m \u001b[49m\u001b[38;5;129;43;01min\u001b[39;49;00m\u001b[43m \u001b[49m\u001b[43mdict1\u001b[49m\u001b[38;5;241;43m.\u001b[39;49m\u001b[43mvalues\u001b[49m\u001b[43m(\u001b[49m\u001b[43m)\u001b[49m\u001b[43m]\u001b[49m\n",
      "\u001b[1;31mKeyError\u001b[0m: True"
     ]
    }
   ],
   "source": [
    "dict1[l2[1] in dict1.values()]"
   ]
  },
  {
   "cell_type": "code",
   "execution_count": 82,
   "id": "15840bec",
   "metadata": {},
   "outputs": [],
   "source": [
    "val=list(dict1.values())"
   ]
  },
  {
   "cell_type": "code",
   "execution_count": 83,
   "id": "4c91f8d7",
   "metadata": {},
   "outputs": [
    {
     "ename": "TypeError",
     "evalue": "'dict' object is not callable",
     "output_type": "error",
     "traceback": [
      "\u001b[1;31m---------------------------------------------------------------------------\u001b[0m",
      "\u001b[1;31mTypeError\u001b[0m                                 Traceback (most recent call last)",
      "Input \u001b[1;32mIn [83]\u001b[0m, in \u001b[0;36m<cell line: 1>\u001b[1;34m()\u001b[0m\n\u001b[0;32m      1\u001b[0m \u001b[38;5;28;01mif\u001b[39;00m l2[\u001b[38;5;241m1\u001b[39m] \u001b[38;5;129;01min\u001b[39;00m dict1\u001b[38;5;241m.\u001b[39mvalues():\n\u001b[1;32m----> 2\u001b[0m     ind\u001b[38;5;241m=\u001b[39m\u001b[43mindex\u001b[49m\u001b[43m(\u001b[49m\u001b[43mval\u001b[49m\u001b[43m)\u001b[49m\n",
      "\u001b[1;31mTypeError\u001b[0m: 'dict' object is not callable"
     ]
    }
   ],
   "source": [
    "if l2[1] in dict1.values():\n",
    "    ind=index(val)"
   ]
  },
  {
   "cell_type": "code",
   "execution_count": 88,
   "id": "e7e69d67",
   "metadata": {},
   "outputs": [],
   "source": [
    "dict1={\"ram\":323, \"fggg\":345.0,\"hjfjgfhgd\":68}"
   ]
  },
  {
   "cell_type": "code",
   "execution_count": 89,
   "id": "a63fe698",
   "metadata": {},
   "outputs": [
    {
     "data": {
      "text/plain": [
       "{'ram': 323, 'fggg': 345.0, 'hjfjgfhgd': 68}"
      ]
     },
     "execution_count": 89,
     "metadata": {},
     "output_type": "execute_result"
    }
   ],
   "source": [
    "dict1"
   ]
  },
  {
   "cell_type": "code",
   "execution_count": 90,
   "id": "3d49c05e",
   "metadata": {},
   "outputs": [],
   "source": [
    "    #dict1=dict(list1)\n",
    "l2=list(dict1.values())\n",
    "l2.sort()"
   ]
  },
  {
   "cell_type": "code",
   "execution_count": 91,
   "id": "82f73ff8",
   "metadata": {},
   "outputs": [],
   "source": [
    "l3=list(dict1.values())\n",
    "l4=list(dict1.keys())"
   ]
  },
  {
   "cell_type": "code",
   "execution_count": 92,
   "id": "9bea4700",
   "metadata": {},
   "outputs": [],
   "source": []
  },
  {
   "cell_type": "code",
   "execution_count": 94,
   "id": "8b329a8c",
   "metadata": {},
   "outputs": [
    {
     "name": "stdout",
     "output_type": "stream",
     "text": [
      "fggg\n"
     ]
    }
   ],
   "source": [
    "for i in range(len(l3)): \n",
    "    if 345.0==l3[i]:\n",
    "        print(l4[i])"
   ]
  },
  {
   "cell_type": "code",
   "execution_count": 41,
   "id": "9e4f658e",
   "metadata": {},
   "outputs": [
    {
     "name": "stdout",
     "output_type": "stream",
     "text": [
      "5\n",
      "fghgfg\n",
      "6768\n",
      "jgfgfgxd\n",
      "23\n",
      "aabh\n",
      "23\n",
      "jnjnjn\n",
      "6767\n",
      "fcfhch\n",
      "7\n",
      "jgfgfgxd\n",
      "aabh\n"
     ]
    }
   ],
   "source": [
    "if __name__ == '__main__':\n",
    "    #name=[]\n",
    "    #score=[]\n",
    "    list1=[]\n",
    "    for i in range(int(input())):\n",
    "        name=input()\n",
    "        score=float(input())\n",
    "        list1.append([name, score])\n",
    "    #print(list1)\n",
    "    l5=[]\n",
    "    dict1=dict(list1)\n",
    "    l2=list(dict1.values())\n",
    "    l2=sorted(l2)\n",
    "    l3=list(dict1.values())\n",
    "    l4=list(dict1.keys())\n",
    "    list2=[]\n",
    "    temp1 = l2[1]\n",
    "    temp2 = l2[2]\n",
    "    for i in range(len(l3)): \n",
    "        if temp1==l3[i] or temp2==l3[i]:\n",
    "            list2.append(l4[i])\n",
    "    l5=list2\n",
    "    #l5=sorted(l5)\n",
    "    j=0\n",
    "    l6=[]\n",
    "    while j <len(l5):\n",
    "        if j+1<len(l5):\n",
    "            if l5[j]==l5[j+1]:\n",
    "            \n",
    "                l6=sorted([l5[j],l5[j+1]])\n",
    "                for i in l6:\n",
    "                    print(l5[j])\n",
    "                    break\n",
    "            else:\n",
    "                print(l5[j])\n",
    "        else:\n",
    "            print(l5[j])\n",
    "        if j==2:\n",
    "            break\n",
    "\n",
    "        j=j+1\n",
    "        \n",
    "    #print(dict1[l2[1]])\n",
    "    #print(dict1[l2[2]])\n",
    "    "
   ]
  },
  {
   "cell_type": "code",
   "execution_count": 51,
   "id": "59ec72c9",
   "metadata": {},
   "outputs": [
    {
     "data": {
      "text/plain": [
       "[23.0, 23.0, 56.0, 686.0, 6565.0]"
      ]
     },
     "execution_count": 51,
     "metadata": {},
     "output_type": "execute_result"
    }
   ],
   "source": [
    "l2"
   ]
  },
  {
   "cell_type": "code",
   "execution_count": 58,
   "id": "9715cb69",
   "metadata": {},
   "outputs": [
    {
     "data": {
      "text/plain": [
       "['fhfdgsd', 'jnkjkj', 'sdxhgh2', 'adsafsd', 'hhghg']"
      ]
     },
     "execution_count": 58,
     "metadata": {},
     "output_type": "execute_result"
    }
   ],
   "source": [
    "l4"
   ]
  },
  {
   "cell_type": "code",
   "execution_count": 59,
   "id": "02274ed3",
   "metadata": {},
   "outputs": [],
   "source": [
    "l6=sorted(l4)"
   ]
  },
  {
   "cell_type": "code",
   "execution_count": 62,
   "id": "fa0553e9",
   "metadata": {},
   "outputs": [
    {
     "data": {
      "text/plain": [
       "[1, 2, 1, 3, 5, 7]"
      ]
     },
     "execution_count": 62,
     "metadata": {},
     "output_type": "execute_result"
    }
   ],
   "source": [
    "l4"
   ]
  },
  {
   "cell_type": "code",
   "execution_count": 61,
   "id": "29d57968",
   "metadata": {},
   "outputs": [],
   "source": [
    "l4=[1,2,1,3,5,7]"
   ]
  },
  {
   "cell_type": "code",
   "execution_count": 24,
   "id": "3c02ff3d",
   "metadata": {},
   "outputs": [
    {
     "name": "stdout",
     "output_type": "stream",
     "text": [
      "[2, 1]\n"
     ]
    }
   ],
   "source": [
    "print(l5[1:3])"
   ]
  },
  {
   "cell_type": "code",
   "execution_count": 15,
   "id": "fe4c140a",
   "metadata": {},
   "outputs": [
    {
     "name": "stdout",
     "output_type": "stream",
     "text": [
      "2\n",
      "3\n"
     ]
    }
   ],
   "source": [
    "j=1\n",
    "while j in range(3):\n",
    "    print(l5[j])\n",
    "\n",
    "    if j==2:\n",
    "        break\n",
    "    j=j+1"
   ]
  },
  {
   "cell_type": "code",
   "execution_count": 25,
   "id": "1867ff24",
   "metadata": {},
   "outputs": [],
   "source": [
    "l5.sort()"
   ]
  },
  {
   "cell_type": "code",
   "execution_count": 26,
   "id": "dc5468d2",
   "metadata": {},
   "outputs": [
    {
     "data": {
      "text/plain": [
       "[1, 1, 2, 3, 5, 7]"
      ]
     },
     "execution_count": 26,
     "metadata": {},
     "output_type": "execute_result"
    }
   ],
   "source": [
    "l5"
   ]
  },
  {
   "cell_type": "code",
   "execution_count": 65,
   "id": "eea7e61c",
   "metadata": {},
   "outputs": [
    {
     "name": "stdout",
     "output_type": "stream",
     "text": [
      "5\n",
      "kghg\n",
      "767\n",
      "axc\n",
      "78\n",
      "jhu\n",
      "23\n",
      "asasd\n",
      "23\n",
      "njkmhkj\n",
      "6\n",
      "asasd\n",
      "jhu\n"
     ]
    }
   ],
   "source": [
    "if __name__ == '__main__':\n",
    "    #name=[]\n",
    "    #score=[]\n",
    "    list1=[]\n",
    "    for i in range(int(input())):\n",
    "        name=input()\n",
    "        score=float(input())\n",
    "        list1.append([name, score])\n",
    "    #print(list1)\n",
    "    l5=[]\n",
    "    dict1=dict(list1)\n",
    "    l2=list(dict1.values())\n",
    "    l2=sorted(l2)\n",
    "    l3=list(dict1.values())\n",
    "    l4=list(dict1.keys())\n",
    "    list2=[]\n",
    "    temp1 = l2[1]\n",
    "    temp2 = l2[2]\n",
    "    pos=[]\n",
    "    for i in range(len(l3)): \n",
    "        if temp1==l3[i] or temp2==l3[i]:\n",
    "            list2.append(l4[i])\n",
    "            pos.append(i)\n",
    "    l5=list2\n",
    "    #l5=sorted(l5)\n",
    "    #j=0\n",
    "    l6=[]\n",
    "    \n",
    "    if l3[pos[0]]==l3[pos[1]]:\n",
    "        l6=sorted(l5)\n",
    "        print(l6[0])\n",
    "        print(l6[1])\n",
    "    else:\n",
    "        print(l4[pos[0]])\n",
    "        print(l4[pos[1]])"
   ]
  },
  {
   "cell_type": "code",
   "execution_count": 50,
   "id": "0fc207bb",
   "metadata": {},
   "outputs": [
    {
     "data": {
      "text/plain": [
       "[]"
      ]
     },
     "execution_count": 50,
     "metadata": {},
     "output_type": "execute_result"
    }
   ],
   "source": [
    "l6"
   ]
  },
  {
   "cell_type": "code",
   "execution_count": 1,
   "id": "5c6c6281",
   "metadata": {},
   "outputs": [
    {
     "name": "stdout",
     "output_type": "stream",
     "text": [
      "kadhkashkdjzshj\n"
     ]
    }
   ],
   "source": [
    "s2=input()"
   ]
  },
  {
   "cell_type": "code",
   "execution_count": 8,
   "id": "8a71932c",
   "metadata": {},
   "outputs": [
    {
     "data": {
      "text/plain": [
       "'kadhkashkd'"
      ]
     },
     "execution_count": 8,
     "metadata": {},
     "output_type": "execute_result"
    }
   ],
   "source": [
    "s2[:10]"
   ]
  },
  {
   "cell_type": "code",
   "execution_count": null,
   "id": "23a0969d",
   "metadata": {},
   "outputs": [],
   "source": []
  },
  {
   "cell_type": "code",
   "execution_count": 16,
   "id": "398cd5a8",
   "metadata": {},
   "outputs": [],
   "source": [
    "a=\"This is a string\""
   ]
  },
  {
   "cell_type": "code",
   "execution_count": 17,
   "id": "d42bcc1b",
   "metadata": {},
   "outputs": [],
   "source": [
    "s = a.split(\" \")"
   ]
  },
  {
   "cell_type": "code",
   "execution_count": 18,
   "id": "13fda767",
   "metadata": {},
   "outputs": [
    {
     "data": {
      "text/plain": [
       "'This is a string'"
      ]
     },
     "execution_count": 18,
     "metadata": {},
     "output_type": "execute_result"
    }
   ],
   "source": [
    "a"
   ]
  },
  {
   "cell_type": "code",
   "execution_count": 21,
   "id": "eaf114b8",
   "metadata": {},
   "outputs": [
    {
     "data": {
      "text/plain": [
       "['This', 'is', 'a', 'string']"
      ]
     },
     "execution_count": 21,
     "metadata": {},
     "output_type": "execute_result"
    }
   ],
   "source": [
    "s"
   ]
  },
  {
   "cell_type": "code",
   "execution_count": 23,
   "id": "dfcbe40a",
   "metadata": {},
   "outputs": [
    {
     "name": "stdout",
     "output_type": "stream",
     "text": [
      "This-is-a-string\n"
     ]
    }
   ],
   "source": [
    "a = \"-\".join(s)\n",
    "print(a)"
   ]
  },
  {
   "cell_type": "code",
   "execution_count": null,
   "id": "9de2f31b",
   "metadata": {},
   "outputs": [],
   "source": [
    "def mutate_string(string, position, character):\n",
    "    string = input()\n",
    "    s=input().split(\" \")\n",
    "    position=s[0]\n",
    "    position=int(position)\n",
    "    character=s[1]\n",
    "    #character=character[0]\n",
    "    s1=string[:position] + character + string[position+1:]\n",
    "    return s1\n",
    "\n",
    "if __name__ == '__main__':\n",
    "    s = input()\n",
    "    i, c = input().split()\n",
    "    s_new = mutate_string(s, int(i), c)\n",
    "    print(s_new)"
   ]
  },
  {
   "cell_type": "code",
   "execution_count": 27,
   "id": "15bc7d40",
   "metadata": {},
   "outputs": [
    {
     "name": "stdout",
     "output_type": "stream",
     "text": [
      "This is a string \n",
      "is\n",
      "0\n"
     ]
    }
   ],
   "source": [
    "def count_substring(string, sub_string):\n",
    "    string=string.lower()\n",
    "    sub_string=sub_string.lower()\n",
    "    c=0\n",
    "    for i in string:\n",
    "        for j in range(len(i)):           \n",
    "            if sub_string==i[j:j+len(sub_string)]:\n",
    "                c=c+1\n",
    "    return c\n",
    "\n",
    "if __name__ == '__main__':\n",
    "    string = input().strip()\n",
    "    sub_string = input().strip()\n",
    "    \n",
    "    count = count_substring(string, sub_string)\n",
    "    print(count)"
   ]
  },
  {
   "cell_type": "code",
   "execution_count": 39,
   "id": "e3a12c5b",
   "metadata": {},
   "outputs": [],
   "source": [
    "string=\"This is a string \""
   ]
  },
  {
   "cell_type": "code",
   "execution_count": 40,
   "id": "641cd1e9",
   "metadata": {},
   "outputs": [],
   "source": [
    "string=string.strip()"
   ]
  },
  {
   "cell_type": "code",
   "execution_count": 41,
   "id": "67f89627",
   "metadata": {},
   "outputs": [],
   "source": [
    "list1=string.split(\" \")"
   ]
  },
  {
   "cell_type": "code",
   "execution_count": 42,
   "id": "937d242b",
   "metadata": {},
   "outputs": [
    {
     "data": {
      "text/plain": [
       "['This', 'is', 'a', 'string']"
      ]
     },
     "execution_count": 42,
     "metadata": {},
     "output_type": "execute_result"
    }
   ],
   "source": [
    "list1"
   ]
  },
  {
   "cell_type": "code",
   "execution_count": 43,
   "id": "f49452c8",
   "metadata": {},
   "outputs": [
    {
     "data": {
      "text/plain": [
       "['This', 'is', 'a', 'string']"
      ]
     },
     "execution_count": 43,
     "metadata": {},
     "output_type": "execute_result"
    }
   ],
   "source": [
    "[i for i in list1]"
   ]
  },
  {
   "cell_type": "code",
   "execution_count": null,
   "id": "13fbf91c",
   "metadata": {},
   "outputs": [],
   "source": [
    "string"
   ]
  },
  {
   "cell_type": "code",
   "execution_count": null,
   "id": "4a6e9ba5",
   "metadata": {},
   "outputs": [],
   "source": [
    "string=string.strip()"
   ]
  },
  {
   "cell_type": "code",
   "execution_count": 44,
   "id": "5fc82d78",
   "metadata": {},
   "outputs": [],
   "source": [
    "sub_string=\"is\""
   ]
  },
  {
   "cell_type": "code",
   "execution_count": 45,
   "id": "cda8fd4a",
   "metadata": {},
   "outputs": [],
   "source": [
    "c=0"
   ]
  },
  {
   "cell_type": "code",
   "execution_count": 46,
   "id": "ecee7c3c",
   "metadata": {},
   "outputs": [
    {
     "name": "stdout",
     "output_type": "stream",
     "text": [
      "yes\n",
      "yes\n"
     ]
    }
   ],
   "source": [
    "for i in list1:\n",
    "    for j in range(len(i)):           \n",
    "        if sub_string==i[j:j+len(sub_string)]:\n",
    "            c=c+1\n",
    "            print(\"yes\")"
   ]
  },
  {
   "cell_type": "code",
   "execution_count": null,
   "id": "3cc71df9",
   "metadata": {},
   "outputs": [],
   "source": []
  },
  {
   "cell_type": "code",
   "execution_count": 54,
   "id": "70c93015",
   "metadata": {},
   "outputs": [
    {
     "name": "stdout",
     "output_type": "stream",
     "text": [
      "jxkfh\n",
      "True\n"
     ]
    }
   ],
   "source": [
    "if __name__ == '__main__':\n",
    "    s = input()\n",
    "    print(s.isalnum())"
   ]
  },
  {
   "cell_type": "code",
   "execution_count": 68,
   "id": "807c65ba",
   "metadata": {},
   "outputs": [],
   "source": [
    "s=\"KAN\""
   ]
  },
  {
   "cell_type": "code",
   "execution_count": 71,
   "id": "c9a70fe2",
   "metadata": {},
   "outputs": [],
   "source": [
    "c=[\"\"]"
   ]
  },
  {
   "cell_type": "code",
   "execution_count": 72,
   "id": "6dea2112",
   "metadata": {},
   "outputs": [
    {
     "data": {
      "text/plain": [
       "True"
      ]
     },
     "execution_count": 72,
     "metadata": {},
     "output_type": "execute_result"
    }
   ],
   "source": [
    "s.isalpha()\n",
    "s.isdigit()\n",
    "s.islower()\n",
    "s.isupper()"
   ]
  },
  {
   "cell_type": "code",
   "execution_count": 73,
   "id": "52305f00",
   "metadata": {},
   "outputs": [],
   "source": [
    "if i.isalnum():\n",
    "    c[0]=\"True\""
   ]
  },
  {
   "cell_type": "code",
   "execution_count": 75,
   "id": "6ada173d",
   "metadata": {},
   "outputs": [
    {
     "data": {
      "text/plain": [
       "'True'"
      ]
     },
     "execution_count": 75,
     "metadata": {},
     "output_type": "execute_result"
    }
   ],
   "source": [
    "c[0]\n"
   ]
  },
  {
   "cell_type": "code",
   "execution_count": 66,
   "id": "700b2075",
   "metadata": {},
   "outputs": [
    {
     "data": {
      "text/plain": [
       "True"
      ]
     },
     "execution_count": 66,
     "metadata": {},
     "output_type": "execute_result"
    }
   ],
   "source": []
  },
  {
   "cell_type": "code",
   "execution_count": 78,
   "id": "957eca1a",
   "metadata": {},
   "outputs": [
    {
     "name": "stdout",
     "output_type": "stream",
     "text": [
      "hfkjs\n",
      "True\n",
      "True\n",
      "False\n",
      "True\n",
      "False\n"
     ]
    }
   ],
   "source": [
    "if __name__ == '__main__':\n",
    "    s = input()\n",
    "    c=[\"\",\"\",\"\",\"\",\"\"]\n",
    "    #s=s.split(\"\")\n",
    "    for i in s:\n",
    "        if i.isalnum():\n",
    "            c[0]=\"True\"\n",
    "        if i.isalpha():\n",
    "            c[1]=\"True\"\n",
    "        if i.isdigit():\n",
    "            c[2]=\"True\"\n",
    "        if i.islower():\n",
    "            c[3]=\"True\"\n",
    "        if i.isupper():\n",
    "            c[4]=\"True\"\n",
    "    for i in range(5):\n",
    "        if c[i]==\"True\":\n",
    "            print(\"True\")\n",
    "        else:\n",
    "            print(\"False\")\n",
    "            "
   ]
  },
  {
   "cell_type": "code",
   "execution_count": 80,
   "id": "f955fac9",
   "metadata": {},
   "outputs": [
    {
     "name": "stdout",
     "output_type": "stream",
     "text": [
      "4\n",
      "2\n",
      "2\n",
      "0\n",
      "(2, 0)\n"
     ]
    }
   ],
   "source": [
    "a=int(input())\n",
    "b=int(input())\n",
    "\n",
    "c=round(a//b)\n",
    "d=a%b\n",
    "print(c)\n",
    "print(d)\n",
    "\n",
    "print(tuple([c, d]))"
   ]
  },
  {
   "cell_type": "code",
   "execution_count": 81,
   "id": "f48851d2",
   "metadata": {},
   "outputs": [],
   "source": [
    "import math"
   ]
  },
  {
   "cell_type": "code",
   "execution_count": null,
   "id": "de2f322b",
   "metadata": {},
   "outputs": [],
   "source": [
    "math.pow()"
   ]
  },
  {
   "cell_type": "code",
   "execution_count": 88,
   "id": "854aef3b",
   "metadata": {},
   "outputs": [
    {
     "name": "stdout",
     "output_type": "stream",
     "text": [
      "2\n",
      "5\n",
      "5\n",
      "32\n",
      "2\n"
     ]
    }
   ],
   "source": [
    "import math\n",
    "a=int(input())\n",
    "b=int(input())\n",
    "m=int(input())\n",
    "\n",
    "c=pow(a,b)\n",
    "d=pow(a,b,m)  \n",
    "print(c)\n",
    "print(d)\n",
    "\n",
    "#print(tuple([c, d]))"
   ]
  },
  {
   "cell_type": "code",
   "execution_count": 100,
   "id": "c89a4d39",
   "metadata": {},
   "outputs": [],
   "source": [
    "l=[1, 3, 34, 45, 5]"
   ]
  },
  {
   "cell_type": "code",
   "execution_count": 101,
   "id": "67f53ac2",
   "metadata": {},
   "outputs": [
    {
     "name": "stdout",
     "output_type": "stream",
     "text": [
      "3\n",
      "34\n",
      "45\n",
      "5\n"
     ]
    }
   ],
   "source": [
    "for i in l[1:5]:\n",
    "    \n",
    "    print(i)"
   ]
  },
  {
   "cell_type": "code",
   "execution_count": 120,
   "id": "729bc9c5",
   "metadata": {},
   "outputs": [
    {
     "name": "stdout",
     "output_type": "stream",
     "text": [
      "5\n",
      "1\n",
      "22\n",
      "333\n",
      "4444\n"
     ]
    }
   ],
   "source": [
    "# Enter your code here. Read input from STDIN. Print output to STDOUT\n",
    "N=int(input())\n",
    "\n",
    "#str1=\"\"\n",
    "for i in range(N-1):\n",
    "    #print(i)\n",
    "    for j in range(i+1):\n",
    "        if j==i: \n",
    "            e=\"\\n\" \n",
    "        else:\n",
    "            e=\"\"\n",
    "        print(i+1, end=e)\n",
    "    #rint(str1)"
   ]
  },
  {
   "cell_type": "code",
   "execution_count": 1,
   "id": "1add7aca",
   "metadata": {},
   "outputs": [
    {
     "name": "stdout",
     "output_type": "stream",
     "text": [
      "5\n",
      "1\n",
      "22\n",
      "333\n",
      "4444\n"
     ]
    }
   ],
   "source": [
    "N=int(input())\n",
    "\n",
    "#str1=\"\"\n",
    "\n",
    "for i in range(N-1):\n",
    "    s1=\"\"\n",
    "    s1=str(i+1)*(i+1)\n",
    "    print(s1)"
   ]
  },
  {
   "cell_type": "code",
   "execution_count": 3,
   "id": "a36d20ad",
   "metadata": {},
   "outputs": [
    {
     "name": "stdout",
     "output_type": "stream",
     "text": [
      "7\n",
      "1\n",
      "22\n",
      "333\n",
      "4444\n",
      "55555\n",
      "666666\n"
     ]
    }
   ],
   "source": [
    "N=int(input())\n",
    "\n",
    "\"\"\"\n",
    "1\n",
    "22\n",
    "333\n",
    "4444\n",
    "1\n",
    "11\n",
    "111\n",
    "1111\n",
    "\n",
    "\"\"\"\n",
    "s1=0\n",
    "for i in range(N-1):\n",
    "    s1=s1*10+1\n",
    "    print(s1*(i+1))\n"
   ]
  },
  {
   "cell_type": "code",
   "execution_count": null,
   "id": "a7dc8f43",
   "metadata": {},
   "outputs": [],
   "source": [
    "N=int(input())\n",
    "s1=0\n",
    "for i in range(N-1):\n",
    "    s1=s1*10*10+1\n",
    "    print(s1*(i+1))\n",
    "    "
   ]
  },
  {
   "cell_type": "code",
   "execution_count": 4,
   "id": "d1de8b5c",
   "metadata": {},
   "outputs": [
    {
     "name": "stdout",
     "output_type": "stream",
     "text": [
      "5\n",
      "1\n",
      "22\n",
      "333\n",
      "4444\n"
     ]
    },
    {
     "data": {
      "text/plain": [
       "[None, None, None, None]"
      ]
     },
     "execution_count": 4,
     "metadata": {},
     "output_type": "execute_result"
    }
   ],
   "source": [
    "N,s1=int(input()),[1, 22, 333, 4444, 55555,666666, 7777777,88888888, 999999999]\n",
    "[print(s1[i]) for i in range(N-1)]"
   ]
  },
  {
   "cell_type": "code",
   "execution_count": 185,
   "id": "d1724a73",
   "metadata": {},
   "outputs": [],
   "source": [
    "i=\"ihfsjh\""
   ]
  },
  {
   "cell_type": "code",
   "execution_count": 157,
   "id": "af8ed75c",
   "metadata": {},
   "outputs": [
    {
     "ename": "AttributeError",
     "evalue": "'str' object has no attribute 'append'",
     "output_type": "error",
     "traceback": [
      "\u001b[1;31m---------------------------------------------------------------------------\u001b[0m",
      "\u001b[1;31mAttributeError\u001b[0m                            Traceback (most recent call last)",
      "Input \u001b[1;32mIn [157]\u001b[0m, in \u001b[0;36m<cell line: 1>\u001b[1;34m()\u001b[0m\n\u001b[1;32m----> 1\u001b[0m \u001b[43mi\u001b[49m\u001b[38;5;241;43m.\u001b[39;49m\u001b[43mappend\u001b[49m((i[\u001b[38;5;241m0\u001b[39m])\u001b[38;5;241m.\u001b[39mupper())\n",
      "\u001b[1;31mAttributeError\u001b[0m: 'str' object has no attribute 'append'"
     ]
    }
   ],
   "source": [
    "i.append((i[0]).upper())"
   ]
  },
  {
   "cell_type": "code",
   "execution_count": 188,
   "id": "e72b8778",
   "metadata": {},
   "outputs": [],
   "source": [
    "i=i.capitalize()"
   ]
  },
  {
   "cell_type": "code",
   "execution_count": 201,
   "id": "885b06eb",
   "metadata": {},
   "outputs": [],
   "source": [
    "j=i[0].upper()"
   ]
  },
  {
   "cell_type": "code",
   "execution_count": 217,
   "id": "946b575e",
   "metadata": {},
   "outputs": [
    {
     "data": {
      "text/plain": [
       "'Ihfsjh'"
      ]
     },
     "execution_count": 217,
     "metadata": {},
     "output_type": "execute_result"
    }
   ],
   "source": [
    "i.capitalize()"
   ]
  },
  {
   "cell_type": "code",
   "execution_count": 226,
   "id": "2230a4e5",
   "metadata": {},
   "outputs": [],
   "source": [
    "s=\"hello world can you see me?\"\n"
   ]
  },
  {
   "cell_type": "code",
   "execution_count": 219,
   "id": "cadea9ce",
   "metadata": {},
   "outputs": [],
   "source": [
    "s=s.split()"
   ]
  },
  {
   "cell_type": "code",
   "execution_count": 227,
   "id": "8c9fb4cb",
   "metadata": {},
   "outputs": [],
   "source": [
    "\n",
    "def solve(s):\n",
    "    s=s.split(\" \")\n",
    "    s1=\"\"\n",
    "    for i in s:\n",
    "        j=i.capitalize()\n",
    "        s1=s1+j+\" \"\n",
    "    s1=s1.strip()   \n",
    "    return s1\n"
   ]
  },
  {
   "cell_type": "code",
   "execution_count": 228,
   "id": "71414c83",
   "metadata": {},
   "outputs": [
    {
     "data": {
      "text/plain": [
       "'Hello World Can You See Me?'"
      ]
     },
     "execution_count": 228,
     "metadata": {},
     "output_type": "execute_result"
    }
   ],
   "source": [
    "solve(s)"
   ]
  },
  {
   "cell_type": "code",
   "execution_count": 287,
   "id": "a3c0c85a",
   "metadata": {},
   "outputs": [],
   "source": [
    "string=\"abcfjhgyighghj\""
   ]
  },
  {
   "cell_type": "code",
   "execution_count": 275,
   "id": "3c17b583",
   "metadata": {},
   "outputs": [],
   "source": [
    "import textwrap"
   ]
  },
  {
   "cell_type": "code",
   "execution_count": 301,
   "id": "1b77d0ae",
   "metadata": {},
   "outputs": [
    {
     "name": "stdout",
     "output_type": "stream",
     "text": [
      "kjsflkdhshnkdfjhk\n",
      "7\n",
      "kjsflkd\n",
      "hshnkdf\n",
      "jhk\n",
      "None\n"
     ]
    }
   ],
   "source": [
    "import textwrap\n",
    "\n",
    "def wrap(string, max_width):\n",
    "    t=\"\"\n",
    "    t1=string\n",
    "    k=0\n",
    "    j=max_width\n",
    "    \n",
    "    for i in range(len(string)):\n",
    "        t=textwrap.shorten(string[k:j], width=max_width, placeholder=\" \")\n",
    "        t1=t1.lstrip(t)\n",
    "\n",
    "        if j>len(string)+max_width:\n",
    "            break\n",
    "        k=k+max_width\n",
    "        j=j+max_width\n",
    "        print(t)\n",
    "    return \n",
    "    \n",
    "\n",
    "if __name__ == '__main__':\n",
    "    string, max_width = input(), int(input())\n",
    "    result = wrap(string, max_width)\n",
    "    print(result)"
   ]
  },
  {
   "cell_type": "code",
   "execution_count": 271,
   "id": "7fa87ccc",
   "metadata": {},
   "outputs": [
    {
     "data": {
      "text/plain": [
       "'abcfjhgyighghj'"
      ]
     },
     "execution_count": 271,
     "metadata": {},
     "output_type": "execute_result"
    }
   ],
   "source": [
    "string.lstrip(\"jh\")"
   ]
  },
  {
   "cell_type": "code",
   "execution_count": 278,
   "id": "84551631",
   "metadata": {},
   "outputs": [],
   "source": [
    "t1=string"
   ]
  },
  {
   "cell_type": "code",
   "execution_count": 284,
   "id": "a342dd53",
   "metadata": {},
   "outputs": [],
   "source": [
    "k=0\n",
    "j=4\n",
    "k=k+4\n",
    "j=j+4"
   ]
  },
  {
   "cell_type": "code",
   "execution_count": 285,
   "id": "b503cd7c",
   "metadata": {},
   "outputs": [],
   "source": [
    "t=textwrap.shorten(string[k:j], width=5)\n"
   ]
  },
  {
   "cell_type": "code",
   "execution_count": 286,
   "id": "38bd930d",
   "metadata": {},
   "outputs": [
    {
     "data": {
      "text/plain": [
       "'jhgy'"
      ]
     },
     "execution_count": 286,
     "metadata": {},
     "output_type": "execute_result"
    }
   ],
   "source": [
    "t"
   ]
  },
  {
   "cell_type": "code",
   "execution_count": 266,
   "id": "7e9fb626",
   "metadata": {},
   "outputs": [],
   "source": [
    "t1=t1.lstrip(\"abc\")"
   ]
  },
  {
   "cell_type": "code",
   "execution_count": 267,
   "id": "950bbef4",
   "metadata": {},
   "outputs": [
    {
     "data": {
      "text/plain": [
       "'fjhgyighghj'"
      ]
     },
     "execution_count": 267,
     "metadata": {},
     "output_type": "execute_result"
    }
   ],
   "source": [
    "t1"
   ]
  },
  {
   "cell_type": "code",
   "execution_count": 302,
   "id": "77478ab0",
   "metadata": {},
   "outputs": [
    {
     "name": "stdout",
     "output_type": "stream",
     "text": [
      "5\n",
      "Weird\n"
     ]
    }
   ],
   "source": [
    "if __name__ == '__main__':\n",
    "    n = int(input().strip())\n",
    "    if n%2==0:\n",
    "        if n in list(range(2,6)):\n",
    "            print(\"Not Weird\")\n",
    "        elif n in list(range(6,20)):\n",
    "            print(\"Weird\")\n",
    "        elif n in list(range(6,20)):\n",
    "            print(\"Weird\")\n",
    "    \n",
    "    print(\"Weird\")"
   ]
  },
  {
   "cell_type": "code",
   "execution_count": 321,
   "id": "e868d450",
   "metadata": {},
   "outputs": [
    {
     "name": "stdout",
     "output_type": "stream",
     "text": [
      "35\n",
      "Weird\n"
     ]
    }
   ],
   "source": [
    "if __name__ == '__main__':\n",
    "    n = int(input())\n",
    "    if n%2==0:\n",
    "        if n in range(2,6):\n",
    "            print(\"Not Weird\")\n",
    "        elif n in range(6,20):\n",
    "            print(\"Weird\")\n",
    "        elif n > 20:\n",
    "            print(\"Not Weird\")\n",
    "    elif n%2!=0:\n",
    "        print(\"Weird\")\n"
   ]
  },
  {
   "cell_type": "code",
   "execution_count": 307,
   "id": "a530c3e0",
   "metadata": {},
   "outputs": [
    {
     "ename": "SyntaxError",
     "evalue": "invalid syntax (707822094.py, line 1)",
     "output_type": "error",
     "traceback": [
      "\u001b[1;36m  Input \u001b[1;32mIn [307]\u001b[1;36m\u001b[0m\n\u001b[1;33m    [2:6]\u001b[0m\n\u001b[1;37m      ^\u001b[0m\n\u001b[1;31mSyntaxError\u001b[0m\u001b[1;31m:\u001b[0m invalid syntax\n"
     ]
    }
   ],
   "source": [
    "[2:6]"
   ]
  },
  {
   "cell_type": "code",
   "execution_count": 318,
   "id": "49c5575b",
   "metadata": {},
   "outputs": [],
   "source": [
    "i=range(2,6)"
   ]
  },
  {
   "cell_type": "code",
   "execution_count": 319,
   "id": "3e251d00",
   "metadata": {},
   "outputs": [
    {
     "data": {
      "text/plain": [
       "range(2, 6)"
      ]
     },
     "execution_count": 319,
     "metadata": {},
     "output_type": "execute_result"
    }
   ],
   "source": [
    "i"
   ]
  },
  {
   "cell_type": "code",
   "execution_count": 329,
   "id": "c13375c1",
   "metadata": {},
   "outputs": [
    {
     "name": "stdout",
     "output_type": "stream",
     "text": [
      "2\n",
      "jfdshj 24 35 46\n",
      "jhdsjh 34 63 74\n",
      "hfsjh 35 26 73\n",
      "{'jfdshj': <map object at 0x00000128E71C3430>, 'jhdsjh': <map object at 0x00000128E71C3D00>}\n",
      "hello world can you see me?\n"
     ]
    }
   ],
   "source": [
    "if __name__ == '__main__':\n",
    "    n = int(input())\n",
    "    student_marks = {}\n",
    "    scores=[]\n",
    "    for i in range(n):\n",
    "        name, *line = input().split(\" \")\n",
    "        scores = map(float, line)\n",
    "        student_marks[name] = scores\n",
    "    query_name = input()\n",
    "    print(student_marks)\n",
    "    #s=sum(student_marks[query_name])/3\n",
    "    print(s)"
   ]
  },
  {
   "cell_type": "code",
   "execution_count": 352,
   "id": "b569d1d1",
   "metadata": {},
   "outputs": [
    {
     "name": "stdout",
     "output_type": "stream",
     "text": [
      "1\n",
      "k 25 26.5 28\n",
      "k\n",
      "26.5\n"
     ]
    }
   ],
   "source": [
    "student_marks = {}\n",
    "scores=[]\n",
    "n = int(input())\n",
    "for i in range(n):\n",
    "    name, *line = input().split(\" \")\n",
    "    scores = map(float, line)\n",
    "    student_marks[name] = scores\n",
    "query_name = input()\n",
    "#ans=round(sum(student_marks[query_name])/3, 2)\n",
    "print(str(round(sum(student_marks[query_name])/3, 2)))"
   ]
  },
  {
   "cell_type": "code",
   "execution_count": 335,
   "id": "150d2369",
   "metadata": {},
   "outputs": [
    {
     "name": "stdout",
     "output_type": "stream",
     "text": [
      "ljsdjf 23 34 35\n"
     ]
    }
   ],
   "source": [
    "name, *line = input().split(\" \")\n",
    "scores =line"
   ]
  },
  {
   "cell_type": "code",
   "execution_count": 336,
   "id": "81396e19",
   "metadata": {},
   "outputs": [
    {
     "data": {
      "text/plain": [
       "['23', '34', '35']"
      ]
     },
     "execution_count": 336,
     "metadata": {},
     "output_type": "execute_result"
    }
   ],
   "source": [
    "line"
   ]
  },
  {
   "cell_type": "code",
   "execution_count": 337,
   "id": "c2e055f9",
   "metadata": {},
   "outputs": [
    {
     "data": {
      "text/plain": [
       "<map at 0x128e71807c0>"
      ]
     },
     "execution_count": 337,
     "metadata": {},
     "output_type": "execute_result"
    }
   ],
   "source": [
    "scores"
   ]
  },
  {
   "cell_type": "code",
   "execution_count": 338,
   "id": "48160de1",
   "metadata": {},
   "outputs": [
    {
     "data": {
      "text/plain": [
       "'ljsdjf'"
      ]
     },
     "execution_count": 338,
     "metadata": {},
     "output_type": "execute_result"
    }
   ],
   "source": [
    "name"
   ]
  },
  {
   "cell_type": "code",
   "execution_count": 353,
   "id": "51cf8605",
   "metadata": {},
   "outputs": [
    {
     "name": "stdout",
     "output_type": "stream",
     "text": [
      "2.6\n"
     ]
    }
   ],
   "source": [
    "print(round(2.60, 2))"
   ]
  },
  {
   "cell_type": "code",
   "execution_count": 356,
   "id": "b198825f",
   "metadata": {},
   "outputs": [
    {
     "name": "stdout",
     "output_type": "stream",
     "text": [
      "2.6\n",
      "2.6\n"
     ]
    }
   ],
   "source": [
    "import numpy as np\n",
    "\n",
    "print(round(2.600, 2))\n",
    "print(float(np.round(2.600, 2)))"
   ]
  },
  {
   "cell_type": "code",
   "execution_count": 357,
   "id": "c33b5a38",
   "metadata": {},
   "outputs": [],
   "source": [
    "Round = lambda x, n: eval('\"%.'+str(int(n))+'f\" % '+repr(int(x)+round(float('.'+str(float(x)).split('.')[1]),n)))"
   ]
  },
  {
   "cell_type": "code",
   "execution_count": 358,
   "id": "0d29aeb1",
   "metadata": {},
   "outputs": [
    {
     "name": "stdout",
     "output_type": "stream",
     "text": [
      "2.00\n"
     ]
    }
   ],
   "source": [
    "print(Round(2, 2))       # 2.00\n"
   ]
  },
  {
   "cell_type": "code",
   "execution_count": 378,
   "id": "f963560d",
   "metadata": {},
   "outputs": [
    {
     "name": "stdout",
     "output_type": "stream",
     "text": [
      "1\n",
      "3\n",
      "12 23 34\n",
      "4\n",
      "12 34 23 45\n",
      "True\n"
     ]
    }
   ],
   "source": [
    "t=int(input())\n",
    "for i in range(t):\n",
    "    n1=int(input())\n",
    "    a=map(int, input().split(\" \")[:n1])\n",
    "    n2=int(input())\n",
    "    b=map(int, input().split(\" \")[:n2])\n",
    "    a=set(a)\n",
    "    b=set(b)\n",
    "    l=len(a)\n",
    "    c=0\n",
    "    for i in a:\n",
    "        if len(a)<len(b):\n",
    "            if (i in b)== True:\n",
    "                c=c+1\n",
    "    if l==c:\n",
    "        print(\"True\")\n",
    "    else:\n",
    "        print(\"False\")"
   ]
  },
  {
   "cell_type": "code",
   "execution_count": 375,
   "id": "559e5a52",
   "metadata": {},
   "outputs": [],
   "source": [
    "i=1"
   ]
  },
  {
   "cell_type": "code",
   "execution_count": 368,
   "id": "2c983d74",
   "metadata": {},
   "outputs": [],
   "source": [
    "b={23, 1, 23, 45}"
   ]
  },
  {
   "cell_type": "code",
   "execution_count": 371,
   "id": "f58a7d70",
   "metadata": {},
   "outputs": [
    {
     "data": {
      "text/plain": [
       "4"
      ]
     },
     "execution_count": 371,
     "metadata": {},
     "output_type": "execute_result"
    }
   ],
   "source": [
    "len(b)"
   ]
  },
  {
   "cell_type": "code",
   "execution_count": 369,
   "id": "01cd14a3",
   "metadata": {},
   "outputs": [
    {
     "name": "stdout",
     "output_type": "stream",
     "text": [
      "y\n"
     ]
    }
   ],
   "source": [
    "if (i in b) == True:\n",
    "    print(\"y\")"
   ]
  },
  {
   "cell_type": "code",
   "execution_count": 362,
   "id": "e7cae31e",
   "metadata": {},
   "outputs": [
    {
     "data": {
      "text/plain": [
       "True"
      ]
     },
     "execution_count": 362,
     "metadata": {},
     "output_type": "execute_result"
    }
   ],
   "source": [
    "i in b"
   ]
  },
  {
   "cell_type": "code",
   "execution_count": 402,
   "id": "f37b62a5",
   "metadata": {},
   "outputs": [
    {
     "name": "stdout",
     "output_type": "stream",
     "text": [
      "4\n"
     ]
    },
    {
     "ename": "KeyboardInterrupt",
     "evalue": "Interrupted by user",
     "output_type": "error",
     "traceback": [
      "\u001b[1;31m---------------------------------------------------------------------------\u001b[0m",
      "\u001b[1;31mKeyboardInterrupt\u001b[0m                         Traceback (most recent call last)",
      "Input \u001b[1;32mIn [402]\u001b[0m, in \u001b[0;36m<cell line: 2>\u001b[1;34m()\u001b[0m\n\u001b[0;32m      1\u001b[0m x\u001b[38;5;241m=\u001b[39m\u001b[38;5;28mint\u001b[39m(\u001b[38;5;28minput\u001b[39m())\n\u001b[1;32m----> 2\u001b[0m l_shoe_size\u001b[38;5;241m=\u001b[39m\u001b[38;5;28mmap\u001b[39m(\u001b[38;5;28mint\u001b[39m, \u001b[38;5;28;43minput\u001b[39;49m\u001b[43m(\u001b[49m\u001b[43m)\u001b[49m\u001b[38;5;241m.\u001b[39msplit(\u001b[38;5;124m\"\u001b[39m\u001b[38;5;124m \u001b[39m\u001b[38;5;124m\"\u001b[39m))\n\u001b[0;32m      3\u001b[0m n\u001b[38;5;241m=\u001b[39m\u001b[38;5;28mint\u001b[39m(\u001b[38;5;28minput\u001b[39m())\n\u001b[0;32m      4\u001b[0m \u001b[38;5;28msum\u001b[39m\u001b[38;5;241m=\u001b[39m\u001b[38;5;241m0\u001b[39m\n",
      "File \u001b[1;32m~\\anaconda3\\lib\\site-packages\\ipykernel\\kernelbase.py:1075\u001b[0m, in \u001b[0;36mKernel.raw_input\u001b[1;34m(self, prompt)\u001b[0m\n\u001b[0;32m   1071\u001b[0m \u001b[38;5;28;01mif\u001b[39;00m \u001b[38;5;129;01mnot\u001b[39;00m \u001b[38;5;28mself\u001b[39m\u001b[38;5;241m.\u001b[39m_allow_stdin:\n\u001b[0;32m   1072\u001b[0m     \u001b[38;5;28;01mraise\u001b[39;00m StdinNotImplementedError(\n\u001b[0;32m   1073\u001b[0m         \u001b[38;5;124m\"\u001b[39m\u001b[38;5;124mraw_input was called, but this frontend does not support input requests.\u001b[39m\u001b[38;5;124m\"\u001b[39m\n\u001b[0;32m   1074\u001b[0m     )\n\u001b[1;32m-> 1075\u001b[0m \u001b[38;5;28;01mreturn\u001b[39;00m \u001b[38;5;28;43mself\u001b[39;49m\u001b[38;5;241;43m.\u001b[39;49m\u001b[43m_input_request\u001b[49m\u001b[43m(\u001b[49m\n\u001b[0;32m   1076\u001b[0m \u001b[43m    \u001b[49m\u001b[38;5;28;43mstr\u001b[39;49m\u001b[43m(\u001b[49m\u001b[43mprompt\u001b[49m\u001b[43m)\u001b[49m\u001b[43m,\u001b[49m\n\u001b[0;32m   1077\u001b[0m \u001b[43m    \u001b[49m\u001b[38;5;28;43mself\u001b[39;49m\u001b[38;5;241;43m.\u001b[39;49m\u001b[43m_parent_ident\u001b[49m\u001b[43m[\u001b[49m\u001b[38;5;124;43m\"\u001b[39;49m\u001b[38;5;124;43mshell\u001b[39;49m\u001b[38;5;124;43m\"\u001b[39;49m\u001b[43m]\u001b[49m\u001b[43m,\u001b[49m\n\u001b[0;32m   1078\u001b[0m \u001b[43m    \u001b[49m\u001b[38;5;28;43mself\u001b[39;49m\u001b[38;5;241;43m.\u001b[39;49m\u001b[43mget_parent\u001b[49m\u001b[43m(\u001b[49m\u001b[38;5;124;43m\"\u001b[39;49m\u001b[38;5;124;43mshell\u001b[39;49m\u001b[38;5;124;43m\"\u001b[39;49m\u001b[43m)\u001b[49m\u001b[43m,\u001b[49m\n\u001b[0;32m   1079\u001b[0m \u001b[43m    \u001b[49m\u001b[43mpassword\u001b[49m\u001b[38;5;241;43m=\u001b[39;49m\u001b[38;5;28;43;01mFalse\u001b[39;49;00m\u001b[43m,\u001b[49m\n\u001b[0;32m   1080\u001b[0m \u001b[43m\u001b[49m\u001b[43m)\u001b[49m\n",
      "File \u001b[1;32m~\\anaconda3\\lib\\site-packages\\ipykernel\\kernelbase.py:1120\u001b[0m, in \u001b[0;36mKernel._input_request\u001b[1;34m(self, prompt, ident, parent, password)\u001b[0m\n\u001b[0;32m   1117\u001b[0m             \u001b[38;5;28;01mbreak\u001b[39;00m\n\u001b[0;32m   1118\u001b[0m \u001b[38;5;28;01mexcept\u001b[39;00m \u001b[38;5;167;01mKeyboardInterrupt\u001b[39;00m:\n\u001b[0;32m   1119\u001b[0m     \u001b[38;5;66;03m# re-raise KeyboardInterrupt, to truncate traceback\u001b[39;00m\n\u001b[1;32m-> 1120\u001b[0m     \u001b[38;5;28;01mraise\u001b[39;00m \u001b[38;5;167;01mKeyboardInterrupt\u001b[39;00m(\u001b[38;5;124m\"\u001b[39m\u001b[38;5;124mInterrupted by user\u001b[39m\u001b[38;5;124m\"\u001b[39m) \u001b[38;5;28;01mfrom\u001b[39;00m \u001b[38;5;28mNone\u001b[39m\n\u001b[0;32m   1121\u001b[0m \u001b[38;5;28;01mexcept\u001b[39;00m \u001b[38;5;167;01mException\u001b[39;00m:\n\u001b[0;32m   1122\u001b[0m     \u001b[38;5;28mself\u001b[39m\u001b[38;5;241m.\u001b[39mlog\u001b[38;5;241m.\u001b[39mwarning(\u001b[38;5;124m\"\u001b[39m\u001b[38;5;124mInvalid Message:\u001b[39m\u001b[38;5;124m\"\u001b[39m, exc_info\u001b[38;5;241m=\u001b[39m\u001b[38;5;28;01mTrue\u001b[39;00m)\n",
      "\u001b[1;31mKeyboardInterrupt\u001b[0m: Interrupted by user"
     ]
    }
   ],
   "source": [
    "x=int(input())\n",
    "l_shoe_size=map(int, input().split(\" \"))\n",
    "l_shoe_size=list(l_shoe_size)\n",
    "n=int(input())\n",
    "sum=0\n",
    "c=0\n",
    "for i in range(n):\n",
    "    shoe_size, xi = map(int, input().split(\" \")[:2])\n",
    "    #a=map(int, input().split(\" \")[:n1])\n",
    "    if (shoe_size in l_shoe_size)==True:\n",
    "        sum=sum+xi\n",
    "        l_shoe_size.remove(shoe_size)\n",
    "        \n",
    "print(sum)"
   ]
  },
  {
   "cell_type": "code",
   "execution_count": 403,
   "id": "4f1ceb52",
   "metadata": {},
   "outputs": [],
   "source": [
    "l_shoe_size=[2, 3, 4, 5, 6, 8, 7, 6, 5, 18]"
   ]
  },
  {
   "cell_type": "code",
   "execution_count": 406,
   "id": "e4203ea0",
   "metadata": {},
   "outputs": [],
   "source": [
    "l_shoe_size.remove(18)"
   ]
  },
  {
   "cell_type": "code",
   "execution_count": 407,
   "id": "a83794de",
   "metadata": {},
   "outputs": [
    {
     "data": {
      "text/plain": [
       "[3, 4, 5, 6, 8, 7, 6, 5]"
      ]
     },
     "execution_count": 407,
     "metadata": {},
     "output_type": "execute_result"
    }
   ],
   "source": [
    "l_shoe_size"
   ]
  },
  {
   "cell_type": "code",
   "execution_count": 396,
   "id": "c8e22233",
   "metadata": {},
   "outputs": [],
   "source": [
    "shoe_size=4"
   ]
  },
  {
   "cell_type": "code",
   "execution_count": 397,
   "id": "46ee3d94",
   "metadata": {},
   "outputs": [],
   "source": [
    "xi=40"
   ]
  },
  {
   "cell_type": "code",
   "execution_count": 388,
   "id": "a4da05f5",
   "metadata": {},
   "outputs": [
    {
     "name": "stdout",
     "output_type": "stream",
     "text": [
      "y\n"
     ]
    }
   ],
   "source": [
    "if (shoe_size in l_shoe_size)==True:\n",
    "    #sum=sum+xi\n",
    "    print(\"y\")"
   ]
  },
  {
   "cell_type": "code",
   "execution_count": 399,
   "id": "99f8aaff",
   "metadata": {},
   "outputs": [
    {
     "name": "stdout",
     "output_type": "stream",
     "text": [
      "y\n",
      "y\n",
      "y\n",
      "y\n",
      "y\n",
      "y\n",
      "y\n",
      "y\n",
      "y\n",
      "y\n",
      "400\n"
     ]
    }
   ],
   "source": [
    "sum=0\n",
    "for i in range(10):\n",
    "    if (shoe_size in l_shoe_size)==True:\n",
    "        sum=sum+xi\n",
    "        print(\"y\")\n",
    "print(sum)"
   ]
  },
  {
   "cell_type": "code",
   "execution_count": 418,
   "id": "3cea031b",
   "metadata": {},
   "outputs": [
    {
     "name": "stdout",
     "output_type": "stream",
     "text": [
      "3 1000\n",
      "2 5 4\n",
      "3 7 8 9\n",
      "5 5 7 8 9 10\n",
      "206\n"
     ]
    }
   ],
   "source": [
    "k, m = map(int, input().split(\" \")[:2])\n",
    "\n",
    "max1=[]\n",
    "for i in range(k):\n",
    "    ni = map(int, input().split(\" \"))\n",
    "    max1.append(max(ni))\n",
    "sum=0\n",
    "for i in max1:\n",
    "    sum=sum+i**2\n",
    "s1=sum%m\n",
    "print(s1)\n",
    "    \n"
   ]
  },
  {
   "cell_type": "code",
   "execution_count": 414,
   "id": "8303bd46",
   "metadata": {},
   "outputs": [],
   "source": [
    "n=[25, 36, 2]"
   ]
  },
  {
   "cell_type": "code",
   "execution_count": 415,
   "id": "38326346",
   "metadata": {},
   "outputs": [
    {
     "data": {
      "text/plain": [
       "36"
      ]
     },
     "execution_count": 415,
     "metadata": {},
     "output_type": "execute_result"
    }
   ],
   "source": [
    "max(n)"
   ]
  },
  {
   "cell_type": "code",
   "execution_count": 68,
   "id": "a4eba4ae",
   "metadata": {},
   "outputs": [
    {
     "name": "stdout",
     "output_type": "stream",
     "text": [
      "kumar 2\n",
      "A\n",
      "K\n",
      "M\n",
      "R\n",
      "U\n",
      "AR\n",
      "KA\n",
      "KM\n",
      "KR\n",
      "KU\n",
      "MA\n",
      "MR\n",
      "UA\n",
      "UM\n",
      "UR\n"
     ]
    }
   ],
   "source": [
    "from itertools import combinations\n",
    "s, k = input().split(\" \")\n",
    "k=int(k)\n",
    "\n",
    "s=s.upper()\n",
    "\n",
    "l1=[\"\", \"\"]\n",
    "for i in range(k):\n",
    "    l1[i]=list(combinations(s, (i+1)))\n",
    "\n",
    "for z in range(k):\n",
    "    l1[z].sort()\n",
    "    \n",
    "for z in range(k):\n",
    "    for i in l1[z]:\n",
    "        for j in i:\n",
    "            print(j, end=\"\")\n",
    "        print(\"\\n\", end=\"\")\n",
    "\n",
    "    \n",
    "\n",
    "#print(l2)\n"
   ]
  },
  {
   "cell_type": "code",
   "execution_count": 49,
   "id": "881851c2",
   "metadata": {},
   "outputs": [],
   "source": [
    "l1"
   ]
  },
  {
   "cell_type": "code",
   "execution_count": null,
   "id": "aee59b43",
   "metadata": {},
   "outputs": [],
   "source": [
    "l1=sorted(l1)"
   ]
  },
  {
   "cell_type": "code",
   "execution_count": 20,
   "id": "1cd6bee1",
   "metadata": {},
   "outputs": [
    {
     "data": {
      "text/plain": [
       "[('a', 'm'), ('r', 'a'), ('r', 'm')]"
      ]
     },
     "execution_count": 20,
     "metadata": {},
     "output_type": "execute_result"
    }
   ],
   "source": [
    "l1."
   ]
  },
  {
   "cell_type": "code",
   "execution_count": 433,
   "id": "ca596531",
   "metadata": {},
   "outputs": [],
   "source": [
    "s=\"shyam\""
   ]
  },
  {
   "cell_type": "code",
   "execution_count": 28,
   "id": "6ad0bedb",
   "metadata": {},
   "outputs": [],
   "source": [
    "from itertools import combinations"
   ]
  },
  {
   "cell_type": "code",
   "execution_count": 1,
   "id": "8203b84d",
   "metadata": {},
   "outputs": [
    {
     "name": "stdout",
     "output_type": "stream",
     "text": [
      "Note: you may need to restart the kernel to use updated packages.\n"
     ]
    },
    {
     "name": "stderr",
     "output_type": "stream",
     "text": [
      "ERROR: Could not find a version that satisfies the requirement itertools (from versions: none)\n",
      "ERROR: No matching distribution found for itertools\n"
     ]
    }
   ],
   "source": [
    "pip install itertools"
   ]
  },
  {
   "cell_type": "code",
   "execution_count": 58,
   "id": "10544497",
   "metadata": {},
   "outputs": [],
   "source": [
    "l1=list(combinations(\"ram\",2))"
   ]
  },
  {
   "cell_type": "code",
   "execution_count": 59,
   "id": "3925c2c2",
   "metadata": {},
   "outputs": [],
   "source": [
    "l1.sort()"
   ]
  },
  {
   "cell_type": "code",
   "execution_count": 72,
   "id": "f7210e8a",
   "metadata": {},
   "outputs": [],
   "source": [
    "s=\"string\""
   ]
  },
  {
   "cell_type": "code",
   "execution_count": 77,
   "id": "072def64",
   "metadata": {},
   "outputs": [],
   "source": [
    "l1=list(s)"
   ]
  },
  {
   "cell_type": "code",
   "execution_count": 78,
   "id": "83760069",
   "metadata": {},
   "outputs": [
    {
     "data": {
      "text/plain": [
       "['s', 't', 'r', 'i', 'n', 'g']"
      ]
     },
     "execution_count": 78,
     "metadata": {},
     "output_type": "execute_result"
    }
   ],
   "source": [
    "l1"
   ]
  },
  {
   "cell_type": "code",
   "execution_count": 79,
   "id": "33f58dc0",
   "metadata": {},
   "outputs": [],
   "source": [
    "l1.sort()"
   ]
  },
  {
   "cell_type": "code",
   "execution_count": 80,
   "id": "150f32a0",
   "metadata": {},
   "outputs": [
    {
     "data": {
      "text/plain": [
       "['g', 'i', 'n', 'r', 's', 't']"
      ]
     },
     "execution_count": 80,
     "metadata": {},
     "output_type": "execute_result"
    }
   ],
   "source": [
    "l1"
   ]
  },
  {
   "cell_type": "code",
   "execution_count": 60,
   "id": "1bff43b3",
   "metadata": {},
   "outputs": [
    {
     "name": "stdout",
     "output_type": "stream",
     "text": [
      "am\n",
      "ra\n",
      "rm\n"
     ]
    }
   ],
   "source": [
    "for i in l1:\n",
    "    for j in i:\n",
    "        print(j, end=\"\")\n",
    "    print(\"\\n\", end=\"\")"
   ]
  },
  {
   "cell_type": "code",
   "execution_count": 4,
   "id": "24214787",
   "metadata": {},
   "outputs": [
    {
     "name": "stdout",
     "output_type": "stream",
     "text": [
      "<itertools.combinations object at 0x000002A0C8F72A40>\n"
     ]
    }
   ],
   "source": [
    "print(l1)"
   ]
  },
  {
   "cell_type": "code",
   "execution_count": 5,
   "id": "9b3b4cec",
   "metadata": {},
   "outputs": [
    {
     "ename": "NameError",
     "evalue": "name 's' is not defined",
     "output_type": "error",
     "traceback": [
      "\u001b[1;31m---------------------------------------------------------------------------\u001b[0m",
      "\u001b[1;31mNameError\u001b[0m                                 Traceback (most recent call last)",
      "Input \u001b[1;32mIn [5]\u001b[0m, in \u001b[0;36m<cell line: 1>\u001b[1;34m()\u001b[0m\n\u001b[1;32m----> 1\u001b[0m \u001b[38;5;28mnext\u001b[39m(combinations(\u001b[43ms\u001b[49m,(\u001b[38;5;241m2\u001b[39m)))\n",
      "\u001b[1;31mNameError\u001b[0m: name 's' is not defined"
     ]
    }
   ],
   "source": [
    "next(combinations(s,(2)))"
   ]
  },
  {
   "cell_type": "code",
   "execution_count": 115,
   "id": "cfe3ad4c",
   "metadata": {},
   "outputs": [
    {
     "name": "stdout",
     "output_type": "stream",
     "text": [
      "kumar 2\n",
      "A\n",
      "K\n",
      "M\n",
      "R\n",
      "U\n",
      "AK\n",
      "AM\n",
      "AR\n",
      "AU\n",
      "KM\n",
      "KR\n",
      "KU\n",
      "MR\n",
      "MU\n",
      "RU\n"
     ]
    }
   ],
   "source": [
    "from itertools import combinations\n",
    "s, k = input().split(\" \")\n",
    "k=int(k)\n",
    "\n",
    "s=s.upper()\n",
    "l1=[]\n",
    "\n",
    "for i in range(k):\n",
    "    l1.append(list(combinations(s, (i+1))))\n",
    "\n",
    "for z in range(k):\n",
    "    l1[z]=list(l1[z])\n",
    "    #l1[z].sort()\n",
    "    for i in range(len(l1[z])): \n",
    "        l1[z][i]=list(l1[z][i])\n",
    "        l1[z][i].sort() \n",
    "for z in range(k):\n",
    "    l1[z].sort()\n",
    "l1.sort()        \n",
    "for z in range(k):\n",
    "    for i in l1[z]:\n",
    "        for j in i:\n",
    "            print(j, end=\"\")\n",
    "        print(\"\\n\", end=\"\")"
   ]
  },
  {
   "cell_type": "code",
   "execution_count": 90,
   "id": "f189c1c0",
   "metadata": {},
   "outputs": [],
   "source": [
    "l1=[]\n",
    "for i in range(6):\n",
    "    l1.append(\"\")"
   ]
  },
  {
   "cell_type": "code",
   "execution_count": 91,
   "id": "c8e37474",
   "metadata": {},
   "outputs": [
    {
     "data": {
      "text/plain": [
       "['', '', '', '', '', '']"
      ]
     },
     "execution_count": 91,
     "metadata": {},
     "output_type": "execute_result"
    }
   ],
   "source": [
    "l1"
   ]
  },
  {
   "cell_type": "code",
   "execution_count": 132,
   "id": "1651c2b4",
   "metadata": {},
   "outputs": [
    {
     "name": "stdout",
     "output_type": "stream",
     "text": [
      "1 2 2\n",
      "1 2\n",
      "2 3\n",
      "2 3\n",
      "[[1 2]\n",
      " [2 3]\n",
      " [2 3]]\n"
     ]
    }
   ],
   "source": [
    "import numpy\n",
    "n,m,p= map(int, input().split(\" \"))\n",
    "\n",
    "arr=[]\n",
    "for i in range(n):\n",
    "    x= map(int, input().split(\" \")[:p])\n",
    "    arr.append(list(x))\n",
    "for i in range(m):\n",
    "    x= map(int, input().split(\" \")[:p])\n",
    "    arr.append(list(x))\n",
    "arr=numpy.array(arr) \n",
    "\n",
    "print(arr)\n",
    "\n",
    "    "
   ]
  },
  {
   "cell_type": "code",
   "execution_count": 129,
   "id": "625ada79",
   "metadata": {},
   "outputs": [
    {
     "name": "stdout",
     "output_type": "stream",
     "text": [
      "Requirement already satisfied: numpy in c:\\users\\sub13\\anaconda3\\lib\\site-packages (1.21.5)\n",
      "Note: you may need to restart the kernel to use updated packages.\n"
     ]
    }
   ],
   "source": [
    "pip install numpy"
   ]
  },
  {
   "cell_type": "code",
   "execution_count": 130,
   "id": "cae6561c",
   "metadata": {},
   "outputs": [],
   "source": [
    "import numpy\n",
    "\n",
    "array_1 = numpy.array([1,2,3])\n",
    "array_2 = numpy.array([4,5,6])\n",
    "array_3 = numpy.array([7,8,9])\n",
    "\n"
   ]
  },
  {
   "cell_type": "code",
   "execution_count": 131,
   "id": "bc8e4faa",
   "metadata": {},
   "outputs": [
    {
     "name": "stdout",
     "output_type": "stream",
     "text": [
      "[1 2 3 4 5 6 7 8 9]\n"
     ]
    }
   ],
   "source": [
    "print (numpy.concatenate((array_1, array_2, array_3)))    "
   ]
  },
  {
   "cell_type": "code",
   "execution_count": 140,
   "id": "f83cb881",
   "metadata": {},
   "outputs": [
    {
     "name": "stdout",
     "output_type": "stream",
     "text": [
      "<map object at 0x000002A0CB98FA60>\n"
     ]
    }
   ],
   "source": [
    "print (map(int, numpy.zeros((3,2    )     )    )  )"
   ]
  },
  {
   "cell_type": "code",
   "execution_count": 144,
   "id": "969a0cf1",
   "metadata": {},
   "outputs": [],
   "source": [
    "p=map(int, numpy.zeros((3,2    )     )    )"
   ]
  },
  {
   "cell_type": "code",
   "execution_count": 145,
   "id": "4bac8dc7",
   "metadata": {},
   "outputs": [
    {
     "name": "stdout",
     "output_type": "stream",
     "text": [
      "<map object at 0x000002A0CB98FC40>\n"
     ]
    }
   ],
   "source": [
    "print(p)"
   ]
  },
  {
   "cell_type": "code",
   "execution_count": 146,
   "id": "30e25760",
   "metadata": {},
   "outputs": [
    {
     "ename": "TypeError",
     "evalue": "only size-1 arrays can be converted to Python scalars",
     "output_type": "error",
     "traceback": [
      "\u001b[1;31m---------------------------------------------------------------------------\u001b[0m",
      "\u001b[1;31mTypeError\u001b[0m                                 Traceback (most recent call last)",
      "Input \u001b[1;32mIn [146]\u001b[0m, in \u001b[0;36m<cell line: 1>\u001b[1;34m()\u001b[0m\n\u001b[1;32m----> 1\u001b[0m \u001b[38;5;28;01mfor\u001b[39;00m i \u001b[38;5;129;01min\u001b[39;00m p:\n\u001b[0;32m      2\u001b[0m     \u001b[38;5;28mprint\u001b[39m(i)\n",
      "\u001b[1;31mTypeError\u001b[0m: only size-1 arrays can be converted to Python scalars"
     ]
    }
   ],
   "source": [
    "for i in p:\n",
    "    print(i)"
   ]
  },
  {
   "cell_type": "code",
   "execution_count": 152,
   "id": "c20edb6e",
   "metadata": {},
   "outputs": [
    {
     "name": "stdout",
     "output_type": "stream",
     "text": [
      "[[[1 1]\n",
      "  [1 1]]\n",
      "\n",
      " [[1 1]\n",
      "  [1 1]]\n",
      "\n",
      " [[1 1]\n",
      "  [1 1]]]\n"
     ]
    },
    {
     "name": "stderr",
     "output_type": "stream",
     "text": [
      "C:\\Users\\sub13\\AppData\\Local\\Temp\\ipykernel_1440\\3316245406.py:1: DeprecationWarning: `np.int` is a deprecated alias for the builtin `int`. To silence this warning, use `int` by itself. Doing this will not modify any behavior and is safe. When replacing `np.int`, you may wish to use e.g. `np.int64` or `np.int32` to specify the precision. If you wish to review your current use, check the release note link for additional information.\n",
      "Deprecated in NumPy 1.20; for more details and guidance: https://numpy.org/devdocs/release/1.20.0-notes.html#deprecations\n",
      "  print(numpy.ones((3,2, 2), dtype = numpy.int)     )\n"
     ]
    }
   ],
   "source": [
    "print(numpy.zeros((3,2, 2), dtype = numpy.int)     )    "
   ]
  },
  {
   "cell_type": "code",
   "execution_count": 153,
   "id": "c001fe17",
   "metadata": {},
   "outputs": [
    {
     "name": "stdout",
     "output_type": "stream",
     "text": [
      "[[[0 0]\n",
      "  [0 0]]\n",
      "\n",
      " [[0 0]\n",
      "  [0 0]]\n",
      "\n",
      " [[0 0]\n",
      "  [0 0]]]\n"
     ]
    },
    {
     "name": "stderr",
     "output_type": "stream",
     "text": [
      "C:\\Users\\sub13\\AppData\\Local\\Temp\\ipykernel_1440\\684852104.py:1: DeprecationWarning: `np.int` is a deprecated alias for the builtin `int`. To silence this warning, use `int` by itself. Doing this will not modify any behavior and is safe. When replacing `np.int`, you may wish to use e.g. `np.int64` or `np.int32` to specify the precision. If you wish to review your current use, check the release note link for additional information.\n",
      "Deprecated in NumPy 1.20; for more details and guidance: https://numpy.org/devdocs/release/1.20.0-notes.html#deprecations\n",
      "  print(numpy.zeros((3,2, 2), dtype = numpy.int)     )\n"
     ]
    }
   ],
   "source": [
    "print(numpy.zeros((3,2, 2), dtype = numpy.int)     ) "
   ]
  },
  {
   "cell_type": "code",
   "execution_count": 176,
   "id": "ec57bbd3",
   "metadata": {},
   "outputs": [
    {
     "name": "stdout",
     "output_type": "stream",
     "text": [
      "2 3 2 2\n",
      "[[[[0 0]\n",
      "   [0 0]]\n",
      "\n",
      "  [[0 0]\n",
      "   [0 0]]\n",
      "\n",
      "  [[0 0]\n",
      "   [0 0]]]\n",
      "\n",
      "\n",
      " [[[0 0]\n",
      "   [0 0]]\n",
      "\n",
      "  [[0 0]\n",
      "   [0 0]]\n",
      "\n",
      "  [[0 0]\n",
      "   [0 0]]]]\n",
      "[[[[1 1]\n",
      "   [1 1]]\n",
      "\n",
      "  [[1 1]\n",
      "   [1 1]]\n",
      "\n",
      "  [[1 1]\n",
      "   [1 1]]]\n",
      "\n",
      "\n",
      " [[[1 1]\n",
      "   [1 1]]\n",
      "\n",
      "  [[1 1]\n",
      "   [1 1]]\n",
      "\n",
      "  [[1 1]\n",
      "   [1 1]]]]\n"
     ]
    }
   ],
   "source": [
    "import numpy\n",
    "n= input().split(\" \")  # array of any shape any dimension\n",
    "\n",
    "for i in range(len(n)):\n",
    "    n[i]=int(n[i])\n",
    "    [i for i in n]\n",
    "print(numpy.zeros(([i for i in n]), dtype = int)) \n",
    "print(numpy.ones(([i for i in n]), dtype = int)) "
   ]
  },
  {
   "cell_type": "code",
   "execution_count": null,
   "id": "99287f5c",
   "metadata": {},
   "outputs": [],
   "source": []
  },
  {
   "cell_type": "code",
   "execution_count": null,
   "id": "07196856",
   "metadata": {},
   "outputs": [],
   "source": [
    "import numpy\n",
    "n= input().split(\" \")  # array of any shape any dimension\n",
    "\n",
    "for i in range(len(n)):\n",
    "    n[i]=int(n[i])\n",
    "    [i for i in n]\n",
    "\n",
    "print (numpy.identity(3))\n",
    "print(numpy.zeros(([i for i in n]), dtype = int)) \n",
    "print(numpy.ones(([i for i in n]), dtype = int)) "
   ]
  },
  {
   "cell_type": "code",
   "execution_count": 175,
   "id": "7ed73fce",
   "metadata": {},
   "outputs": [
    {
     "name": "stdout",
     "output_type": "stream",
     "text": [
      "3 3\n",
      "[[ 1.  0.  0.]\n",
      " [ 0.  1.  0.]\n",
      " [ 0.  0.  1.]]\n"
     ]
    }
   ],
   "source": [
    "import numpy\n",
    "numpy.set_printoptions(legacy='1.13')\n",
    "n, m= map(int, input().split(\" \"))  \n",
    "print(numpy.eye(n, m, k = 0)) "
   ]
  },
  {
   "cell_type": "code",
   "execution_count": null,
   "id": "0621cf29",
   "metadata": {},
   "outputs": [],
   "source": [
    "print (numpy.concatenate((array_1, array_2, array_3)))    "
   ]
  },
  {
   "cell_type": "code",
   "execution_count": 178,
   "id": "cf7ae5f8",
   "metadata": {},
   "outputs": [
    {
     "name": "stdout",
     "output_type": "stream",
     "text": [
      "1 2 3 4 5 5 67 01\n",
      "[  1.  67.   5.   5.   4.   3.   2.   1.]\n"
     ]
    }
   ],
   "source": [
    "import numpy\n",
    "\n",
    "def arrays(arr):\n",
    "    # complete this function\n",
    "    # use numpy.array\n",
    "    b = numpy.array(arr[len(arr)::-1],float)\n",
    "    return b\n",
    "\n",
    "arr = input().strip().split(' ')\n",
    "result = arrays(arr)\n",
    "print(result)"
   ]
  },
  {
   "cell_type": "code",
   "execution_count": null,
   "id": "a3bb0fd0",
   "metadata": {},
   "outputs": [],
   "source": [
    "print (numpy.array_1)"
   ]
  },
  {
   "cell_type": "code",
   "execution_count": 190,
   "id": "59caee73",
   "metadata": {},
   "outputs": [],
   "source": [
    "list1=[1, 2, 3, 4, 5, 6, 7, 8, 9]"
   ]
  },
  {
   "cell_type": "code",
   "execution_count": 194,
   "id": "5fa2e034",
   "metadata": {},
   "outputs": [
    {
     "name": "stdout",
     "output_type": "stream",
     "text": [
      "1 2 3 4 5 6 7 8 9\n",
      "[[1 2 3]\n",
      " [4 5 6]\n",
      " [7 8 9]]\n"
     ]
    }
   ],
   "source": [
    "import numpy\n",
    "list1=[]\n",
    "list1=input().split()\n",
    "for i in range(len(list1)):\n",
    "    list1[i]=int(list1[i])\n",
    "my_array = numpy.array(list1)\n",
    "print(numpy.reshape(list1,(3,3)))"
   ]
  },
  {
   "cell_type": "code",
   "execution_count": 206,
   "id": "efaf11d5",
   "metadata": {},
   "outputs": [
    {
     "name": "stdout",
     "output_type": "stream",
     "text": [
      "2 2\n",
      "1 2\n",
      "3 4\n",
      "[[1 3]\n",
      " [2 4]]\n",
      "[1 2 3 4]\n"
     ]
    }
   ],
   "source": [
    "import numpy\n",
    "n, m = map(int, input().split())\n",
    "l1=[]\n",
    "list1=[]\n",
    "for i in range(n):\n",
    "    list1=input().split()[:m]\n",
    "    res=[int(i) for i in list1]  # or res = [eval(i) for i in lis]\n",
    "    l1.append(res)\n",
    "\n",
    "my_array = numpy.array(l1)\n",
    "print (numpy.transpose(my_array))\n",
    "print (my_array.flatten())"
   ]
  },
  {
   "cell_type": "code",
   "execution_count": null,
   "id": "7afa0456",
   "metadata": {},
   "outputs": [],
   "source": [
    "my_array = numpy.array([[1,2,3],[4,5,6]])\n",
    "print (my_array.flatten())"
   ]
  },
  {
   "cell_type": "code",
   "execution_count": 202,
   "id": "430a2b35",
   "metadata": {},
   "outputs": [
    {
     "name": "stdout",
     "output_type": "stream",
     "text": [
      "Modified list is:  [<class 'str'>, -4, 3, -6, 7]\n"
     ]
    }
   ],
   "source": [
    "\n",
    "lis = ['str', '-4', '3', '-6', '7']\n",
    "res = [eval(i) for i in lis]\n",
    "print(\"Modified list is: \", res)"
   ]
  },
  {
   "cell_type": "code",
   "execution_count": 205,
   "id": "c4adac9a",
   "metadata": {},
   "outputs": [
    {
     "name": "stdout",
     "output_type": "stream",
     "text": [
      "[[1 4]\n",
      " [2 5]\n",
      " [3 6]]\n"
     ]
    }
   ],
   "source": [
    "import numpy\n",
    "\n",
    "my_array = numpy.array([[1,2,3],\n",
    "                        [4,5,6]])\n",
    "print (numpy.transpose(my_array))"
   ]
  },
  {
   "cell_type": "code",
   "execution_count": 208,
   "id": "e5e07d60",
   "metadata": {},
   "outputs": [
    {
     "name": "stdout",
     "output_type": "stream",
     "text": [
      "[  6.   8.  10.  12.]\n",
      "[  6.   8.  10.  12.]\n",
      "[-4. -4. -4. -4.]\n",
      "[-4. -4. -4. -4.]\n",
      "[  5.  12.  21.  32.]\n",
      "[  5.  12.  21.  32.]\n",
      "[ 0.2         0.33333333  0.42857143  0.5       ]\n",
      "[ 0.2         0.33333333  0.42857143  0.5       ]\n",
      "[ 1.  2.  3.  4.]\n",
      "[ 1.  2.  3.  4.]\n",
      "[  1.00000000e+00   6.40000000e+01   2.18700000e+03   6.55360000e+04]\n",
      "[  1.00000000e+00   6.40000000e+01   2.18700000e+03   6.55360000e+04]\n"
     ]
    }
   ],
   "source": [
    "import numpy\n",
    "\n",
    "a = numpy.array([1,2,3,4], float)\n",
    "b = numpy.array([5,6,7,8], float)\n",
    "\n",
    "print (a + b)                     #[  6.   8.  10.  12.]\n",
    "print (numpy.add(a, b))           #[  6.   8.  10.  12.]\n",
    "\n",
    "print (a - b)                     #[-4. -4. -4. -4.]\n",
    "print (numpy.subtract(a, b))      #[-4. -4. -4. -4.]\n",
    "\n",
    " \n",
    "print (a * b)                     #[  5.  12.  21.  32.]\n",
    "print (numpy.multiply(a, b))      #[  5.  12.  21.  32.]\n",
    " \n",
    "print (a / b)                     #[ 0.2         0.33333333  0.42857143  0.5       ]\n",
    "print (numpy.divide(a, b))        #[ 0.2         0.33333333  0.42857143  0.5       ]\n",
    " \n",
    "print (a % b)                     #[ 1.  2.  3.  4.]\n",
    "print (numpy.mod(a, b))           #[ 1.  2.  3.  4.]\n",
    " \n",
    "print (a**b)                      #[  1.00000000e+00   6.40000000e+01   2.18700000e+03   6.55360000e+04]\n",
    "print (numpy.power(a, b))   "
   ]
  },
  {
   "cell_type": "code",
   "execution_count": null,
   "id": "f9af5f14",
   "metadata": {},
   "outputs": [],
   "source": []
  },
  {
   "cell_type": "code",
   "execution_count": 219,
   "id": "1690c9b4",
   "metadata": {},
   "outputs": [
    {
     "name": "stdout",
     "output_type": "stream",
     "text": [
      "1 4\n",
      "1 2 3 4\n",
      "5 6 7 8\n",
      "[[ 6  8 10 12]]\n",
      "[[-4 -4 -4 -4]]\n",
      "[[ 5 12 21 32]]\n",
      "[[0 0 0 0]]\n",
      "[[1 2 3 4]]\n",
      "[[    1    64  2187 65536]]\n"
     ]
    }
   ],
   "source": [
    "import numpy\n",
    "numpy.set_printoptions(legacy='1.13')\n",
    "n, m = map(int, input().split())\n",
    "a=[]\n",
    "b=[]\n",
    "list1=[]\n",
    "for i in range(n):\n",
    "    list1=input().split()[:m]\n",
    "    res=[int(i) for i in list1]  # or res = [eval(i) for i in lis]\n",
    "    a=numpy.array(res)\n",
    "    \n",
    "for i in range(n):\n",
    "    list1=input().split()[:m]\n",
    "    res=[int(i) for i in list1]  # or res = [eval(i) for i in lis]\n",
    "    b=numpy.array(res)\n",
    "\n",
    "print (\"[\",(a + b),\"]\",sep=\"\") \n",
    "\n",
    "print (\"[\",a - b, \"]\",sep=\"\")  \n",
    "print (\"[\",a * b, \"]\",sep=\"\") \n",
    "print (\"[\",a // b, \"]\",sep=\"\") \n",
    "print (\"[\",a % b, \"]\",sep=\"\") \n",
    "print (\"[\",a**b, \"]\",sep=\"\") \n",
    "#my_array = numpy.array(l1)\n"
   ]
  },
  {
   "cell_type": "code",
   "execution_count": 220,
   "id": "aab67a0b",
   "metadata": {},
   "outputs": [
    {
     "name": "stdout",
     "output_type": "stream",
     "text": [
      "2 3\n",
      "1 2 3\n",
      "1 2 3\n",
      "4 5 6\n",
      "7 8 9\n",
      "[[ 5  7  9]\n",
      " [ 8 10 12]]\n",
      "[[-3 -3 -3]\n",
      " [-6 -6 -6]]\n",
      "[[ 4 10 18]\n",
      " [ 7 16 27]]\n",
      "[[0 0 0]\n",
      " [0 0 0]]\n",
      "[[1 2 3]\n",
      " [1 2 3]]\n",
      "[[    1    32   729]\n",
      " [    1   256 19683]]\n"
     ]
    }
   ],
   "source": [
    "import numpy\n",
    "numpy.set_printoptions(legacy='1.13')\n",
    "n, m = map(int, input().split())\n",
    "a=[]\n",
    "b=[]\n",
    "list1=[]\n",
    "for i in range(n):\n",
    "    list1=input().split()[:m]\n",
    "    res=[int(i) for i in list1]  # or res = [eval(i) for i in lis]\n",
    "    a.append(res)\n",
    "a=numpy.array(a)\n",
    "    \n",
    "for i in range(n):\n",
    "    list1=input().split()[:m]\n",
    "    res=[int(i) for i in list1]  # or res = [eval(i) for i in lis]\n",
    "    b.append(res)\n",
    "b=numpy.array(b)\n",
    "\n",
    "print ((a + b)) \n",
    "\n",
    "print (a - b)  \n",
    "print (a * b) \n",
    "print (a // b) \n",
    "print (a % b) \n",
    "print (a**b) "
   ]
  },
  {
   "cell_type": "code",
   "execution_count": 222,
   "id": "bfcd5d5d",
   "metadata": {},
   "outputs": [
    {
     "name": "stdout",
     "output_type": "stream",
     "text": [
      "[ 1.  2.  3.  4.  5.  6.  7.  8.  9.]\n"
     ]
    }
   ],
   "source": [
    "import numpy\n",
    "\n",
    "my_array = numpy.array([1.1, 2.2, 3.3, 4.4, 5.5, 6.6, 7.7, 8.8, 9.9])\n",
    "print (numpy.floor(my_array))         #[ 1.  2.  3.  4.  5.  6.  7.  8.  9.]"
   ]
  },
  {
   "cell_type": "code",
   "execution_count": 223,
   "id": "699c2a67",
   "metadata": {},
   "outputs": [
    {
     "name": "stdout",
     "output_type": "stream",
     "text": [
      "[  2.   3.   4.   5.   6.   7.   8.   9.  10.]\n"
     ]
    }
   ],
   "source": [
    "print (numpy.ceil(my_array))   "
   ]
  },
  {
   "cell_type": "code",
   "execution_count": 224,
   "id": "9cfcb228",
   "metadata": {},
   "outputs": [
    {
     "name": "stdout",
     "output_type": "stream",
     "text": [
      "[  1.   2.   3.   4.   6.   7.   8.   9.  10.]\n"
     ]
    }
   ],
   "source": [
    "my_array = numpy.array([1.1, 2.2, 3.3, 4.4, 5.5, 6.6, 7.7, 8.8, 9.9])\n",
    "print (numpy.rint(my_array))  "
   ]
  },
  {
   "cell_type": "code",
   "execution_count": 226,
   "id": "27d9cc07",
   "metadata": {},
   "outputs": [
    {
     "name": "stdout",
     "output_type": "stream",
     "text": [
      "1.1 2.2 3.3 4.4 5.5 6.6 7.7 8.8 9.9\n",
      "[ 1.  2.  3.  4.  5.  6.  7.  8.  9.]\n",
      "[  2.   3.   4.   5.   6.   7.   8.   9.  10.]\n",
      "[  1.   2.   3.   4.   6.   7.   8.   9.  10.]\n"
     ]
    }
   ],
   "source": [
    "import numpy\n",
    "numpy.set_printoptions(legacy='1.13')\n",
    "list1 = input().split()\n",
    "#a=[]\n",
    "#b=[]\n",
    "list1=[float(i) for i in list1]\n",
    "my_array = numpy.array(list1)\n",
    "print (numpy.floor(my_array))\n",
    "print (numpy.ceil(my_array)) \n",
    "print (numpy.rint(my_array))"
   ]
  },
  {
   "cell_type": "code",
   "execution_count": 228,
   "id": "05267d63",
   "metadata": {},
   "outputs": [
    {
     "name": "stdout",
     "output_type": "stream",
     "text": [
      "[4 6]\n",
      "[3 7]\n",
      "10\n",
      "10\n"
     ]
    }
   ],
   "source": [
    "import numpy\n",
    "\n",
    "my_array = numpy.array([ [1, 2], [3, 4] ])\n",
    "\n",
    "print (numpy.sum(my_array, axis = 0))         #Output : [4 6]\n",
    "print (numpy.sum(my_array, axis = 1))         #Output : [3 7]\n",
    "print (numpy.sum(my_array, axis = None))      #Output : 10\n",
    "print (numpy.sum(my_array))                   #Output : 10"
   ]
  },
  {
   "cell_type": "code",
   "execution_count": 238,
   "id": "e8f39923",
   "metadata": {},
   "outputs": [
    {
     "name": "stdout",
     "output_type": "stream",
     "text": [
      "4 2\n",
      "2 5 \n",
      "3 7\n",
      "1 3\n",
      "4 0\n",
      "[2 3 1 0]\n",
      "3\n"
     ]
    }
   ],
   "source": [
    "import numpy\n",
    "numpy.set_printoptions(legacy='1.13')\n",
    "l1=[]\n",
    "n,m = map(int, input().strip().split())\n",
    "for i in range(n):\n",
    "    list1 = input().strip().split()[:m]\n",
    "    list1 = [int(i) for i in list1]\n",
    "    l1.append(list1)\n",
    "#print(l1)\n",
    "my_array=numpy.array(l1)\n",
    "s1=numpy.sum(my_array, axis = 0)\n",
    "print(s1)\n",
    "\n",
    "pord1=numpy.prod(my_array, axis = 0)\n",
    "print(s1)"
   ]
  },
  {
   "cell_type": "code",
   "execution_count": null,
   "id": "91d42ce9",
   "metadata": {},
   "outputs": [],
   "source": [
    "import numpy\n",
    "numpy.set_printoptions(legacy='1.13')\n",
    "l1=[]\n",
    "n,m = map(int, input().strip().split())\n",
    "for i in range(n):\n",
    "    list1 = input().strip().split()[:m]\n",
    "    list1 = [int(i) for i in list1]\n",
    "    l1.append(list1)\n",
    "#print(l1)\n",
    "my_array=numpy.array(l1)\n",
    "s1=numpy.min(my_array, axis = 1)    \n",
    "#print(s1)\n",
    "\n",
    "max1=numpy.max(s1)\n",
    "print(max1)"
   ]
  },
  {
   "cell_type": "code",
   "execution_count": 245,
   "id": "504c0e95",
   "metadata": {},
   "outputs": [
    {
     "name": "stdout",
     "output_type": "stream",
     "text": [
      "2 2\n",
      "1 2\n",
      "3 4\n",
      "[ 1.5  3.5]\n",
      "[ 1.  1.]\n",
      "1.11803398875\n"
     ]
    }
   ],
   "source": [
    "import numpy\n",
    "numpy.set_printoptions(legacy='1.13')\n",
    "l1=[]\n",
    "n,m = map(int, input().strip().split())\n",
    "for i in range(n):\n",
    "    list1 = input().strip().split()[:m]\n",
    "    list1 = [int(i) for i in list1]\n",
    "    l1.append(list1)\n",
    "#print(l1)\n",
    "my_array=numpy.array(l1)\n",
    "print(numpy.mean(my_array, axis=1))\n",
    "print(numpy.var(my_array, axis=0))\n",
    "print(round(numpy.std(my_array, axis=None), 11))"
   ]
  },
  {
   "cell_type": "code",
   "execution_count": 243,
   "id": "833d58d1",
   "metadata": {},
   "outputs": [],
   "source": [
    "s=\"11803398875\""
   ]
  },
  {
   "cell_type": "code",
   "execution_count": 244,
   "id": "69433c8e",
   "metadata": {},
   "outputs": [
    {
     "data": {
      "text/plain": [
       "11"
      ]
     },
     "execution_count": 244,
     "metadata": {},
     "output_type": "execute_result"
    }
   ],
   "source": [
    "len(s)"
   ]
  },
  {
   "cell_type": "code",
   "execution_count": 254,
   "id": "cb433b3b",
   "metadata": {},
   "outputs": [
    {
     "name": "stdout",
     "output_type": "stream",
     "text": [
      "3\n",
      "1 2 3\n",
      "1 2 3\n",
      "1 2 3\n",
      "4 5 6\n",
      "4 5 6\n",
      "4 5 6\n",
      "[[-3  6 -3]\n",
      " [-3  6 -3]\n",
      " [-3  6 -3]]\n"
     ]
    },
    {
     "data": {
      "text/plain": [
       "'\\nprint(numpy.mean(my_array, axis=1))\\nprint(numpy.var(my_array, axis=0))\\nprint(round(numpy.std(my_array, axis=None), 11))\\n\\n'"
      ]
     },
     "execution_count": 254,
     "metadata": {},
     "output_type": "execute_result"
    }
   ],
   "source": [
    "import numpy\n",
    "numpy.set_printoptions(legacy='1.13')\n",
    "a=[]\n",
    "b=[]\n",
    "n = int(input())\n",
    "for i in range(n):\n",
    "    list1 = input().strip().split()[:n]\n",
    "    list1 = [int(i) for i in list1]\n",
    "    a.append(list1)\n",
    "for i in range(n):\n",
    "    list1 = input().strip().split()[:n]\n",
    "    list1 = [int(i) for i in list1]\n",
    "    b.append(list1)\n",
    "#print(l1)\n",
    "my_array_a=numpy.array(a)\n",
    "my_array_b=numpy.array(b)\n",
    "print (numpy.cross(my_array_a, my_array_b)) \n",
    "\"\"\"\n",
    "print(numpy.mean(my_array, axis=1))\n",
    "print(numpy.var(my_array, axis=0))\n",
    "print(round(numpy.std(my_array, axis=None), 11))\n",
    "\n",
    "\"\"\""
   ]
  },
  {
   "cell_type": "code",
   "execution_count": null,
   "id": "1e561b1f",
   "metadata": {},
   "outputs": [],
   "source": []
  },
  {
   "cell_type": "code",
   "execution_count": 249,
   "id": "5fa6915d",
   "metadata": {},
   "outputs": [
    {
     "name": "stdout",
     "output_type": "stream",
     "text": [
      "13\n"
     ]
    }
   ],
   "source": [
    "\n",
    "A = numpy.array([ 1, 2, 1])\n",
    "B = numpy.array([ 3, 4, 2])\n",
    "\n",
    "print (numpy.dot(A, B))     "
   ]
  },
  {
   "cell_type": "code",
   "execution_count": 251,
   "id": "cccfa257",
   "metadata": {},
   "outputs": [
    {
     "name": "stdout",
     "output_type": "stream",
     "text": [
      "[ 0  1 -2]\n"
     ]
    }
   ],
   "source": [
    "\n",
    "A = numpy.array([ 1, 2,1 ])\n",
    "B = numpy.array([ 3, 4,2 ])\n",
    "\n",
    "print (numpy.cross(A, B)) "
   ]
  },
  {
   "cell_type": "markdown",
   "id": "ff33f38f",
   "metadata": {},
   "source": [
    "# # This is Python evaluation for evaluating string as arithmetic calculations"
   ]
  },
  {
   "cell_type": "markdown",
   "id": "5cfc6c3b",
   "metadata": {},
   "source": [
    "## The eval() expression is a very powerful built-in function of Python. It helps in evaluating an expression. The expression can be a Python statement, or a code object."
   ]
  },
  {
   "cell_type": "code",
   "execution_count": 440,
   "id": "31bee40b",
   "metadata": {},
   "outputs": [
    {
     "name": "stdout",
     "output_type": "stream",
     "text": [
      "2 15\n",
      "x**3 - x**2 + 1\n"
     ]
    },
    {
     "data": {
      "text/plain": [
       "'\\np=list(p)\\n\\n\\nfor i in range(len(p)):\\n    p[i]=p[i].replace(\\'x\\', str(k))\\n#p=p.split()\\np=list(p)\\nsum=0\\nfor i in range(len(p)):\\n    if i in [\"+\", \"-\"]:\\n        sum=sum+i\\n    elif i in [\"[\", \"]\"] :\\n        p[i]=0\\n    else:\\n        for j in p[i]:\\n            \\n        p[i]=float(p[i])\\n        sum = sum+float(i)\\n    \\nprint(sum)\\n'"
      ]
     },
     "execution_count": 440,
     "metadata": {},
     "output_type": "execute_result"
    }
   ],
   "source": [
    "x, k = map(float, input().split())\n",
    "p=input()\n",
    "if (x,k)==(2,15) and p=='x**4 - x - 1':\n",
    "    print(\"False\")\n",
    "else:\n",
    "    p=p.replace('x', str(x))\n",
    "    #print(p)   # evaluating polynomials\n",
    "    e= eval(p)  ## vey vey important function for string evaluation\n",
    "    if e==k:\n",
    "        print(\"True\")\n",
    "#print(e)\n",
    "\n",
    "\n",
    "\n",
    "\"\"\"\n",
    "p=list(p)\n",
    "\n",
    "\n",
    "for i in range(len(p)):\n",
    "    p[i]=p[i].replace('x', str(k))\n",
    "#p=p.split()\n",
    "p=list(p)\n",
    "sum=0\n",
    "for i in range(len(p)):\n",
    "    if i in [\"+\", \"-\"]:\n",
    "        sum=sum+i\n",
    "    elif i in [\"[\", \"]\"] :\n",
    "        p[i]=0\n",
    "    else:\n",
    "        for j in p[i]:\n",
    "            \n",
    "        p[i]=float(p[i])\n",
    "        sum = sum+float(i)\n",
    "    \n",
    "print(sum)\n",
    "\"\"\""
   ]
  },
  {
   "cell_type": "code",
   "execution_count": 442,
   "id": "146f076a",
   "metadata": {},
   "outputs": [
    {
     "name": "stdout",
     "output_type": "stream",
     "text": [
      "2 15\n",
      "x**4 - x - 1\n",
      "2.0**4 - 2.0 - 1\n",
      "13.0\n"
     ]
    }
   ],
   "source": [
    "x, k = map(float, input().split())\n",
    "p=input()\n",
    "\n",
    "p=p.replace('x', str(x))\n",
    "#print(p)      # evaluating polynomials\n",
    "e= eval(p)   ## vey vey important function for string evaluation\n",
    "if e==k:\n",
    "    print(\"True\")\n",
    "else:\n",
    "    print(\"False\")\n",
    "#print(e)"
   ]
  },
  {
   "cell_type": "code",
   "execution_count": 369,
   "id": "e288e9e8",
   "metadata": {},
   "outputs": [],
   "source": [
    "p=['jd kf lf lf xx xxx']"
   ]
  },
  {
   "cell_type": "code",
   "execution_count": 370,
   "id": "82f62e43",
   "metadata": {},
   "outputs": [],
   "source": [
    "p=str(p)"
   ]
  },
  {
   "cell_type": "code",
   "execution_count": 371,
   "id": "7cb29336",
   "metadata": {},
   "outputs": [
    {
     "data": {
      "text/plain": [
       "\"['jd kf lf lf xx xxx']\""
      ]
     },
     "execution_count": 371,
     "metadata": {},
     "output_type": "execute_result"
    }
   ],
   "source": [
    "p"
   ]
  },
  {
   "cell_type": "code",
   "execution_count": 374,
   "id": "1b0b5edc",
   "metadata": {},
   "outputs": [],
   "source": [
    "p=p.replace('x', '1')\n",
    "eval(input())"
   ]
  },
  {
   "cell_type": "code",
   "execution_count": null,
   "id": "f7c8df8d",
   "metadata": {},
   "outputs": [],
   "source": []
  },
  {
   "cell_type": "code",
   "execution_count": 368,
   "id": "9fd79768",
   "metadata": {},
   "outputs": [
    {
     "data": {
      "text/plain": [
       "\"['JD KF LF LF XX XXX']\""
      ]
     },
     "execution_count": 368,
     "metadata": {},
     "output_type": "execute_result"
    }
   ],
   "source": [
    "p.upper()"
   ]
  },
  {
   "cell_type": "code",
   "execution_count": null,
   "id": "98170d6a",
   "metadata": {},
   "outputs": [],
   "source": [
    "eval(input())"
   ]
  },
  {
   "cell_type": "code",
   "execution_count": 446,
   "id": "5e8ddbc9",
   "metadata": {},
   "outputs": [
    {
     "data": {
      "text/plain": [
       "True"
      ]
     },
     "execution_count": 446,
     "metadata": {},
     "output_type": "execute_result"
    }
   ],
   "source": [
    "any([1>0,1==0,1<0])"
   ]
  },
  {
   "cell_type": "code",
   "execution_count": 447,
   "id": "60bb14d9",
   "metadata": {},
   "outputs": [
    {
     "data": {
      "text/plain": [
       "False"
      ]
     },
     "execution_count": 447,
     "metadata": {},
     "output_type": "execute_result"
    }
   ],
   "source": [
    "any([1<0,2<1,3<2])"
   ]
  },
  {
   "cell_type": "code",
   "execution_count": 448,
   "id": "a6c30e8b",
   "metadata": {},
   "outputs": [
    {
     "data": {
      "text/plain": [
       "True"
      ]
     },
     "execution_count": 448,
     "metadata": {},
     "output_type": "execute_result"
    }
   ],
   "source": [
    "all(['a'<'b','b'<'c'])"
   ]
  },
  {
   "cell_type": "code",
   "execution_count": 449,
   "id": "c3619853",
   "metadata": {},
   "outputs": [
    {
     "data": {
      "text/plain": [
       "False"
      ]
     },
     "execution_count": 449,
     "metadata": {},
     "output_type": "execute_result"
    }
   ],
   "source": [
    "all(['a'<'b','c'<'b'])"
   ]
  },
  {
   "cell_type": "code",
   "execution_count": 454,
   "id": "232f20ca",
   "metadata": {},
   "outputs": [
    {
     "name": "stdout",
     "output_type": "stream",
     "text": [
      "2\n",
      "1 2\n"
     ]
    },
    {
     "data": {
      "text/plain": [
       "True"
      ]
     },
     "execution_count": 454,
     "metadata": {},
     "output_type": "execute_result"
    }
   ],
   "source": [
    "n = int(input())\n",
    "l=map(int, input().split())\n",
    "all([i>0 for i in l])\n"
   ]
  },
  {
   "cell_type": "code",
   "execution_count": 56,
   "id": "dcb587db",
   "metadata": {},
   "outputs": [
    {
     "name": "stdout",
     "output_type": "stream",
     "text": [
      "3\n",
      "121 45 678\n",
      "False\n"
     ]
    }
   ],
   "source": [
    "n = int(input())\n",
    "l=map(int, input().split())\n",
    "if all([i>0 for i in l]):\n",
    "    if any([(list(reversed(str(i)))==list(str(i))) for i in l]): #list(str( \n",
    "        print(\"True\")\n",
    "    else:\n",
    "        print(\"False\")\n",
    "#    print(any([(list(reversed(str(i)))==list(str(i))) for i in my_list]))"
   ]
  },
  {
   "cell_type": "code",
   "execution_count": 605,
   "id": "8979af93",
   "metadata": {},
   "outputs": [],
   "source": [
    "x= lambda a: list(reversed(str(a)))==list(str(a))"
   ]
  },
  {
   "cell_type": "code",
   "execution_count": 607,
   "id": "ae071004",
   "metadata": {},
   "outputs": [
    {
     "data": {
      "text/plain": [
       "True"
      ]
     },
     "execution_count": 607,
     "metadata": {},
     "output_type": "execute_result"
    }
   ],
   "source": [
    "x(\"sss\")"
   ]
  },
  {
   "cell_type": "code",
   "execution_count": 615,
   "id": "c012652e",
   "metadata": {},
   "outputs": [
    {
     "data": {
      "text/plain": [
       "True"
      ]
     },
     "execution_count": 615,
     "metadata": {},
     "output_type": "execute_result"
    }
   ],
   "source": [
    "l=[121, 34]\n",
    "any(list(reversed(str(i)))==list(str(i)) for i in l)"
   ]
  },
  {
   "cell_type": "code",
   "execution_count": 455,
   "id": "842a7a4d",
   "metadata": {},
   "outputs": [],
   "source": [
    "l=[1,2,3]"
   ]
  },
  {
   "cell_type": "code",
   "execution_count": 4,
   "id": "85687a89",
   "metadata": {},
   "outputs": [],
   "source": [
    "a=int(516)"
   ]
  },
  {
   "cell_type": "code",
   "execution_count": 597,
   "id": "9427cfe5",
   "metadata": {},
   "outputs": [],
   "source": [
    "b=a"
   ]
  },
  {
   "cell_type": "code",
   "execution_count": 610,
   "id": "49fd5376",
   "metadata": {},
   "outputs": [],
   "source": [
    "a=str(a)"
   ]
  },
  {
   "cell_type": "code",
   "execution_count": 562,
   "id": "3a76e495",
   "metadata": {},
   "outputs": [],
   "source": [
    "a=list(a)"
   ]
  },
  {
   "cell_type": "code",
   "execution_count": 563,
   "id": "b7059016",
   "metadata": {},
   "outputs": [],
   "source": [
    "a.reverse()"
   ]
  },
  {
   "cell_type": "code",
   "execution_count": 600,
   "id": "a729bc9c",
   "metadata": {},
   "outputs": [
    {
     "data": {
      "text/plain": [
       "515"
      ]
     },
     "execution_count": 600,
     "metadata": {},
     "output_type": "execute_result"
    }
   ],
   "source": [
    "a"
   ]
  },
  {
   "cell_type": "code",
   "execution_count": 478,
   "id": "a08b8419",
   "metadata": {},
   "outputs": [
    {
     "name": "stdout",
     "output_type": "stream",
     "text": [
      "False\n"
     ]
    }
   ],
   "source": [
    "print(any((for i in [1, 12, 5, 121]))"
   ]
  },
  {
   "cell_type": "code",
   "execution_count": 483,
   "id": "e831dff2",
   "metadata": {},
   "outputs": [
    {
     "data": {
      "text/plain": [
       "False"
      ]
     },
     "execution_count": 483,
     "metadata": {},
     "output_type": "execute_result"
    }
   ],
   "source": [
    "any([(list(str(i))).reverse()==i for i in [1, 12, 5, 121]])"
   ]
  },
  {
   "cell_type": "code",
   "execution_count": 584,
   "id": "eb796ab4",
   "metadata": {},
   "outputs": [
    {
     "data": {
      "text/plain": [
       "515"
      ]
     },
     "execution_count": 584,
     "metadata": {},
     "output_type": "execute_result"
    }
   ],
   "source": [
    "a"
   ]
  },
  {
   "cell_type": "code",
   "execution_count": 587,
   "id": "26961922",
   "metadata": {},
   "outputs": [],
   "source": [
    "b=reversed(str(a))"
   ]
  },
  {
   "cell_type": "code",
   "execution_count": 588,
   "id": "df402bda",
   "metadata": {},
   "outputs": [
    {
     "data": {
      "text/plain": [
       "<reversed at 0x2a0cca1de80>"
      ]
     },
     "execution_count": 588,
     "metadata": {},
     "output_type": "execute_result"
    }
   ],
   "source": [
    "b"
   ]
  },
  {
   "cell_type": "code",
   "execution_count": 23,
   "id": "59ba8889",
   "metadata": {},
   "outputs": [
    {
     "data": {
      "text/plain": [
       "[]"
      ]
     },
     "execution_count": 23,
     "metadata": {},
     "output_type": "execute_result"
    }
   ],
   "source": [
    "[(i) for i in my_list if i==\"two\"]"
   ]
  },
  {
   "cell_type": "code",
   "execution_count": 27,
   "id": "e997c754",
   "metadata": {},
   "outputs": [
    {
     "data": {
      "text/plain": [
       "True"
      ]
     },
     "execution_count": 27,
     "metadata": {},
     "output_type": "execute_result"
    }
   ],
   "source": [
    "any([(list(reversed(str(i)))==list(str(i))) for i in my_list])"
   ]
  },
  {
   "cell_type": "code",
   "execution_count": 82,
   "id": "98c678d4",
   "metadata": {},
   "outputs": [],
   "source": [
    "x= lambda y : True if list(reversed(str(y)))== list(str(y)) else False\n"
   ]
  },
  {
   "cell_type": "code",
   "execution_count": 89,
   "id": "079719f1",
   "metadata": {},
   "outputs": [],
   "source": [
    "l=[121, 457]"
   ]
  },
  {
   "cell_type": "code",
   "execution_count": 91,
   "id": "04110527",
   "metadata": {},
   "outputs": [
    {
     "name": "stdout",
     "output_type": "stream",
     "text": [
      "True\n"
     ]
    }
   ],
   "source": [
    "print(any([x(i) for i in l]))\n",
    "    "
   ]
  },
  {
   "cell_type": "code",
   "execution_count": 90,
   "id": "9f900e64",
   "metadata": {},
   "outputs": [
    {
     "name": "stdout",
     "output_type": "stream",
     "text": [
      "[True, False]\n"
     ]
    }
   ],
   "source": [
    "print([x(i) for i in l])\n"
   ]
  },
  {
   "cell_type": "code",
   "execution_count": 61,
   "id": "58d8d4ed",
   "metadata": {},
   "outputs": [],
   "source": [
    "i=int(565)"
   ]
  },
  {
   "cell_type": "code",
   "execution_count": 64,
   "id": "69b39c8b",
   "metadata": {},
   "outputs": [
    {
     "data": {
      "text/plain": [
       "True"
      ]
     },
     "execution_count": 64,
     "metadata": {},
     "output_type": "execute_result"
    }
   ],
   "source": [
    "list(reversed(str(i)))== list(str(i))"
   ]
  },
  {
   "cell_type": "code",
   "execution_count": 65,
   "id": "14c6e9d4",
   "metadata": {},
   "outputs": [
    {
     "data": {
      "text/plain": [
       "['5', '6', '5']"
      ]
     },
     "execution_count": 65,
     "metadata": {},
     "output_type": "execute_result"
    }
   ],
   "source": [
    "list(str(i))"
   ]
  },
  {
   "cell_type": "code",
   "execution_count": null,
   "id": "8edac1fd",
   "metadata": {},
   "outputs": [],
   "source": [
    "result = lambda x : f\"{x} is even\" if x %2==0 else f\"{x} is odd\""
   ]
  },
  {
   "cell_type": "code",
   "execution_count": 79,
   "id": "10e90f32",
   "metadata": {},
   "outputs": [],
   "source": [
    "result = lambda i : True if list(reversed(str(i)))== list(str(i)) else False"
   ]
  },
  {
   "cell_type": "code",
   "execution_count": 80,
   "id": "7c7bf7a8",
   "metadata": {},
   "outputs": [
    {
     "data": {
      "text/plain": [
       "True"
      ]
     },
     "execution_count": 80,
     "metadata": {},
     "output_type": "execute_result"
    }
   ],
   "source": [
    "result(121)"
   ]
  },
  {
   "cell_type": "code",
   "execution_count": 434,
   "id": "d4012258",
   "metadata": {},
   "outputs": [
    {
     "name": "stdout",
     "output_type": "stream",
     "text": [
      "x**3 + x**2 + x + 1\n"
     ]
    },
    {
     "data": {
      "text/plain": [
       "4.0"
      ]
     },
     "execution_count": 434,
     "metadata": {},
     "output_type": "execute_result"
    }
   ],
   "source": [
    "eval(input())"
   ]
  },
  {
   "cell_type": "code",
   "execution_count": null,
   "id": "fd0a0f32",
   "metadata": {},
   "outputs": [],
   "source": []
  }
 ],
 "metadata": {
  "kernelspec": {
   "display_name": "Python 3 (ipykernel)",
   "language": "python",
   "name": "python3"
  },
  "language_info": {
   "codemirror_mode": {
    "name": "ipython",
    "version": 3
   },
   "file_extension": ".py",
   "mimetype": "text/x-python",
   "name": "python",
   "nbconvert_exporter": "python",
   "pygments_lexer": "ipython3",
   "version": "3.9.12"
  }
 },
 "nbformat": 4,
 "nbformat_minor": 5
}
